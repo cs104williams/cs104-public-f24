{
 "cells": [
  {
   "cell_type": "markdown",
   "id": "77158255-72b2-4c81-806f-2e8eb395bb2f",
   "metadata": {},
   "source": [
    "# Midterm Review"
   ]
  },
  {
   "cell_type": "code",
   "execution_count": null,
   "id": "77a2012b-7a13-4dd4-bb0c-a03e03b8d65b",
   "metadata": {
    "tags": []
   },
   "outputs": [],
   "source": [
    "import numpy as np\n",
    "from datascience import *\n",
    "from cs104 import *\n",
    "%matplotlib inline"
   ]
  },
  {
   "cell_type": "markdown",
   "id": "4c5ee488-ffab-43fb-a106-25863c94d7dd",
   "metadata": {
    "tags": []
   },
   "source": [
    "## Converting between strings and ints."
   ]
  },
  {
   "cell_type": "code",
   "execution_count": null,
   "id": "675f22fa-825e-4ed4-af91-6099e8077a0b",
   "metadata": {
    "tags": []
   },
   "outputs": [],
   "source": [
    "# this is an error: can add a string and an int\n",
    "\"hello\" + 5"
   ]
  },
  {
   "cell_type": "code",
   "execution_count": null,
   "id": "6674a658-0fe8-467b-99d1-15db0cf94b42",
   "metadata": {
    "tags": []
   },
   "outputs": [],
   "source": [
    "# but we can convert an integer to a string with `str`:"
   ]
  },
  {
   "cell_type": "code",
   "execution_count": null,
   "id": "1c0403e8-43c4-4208-8a62-cc7ed7bede15",
   "metadata": {
    "tags": []
   },
   "outputs": [],
   "source": [
    "\"hello\" + str(5)"
   ]
  },
  {
   "cell_type": "code",
   "execution_count": null,
   "id": "3bf86144-ab3d-4a1f-9d54-bedabd151039",
   "metadata": {
    "tags": []
   },
   "outputs": [],
   "source": [
    "# and vice-versa.\n",
    "int(\"55\") + 5"
   ]
  },
  {
   "cell_type": "markdown",
   "id": "76bdaa13-2cff-4c8b-aaed-777151091e3f",
   "metadata": {
    "tags": []
   },
   "source": [
    "## Simulation and Loops"
   ]
  },
  {
   "cell_type": "markdown",
   "id": "1dbd4f05-847b-4c2e-8559-11f15cd048a8",
   "metadata": {},
   "source": [
    "This code is based on the sample question."
   ]
  },
  {
   "cell_type": "code",
   "execution_count": null,
   "id": "a9c958bd-29ca-4232-8b16-5a0f8deb6e5b",
   "metadata": {
    "tags": []
   },
   "outputs": [],
   "source": [
    "def within(x, y, z):\n",
    "    \"\"\"Returns true if z is within x distance of y.\"\"\"\n",
    "    return abs(z - y) < x"
   ]
  },
  {
   "cell_type": "code",
   "execution_count": null,
   "id": "f8144872-3f9e-4f19-a63b-fb46cfb57173",
   "metadata": {
    "tags": []
   },
   "outputs": [],
   "source": [
    "within(5, 0, 4)"
   ]
  },
  {
   "cell_type": "code",
   "execution_count": null,
   "id": "9f1b64b2-df21-46c6-82fe-ec07fe5d68a8",
   "metadata": {
    "tags": []
   },
   "outputs": [],
   "source": [
    "within(5, 0, -3)"
   ]
  },
  {
   "cell_type": "code",
   "execution_count": null,
   "id": "a8f21d82-14e9-44db-86af-cb2f13b9be03",
   "metadata": {
    "tags": []
   },
   "outputs": [],
   "source": [
    "within(5, 0, -5)"
   ]
  },
  {
   "cell_type": "markdown",
   "id": "c55be944-17db-4d83-b632-72e4652108b2",
   "metadata": {},
   "source": [
    "A simulation loop, where we run a given number of trials."
   ]
  },
  {
   "cell_type": "code",
   "execution_count": null,
   "id": "6e8a0544-f504-46f7-bae5-6381d0acd9bb",
   "metadata": {
    "tags": []
   },
   "outputs": [],
   "source": [
    "num_trials = 10000\n",
    "count = 0\n",
    "\n",
    "for i in np.arange(0, num_trials):\n",
    "    five_rolls = np.random.choice(dice, 5)\n",
    "    ave = np.mean(five_rolls)\n",
    "    if within(0.5, 3.5, ave):\n",
    "        count = count + 1\n",
    "        \n",
    "print(count / num_trials)"
   ]
  },
  {
   "cell_type": "markdown",
   "id": "5d1f1d70-7cb5-4f63-b554-bec558aec843",
   "metadata": {
    "tags": []
   },
   "source": [
    "Another loop, where we count the number of positive values in an array"
   ]
  },
  {
   "cell_type": "code",
   "execution_count": null,
   "id": "6e8c56aa-cc17-4240-a1bb-a1313d8831a8",
   "metadata": {
    "tags": []
   },
   "outputs": [],
   "source": [
    "def stay_positive(values):\n",
    "    count = 0\n",
    "    for value in values:\n",
    "        if value > 0:\n",
    "            count = count + 1\n",
    "    return count"
   ]
  },
  {
   "cell_type": "code",
   "execution_count": null,
   "id": "d1bb2449-e79c-422e-bdcd-d0c9152a52d0",
   "metadata": {
    "tags": []
   },
   "outputs": [],
   "source": [
    "stay_positive(make_array(1, -1, -2, 3, 4, 0))"
   ]
  },
  {
   "cell_type": "markdown",
   "id": "77d1485a-92ea-4da1-8fe2-db71f312d5ff",
   "metadata": {},
   "source": [
    "A variation where we **sum** the positive values in an array"
   ]
  },
  {
   "cell_type": "code",
   "execution_count": null,
   "id": "44d113f8-719d-4406-9d50-69829354c9bd",
   "metadata": {
    "tags": []
   },
   "outputs": [],
   "source": [
    "def get_positives(values):\n",
    "    count = 0\n",
    "    for value in values:\n",
    "        if value > 0:\n",
    "            count = count + value\n",
    "    return count"
   ]
  },
  {
   "cell_type": "code",
   "execution_count": null,
   "id": "aadf8b96-8f61-482f-bac2-1e07680181b2",
   "metadata": {
    "tags": []
   },
   "outputs": [],
   "source": [
    "get_positives(make_array(1, -1, -2, 3, 4, 0))"
   ]
  },
  {
   "cell_type": "markdown",
   "id": "d923846e-8a88-4e89-8c43-78d86a8cb661",
   "metadata": {},
   "source": [
    "Another variation where we return an array of the positive values."
   ]
  },
  {
   "cell_type": "code",
   "execution_count": null,
   "id": "8ef100b2-13e0-4537-96c1-8a939ee08a3c",
   "metadata": {
    "tags": []
   },
   "outputs": [],
   "source": [
    "def all_positives(values):\n",
    "    positives = make_array()\n",
    "    for value in values:\n",
    "        if value > 0:\n",
    "            positives = np.append(positives, value)\n",
    "    return positives"
   ]
  },
  {
   "cell_type": "code",
   "execution_count": null,
   "id": "080b8e83-bd9d-4831-a2af-6744ef0b8594",
   "metadata": {
    "tags": []
   },
   "outputs": [],
   "source": [
    "all_positives(make_array(1, -1, -2, 3, 4, 0))"
   ]
  },
  {
   "cell_type": "code",
   "execution_count": null,
   "id": "b12599af-ec85-4923-8e37-a4d0d71342bc",
   "metadata": {
    "tags": []
   },
   "outputs": [],
   "source": [
    "## Group and Pivot"
   ]
  },
  {
   "cell_type": "code",
   "execution_count": null,
   "id": "441a6025-9cb0-44ed-83b8-ed22bf3f3f1c",
   "metadata": {
    "tags": []
   },
   "outputs": [],
   "source": [
    "cones = Table().read_table(\"data/cones.csv\")"
   ]
  },
  {
   "cell_type": "code",
   "execution_count": null,
   "id": "0c37224c-443f-4da8-994b-8e9d3a8a3533",
   "metadata": {
    "tags": []
   },
   "outputs": [],
   "source": [
    "cones.show()"
   ]
  },
  {
   "cell_type": "code",
   "execution_count": null,
   "id": "1ba0302b-0637-460f-a9c7-d179e667f8e7",
   "metadata": {
    "tags": []
   },
   "outputs": [],
   "source": [
    "# Count the number of occurrences of each color\n",
    "cones.group(\"Color\")"
   ]
  },
  {
   "cell_type": "code",
   "execution_count": null,
   "id": "e407a9aa-dac0-47ee-b3fb-70fa0c9a102e",
   "metadata": {
    "tags": []
   },
   "outputs": [],
   "source": [
    "# Sum up the numerical columns for each color\n",
    "cones.group(\"Color\", sum)"
   ]
  },
  {
   "cell_type": "markdown",
   "id": "114512b9-c55a-48c4-991a-14e31c043e79",
   "metadata": {},
   "source": [
    "Pivot also groups, this time by 2 categorical variables"
   ]
  },
  {
   "cell_type": "code",
   "execution_count": null,
   "id": "ac022327-b3ab-4976-96f6-a48aa3fb5e93",
   "metadata": {
    "tags": []
   },
   "outputs": [],
   "source": [
    "cones.pivot('Color', 'Flavor')"
   ]
  },
  {
   "cell_type": "markdown",
   "id": "c040b9fa-5aca-4858-b492-4f4c71472266",
   "metadata": {},
   "source": [
    "We can count, as above, or aggregate a numerical column, like this:"
   ]
  },
  {
   "cell_type": "code",
   "execution_count": null,
   "id": "e856bc65-2403-41e3-8f23-afc2415cb641",
   "metadata": {
    "tags": []
   },
   "outputs": [],
   "source": [
    "cones.pivot('Color', 'Flavor', \"Price\", max)"
   ]
  },
  {
   "cell_type": "code",
   "execution_count": null,
   "id": "14610fda-241e-415e-ab90-bb5864086c90",
   "metadata": {},
   "outputs": [],
   "source": []
  }
 ],
 "metadata": {
  "kernelspec": {
   "display_name": "Python 3 (ipykernel)",
   "language": "python",
   "name": "python3"
  },
  "language_info": {
   "codemirror_mode": {
    "name": "ipython",
    "version": 3
   },
   "file_extension": ".py",
   "mimetype": "text/x-python",
   "name": "python",
   "nbconvert_exporter": "python",
   "pygments_lexer": "ipython3",
   "version": "3.9.19"
  }
 },
 "nbformat": 4,
 "nbformat_minor": 5
}
