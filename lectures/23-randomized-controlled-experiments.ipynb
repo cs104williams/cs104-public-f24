{
 "cells": [
  {
   "cell_type": "markdown",
   "metadata": {},
   "source": [
    "# Randomized Controlled Experiments"
   ]
  },
  {
   "cell_type": "code",
   "execution_count": null,
   "metadata": {
    "tags": []
   },
   "outputs": [],
   "source": [
    "from datascience import *\n",
    "from cs104 import *\n",
    "import numpy as np\n",
    "%matplotlib inline"
   ]
  },
  {
   "cell_type": "markdown",
   "metadata": {},
   "source": [
    "## 1. Warm-up Permutation Test"
   ]
  },
  {
   "cell_type": "code",
   "execution_count": null,
   "metadata": {
    "tags": []
   },
   "outputs": [],
   "source": [
    "survey = Table().read_table('data/prelab01-survey-fall2024.csv')\n",
    "survey = survey.where('Left or Right Handed', are.not_equal_to('Ambidextrous'))\n",
    "survey"
   ]
  },
  {
   "cell_type": "code",
   "execution_count": null,
   "metadata": {
    "tags": []
   },
   "outputs": [],
   "source": [
    "survey.group('Left or Right Handed')"
   ]
  },
  {
   "cell_type": "code",
   "execution_count": null,
   "metadata": {
    "tags": []
   },
   "outputs": [],
   "source": [
    "observed = abs_difference_of_means(survey, 'Left or Right Handed', 'Height (in inches)')\n",
    "observed"
   ]
  },
  {
   "cell_type": "markdown",
   "metadata": {},
   "source": [
    "Is the height difference significant?"
   ]
  },
  {
   "cell_type": "code",
   "execution_count": null,
   "metadata": {
    "tags": []
   },
   "outputs": [],
   "source": [
    "results = simulate_permutation_statistic(survey, 'Left or Right Handed', 'Height (in inches)', 5000)"
   ]
  },
  {
   "cell_type": "code",
   "execution_count": null,
   "metadata": {
    "tags": []
   },
   "outputs": [],
   "source": [
    "plot = Table().with_columns('abs_difference_of_means', results).hist(left_end=observed)\n",
    "plot.set_title('Null hypothesis empirical distibution')\n",
    "plot.dot(observed)"
   ]
  },
  {
   "cell_type": "code",
   "execution_count": null,
   "metadata": {
    "tags": []
   },
   "outputs": [],
   "source": [
    "p_value = empirical_pvalue(results, observed)\n",
    "p_value"
   ]
  },
  {
   "cell_type": "markdown",
   "metadata": {},
   "source": [
    "## 2. Randomized Controlled Experiment with BTA"
   ]
  },
  {
   "cell_type": "code",
   "execution_count": null,
   "metadata": {
    "tags": []
   },
   "outputs": [],
   "source": [
    "rct = Table.read_table('data/bta.csv')\n",
    "rct.sample(10)"
   ]
  },
  {
   "cell_type": "code",
   "execution_count": null,
   "metadata": {
    "tags": []
   },
   "outputs": [],
   "source": [
    "rct.group('Group')"
   ]
  },
  {
   "cell_type": "code",
   "execution_count": null,
   "metadata": {
    "tags": []
   },
   "outputs": [],
   "source": [
    "rct.pivot('Result', 'Group')"
   ]
  },
  {
   "cell_type": "code",
   "execution_count": null,
   "metadata": {
    "tags": []
   },
   "outputs": [],
   "source": [
    "rct.group('Group', np.mean)"
   ]
  },
  {
   "cell_type": "markdown",
   "metadata": {},
   "source": [
    "### Permutation Testing"
   ]
  },
  {
   "cell_type": "code",
   "execution_count": null,
   "metadata": {
    "tags": []
   },
   "outputs": [],
   "source": [
    "observed_statistic = abs_difference_of_means(rct, 'Group', 'Result')\n",
    "observed_statistic"
   ]
  },
  {
   "cell_type": "code",
   "execution_count": null,
   "metadata": {
    "tags": []
   },
   "outputs": [],
   "source": [
    "type(observed_statistic)"
   ]
  },
  {
   "cell_type": "code",
   "execution_count": null,
   "metadata": {
    "tags": []
   },
   "outputs": [],
   "source": [
    "results = simulate_permutation_statistic(rct, 'Group', 'Result', 2000)"
   ]
  },
  {
   "cell_type": "code",
   "execution_count": null,
   "metadata": {
    "tags": []
   },
   "outputs": [],
   "source": [
    "plot = Table().with_columns('Abs Difference in Relief Proportions', results).hist(bins=np.arange(0,0.9,1/16))\n",
    "plot.set_title('Null hypothesis empirical distibution')\n",
    "plot.dot(observed_statistic)"
   ]
  },
  {
   "cell_type": "code",
   "execution_count": null,
   "metadata": {
    "tags": []
   },
   "outputs": [],
   "source": [
    "p_value = empirical_pvalue(results, observed_statistic)\n",
    "p_value"
   ]
  },
  {
   "cell_type": "markdown",
   "metadata": {},
   "source": [
    "## 3. Sample Size, Effect Size, and P-values"
   ]
  },
  {
   "cell_type": "markdown",
   "metadata": {},
   "source": [
    "What's the relationship between effect size, sample size, and p-value?"
   ]
  },
  {
   "cell_type": "code",
   "execution_count": null,
   "metadata": {
    "tags": []
   },
   "outputs": [],
   "source": [
    "\n",
    "def back_pain_exploration(observed_sample_size, treatment_prop_effective, control_prop_effective): \n",
    "    \"\"\"Don't worry about this code -- it's just to visualize size/effect/p-values.\"\"\"\n",
    "    # Split sample into half treated and half control \n",
    "    num_treated = int(np.floor(observed_sample_size/2))\n",
    "    num_control = observed_sample_size - num_treated\n",
    "    \n",
    "    # Make table of data \n",
    "    group = [\"Treatment\"]*num_treated + [\"Control\"]*num_control \n",
    "    treat1 = int(np.floor(treatment_prop_effective*num_treated))\n",
    "    treat0 = num_treated - treat1\n",
    "    control1 = int(np.floor(control_prop_effective*num_control))\n",
    "    control0= num_control - control1\n",
    "    result = [1]*treat1 + [0]*treat0 + [1]*control1 + [0]*control0\n",
    "    rct_fake = Table().with_columns(\"Group\", group, \"Result\", result)\n",
    "    \n",
    "    #Calculate and plot results\n",
    "    observed_statistic = abs_difference_of_means(rct_fake, 'Group', 'Result')\n",
    "    results = simulate_permutation_statistic(rct_fake, 'Group', 'Result', 1000)\n",
    "    pvalue = empirical_pvalue(results, observed_statistic)\n",
    "    plot = Table().with_columns('Statistic: Abs difference in relief proportions', results).hist(bins=np.arange(0,0.8,1/16),left_end=observed_statistic)\n",
    "    plot.set_title('Sample size=' + str(observed_sample_size) + '\\nObserved statistic=' + str(np.round(observed_statistic,2)) + '\\np-value='+str(pvalue))\n",
    "    plot.dot(observed_statistic)  "
   ]
  },
  {
   "cell_type": "markdown",
   "metadata": {},
   "source": [
    "What we had before. "
   ]
  },
  {
   "cell_type": "code",
   "execution_count": null,
   "metadata": {
    "tags": []
   },
   "outputs": [],
   "source": [
    "back_pain_exploration(31, 0.6, 0.125)    "
   ]
  },
  {
   "cell_type": "markdown",
   "metadata": {},
   "source": [
    "What if the effect size was slightly smaller? What if the sample size was bigger? "
   ]
  },
  {
   "cell_type": "code",
   "execution_count": null,
   "metadata": {
    "tags": []
   },
   "outputs": [],
   "source": [
    "with Figure(1,3,figsize=(5,4)):\n",
    "    back_pain_exploration(31, 0.6, 0.125)    \n",
    "    back_pain_exploration(31, 0.5, 0.15)\n",
    "    back_pain_exploration(51, 0.5, 0.15)"
   ]
  },
  {
   "cell_type": "markdown",
   "metadata": {},
   "source": [
    "Let's look at all these relationships at once! "
   ]
  },
  {
   "cell_type": "code",
   "execution_count": null,
   "metadata": {
    "tags": []
   },
   "outputs": [],
   "source": [
    "\n",
    "interact(back_pain_exploration, \n",
    "         observed_sample_size=Slider(10, 100, 1), \n",
    "         treatment_prop_effective=Slider(0.05, 0.95, 0.01),\n",
    "         control_prop_effective=Slider(0.05, 0.95, 0.01))"
   ]
  }
 ],
 "metadata": {
  "kernelspec": {
   "display_name": "Python 3 (ipykernel)",
   "language": "python",
   "name": "python3"
  },
  "language_info": {
   "codemirror_mode": {
    "name": "ipython",
    "version": 3
   },
   "file_extension": ".py",
   "mimetype": "text/x-python",
   "name": "python",
   "nbconvert_exporter": "python",
   "pygments_lexer": "ipython3",
   "version": "3.9.19"
  }
 },
 "nbformat": 4,
 "nbformat_minor": 4
}
