{
 "cells": [
  {
   "cell_type": "markdown",
   "metadata": {},
   "source": [
    "# Interpreting Confidence Intervals"
   ]
  },
  {
   "cell_type": "code",
   "execution_count": null,
   "metadata": {
    "tags": []
   },
   "outputs": [],
   "source": [
    "from datascience import *\n",
    "from cs104 import *\n",
    "import numpy as np\n",
    "%matplotlib inline"
   ]
  },
  {
   "cell_type": "markdown",
   "metadata": {},
   "source": [
    "## 1. Caffeine Experiment"
   ]
  },
  {
   "cell_type": "markdown",
   "metadata": {},
   "source": [
    "Let's load a table of (fake) data for this experiment.\n",
    "\n",
    "This has the results for the number of words recalled from a list before and after taking caffeine as well as the difference for every student. "
   ]
  },
  {
   "cell_type": "code",
   "execution_count": null,
   "metadata": {
    "tags": []
   },
   "outputs": [],
   "source": [
    "caffeine = Table().read_table(\"data/caffeine.csv\")"
   ]
  },
  {
   "cell_type": "code",
   "execution_count": null,
   "metadata": {
    "tags": []
   },
   "outputs": [],
   "source": [
    "caffeine.show(5)"
   ]
  },
  {
   "cell_type": "code",
   "execution_count": null,
   "metadata": {
    "tags": []
   },
   "outputs": [],
   "source": [
    "print(\"Sample size =\", caffeine.num_rows)"
   ]
  },
  {
   "cell_type": "code",
   "execution_count": null,
   "metadata": {
    "tags": []
   },
   "outputs": [],
   "source": [
    "diff_array = caffeine.column(\"Difference\")"
   ]
  },
  {
   "cell_type": "markdown",
   "metadata": {},
   "source": [
    "Let's use the mean difference between post-test and pre-test in our sample as our estimate for our population parameter. "
   ]
  },
  {
   "cell_type": "code",
   "execution_count": null,
   "metadata": {
    "tags": []
   },
   "outputs": [],
   "source": [
    "effect = np.mean(diff_array)\n",
    "print(\"Caffeine Effect (Mean difference in the sample) = \", effect)"
   ]
  },
  {
   "cell_type": "markdown",
   "metadata": {},
   "source": [
    "Ok! It's positive so maybe caffeine works... "
   ]
  },
  {
   "cell_type": "markdown",
   "metadata": {},
   "source": [
    "Hmmmm... we know this is just an estimate from one sample. Let's create a confidence interval--a range of estimates that can express our confidence in making this estimate from a sample. \n",
    "\n",
    "Let's use **boostrapping and the percentile method** to create a 95\\% confidence interval. "
   ]
  },
  {
   "cell_type": "code",
   "execution_count": null,
   "metadata": {
    "tags": []
   },
   "outputs": [],
   "source": [
    "results = bootstrap_statistic(diff_array, np.mean, 10000)"
   ]
  },
  {
   "cell_type": "code",
   "execution_count": null,
   "metadata": {
    "tags": []
   },
   "outputs": [],
   "source": [
    "ci_interval = confidence_interval(95, results)\n",
    "print(\"95% confidence interval = \", ci_interval)"
   ]
  },
  {
   "cell_type": "code",
   "execution_count": null,
   "metadata": {
    "tags": []
   },
   "outputs": [],
   "source": [
    "table = Table().with_columns(\"Caffeine Effects (Mean Difference)\", \n",
    "                             results)\n",
    "plot = table.hist(\"Caffeine Effects (Mean Difference)\", bins = np.arange(-2,7,0.5))\n",
    "plot.set_title(\"Bootstrap 10000 Times \\n Sample Size=\"+str(caffeine.num_rows))\n",
    "plot.interval(ci_interval)\n",
    "plot.dot(effect)"
   ]
  },
  {
   "cell_type": "markdown",
   "metadata": {},
   "source": [
    "## 2. Variables Influencing CIs"
   ]
  },
  {
   "cell_type": "markdown",
   "metadata": {},
   "source": [
    "Many factors can influence the width of our confidence intervals, including the desired level of confidence in our process, the sample size, and the variability of the data in our sample.  The following function allows you to manipulate all three variables to see their effects."
   ]
  },
  {
   "cell_type": "code",
   "execution_count": null,
   "metadata": {
    "tags": []
   },
   "outputs": [],
   "source": [
    "\n",
    "def caffeine_bootstrap(sample_size, variability, ci_level):\n",
    "    \"\"\"\n",
    "    A function that helps us visualize how our estimation is affected by \n",
    "    various variables, including sample size, variability, ci level.\n",
    "    \"\"\"\n",
    "    # Create some fake data\n",
    "    rng = np.random.default_rng(0)\n",
    "    diff_array = np.round(rng.normal(2.4, variability, sample_size))\n",
    "    \n",
    "    # Our sample statistic\n",
    "    observed_effect = np.mean(diff_array)\n",
    "\n",
    "    # Estimate effect\n",
    "    np.random.seed(0)\n",
    "    results = bootstrap_statistic(diff_array, np.mean, 10000)\n",
    "    ci_interval = confidence_interval(ci_level, results)\n",
    "    \n",
    "    # Show results\n",
    "    table = Table().with_columns(\"Caffeine Effects (Mean Difference)\", results)\n",
    "    plot = table.hist(\"Caffeine Effects (Mean Difference)\", bins = np.arange(-2,7,0.5))\n",
    "    ci_string = \"[\" + str(np.round(ci_interval.item(0), 2)) + \",\" + str(np.round(ci_interval.item(1), 2)) + \"]\"\n",
    "    plot.set_title(str(ci_level) + \"% Confidence Interval: \" + ci_string + \"\\nSample Size=\"+str(sample_size))\n",
    "    plot.interval(ci_interval)\n",
    "    plot.dot(observed_effect)    "
   ]
  },
  {
   "cell_type": "code",
   "execution_count": null,
   "metadata": {
    "tags": []
   },
   "outputs": [],
   "source": [
    "\n",
    "interact(caffeine_bootstrap, \n",
    "         sample_size = Slider(40,150,10),\n",
    "         variability = Slider(0,10),\n",
    "         ci_level = Slider(1,100))"
   ]
  },
  {
   "cell_type": "markdown",
   "metadata": {},
   "source": [
    "### Confidence Level"
   ]
  },
  {
   "cell_type": "markdown",
   "metadata": {},
   "source": [
    "Decreasing our confidence level produces a narrower confidence interval, but we have less confidence that our process will produce an interval containing the true parameter.\n"
   ]
  },
  {
   "cell_type": "code",
   "execution_count": null,
   "metadata": {
    "tags": []
   },
   "outputs": [],
   "source": [
    "with Figure(2,1,figsize=(5,4)):\n",
    "    caffeine_bootstrap(40, 10, 95)\n",
    "    caffeine_bootstrap(40, 10, 50)"
   ]
  },
  {
   "cell_type": "markdown",
   "metadata": {},
   "source": [
    "### Sample Size"
   ]
  },
  {
   "cell_type": "markdown",
   "metadata": {},
   "source": [
    "Inreasing the sample size produces a narrower confidence interval with same confidence that our process will produce an interval containing the true parameter.\n"
   ]
  },
  {
   "cell_type": "code",
   "execution_count": null,
   "metadata": {
    "tags": []
   },
   "outputs": [],
   "source": [
    "with Figure(2,1,figsize=(5,4)):\n",
    "    caffeine_bootstrap(40, 10, 95)\n",
    "    caffeine_bootstrap(80, 10, 95)"
   ]
  },
  {
   "cell_type": "markdown",
   "metadata": {},
   "source": [
    "### Variability"
   ]
  },
  {
   "cell_type": "markdown",
   "metadata": {},
   "source": [
    "Reduced variability in our sample also leads to narrower confidence intervals, \n",
    "but this is dependent on the sample and not under our control."
   ]
  },
  {
   "cell_type": "code",
   "execution_count": null,
   "metadata": {
    "tags": []
   },
   "outputs": [],
   "source": [
    "def caffeine_sample(sample_size, variability):\n",
    "    rng = np.random.default_rng(2)\n",
    "    diff_array = np.round(rng.normal(2.4, variability, sample_size))\n",
    "    observed_effect = np.mean(diff_array)\n",
    "    table = Table().with_columns(\"Difference\", diff_array)\n",
    "    plot = table.hist(\"Difference\", bins=np.arange(-25,25,5))\n",
    "    plot.set_title(\"Caffeine Effects\\nSample Size=\"+str(sample_size))\n",
    "    plot.dot(observed_effect)    \n",
    "    plot.set_xlim(-25,25)"
   ]
  },
  {
   "cell_type": "markdown",
   "metadata": {},
   "source": [
    "#### High variability"
   ]
  },
  {
   "cell_type": "code",
   "execution_count": null,
   "metadata": {
    "tags": []
   },
   "outputs": [],
   "source": [
    "with Figure(1,2,figsize=(5,4)):\n",
    "    caffeine_sample(40,10)\n",
    "    caffeine_bootstrap(40, 10, 95)"
   ]
  },
  {
   "cell_type": "markdown",
   "metadata": {},
   "source": [
    "#### Low variability"
   ]
  },
  {
   "cell_type": "code",
   "execution_count": null,
   "metadata": {
    "tags": []
   },
   "outputs": [],
   "source": [
    "with Figure(1,2,figsize=(5,4)):\n",
    "    caffeine_sample(40,5)\n",
    "    caffeine_bootstrap(40, 5, 95)"
   ]
  }
 ],
 "metadata": {
  "kernelspec": {
   "display_name": "Python 3 (ipykernel)",
   "language": "python",
   "name": "python3"
  },
  "language_info": {
   "codemirror_mode": {
    "name": "ipython",
    "version": 3
   },
   "file_extension": ".py",
   "mimetype": "text/x-python",
   "name": "python",
   "nbconvert_exporter": "python",
   "pygments_lexer": "ipython3",
   "version": "3.9.19"
  }
 },
 "nbformat": 4,
 "nbformat_minor": 4
}
