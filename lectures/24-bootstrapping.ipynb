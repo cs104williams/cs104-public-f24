{
 "cells": [
  {
   "cell_type": "markdown",
   "metadata": {},
   "source": [
    "# Boostrapping"
   ]
  },
  {
   "cell_type": "code",
   "execution_count": null,
   "metadata": {
    "tags": []
   },
   "outputs": [],
   "source": [
    "from datascience import *\n",
    "from cs104 import *\n",
    "import numpy as np\n",
    "%matplotlib inline"
   ]
  },
  {
   "cell_type": "markdown",
   "metadata": {},
   "source": [
    "## 1. Salary Data"
   ]
  },
  {
   "cell_type": "markdown",
   "metadata": {},
   "source": [
    "This is a dataset of salaries that came from a real-world survey. You can read more about this dataset [here](https://www.kaggle.com/datasets/masoomaalghawas/ask-a-manager-salary-survey-2021) or [here](https://www.askamanager.org/2021/04/how-much-money-do-you-make-4.html)."
   ]
  },
  {
   "cell_type": "code",
   "execution_count": null,
   "metadata": {
    "tags": []
   },
   "outputs": [],
   "source": [
    "salaries = Table().read_table(\"data/salaries_clean.csv\")\n",
    "salaries = salaries.with_columns('Job title', salaries.apply(str.lower, 'Job title'))\n",
    "salaries.show(5)"
   ]
  },
  {
   "cell_type": "code",
   "execution_count": null,
   "metadata": {
    "tags": []
   },
   "outputs": [],
   "source": [
    "data_jobs = salaries.where(\"Job title\", are.containing(\"data\"))\n",
    "data_jobs.sample(5)"
   ]
  },
  {
   "cell_type": "code",
   "execution_count": null,
   "metadata": {
    "tags": []
   },
   "outputs": [],
   "source": [
    "data_jobs.num_rows"
   ]
  },
  {
   "cell_type": "code",
   "execution_count": null,
   "metadata": {
    "tags": []
   },
   "outputs": [],
   "source": [
    "data_job_salaries = data_jobs.column(\"Yearly Salary (USD)\")"
   ]
  },
  {
   "cell_type": "markdown",
   "metadata": {},
   "source": [
    "### Mean and median salaries"
   ]
  },
  {
   "cell_type": "markdown",
   "metadata": {},
   "source": [
    "The mean is the \"balancing point\" of a histogram.  The median is our \"half-way point\" of the data.  For symmetric distributions, there are very close, but as a distribution becomes skewed to either larger or smaller values, they can become quite different:"
   ]
  },
  {
   "cell_type": "code",
   "execution_count": null,
   "metadata": {
    "tags": []
   },
   "outputs": [],
   "source": [
    "\n",
    "from scipy.stats import *\n",
    "\n",
    "with Figure(1,3, figsize=(5,4)):\n",
    "    r = norm.rvs(0, size=30000)\n",
    "    t = Table().with_columns(\"Fake Data\", r)\n",
    "    plot = t.hist(bins=np.arange(-4,4, 0.5))\n",
    "    plot.dot(np.median(r), label='median')\n",
    "    plot.dot(np.mean(r), marker='^', label='mean')\n",
    "    \n",
    "    r = skewnorm.rvs(10, size=30000)\n",
    "    t = Table().with_columns(\"Fake Data\", r)\n",
    "    plot = t.hist(bins=np.arange(-0.5,3.5, 0.25))\n",
    "    plot.dot(np.median(r), label='median')\n",
    "    plot.dot(np.mean(r), marker='^', label='mean')\n",
    "\n",
    "    np.random.seed(0)\n",
    "    r = geom.rvs(0.5,size=10000)\n",
    "    t = Table().with_columns(\"Fake Data\", r)\n",
    "    plot = t.hist(bins=np.arange(0.5,10.5, 1))\n",
    "    plot.dot(np.median(r), label='median')\n",
    "    plot.dot(np.mean(r), marker='^', label='mean')    \n",
    "    "
   ]
  },
  {
   "cell_type": "markdown",
   "metadata": {},
   "source": [
    "Let's explore the mean and median salaries for data jobs."
   ]
  },
  {
   "cell_type": "code",
   "execution_count": null,
   "metadata": {
    "tags": []
   },
   "outputs": [],
   "source": [
    "data_salary_mean = np.mean(data_job_salaries)\n",
    "data_salary_mean"
   ]
  },
  {
   "cell_type": "code",
   "execution_count": null,
   "metadata": {
    "tags": []
   },
   "outputs": [],
   "source": [
    "data_salary_median = np.median(data_job_salaries)\n",
    "data_salary_median"
   ]
  },
  {
   "cell_type": "markdown",
   "metadata": {},
   "source": [
    "Here's the mean (triangle) and median (circle) for our 'Jobs with Data' sample."
   ]
  },
  {
   "cell_type": "code",
   "execution_count": null,
   "metadata": {
    "tags": []
   },
   "outputs": [],
   "source": [
    "plot = data_jobs.hist(\"Yearly Salary (USD)\")\n",
    "plot.set_title(\"Salary of 'Jobs with Data' \\n Sample Size=\"+str(data_jobs.num_rows))\n",
    "plot.dot(data_salary_median)\n",
    "plot.dot(data_salary_mean, marker='^')"
   ]
  },
  {
   "cell_type": "markdown",
   "metadata": {},
   "source": [
    "## 2. Bootstrapping "
   ]
  },
  {
   "cell_type": "markdown",
   "metadata": {},
   "source": [
    "Given our sample, can we estimate the median salary for data jobs for the entire population?"
   ]
  },
  {
   "cell_type": "markdown",
   "metadata": {},
   "source": [
    "Let's sample with replacement for one sample. "
   ]
  },
  {
   "cell_type": "code",
   "execution_count": null,
   "metadata": {
    "tags": []
   },
   "outputs": [],
   "source": [
    "print(\"Size of original sample\", len(data_job_salaries))"
   ]
  },
  {
   "cell_type": "code",
   "execution_count": null,
   "metadata": {
    "tags": []
   },
   "outputs": [],
   "source": [
    "simulated_resample = np.random.choice(data_job_salaries, len(data_job_salaries))\n",
    "print(\"Size after we resampled the original sample=\", len(simulated_resample))"
   ]
  },
  {
   "cell_type": "code",
   "execution_count": null,
   "metadata": {
    "tags": []
   },
   "outputs": [],
   "source": [
    "# Run many times \n",
    "simulated_resample = np.random.choice(data_job_salaries, len(data_job_salaries))\n",
    "median = np.median(simulated_resample)\n",
    "\n",
    "table = Table().with_columns(\"Yearly Salary (USD)\", simulated_resample)\n",
    "plot = table.hist(\"Yearly Salary (USD)\", bins=np.arange(0,300000,25000))\n",
    "plot.set_title(\"Resample -- Salary of 'Jobs with Data' \\n Median=\"+str(median))\n",
    "plot.dot(median)"
   ]
  },
  {
   "cell_type": "markdown",
   "metadata": {
    "tags": []
   },
   "source": [
    "Here are some more resamples."
   ]
  },
  {
   "cell_type": "code",
   "execution_count": null,
   "metadata": {
    "tags": []
   },
   "outputs": [],
   "source": [
    "\n",
    "with Figure(2,3, sharey=True):\n",
    "    for i in np.arange(0,6):\n",
    "        simulated_resample = np.random.choice(data_job_salaries, len(data_job_salaries))\n",
    "        median = np.median(simulated_resample)\n",
    "\n",
    "        table = Table().with_columns(\"Yearly Salary (USD)\", simulated_resample)\n",
    "        plot = table.hist(\"Yearly Salary (USD)\", bins=np.arange(0,300000,25000))\n",
    "        plot.set_title(\"Resample -- Salary of 'Jobs with Data' \\n Median=\"+str(median))\n",
    "        plot.dot(median)\n"
   ]
  },
  {
   "cell_type": "markdown",
   "metadata": {},
   "source": [
    "Let's build a new simulation function to compute a statistic for many resamples.  We'll write it here, and it's in our library for you to use."
   ]
  },
  {
   "cell_type": "code",
   "execution_count": null,
   "metadata": {
    "tags": []
   },
   "outputs": [],
   "source": [
    "def bootstrap_statistic(sample, compute_statistic, num_trials): \n",
    "    \"\"\"\n",
    "    Creates num_trials resamples of the initial sample.\n",
    "    Returns an array of the provided statistic for those samples.\n",
    "\n",
    "    * sample: the initial sample, as an array.\n",
    "    \n",
    "    * compute_statistic: a function that takes a sample as \n",
    "                         an array and returns the statistic for that\n",
    "                         sample. \n",
    "    \n",
    "    * num_trials: the number of bootstrap samples to create.\n",
    "\n",
    "    \"\"\"\n",
    "    statistics = make_array()\n",
    "    \n",
    "    for i in np.arange(0, num_trials): \n",
    "        #Key: in bootstrapping we must always sample with replacement \n",
    "        simulated_resample = np.random.choice(sample, len(sample))\n",
    "        \n",
    "        resample_statistic = compute_statistic(simulated_resample)\n",
    "        statistics = np.append(statistics, resample_statistic)\n",
    "    \n",
    "    return statistics"
   ]
  },
  {
   "cell_type": "code",
   "execution_count": null,
   "metadata": {
    "tags": []
   },
   "outputs": [],
   "source": [
    "results = bootstrap_statistic(data_job_salaries, np.median, 1000)"
   ]
  },
  {
   "cell_type": "code",
   "execution_count": null,
   "metadata": {
    "tags": []
   },
   "outputs": [],
   "source": [
    "table = Table().with_columns(\"Yearly Salary (USD)\", results)\n",
    "plot = table.hist(\"Yearly Salary (USD)\", bins=np.arange(87000,100000,1000))\n",
    "plot.set_title(\"Bootstrap 1000 Times \\n Sample Size=\"+str(data_jobs.num_rows))\n",
    "plot.dot(data_salary_median)"
   ]
  },
  {
   "cell_type": "markdown",
   "metadata": {},
   "source": [
    "The above histogram captures the variability we see in the median salary in our resamples.  That variability matches the variability we'd see in repeatedly sampling the whole population.  We'll see in the next lecture how to quantify the variability when estimating the median salary for the whole the population."
   ]
  },
  {
   "cell_type": "code",
   "execution_count": null,
   "metadata": {},
   "outputs": [],
   "source": []
  },
  {
   "cell_type": "code",
   "execution_count": null,
   "metadata": {},
   "outputs": [],
   "source": []
  }
 ],
 "metadata": {
  "kernelspec": {
   "display_name": "Python 3 (ipykernel)",
   "language": "python",
   "name": "python3"
  },
  "language_info": {
   "codemirror_mode": {
    "name": "ipython",
    "version": 3
   },
   "file_extension": ".py",
   "mimetype": "text/x-python",
   "name": "python",
   "nbconvert_exporter": "python",
   "pygments_lexer": "ipython3",
   "version": "3.11.0"
  },
  "widgets": {
   "application/vnd.jupyter.widget-state+json": {
    "state": {},
    "version_major": 2,
    "version_minor": 0
   }
  }
 },
 "nbformat": 4,
 "nbformat_minor": 4
}
