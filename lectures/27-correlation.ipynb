{
 "cells": [
  {
   "cell_type": "markdown",
   "metadata": {},
   "source": [
    "# Correlation Coefficients"
   ]
  },
  {
   "cell_type": "code",
   "execution_count": null,
   "metadata": {
    "tags": []
   },
   "outputs": [],
   "source": [
    "from datascience import *\n",
    "from cs104 import *\n",
    "import numpy as np\n",
    "%matplotlib inline"
   ]
  },
  {
   "cell_type": "markdown",
   "metadata": {},
   "source": [
    "## 1. Finch data"
   ]
  },
  {
   "cell_type": "code",
   "execution_count": null,
   "metadata": {
    "tags": []
   },
   "outputs": [],
   "source": [
    "# Load finch data \n",
    "finch_1975 = Table().read_table(\"data/finch_beaks_1975.csv\")\n",
    "finch_1975.show(6)"
   ]
  },
  {
   "cell_type": "code",
   "execution_count": null,
   "metadata": {
    "tags": []
   },
   "outputs": [],
   "source": [
    "fortis = finch_1975.where('species', 'fortis')\n",
    "fortis.num_rows"
   ]
  },
  {
   "cell_type": "code",
   "execution_count": null,
   "metadata": {
    "tags": []
   },
   "outputs": [],
   "source": [
    "scandens = finch_1975.where('species', 'scandens')\n",
    "scandens.num_rows"
   ]
  },
  {
   "cell_type": "code",
   "execution_count": null,
   "metadata": {
    "tags": []
   },
   "outputs": [],
   "source": [
    "plot = fortis.scatter('Beak length, mm', 'Beak depth, mm')\n",
    "plot.set_title('Fortis Finches, 1975')"
   ]
  },
  {
   "cell_type": "code",
   "execution_count": null,
   "metadata": {
    "tags": []
   },
   "outputs": [],
   "source": [
    "plot = fortis.scatter('Beak length, mm', 'Beak depth, mm', fit_line=True)\n",
    "plot.set_title('Fortis Finches, 1975') "
   ]
  },
  {
   "cell_type": "code",
   "execution_count": null,
   "metadata": {
    "tags": []
   },
   "outputs": [],
   "source": [
    "finch_1975.scatter('Beak length, mm', 'Beak depth, mm', group='species')\n",
    "plot.set_title('Fortis Finches, 1975') "
   ]
  },
  {
   "cell_type": "code",
   "execution_count": null,
   "metadata": {
    "tags": []
   },
   "outputs": [],
   "source": [
    "finch_1975.scatter('Beak length, mm', 'Beak depth, mm', group='species', fit_line=True)\n",
    "plot.set_title('Fortis Finches, 1975') "
   ]
  },
  {
   "cell_type": "markdown",
   "metadata": {},
   "source": [
    "## 2. Correlation Intuition"
   ]
  },
  {
   "cell_type": "markdown",
   "metadata": {},
   "source": [
    "Visualize different values of r:"
   ]
  },
  {
   "cell_type": "code",
   "execution_count": null,
   "metadata": {
    "tags": []
   },
   "outputs": [],
   "source": [
    "\n",
    "def make_table(r, x_mean, y_mean, size, seed=10):\n",
    "    \"\"\"\n",
    "    Make a table of size random (x,y) points with a \n",
    "    correlation coefficient of approximately r.\n",
    "    The points will be centered at (x_mean,y_mean).\n",
    "    \"\"\"\n",
    "    rng = np.random.default_rng(seed)\n",
    "    x = rng.normal(x_mean, 1, size)\n",
    "    z = rng.normal(y_mean, 1, size)\n",
    "    y = r*x + (np.sqrt(1-r**2))*z\n",
    "    \n",
    "    # Make sure the mean is *exactly* what we want :).\n",
    "    table = Table().with_columns(\"x\", x - np.mean(x) + x_mean, \"y\", y - np.mean(y) + y_mean)\n",
    "    \n",
    "    return table\n",
    "\n",
    "def plot_table(table, color='C4', fit_line=True, **kwargs):\n",
    "    \"\"\"\n",
    "    Plot a table of (x,y).\n",
    "    \"\"\"\n",
    "    plot = table.scatter(\"x\", \"y\",alpha=0.5, fit_line=fit_line, color=color, **kwargs)\n",
    "    plot.line(x = 0, color='white', width=4, zorder=0.9)\n",
    "    plot.line(y = 0, color='white', width=4, zorder=0.9)    \n",
    "    plot.set_xlim(-4, 4)\n",
    "    plot.set_ylim(-4, 4)\n",
    "    return plot\n",
    "\n",
    "def r_scatter(r):\n",
    "    \"Generate a scatter plot with a correlation approximately r\"\n",
    "    table = make_table(r, 0, 0, 500)\n",
    "    plot = plot_table(table)\n",
    "    plot.set_title('r = '+str(r))"
   ]
  },
  {
   "cell_type": "code",
   "execution_count": null,
   "metadata": {
    "tags": []
   },
   "outputs": [],
   "source": [
    "interact(r_scatter, r = Slider(-1,1,0.01))"
   ]
  },
  {
   "cell_type": "markdown",
   "metadata": {},
   "source": [
    "Here are several scatter plots with representative values of r."
   ]
  },
  {
   "cell_type": "markdown",
   "metadata": {},
   "source": [
    "## 3. Implementing Pearson's Correlation Coefficient"
   ]
  },
  {
   "cell_type": "markdown",
   "metadata": {},
   "source": [
    "Here is our formula for $r$, given a set of points $(x_i, y_i)$:\n",
    "\n",
    "$$\n",
    "r = \\frac{\n",
    "  \\sum_i (x_i - \\bar{x})(y_i - \\bar{y})\n",
    "}{\n",
    "  \\sqrt{\\sum_i(x_i - \\bar{x})^2}\\sqrt{\\sum_i(y_i - \\bar{y})^2}\n",
    "}\n",
    "$$\n",
    "\n",
    "where $\\bar{x}$ is the mean of all $x$, and $\\bar{y}$ is the mean of all $y$.\n",
    "\n",
    "And its implementation:"
   ]
  },
  {
   "cell_type": "code",
   "execution_count": null,
   "metadata": {
    "tags": []
   },
   "outputs": [],
   "source": [
    "def pearson_correlation(table, x_label, y_label):\n",
    "    \"\"\"\n",
    "    Return the correlation coefficient capturing the sign\n",
    "    and strength of the association between the given columns in the\n",
    "    table.\n",
    "    \"\"\"\n",
    "    x = table.column(x_label)\n",
    "    y = table.column(y_label)\n",
    "    x_mean = np.mean(x)\n",
    "    y_mean = np.mean(y)\n",
    "    numerator = sum((x - x_mean) * (y - y_mean)) \n",
    "    denominator = np.sqrt(sum((x - x_mean)**2)) * np.sqrt(sum((y - y_mean)**2))\n",
    "    return numerator / denominator "
   ]
  },
  {
   "cell_type": "code",
   "execution_count": null,
   "metadata": {
    "tags": []
   },
   "outputs": [],
   "source": [
    "fortis_r = pearson_correlation(fortis, 'Beak length, mm', 'Beak depth, mm')\n",
    "fortis_r"
   ]
  },
  {
   "cell_type": "code",
   "execution_count": null,
   "metadata": {
    "tags": []
   },
   "outputs": [],
   "source": [
    "scandens_r = pearson_correlation(scandens, 'Beak length, mm', 'Beak depth, mm')\n",
    "scandens_r"
   ]
  },
  {
   "cell_type": "code",
   "execution_count": null,
   "metadata": {
    "tags": []
   },
   "outputs": [],
   "source": [
    "finch_1975.scatter('Beak length, mm', 'Beak depth, mm', fit_line=True, group=\"species\")"
   ]
  },
  {
   "cell_type": "code",
   "execution_count": null,
   "metadata": {
    "tags": []
   },
   "outputs": [],
   "source": [
    "fortis_r = pearson_correlation(fortis, 'Beak length, mm', 'Beak depth, mm')\n",
    "fortis_r"
   ]
  },
  {
   "cell_type": "code",
   "execution_count": null,
   "metadata": {
    "tags": []
   },
   "outputs": [],
   "source": [
    "scandens_r = pearson_correlation(scandens, 'Beak length, mm', 'Beak depth, mm')\n",
    "scandens_r"
   ]
  },
  {
   "cell_type": "code",
   "execution_count": null,
   "metadata": {},
   "outputs": [],
   "source": [
    "finch_1975.scatter('Beak length, mm', 'Beak depth, mm', fit_line=True, group=\"species\")"
   ]
  },
  {
   "cell_type": "markdown",
   "metadata": {
    "tags": []
   },
   "source": [
    "Switching axes shouldn't change anything. "
   ]
  },
  {
   "cell_type": "code",
   "execution_count": null,
   "metadata": {
    "tags": []
   },
   "outputs": [],
   "source": [
    "scandens_r = pearson_correlation(scandens, 'Beak depth, mm', 'Beak length, mm')\n",
    "scandens_r"
   ]
  },
  {
   "cell_type": "markdown",
   "metadata": {},
   "source": [
    "### One more example"
   ]
  },
  {
   "cell_type": "markdown",
   "metadata": {},
   "source": [
    "Median sale/rental prices for homes in various cities in July 2018.  Want more data?  Curious how these stack up to current prices?  What may be driving any changes?  Checkout out [Zillow](https://www.zillow.com/research/), for example."
   ]
  },
  {
   "cell_type": "code",
   "execution_count": null,
   "metadata": {
    "tags": []
   },
   "outputs": [],
   "source": [
    "homes = Table.read_table('data/homes.csv')\n",
    "homes"
   ]
  },
  {
   "cell_type": "code",
   "execution_count": null,
   "metadata": {
    "tags": []
   },
   "outputs": [],
   "source": [
    "homes.scatter('Median Sale Price', 'Median Rental Price')"
   ]
  },
  {
   "cell_type": "code",
   "execution_count": null,
   "metadata": {
    "tags": []
   },
   "outputs": [],
   "source": [
    "pearson_correlation(homes, 'Median Sale Price','Median Rental Price')"
   ]
  },
  {
   "cell_type": "markdown",
   "metadata": {},
   "source": [
    "## 4. Watch out for... "
   ]
  },
  {
   "cell_type": "markdown",
   "metadata": {
    "tags": []
   },
   "source": [
    "### Nonlinearity"
   ]
  },
  {
   "cell_type": "code",
   "execution_count": null,
   "metadata": {
    "tags": []
   },
   "outputs": [],
   "source": [
    "new_x = np.arange(-4, 4.1, 0.5)\n",
    "nonlinear = Table().with_columns(\n",
    "        'x', new_x,\n",
    "        'y', new_x**2\n",
    "    )\n",
    "nonlinear.scatter('x', 'y', s=50, color='red')"
   ]
  },
  {
   "cell_type": "code",
   "execution_count": null,
   "metadata": {
    "tags": []
   },
   "outputs": [],
   "source": [
    "pearson_correlation(nonlinear, 'x', 'y')"
   ]
  },
  {
   "cell_type": "markdown",
   "metadata": {},
   "source": [
    "### Outliers\n",
    "\n",
    "What can cause outliers?  What to do when you encounter them?"
   ]
  },
  {
   "cell_type": "code",
   "execution_count": null,
   "metadata": {
    "tags": []
   },
   "outputs": [],
   "source": [
    "line = Table().with_columns(\n",
    "        'x', make_array(1, 2, 3, 4,5),\n",
    "        'y', make_array(1, 2, 3, 4,5)\n",
    "    )\n",
    "line.scatter('x', 'y', s=50, color='red')"
   ]
  },
  {
   "cell_type": "code",
   "execution_count": null,
   "metadata": {
    "tags": []
   },
   "outputs": [],
   "source": [
    "pearson_correlation(line, 'x', 'y')"
   ]
  },
  {
   "cell_type": "code",
   "execution_count": null,
   "metadata": {
    "tags": []
   },
   "outputs": [],
   "source": [
    "outlier = Table().with_columns(\n",
    "        'x', make_array(1, 2, 3, 4, 5),\n",
    "        'y', make_array(1, 2, 3, 4, 0)\n",
    "    )\n",
    "outlier.scatter('x', 'y', s=50, color='red')"
   ]
  },
  {
   "cell_type": "code",
   "execution_count": null,
   "metadata": {
    "tags": []
   },
   "outputs": [],
   "source": [
    "pearson_correlation(outlier, 'x', 'y')"
   ]
  },
  {
   "cell_type": "markdown",
   "metadata": {},
   "source": [
    "### False Correlations due to Data Aggregation"
   ]
  },
  {
   "cell_type": "code",
   "execution_count": null,
   "metadata": {
    "tags": []
   },
   "outputs": [],
   "source": [
    "sat2014 = Table.read_table('data/sat2014.csv').sort('State')\n",
    "sat2014"
   ]
  },
  {
   "cell_type": "code",
   "execution_count": null,
   "metadata": {
    "tags": []
   },
   "outputs": [],
   "source": [
    "sat2014.scatter('Critical Reading', 'Math')"
   ]
  },
  {
   "cell_type": "code",
   "execution_count": null,
   "metadata": {
    "tags": []
   },
   "outputs": [],
   "source": [
    "pearson_correlation(sat2014, 'Critical Reading', 'Math')"
   ]
  },
  {
   "cell_type": "code",
   "execution_count": null,
   "metadata": {
    "tags": []
   },
   "outputs": [],
   "source": [
    "sat_fake = Table.read_table('data/sat-bogus.csv').sort('State')  "
   ]
  },
  {
   "cell_type": "markdown",
   "metadata": {},
   "source": [
    "Here is some fake data to illustrate this:"
   ]
  },
  {
   "cell_type": "code",
   "execution_count": null,
   "metadata": {
    "tags": []
   },
   "outputs": [],
   "source": [
    "sat_fake_g = sat_fake.group('State', np.mean)\n",
    "\n",
    "with Figure(1,2, figsize=(6,4)):\n",
    "    sat_fake_g.scatter('Critical Reading mean', 'Math mean', fit_line=True)\n",
    "    sat_fake.scatter('Critical Reading', 'Math', group='State')\n",
    "\n",
    "# print(pearson_correlation(sat_fake_g, 'Critical Reading mean', 'Math mean'))\n",
    "# print(pearson_correlation(sat_fake, 'Critical Reading', 'Math'))"
   ]
  },
  {
   "cell_type": "markdown",
   "metadata": {},
   "source": [
    "r is 0.98 on the left, but -0.09 for the un-aggregated data on the right!"
   ]
  },
  {
   "cell_type": "code",
   "execution_count": null,
   "metadata": {},
   "outputs": [],
   "source": []
  }
 ],
 "metadata": {
  "kernelspec": {
   "display_name": "Python 3 (ipykernel)",
   "language": "python",
   "name": "python3"
  },
  "language_info": {
   "codemirror_mode": {
    "name": "ipython",
    "version": 3
   },
   "file_extension": ".py",
   "mimetype": "text/x-python",
   "name": "python",
   "nbconvert_exporter": "python",
   "pygments_lexer": "ipython3",
   "version": "3.11.0"
  },
  "widgets": {
   "application/vnd.jupyter.widget-state+json": {
    "state": {
     "17577f0818e54c37906bfe1e5ae03624": {
      "model_module": "@jupyter-widgets/base",
      "model_module_version": "1.2.0",
      "model_name": "LayoutModel",
      "state": {}
     },
     "4ba24b7068a44efdaaf3ec420324aeec": {
      "model_module": "@jupyter-widgets/base",
      "model_module_version": "1.2.0",
      "model_name": "LayoutModel",
      "state": {}
     },
     "4e454488c703411e893bfc347d28d5be": {
      "model_module": "@jupyter-widgets/base",
      "model_module_version": "1.2.0",
      "model_name": "LayoutModel",
      "state": {}
     },
     "779d96b79e23433ab3f176609b452423": {
      "model_module": "@jupyter-widgets/controls",
      "model_module_version": "1.5.0",
      "model_name": "VBoxModel",
      "state": {
       "_dom_classes": [
        "widget-interact"
       ],
       "children": [
        "IPY_MODEL_e2fa42e987cc422e9f8418e0f3943db4",
        "IPY_MODEL_77cea2ae14664ffb9f572d8da8d21bdd"
       ],
       "layout": "IPY_MODEL_4ba24b7068a44efdaaf3ec420324aeec"
      }
     },
     "77cea2ae14664ffb9f572d8da8d21bdd": {
      "model_module": "@jupyter-widgets/output",
      "model_module_version": "1.0.0",
      "model_name": "OutputModel",
      "state": {
       "layout": "IPY_MODEL_17577f0818e54c37906bfe1e5ae03624",
       "outputs": [
        {
         "data": {
          "image/png": "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",
          "text/plain": "<Figure size 600x600 with 1 Axes>"
         },
         "metadata": {},
         "output_type": "display_data"
        }
       ]
      }
     },
     "8d77cf4c16dc4774b85ec92d6a57ca64": {
      "model_module": "@jupyter-widgets/controls",
      "model_module_version": "1.5.0",
      "model_name": "SliderStyleModel",
      "state": {
       "description_width": ""
      }
     },
     "e2fa42e987cc422e9f8418e0f3943db4": {
      "model_module": "@jupyter-widgets/controls",
      "model_module_version": "1.5.0",
      "model_name": "FloatSliderModel",
      "state": {
       "description": "r",
       "layout": "IPY_MODEL_4e454488c703411e893bfc347d28d5be",
       "max": 1,
       "min": -1,
       "step": 0.01,
       "style": "IPY_MODEL_8d77cf4c16dc4774b85ec92d6a57ca64"
      }
     }
    },
    "version_major": 2,
    "version_minor": 0
   }
  }
 },
 "nbformat": 4,
 "nbformat_minor": 4
}
