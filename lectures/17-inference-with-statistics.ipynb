{
 "cells": [
  {
   "cell_type": "markdown",
   "metadata": {},
   "source": [
    "# Inference with Statistics"
   ]
  },
  {
   "cell_type": "code",
   "execution_count": null,
   "metadata": {
    "tags": []
   },
   "outputs": [],
   "source": [
    "from datascience import *\n",
    "from cs104 import *\n",
    "import numpy as np\n",
    "%matplotlib inline"
   ]
  },
  {
   "cell_type": "markdown",
   "metadata": {},
   "source": [
    "## 1. Snoopy's Fleet"
   ]
  },
  {
   "cell_type": "markdown",
   "metadata": {},
   "source": [
    "We will create a **simulation** for the empirical distribution of our chosen statistic. "
   ]
  },
  {
   "cell_type": "markdown",
   "metadata": {},
   "source": [
    "At true inference time, we do not know N. However, let's create N now so that we can evaluate how \"good\" our chosen models and statistics could be. "
   ]
  },
  {
   "cell_type": "code",
   "execution_count": null,
   "metadata": {
    "tags": []
   },
   "outputs": [],
   "source": [
    "N = 300"
   ]
  },
  {
   "cell_type": "code",
   "execution_count": null,
   "metadata": {
    "tags": []
   },
   "outputs": [],
   "source": [
    "population = np.arange(1, N+1)"
   ]
  },
  {
   "cell_type": "markdown",
   "metadata": {},
   "source": [
    "Suppose we didn't know N. Then all we could do is observe samples of planes flying overhead. \n",
    "\n",
    "We'll use our **model assumption**: Plane numbers are uniform random sample drawn with replacement from 1 to N."
   ]
  },
  {
   "cell_type": "code",
   "execution_count": null,
   "metadata": {
    "tags": []
   },
   "outputs": [],
   "source": [
    "def sample_plane_fleet(sample_size):\n",
    "    return np.random.choice(population, sample_size)"
   ]
  },
  {
   "cell_type": "code",
   "execution_count": null,
   "metadata": {
    "tags": []
   },
   "outputs": [],
   "source": [
    "sample = sample_plane_fleet(10)\n",
    "sample"
   ]
  },
  {
   "cell_type": "markdown",
   "metadata": {},
   "source": [
    "### Option 1: Sample Statistic is the max plane number"
   ]
  },
  {
   "cell_type": "markdown",
   "metadata": {},
   "source": [
    "Let's choose a stastic as the max of as sample. Luckily, **max** is simple and we don't have to write a new function here. We can use Python's built-in function! "
   ]
  },
  {
   "cell_type": "code",
   "execution_count": null,
   "metadata": {
    "tags": []
   },
   "outputs": [],
   "source": [
    "max(sample)"
   ]
  },
  {
   "cell_type": "markdown",
   "metadata": {},
   "source": [
    "Let's put this all together using our simulation algorithm. "
   ]
  },
  {
   "cell_type": "code",
   "execution_count": null,
   "metadata": {
    "tags": []
   },
   "outputs": [],
   "source": [
    "sample_size = 10\n",
    "num_trials = 1000"
   ]
  },
  {
   "cell_type": "code",
   "execution_count": null,
   "metadata": {
    "tags": []
   },
   "outputs": [],
   "source": [
    "all_outcomes = simulate_sample_statistic(sample_plane_fleet, sample_size, \n",
    "                                         max, num_trials)\n",
    "\n",
    "results = Table().with_columns(\"Statistic Option 1: Max Sample\", all_outcomes)\n",
    "plot = results.hist(bins=np.arange(1, 2 * N, 10))\n",
    "plot.set_title(\"Empirical distribution\\n\"+\n",
    "               \"Sample Size =\"+str(sample_size)+ \n",
    "               \"\\nNum trials =\"+str(num_trials))"
   ]
  },
  {
   "cell_type": "markdown",
   "metadata": {},
   "source": [
    "Let's generalize a bit and create function that takes the statistic and runs the whole experiment."
   ]
  },
  {
   "cell_type": "markdown",
   "metadata": {},
   "source": [
    "### Option 2: Sample Statistic is Twice the Mean"
   ]
  },
  {
   "cell_type": "markdown",
   "metadata": {},
   "source": [
    "Let's generalize a bit and create function that takes the statistic and runs the whole experiment"
   ]
  },
  {
   "cell_type": "code",
   "execution_count": null,
   "metadata": {
    "tags": []
   },
   "outputs": [],
   "source": [
    "def planes_empirical_statistic_distribution(sample_size, compute_sample_statistic, num_trials):\n",
    "    \"\"\"\n",
    "    Simulates multiple trials of a statistic on our simulated fleet of N planes \n",
    "    \n",
    "    Inputs \n",
    "        - sample_size: number of planes we see in our sample\n",
    "        - compute_sample_statistic: a function that takes an array \n",
    "            and returns a summary statistic (e.g. max)\n",
    "        - num_trials: number of simulation trials \n",
    "        \n",
    "    Output \n",
    "        Histogram of the results \n",
    "    \"\"\"\n",
    "    all_outcomes = simulate_sample_statistic(sample_plane_fleet, sample_size, \n",
    "                                             compute_sample_statistic, num_trials)\n",
    "        \n",
    "    results = Table().with_columns('Empirical Distribution, Statistic: ' + compute_sample_statistic.__name__, \n",
    "                                   all_outcomes)\n",
    "    plot = results.hist(bins=np.arange(1, 2 * N, 10))\n",
    "    plot.set_title(\"Empirical distribution\\n\"+\n",
    "               \"Sample Size =\"+str(sample_size)+ \n",
    "               \"\\nNum trials =\"+str(num_trials))\n",
    "    \n",
    "    # Red line is the True N    \n",
    "    plot.line(x=N, color='r', linestyle='--')    "
   ]
  },
  {
   "cell_type": "code",
   "execution_count": null,
   "metadata": {
    "tags": []
   },
   "outputs": [],
   "source": [
    "planes_empirical_statistic_distribution(10, max, 1000)"
   ]
  },
  {
   "cell_type": "markdown",
   "metadata": {},
   "source": [
    "Our second option for the statistic:"
   ]
  },
  {
   "cell_type": "code",
   "execution_count": null,
   "metadata": {
    "tags": []
   },
   "outputs": [],
   "source": [
    "def twice_mean(sample):\n",
    "    \"\"\"Twice the sample mean\"\"\"\n",
    "    return 2 * np.mean(sample)\n",
    "\n",
    "planes_empirical_statistic_distribution(10, twice_mean, 1000)    "
   ]
  },
  {
   "cell_type": "markdown",
   "metadata": {},
   "source": [
    "## 2.Effects of Sample Size and Simulation Rounds"
   ]
  },
  {
   "cell_type": "markdown",
   "metadata": {},
   "source": [
    "First interaction: Let's just look at the number of trials just for our **twice mean** statistic with everything else held constant. "
   ]
  },
  {
   "cell_type": "code",
   "execution_count": null,
   "metadata": {
    "tags": []
   },
   "outputs": [],
   "source": [
    "interact(planes_empirical_statistic_distribution,\n",
    "         sample_size=Fixed(20), \n",
    "         compute_sample_statistic=Fixed(twice_mean),\n",
    "         num_trials=Slider(1, 20010, 10))"
   ]
  },
  {
   "cell_type": "markdown",
   "metadata": {},
   "source": [
    "We can also examinge the impact of changing the sample size and N using the following function."
   ]
  },
  {
   "cell_type": "code",
   "execution_count": null,
   "metadata": {
    "tags": []
   },
   "outputs": [],
   "source": [
    "def visualize_distributions(N, sample_size, num_trials):\n",
    "    \"\"\"A single function to run our simulation for a given N, sample_size, and num_trials.\"\"\"\n",
    "    import matplotlib.pyplot as plt\n",
    "    \n",
    "    population = np.arange(1, N+1)\n",
    "    \n",
    "    # Builds up our outcomes table one row at a time.  We do this to ensure\n",
    "    # we can apply both statistics to the same samples.\n",
    "    outcomes_table = Table([\"Max\", \"2*Mean\"])\n",
    "    \n",
    "    for i in np.arange(num_trials):\n",
    "        sample = np.random.choice(population, sample_size)\n",
    "        outcomes_table.append(make_array(max(sample), 2 * np.mean(sample)))\n",
    "        \n",
    "    plot = outcomes_table.hist(bins=np.arange(N/2, 3*N/2, 2))\n",
    "    plot.set_title(\"Empirical distribution (N=\"+str(N)+\")\\n\"+\n",
    "               \"Sample size =\"+str(sample_size)+ \n",
    "               \"\\nNum trials =\"+str(num_trials))\n",
    "    # Red line is the True N\n",
    "    plot.line(x=N, color='r', linestyle='--')"
   ]
  },
  {
   "cell_type": "code",
   "execution_count": null,
   "metadata": {
    "tags": []
   },
   "outputs": [],
   "source": [
    "interact(visualize_distributions, \n",
    "         N=Slider(100, 450, 50), \n",
    "         sample_size=Slider(10, 101, 1), \n",
    "         num_trials=Slider(10, 10100, 100))"
   ]
  },
  {
   "cell_type": "markdown",
   "metadata": {
    "tags": []
   },
   "source": [
    "## 3. Mendel and Pea Flowers"
   ]
  },
  {
   "cell_type": "markdown",
   "metadata": {},
   "source": [
    "Looking ahead, we know we'll be using our simulate sample statistc! So let's build and check all these pieces. \n",
    "```\n",
    "simulate_sample_statistic(make_sample,\n",
    "   sample_size,\n",
    "   compute_statistic,\n",
    "   num_trials)\n",
    "```"
   ]
  },
  {
   "cell_type": "markdown",
   "metadata": {},
   "source": [
    "**Observed sample:** In Mendel's one sample (his own garden), he had 929 second new generation pea plants, of which 709 had purple flowers.  We compute the percent purple he observed:"
   ]
  },
  {
   "cell_type": "code",
   "execution_count": null,
   "metadata": {
    "tags": []
   },
   "outputs": [],
   "source": [
    "observed_sample_size = 929\n",
    "observed_purples = 709 / observed_sample_size * 100\n",
    "observed_purples"
   ]
  },
  {
   "cell_type": "markdown",
   "metadata": {},
   "source": [
    "**Model**: Mendel hypothesized (based on his preliminary theories of genetics) that he should have gotten 75% purple and 25% white. "
   ]
  },
  {
   "cell_type": "code",
   "execution_count": null,
   "metadata": {
    "tags": []
   },
   "outputs": [],
   "source": [
    "hypothesized_purple_proportion = 0.75\n",
    "hypothesized_proportions = make_array(hypothesized_purple_proportion, \n",
    "                                      1 - hypothesized_purple_proportion) \n",
    "hypothesized_proportions"
   ]
  },
  {
   "cell_type": "markdown",
   "metadata": {},
   "source": [
    "In the Python library reference, we see can use the function [sample_proportions(sample_size, model_proportions)](https://www.cs.williams.edu/~cs104/auto/python-library-ref.html#sample_proportions). "
   ]
  },
  {
   "cell_type": "code",
   "execution_count": null,
   "metadata": {
    "tags": []
   },
   "outputs": [],
   "source": [
    "sample = sample_proportions(observed_sample_size, hypothesized_proportions)\n",
    "sample"
   ]
  },
  {
   "cell_type": "markdown",
   "metadata": {},
   "source": [
    "Let's put it into a function. "
   ]
  },
  {
   "cell_type": "code",
   "execution_count": null,
   "metadata": {
    "tags": []
   },
   "outputs": [],
   "source": [
    "def flowers_make_sample(sample_size): \n",
    "    \"\"\"\n",
    "    Return the percents of purple flowers and white flowers in an array\n",
    "    \"\"\"\n",
    "    hypothesized_purple_proportion = 0.75\n",
    "    hypothesized_proportions = make_array(hypothesized_purple_proportion, \n",
    "                                          1 - hypothesized_purple_proportion) \n",
    "    sample = 100 * sample_proportions(sample_size, hypothesized_proportions)\n",
    "    return sample"
   ]
  },
  {
   "cell_type": "code",
   "execution_count": null,
   "metadata": {
    "tags": []
   },
   "outputs": [],
   "source": [
    "flowers_make_sample(observed_sample_size)"
   ]
  },
  {
   "cell_type": "markdown",
   "metadata": {},
   "source": [
    "Each item in the array corresponds to the proportion of times it was sampled out of `sample_size` times. So the proportion purple is"
   ]
  },
  {
   "cell_type": "code",
   "execution_count": null,
   "metadata": {
    "tags": []
   },
   "outputs": [],
   "source": [
    "def stat_percent_purple(sample): \n",
    "    return sample.item(0)\n",
    "\n",
    "stat_percent_purple(sample)"
   ]
  },
  {
   "cell_type": "markdown",
   "metadata": {},
   "source": [
    "Now let's use our function `simulate_sample_statistic`.  "
   ]
  },
  {
   "cell_type": "code",
   "execution_count": null,
   "metadata": {
    "tags": []
   },
   "outputs": [],
   "source": [
    "num_trials = 1000\n",
    "\n",
    "all_outcomes = simulate_sample_statistic(flowers_make_sample, observed_sample_size,\n",
    "                                         stat_percent_purple, num_trials)"
   ]
  },
  {
   "cell_type": "code",
   "execution_count": null,
   "metadata": {
    "tags": []
   },
   "outputs": [],
   "source": [
    "results = Table().with_column('Percent purple flowers', all_outcomes)\n",
    "results.hist(title = 'Simulated Outcomes\\n observed sample size=' + str(observed_sample_size))"
   ]
  },
  {
   "cell_type": "markdown",
   "metadata": {},
   "source": [
    "Connecting these pieces together: \n",
    "- In Mendel's model, he hypothesized getting purple flowers was like flipping a biased coin and getting heads 75% of the time. \n",
    "- We simulated outcomes under this hypothesis. \n",
    "- Now let's check if the observed data (that there were 76.3% purple flowers in one sample, Mendel's own garden) \"fits\" with the simulated outcomes under the model "
   ]
  },
  {
   "cell_type": "code",
   "execution_count": null,
   "metadata": {
    "tags": []
   },
   "outputs": [],
   "source": [
    "plot = results.hist(title = 'Simulated Outcomes\\n observed sample size=' + str(observed_sample_size))\n",
    "plot.line(x=75,lw=4,linestyle=\"dashed\")\n",
    "plot.dot(observed_purples)"
   ]
  },
  {
   "cell_type": "code",
   "execution_count": null,
   "metadata": {
    "tags": []
   },
   "outputs": [],
   "source": [
    "differences_from_model = Table().with_column('abs(sample statistic - model parameter)', \n",
    "                                             abs(all_outcomes - 75))\n",
    "\n",
    "diff_plot = differences_from_model.hist(title = 'Differences from Model \\n Parameter (75% Purple)')\n",
    "diff_plot.dot(abs(observed_purples - 75))"
   ]
  },
  {
   "cell_type": "markdown",
   "metadata": {},
   "source": [
    "Once again, let's use computation to abstract away the variables that we have the power to change, and the parts of the code that never change.  Here is a new function to do that."
   ]
  },
  {
   "cell_type": "code",
   "execution_count": null,
   "metadata": {
    "tags": []
   },
   "outputs": [],
   "source": [
    "def pea_plants_simulation(observed_sample_size, observed_purples_count, \n",
    "                          hypothesized_purple_percent, num_trials): \n",
    "    \"\"\"\n",
    "    Parameters:\n",
    "        - observed_sample_size: number of plants in our experiment\n",
    "        - observed_purples_count: count of plants in our experiment w/ purple flowers\n",
    "        - hypothesized_purple_proportion: our model parameter (hypothesis for \n",
    "              proportion of plants will w/ purple flowers).\n",
    "        - num_trials: number of simulation rounds to run\n",
    "    Outputs two plots:\n",
    "        - Empirical distribution of the percent of plants w/ purple flowers \n",
    "          from our simulation trials\n",
    "        - Empirical distribution of how far off each trial was from our hypothesized model\n",
    "    \"\"\"\n",
    "    \n",
    "    observed_purples = 100 * observed_purples_count / observed_sample_size\n",
    "    hypothesized_proportions = make_array(hypothesized_purple_percent/100, \n",
    "                                          1 - hypothesized_purple_percent/100)\n",
    "    \n",
    "    assert 0 <= hypothesized_proportions[0] <= 1, str(hypothesized_proportions)\n",
    "    assert 0 <= hypothesized_proportions[1] <= 1, str(hypothesized_proportions)\n",
    "    \n",
    "    all_outcomes = make_array()\n",
    "    for i in np.arange(0, num_trials):\n",
    "        simulated_sample = 100 * sample_proportions(observed_sample_size, hypothesized_proportions)\n",
    "        outcome = simulated_sample.item(0)\n",
    "        all_outcomes = np.append(all_outcomes, outcome)\n",
    "    \n",
    "    #plots\n",
    "    with Figure(1,2):\n",
    "        percent_purple = Table().with_column('% of purple flowers', all_outcomes)\n",
    "        pp_plot = percent_purple.hist(title='Simulated Outcomes\\n observed sample size=' + str(observed_sample_size))\n",
    "        pp_plot.dot(observed_purples)\n",
    "\n",
    "        distance_from_model = Table().with_column('abs(sample statistic - model parameter)', \n",
    "                                                  abs(all_outcomes - hypothesized_purple_percent))\n",
    "        dist_plot = distance_from_model.hist(title='Differences from Model \\n Parameter (' + str(hypothesized_purple_percent) + '% Purple)')\n",
    "        dist_plot.dot(abs(observed_purples - hypothesized_purple_percent))\n"
   ]
  },
  {
   "cell_type": "markdown",
   "metadata": {},
   "source": [
    "Here is a scenario to match Mendel's garden.  705 out of 929 plants had purple flowers, and he proposed 75% should be purple."
   ]
  },
  {
   "cell_type": "code",
   "execution_count": null,
   "metadata": {
    "tags": []
   },
   "outputs": [],
   "source": [
    "pea_plants_simulation(929, 705, 75, 1000)"
   ]
  },
  {
   "cell_type": "markdown",
   "metadata": {},
   "source": [
    "Here is a different scenario.  Suppose only 506 out of 929 plants had purple flowers, and but our model indicates that 75% should be purple."
   ]
  },
  {
   "cell_type": "code",
   "execution_count": null,
   "metadata": {
    "tags": []
   },
   "outputs": [],
   "source": [
    "pea_plants_simulation(929, 506, 75, 1000)"
   ]
  },
  {
   "cell_type": "code",
   "execution_count": null,
   "metadata": {
    "tags": []
   },
   "outputs": [],
   "source": [
    "\n",
    "interact(pea_plants_simulation,  \n",
    "         observed_sample_size = Fixed(929), \n",
    "         observed_purples_count = Slider(0,929), \n",
    "         hypothesized_purple_percent = Slider(0,100,1),\n",
    "         num_trials=Slider(10, 5000, 100))\n",
    "\n",
    "#\n",
    "#\n",
    "#\n"
   ]
  },
  {
   "cell_type": "code",
   "execution_count": null,
   "metadata": {},
   "outputs": [],
   "source": []
  }
 ],
 "metadata": {
  "anaconda-cloud": {},
  "kernelspec": {
   "display_name": "Python 3 (ipykernel)",
   "language": "python",
   "name": "python3"
  },
  "language_info": {
   "codemirror_mode": {
    "name": "ipython",
    "version": 3
   },
   "file_extension": ".py",
   "mimetype": "text/x-python",
   "name": "python",
   "nbconvert_exporter": "python",
   "pygments_lexer": "ipython3",
   "version": "3.9.13"
  }
 },
 "nbformat": 4,
 "nbformat_minor": 4
}
