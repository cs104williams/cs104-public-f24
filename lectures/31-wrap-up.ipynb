{
 "cells": [
  {
   "cell_type": "markdown",
   "id": "dbaf8556-c577-45f4-8e10-6cf88b5cb0f6",
   "metadata": {},
   "source": [
    "# Wrap Up"
   ]
  },
  {
   "cell_type": "markdown",
   "id": "b26c3b06-d278-49a9-a5cc-6e67fd32a1ff",
   "metadata": {},
   "source": [
    "## 1. Installing Python packages"
   ]
  },
  {
   "cell_type": "markdown",
   "id": "01e66b6a",
   "metadata": {},
   "source": [
    "Install packages in a Jupyter notebook on any machine, including your own!  (And if you don't have Python and Jupyter notebooks installed on your computer you can find instructions to install them [here](https://www.cs.williams.edu/~cs104/docs/setup-laptop.html).\n",
    "The following cell will install the three packages we have been using all semester:"
   ]
  },
  {
   "cell_type": "code",
   "execution_count": null,
   "id": "fc378de8",
   "metadata": {
    "tags": [
     "remove-output"
    ]
   },
   "outputs": [],
   "source": [
    "!pip3 install -q cs104@git+https://github.com/cs104williams/cs104-toolbox\n",
    "!pip3 install -q datascience@git+https://github.com/cs104williams/cs104-datascience\n",
    "!pip3 install -q numpy "
   ]
  },
  {
   "cell_type": "markdown",
   "id": "431a05a2-e70b-48c4-8205-22d464bd22e6",
   "metadata": {},
   "source": [
    "We import packages that have been installed in order to use their features in our code:"
   ]
  },
  {
   "cell_type": "code",
   "execution_count": null,
   "id": "af3d0905",
   "metadata": {},
   "outputs": [],
   "source": [
    "# Second step: import packages \n",
    "from datascience import * \n",
    "from cs104 import * \n",
    "import numpy as np \n",
    "%matplotlib inline"
   ]
  },
  {
   "cell_type": "markdown",
   "id": "90215be0",
   "metadata": {},
   "source": [
    "Now let's install three different packages we haven't seen yet..."
   ]
  },
  {
   "cell_type": "code",
   "execution_count": null,
   "id": "70d4019a",
   "metadata": {
    "tags": [
     "remove-output"
    ]
   },
   "outputs": [],
   "source": [
    "!pip3 install -q pandas \n",
    "!pip3 install -q scikit-learn\n",
    "!pip3 install -q seaborn"
   ]
  },
  {
   "cell_type": "code",
   "execution_count": null,
   "id": "2527a820",
   "metadata": {
    "tags": []
   },
   "outputs": [],
   "source": [
    "import pandas as pd\n",
    "from sklearn import *\n",
    "import matplotlib.pyplot as plots\n",
    "import seaborn as sns"
   ]
  },
  {
   "cell_type": "markdown",
   "id": "9b3de828",
   "metadata": {
    "tags": []
   },
   "source": [
    "## 2. Pandas\n",
    "\n",
    "[Pandas](https://pandas.pydata.org/) is a library to manipulate and explore data (similar to Tables), but with more functionality. "
   ]
  },
  {
   "cell_type": "code",
   "execution_count": null,
   "id": "9e98fd2e-be38-460f-9af9-14c3516313ef",
   "metadata": {
    "tags": []
   },
   "outputs": [],
   "source": [
    "penguins = pd.read_csv('https://raw.githubusercontent.com/mcnakhaee/palmerpenguins/master/palmerpenguins/data/penguins.csv')\n",
    "penguins = penguins.drop(columns = ['year'])\n",
    "penguins.head(6)"
   ]
  },
  {
   "cell_type": "code",
   "execution_count": null,
   "id": "d456f99c",
   "metadata": {
    "tags": []
   },
   "outputs": [],
   "source": [
    "# pandas gives us a quick summary of the data\n",
    "penguins.info()"
   ]
  },
  {
   "cell_type": "code",
   "execution_count": null,
   "id": "37ff5085-423d-47f5-a191-8df772fa0646",
   "metadata": {
    "tags": []
   },
   "outputs": [],
   "source": [
    "penguins = penguins.dropna()\n",
    "penguins.head(6)"
   ]
  },
  {
   "cell_type": "code",
   "execution_count": null,
   "id": "1226f41d",
   "metadata": {
    "tags": []
   },
   "outputs": [],
   "source": [
    "print('num rows (after droping nulls) = ', len(penguins))"
   ]
  },
  {
   "cell_type": "code",
   "execution_count": null,
   "id": "2abfe9a5",
   "metadata": {
    "tags": []
   },
   "outputs": [],
   "source": [
    "penguins[penguins.species == 'Adelie'].mean(numeric_only=True)"
   ]
  },
  {
   "cell_type": "markdown",
   "id": "63569692",
   "metadata": {},
   "source": [
    "## 3. Seaborn\n",
    "\n",
    "[Seaborn](https://seaborn.pydata.org/) is a Data visualization library. Interfaces with pandas nicely. Makes very pretty plots! "
   ]
  },
  {
   "cell_type": "code",
   "execution_count": null,
   "id": "f35e5a4c-5b5b-43ab-a016-5c9b136cc755",
   "metadata": {
    "tags": []
   },
   "outputs": [],
   "source": [
    "# The cs104 library changes the default plot settings.  \n",
    "# This line changes them back\n",
    "sns.set_theme()"
   ]
  },
  {
   "cell_type": "code",
   "execution_count": null,
   "id": "52789d54-0145-45f2-99c4-be603e667d35",
   "metadata": {
    "tags": []
   },
   "outputs": [],
   "source": [
    "sns.scatterplot(penguins, x=\"bill_length_mm\", y=\"bill_depth_mm\", hue=\"species\");"
   ]
  },
  {
   "cell_type": "markdown",
   "id": "53221c66-7aca-4264-b7be-4a186e3a3b60",
   "metadata": {},
   "source": [
    "A big advantage of seaborn is that you can quickly visualize different subsets of data:"
   ]
  },
  {
   "cell_type": "code",
   "execution_count": null,
   "id": "cab75ecd-1b92-4d8b-b43b-f40376ccae50",
   "metadata": {
    "tags": []
   },
   "outputs": [],
   "source": [
    "sns.scatterplot(penguins, x=\"bill_length_mm\", y=\"bill_depth_mm\", hue=\"island\");"
   ]
  },
  {
   "cell_type": "code",
   "execution_count": null,
   "id": "0b47f541",
   "metadata": {
    "tags": []
   },
   "outputs": [],
   "source": [
    "sns.lmplot(penguins, x=\"bill_length_mm\", y=\"bill_depth_mm\", hue=\"species\");"
   ]
  },
  {
   "cell_type": "code",
   "execution_count": null,
   "id": "bff067fa-e599-4c6b-af44-a44bcfdd23f9",
   "metadata": {
    "tags": []
   },
   "outputs": [],
   "source": [
    "sns.kdeplot(penguins, x=\"bill_length_mm\", y=\"bill_depth_mm\", hue=\"species\");"
   ]
  },
  {
   "cell_type": "code",
   "execution_count": null,
   "id": "b8908b38-73a4-4628-80e7-c8315b7b21e7",
   "metadata": {
    "tags": []
   },
   "outputs": [],
   "source": [
    "sns.pairplot(penguins, hue=\"species\");"
   ]
  },
  {
   "cell_type": "code",
   "execution_count": null,
   "id": "430453aa-5939-4209-ae80-6341197e2527",
   "metadata": {
    "tags": []
   },
   "outputs": [],
   "source": [
    "fig, ax = plots.subplots(1,2,figsize=(12,5))\n",
    "sns.scatterplot(penguins, x=\"bill_length_mm\", y=\"bill_depth_mm\", hue=\"species\", \n",
    "                size=\"body_mass_g\", sizes=(30, 300), alpha=0.5, \n",
    "                ax=ax[0])\n",
    "sns.violinplot(penguins, x=\"body_mass_g\", y=\"species\", hue=\"sex\", \n",
    "               ax=ax[1])\n",
    "fig.tight_layout()"
   ]
  },
  {
   "cell_type": "markdown",
   "id": "1511e068",
   "metadata": {
    "tags": []
   },
   "source": [
    "## 4. sklearn  (Scikit-Learn)\n",
    "\n",
    "[sklearn](https://scikit-learn.org) --- pronounced Sci Kit Learn --- is a library for machine learning (statistical pattern matching). "
   ]
  },
  {
   "cell_type": "markdown",
   "id": "1d8cef2c-a87b-4b1e-b694-e4c99e56144f",
   "metadata": {},
   "source": [
    "### Linear Regression with sklearn"
   ]
  },
  {
   "cell_type": "code",
   "execution_count": null,
   "id": "c4b5ee4f",
   "metadata": {
    "tags": []
   },
   "outputs": [],
   "source": [
    "from sklearn import linear_model\n",
    "\n",
    "from sklearn.metrics import r2_score as r2_score_sklearn\n",
    "from sklearn.metrics import mean_squared_error as mse_sklearn\n",
    "from sklearn.feature_selection import r_regression"
   ]
  },
  {
   "cell_type": "code",
   "execution_count": null,
   "id": "9934728f",
   "metadata": {},
   "outputs": [],
   "source": [
    "# Some data wrangling to get our x and y values, this time with pandas...\n",
    "chinstrap = penguins[penguins['species'] == 'Chinstrap']\n",
    "x = chinstrap['bill_length_mm'].to_numpy().reshape(-1, 1)\n",
    "y = chinstrap['bill_depth_mm'].to_numpy()"
   ]
  },
  {
   "cell_type": "code",
   "execution_count": null,
   "id": "72249589-5a3f-4cb6-acf7-af4cb2c0b1bf",
   "metadata": {},
   "outputs": [],
   "source": [
    "model = linear_model.LinearRegression()\n",
    "model.fit(x, y)"
   ]
  },
  {
   "cell_type": "code",
   "execution_count": null,
   "id": "07eafae3-f161-4483-ab09-9d3e65e7634f",
   "metadata": {},
   "outputs": [],
   "source": [
    "print('slope    ', model.coef_[0])\n",
    "print('intercept', model.intercept_)"
   ]
  },
  {
   "cell_type": "code",
   "execution_count": null,
   "id": "75382e88-a94b-42d7-bf79-96aa44ad374e",
   "metadata": {},
   "outputs": [],
   "source": [
    "y_hat = model.predict(x)\n",
    "sns.scatterplot(chinstrap, x='bill_length_mm', y='bill_depth_mm')\n",
    "plots.plot(x, y_hat, color='r', lw=2);"
   ]
  },
  {
   "cell_type": "markdown",
   "id": "b61a5112",
   "metadata": {},
   "source": [
    "A whole lot of metrics we might want are already implemented in sklearn. "
   ]
  },
  {
   "cell_type": "code",
   "execution_count": null,
   "id": "3f96263b-9ee8-4e06-a7ad-fbc820e00bac",
   "metadata": {},
   "outputs": [],
   "source": [
    "print('Pearson Correlation:', r_regression(x, y)[0])\n",
    "print('MSE:                ', mse_sklearn(y, y_hat))\n",
    "print('R2 Score:           ', r2_score_sklearn(y, y_hat))"
   ]
  },
  {
   "cell_type": "markdown",
   "id": "15f8039b-00ad-44b2-a384-96e87b3e3b23",
   "metadata": {},
   "source": [
    "### Non-linear Regresion"
   ]
  },
  {
   "cell_type": "markdown",
   "id": "3f5b79bb",
   "metadata": {},
   "source": [
    "New: let's fit a non-linear regression line with sklearn!"
   ]
  },
  {
   "cell_type": "code",
   "execution_count": null,
   "id": "966dc6d2",
   "metadata": {},
   "outputs": [],
   "source": [
    "model_nonlinear = svm.SVR(kernel='poly') #does non-linear (polynomial) regression\n",
    "model_nonlinear.fit(x, y)"
   ]
  },
  {
   "cell_type": "code",
   "execution_count": null,
   "id": "2af314be",
   "metadata": {},
   "outputs": [],
   "source": [
    "# plot what the polynomial regression does \n",
    "x_range = np.arange(42.5, 57.5, 0.1).reshape(-1, 1)\n",
    "\n",
    "y_hat_linear = model.predict(x_range)\n",
    "y_hat_nonlinear = model_nonlinear.predict(x_range)\n",
    "\n",
    "sns.scatterplot(chinstrap, x='bill_length_mm', y='bill_depth_mm')\n",
    "plots.plot(x_range, y_hat_linear, color='r', label='linear', lw=2);\n",
    "plots.plot(x_range, y_hat_nonlinear, color='b', label='nonlinear', lw=2)\n",
    "plots.title(\"Linear and Nonlinear models\")\n",
    "plots.legend();"
   ]
  },
  {
   "cell_type": "markdown",
   "id": "510606d6-f754-4acb-bdcf-36257f17a533",
   "metadata": {},
   "source": [
    "Take Machine Learning to learn the process for evaluating which model is better!"
   ]
  }
 ],
 "metadata": {
  "kernelspec": {
   "display_name": "Python 3 (ipykernel)",
   "language": "python",
   "name": "python3"
  },
  "language_info": {
   "codemirror_mode": {
    "name": "ipython",
    "version": 3
   },
   "file_extension": ".py",
   "mimetype": "text/x-python",
   "name": "python",
   "nbconvert_exporter": "python",
   "pygments_lexer": "ipython3",
   "version": "3.9.13"
  }
 },
 "nbformat": 4,
 "nbformat_minor": 5
}
