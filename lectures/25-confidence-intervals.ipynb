{
 "cells": [
  {
   "cell_type": "markdown",
   "metadata": {},
   "source": [
    "# Confidence Intervals"
   ]
  },
  {
   "cell_type": "code",
   "execution_count": null,
   "metadata": {
    "tags": []
   },
   "outputs": [],
   "source": [
    "from datascience import *\n",
    "from cs104 import *\n",
    "import numpy as np\n",
    "%matplotlib inline"
   ]
  },
  {
   "cell_type": "markdown",
   "metadata": {},
   "source": [
    "## 1. Pea plants"
   ]
  },
  {
   "cell_type": "markdown",
   "metadata": {},
   "source": [
    "Population: all 2nd generation plants \n",
    "\n",
    "Sample: Mendel's garden: 929 plants, 709 which had purple flowers\n",
    "\n",
    "Statistic: Percent Purple"
   ]
  },
  {
   "cell_type": "markdown",
   "metadata": {},
   "source": [
    "### Load Data "
   ]
  },
  {
   "cell_type": "code",
   "execution_count": null,
   "metadata": {
    "tags": []
   },
   "outputs": [],
   "source": [
    "mendel_garden = Table().read_table('data/mendel_garden_sample.csv')\n",
    "mendel_garden.show(4)"
   ]
  },
  {
   "cell_type": "code",
   "execution_count": null,
   "metadata": {
    "tags": []
   },
   "outputs": [],
   "source": [
    "mendel_garden.num_rows"
   ]
  },
  {
   "cell_type": "code",
   "execution_count": null,
   "metadata": {
    "tags": []
   },
   "outputs": [],
   "source": [
    "color_array = mendel_garden.column(\"Color\")"
   ]
  },
  {
   "cell_type": "markdown",
   "metadata": {},
   "source": [
    "Our statistic is the percent purple. "
   ]
  },
  {
   "cell_type": "code",
   "execution_count": null,
   "metadata": {
    "tags": []
   },
   "outputs": [],
   "source": [
    "def percent_purple(color): \n",
    "    proportion = sum(color == \"Purple\") / len(color)\n",
    "    return proportion * 100 "
   ]
  },
  {
   "cell_type": "code",
   "execution_count": null,
   "metadata": {
    "tags": []
   },
   "outputs": [],
   "source": [
    "observed_stat = percent_purple(color_array)\n",
    "observed_stat"
   ]
  },
  {
   "cell_type": "markdown",
   "metadata": {},
   "source": [
    "### Bootstrapping "
   ]
  },
  {
   "cell_type": "markdown",
   "metadata": {},
   "source": [
    "Now we're ready for our `bootstrap_statistic` function from our [inference library](https://www.cs.williams.edu/~cs104/auto/inference-library-ref.html)."
   ]
  },
  {
   "cell_type": "code",
   "execution_count": null,
   "metadata": {
    "tags": []
   },
   "outputs": [],
   "source": [
    "results = bootstrap_statistic(color_array, percent_purple, 1000)"
   ]
  },
  {
   "cell_type": "code",
   "execution_count": null,
   "metadata": {
    "tags": []
   },
   "outputs": [],
   "source": [
    "table = Table().with_columns(\"Bootstrap Samples Percent Purple\", results)\n",
    "plot = table.hist(\"Bootstrap Samples Percent Purple\")\n",
    "plot.dot(observed_stat)"
   ]
  },
  {
   "cell_type": "markdown",
   "metadata": {},
   "source": [
    "## 2. Confidence Intervals"
   ]
  },
  {
   "cell_type": "markdown",
   "metadata": {},
   "source": [
    "### Percentiles"
   ]
  },
  {
   "cell_type": "code",
   "execution_count": null,
   "metadata": {
    "tags": []
   },
   "outputs": [],
   "source": [
    "tiny_purple_stat = make_array(78, 70, 88, 82)\n",
    "tiny_purple_stat"
   ]
  },
  {
   "cell_type": "code",
   "execution_count": null,
   "metadata": {
    "tags": []
   },
   "outputs": [],
   "source": [
    "percentile(50, tiny_purple_stat)"
   ]
  },
  {
   "cell_type": "code",
   "execution_count": null,
   "metadata": {
    "tags": []
   },
   "outputs": [],
   "source": [
    "percentile(75, tiny_purple_stat)"
   ]
  },
  {
   "cell_type": "markdown",
   "metadata": {},
   "source": [
    "### Confidence Intervals for Pea Plants "
   ]
  },
  {
   "cell_type": "code",
   "execution_count": null,
   "metadata": {
    "tags": []
   },
   "outputs": [],
   "source": [
    "ci_percent = 95"
   ]
  },
  {
   "cell_type": "code",
   "execution_count": null,
   "metadata": {
    "tags": []
   },
   "outputs": [],
   "source": [
    "percent_in_each_tail = (100 - ci_percent) / 2\n",
    "percent_in_each_tail"
   ]
  },
  {
   "cell_type": "code",
   "execution_count": null,
   "metadata": {
    "tags": []
   },
   "outputs": [],
   "source": [
    "left_end = percentile(percent_in_each_tail, results)\n",
    "left_end"
   ]
  },
  {
   "cell_type": "code",
   "execution_count": null,
   "metadata": {
    "tags": []
   },
   "outputs": [],
   "source": [
    "right_end = percentile(100 - percent_in_each_tail, results)\n",
    "right_end"
   ]
  },
  {
   "cell_type": "markdown",
   "metadata": {},
   "source": [
    "This function, which is also in our [inference library](https://www.cs.williams.edu/~cs104/auto/inference-library-ref.html), computes the desired confidence interval for an array of statistics. "
   ]
  },
  {
   "cell_type": "code",
   "execution_count": null,
   "metadata": {
    "tags": []
   },
   "outputs": [],
   "source": [
    "def confidence_interval(ci_percent, statistics):\n",
    "    \"\"\"\n",
    "    Return an array with the lower and upper bound of the ci_percent confidence interval.\n",
    "    \"\"\"\n",
    "    # percent in each of the the left/right tails\n",
    "    percent_in_each_tail = (100 - ci_percent) / 2   \n",
    "    left = percentile(percent_in_each_tail, statistics)\n",
    "    right = percentile(100 - percent_in_each_tail, statistics)\n",
    "    return make_array(left, right)"
   ]
  },
  {
   "cell_type": "code",
   "execution_count": null,
   "metadata": {
    "tags": []
   },
   "outputs": [],
   "source": [
    "ci_95 = confidence_interval(95, results)\n",
    "ci_95"
   ]
  },
  {
   "cell_type": "code",
   "execution_count": null,
   "metadata": {
    "tags": []
   },
   "outputs": [],
   "source": [
    "table = Table().with_columns(\"Bootstrap Samples Percent Purple\", results)\n",
    "plot = table.hist(\"Bootstrap Samples Percent Purple\")\n",
    "plot.interval(ci_95)\n",
    "plot.dot(observed_stat)"
   ]
  },
  {
   "cell_type": "markdown",
   "metadata": {},
   "source": [
    "### Different Confidence Intervals"
   ]
  },
  {
   "cell_type": "markdown",
   "metadata": {
    "tags": []
   },
   "source": [
    "We can use confidence levels other than 95% too!  Here is how the level impacts the size of the interval."
   ]
  },
  {
   "cell_type": "markdown",
   "metadata": {},
   "source": [
    "Our starting point:"
   ]
  },
  {
   "cell_type": "code",
   "execution_count": null,
   "metadata": {
    "tags": []
   },
   "outputs": [],
   "source": [
    "confidence_interval(95, results)"
   ]
  },
  {
   "cell_type": "markdown",
   "metadata": {},
   "source": [
    "If we're okay with less confidence:"
   ]
  },
  {
   "cell_type": "code",
   "execution_count": null,
   "metadata": {
    "tags": []
   },
   "outputs": [],
   "source": [
    "confidence_interval(90, results)"
   ]
  },
  {
   "cell_type": "markdown",
   "metadata": {
    "tags": []
   },
   "source": [
    "If we want more confidence:"
   ]
  },
  {
   "cell_type": "code",
   "execution_count": null,
   "metadata": {
    "tags": []
   },
   "outputs": [],
   "source": [
    "confidence_interval(99, results)"
   ]
  },
  {
   "cell_type": "markdown",
   "metadata": {
    "tags": []
   },
   "source": [
    "We can see the impact of confidence level on the width of the interval more easily in the plots below."
   ]
  },
  {
   "cell_type": "code",
   "execution_count": null,
   "metadata": {
    "tags": []
   },
   "outputs": [],
   "source": [
    "def visualize_ci(ci_percent):\n",
    "    \"\"\"\n",
    "    Plot the desired confidence interval for our Mendel bootstrap run above.\n",
    "    \"\"\"\n",
    "    table = Table().with_columns(\"Bootstrap Samples Percent Purple\", results)\n",
    "    plot = table.hist(\"Bootstrap Samples Percent Purple\")\n",
    "    plot.set_title(str(ci_percent) + \"% Confidence Interval\")\n",
    "    plot.interval(confidence_interval(ci_percent, results))\n",
    "    plot.dot(observed_stat)    "
   ]
  },
  {
   "cell_type": "code",
   "execution_count": null,
   "metadata": {
    "tags": []
   },
   "outputs": [],
   "source": [
    "with Figure(1,4, figsize=(5,4)):\n",
    "    visualize_ci(50)\n",
    "    visualize_ci(90)\n",
    "    visualize_ci(95)\n",
    "    visualize_ci(99)    "
   ]
  },
  {
   "cell_type": "code",
   "execution_count": null,
   "metadata": {
    "tags": []
   },
   "outputs": [],
   "source": [
    "interact(visualize_ci, ci_percent=Slider(0,100,1))"
   ]
  },
  {
   "cell_type": "markdown",
   "metadata": {},
   "source": [
    "### Interpreting Confidence"
   ]
  },
  {
   "cell_type": "markdown",
   "metadata": {},
   "source": [
    "Here are 25 runs of our process on random samples.  We expect 95% of our runs to produce confidence intervals containing the true parameter (75%)."
   ]
  },
  {
   "cell_type": "code",
   "execution_count": null,
   "metadata": {
    "tags": []
   },
   "outputs": [],
   "source": [
    "def one_interval(ci_percent):\n",
    "    # new random sample from population...\n",
    "    sample = np.random.choice(make_array('Purple', 'Purple', 'Purple', 'White'), 929) \n",
    "\n",
    "    boostrapped_stats = bootstrap_statistic(sample, percent_purple, 1000)    \n",
    "    table = Table().with_columns(\"Bootstrap Samples Percent Purple\", boostrapped_stats)\n",
    "    plot = table.hist(\"Bootstrap Samples Percent Purple\")\n",
    "    lo,hi = confidence_interval(ci_percent, boostrapped_stats)\n",
    "    plot.interval(lo,hi)\n",
    "    plot.dot(percent_purple(sample))\n",
    "    plot.square(75)\n",
    "    \n",
    "    # if our interval doesn't contain the true parameter, make the plot reddish\n",
    "    if 75 < lo or 75 > hi:\n",
    "        plot.ax.set_facecolor(\"#F2DDD9\")"
   ]
  },
  {
   "cell_type": "code",
   "execution_count": null,
   "metadata": {
    "tags": []
   },
   "outputs": [],
   "source": [
    "with Figure(5,5, figsize=(6,4)):\n",
    "    for i in np.arange(0,25):\n",
    "        one_interval(95)"
   ]
  },
  {
   "cell_type": "code",
   "execution_count": null,
   "metadata": {},
   "outputs": [],
   "source": []
  }
 ],
 "metadata": {
  "kernelspec": {
   "display_name": "Python 3 (ipykernel)",
   "language": "python",
   "name": "python3"
  },
  "language_info": {
   "codemirror_mode": {
    "name": "ipython",
    "version": 3
   },
   "file_extension": ".py",
   "mimetype": "text/x-python",
   "name": "python",
   "nbconvert_exporter": "python",
   "pygments_lexer": "ipython3",
   "version": "3.9.13"
  }
 },
 "nbformat": 4,
 "nbformat_minor": 4
}
