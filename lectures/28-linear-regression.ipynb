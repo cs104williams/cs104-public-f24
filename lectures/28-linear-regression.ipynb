{
 "cells": [
  {
   "cell_type": "markdown",
   "metadata": {},
   "source": [
    "# Linear Regression"
   ]
  },
  {
   "cell_type": "code",
   "execution_count": null,
   "metadata": {
    "tags": []
   },
   "outputs": [],
   "source": [
    "from datascience import *\n",
    "from cs104 import *\n",
    "import numpy as np\n",
    "%matplotlib inline"
   ]
  },
  {
   "cell_type": "markdown",
   "metadata": {},
   "source": [
    "## Helper functions for visualizations"
   ]
  },
  {
   "cell_type": "markdown",
   "metadata": {},
   "source": [
    "This code in the next cell is used in the rest of the notebook to create visualizations.  You do not need to look at or understand all the details of it."
   ]
  },
  {
   "cell_type": "code",
   "execution_count": null,
   "metadata": {
    "tags": []
   },
   "outputs": [],
   "source": [
    "\n",
    "def plot_line(a, b, x): \n",
    "    \"\"\"\n",
    "    Plots a line using the give slope and intercept over the\n",
    "    range of x-values in the x array.\n",
    "    \"\"\"\n",
    "    xlims = make_array(min(x), max(x))\n",
    "    plot = Plot()\n",
    "    plot.line(xlims, a * xlims + b, lw=4, clip_on=False)\n",
    "\n",
    "def line_predictions(a, b, x): \n",
    "    \"\"\"\n",
    "    Computes the prediction  y_hat = a * x + b\n",
    "    where a and b are the slope and intercept and x is the set of x-values.\n",
    "    \"\"\"\n",
    "    return a * x + b\n",
    "\n",
    "def visualize_scatter_with_line_and_residuals(table, x_label, y_label, a, b):\n",
    "    \"\"\"\n",
    "    Draw a scatter plot, a line, and the line segments capturing the residuals \n",
    "    for some of the points.\n",
    "    \"\"\"\n",
    "    y_hat = line_predictions(a, b, table.column(x_label))\n",
    "    prediction_table = table.with_columns(y_label + '_hat', y_hat)\n",
    "    plot = table.scatter(x_label, y_label, title='a = ' + str(round(a,3)) + '; b = ' + str(round(b,3)))\n",
    "    xlims = make_array(min(table.column(x_label)), max(table.column(x_label)))\n",
    "    plot.line(xlims, a * xlims + b, lw=4, color=\"C0\")\n",
    "    \n",
    "    every10th = prediction_table.sort(x_label).take(np.arange(0, \n",
    "                                                           prediction_table.num_rows, \n",
    "                                                           prediction_table.num_rows // 10))\n",
    "    for row in every10th.rows:\n",
    "        x = row.item(x_label)\n",
    "        y = row.item(y_label)\n",
    "        plot.line([x, x], [y, a * x + b], color='r', lw=2)    \n",
    "        plot.dot(x,y,color='C0',s=70)\n",
    "\n",
    "    return plot\n",
    "\n",
    "def mean_squared_error(table, x_label, y_label, a, b): \n",
    "    y_hat = line_predictions(a, b, table.column(x_label))\n",
    "    residual = table.column(y_label) - y_hat\n",
    "    return np.mean(residual**2)\n",
    "\n",
    "def visualize_scatter_with_line_and_mse(table, x_label, y_label, a, b):\n",
    "    plot = visualize_scatter_with_line_and_residuals(table, x_label, y_label, a, b)\n",
    "    mse = mean_squared_error(x_y_table, x_label, y_label, a, b)\n",
    "    plot.set_title('a = ' + str(round(a,3)) + \n",
    "                '; b = ' + str(round(b,3)) + \n",
    "                '\\n mse = ' + str(round(mse,3)))\n",
    "\n",
    "    \n",
    "## MSE HEAT\n",
    "\n",
    "def plot_regression_line_and_mse_heat(table, x_label, y_label, a, b, show_mse='2d', fig=None):\n",
    "        \"\"\"\n",
    "        Left plot: the scatter plot with line y=ax+b\n",
    "        Right plot: None, 2D heat map of MSE, or 3D surface plot of MSE \n",
    "        \"\"\"\n",
    "\n",
    "        a_space = np.linspace(-0.5, 0.5, 200)\n",
    "        b_space = np.linspace(-35, -8, 200)\n",
    "        a_space, b_space = np.meshgrid(a_space, b_space)\n",
    "        broadcasted = np.broadcast(a_space, b_space)\n",
    "        mses = np.empty(broadcasted.shape)\n",
    "        mses.flat = [mean_squared_error(table, 'x', 'y', a, b) for (a,b) in broadcasted]\n",
    "        \n",
    "        if fig is None:\n",
    "            fig = Figure(1,2)\n",
    "\n",
    "        ax = fig.axes()\n",
    "\n",
    "        #Plot the scatter plot and best fit line on the left\n",
    "        with Plot(ax[0]):\n",
    "            plot_scatter_with_line(table, x_label, y_label, a, b)\n",
    "\n",
    "        if show_mse == '2d':\n",
    "            with Plot(ax[1]):\n",
    "                mse = mean_squared_error(table, x_label, y_label, a, b)\n",
    "                ax[1].pcolormesh(a_space, b_space, mses, cmap='viridis', \n",
    "                                 norm=colors.PowerNorm(gamma=0.25,\n",
    "                                                       vmin=mses.min(), \n",
    "                                                       vmax=mses.max()));\n",
    "                ax[1].scatter(a,b,s=100,color='red');\n",
    "                ax[1].set_xlabel('a')\n",
    "                ax[1].set_ylabel('b')\n",
    "                ax[1].set_title('Mean Squared Error: ' + str(np.round(mse, 3)))\n",
    "\n",
    "        elif show_mse == \"3d\": \n",
    "            ax[1] = plots.subplot(1, 2, 2, projection='3d')\n",
    "            with Plot(ax[1]):\n",
    "                ax[1].plot_surface(a_space, b_space, mses,\n",
    "                                cmap='viridis', \n",
    "                                antialiased=False, \n",
    "                                linewidth=0,\n",
    "                                norm = colors.PowerNorm(gamma=0.25,vmin=mses.min(), vmax=mses.max()))\n",
    "\n",
    "                ax[1].plot([a],[b],[mean_squared_error(table, x_label, y_label, a, b)], 'ro',zorder=3);\n",
    "                ax[1].set_xlabel('a')\n",
    "                ax[1].set_ylabel('b')\n",
    "                ax[1].set_title('Mean Squared Error')      \n",
    "\n",
    "def visualize_regression_line_and_mse_heat(table, x_label, y_label, show_mse=None):\n",
    "    \n",
    "    a_space = np.linspace(-0.5, 0.5, 200)\n",
    "    b_space = np.linspace(-35, -8, 200)\n",
    "    a_space, b_space = np.meshgrid(a_space, b_space)\n",
    "    broadcasted = np.broadcast(a_space, b_space)\n",
    "    mses = np.empty(broadcasted.shape)\n",
    "    mses.flat = [mean_squared_error(table, 'x', 'y', a, b) for (a,b) in broadcasted]\n",
    "    \n",
    "    def visualize_regression_line_and_mse_heat_helper(a, b, show_mse=show_mse, fig=None):\n",
    "        \"\"\"\n",
    "        Left plot: the scatter plot with line y=ax+b\n",
    "        Right plot: None, 2D heat map of MSE, or 3D surface plot of MSE \n",
    "        \"\"\"\n",
    "\n",
    "        if fig is None:\n",
    "            fig = Figure(1,2)\n",
    "\n",
    "        ax = fig.axes()\n",
    "\n",
    "        #Plot the scatter plot and best fit line on the left\n",
    "        with Plot(ax[0]):\n",
    "            plot_scatter_with_line(table, x_label, y_label, a, b)\n",
    "\n",
    "        if show_mse == '2d':\n",
    "            with Plot(ax[1]):\n",
    "                mse = mean_squared_error(table, x_label, y_label, a, b)\n",
    "                ax[1].pcolormesh(a_space, b_space, mses, cmap='viridis', \n",
    "                                 norm=colors.PowerNorm(gamma=0.25,\n",
    "                                                       vmin=mses.min(), \n",
    "                                                       vmax=mses.max()));\n",
    "                ax[1].scatter(a,b,s=100,color='red');\n",
    "                ax[1].set_xlabel('a')\n",
    "                ax[1].set_ylabel('b')\n",
    "                ax[1].set_title('Mean Squared Error: ' + str(np.round(mse, 3)))\n",
    "\n",
    "        elif show_mse == \"3d\": \n",
    "            ax[1] = plots.subplot(1, 2, 2, projection='3d')\n",
    "            with Plot(ax[1]):\n",
    "                ax[1].plot_surface(a_space, b_space, mses,\n",
    "                                cmap='viridis', \n",
    "                                antialiased=False, \n",
    "                                linewidth=0,\n",
    "                                norm = colors.PowerNorm(gamma=0.25,vmin=mses.min(), vmax=mses.max()))\n",
    "\n",
    "                ax[1].plot([a],[b],[mean_squared_error(table, x_label, y_label, a, b)], 'ro',zorder=3);\n",
    "                ax[1].set_xlabel('a')\n",
    "                ax[1].set_ylabel('b')\n",
    "                ax[1].set_title('Mean Squared Error')\n",
    "            \n",
    "    interact(visualize_regression_line_and_mse_heat_helper, \n",
    "                a = Slider(-0.5,0.5,0.01),\n",
    "                b = Slider(-35,-8,0.1),\n",
    "                fig = Fixed(None),\n",
    "                show_mse=Choice([None, \"2d\", \"3d\"]))            "
   ]
  },
  {
   "cell_type": "markdown",
   "metadata": {
    "tags": []
   },
   "source": [
    "## 1. Lines on scatter plots"
   ]
  },
  {
   "cell_type": "code",
   "execution_count": null,
   "metadata": {
    "tags": []
   },
   "outputs": [],
   "source": [
    "#load data from the lecture 7 and clean it up \n",
    "greenland_climate = Table().read_table('data/climate_upernavik.csv')\n",
    "greenland_climate = greenland_climate.relabeled('Precipitation (millimeters)', \n",
    "                                                \"Precip (mm)\")\n",
    "tidy_greenland = greenland_climate.where('Air temperature (C)', \n",
    "                                         are.not_equal_to(999.99))\n",
    "tidy_greenland = tidy_greenland.where('Sea level pressure (mbar)', \n",
    "                                      are.not_equal_to(9999.9))\n",
    "feb = tidy_greenland.where('Month', are.equal_to(2))\n",
    "feb.show(3)"
   ]
  },
  {
   "cell_type": "code",
   "execution_count": null,
   "metadata": {
    "tags": []
   },
   "outputs": [],
   "source": [
    "plot = feb.scatter('Year', 'Air temperature (C)', fit_line=True)\n",
    "plot.set_title('Februrary in Upernavik, Greenland')"
   ]
  },
  {
   "cell_type": "markdown",
   "metadata": {},
   "source": [
    "Let's change the x-axis to be Years since 1880 so that it's easier to calculate slope. "
   ]
  },
  {
   "cell_type": "code",
   "execution_count": null,
   "metadata": {
    "tags": []
   },
   "outputs": [],
   "source": [
    "x = feb.column('Year') - 1880 \n",
    "y = feb.column('Air temperature (C)')\n",
    "x_y_table = Table().with_columns(\"x\", x, \"y\", y)"
   ]
  },
  {
   "cell_type": "code",
   "execution_count": null,
   "metadata": {
    "tags": []
   },
   "outputs": [],
   "source": [
    "plot = x_y_table.scatter(\"x\", \"y\", fit_line=True)\n",
    "plot.set_xlabel(\"Years since 1880\")\n",
    "plot.set_ylabel(\"Air temperature (C)\");\n",
    "plot.set_title('Februrary in Upernavik, Greenland');"
   ]
  },
  {
   "cell_type": "code",
   "execution_count": null,
   "metadata": {
    "tags": []
   },
   "outputs": [],
   "source": [
    "# Manually put in a, b \n",
    "rise = -19+24\n",
    "run = 120 \n",
    "a = rise/run\n",
    "b = -24 \n",
    "print(\"a=\", a, \" , b=\", b)"
   ]
  },
  {
   "cell_type": "markdown",
   "metadata": {},
   "source": [
    "Two lines with different slopes and intercepts:"
   ]
  },
  {
   "cell_type": "code",
   "execution_count": null,
   "metadata": {
    "tags": []
   },
   "outputs": [],
   "source": [
    "with Figure(1,2):\n",
    "    plot_scatter_with_line(x_y_table, 'x', 'y', a, b)\n",
    "    plot_scatter_with_line(x_y_table, 'x', 'y', 0.06, -20)"
   ]
  },
  {
   "cell_type": "code",
   "execution_count": null,
   "metadata": {
    "tags": []
   },
   "outputs": [],
   "source": [
    "\n",
    "interact(plot_scatter_with_line, \n",
    "         table = Fixed(x_y_table),\n",
    "         x_label = Fixed('x'),\n",
    "         y_label = Fixed('y'),\n",
    "         a = Slider(-1,1,0.01),\n",
    "         b = Slider(-35,-8,0.1))"
   ]
  },
  {
   "cell_type": "markdown",
   "metadata": {},
   "source": [
    "## 2. Predict and evaluate"
   ]
  },
  {
   "cell_type": "code",
   "execution_count": null,
   "metadata": {
    "tags": []
   },
   "outputs": [],
   "source": [
    "def line_predictions(a, b, x): \n",
    "    \"\"\"\n",
    "    Computes the prediction  y_hat = a * x + b\n",
    "    where a and b are the slope and intercept and x is the set of x-values.\n",
    "    \"\"\"\n",
    "    return a * x + b"
   ]
  },
  {
   "cell_type": "code",
   "execution_count": null,
   "metadata": {
    "tags": []
   },
   "outputs": [],
   "source": [
    "y_hat = line_predictions(a, b, x_y_table.column(\"x\"))\n",
    "prediction_table = x_y_table.with_columns(\"y_hat\", y_hat)"
   ]
  },
  {
   "cell_type": "code",
   "execution_count": null,
   "metadata": {
    "tags": []
   },
   "outputs": [],
   "source": [
    "prediction_table.take(np.arange(10, 15))"
   ]
  },
  {
   "cell_type": "markdown",
   "metadata": {},
   "source": [
    "A \"residual\" is `y` - `y_hat`. In other words, a \"residual\" is the true `y` minus the prediction made by our line, `y_hat`. "
   ]
  },
  {
   "cell_type": "code",
   "execution_count": null,
   "metadata": {
    "tags": []
   },
   "outputs": [],
   "source": [
    "residuals = prediction_table.column(\"y\") - prediction_table.column(\"y_hat\")\n",
    "prediction_table = prediction_table.with_columns('residual', residuals)\n",
    "prediction_table.show(3)"
   ]
  },
  {
   "cell_type": "code",
   "execution_count": null,
   "metadata": {
    "tags": []
   },
   "outputs": [],
   "source": [
    "\n",
    "interact(visualize_scatter_with_line_and_residuals, \n",
    "        table = Fixed(x_y_table),\n",
    "        x_label = Fixed('x'),\n",
    "        y_label = Fixed('y'),                     \n",
    "        a = Slider(-1,1,0.01),\n",
    "        b = Slider(-35,-8,0.1))"
   ]
  },
  {
   "cell_type": "markdown",
   "metadata": {},
   "source": [
    "Here, **mean squared error** (MSE) first squares the residuals and then takes the mean. \n",
    "\n",
    "Since we want our predictions (`y_hat`) to be closer to the observed values `y` a *smaller* MSE value is *better*.  "
   ]
  },
  {
   "cell_type": "code",
   "execution_count": null,
   "metadata": {
    "tags": []
   },
   "outputs": [],
   "source": [
    "np.mean(residuals**2)"
   ]
  },
  {
   "cell_type": "markdown",
   "metadata": {},
   "source": [
    "Let's write a function that computes the MSE for any table with data and line characterized by `a` and `b`. "
   ]
  },
  {
   "cell_type": "code",
   "execution_count": null,
   "metadata": {
    "tags": []
   },
   "outputs": [],
   "source": [
    "def mean_squared_error(table, x_label, y_label, a, b): \n",
    "    y_hat = line_predictions(a, b, table.column(x_label))\n",
    "    residual = table.column(y_label) - y_hat\n",
    "    return np.mean(residual**2)"
   ]
  },
  {
   "cell_type": "code",
   "execution_count": null,
   "metadata": {
    "tags": []
   },
   "outputs": [],
   "source": [
    "mean_squared_error(x_y_table, 'x', 'y', a, b)"
   ]
  },
  {
   "cell_type": "code",
   "execution_count": null,
   "metadata": {
    "tags": []
   },
   "outputs": [],
   "source": [
    "mean_squared_error(x_y_table, 'x', 'y', 0.04, -24)"
   ]
  },
  {
   "cell_type": "code",
   "execution_count": null,
   "metadata": {
    "tags": []
   },
   "outputs": [],
   "source": [
    "mean_squared_error(x_y_table, 'x', 'y', 0.02, -20)"
   ]
  },
  {
   "cell_type": "code",
   "execution_count": null,
   "metadata": {
    "tags": []
   },
   "outputs": [],
   "source": [
    "interact(visualize_scatter_with_line_and_mse, \n",
    "        table = Fixed(x_y_table),\n",
    "        x_label = Fixed('x'),\n",
    "        y_label = Fixed('y'),                     \n",
    "        a = Slider(-1,1,0.01),\n",
    "        b = Slider(-35,-8,0.1))"
   ]
  },
  {
   "cell_type": "markdown",
   "metadata": {},
   "source": [
    "## 3. Fit the Best Line Manually"
   ]
  },
  {
   "cell_type": "code",
   "execution_count": null,
   "metadata": {
    "tags": []
   },
   "outputs": [],
   "source": [
    "visualize_regression_line_and_mse_heat(x_y_table, 'x', 'y')"
   ]
  },
  {
   "cell_type": "markdown",
   "metadata": {},
   "source": [
    "## 4. Fit the Best Line with Brute Force"
   ]
  },
  {
   "cell_type": "code",
   "execution_count": null,
   "metadata": {
    "tags": []
   },
   "outputs": [],
   "source": [
    "# Brute force loop to find a and b \n",
    "lowest_mse = np.inf\n",
    "a_for_lowest = 0\n",
    "b_for_lowest = 0\n",
    "\n",
    "for a in np.arange(-0.5, 0.5, 0.001): \n",
    "    for b in np.arange(-35, -10, 1): \n",
    "        mse = mean_squared_error(x_y_table, 'x', 'y', a, b)\n",
    "        if mse < lowest_mse: \n",
    "            lowest_mse = mse\n",
    "            a_for_lowest = a\n",
    "            b_for_lowest = b "
   ]
  },
  {
   "cell_type": "code",
   "execution_count": null,
   "metadata": {
    "tags": []
   },
   "outputs": [],
   "source": [
    "lowest_mse, a_for_lowest, b_for_lowest"
   ]
  },
  {
   "cell_type": "code",
   "execution_count": null,
   "metadata": {
    "tags": []
   },
   "outputs": [],
   "source": [
    "# Looks pretty good when we plot it! \n",
    "plot_regression_line_and_mse_heat(x_y_table, 'x', 'y', a_for_lowest, b_for_lowest)"
   ]
  },
  {
   "cell_type": "markdown",
   "metadata": {
    "tags": []
   },
   "source": [
    "## 5.  Fit the Best Line with minimize()"
   ]
  },
  {
   "cell_type": "markdown",
   "metadata": {},
   "source": [
    "This is really an optimization problem for a curve in 3d."
   ]
  },
  {
   "cell_type": "code",
   "execution_count": null,
   "metadata": {
    "tags": []
   },
   "outputs": [],
   "source": [
    "plot_regression_line_and_mse_heat(x_y_table, \n",
    "                                  'x', 'y', \n",
    "                                  a_for_lowest, b_for_lowest, \n",
    "                                  show_mse='3d')"
   ]
  },
  {
   "cell_type": "code",
   "execution_count": null,
   "metadata": {
    "tags": []
   },
   "outputs": [],
   "source": [
    "visualize_regression_line_and_mse_heat(x_y_table, 'x', 'y', show_mse='3d')"
   ]
  },
  {
   "cell_type": "code",
   "execution_count": null,
   "metadata": {
    "tags": []
   },
   "outputs": [],
   "source": [
    "def linear_regression(table, x_label, y_label):\n",
    "    \"\"\"\n",
    "    Return an array containing the slope and intercept of the line best fitting \n",
    "    the table's data according to the mean square error loss function.\n",
    "    \"\"\"\n",
    "    \n",
    "    # A helper function that takes *only* the two variables we need to optimize.\n",
    "    # This is necessary to use minimize below, because the function we want\n",
    "    # to minimize cannot take any parameters beyond those it will solve for.\n",
    "    def mse_for_a_b(a, b):\n",
    "        return mean_squared_error(table, x_label, y_label, a, b)\n",
    "    \n",
    "    # We can use a built-in function minimize that uses gradient descent\n",
    "    # to find the optimal a and b for our mean squared error function     \n",
    "    return minimize(mse_for_a_b)\n",
    "\n",
    "optimal = linear_regression(x_y_table, 'x', 'y')\n",
    "a_optimal = optimal.item(0)\n",
    "b_optimal = optimal.item(1)\n",
    "plot_regression_line_and_mse_heat(x_y_table, 'x', 'y', a_optimal, b_optimal)"
   ]
  }
 ],
 "metadata": {
  "kernelspec": {
   "display_name": "Python 3 (ipykernel)",
   "language": "python",
   "name": "python3"
  },
  "language_info": {
   "codemirror_mode": {
    "name": "ipython",
    "version": 3
   },
   "file_extension": ".py",
   "mimetype": "text/x-python",
   "name": "python",
   "nbconvert_exporter": "python",
   "pygments_lexer": "ipython3",
   "version": "3.11.0"
  },
  "vscode": {
   "interpreter": {
    "hash": "aee8b7b246df8f9039afb4144a1f6fd8d2ca17a180786b69acc140d282b71a49"
   }
  },
  "widgets": {
   "application/vnd.jupyter.widget-state+json": {
    "state": {},
    "version_major": 2,
    "version_minor": 0
   }
  }
 },
 "nbformat": 4,
 "nbformat_minor": 4
}
