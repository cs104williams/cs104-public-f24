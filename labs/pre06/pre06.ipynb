{
 "cells": [
  {
   "cell_type": "code",
   "execution_count": null,
   "id": "83ebcd2a",
   "metadata": {
    "deletable": false,
    "editable": false
   },
   "outputs": [],
   "source": [
    "# Initialize Otter\n",
    "import otter\n",
    "grader = otter.Notebook(\"pre06.ipynb\")"
   ]
  },
  {
   "cell_type": "markdown",
   "id": "8b6e8e4c",
   "metadata": {
    "deletable": false,
    "editable": false
   },
   "source": [
    "<table style=\"width: 100%;\">\n",
    "<tr style=\"background-color: transparent;\">\n",
    "<td width=\"100px\"><img src=\"https://cs104williams.github.io/assets/cs104-logo.png\" width=\"90px\" style=\"text-align: center\"/></td>\n",
    "<td>\n",
    "  <p style=\"margin-bottom: 0px; text-align: left; font-size: 18pt;\"><strong>CSCI 104: Data Science and Computing for All</strong><br>\n",
    "                Williams College<br>\n",
    "                Fall 2024</p>\n",
    "</td>\n",
    "</tr>\n"
   ]
  },
  {
   "cell_type": "markdown",
   "id": "baa3db0d",
   "metadata": {
    "deletable": false,
    "editable": false,
    "tags": []
   },
   "source": [
    "# Prelab 6: Probability and Simulation"
   ]
  },
  {
   "cell_type": "markdown",
   "id": "f0ce1c45",
   "metadata": {
    "deletable": false,
    "editable": false,
    "tags": []
   },
   "source": [
    "**Instructions**\n",
    "- Before you begin, execute the cell at the TOP of the notebook to load the provided tests, as well as the following cell to setup the notebook by importing some helpful libraries. Each time you start your server, you will need to execute these cells again.  \n",
    "- Be sure to consult your [Python Reference](https://cs104williams.github.io/assets/python-library-ref.html)!\n",
    "- Complete this notebook by filling in the cells provided. \n",
    "- Please be sure to not re-assign variables throughout the notebook.  For example, if you use `max_temperature` in your answer to one question, do not reassign it later on. Otherwise, you will fail tests that you thought you were passing previously.\n",
    "- There are no hidden tests in prelabs.\n",
    "\n",
    "<hr/>\n",
    "<h2>Setup</h2>\n"
   ]
  },
  {
   "cell_type": "code",
   "execution_count": null,
   "id": "832b27fc",
   "metadata": {
    "deletable": false,
    "editable": false,
    "execution": {
     "iopub.execute_input": "2024-10-23T10:14:38.606160Z",
     "iopub.status.busy": "2024-10-23T10:14:38.605904Z",
     "iopub.status.idle": "2024-10-23T10:14:40.120096Z",
     "shell.execute_reply": "2024-10-23T10:14:40.119447Z"
    },
    "tags": []
   },
   "outputs": [],
   "source": [
    "# Run this cell to set up the notebook.\n",
    "# These lines import the numpy, datascience, and cs104 libraries.\n",
    "\n",
    "import numpy as np\n",
    "from datascience import *\n",
    "from cs104 import *\n",
    "%matplotlib inline"
   ]
  },
  {
   "cell_type": "markdown",
   "id": "b8b3f942",
   "metadata": {
    "deletable": false,
    "editable": false
   },
   "source": [
    "<hr style=\"margin-bottom: 0px; padding:0; border: 2px solid #500082;\"/>\n"
   ]
  },
  {
   "cell_type": "markdown",
   "id": "253eed85",
   "metadata": {
    "deletable": false,
    "editable": false,
    "tags": []
   },
   "source": [
    "## 1. Probability and Randomness (20 pts)\n",
    "\n"
   ]
  },
  {
   "cell_type": "markdown",
   "id": "8346d884",
   "metadata": {
    "deletable": false,
    "editable": false
   },
   "source": [
    "<font color='#B1008E'>\n",
    "    \n",
    "##### Learning objectives\n",
    "- Reason rigorously about probability of outcomes involving random chance.\n",
    "- Practice the addition and multiplication rules for probabilities.\n",
    "- Use a loop to simulate and save outcomes dictated random chance.\n",
    "</font>"
   ]
  },
  {
   "cell_type": "markdown",
   "id": "221c683a",
   "metadata": {
    "deletable": false,
    "editable": false
   },
   "source": [
    "You may wish to review [Section 9.5](https://inferentialthinking.com/chapters/09/5/Finding_Probabilities.html) to help gain intuition for probabilities. Good ways to approach probability calculations include:\n",
    "\n",
    "- Thinking one trial at a time: What does the first one have to be? Then what does the next one have to be?\n",
    "- Breaking up the event into distinct ways in which it can happen.\n",
    "- Seeing if it is easier to find the chance that the event does not happen."
   ]
  },
  {
   "cell_type": "markdown",
   "id": "39c981a1",
   "metadata": {
    "deletable": false,
    "editable": false
   },
   "source": [
    "**Running example:** An Olympic archer is able to hit the bull’s-eye 80% of the time. Assume each shot is independent of the\n",
    "others. If the archer shoots 6 arrows, what is the probability of each result described below."
   ]
  },
  {
   "cell_type": "markdown",
   "id": "1c2fc0d6",
   "metadata": {
    "deletable": false,
    "editable": false,
    "tags": []
   },
   "source": [
    "#### Part 1.1 (5 pts)\n"
   ]
  },
  {
   "cell_type": "markdown",
   "id": "b6ecaa25",
   "metadata": {
    "deletable": false,
    "editable": false,
    "tags": []
   },
   "source": [
    "The first bull’s-eye comes on the third arrow."
   ]
  },
  {
   "cell_type": "code",
   "execution_count": null,
   "id": "c3bc6b31",
   "metadata": {
    "deletable": false,
    "execution": {
     "iopub.execute_input": "2024-10-23T10:14:40.123607Z",
     "iopub.status.busy": "2024-10-23T10:14:40.123292Z",
     "iopub.status.idle": "2024-10-23T10:14:40.127652Z",
     "shell.execute_reply": "2024-10-23T10:14:40.127167Z"
    },
    "tags": []
   },
   "outputs": [],
   "source": [
    "first_bullseye_on_third = ...\n",
    "first_bullseye_on_third"
   ]
  },
  {
   "cell_type": "code",
   "execution_count": null,
   "id": "d349aee9",
   "metadata": {
    "deletable": false,
    "editable": false
   },
   "outputs": [],
   "source": [
    "grader.check(\"p1.1\")"
   ]
  },
  {
   "cell_type": "markdown",
   "id": "1c0542fc",
   "metadata": {
    "deletable": false,
    "editable": false,
    "tags": []
   },
   "source": [
    "#### Part 1.2 (5 pts)\n"
   ]
  },
  {
   "cell_type": "markdown",
   "id": "4d4c840b",
   "metadata": {
    "deletable": false,
    "editable": false,
    "tags": []
   },
   "source": [
    "The bull’s-eye is hit all six times."
   ]
  },
  {
   "cell_type": "code",
   "execution_count": null,
   "id": "aa5f88a3",
   "metadata": {
    "deletable": false,
    "execution": {
     "iopub.execute_input": "2024-10-23T10:14:40.140573Z",
     "iopub.status.busy": "2024-10-23T10:14:40.140416Z",
     "iopub.status.idle": "2024-10-23T10:14:40.143698Z",
     "shell.execute_reply": "2024-10-23T10:14:40.143256Z"
    },
    "tags": []
   },
   "outputs": [],
   "source": [
    "bullseye_hit_all_six = ...\n",
    "bullseye_hit_all_six"
   ]
  },
  {
   "cell_type": "code",
   "execution_count": null,
   "id": "be7b4168",
   "metadata": {
    "deletable": false,
    "editable": false
   },
   "outputs": [],
   "source": [
    "grader.check(\"p1.2\")"
   ]
  },
  {
   "cell_type": "markdown",
   "id": "afc5121f",
   "metadata": {
    "deletable": false,
    "editable": false,
    "tags": []
   },
   "source": [
    "#### Part 1.3 (5 pts)\n"
   ]
  },
  {
   "cell_type": "markdown",
   "id": "7c36cd01",
   "metadata": {
    "deletable": false,
    "editable": false,
    "tags": []
   },
   "source": [
    "The bull’s-eye is missed at least once.  (Think about how this relates to the previous part!)"
   ]
  },
  {
   "cell_type": "code",
   "execution_count": null,
   "id": "0efcd076",
   "metadata": {
    "deletable": false,
    "execution": {
     "iopub.execute_input": "2024-10-23T10:14:40.155547Z",
     "iopub.status.busy": "2024-10-23T10:14:40.155386Z",
     "iopub.status.idle": "2024-10-23T10:14:40.158390Z",
     "shell.execute_reply": "2024-10-23T10:14:40.157992Z"
    },
    "tags": []
   },
   "outputs": [],
   "source": [
    "bullseye_missed_atleast_once = ...\n",
    "bullseye_missed_atleast_once"
   ]
  },
  {
   "cell_type": "code",
   "execution_count": null,
   "id": "72d98acd",
   "metadata": {
    "deletable": false,
    "editable": false
   },
   "outputs": [],
   "source": [
    "grader.check(\"p1.3\")"
   ]
  },
  {
   "cell_type": "markdown",
   "id": "367bd958",
   "metadata": {
    "deletable": false,
    "editable": false,
    "tags": []
   },
   "source": [
    "#### Part 1.4 (5 pts)\n"
   ]
  },
  {
   "cell_type": "markdown",
   "id": "38813631",
   "metadata": {
    "deletable": false,
    "editable": false,
    "tags": []
   },
   "source": [
    "Use the [simulate](http://cs.williams.edu/~cs104/auto/inference-library-ref.html#simulate) function in our inference library to create an empirical distribution of the number of bulls eyes hit when our archer shoots 6 arrows.  We provide a function to make one outcome.  You should use 10,000 trials."
   ]
  },
  {
   "cell_type": "code",
   "execution_count": null,
   "id": "87ed1027",
   "metadata": {
    "deletable": false,
    "execution": {
     "iopub.execute_input": "2024-10-23T10:14:40.170197Z",
     "iopub.status.busy": "2024-10-23T10:14:40.170046Z",
     "iopub.status.idle": "2024-10-23T10:14:40.531851Z",
     "shell.execute_reply": "2024-10-23T10:14:40.531366Z"
    },
    "tags": []
   },
   "outputs": [],
   "source": [
    "def hits_in_6():\n",
    "    \"\"\"\n",
    "    Return the number of bullseye's hit in a random sample of 6 shots.\n",
    "    \"\"\"\n",
    "    hit_miss_proportions = make_array(0.8, 0.2)\n",
    "    return 6 * sample_proportions(6, hit_miss_proportions).item(0)\n",
    "\n",
    "hits = ...\n",
    "\n",
    "Table().with_columns('Hits', hits).hist(bins = np.arange(0.5, 7.5, 1))"
   ]
  },
  {
   "cell_type": "code",
   "execution_count": null,
   "id": "ddd18981",
   "metadata": {
    "deletable": false,
    "editable": false
   },
   "outputs": [],
   "source": [
    "grader.check(\"p1.4\")"
   ]
  },
  {
   "cell_type": "markdown",
   "id": "8f3cc7fb",
   "metadata": {
    "deletable": false,
    "editable": false
   },
   "source": [
    "Here is the histogram again, with a line marking the percentage of samples with 6 hits predicted by your `bullseye_hit_all_six` probability.  Does your histogram agree with that value?"
   ]
  },
  {
   "cell_type": "code",
   "execution_count": null,
   "id": "12dbd5af",
   "metadata": {
    "deletable": false,
    "editable": false,
    "execution": {
     "iopub.execute_input": "2024-10-23T10:14:40.550368Z",
     "iopub.status.busy": "2024-10-23T10:14:40.550213Z",
     "iopub.status.idle": "2024-10-23T10:14:40.756763Z",
     "shell.execute_reply": "2024-10-23T10:14:40.756314Z"
    },
    "tags": []
   },
   "outputs": [],
   "source": [
    "plot = Table().with_columns('Hits', hits).hist(bins = np.arange(0.5, 7.5, 1))\n",
    "plot.line(y = bullseye_hit_all_six, color='yellow', linestyle='--')"
   ]
  },
  {
   "cell_type": "markdown",
   "id": "c2cb1b6a",
   "metadata": {
    "deletable": false,
    "editable": false
   },
   "source": [
    "<hr style=\"margin-bottom: 0px; padding:0; border: 2px solid #500082;\"/>\n"
   ]
  },
  {
   "cell_type": "markdown",
   "id": "db462e63",
   "metadata": {
    "deletable": false,
    "editable": false
   },
   "source": [
    "## 2. Scrabble Tiles (35 pts)\n",
    "\n"
   ]
  },
  {
   "cell_type": "markdown",
   "id": "a8ee7ac1",
   "metadata": {
    "deletable": false,
    "editable": false
   },
   "source": [
    "<font color='#B1008E'>\n",
    "    \n",
    "##### Learning objectives\n",
    "- Write functions that compute probabilities for outcomes dictated by random chance.\n",
    "- Compute the empirical distribution of a test static for a model.\n",
    "</font>\n",
    "\n",
    "In this question, we'll simulate properties of a sample of tiles from [Scrabble](https://en.wikipedia.org/wiki/Scrabble).  In this game, players randonly draw tiles that show both a letter and a point value, and then attempt to create inter-connected words as you might find in a crossword puzzle.  \n",
    "\n",
    "The next two cells create a table containing the letter and point value for every tile in Scrabble and an array of vowels."
   ]
  },
  {
   "cell_type": "code",
   "execution_count": null,
   "id": "3ab8a294",
   "metadata": {
    "deletable": false,
    "editable": false,
    "execution": {
     "iopub.execute_input": "2024-10-23T10:14:40.759591Z",
     "iopub.status.busy": "2024-10-23T10:14:40.759333Z",
     "iopub.status.idle": "2024-10-23T10:14:40.766276Z",
     "shell.execute_reply": "2024-10-23T10:14:40.765776Z"
    },
    "tags": []
   },
   "outputs": [],
   "source": [
    "scrabble_tiles = Table().read_table(\"tiles.csv\")\n",
    "scrabble_tiles.sample(10)"
   ]
  },
  {
   "cell_type": "code",
   "execution_count": null,
   "id": "d3544758",
   "metadata": {
    "deletable": false,
    "editable": false,
    "execution": {
     "iopub.execute_input": "2024-10-23T10:14:40.768636Z",
     "iopub.status.busy": "2024-10-23T10:14:40.768424Z",
     "iopub.status.idle": "2024-10-23T10:14:40.771164Z",
     "shell.execute_reply": "2024-10-23T10:14:40.770727Z"
    },
    "tags": []
   },
   "outputs": [],
   "source": [
    "vowels_array = make_array(\"A\", \"E\", \"I\", \"O\", \"U\") #we won't count Y as a vowel for the purposes of this prelab"
   ]
  },
  {
   "cell_type": "markdown",
   "id": "9c364ec8",
   "metadata": {
    "deletable": false,
    "editable": false
   },
   "source": [
    "#### Part 2.1 (5 pts)\n"
   ]
  },
  {
   "cell_type": "markdown",
   "id": "6635dcf7",
   "metadata": {
    "deletable": false,
    "editable": false
   },
   "source": [
    "Write a function to compute the **exact** probability of randomly drawing a particular letter from the full collection of tiles."
   ]
  },
  {
   "cell_type": "code",
   "execution_count": null,
   "id": "4cbab102",
   "metadata": {
    "deletable": false,
    "execution": {
     "iopub.execute_input": "2024-10-23T10:14:40.773745Z",
     "iopub.status.busy": "2024-10-23T10:14:40.773575Z",
     "iopub.status.idle": "2024-10-23T10:14:40.776364Z",
     "shell.execute_reply": "2024-10-23T10:14:40.775837Z"
    },
    "tags": []
   },
   "outputs": [],
   "source": [
    "def probability_of_drawing_letter(letter):\n",
    "    ..."
   ]
  },
  {
   "cell_type": "code",
   "execution_count": null,
   "id": "bed96c4b",
   "metadata": {
    "deletable": false,
    "execution": {
     "iopub.execute_input": "2024-10-23T10:14:40.778441Z",
     "iopub.status.busy": "2024-10-23T10:14:40.778275Z",
     "iopub.status.idle": "2024-10-23T10:14:40.781487Z",
     "shell.execute_reply": "2024-10-23T10:14:40.780993Z"
    },
    "tags": []
   },
   "outputs": [],
   "source": [
    "# Example call of the function \n",
    "probability_of_drawing_letter(\"A\")"
   ]
  },
  {
   "cell_type": "code",
   "execution_count": null,
   "id": "de110a61",
   "metadata": {
    "deletable": false,
    "editable": false
   },
   "outputs": [],
   "source": [
    "grader.check(\"p2.1\")"
   ]
  },
  {
   "cell_type": "markdown",
   "id": "180d4e10",
   "metadata": {
    "deletable": false,
    "editable": false
   },
   "source": [
    "#### Part 2.2 (5 pts)\n"
   ]
  },
  {
   "cell_type": "markdown",
   "id": "1c743f71",
   "metadata": {
    "deletable": false,
    "editable": false
   },
   "source": [
    "Set `probability_of_drawing_vowel` to the probability that a tile drawn from the full set of tiles is a vowel. \n",
    "\n",
    "*Hints:* \n",
    "- We gave you the `vowels_array` at the beginning of this question. "
   ]
  },
  {
   "cell_type": "code",
   "execution_count": null,
   "id": "86c92ec7",
   "metadata": {
    "deletable": false,
    "execution": {
     "iopub.execute_input": "2024-10-23T10:14:40.798102Z",
     "iopub.status.busy": "2024-10-23T10:14:40.797949Z",
     "iopub.status.idle": "2024-10-23T10:14:40.802267Z",
     "shell.execute_reply": "2024-10-23T10:14:40.801823Z"
    },
    "tags": []
   },
   "outputs": [],
   "source": [
    "# You may use more than one line if you like.\n",
    "probability_of_drawing_vowel = ...\n",
    "probability_of_drawing_vowel"
   ]
  },
  {
   "cell_type": "code",
   "execution_count": null,
   "id": "89eff5cc",
   "metadata": {
    "deletable": false,
    "editable": false
   },
   "outputs": [],
   "source": [
    "grader.check(\"p2.2\")"
   ]
  },
  {
   "cell_type": "markdown",
   "id": "3d2536f8",
   "metadata": {
    "deletable": false,
    "editable": false
   },
   "source": [
    "#### Part 2.3 (5 pts)\n"
   ]
  },
  {
   "cell_type": "markdown",
   "id": "13aab453",
   "metadata": {
    "deletable": false,
    "editable": false
   },
   "source": [
    "Write a function to compute the probability of drawing all vowels when you draw `n` tiles.\n",
    "\n",
    "*Hint:* The probability you just computed may be helpful here. "
   ]
  },
  {
   "cell_type": "code",
   "execution_count": null,
   "id": "8073942a",
   "metadata": {
    "deletable": false,
    "execution": {
     "iopub.execute_input": "2024-10-23T10:14:40.815760Z",
     "iopub.status.busy": "2024-10-23T10:14:40.815602Z",
     "iopub.status.idle": "2024-10-23T10:14:40.818803Z",
     "shell.execute_reply": "2024-10-23T10:14:40.818390Z"
    },
    "tags": []
   },
   "outputs": [],
   "source": [
    "def probability_of_drawing_all_vowels(n):\n",
    "    ...\n",
    "\n",
    "# Example call: drawing 5 tiles \n",
    "probability_of_drawing_all_vowels(5)"
   ]
  },
  {
   "cell_type": "code",
   "execution_count": null,
   "id": "9ef02c60",
   "metadata": {
    "deletable": false,
    "editable": false
   },
   "outputs": [],
   "source": [
    "grader.check(\"p2.3\")"
   ]
  },
  {
   "cell_type": "markdown",
   "id": "444adf64",
   "metadata": {
    "deletable": false,
    "editable": false
   },
   "source": [
    "The following plots the probability of drawing all vowels as you increase `n`.  You may run it once you complete the above cell."
   ]
  },
  {
   "cell_type": "code",
   "execution_count": null,
   "id": "517263fc",
   "metadata": {
    "deletable": false,
    "editable": false,
    "execution": {
     "iopub.execute_input": "2024-10-23T10:14:40.835669Z",
     "iopub.status.busy": "2024-10-23T10:14:40.835503Z",
     "iopub.status.idle": "2024-10-23T10:14:41.050644Z",
     "shell.execute_reply": "2024-10-23T10:14:41.050181Z"
    },
    "tags": []
   },
   "outputs": [],
   "source": [
    "probabilities_of_all_vowels = Table([\"Num Tiles\", \"Probability of All Vowels\"])\n",
    "for i in np.arange(0,16):\n",
    "    probabilities_of_all_vowels.append([i, probability_of_drawing_all_vowels(i)])\n",
    "probabilities_of_all_vowels.scatter(\"Num Tiles\")"
   ]
  },
  {
   "cell_type": "markdown",
   "id": "e5b9e935",
   "metadata": {
    "deletable": false,
    "editable": false,
    "tags": []
   },
   "source": [
    "#### Part 2.4 (5 pts)\n"
   ]
  },
  {
   "cell_type": "markdown",
   "id": "a58160d5",
   "metadata": {
    "deletable": false,
    "editable": false
   },
   "source": [
    "For the last parts of this question, we will compute an empirical distribution for the proportion of letter E's in samples of `n` tiles drawn randomly from the full set of tiles.  As a first step, we'll need to be able to draw `n` random tiles from `scrabble_tile`.  We'll use [table.sample](https://www.cs.williams.edu/~cs104/auto/python-library-ref.html#sample).  Notice that we don't sample with replacement, since once we select a tile once, we don't want to select the same tile again.  Run the following cell a few times to verify our sample works as expected."
   ]
  },
  {
   "cell_type": "code",
   "execution_count": null,
   "id": "45580902",
   "metadata": {
    "deletable": false,
    "editable": false,
    "execution": {
     "iopub.execute_input": "2024-10-23T10:14:41.053330Z",
     "iopub.status.busy": "2024-10-23T10:14:41.053157Z",
     "iopub.status.idle": "2024-10-23T10:14:41.057064Z",
     "shell.execute_reply": "2024-10-23T10:14:41.056659Z"
    },
    "tags": []
   },
   "outputs": [],
   "source": [
    "scrabble_tiles.sample(5, with_replacement=False)"
   ]
  },
  {
   "cell_type": "markdown",
   "id": "ce42aef3",
   "metadata": {
    "deletable": false,
    "editable": false
   },
   "source": [
    "Complete the following function, `sample_letters`. This function creates a random tile sample of size `sample_size` and returns the letters from that sample as an array."
   ]
  },
  {
   "cell_type": "code",
   "execution_count": null,
   "id": "b33b05ee",
   "metadata": {
    "deletable": false,
    "execution": {
     "iopub.execute_input": "2024-10-23T10:14:41.059393Z",
     "iopub.status.busy": "2024-10-23T10:14:41.059228Z",
     "iopub.status.idle": "2024-10-23T10:14:41.061780Z",
     "shell.execute_reply": "2024-10-23T10:14:41.061313Z"
    },
    "tags": []
   },
   "outputs": [],
   "source": [
    "def sample_letters(sample_size):\n",
    "    ..."
   ]
  },
  {
   "cell_type": "code",
   "execution_count": null,
   "id": "2b428abe",
   "metadata": {
    "deletable": false,
    "editable": false
   },
   "outputs": [],
   "source": [
    "grader.check(\"p2.4\")"
   ]
  },
  {
   "cell_type": "markdown",
   "id": "9d717ac5",
   "metadata": {
    "deletable": false,
    "editable": false,
    "tags": []
   },
   "source": [
    "#### Part 2.5 (5 pts)\n"
   ]
  },
  {
   "cell_type": "markdown",
   "id": "242e20be",
   "metadata": {
    "deletable": false,
    "editable": false
   },
   "source": [
    "Now, complete the following function `proportion_e`. This function takes `sample`, an array of letters, as input\n",
    "and returns the proportion of E's in that sample."
   ]
  },
  {
   "cell_type": "code",
   "execution_count": null,
   "id": "df2ae416",
   "metadata": {
    "deletable": false,
    "execution": {
     "iopub.execute_input": "2024-10-23T10:14:41.083251Z",
     "iopub.status.busy": "2024-10-23T10:14:41.083085Z",
     "iopub.status.idle": "2024-10-23T10:14:41.085565Z",
     "shell.execute_reply": "2024-10-23T10:14:41.085174Z"
    },
    "tags": []
   },
   "outputs": [],
   "source": [
    "def proportion_e(sample):\n",
    "    ..."
   ]
  },
  {
   "cell_type": "code",
   "execution_count": null,
   "id": "e4750eac",
   "metadata": {
    "deletable": false,
    "editable": false
   },
   "outputs": [],
   "source": [
    "grader.check(\"p2.5\")"
   ]
  },
  {
   "cell_type": "markdown",
   "id": "39ade4bc",
   "metadata": {
    "deletable": false,
    "editable": false
   },
   "source": [
    "#### Part 2.6 (5 pts)\n"
   ]
  },
  {
   "cell_type": "markdown",
   "id": "b38ca2c6",
   "metadata": {
    "deletable": false,
    "editable": false
   },
   "source": [
    "Let's create an empirical distribution for the proportion of E's in `num_trials` samples, each of size `sample_size`.  \n",
    "\n",
    "*Hint:*\n",
    "This function can be written in one line using `simulate_sample_statistic` and the functions you created above."
   ]
  },
  {
   "cell_type": "code",
   "execution_count": null,
   "id": "5f0c3cb1",
   "metadata": {
    "deletable": false,
    "execution": {
     "iopub.execute_input": "2024-10-23T10:14:41.102595Z",
     "iopub.status.busy": "2024-10-23T10:14:41.102445Z",
     "iopub.status.idle": "2024-10-23T10:14:41.106415Z",
     "shell.execute_reply": "2024-10-23T10:14:41.106006Z"
    },
    "tags": []
   },
   "outputs": [],
   "source": [
    "def empirical_distribution_for_proprtion_e(sample_size, num_trials):\n",
    "    ...\n",
    "\n",
    "empirical_distribution_for_proprtion_e(15, 5)"
   ]
  },
  {
   "cell_type": "markdown",
   "id": "6de63281",
   "metadata": {
    "deletable": false,
    "editable": false
   },
   "source": [
    "Here is one example use of the `empirical_distribution_for_proprtion_e` function you just wrote that uses our plotting code to draw the histogram of the computed distribution.  \n",
    "\n",
    "You do not need to change anything in the cells below. Use it to help debug your `empirical_distribution_for_proprtion_e` function. "
   ]
  },
  {
   "cell_type": "code",
   "execution_count": null,
   "id": "a53f846e",
   "metadata": {
    "deletable": false,
    "editable": false,
    "execution": {
     "iopub.execute_input": "2024-10-23T10:14:41.867165Z",
     "iopub.status.busy": "2024-10-23T10:14:41.866970Z",
     "iopub.status.idle": "2024-10-23T10:14:42.831015Z",
     "shell.execute_reply": "2024-10-23T10:14:42.830498Z"
    },
    "tags": []
   },
   "outputs": [],
   "source": [
    "def plot_empirical_distribution_for_proportion_e(sample_size, num_trials):\n",
    "    statistics = empirical_distribution_for_proprtion_e(sample_size, num_trials)\n",
    "    \n",
    "    # Create a histogram of our sample statistic.\n",
    "    Table().with_column(\"Proportion of E's\", statistics).hist(bins=np.arange(0,1.01,1/sample_size))\n",
    "    \n",
    "plot_empirical_distribution_for_proportion_e(15, 10000)"
   ]
  },
  {
   "cell_type": "code",
   "execution_count": null,
   "id": "45342502",
   "metadata": {
    "deletable": false,
    "editable": false
   },
   "outputs": [],
   "source": [
    "grader.check(\"p2.6\")"
   ]
  },
  {
   "cell_type": "markdown",
   "id": "8f1c1d9f",
   "metadata": {
    "deletable": false,
    "editable": false
   },
   "source": [
    "Once your function is complete, you can run the following cell, which creates an interactive visualization where you can view the distributions for different choices sample size and number of trials."
   ]
  },
  {
   "cell_type": "code",
   "execution_count": null,
   "id": "8c2f14e8",
   "metadata": {
    "deletable": false,
    "editable": false,
    "execution": {
     "iopub.execute_input": "2024-10-23T10:14:42.833577Z",
     "iopub.status.busy": "2024-10-23T10:14:42.833277Z",
     "iopub.status.idle": "2024-10-23T10:14:43.086099Z",
     "shell.execute_reply": "2024-10-23T10:14:43.085495Z"
    },
    "tags": []
   },
   "outputs": [],
   "source": [
    "all_letters = np.unique(scrabble_tiles.sort(\"Letter\").column(\"Letter\"))\n",
    "interact(plot_empirical_distribution_for_proportion_e, sample_size = Slider(1,50,1), \n",
    "        num_trials=Choice(make_array(10,20,50,100,1000,10000)))"
   ]
  },
  {
   "cell_type": "markdown",
   "id": "083a5244",
   "metadata": {
    "deletable": false,
    "editable": false
   },
   "source": [
    "#### Part 2.7 (5 pts)\n"
   ]
  },
  {
   "cell_type": "markdown",
   "id": "3b26ad65",
   "metadata": {
    "deletable": false,
    "editable": false
   },
   "source": [
    "Supposed you don't know how many of each letter are in your collection of 98 tiles.  We can use the empirical distribution of the number of E's found in randomly selected samples of size 15 to estimate the number of E's in the collection.\n",
    "\n",
    "We start by gathering our sample statistic (proportion of sample that is E) for 10000 samples:"
   ]
  },
  {
   "cell_type": "code",
   "execution_count": null,
   "id": "bd632af8",
   "metadata": {
    "deletable": false,
    "editable": false,
    "execution": {
     "iopub.execute_input": "2024-10-23T10:14:43.089647Z",
     "iopub.status.busy": "2024-10-23T10:14:43.089461Z",
     "iopub.status.idle": "2024-10-23T10:14:44.047612Z",
     "shell.execute_reply": "2024-10-23T10:14:44.047093Z"
    },
    "tags": []
   },
   "outputs": [],
   "source": [
    "# No work necessary here. Just run this cell.\n",
    "sample_size = 15\n",
    "sample_statistics = empirical_distribution_for_proprtion_e(sample_size, 10000)\n",
    "Table().with_column(\"Proportion of E's in samples of size 15\", sample_statistics).hist(bins=np.arange(0,1,1/15))"
   ]
  },
  {
   "cell_type": "markdown",
   "id": "54dd6240",
   "metadata": {
    "deletable": false,
    "editable": false
   },
   "source": [
    "If our samples are truly random, the average proportion of E's in our samples will approximate the proportion of E's in the population.  Here is that average proportion in our **samples**."
   ]
  },
  {
   "cell_type": "code",
   "execution_count": null,
   "id": "20f091a7",
   "metadata": {
    "deletable": false,
    "editable": false,
    "execution": {
     "iopub.execute_input": "2024-10-23T10:14:44.050120Z",
     "iopub.status.busy": "2024-10-23T10:14:44.049931Z",
     "iopub.status.idle": "2024-10-23T10:14:44.053494Z",
     "shell.execute_reply": "2024-10-23T10:14:44.053103Z"
    },
    "tags": []
   },
   "outputs": [],
   "source": [
    "np.mean(sample_statistics)"
   ]
  },
  {
   "cell_type": "markdown",
   "id": "33ebde75",
   "metadata": {
    "deletable": false,
    "editable": false
   },
   "source": [
    "Use this observation to estimate the number of E's in our collection, namely the whole **population** of 98 tiles.  Make sure your answer should be a whole number since we can't have fractional tiles."
   ]
  },
  {
   "cell_type": "code",
   "execution_count": null,
   "id": "1123e093",
   "metadata": {
    "deletable": false,
    "execution": {
     "iopub.execute_input": "2024-10-23T10:14:44.055775Z",
     "iopub.status.busy": "2024-10-23T10:14:44.055619Z",
     "iopub.status.idle": "2024-10-23T10:14:44.058973Z",
     "shell.execute_reply": "2024-10-23T10:14:44.058549Z"
    },
    "tags": []
   },
   "outputs": [],
   "source": [
    "estimate_of_es = ...\n",
    "estimate_of_es"
   ]
  },
  {
   "cell_type": "code",
   "execution_count": null,
   "id": "3cef16d5",
   "metadata": {
    "deletable": false,
    "editable": false
   },
   "outputs": [],
   "source": [
    "grader.check(\"p2.7\")"
   ]
  },
  {
   "cell_type": "markdown",
   "id": "1c5dd97e",
   "metadata": {
    "deletable": false,
    "editable": false
   },
   "source": [
    "<hr class=\"m-0\" style=\"border: 3px solid #500082;\"/>\n",
    "\n",
    "# You're Done!\n",
    "Follow these steps to submit your work:\n",
    "* Run the tests and verify that they pass as you expect. \n",
    "* Choose **Save Notebook** from the **File** menu.\n",
    "* **Run the final cell** and click the link below to download the zip file. \n",
    "\n",
    "Once you have downloaded that file, go to [Gradescope](https://www.gradescope.com/) and submit the zip file to \n",
    "the corresponding assignment. For Prelab N, the assignment will be called \"Prelab N Autograder\".\n",
    "\n",
    "Once you have submitted, your Gradescope assignment should show you passing all the tests you passed in your assignment notebook.\n"
   ]
  },
  {
   "cell_type": "markdown",
   "id": "937d3673",
   "metadata": {
    "deletable": false,
    "editable": false
   },
   "source": [
    "## Submission\n",
    "\n",
    "Make sure you have run all cells in your notebook in order before running the cell below, so that all images/graphs appear in the output. The cell below will generate a zip file for you to submit. **Please save before exporting!**"
   ]
  },
  {
   "cell_type": "code",
   "execution_count": null,
   "id": "d3ed99a4",
   "metadata": {
    "deletable": false,
    "editable": false
   },
   "outputs": [],
   "source": [
    "# Save your notebook first, then run this cell to export your submission.\n",
    "grader.export(pdf=False, run_tests=True)"
   ]
  },
  {
   "cell_type": "markdown",
   "id": "49da623e",
   "metadata": {},
   "source": [
    " "
   ]
  }
 ],
 "metadata": {
  "celltoolbar": "Edit Metadata",
  "kernelspec": {
   "display_name": "Python 3 (ipykernel)",
   "language": "python",
   "name": "python3"
  },
  "language_info": {
   "codemirror_mode": {
    "name": "ipython",
    "version": 3
   },
   "file_extension": ".py",
   "mimetype": "text/x-python",
   "name": "python",
   "nbconvert_exporter": "python",
   "pygments_lexer": "ipython3",
   "version": "3.11.0"
  },
  "otter": {
   "OK_FORMAT": true,
   "tests": {
    "p1.1": {
     "has_hidden": false,
     "name": "p1.1",
     "points": 5,
     "suites": [
      {
       "cases": [
        {
         "code": ">>> check_str('0 <= first_bullseye_on_third <= 1', locals())\n",
         "failure_message": "probabilities must be in the range [0,1]",
         "hidden": false,
         "locked": false,
         "submit_only": false,
         "success_message": "check(0 <= first_bullseye_on_third <= 1)"
        },
        {
         "code": ">>> check_str('first_bullseye_on_third == approx(0.032)', locals())\n",
         "failure_message": "incorrect final probability",
         "hidden": false,
         "locked": false,
         "submit_only": false,
         "success_message": "check(first_bullseye_on_third == approx(0.032))"
        }
       ],
       "scored": true,
       "setup": "",
       "teardown": "",
       "type": "doctest"
      }
     ]
    },
    "p1.2": {
     "has_hidden": false,
     "name": "p1.2",
     "points": 5,
     "suites": [
      {
       "cases": [
        {
         "code": ">>> check_str('0 <= bullseye_hit_all_six <= 1', locals())\n",
         "failure_message": "probabilities must be in the range [0,1]",
         "hidden": false,
         "locked": false,
         "submit_only": false,
         "success_message": "check(0 <= bullseye_hit_all_six <= 1)"
        },
        {
         "code": ">>> check_str('bullseye_hit_all_six == approx(0.26214)', locals())\n",
         "failure_message": "incorrect final probability",
         "hidden": false,
         "locked": false,
         "submit_only": false,
         "success_message": "check(bullseye_hit_all_six == approx(0.26214))"
        }
       ],
       "scored": true,
       "setup": "",
       "teardown": "",
       "type": "doctest"
      }
     ]
    },
    "p1.3": {
     "has_hidden": false,
     "name": "p1.3",
     "points": 5,
     "suites": [
      {
       "cases": [
        {
         "code": ">>> check_str('0 <= bullseye_missed_atleast_once <= 1', locals())\n",
         "failure_message": "probabilities must be in the range [0,1]",
         "hidden": false,
         "locked": false,
         "submit_only": false,
         "success_message": "check(0 <= bullseye_missed_atleast_once <= 1)"
        },
        {
         "code": ">>> check_str('bullseye_missed_atleast_once == approx(0.73786)', locals())\n",
         "failure_message": "incorrect final probability",
         "hidden": false,
         "locked": false,
         "submit_only": false,
         "success_message": "check(bullseye_missed_atleast_once == approx(0.73786))"
        }
       ],
       "scored": true,
       "setup": "",
       "teardown": "",
       "type": "doctest"
      }
     ]
    },
    "p1.4": {
     "has_hidden": false,
     "name": "p1.4",
     "points": 5,
     "suites": [
      {
       "cases": [
        {
         "code": ">>> check_str('len(hits) == 10000', locals())\n",
         "failure_message": "be sure to use 10,000 trials.",
         "hidden": false,
         "locked": false,
         "submit_only": false,
         "success_message": "check(len(hits) == 10000)"
        },
        {
         "code": ">>> check_str('0 <= hits <= 6', locals())\n",
         "failure_message": "hits should only contain values between 0 and 6.",
         "hidden": false,
         "locked": false,
         "submit_only": false,
         "success_message": "check(0 <= hits <= 6)"
        },
        {
         "code": ">>> check_str('0.25 <= np.mean(hits == 6) <= .30', locals())\n",
         "failure_message": "emprical estimate does not match true probability for 6 hits.",
         "hidden": false,
         "locked": false,
         "submit_only": false,
         "success_message": "check(0.25 <= np.mean(hits == 6) <= .30)"
        }
       ],
       "scored": true,
       "setup": "",
       "teardown": "",
       "type": "doctest"
      }
     ]
    },
    "p2.1": {
     "has_hidden": false,
     "name": "p2.1",
     "points": 5,
     "suites": [
      {
       "cases": [
        {
         "code": ">>> check_str('0 <= probability_of_drawing_letter(\\'Q\\') <= 1', locals())\n",
         "failure_message": "Probabilities must be in the range [0,1]",
         "hidden": false,
         "locked": false,
         "submit_only": false,
         "success_message": "check(0 <= probability_of_drawing_letter('Q') <= 1)"
        },
        {
         "code": ">>> check_str('probability_of_drawing_letter(\\'Q\\') == approx(1/98)', locals())\n",
         "failure_message": "check(probability_of_drawing_letter('Q') == approx(1/98))",
         "hidden": false,
         "locked": false,
         "submit_only": false,
         "success_message": "check(probability_of_drawing_letter('Q') == approx(1/98))"
        },
        {
         "code": ">>> check_str('probability_of_drawing_letter(\\'A\\') == approx(9/98)', locals())\n",
         "failure_message": "check(probability_of_drawing_letter('A') == approx(9/98))",
         "hidden": false,
         "locked": false,
         "submit_only": false,
         "success_message": "check(probability_of_drawing_letter('A') == approx(9/98))"
        }
       ],
       "scored": true,
       "setup": "",
       "teardown": "",
       "type": "doctest"
      }
     ]
    },
    "p2.2": {
     "has_hidden": false,
     "name": "p2.2",
     "points": 5,
     "suites": [
      {
       "cases": [
        {
         "code": ">>> check_str('0 <= probability_of_drawing_vowel <= 1', locals())\n",
         "failure_message": "Probabilities must be in the range [0,1]",
         "hidden": false,
         "locked": false,
         "submit_only": false,
         "success_message": "check(0 <= probability_of_drawing_vowel <= 1)"
        },
        {
         "code": ">>> check_str('probability_of_drawing_vowel == approx(0.42857)', locals())\n",
         "failure_message": "check(probability_of_drawing_vowel == approx(0.42857))",
         "hidden": false,
         "locked": false,
         "submit_only": false,
         "success_message": "check(probability_of_drawing_vowel == approx(0.42857))"
        }
       ],
       "scored": true,
       "setup": "",
       "teardown": "",
       "type": "doctest"
      }
     ]
    },
    "p2.3": {
     "has_hidden": false,
     "name": "p2.3",
     "points": 5,
     "suites": [
      {
       "cases": [
        {
         "code": ">>> check_str('0 <= probability_of_drawing_all_vowels(3) <= 1', locals())\n",
         "failure_message": "Probabilities must be in the range [0,1]",
         "hidden": false,
         "locked": false,
         "submit_only": false,
         "success_message": "check(0 <= probability_of_drawing_all_vowels(3) <= 1)"
        },
        {
         "code": ">>> check_str('probability_of_drawing_all_vowels(5) == approx(0.01446)', locals())\n",
         "failure_message": "check(probability_of_drawing_all_vowels(5) == approx(0.01446))",
         "hidden": false,
         "locked": false,
         "submit_only": false,
         "success_message": "check(probability_of_drawing_all_vowels(5) == approx(0.01446))"
        },
        {
         "code": ">>> check_str('probability_of_drawing_all_vowels(10) == approx(0.00021)', locals())\n",
         "failure_message": "check(probability_of_drawing_all_vowels(10) == approx(0.00021))",
         "hidden": false,
         "locked": false,
         "submit_only": false,
         "success_message": "check(probability_of_drawing_all_vowels(10) == approx(0.00021))"
        }
       ],
       "scored": true,
       "setup": "",
       "teardown": "",
       "type": "doctest"
      }
     ]
    },
    "p2.4": {
     "has_hidden": false,
     "name": "p2.4",
     "points": 5,
     "suites": [
      {
       "cases": [
        {
         "code": ">>> check_str('type(sample_letters(5)) == np.ndarray', locals())\n",
         "failure_message": "check(type(sample_letters(5)) == np.ndarray)",
         "hidden": false,
         "locked": false,
         "submit_only": false,
         "success_message": "check(type(sample_letters(5)) == np.ndarray)"
        },
        {
         "code": ">>> check_str('len(sample_letters(5)) == 5', locals())\n",
         "failure_message": "check(len(sample_letters(5)) == 5)",
         "hidden": false,
         "locked": false,
         "submit_only": false,
         "success_message": "check(len(sample_letters(5)) == 5)"
        },
        {
         "code": ">>> check_str('len(sample_letters(0)) == 0', locals())\n",
         "failure_message": "check(len(sample_letters(0)) == 0)",
         "hidden": false,
         "locked": false,
         "submit_only": false,
         "success_message": "check(len(sample_letters(0)) == 0)"
        },
        {
         "code": ">>> check_str('np.sort(sample_letters(98)) == scrabble_tiles.column(\"Letter\")', locals())\n",
         "failure_message": "check(np.sort(sample_letters(98)) == scrabble_tiles.column(\"Letter\"))",
         "hidden": false,
         "locked": false,
         "submit_only": false,
         "success_message": "check(np.sort(sample_letters(98)) == scrabble_tiles.column(\"Letter\"))"
        }
       ],
       "scored": true,
       "setup": "",
       "teardown": "",
       "type": "doctest"
      }
     ]
    },
    "p2.5": {
     "has_hidden": false,
     "name": "p2.5",
     "points": 5,
     "suites": [
      {
       "cases": [
        {
         "code": ">>> check_str('proportion_e(make_array(\"A\", \"E\", \"A\", \"E\", \"E\")) == approx(0.6)', locals())\n",
         "failure_message": "check(proportion_e(make_array(\"A\", \"E\", \"A\", \"E\", \"E\")) == approx(0.6))",
         "hidden": false,
         "locked": false,
         "submit_only": false,
         "success_message": "check(proportion_e(make_array(\"A\", \"E\", \"A\", \"E\", \"E\")) == approx(0.6))"
        },
        {
         "code": ">>> check_str('proportion_e(make_array(\"A\", \"B\", \"E\", \"E\", \"A\")) == approx(0.4)', locals())\n",
         "failure_message": "check(proportion_e(make_array(\"A\", \"B\", \"E\", \"E\", \"A\")) == approx(0.4))",
         "hidden": false,
         "locked": false,
         "submit_only": false,
         "success_message": "check(proportion_e(make_array(\"A\", \"B\", \"E\", \"E\", \"A\")) == approx(0.4))"
        },
        {
         "code": ">>> check_str('proportion_e(make_array(\"A\", \"B\", \"A\", \"B\", \"A\")) == approx(0)', locals())\n",
         "failure_message": "check(proportion_e(make_array(\"A\", \"B\", \"A\", \"B\", \"A\")) == approx(0))",
         "hidden": false,
         "locked": false,
         "submit_only": false,
         "success_message": "check(proportion_e(make_array(\"A\", \"B\", \"A\", \"B\", \"A\")) == approx(0))"
        }
       ],
       "scored": true,
       "setup": "",
       "teardown": "",
       "type": "doctest"
      }
     ]
    },
    "p2.6": {
     "has_hidden": false,
     "name": "p2.6",
     "points": 5,
     "suites": [
      {
       "cases": [
        {
         "code": ">>> check_str('0.11 <= np.mean(empirical_distribution_for_proprtion_e(15, 10000)) <= 0.14', locals())\n",
         "failure_message": "check(0.11 <= np.mean(empirical_distribution_for_proprtion_e(15, 10000)) <= 0.14)",
         "hidden": false,
         "locked": false,
         "submit_only": false,
         "success_message": "check(0.11 <= np.mean(empirical_distribution_for_proprtion_e(15, 10000)) <= 0.14)"
        }
       ],
       "scored": true,
       "setup": "",
       "teardown": "",
       "type": "doctest"
      }
     ]
    },
    "p2.7": {
     "has_hidden": false,
     "name": "p2.7",
     "points": 5,
     "suites": [
      {
       "cases": [
        {
         "code": ">>> check_str('estimate_of_es == 12', locals())\n",
         "failure_message": "check(estimate_of_es == 12)",
         "hidden": false,
         "locked": false,
         "submit_only": false,
         "success_message": "check(estimate_of_es == 12)"
        }
       ],
       "scored": true,
       "setup": "",
       "teardown": "",
       "type": "doctest"
      }
     ]
    }
   }
  },
  "vscode": {
   "interpreter": {
    "hash": "31f2aee4e71d21fbe5cf8b01ff0e069b9275f58929596ceb00d14d90e3e16cd6"
   }
  },
  "widgets": {
   "application/vnd.jupyter.widget-state+json": {
    "state": {
     "096ccddeed384fca86e74ab21b054969": {
      "model_module": "@jupyter-widgets/controls",
      "model_module_version": "1.5.0",
      "model_name": "VBoxModel",
      "state": {
       "_dom_classes": [
        "widget-interact"
       ],
       "_model_module": "@jupyter-widgets/controls",
       "_model_module_version": "1.5.0",
       "_model_name": "VBoxModel",
       "_view_count": null,
       "_view_module": "@jupyter-widgets/controls",
       "_view_module_version": "1.5.0",
       "_view_name": "VBoxView",
       "box_style": "",
       "children": [
        "IPY_MODEL_2e2bb704cf4d48d4ac2fd49800232976",
        "IPY_MODEL_956c63b782994e5d899ecc686bcd9acf",
        "IPY_MODEL_8c99780d39fe491c8376897ab08ed09e"
       ],
       "layout": "IPY_MODEL_8615f1c986ef4feb944f5ef55199946d"
      }
     },
     "1d085e6d54484804927569a1bba9ba6a": {
      "model_module": "@jupyter-widgets/controls",
      "model_module_version": "1.5.0",
      "model_name": "DescriptionStyleModel",
      "state": {
       "_model_module": "@jupyter-widgets/controls",
       "_model_module_version": "1.5.0",
       "_model_name": "DescriptionStyleModel",
       "_view_count": null,
       "_view_module": "@jupyter-widgets/base",
       "_view_module_version": "1.2.0",
       "_view_name": "StyleView",
       "description_width": ""
      }
     },
     "25510dde39e0496c87532aa8d020c9b6": {
      "model_module": "@jupyter-widgets/base",
      "model_module_version": "1.2.0",
      "model_name": "LayoutModel",
      "state": {
       "_model_module": "@jupyter-widgets/base",
       "_model_module_version": "1.2.0",
       "_model_name": "LayoutModel",
       "_view_count": null,
       "_view_module": "@jupyter-widgets/base",
       "_view_module_version": "1.2.0",
       "_view_name": "LayoutView",
       "align_content": null,
       "align_items": null,
       "align_self": null,
       "border": null,
       "bottom": null,
       "display": null,
       "flex": null,
       "flex_flow": null,
       "grid_area": null,
       "grid_auto_columns": null,
       "grid_auto_flow": null,
       "grid_auto_rows": null,
       "grid_column": null,
       "grid_gap": null,
       "grid_row": null,
       "grid_template_areas": null,
       "grid_template_columns": null,
       "grid_template_rows": null,
       "height": null,
       "justify_content": null,
       "justify_items": null,
       "left": null,
       "margin": null,
       "max_height": null,
       "max_width": null,
       "min_height": null,
       "min_width": null,
       "object_fit": null,
       "object_position": null,
       "order": null,
       "overflow": null,
       "overflow_x": null,
       "overflow_y": null,
       "padding": null,
       "right": null,
       "top": null,
       "visibility": null,
       "width": null
      }
     },
     "2e2bb704cf4d48d4ac2fd49800232976": {
      "model_module": "@jupyter-widgets/controls",
      "model_module_version": "1.5.0",
      "model_name": "IntSliderModel",
      "state": {
       "_dom_classes": [],
       "_model_module": "@jupyter-widgets/controls",
       "_model_module_version": "1.5.0",
       "_model_name": "IntSliderModel",
       "_view_count": null,
       "_view_module": "@jupyter-widgets/controls",
       "_view_module_version": "1.5.0",
       "_view_name": "IntSliderView",
       "continuous_update": true,
       "description": "sample_size",
       "description_tooltip": null,
       "disabled": false,
       "layout": "IPY_MODEL_9495e5a402de4b2688de446ce57b4f45",
       "max": 50,
       "min": 1,
       "orientation": "horizontal",
       "readout": true,
       "readout_format": "d",
       "step": 1,
       "style": "IPY_MODEL_4f626600a6084971a55e1d70b973d7ed",
       "value": 25
      }
     },
     "4f626600a6084971a55e1d70b973d7ed": {
      "model_module": "@jupyter-widgets/controls",
      "model_module_version": "1.5.0",
      "model_name": "SliderStyleModel",
      "state": {
       "_model_module": "@jupyter-widgets/controls",
       "_model_module_version": "1.5.0",
       "_model_name": "SliderStyleModel",
       "_view_count": null,
       "_view_module": "@jupyter-widgets/base",
       "_view_module_version": "1.2.0",
       "_view_name": "StyleView",
       "description_width": "",
       "handle_color": null
      }
     },
     "8615f1c986ef4feb944f5ef55199946d": {
      "model_module": "@jupyter-widgets/base",
      "model_module_version": "1.2.0",
      "model_name": "LayoutModel",
      "state": {
       "_model_module": "@jupyter-widgets/base",
       "_model_module_version": "1.2.0",
       "_model_name": "LayoutModel",
       "_view_count": null,
       "_view_module": "@jupyter-widgets/base",
       "_view_module_version": "1.2.0",
       "_view_name": "LayoutView",
       "align_content": null,
       "align_items": null,
       "align_self": null,
       "border": null,
       "bottom": null,
       "display": null,
       "flex": null,
       "flex_flow": null,
       "grid_area": null,
       "grid_auto_columns": null,
       "grid_auto_flow": null,
       "grid_auto_rows": null,
       "grid_column": null,
       "grid_gap": null,
       "grid_row": null,
       "grid_template_areas": null,
       "grid_template_columns": null,
       "grid_template_rows": null,
       "height": null,
       "justify_content": null,
       "justify_items": null,
       "left": null,
       "margin": null,
       "max_height": null,
       "max_width": null,
       "min_height": null,
       "min_width": null,
       "object_fit": null,
       "object_position": null,
       "order": null,
       "overflow": null,
       "overflow_x": null,
       "overflow_y": null,
       "padding": null,
       "right": null,
       "top": null,
       "visibility": null,
       "width": null
      }
     },
     "8c99780d39fe491c8376897ab08ed09e": {
      "model_module": "@jupyter-widgets/output",
      "model_module_version": "1.0.0",
      "model_name": "OutputModel",
      "state": {
       "_dom_classes": [],
       "_model_module": "@jupyter-widgets/output",
       "_model_module_version": "1.0.0",
       "_model_name": "OutputModel",
       "_view_count": null,
       "_view_module": "@jupyter-widgets/output",
       "_view_module_version": "1.0.0",
       "_view_name": "OutputView",
       "layout": "IPY_MODEL_25510dde39e0496c87532aa8d020c9b6",
       "msg_id": "",
       "outputs": [
        {
         "data": {
          "image/png": "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",
          "text/plain": "<Figure size 600x400 with 1 Axes>"
         },
         "metadata": {},
         "output_type": "display_data"
        }
       ]
      }
     },
     "9495e5a402de4b2688de446ce57b4f45": {
      "model_module": "@jupyter-widgets/base",
      "model_module_version": "1.2.0",
      "model_name": "LayoutModel",
      "state": {
       "_model_module": "@jupyter-widgets/base",
       "_model_module_version": "1.2.0",
       "_model_name": "LayoutModel",
       "_view_count": null,
       "_view_module": "@jupyter-widgets/base",
       "_view_module_version": "1.2.0",
       "_view_name": "LayoutView",
       "align_content": null,
       "align_items": null,
       "align_self": null,
       "border": null,
       "bottom": null,
       "display": null,
       "flex": null,
       "flex_flow": null,
       "grid_area": null,
       "grid_auto_columns": null,
       "grid_auto_flow": null,
       "grid_auto_rows": null,
       "grid_column": null,
       "grid_gap": null,
       "grid_row": null,
       "grid_template_areas": null,
       "grid_template_columns": null,
       "grid_template_rows": null,
       "height": null,
       "justify_content": null,
       "justify_items": null,
       "left": null,
       "margin": null,
       "max_height": null,
       "max_width": null,
       "min_height": null,
       "min_width": null,
       "object_fit": null,
       "object_position": null,
       "order": null,
       "overflow": null,
       "overflow_x": null,
       "overflow_y": null,
       "padding": null,
       "right": null,
       "top": null,
       "visibility": null,
       "width": null
      }
     },
     "956c63b782994e5d899ecc686bcd9acf": {
      "model_module": "@jupyter-widgets/controls",
      "model_module_version": "1.5.0",
      "model_name": "DropdownModel",
      "state": {
       "_dom_classes": [],
       "_model_module": "@jupyter-widgets/controls",
       "_model_module_version": "1.5.0",
       "_model_name": "DropdownModel",
       "_options_labels": [
        "10",
        "20",
        "50",
        "100",
        "1000",
        "10000"
       ],
       "_view_count": null,
       "_view_module": "@jupyter-widgets/controls",
       "_view_module_version": "1.5.0",
       "_view_name": "DropdownView",
       "description": "num_trials",
       "description_tooltip": null,
       "disabled": false,
       "index": 0,
       "layout": "IPY_MODEL_e874fee0d68f4e7887d92c1380adf9db",
       "style": "IPY_MODEL_1d085e6d54484804927569a1bba9ba6a"
      }
     },
     "e874fee0d68f4e7887d92c1380adf9db": {
      "model_module": "@jupyter-widgets/base",
      "model_module_version": "1.2.0",
      "model_name": "LayoutModel",
      "state": {
       "_model_module": "@jupyter-widgets/base",
       "_model_module_version": "1.2.0",
       "_model_name": "LayoutModel",
       "_view_count": null,
       "_view_module": "@jupyter-widgets/base",
       "_view_module_version": "1.2.0",
       "_view_name": "LayoutView",
       "align_content": null,
       "align_items": null,
       "align_self": null,
       "border": null,
       "bottom": null,
       "display": null,
       "flex": null,
       "flex_flow": null,
       "grid_area": null,
       "grid_auto_columns": null,
       "grid_auto_flow": null,
       "grid_auto_rows": null,
       "grid_column": null,
       "grid_gap": null,
       "grid_row": null,
       "grid_template_areas": null,
       "grid_template_columns": null,
       "grid_template_rows": null,
       "height": null,
       "justify_content": null,
       "justify_items": null,
       "left": null,
       "margin": null,
       "max_height": null,
       "max_width": null,
       "min_height": null,
       "min_width": null,
       "object_fit": null,
       "object_position": null,
       "order": null,
       "overflow": null,
       "overflow_x": null,
       "overflow_y": null,
       "padding": null,
       "right": null,
       "top": null,
       "visibility": null,
       "width": null
      }
     }
    },
    "version_major": 2,
    "version_minor": 0
   }
  }
 },
 "nbformat": 4,
 "nbformat_minor": 5
}
