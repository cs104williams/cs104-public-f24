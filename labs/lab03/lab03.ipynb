{
 "cells": [
  {
   "cell_type": "code",
   "execution_count": null,
   "id": "98694cf5",
   "metadata": {
    "deletable": false,
    "editable": false
   },
   "outputs": [],
   "source": [
    "# Initialize Otter\n",
    "import otter\n",
    "grader = otter.Notebook(\"lab03.ipynb\")"
   ]
  },
  {
   "cell_type": "markdown",
   "id": "68a6ee2d",
   "metadata": {
    "deletable": false,
    "editable": false
   },
   "source": [
    "<table style=\"width: 100%;\">\n",
    "<tr style=\"background-color: transparent;\">\n",
    "<td width=\"100px\"><img src=\"https://cs104williams.github.io/assets/cs104-logo.png\" width=\"90px\" style=\"text-align: center\"/></td>\n",
    "<td>\n",
    "  <p style=\"margin-bottom: 0px; text-align: left; font-size: 18pt;\"><strong>CSCI 104: Data Science and Computing for All</strong><br>\n",
    "                Williams College<br>\n",
    "                Fall 2024</p>\n",
    "</td>\n",
    "</tr>\n"
   ]
  },
  {
   "cell_type": "markdown",
   "id": "387a0e02",
   "metadata": {
    "deletable": false,
    "editable": false,
    "tags": []
   },
   "source": [
    "# Lab 3: Table Manipulation and Visualization"
   ]
  },
  {
   "cell_type": "markdown",
   "id": "cb7897d4",
   "metadata": {
    "deletable": false,
    "editable": false,
    "tags": []
   },
   "source": [
    "<hr style=\"margin: 0px; border: 3px solid #500082;\"/>\n",
    "\n",
    "<h2>Instructions</h2>\n",
    "\n",
    "- Before you begin, execute the cell at the TOP of the notebook to load the provided tests, as well as the following cell to setup the notebook by importing some helpful libraries. Each time you start your server, you will need to execute these cells again.  \n",
    "- Be sure to consult your [Python Reference](https://cs104williams.github.io/assets/python-library-ref.html)!\n",
    "- Complete this notebook by filling in the cells provided. For problems asking you to write explanations, you **must** provide your answer in the designated space. \n",
    "- Please be sure to not re-assign variables throughout the notebook.  For example, if you use `max_temperature` in your answer to one question, do not reassign it later on. Otherwise, you will fail tests that you thought you were passing previously.\n",
    "- This lab has hidden tests on it. That means even though tests may say 100% passed, doesn't mean your final grade will be 100%. We will be running more tests for correctness once everyone turns in the lab.\n",
    "- To use one or more late days on this lab, please fill out our [late day form](https://forms.gle/4sD16h3hN1xRqQM27) **before** the due date.\n",
    "\n",
    "<hr/>\n",
    "<h2>Setup</h2>\n"
   ]
  },
  {
   "cell_type": "code",
   "execution_count": null,
   "id": "9f0bda31",
   "metadata": {
    "deletable": false,
    "editable": false,
    "execution": {
     "iopub.execute_input": "2024-09-19T18:38:34.791165Z",
     "iopub.status.busy": "2024-09-19T18:38:34.790766Z",
     "iopub.status.idle": "2024-09-19T18:38:35.877379Z",
     "shell.execute_reply": "2024-09-19T18:38:35.877103Z"
    },
    "tags": []
   },
   "outputs": [],
   "source": [
    "# Run this cell to set up the notebook.\n",
    "# These lines import the numpy, datascience, and cs104 libraries.\n",
    "\n",
    "import numpy as np\n",
    "from datascience import *\n",
    "from cs104 import *\n",
    "%matplotlib inline"
   ]
  },
  {
   "cell_type": "markdown",
   "id": "a1c24ae6",
   "metadata": {
    "deletable": false,
    "editable": false
   },
   "source": [
    "<hr style=\"margin-bottom: 0px; padding:0; border: 2px solid #500082;\"/>\n"
   ]
  },
  {
   "cell_type": "markdown",
   "id": "ba108253",
   "metadata": {
    "deletable": false,
    "editable": false,
    "tags": []
   },
   "source": [
    "## 1. Unemployment Data (35 pts)\n",
    "\n"
   ]
  },
  {
   "cell_type": "markdown",
   "id": "cbf4c17e",
   "metadata": {
    "deletable": false,
    "editable": false
   },
   "source": [
    "<font color='#B1008E'>\n",
    "    \n",
    "##### Learning objectives\n",
    "- Sort data in tables\n",
    "- Select and manipulate rows and columns in tables in order to answer quantitative questions \n",
    "- Create and analyze line plots\n",
    "</font>"
   ]
  },
  {
   "cell_type": "markdown",
   "id": "8321c821",
   "metadata": {
    "deletable": false,
    "editable": false
   },
   "source": [
    "The Federal Reserve Bank of St. Louis publishes data about jobs in the US.  Below, we've loaded data on unemployment in the United States. There are many ways of defining unemployment, and our dataset includes two notions of the unemployment rate:\n",
    "\n",
    "1. **NEI:** Among people who are able to work and are looking for a full-time job, the percentage who can't find a job.  This is called the Non-Employment Index, or NEI.\n",
    "2. **NEI-PTER:** Among people who are able to work and are looking for a full-time job, the percentage who can't find a job *or* are only working at a part-time job.  The latter group is called \"Part-Time for Economic Reasons\", or PTER.  The acronym for this index of unemployment is NEI-PTER. \n",
    "\n",
    "The source of the data is [here](https://fred.stlouisfed.org/categories/33509)."
   ]
  },
  {
   "cell_type": "markdown",
   "id": "2dbd6a46",
   "metadata": {
    "deletable": false,
    "editable": false
   },
   "source": [
    "#### Part 1.1 (5 pts)\n"
   ]
  },
  {
   "cell_type": "markdown",
   "id": "23d2c685",
   "metadata": {
    "deletable": false,
    "editable": false
   },
   "source": [
    " The data are in a CSV file called `unemployment.csv`.  Load that file into a table called `unemployment`. \n",
    "\n"
   ]
  },
  {
   "cell_type": "code",
   "execution_count": null,
   "id": "13f1636b",
   "metadata": {
    "deletable": false,
    "execution": {
     "iopub.execute_input": "2024-09-19T18:38:35.879472Z",
     "iopub.status.busy": "2024-09-19T18:38:35.879303Z",
     "iopub.status.idle": "2024-09-19T18:38:35.885109Z",
     "shell.execute_reply": "2024-09-19T18:38:35.884863Z"
    },
    "tags": []
   },
   "outputs": [],
   "source": [
    "unemployment = ...\n",
    "unemployment"
   ]
  },
  {
   "cell_type": "code",
   "execution_count": null,
   "id": "8ea1aea1",
   "metadata": {
    "deletable": false,
    "editable": false
   },
   "outputs": [],
   "source": [
    "grader.check(\"p1.1\")"
   ]
  },
  {
   "cell_type": "markdown",
   "id": "f499c4e2",
   "metadata": {
    "deletable": false,
    "editable": false
   },
   "source": [
    "#### Part 1.2 (5 pts)\n"
   ]
  },
  {
   "cell_type": "markdown",
   "id": "7faa91aa",
   "metadata": {
    "deletable": false,
    "editable": false
   },
   "source": [
    " Sort the data in descending order by NEI, naming the sorted table `by_nei`.  Create another table called `by_nei_pter` that's sorted in descending order by NEI-PTER instead. \n",
    "\n"
   ]
  },
  {
   "cell_type": "code",
   "execution_count": null,
   "id": "52058813",
   "metadata": {
    "deletable": false,
    "execution": {
     "iopub.execute_input": "2024-09-19T18:38:35.893426Z",
     "iopub.status.busy": "2024-09-19T18:38:35.893347Z",
     "iopub.status.idle": "2024-09-19T18:38:35.895066Z",
     "shell.execute_reply": "2024-09-19T18:38:35.894861Z"
    },
    "tags": []
   },
   "outputs": [],
   "source": [
    "by_nei = ...\n",
    "by_nei_pter = ..."
   ]
  },
  {
   "cell_type": "code",
   "execution_count": null,
   "id": "59443563",
   "metadata": {
    "deletable": false,
    "editable": false
   },
   "outputs": [],
   "source": [
    "grader.check(\"p1.2\")"
   ]
  },
  {
   "cell_type": "code",
   "execution_count": null,
   "id": "6a609ec7",
   "metadata": {
    "deletable": false,
    "editable": false,
    "execution": {
     "iopub.execute_input": "2024-09-19T18:38:35.902649Z",
     "iopub.status.busy": "2024-09-19T18:38:35.902574Z",
     "iopub.status.idle": "2024-09-19T18:38:35.904865Z",
     "shell.execute_reply": "2024-09-19T18:38:35.904628Z"
    }
   },
   "outputs": [],
   "source": [
    "# Run this cell to check your by_nei table. You do not need to change the code.\n",
    "by_nei.show(5)"
   ]
  },
  {
   "cell_type": "code",
   "execution_count": null,
   "id": "674fc526",
   "metadata": {
    "deletable": false,
    "editable": false,
    "execution": {
     "iopub.execute_input": "2024-09-19T18:38:35.906174Z",
     "iopub.status.busy": "2024-09-19T18:38:35.906097Z",
     "iopub.status.idle": "2024-09-19T18:38:35.908116Z",
     "shell.execute_reply": "2024-09-19T18:38:35.907903Z"
    }
   },
   "outputs": [],
   "source": [
    "# Run this cell to check your by_nei_pter table. You do not need to change the code.\n",
    "by_nei_pter.show(5)"
   ]
  },
  {
   "cell_type": "markdown",
   "id": "c43c442c",
   "metadata": {
    "deletable": false,
    "editable": false
   },
   "source": [
    "#### Part 1.3 (5 pts)\n"
   ]
  },
  {
   "cell_type": "markdown",
   "id": "80bef206",
   "metadata": {
    "deletable": false,
    "editable": false
   },
   "source": [
    " Use `take` to make a table containing the data for the 10 quarters when NEI was greatest.  Call that table `greatest_nei`.\n",
    "\n",
    "`greatest_nei` should be sorted in descending order of `NEI`. Note that each row of `unemployment` represents a quarter. "
   ]
  },
  {
   "cell_type": "code",
   "execution_count": null,
   "id": "ae21351f",
   "metadata": {
    "deletable": false,
    "execution": {
     "iopub.execute_input": "2024-09-19T18:38:35.909530Z",
     "iopub.status.busy": "2024-09-19T18:38:35.909453Z",
     "iopub.status.idle": "2024-09-19T18:38:35.911795Z",
     "shell.execute_reply": "2024-09-19T18:38:35.911553Z"
    },
    "tags": []
   },
   "outputs": [],
   "source": [
    "greatest_nei = ...\n",
    "greatest_nei"
   ]
  },
  {
   "cell_type": "code",
   "execution_count": null,
   "id": "39f6a59b",
   "metadata": {
    "deletable": false,
    "editable": false
   },
   "outputs": [],
   "source": [
    "grader.check(\"p1.3\")"
   ]
  },
  {
   "cell_type": "markdown",
   "id": "05106c67",
   "metadata": {
    "deletable": false,
    "editable": false
   },
   "source": [
    "#### Part 1.4 (5 pts)\n"
   ]
  },
  {
   "cell_type": "markdown",
   "id": "6636ee9c",
   "metadata": {
    "deletable": false,
    "editable": false
   },
   "source": [
    "Economists care about PTER (recall: \"Part-Time for Economic Reasons\") for many reasons. For example, it's believed that many people became PTER  in the \"Great Recession\" of 2008-2009.   \n",
    " \n",
    "Compute an array containing the percentage of people who were PTER in each quarter.  (The first element of the array should correspond to the first row of `unemployment`, and so on.) \n",
    "\n",
    "*Notes:* \n",
    "- Use the original `unemployment` table for this.\n",
    "- Recall, NEI is the percentage of people who are unemployed; and NEI-PTER is the percentage of people who are unemployed (included in the NEI) plus the percentage of people who are PTER. \n",
    "\n",
    "As a sanity check, the quaterly PTER you compute should be less than 2% for all of the quarters in this data."
   ]
  },
  {
   "cell_type": "code",
   "execution_count": null,
   "id": "cf0aa90b",
   "metadata": {
    "deletable": false,
    "execution": {
     "iopub.execute_input": "2024-09-19T18:38:35.919604Z",
     "iopub.status.busy": "2024-09-19T18:38:35.919524Z",
     "iopub.status.idle": "2024-09-19T18:38:35.922048Z",
     "shell.execute_reply": "2024-09-19T18:38:35.921824Z"
    },
    "tags": []
   },
   "outputs": [],
   "source": [
    "pter = ...\n",
    "pter"
   ]
  },
  {
   "cell_type": "code",
   "execution_count": null,
   "id": "87d32453",
   "metadata": {
    "deletable": false,
    "editable": false
   },
   "outputs": [],
   "source": [
    "grader.check(\"p1.4\")"
   ]
  },
  {
   "cell_type": "markdown",
   "id": "99ce439f",
   "metadata": {
    "deletable": false,
    "editable": false
   },
   "source": [
    "#### Part 1.5 (5 pts)\n"
   ]
  },
  {
   "cell_type": "markdown",
   "id": "d0d54c3d",
   "metadata": {
    "deletable": false,
    "editable": false
   },
   "source": [
    "Extend the `unemployment` table with a new column named `PTER` that contains the values in the `pter` array.  Sort the resulting table by that column in descending order.  Call the resulting table `by_pter`."
   ]
  },
  {
   "cell_type": "code",
   "execution_count": null,
   "id": "8172ffcc",
   "metadata": {
    "deletable": false,
    "execution": {
     "iopub.execute_input": "2024-09-19T18:38:35.929617Z",
     "iopub.status.busy": "2024-09-19T18:38:35.929546Z",
     "iopub.status.idle": "2024-09-19T18:38:35.932027Z",
     "shell.execute_reply": "2024-09-19T18:38:35.931807Z"
    },
    "tags": []
   },
   "outputs": [],
   "source": [
    "by_pter = ...\n",
    "by_pter"
   ]
  },
  {
   "cell_type": "code",
   "execution_count": null,
   "id": "71d1b856",
   "metadata": {
    "deletable": false,
    "editable": false
   },
   "outputs": [],
   "source": [
    "grader.check(\"p1.5\")"
   ]
  },
  {
   "cell_type": "markdown",
   "id": "df48c4a6",
   "metadata": {
    "deletable": false,
    "editable": false
   },
   "source": [
    "<!-- BEGIN QUESTION -->\n",
    "\n",
    "#### Part 1.6 (5 pts)\n"
   ]
  },
  {
   "cell_type": "markdown",
   "id": "f431094b",
   "metadata": {
    "deletable": false,
    "editable": false
   },
   "source": [
    "Create a line plot of PTER over time. \n",
    "\n",
    "To do this, create a new table called `pter_over_time` that adds the `year` array and the `pter` array to the `unemployment` table. Label these columns `Year` and `PTER`. Then, generate a line plot using one of the table methods you've learned in class.\n",
    "\n",
    "The order of the columns matter for our correctness tests, so be sure `Year` comes before `PTER`. \n",
    "\n",
    "*Clarification: When constructing `pter_over_time`, do not just add the `year` column to the `by_pter` table. Please follow the directions in the question above.*"
   ]
  },
  {
   "cell_type": "code",
   "execution_count": null,
   "id": "f1f97b74",
   "metadata": {
    "deletable": false,
    "execution": {
     "iopub.execute_input": "2024-09-19T18:38:35.939576Z",
     "iopub.status.busy": "2024-09-19T18:38:35.939501Z",
     "iopub.status.idle": "2024-09-19T18:38:36.050465Z",
     "shell.execute_reply": "2024-09-19T18:38:36.050187Z"
    },
    "tags": []
   },
   "outputs": [],
   "source": [
    "year = 1994 + np.arange(by_pter.num_rows)/4 #this accounts for the quarters \n",
    "pter_over_time = ...\n",
    "plot = ...\n",
    "\n",
    "# This line will sets the bounds on the y-axis\n",
    "plot.set_ylim(0,2) "
   ]
  },
  {
   "cell_type": "code",
   "execution_count": null,
   "id": "7febf803",
   "metadata": {
    "deletable": false,
    "editable": false
   },
   "outputs": [],
   "source": [
    "grader.check(\"p1.6\")"
   ]
  },
  {
   "cell_type": "markdown",
   "id": "d00a7676",
   "metadata": {
    "deletable": false,
    "editable": false
   },
   "source": [
    "<!-- END QUESTION -->\n",
    "\n",
    "#### Part 1.7 (5 pts)\n"
   ]
  },
  {
   "cell_type": "markdown",
   "id": "d9056342",
   "metadata": {
    "deletable": false,
    "editable": false
   },
   "source": [
    " Were PTER rates high during the Great Recession (that is to say, were PTER rates particularly high in the years 2008 through 2011)? Examine the line plot you just created. Then assign `highPTER` to `True` if you think PTER rates were high in this period, or `False` if you think they weren't. "
   ]
  },
  {
   "cell_type": "code",
   "execution_count": null,
   "id": "a83c72c7",
   "metadata": {
    "deletable": false,
    "execution": {
     "iopub.execute_input": "2024-09-19T18:38:36.074860Z",
     "iopub.status.busy": "2024-09-19T18:38:36.074778Z",
     "iopub.status.idle": "2024-09-19T18:38:36.076508Z",
     "shell.execute_reply": "2024-09-19T18:38:36.076258Z"
    },
    "tags": []
   },
   "outputs": [],
   "source": [
    "highPTER = ..."
   ]
  },
  {
   "cell_type": "code",
   "execution_count": null,
   "id": "91b65c00",
   "metadata": {
    "deletable": false,
    "editable": false
   },
   "outputs": [],
   "source": [
    "grader.check(\"p1.7\")"
   ]
  },
  {
   "cell_type": "markdown",
   "id": "5f092368",
   "metadata": {
    "deletable": false,
    "editable": false
   },
   "source": [
    "<hr style=\"margin-bottom: 0px; padding:0; border: 2px solid #500082;\"/>\n"
   ]
  },
  {
   "cell_type": "markdown",
   "id": "829e473c",
   "metadata": {
    "deletable": false,
    "editable": false
   },
   "source": [
    "## 2. Birth Rates (30 pts)\n",
    "\n"
   ]
  },
  {
   "cell_type": "markdown",
   "id": "26ac1d0b",
   "metadata": {
    "deletable": false,
    "editable": false
   },
   "source": [
    "<font color='#B1008E'>\n",
    "    \n",
    "##### Learning objectives\n",
    "- Use built-in Table functions, Python functions, and numpy functions to answer quantitative questions about a dataset\n",
    "- Create visualizations to analyze trends in data\n",
    "</font>"
   ]
  },
  {
   "cell_type": "markdown",
   "id": "1c5f4a9d",
   "metadata": {
    "deletable": false,
    "editable": false
   },
   "source": [
    "The following table gives census-based population estimates for each state on both July 1, 2015 and July 1, 2016. The last four columns describe the components of the estimated change in population during this time interval. **For all questions below, assume that the word \"states\" refers to all 52 rows including Puerto Rico & the District of Columbia.**\n",
    "- The data was taken from [here](http://www2.census.gov/programs-surveys/popest/datasets/2010-2016/national/totals/nst-est2016-alldata.csv) and cleaned up. \n",
    "- If you want to read more about the different column descriptions, click [here](http://www2.census.gov/programs-surveys/popest/datasets/2010-2015/national/totals/nst-est2015-alldata.pdf)."
   ]
  },
  {
   "cell_type": "code",
   "execution_count": null,
   "id": "1ca4d273",
   "metadata": {
    "deletable": false,
    "editable": false,
    "execution": {
     "iopub.execute_input": "2024-09-19T18:38:36.084498Z",
     "iopub.status.busy": "2024-09-19T18:38:36.084418Z",
     "iopub.status.idle": "2024-09-19T18:38:36.088190Z",
     "shell.execute_reply": "2024-09-19T18:38:36.087952Z"
    },
    "tags": []
   },
   "outputs": [],
   "source": [
    "pop = Table().read_table(\"nst-est2016-clean.csv\")\n",
    "pop.show(5)"
   ]
  },
  {
   "cell_type": "markdown",
   "id": "247aff42",
   "metadata": {
    "deletable": false,
    "editable": false
   },
   "source": [
    "#### Part 2.1 (5 pts)\n"
   ]
  },
  {
   "cell_type": "markdown",
   "id": "366fedaf",
   "metadata": {
    "deletable": false,
    "editable": false
   },
   "source": [
    "Assign the variable `us_birth_rate` to the total US annual birth rate (across all states) during this time interval. The annual birth rate for a year-long period is the total number of births in that period as a proportion of the population size at the start of the time period. \n",
    "\n",
    "*Hint:* Which year corresponds to the start of the time period?\n",
    "\n"
   ]
  },
  {
   "cell_type": "code",
   "execution_count": null,
   "id": "fc91bc6b",
   "metadata": {
    "deletable": false,
    "execution": {
     "iopub.execute_input": "2024-09-19T18:38:36.089685Z",
     "iopub.status.busy": "2024-09-19T18:38:36.089605Z",
     "iopub.status.idle": "2024-09-19T18:38:36.091959Z",
     "shell.execute_reply": "2024-09-19T18:38:36.091725Z"
    },
    "tags": []
   },
   "outputs": [],
   "source": [
    "us_birth_rate = ...\n",
    "us_birth_rate"
   ]
  },
  {
   "cell_type": "code",
   "execution_count": null,
   "id": "9f32c5f8",
   "metadata": {
    "deletable": false,
    "editable": false
   },
   "outputs": [],
   "source": [
    "grader.check(\"p2.1\")"
   ]
  },
  {
   "cell_type": "markdown",
   "id": "facac425",
   "metadata": {
    "deletable": false,
    "editable": false
   },
   "source": [
    "#### Part 2.2 (5 pts)\n"
   ]
  },
  {
   "cell_type": "markdown",
   "id": "2a0216fc",
   "metadata": {
    "deletable": false,
    "editable": false
   },
   "source": [
    "Create a table `movers` which contains *at minimum* the same information as `pop` but only includes states for which the **absolute value** of the **annual rate of migration** was higher than 1%. \n",
    " \n",
    "- The `MIGRATION` column contains estimated annual net migration counts by state. \n",
    "- The annual rate of migration for a year-long period is the net number of migrations (in and out) as a proportion of the population size at the start of the period. You may wish to create a temporary table `migration_rates` that contains the migration rates for each state."
   ]
  },
  {
   "cell_type": "code",
   "execution_count": null,
   "id": "d450f777",
   "metadata": {
    "deletable": false,
    "execution": {
     "iopub.execute_input": "2024-09-19T18:38:36.099893Z",
     "iopub.status.busy": "2024-09-19T18:38:36.099793Z",
     "iopub.status.idle": "2024-09-19T18:38:36.102882Z",
     "shell.execute_reply": "2024-09-19T18:38:36.102651Z"
    },
    "tags": []
   },
   "outputs": [],
   "source": [
    "# First, create a new table with the data in pop, plus migration rates.\n",
    "migration_rates = ...\n",
    "movers = ...\n",
    "movers"
   ]
  },
  {
   "cell_type": "code",
   "execution_count": null,
   "id": "086dd66c",
   "metadata": {
    "deletable": false,
    "editable": false
   },
   "outputs": [],
   "source": [
    "grader.check(\"p2.2\")"
   ]
  },
  {
   "cell_type": "markdown",
   "id": "2b6304c1",
   "metadata": {
    "deletable": false,
    "editable": false
   },
   "source": [
    "#### Part 2.3 (5 pts)\n"
   ]
  },
  {
   "cell_type": "markdown",
   "id": "cd27bfee",
   "metadata": {
    "deletable": false,
    "editable": false
   },
   "source": [
    "Assign `west_births` to the total number of births that occurred in region 4 (the Western US). "
   ]
  },
  {
   "cell_type": "code",
   "execution_count": null,
   "id": "3c32d1e1",
   "metadata": {
    "deletable": false,
    "execution": {
     "iopub.execute_input": "2024-09-19T18:38:36.110411Z",
     "iopub.status.busy": "2024-09-19T18:38:36.110317Z",
     "iopub.status.idle": "2024-09-19T18:38:36.112683Z",
     "shell.execute_reply": "2024-09-19T18:38:36.112450Z"
    },
    "tags": []
   },
   "outputs": [],
   "source": [
    "west_births = ...\n",
    "west_births"
   ]
  },
  {
   "cell_type": "code",
   "execution_count": null,
   "id": "d856418e",
   "metadata": {
    "deletable": false,
    "editable": false
   },
   "outputs": [],
   "source": [
    "grader.check(\"p2.3\")"
   ]
  },
  {
   "cell_type": "markdown",
   "id": "55097f27",
   "metadata": {
    "deletable": false,
    "editable": false
   },
   "source": [
    "#### Part 2.4 (5 pts)\n"
   ]
  },
  {
   "cell_type": "markdown",
   "id": "f287580f",
   "metadata": {
    "deletable": false,
    "editable": false
   },
   "source": [
    " \n",
    "\n",
    "In the next question, you will be creating a visualization to understand the relationship between birth and death rates. The annual death rate for a year-long period is the total number of deaths in that period as a proportion of the population size at the start of the time period.\n",
    "\n",
    "*Note:* We will comparing *each* of the 52 states' birth rate and death rate (*not* the overall birth and death rate for the entire population). \n",
    "\n",
    "What visualization is most appropriate to see if there is an association between birth and death rates during a given time interval? \n",
    "\n",
    "1. Line Graph\n",
    "<br>\n",
    "2. Bar Chart\n",
    "<br>\n",
    "3. Scatter Plot\n",
    "\n",
    "Assign `visualization` below to the number corresponding to the correct visualization. \n",
    "\n"
   ]
  },
  {
   "cell_type": "code",
   "execution_count": null,
   "id": "d06dce3e",
   "metadata": {
    "deletable": false,
    "execution": {
     "iopub.execute_input": "2024-09-19T18:38:36.120401Z",
     "iopub.status.busy": "2024-09-19T18:38:36.120304Z",
     "iopub.status.idle": "2024-09-19T18:38:36.121817Z",
     "shell.execute_reply": "2024-09-19T18:38:36.121571Z"
    },
    "tags": []
   },
   "outputs": [],
   "source": [
    "visualization = ..."
   ]
  },
  {
   "cell_type": "code",
   "execution_count": null,
   "id": "745e67dd",
   "metadata": {
    "deletable": false,
    "editable": false
   },
   "outputs": [],
   "source": [
    "grader.check(\"p2.4\")"
   ]
  },
  {
   "cell_type": "markdown",
   "id": "a955c70a",
   "metadata": {
    "deletable": false,
    "editable": false
   },
   "source": [
    "<!-- BEGIN QUESTION -->\n",
    "\n",
    "#### Part 2.5 (5 pts)\n"
   ]
  },
  {
   "cell_type": "markdown",
   "id": "fd32ea33",
   "metadata": {
    "deletable": false,
    "editable": false
   },
   "source": [
    " In the code cell below, create a visualization based on your answer above in order to determine if there is an association between birth rate and death rate during this time interval. It may be helpful to create an intermediate table here. "
   ]
  },
  {
   "cell_type": "code",
   "execution_count": null,
   "id": "909a2135",
   "metadata": {
    "deletable": false,
    "execution": {
     "iopub.execute_input": "2024-09-19T18:38:36.129553Z",
     "iopub.status.busy": "2024-09-19T18:38:36.129475Z",
     "iopub.status.idle": "2024-09-19T18:38:36.229090Z",
     "shell.execute_reply": "2024-09-19T18:38:36.228833Z"
    },
    "tags": []
   },
   "outputs": [],
   "source": [
    "# In this cell, use birth_rates and death_rates to generate your chart\n",
    "birth_rates = ...\n",
    "death_rates = ...\n",
    "..."
   ]
  },
  {
   "cell_type": "markdown",
   "id": "6331a5d7",
   "metadata": {
    "deletable": false,
    "editable": false
   },
   "source": [
    "<!-- END QUESTION -->\n",
    "\n",
    "#### Part 2.6 (5 pts)\n"
   ]
  },
  {
   "cell_type": "markdown",
   "id": "15f52597",
   "metadata": {
    "deletable": false,
    "editable": false
   },
   "source": [
    "True or False: There is an association between birth rate and death rate during this time interval. \n",
    "\n",
    "Assign `assoc` to `True` or `False` in the cell below.  Base your conclusion on your inspection of the visualization you created for the last part."
   ]
  },
  {
   "cell_type": "code",
   "execution_count": null,
   "id": "ab781310",
   "metadata": {
    "deletable": false,
    "execution": {
     "iopub.execute_input": "2024-09-19T18:38:36.230926Z",
     "iopub.status.busy": "2024-09-19T18:38:36.230822Z",
     "iopub.status.idle": "2024-09-19T18:38:36.232451Z",
     "shell.execute_reply": "2024-09-19T18:38:36.232214Z"
    },
    "tags": []
   },
   "outputs": [],
   "source": [
    "assoc = ..."
   ]
  },
  {
   "cell_type": "code",
   "execution_count": null,
   "id": "8cbb259c",
   "metadata": {
    "deletable": false,
    "editable": false
   },
   "outputs": [],
   "source": [
    "grader.check(\"p2.6\")"
   ]
  },
  {
   "cell_type": "markdown",
   "id": "fc529a71",
   "metadata": {
    "deletable": false,
    "editable": false
   },
   "source": [
    "<hr style=\"margin-bottom: 0px; padding:0; border: 2px solid #500082;\"/>\n"
   ]
  },
  {
   "cell_type": "markdown",
   "id": "86210b2b",
   "metadata": {
    "deletable": false,
    "editable": false,
    "tags": []
   },
   "source": [
    "## 3. Uber data (30 pts)\n",
    "\n"
   ]
  },
  {
   "cell_type": "markdown",
   "id": "dfd484ae",
   "metadata": {
    "deletable": false,
    "editable": false
   },
   "source": [
    "<font color='#B1008E'>\n",
    "    \n",
    "##### Learning objectives\n",
    "- Use built-in Table functions, Python functions, and numpy functions to answer quantitative questions about a dataset\n",
    "- Create histograms from data and understand the histograms' quantitative significance\n",
    "</font>"
   ]
  },
  {
   "cell_type": "markdown",
   "id": "eeec51de",
   "metadata": {
    "deletable": false,
    "editable": false
   },
   "source": [
    "Below we load tables containing 200,000 weekday Uber rides in the Manila, Philippines, and Boston, Massachusetts metropolitan areas from the [Uber Movement](https://movement.uber.com) project. \n",
    "- The `sourceid` and `dstid` columns contain codes corresponding to start (\"source id\") and end (\"destination id\") locations respectively of each ride. \n",
    "- The `hod` column contains codes corresponding to the \"hour of the day\" the ride took place. \n",
    "- The `ride time` column contains the length of the ride, **in minutes**."
   ]
  },
  {
   "cell_type": "code",
   "execution_count": null,
   "id": "b43fd806",
   "metadata": {
    "deletable": false,
    "editable": false,
    "execution": {
     "iopub.execute_input": "2024-09-19T18:38:36.240354Z",
     "iopub.status.busy": "2024-09-19T18:38:36.240264Z",
     "iopub.status.idle": "2024-09-19T18:38:36.890478Z",
     "shell.execute_reply": "2024-09-19T18:38:36.890194Z"
    }
   },
   "outputs": [],
   "source": [
    "boston = Table.read_table(\"boston.csv\")\n",
    "manila = Table.read_table(\"manila.csv\")\n",
    "print(\"Boston Table\")\n",
    "boston.show(4)\n",
    "print(\"Manila Table\")\n",
    "manila.show(4)"
   ]
  },
  {
   "cell_type": "markdown",
   "id": "86c3802f",
   "metadata": {
    "deletable": false,
    "editable": false
   },
   "source": [
    "<!-- BEGIN QUESTION -->\n",
    "\n",
    "#### Part 3.1 (5 pts)\n"
   ]
  },
  {
   "cell_type": "markdown",
   "id": "330a7342",
   "metadata": {
    "deletable": false,
    "editable": false
   },
   "source": [
    "Produce a histogram that visualizes the distributions of all ride times in Boston using the given bins.  Set the plots title to \"Boston Uber Rides\" by storing your plot in the `boston_plot` variable and then using the [`set_title` method](https://cs104williams.github.io/assets/python-library-ref.html#set-labels) for `boston_plot`."
   ]
  },
  {
   "cell_type": "code",
   "execution_count": null,
   "id": "c6a154bc",
   "metadata": {
    "deletable": false,
    "execution": {
     "iopub.execute_input": "2024-09-19T18:38:36.892210Z",
     "iopub.status.busy": "2024-09-19T18:38:36.892099Z",
     "iopub.status.idle": "2024-09-19T18:38:37.113456Z",
     "shell.execute_reply": "2024-09-19T18:38:37.113162Z"
    },
    "tags": []
   },
   "outputs": [],
   "source": [
    "equal_bins = np.arange(0, 120, 5)\n",
    "boston_plot = ...\n",
    "..."
   ]
  },
  {
   "cell_type": "code",
   "execution_count": null,
   "id": "30201dcb",
   "metadata": {
    "deletable": false,
    "editable": false
   },
   "outputs": [],
   "source": [
    "grader.check(\"p3.1\")"
   ]
  },
  {
   "cell_type": "markdown",
   "id": "cb837919",
   "metadata": {
    "deletable": false,
    "editable": false,
    "tags": []
   },
   "source": [
    "<!-- END QUESTION -->\n",
    "\n",
    "#### Part 3.2 (5 pts)\n"
   ]
  },
  {
   "cell_type": "markdown",
   "id": "8254504f",
   "metadata": {
    "deletable": false,
    "editable": false
   },
   "source": [
    "According to your histogram, what percent of rides in Boston are between 20 and 25 minutes?  *Note:* Recall that the x-axis units are minutes"
   ]
  },
  {
   "cell_type": "code",
   "execution_count": null,
   "id": "dac74d11",
   "metadata": {
    "deletable": false,
    "execution": {
     "iopub.execute_input": "2024-09-19T18:38:37.118654Z",
     "iopub.status.busy": "2024-09-19T18:38:37.118556Z",
     "iopub.status.idle": "2024-09-19T18:38:37.120179Z",
     "shell.execute_reply": "2024-09-19T18:38:37.119935Z"
    },
    "tags": []
   },
   "outputs": [],
   "source": [
    "rides_between_20_and_25 = ..."
   ]
  },
  {
   "cell_type": "code",
   "execution_count": null,
   "id": "e4e69b90",
   "metadata": {
    "deletable": false,
    "editable": false
   },
   "outputs": [],
   "source": [
    "grader.check(\"p3.2\")"
   ]
  },
  {
   "cell_type": "markdown",
   "id": "8f2975d0",
   "metadata": {
    "deletable": false,
    "editable": false
   },
   "source": [
    "<!-- BEGIN QUESTION -->\n",
    "\n",
    "#### Part 3.3 (5 pts)\n"
   ]
  },
  {
   "cell_type": "markdown",
   "id": "828fec33",
   "metadata": {
    "deletable": false,
    "editable": false
   },
   "source": [
    "Now, produce a histogram that visualizes the distribution of all ride times in Manila using the given bins."
   ]
  },
  {
   "cell_type": "markdown",
   "id": "9b562724",
   "metadata": {
    "deletable": false,
    "editable": false
   },
   "source": [
    "Set the y-axis of your Manila histogram to be between 0 to 5%. This will make it easier to compare your Boston and Manila plots. To do that, store the result of making your histogram in a local variable `manila_plot` and then use the `manila_plot`'s [`set_ylim` method](https://cs104williams.github.io/assets/python-library-ref.html#set-limits).  \n",
    "\n",
    "Set your plot's title to be \"Manila Uber Rides\" with the `set_title` method for plots."
   ]
  },
  {
   "cell_type": "code",
   "execution_count": null,
   "id": "bcda3510",
   "metadata": {
    "deletable": false,
    "execution": {
     "iopub.execute_input": "2024-09-19T18:38:37.125123Z",
     "iopub.status.busy": "2024-09-19T18:38:37.125016Z",
     "iopub.status.idle": "2024-09-19T18:38:37.297821Z",
     "shell.execute_reply": "2024-09-19T18:38:37.297535Z"
    },
    "tags": []
   },
   "outputs": [],
   "source": [
    "equal_bins = np.arange(0, 120, 5)\n",
    "manila_plot = ...\n",
    "...\n",
    "..."
   ]
  },
  {
   "cell_type": "code",
   "execution_count": null,
   "id": "487cb1a5",
   "metadata": {
    "deletable": false,
    "editable": false
   },
   "outputs": [],
   "source": [
    "grader.check(\"p3.3\")"
   ]
  },
  {
   "cell_type": "markdown",
   "id": "3d3de38b",
   "metadata": {
    "deletable": false,
    "editable": false
   },
   "source": [
    "<!-- END QUESTION -->\n",
    "\n",
    "#### Part 3.4 (5 pts)\n"
   ]
  },
  {
   "cell_type": "markdown",
   "id": "9d5f8b53",
   "metadata": {
    "deletable": false,
    "editable": false
   },
   "source": [
    "Let's *manually* compare and inspect these Boston and Manilla histograms. \n",
    "\n",
    "Assign `boston_under_15` and `manila_under_15` to the percentage of rides that are less than 15 minutes in their respective metropolitan areas. \n",
    " \n",
    " To help you we have provide the \"height\" of various bars from the histogram you created above. Use the height variables that we have defined for you below in order to compute the percentages. Your solution should only use height variables, numbers, and mathematical operations. You should **not** access the tables `boston` and `manila` in any way.  \n",
    " \n",
    " *Hint:* How does the *width* of the bars in the histogram factor into your answer?"
   ]
  },
  {
   "cell_type": "code",
   "execution_count": null,
   "id": "fdfc126e",
   "metadata": {
    "deletable": false,
    "execution": {
     "iopub.execute_input": "2024-09-19T18:38:37.306918Z",
     "iopub.status.busy": "2024-09-19T18:38:37.306815Z",
     "iopub.status.idle": "2024-09-19T18:38:37.309768Z",
     "shell.execute_reply": "2024-09-19T18:38:37.309449Z"
    },
    "tags": []
   },
   "outputs": [],
   "source": [
    "boston_under_5_height = 1.2\n",
    "manila_under_5_height = 0.6\n",
    "boston_5_to_under_10_height = 3.2\n",
    "manila_5_to_under_10_height = 1.4\n",
    "boston_10_to_under_15_height = 4.9\n",
    "manila_10_to_under_15_height = 2.2\n",
    "\n",
    "boston_under_15 = ...\n",
    "manila_under_15 = ...\n",
    "\n",
    "boston_under_15, manila_under_15"
   ]
  },
  {
   "cell_type": "code",
   "execution_count": null,
   "id": "6be051fc",
   "metadata": {
    "deletable": false,
    "editable": false
   },
   "outputs": [],
   "source": [
    "grader.check(\"p3.4\")"
   ]
  },
  {
   "cell_type": "markdown",
   "id": "a60a36ca",
   "metadata": {
    "deletable": false,
    "editable": false
   },
   "source": [
    "#### Part 3.5 (5 pts)\n"
   ]
  },
  {
   "cell_type": "markdown",
   "id": "af8ac6a1",
   "metadata": {
    "deletable": false,
    "editable": false
   },
   "source": [
    "Manually examine the histogram for the distribution of ride times in Boston. You can use this histogram to find the median ride time for Boston. \n",
    "\n",
    "Assign `boston_median_bin` to an integer (1, 2, 3, 4, or 5) that corresponds to the bin that contains the median time. \n",
    "\n",
    "1. 0-5 minutes  \n",
    "2. 5-10 minutes  \n",
    "3. 10-15 minutes  \n",
    "4. 15-20 minutes  \n",
    "5. 20-25 minutes  \n",
    "\n",
    "*Hint:* The median of a sorted list has half of the list elements to its left, and half to its right.  Your previous answer may help you determine where the median is."
   ]
  },
  {
   "cell_type": "code",
   "execution_count": null,
   "id": "2e2d8c3a",
   "metadata": {
    "deletable": false,
    "execution": {
     "iopub.execute_input": "2024-09-19T18:38:37.325193Z",
     "iopub.status.busy": "2024-09-19T18:38:37.325092Z",
     "iopub.status.idle": "2024-09-19T18:38:37.327662Z",
     "shell.execute_reply": "2024-09-19T18:38:37.327036Z"
    },
    "tags": []
   },
   "outputs": [],
   "source": [
    "boston_median_bin = ...\n",
    "boston_median_bin"
   ]
  },
  {
   "cell_type": "code",
   "execution_count": null,
   "id": "eb2cd71f",
   "metadata": {
    "deletable": false,
    "editable": false
   },
   "outputs": [],
   "source": [
    "grader.check(\"p3.5\")"
   ]
  },
  {
   "cell_type": "markdown",
   "id": "d86c92b5",
   "metadata": {
    "deletable": false,
    "editable": false
   },
   "source": [
    "<!-- BEGIN QUESTION -->\n",
    "\n",
    "#### Part 3.6 (5 pts)\n"
   ]
  },
  {
   "cell_type": "markdown",
   "id": "96bb2165",
   "metadata": {
    "deletable": false,
    "editable": false
   },
   "source": [
    "Identify one difference between the histograms, in terms of actual histogram properties. Based on the following two readings, why are the distributions for Boston and Manila different? \n",
    "\n",
    "- [Boston reading](https://www.climatestotravel.com/climate/united-states/boston)\n",
    "- [Manila reading](https://newsinfo.inquirer.net/1383983/metro-manila-traffic-2nd-worst-in-the-world-report)\n",
    "\n",
    "*Hint:* Try thinking about external factors of the two cities that may be causing the difference!\n",
    "\n"
   ]
  },
  {
   "cell_type": "markdown",
   "id": "f11faed8",
   "metadata": {
    "deletable": false,
    "editable": false
   },
   "source": [
    "<hr style=\"margin:0; border: 1px solid #FFBE0A;\"/><font color='#FFBE0A'>Written Answer:</font>"
   ]
  },
  {
   "cell_type": "markdown",
   "id": "3341970a",
   "metadata": {
    "deletable": false
   },
   "source": [
    "_Type your answer here, replacing this text._\n"
   ]
  },
  {
   "cell_type": "markdown",
   "id": "3264af88",
   "metadata": {
    "deletable": false,
    "editable": false
   },
   "source": [
    "<hr style=\"margin:0; border: 1px solid #FFBE0A;\"/>"
   ]
  },
  {
   "cell_type": "markdown",
   "id": "c11bf2ee",
   "metadata": {
    "deletable": false,
    "editable": false
   },
   "source": [
    "<!-- END QUESTION -->\n",
    "\n",
    "<hr style=\"margin-bottom: 0px; padding:0; border: 2px solid #500082;\"/>\n"
   ]
  },
  {
   "cell_type": "markdown",
   "id": "7a9f6a0a",
   "metadata": {
    "deletable": false,
    "editable": false
   },
   "source": [
    "## 4. Iris Varieties (10 pts)\n",
    "\n"
   ]
  },
  {
   "cell_type": "markdown",
   "id": "cd26a4ca",
   "metadata": {
    "deletable": false,
    "editable": false
   },
   "source": [
    "<font color='#B1008E'>\n",
    "    \n",
    "##### Learning objectives\n",
    "- Create plots to aid in exploring a new data set\n",
    "- Complete a more open-ended data visualization and analysis task\n",
    "</font>"
   ]
  },
  {
   "cell_type": "markdown",
   "id": "5b108a41",
   "metadata": {
    "deletable": false,
    "editable": false
   },
   "source": [
    "<!-- BEGIN QUESTION -->\n",
    "\n",
    "#### Part 4.1 (10 pts)\n"
   ]
  },
  {
   "cell_type": "markdown",
   "id": "dd761267",
   "metadata": {
    "deletable": false,
    "editable": false
   },
   "source": [
    "The Iris dataset is a famous data set dating back to 1936.  It contains the sepal and petal lengths and widths for fifty flowers of three different varieties of irises (a type of flower).  Sepals and petals are identified in the figure below for the three varieties.  We provide an extra file `iris.csv` containing this data set in the lab this week.  All measurements are in cm.\n",
    "\n",
    "\n",
    "<img src=\"https://machinelearninghd.com/wp-content/uploads/2021/03/iris-dataset.png\" width=75%>\n",
    "\n",
    "This question is *very* open ended. Your task is simply this: perform exploratory data analysis on this data set.\n",
    "\n",
    "Giving such an open-ended problem gives you maximum flexibility for thinking and exploration, and also to simulate \"real life.\" \n",
    "To give you an idea of our expectations, you should try (and display) several types of plots to explore the data. Consider, for example, whether there are corrleations between sepal/petal length and width, and between sepal and petal dimensions.  Are some varieties more uniform in their petal/sepal dimensions?  Are some varieties generally larger than others?  You should comment on your approach and what you learn from the plots.  **Also, be sure each plot has appropriate titles and labels.**\n",
    "\n",
    "You may do as little or as much as you like in answering this question, but drawing perhaps around three interesting conclusions about the iris varieties will be sufficient to earn full credit.  More importantly, have fun exploring the data!\n",
    "\n",
    "*Note:* We give you one \"Markdown\" cell for text and one code cell for your Python code below.  You may add as many additional cells as you like.  Just click the `+` sign in this tab's toolbar to insert a new cell.  Then select \"Markdown\" from the toolbar's popup menu if you want the new cell to be for text, or \"Code\" if you want it to be for Python code.  Markdown cells can include basic formatting.  Click on any of our formatted text cells to see how to create lists, bold text, etc., or have a look [here](https://www.markdownguide.org/basic-syntax)."
   ]
  },
  {
   "cell_type": "markdown",
   "id": "09f11c91",
   "metadata": {
    "deletable": false,
    "editable": false
   },
   "source": [
    "<hr style=\"margin:0; border: 1px solid #FFBE0A;\"/><font color='#FFBE0A'>Written Answer:</font>"
   ]
  },
  {
   "cell_type": "markdown",
   "id": "ff6320f9",
   "metadata": {
    "deletable": false
   },
   "source": [
    "_Type your answer here, replacing this text._\n"
   ]
  },
  {
   "cell_type": "markdown",
   "id": "eb89f2a9",
   "metadata": {
    "deletable": false,
    "editable": false
   },
   "source": [
    "<hr style=\"margin:0; border: 1px solid #FFBE0A;\"/>"
   ]
  },
  {
   "cell_type": "code",
   "execution_count": null,
   "id": "01b71590",
   "metadata": {
    "deletable": false,
    "execution": {
     "iopub.execute_input": "2024-09-19T18:38:37.337127Z",
     "iopub.status.busy": "2024-09-19T18:38:37.337023Z",
     "iopub.status.idle": "2024-09-19T18:38:37.338579Z",
     "shell.execute_reply": "2024-09-19T18:38:37.338336Z"
    },
    "tags": []
   },
   "outputs": [],
   "source": [
    "# This is a code cell where you can get started on your work."
   ]
  },
  {
   "cell_type": "markdown",
   "id": "7acb3377",
   "metadata": {
    "deletable": false,
    "editable": false
   },
   "source": [
    "<!-- END QUESTION -->\n",
    "\n",
    "<hr class=\"m-0\" style=\"border: 3px solid #500082;\"/>\n",
    "\n",
    "# You're Done!\n",
    "Follow these steps to submit your work:\n",
    "* Run the tests and verify that they pass as you expect. \n",
    "* Choose **Save Notebook** from the **File** menu.\n",
    "* **Run the final cell** and click the link below to download the zip file. \n",
    "\n",
    "Once you have downloaded that file, go to [Gradescope](https://www.gradescope.com/) and submit the zip file to \n",
    "the corresponding assignment. For Lab N, the assignment will be called \"Lab N Autograder\".\n",
    "\n",
    "Once you have submitted, your Gradescope assignment should show you passing all the tests you passed in your assignment notebook.\n"
   ]
  },
  {
   "cell_type": "markdown",
   "id": "22668bda",
   "metadata": {
    "deletable": false,
    "editable": false
   },
   "source": [
    "## Submission\n",
    "\n",
    "Make sure you have run all cells in your notebook in order before running the cell below, so that all images/graphs appear in the output. The cell below will generate a zip file for you to submit. **Please save before exporting!**"
   ]
  },
  {
   "cell_type": "code",
   "execution_count": null,
   "id": "1e635424",
   "metadata": {
    "deletable": false,
    "editable": false
   },
   "outputs": [],
   "source": [
    "# Save your notebook first, then run this cell to export your submission.\n",
    "grader.export(run_tests=True)"
   ]
  },
  {
   "cell_type": "markdown",
   "id": "1ea31b13",
   "metadata": {},
   "source": [
    " "
   ]
  }
 ],
 "metadata": {
  "kernelspec": {
   "display_name": "Python 3 (ipykernel)",
   "language": "python",
   "name": "python3"
  },
  "language_info": {
   "codemirror_mode": {
    "name": "ipython",
    "version": 3
   },
   "file_extension": ".py",
   "mimetype": "text/x-python",
   "name": "python",
   "nbconvert_exporter": "python",
   "pygments_lexer": "ipython3",
   "version": "3.9.19"
  },
  "otter": {
   "OK_FORMAT": true,
   "tests": {
    "p1.1": {
     "has_hidden": false,
     "name": "p1.1",
     "points": 5,
     "suites": [
      {
       "cases": [
        {
         "code": ">>> check_str('unemployment.select(\\'Date\\', \\'NEI\\', \\'NEI-PTER\\').column(\\'Date\\').item(0) == \\'1994-01-01\\'', locals())\n",
         "failure_message": "check(unemployment.select('Date', 'NEI', 'NEI-PTER').column('Date').item(0) == '1994-01-01')",
         "hidden": false,
         "locked": false,
         "submit_only": false,
         "success_message": "check(unemployment.select('Date', 'NEI', 'NEI-PTER').column('Date').item(0) == '1994-01-01')"
        },
        {
         "code": ">>> check_str('unemployment.num_rows == 90', locals())\n",
         "failure_message": "check(unemployment.num_rows == 90)",
         "hidden": false,
         "locked": false,
         "submit_only": false,
         "success_message": "check(unemployment.num_rows == 90)"
        }
       ],
       "scored": true,
       "setup": "",
       "teardown": "",
       "type": "doctest"
      }
     ]
    },
    "p1.2": {
     "has_hidden": false,
     "name": "p1.2",
     "points": 5,
     "suites": [
      {
       "cases": [
        {
         "code": ">>> check_str('by_nei.column(\\'Date\\').item(0) == \\'2009-10-01\\'', locals())\n",
         "failure_message": "check(by_nei.column('Date').item(0) == '2009-10-01')",
         "hidden": false,
         "locked": false,
         "submit_only": false,
         "success_message": "check(by_nei.column('Date').item(0) == '2009-10-01')"
        },
        {
         "code": ">>> check_str('by_nei_pter.column(\\'Date\\').item(0) == \\'2009-10-01\\'', locals())\n",
         "failure_message": "check(by_nei_pter.column('Date').item(0) == '2009-10-01')",
         "hidden": false,
         "locked": false,
         "submit_only": false,
         "success_message": "check(by_nei_pter.column('Date').item(0) == '2009-10-01')"
        }
       ],
       "scored": true,
       "setup": "",
       "teardown": "",
       "type": "doctest"
      }
     ]
    },
    "p1.3": {
     "has_hidden": false,
     "name": "p1.3",
     "points": 5,
     "suites": [
      {
       "cases": [
        {
         "code": ">>> check_str('greatest_nei.num_rows == 10', locals())\n",
         "failure_message": "check(greatest_nei.num_rows == 10)",
         "hidden": false,
         "locked": false,
         "submit_only": false,
         "success_message": "check(greatest_nei.num_rows == 10)"
        },
        {
         "code": ">>> check_str('greatest_nei.column(\\'Date\\').item(0) == \\'2009-10-01\\'', locals())\n",
         "failure_message": "check(greatest_nei.column('Date').item(0) == '2009-10-01')",
         "hidden": false,
         "locked": false,
         "submit_only": false,
         "success_message": "check(greatest_nei.column('Date').item(0) == '2009-10-01')"
        }
       ],
       "scored": true,
       "setup": "",
       "teardown": "",
       "type": "doctest"
      }
     ]
    },
    "p1.4": {
     "has_hidden": false,
     "name": "p1.4",
     "points": 5,
     "suites": [
      {
       "cases": [
        {
         "code": ">>> check_str('len(pter) == 90', locals())\n",
         "failure_message": "check(len(pter) == 90)",
         "hidden": false,
         "locked": false,
         "submit_only": false,
         "success_message": "check(len(pter) == 90)"
        },
        {
         "code": ">>> check_str('pter.item(6) == approx(1.128199)', locals())\n",
         "failure_message": "check(pter.item(6) == approx(1.128199))",
         "hidden": false,
         "locked": false,
         "submit_only": false,
         "success_message": "check(pter.item(6) == approx(1.128199))"
        }
       ],
       "scored": true,
       "setup": "",
       "teardown": "",
       "type": "doctest"
      }
     ]
    },
    "p1.5": {
     "has_hidden": false,
     "name": "p1.5",
     "points": 5,
     "suites": [
      {
       "cases": [
        {
         "code": ">>> check_str('by_pter.column(\\'Date\\').item(0) == \\'2009-07-01\\'', locals())\n",
         "failure_message": "check(by_pter.column('Date').item(0) == '2009-07-01')",
         "hidden": false,
         "locked": false,
         "submit_only": false,
         "success_message": "check(by_pter.column('Date').item(0) == '2009-07-01')"
        },
        {
         "code": ">>> check_str('by_pter.column(\\'PTER\\').item(0) == approx(1.9315)', locals())\n",
         "failure_message": "check(by_pter.column('PTER').item(0) == approx(1.9315))",
         "hidden": false,
         "locked": false,
         "submit_only": false,
         "success_message": "check(by_pter.column('PTER').item(0) == approx(1.9315))"
        }
       ],
       "scored": true,
       "setup": "",
       "teardown": "",
       "type": "doctest"
      }
     ]
    },
    "p1.6": {
     "has_hidden": true,
     "name": "p1.6",
     "points": 0,
     "suites": [
      {
       "cases": [
        {
         "code": ">>> check_str('type(pter_over_time) == Table', locals())\n",
         "failure_message": "Be sure to store a new Table in the pter_over_time variable.",
         "hidden": false,
         "locked": false,
         "submit_only": false,
         "success_message": "check(type(pter_over_time) == Table)"
        },
        {
         "code": ">>> check_str('pter_over_time.column(\"Date\").item(0) == \\'1994-01-01\\'', locals())\n",
         "failure_message": "check(pter_over_time.column(\"Date\").item(0) == '1994-01-01')",
         "hidden": false,
         "locked": false,
         "submit_only": false,
         "success_message": "check(pter_over_time.column(\"Date\").item(0) == '1994-01-01')"
        }
       ],
       "scored": true,
       "setup": "",
       "teardown": "",
       "type": "doctest"
      }
     ]
    },
    "p1.7": {
     "has_hidden": true,
     "name": "p1.7",
     "points": 5,
     "suites": [
      {
       "cases": [
        {
         "code": ">>> check_str('type(highPTER) == bool', locals())\n",
         "failure_message": "check(type(highPTER) == bool)",
         "hidden": false,
         "locked": false,
         "submit_only": false,
         "success_message": "check(type(highPTER) == bool)"
        }
       ],
       "scored": true,
       "setup": "",
       "teardown": "",
       "type": "doctest"
      }
     ]
    },
    "p2.1": {
     "has_hidden": true,
     "name": "p2.1",
     "points": 5,
     "suites": [
      {
       "cases": [
        {
         "code": ">>> check_str('us_birth_rate in between_or_equal(0, 1)', locals())\n",
         "failure_message": "check(us_birth_rate in between_or_equal(0, 1))",
         "hidden": false,
         "locked": false,
         "submit_only": false,
         "success_message": "check(us_birth_rate in between_or_equal(0, 1))"
        }
       ],
       "scored": true,
       "setup": "",
       "teardown": "",
       "type": "doctest"
      }
     ]
    },
    "p2.2": {
     "has_hidden": true,
     "name": "p2.2",
     "points": 5,
     "suites": [
      {
       "cases": [
        {
         "code": ">>> check_str('movers.num_rows in between_or_equal(0, 52)', locals())\n",
         "failure_message": "check(movers.num_rows in between_or_equal(0, 52))",
         "hidden": false,
         "locked": false,
         "submit_only": false,
         "success_message": "check(movers.num_rows in between_or_equal(0, 52))"
        }
       ],
       "scored": true,
       "setup": "",
       "teardown": "",
       "type": "doctest"
      }
     ]
    },
    "p2.3": {
     "has_hidden": true,
     "name": "p2.3",
     "points": 5,
     "suites": [
      {
       "cases": [
        {
         "code": ">>> check_str('5e5 <= west_births <= 1e6', locals())\n",
         "failure_message": "check(5e5 <= west_births <= 1e6)",
         "hidden": false,
         "locked": false,
         "submit_only": false,
         "success_message": "check(5e5 <= west_births <= 1e6)"
        }
       ],
       "scored": true,
       "setup": "",
       "teardown": "",
       "type": "doctest"
      }
     ]
    },
    "p2.4": {
     "has_hidden": false,
     "name": "p2.4",
     "points": 5,
     "suites": [
      {
       "cases": [
        {
         "code": ">>> check_str('visualization in [1,2,3]', locals())\n",
         "failure_message": "visualization should be set to 1, 2, or 3.",
         "hidden": false,
         "locked": false,
         "submit_only": false,
         "success_message": "check(visualization in [1,2,3])"
        },
        {
         "code": ">>> check_str('visualization == 3', locals())\n",
         "failure_message": "check(visualization == 3)",
         "hidden": false,
         "locked": false,
         "submit_only": false,
         "success_message": "check(visualization == 3)"
        }
       ],
       "scored": true,
       "setup": "",
       "teardown": "",
       "type": "doctest"
      }
     ]
    },
    "p2.6": {
     "has_hidden": true,
     "name": "p2.6",
     "points": 5,
     "suites": [
      {
       "cases": [
        {
         "code": ">>> check_str('type(assoc) == bool', locals())\n",
         "failure_message": "assoc should be set to True or False.",
         "hidden": false,
         "locked": false,
         "submit_only": false,
         "success_message": "check(type(assoc) == bool)"
        }
       ],
       "scored": true,
       "setup": "",
       "teardown": "",
       "type": "doctest"
      }
     ]
    },
    "p3.1": {
     "has_hidden": false,
     "name": "p3.1",
     "points": 0,
     "suites": [
      {
       "cases": [
        {
         "code": ">>> check_str('boston_plot.get_title()==\\'Boston Uber Rides\\'', locals())\n",
         "failure_message": "check(boston_plot.get_title()=='Boston Uber Rides')",
         "hidden": false,
         "locked": false,
         "submit_only": false,
         "success_message": "check(boston_plot.get_title()=='Boston Uber Rides')"
        }
       ],
       "scored": true,
       "setup": "",
       "teardown": "",
       "type": "doctest"
      }
     ]
    },
    "p3.2": {
     "has_hidden": false,
     "name": "p3.2",
     "points": 5,
     "suites": [
      {
       "cases": [
        {
         "code": ">>> check_str('rides_between_20_and_25 in between(14,16)', locals())\n",
         "failure_message": "check(rides_between_20_and_25 in between(14,16))",
         "hidden": false,
         "locked": false,
         "submit_only": false,
         "success_message": "check(rides_between_20_and_25 in between(14,16))"
        }
       ],
       "scored": true,
       "setup": "",
       "teardown": "",
       "type": "doctest"
      }
     ]
    },
    "p3.3": {
     "has_hidden": false,
     "name": "p3.3",
     "points": 0,
     "suites": [
      {
       "cases": [
        {
         "code": ">>> check_str('manila_plot.get_title() == \\'Manila Uber Rides\\'', locals())\n",
         "failure_message": "check(manila_plot.get_title() == 'Manila Uber Rides')",
         "hidden": false,
         "locked": false,
         "submit_only": false,
         "success_message": "check(manila_plot.get_title() == 'Manila Uber Rides')"
        },
        {
         "code": ">>> check_str('manila_plot.get_ylim() == (0,0.05)', locals())\n",
         "failure_message": "check(manila_plot.get_ylim() == (0,0.05))",
         "hidden": false,
         "locked": false,
         "submit_only": false,
         "success_message": "check(manila_plot.get_ylim() == (0,0.05))"
        }
       ],
       "scored": true,
       "setup": "",
       "teardown": "",
       "type": "doctest"
      }
     ]
    },
    "p3.4": {
     "has_hidden": true,
     "name": "p3.4",
     "points": 5,
     "suites": [
      {
       "cases": [
        {
         "code": ">>> check_str('boston_under_15 in between_or_equal(0, 100)', locals())\n",
         "failure_message": "check(boston_under_15 in between_or_equal(0, 100))",
         "hidden": false,
         "locked": false,
         "submit_only": false,
         "success_message": "check(boston_under_15 in between_or_equal(0, 100))"
        },
        {
         "code": ">>> check_str('manila_under_15 in between_or_equal(0, 100)', locals())\n",
         "failure_message": "check(manila_under_15 in between_or_equal(0, 100))",
         "hidden": false,
         "locked": false,
         "submit_only": false,
         "success_message": "check(manila_under_15 in between_or_equal(0, 100))"
        }
       ],
       "scored": true,
       "setup": "",
       "teardown": "",
       "type": "doctest"
      }
     ]
    },
    "p3.5": {
     "has_hidden": true,
     "name": "p3.5",
     "points": 5,
     "suites": [
      {
       "cases": [
        {
         "code": ">>> check_str('boston_median_bin in [1,2,3,4,5]', locals())\n",
         "failure_message": "check(boston_median_bin in [1,2,3,4,5])",
         "hidden": false,
         "locked": false,
         "submit_only": false,
         "success_message": "check(boston_median_bin in [1,2,3,4,5])"
        }
       ],
       "scored": true,
       "setup": "",
       "teardown": "",
       "type": "doctest"
      }
     ]
    }
   }
  },
  "vscode": {
   "interpreter": {
    "hash": "e9a7af6fc709cc25e111b0d6e28f738a78907138b7e48b682edcf6dfb7dc8bee"
   }
  }
 },
 "nbformat": 4,
 "nbformat_minor": 5
}
