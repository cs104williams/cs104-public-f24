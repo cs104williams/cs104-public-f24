{
 "cells": [
  {
   "cell_type": "code",
   "execution_count": null,
   "id": "c38390d5",
   "metadata": {
    "deletable": false,
    "editable": false
   },
   "outputs": [],
   "source": [
    "# Initialize Otter\n",
    "import otter\n",
    "grader = otter.Notebook(\"lab06.ipynb\")"
   ]
  },
  {
   "cell_type": "markdown",
   "id": "f3c8e29e",
   "metadata": {
    "deletable": false,
    "editable": false
   },
   "source": [
    "<table style=\"width: 100%;\">\n",
    "<tr style=\"background-color: transparent;\">\n",
    "<td width=\"100px\"><img src=\"https://cs104williams.github.io/assets/cs104-logo.png\" width=\"90px\" style=\"text-align: center\"/></td>\n",
    "<td>\n",
    "  <p style=\"margin-bottom: 0px; text-align: left; font-size: 18pt;\"><strong>CSCI 104: Data Science and Computing for All</strong><br>\n",
    "                Williams College<br>\n",
    "                Fall 2025</p>\n",
    "</td>\n",
    "</tr>\n"
   ]
  },
  {
   "cell_type": "markdown",
   "id": "dd67aa0c",
   "metadata": {
    "deletable": false,
    "editable": false
   },
   "source": [
    "# Lab 6: Probability, Simulation, Models, Cleaning"
   ]
  },
  {
   "cell_type": "markdown",
   "id": "9bfebf1a",
   "metadata": {
    "deletable": false,
    "editable": false
   },
   "source": [
    "<hr style=\"margin: 0px; border: 3px solid #500082;\"/>\n",
    "\n",
    "<h2>Instructions</h2>\n",
    "\n",
    "- Before you begin, execute the cell at the TOP of the notebook to load the provided tests, as well as the following cell to setup the notebook by importing some helpful libraries. Each time you start your server, you will need to execute these cells again.  \n",
    "- Be sure to consult your [Python Reference](https://cs104williams.github.io/assets/python-library-ref.html)!\n",
    "- Complete this notebook by filling in the cells provided. For problems asking you to write explanations, you **must** provide your answer in the designated space. \n",
    "- Please be sure to not re-assign variables throughout the notebook.  For example, if you use `max_temperature` in your answer to one question, do not reassign it later on. Otherwise, you will fail tests that you thought you were passing previously.\n",
    "- This lab has hidden tests on it. That means even though tests may say 100% passed, doesn't mean your final grade will be 100%. We will be running more tests for correctness once everyone turns in the lab.\n",
    "- To use one or more late days on this lab, please fill out our [late day form](https://forms.gle/4sD16h3hN1xRqQM27) **before** the due date.\n",
    "\n",
    "<hr/>\n",
    "<h2>Setup</h2>\n"
   ]
  },
  {
   "cell_type": "code",
   "execution_count": null,
   "id": "93bf8912",
   "metadata": {
    "deletable": false,
    "editable": false,
    "execution": {
     "iopub.execute_input": "2025-10-27T13:11:05.855021Z",
     "iopub.status.busy": "2025-10-27T13:11:05.854701Z",
     "iopub.status.idle": "2025-10-27T13:11:06.829510Z",
     "shell.execute_reply": "2025-10-27T13:11:06.829255Z"
    },
    "tags": []
   },
   "outputs": [],
   "source": [
    "# Run this cell to set up the notebook.\n",
    "# These lines import the numpy, datascience, and cs104 libraries.\n",
    "\n",
    "import numpy as np\n",
    "from datascience import *\n",
    "from cs104 import *\n",
    "%matplotlib inline"
   ]
  },
  {
   "cell_type": "markdown",
   "id": "fe810d39",
   "metadata": {
    "deletable": false,
    "editable": false
   },
   "source": [
    "<hr style=\"margin-bottom: 0px; padding:0; border: 2px solid #500082;\"/>\n"
   ]
  },
  {
   "cell_type": "markdown",
   "id": "9eca95bf",
   "metadata": {
    "deletable": false,
    "editable": false,
    "tags": []
   },
   "source": [
    "## 1. Roulette (55 pts)\n",
    "\n"
   ]
  },
  {
   "cell_type": "markdown",
   "id": "4d481d2f",
   "metadata": {
    "deletable": false,
    "editable": false
   },
   "source": [
    "<font color=#B1008E>\n",
    "    \n",
    "#### Learning objectives\n",
    "- Simulate and evaluate the outcomes of various models involving chance.\n",
    "- Use simulation and samples to estimate a probability.\n",
    "</font>"
   ]
  },
  {
   "cell_type": "markdown",
   "id": "f40937bf",
   "metadata": {
    "deletable": false,
    "editable": false
   },
   "source": [
    "A Nevada roulette wheel has 38 pockets and a small ball that rests on the wheel. When the wheel is spun, the ball comes to rest in one of the 38 pockets. That pocket is declared the winner. \n",
    "\n",
    "The pockets are labeled 0, 00, 1, 2, 3, 4, ... , 36. Pockets 0 and 00 are green, and the other pockets are alternately red and black. The table `wheel` below is a representation of a Nevada roulette wheel. \n",
    "\n",
    "*Note*: The data type of entries in *both* columns are strings."
   ]
  },
  {
   "cell_type": "markdown",
   "id": "adddd8f1",
   "metadata": {
    "deletable": false,
    "editable": false
   },
   "source": [
    "<img src=\"roulette_wheel.jpeg\" width=\"330px\">"
   ]
  },
  {
   "cell_type": "code",
   "execution_count": null,
   "id": "6abe7dd1",
   "metadata": {
    "deletable": false,
    "editable": false,
    "execution": {
     "iopub.execute_input": "2025-10-27T13:11:06.831321Z",
     "iopub.status.busy": "2025-10-27T13:11:06.831168Z",
     "iopub.status.idle": "2025-10-27T13:11:06.836084Z",
     "shell.execute_reply": "2025-10-27T13:11:06.835876Z"
    }
   },
   "outputs": [],
   "source": [
    "wheel = Table.read_table('roulette_wheel.csv', dtype=str)\n",
    "wheel"
   ]
  },
  {
   "cell_type": "markdown",
   "id": "837a584f",
   "metadata": {
    "deletable": false,
    "editable": false,
    "tags": []
   },
   "source": [
    "### Betting on Red ###\n",
    "If you bet on *red*, you are betting that the winning pocket will be red. This bet *pays 1 to 1*. That means if you place a one-dollar bet on red, then:\n",
    "\n",
    "- If the winning pocket is red, you gain 1 dollar. That is, you get your original dollar back, plus one more dollar.\n",
    "- If the winning pocket is not red, you lose your dollar. In other words, you gain -1 dollars.\n",
    "\n",
    "Let's see if you can make money by betting on red at roulette."
   ]
  },
  {
   "cell_type": "markdown",
   "id": "9c567de0",
   "metadata": {
    "deletable": false,
    "editable": false
   },
   "source": [
    "#### Part 1.1 (5 pts)\n"
   ]
  },
  {
   "cell_type": "markdown",
   "id": "c00308e1",
   "metadata": {
    "deletable": false,
    "editable": false
   },
   "source": [
    " Define a function `dollar_bet_on_red` that takes the name of a color and returns your gain in dollars if that color had won and you had placed a one-dollar bet on red. \n",
    " \n",
    " \n",
    "*Hints:*\n",
    "- Remember that the gain can be negative.\n",
    "- Make sure your function returns an integer. \n",
    "- You can assume that the only colors that will be passed as arguments are `\"red\"`, `\"black\"`, and `\"green\"`. Your function doesn't have to check that."
   ]
  },
  {
   "cell_type": "code",
   "execution_count": null,
   "id": "9b8af473",
   "metadata": {
    "deletable": false,
    "execution": {
     "iopub.execute_input": "2025-10-27T13:11:06.837498Z",
     "iopub.status.busy": "2025-10-27T13:11:06.837404Z",
     "iopub.status.idle": "2025-10-27T13:11:06.839061Z",
     "shell.execute_reply": "2025-10-27T13:11:06.838867Z"
    },
    "tags": []
   },
   "outputs": [],
   "source": [
    "def dollar_bet_on_red(color):\n",
    "    ...\n"
   ]
  },
  {
   "cell_type": "code",
   "execution_count": null,
   "id": "1adbf300",
   "metadata": {
    "deletable": false,
    "editable": false
   },
   "outputs": [],
   "source": [
    "grader.check(\"p1.1\")"
   ]
  },
  {
   "cell_type": "markdown",
   "id": "33649c5b",
   "metadata": {
    "deletable": false,
    "editable": false
   },
   "source": [
    "#### Part 1.2 (5 pts)\n"
   ]
  },
  {
   "cell_type": "markdown",
   "id": "132eee40",
   "metadata": {
    "deletable": false,
    "editable": false
   },
   "source": [
    "Add a column labeled `Winnings for Red` to the table `wheel` and assign this new table to `wheel_w_red`. For each pocket (each row in `wheel`, the column `Winnings for Red` should contain your gain in dollars if that pocket won and you had bet one dollar on red. \n",
    "\n",
    "*Hints:*\n",
    "- Your code should use the function `dollar_bet_on_red`.\n",
    "- A simple solution will use one of these table methods: `pivot`, `group`, or `apply`. "
   ]
  },
  {
   "cell_type": "code",
   "execution_count": null,
   "id": "8c1973a8",
   "metadata": {
    "deletable": false,
    "execution": {
     "iopub.execute_input": "2025-10-27T13:11:06.848589Z",
     "iopub.status.busy": "2025-10-27T13:11:06.848507Z",
     "iopub.status.idle": "2025-10-27T13:11:06.850682Z",
     "shell.execute_reply": "2025-10-27T13:11:06.850473Z"
    },
    "tags": []
   },
   "outputs": [],
   "source": [
    "red_winnings = ...\n",
    "wheel_w_red = ...\n",
    "wheel_w_red"
   ]
  },
  {
   "cell_type": "code",
   "execution_count": null,
   "id": "d3838d78",
   "metadata": {
    "deletable": false,
    "editable": false
   },
   "outputs": [],
   "source": [
    "grader.check(\"p1.2\")"
   ]
  },
  {
   "cell_type": "markdown",
   "id": "eb72c761",
   "metadata": {
    "deletable": false,
    "editable": false
   },
   "source": [
    "### Simulating 10 bets on Red\n",
    "Roulette wheels are set up so that each time they are spun, the winning pocket is equally likely to be any of the 38 pockets regardless of the results of all other spins. Let's see what would happen if we decided to bet one dollar on red each round."
   ]
  },
  {
   "cell_type": "markdown",
   "id": "f6780fd4",
   "metadata": {
    "deletable": false,
    "editable": false
   },
   "source": [
    "#### Part 1.3 (5 pts)\n"
   ]
  },
  {
   "cell_type": "markdown",
   "id": "a25132ae",
   "metadata": {
    "deletable": false,
    "editable": false
   },
   "source": [
    "Create a table `ten_bets` by sampling the table `wheel_w_red` to simulate 10 spins of the roulette wheel. \n",
    "\n",
    "This new table, `ten_bets`, should have the same three column labels as `wheel_w_red`. Once you've created that table, set `sum_bets` to your net gain in all 10 bets, assuming that you bet one dollar on red each time.\n",
    "\n",
    "*Hint:* It may be helpful to print out `ten_bets` after you create it."
   ]
  },
  {
   "cell_type": "code",
   "execution_count": null,
   "id": "c54dab6e",
   "metadata": {
    "deletable": false,
    "execution": {
     "iopub.execute_input": "2025-10-27T13:11:06.860141Z",
     "iopub.status.busy": "2025-10-27T13:11:06.860079Z",
     "iopub.status.idle": "2025-10-27T13:11:06.862154Z",
     "shell.execute_reply": "2025-10-27T13:11:06.861953Z"
    },
    "tags": []
   },
   "outputs": [],
   "source": [
    "ten_bets = ...\n",
    "sum_bets = ...(ten_bets.column('Winnings for Red'))\n",
    "\n",
    "sum_bets"
   ]
  },
  {
   "cell_type": "code",
   "execution_count": null,
   "id": "4ac2e1f4",
   "metadata": {
    "deletable": false,
    "editable": false
   },
   "outputs": [],
   "source": [
    "grader.check(\"p1.3\")"
   ]
  },
  {
   "cell_type": "markdown",
   "id": "1bd9586c",
   "metadata": {
    "deletable": false,
    "editable": false
   },
   "source": [
    "#### Part 1.4 (5 pts)\n"
   ]
  },
  {
   "cell_type": "markdown",
   "id": "83acf374",
   "metadata": {
    "deletable": false,
    "editable": false
   },
   "source": [
    " Let's see what would happen if you made more bets. Define a function `net_gain_red` that takes as an argument the number of bets and returns the net gain in that number of one-dollar bets on red. \n",
    "\n",
    "*Hint:* You should use your `wheel_w_red` table within your function definition."
   ]
  },
  {
   "cell_type": "code",
   "execution_count": null,
   "id": "758d8619",
   "metadata": {
    "deletable": false,
    "execution": {
     "iopub.execute_input": "2025-10-27T13:11:06.866241Z",
     "iopub.status.busy": "2025-10-27T13:11:06.866167Z",
     "iopub.status.idle": "2025-10-27T13:11:06.868148Z",
     "shell.execute_reply": "2025-10-27T13:11:06.867952Z"
    },
    "tags": []
   },
   "outputs": [],
   "source": [
    "def net_gain_red(n):\n",
    "...\n",
    "\n",
    "# Run cell a few times to observe what happens \n",
    "net_gain_red(10)"
   ]
  },
  {
   "cell_type": "code",
   "execution_count": null,
   "id": "04cf700f",
   "metadata": {
    "deletable": false,
    "editable": false
   },
   "outputs": [],
   "source": [
    "grader.check(\"p1.4\")"
   ]
  },
  {
   "cell_type": "markdown",
   "id": "71709b6a",
   "metadata": {
    "deletable": false,
    "editable": false
   },
   "source": [
    "#### Part 1.5 (5 pts)\n"
   ]
  },
  {
   "cell_type": "markdown",
   "id": "f0226da1",
   "metadata": {
    "deletable": false,
    "editable": false
   },
   "source": [
    "Complete the cell below to simulate the net gain in 200 one-dollar bets on red, repeating the process 10,000 times. We have given you a function to compute the net gain for 200 bets that will be useful in your call to `simulate`.\n",
    "\n",
    "\n",
    "After the cell is run, `all_gains_red` should be an array with 10,000 entries, each of which is the net gain in 200 one-dollar bets on red. \n",
    "\n",
    "*Note:* Running 10,000 times might take up to 10-15 seconds to run."
   ]
  },
  {
   "cell_type": "code",
   "execution_count": null,
   "id": "9615eb2b",
   "metadata": {
    "deletable": false,
    "execution": {
     "iopub.execute_input": "2025-10-27T13:11:06.872222Z",
     "iopub.status.busy": "2025-10-27T13:11:06.872157Z",
     "iopub.status.idle": "2025-10-27T13:11:08.666565Z",
     "shell.execute_reply": "2025-10-27T13:11:08.666169Z"
    },
    "tags": []
   },
   "outputs": [],
   "source": [
    "def net_gain_red_200():\n",
    "    \"\"\"Make one outcome for betting on red 200 times\"\"\"\n",
    "    return net_gain_red(200)\n",
    "\n",
    "all_gains_red = simulate(..., ...)\n"
   ]
  },
  {
   "cell_type": "code",
   "execution_count": null,
   "id": "c0aaa5e9",
   "metadata": {
    "deletable": false,
    "editable": false
   },
   "outputs": [],
   "source": [
    "grader.check(\"p1.5\")"
   ]
  },
  {
   "cell_type": "markdown",
   "id": "09b666bf",
   "metadata": {
    "deletable": false,
    "editable": false
   },
   "source": [
    "Run the cell below to visualize the results of your simulation. We have plotted a yellow vertical line for at x=0 for visual convenience. "
   ]
  },
  {
   "cell_type": "code",
   "execution_count": null,
   "id": "768569bf",
   "metadata": {
    "deletable": false,
    "editable": false,
    "execution": {
     "iopub.execute_input": "2025-10-27T13:11:08.676417Z",
     "iopub.status.busy": "2025-10-27T13:11:08.676343Z",
     "iopub.status.idle": "2025-10-27T13:11:08.781004Z",
     "shell.execute_reply": "2025-10-27T13:11:08.780771Z"
    },
    "tags": []
   },
   "outputs": [],
   "source": [
    "gains = Table().with_columns('Net Gain on Red for 200 bets', all_gains_red)\n",
    "plot = gains.hist(bins = np.arange(-80, 41, 4))\n",
    "plot.line(0, color='yellow')"
   ]
  },
  {
   "cell_type": "markdown",
   "id": "8ca13986",
   "metadata": {
    "deletable": false,
    "editable": false
   },
   "source": [
    "<!-- BEGIN QUESTION -->\n",
    "\n",
    "#### Part 1.6 (5 pts)\n"
   ]
  },
  {
   "cell_type": "markdown",
   "id": "723cc99c",
   "metadata": {
    "deletable": false,
    "editable": false
   },
   "source": [
    " Using the histogram above, decide whether the following statement is true or false:\n",
    "\n",
    ">If you make 200 one-dollar bets on red, your chance of losing money is more than 50%.\n",
    "\n",
    "Explain your answer in one or two sentences.\n"
   ]
  },
  {
   "cell_type": "markdown",
   "id": "48dd8d3f",
   "metadata": {
    "deletable": false,
    "editable": false
   },
   "source": [
    "<hr style=\"margin:0; border: 1px solid #FFBE0A;\"/><font color='#FFBE0A'>Written Answer:</font>"
   ]
  },
  {
   "cell_type": "markdown",
   "id": "f322424e",
   "metadata": {
    "deletable": false
   },
   "source": [
    "_Type your answer here, replacing this text._\n"
   ]
  },
  {
   "cell_type": "markdown",
   "id": "99f15a3e",
   "metadata": {
    "deletable": false,
    "editable": false
   },
   "source": [
    "<hr style=\"margin:0; border: 1px solid #FFBE0A;\"/>"
   ]
  },
  {
   "cell_type": "markdown",
   "id": "99849fc9",
   "metadata": {
    "deletable": false,
    "editable": false
   },
   "source": [
    "<!-- END QUESTION -->\n",
    "\n",
    "### Betting on a Split\n",
    "If betting on red doesn't seem like a good idea, maybe a gambler might want to try a different bet. A bet on a *split* is a bet on two consecutive numbers such as 5 and 6. This bets pays 17 to 1. That means if you place a one-dollar bet on the split 5 and 6, then:\n",
    "\n",
    "- If the winning pocket is either 5 or 6, your gain is 17 dollars.\n",
    "- If any other pocket wins, you lose your dollar, so your gain is -1 dollars."
   ]
  },
  {
   "cell_type": "markdown",
   "id": "bde5ded6",
   "metadata": {
    "deletable": false,
    "editable": false,
    "tags": []
   },
   "source": [
    "#### Part 1.7 (5 pts)\n"
   ]
  },
  {
   "cell_type": "markdown",
   "id": "30211147",
   "metadata": {
    "deletable": false,
    "editable": false
   },
   "source": [
    "Define a function `dollar_bet_on_split` that takes as an argument the pocket number that the ball lands on and returns your gain in dollars if that pocket won and you had bet one dollar on the 5-6 split.\n",
    "\n",
    "*Hint:* Remember that the pockets are represented as strings, such as `'5'` and `'6'`."
   ]
  },
  {
   "cell_type": "code",
   "execution_count": null,
   "id": "039cfdc4",
   "metadata": {
    "deletable": false,
    "execution": {
     "iopub.execute_input": "2025-10-27T13:11:08.783016Z",
     "iopub.status.busy": "2025-10-27T13:11:08.782923Z",
     "iopub.status.idle": "2025-10-27T13:11:08.784610Z",
     "shell.execute_reply": "2025-10-27T13:11:08.784400Z"
    },
    "tags": []
   },
   "outputs": [],
   "source": [
    "def dollar_bet_on_split(pocket):\n",
    "...\n"
   ]
  },
  {
   "cell_type": "code",
   "execution_count": null,
   "id": "6489bf13",
   "metadata": {
    "deletable": false,
    "editable": false
   },
   "outputs": [],
   "source": [
    "grader.check(\"p1.7\")"
   ]
  },
  {
   "cell_type": "markdown",
   "id": "b4a4ceee",
   "metadata": {
    "deletable": false,
    "editable": false,
    "tags": []
   },
   "source": [
    "#### Part 1.8 (5 pts)\n"
   ]
  },
  {
   "cell_type": "markdown",
   "id": "99a78dfc",
   "metadata": {
    "deletable": false,
    "editable": false
   },
   "source": [
    "Add a column labeled `Winnings for Split` to the `wheel` table and assign this to the variable `wheel_w_split`. For each pocket (each row in the `wheel` table), the column `Winnings for Split` should contain your gain in dollars if that pocket won and you had bet one dollar on the 5-6 split. "
   ]
  },
  {
   "cell_type": "code",
   "execution_count": null,
   "id": "9237deb5",
   "metadata": {
    "deletable": false,
    "execution": {
     "iopub.execute_input": "2025-10-27T13:11:08.796821Z",
     "iopub.status.busy": "2025-10-27T13:11:08.796751Z",
     "iopub.status.idle": "2025-10-27T13:11:08.799159Z",
     "shell.execute_reply": "2025-10-27T13:11:08.798946Z"
    },
    "tags": []
   },
   "outputs": [],
   "source": [
    "split_winnings = ...\n",
    "wheel_w_split = ...\n",
    "\n",
    "wheel_w_split"
   ]
  },
  {
   "cell_type": "code",
   "execution_count": null,
   "id": "0a0c5528",
   "metadata": {
    "deletable": false,
    "editable": false
   },
   "outputs": [],
   "source": [
    "grader.check(\"p1.8\")"
   ]
  },
  {
   "cell_type": "markdown",
   "id": "b90c64be",
   "metadata": {
    "deletable": false,
    "editable": false
   },
   "source": [
    "#### Part 1.9 (5 pts)\n"
   ]
  },
  {
   "cell_type": "markdown",
   "id": "21ba7173",
   "metadata": {
    "deletable": false,
    "editable": false
   },
   "source": [
    " Simulate the net gain in 200 one-dollar bets on the 5-6 split, repeating the process 10,000 times and saving your gains in the array `all_gains_split`.  \n",
    "\n",
    "*Hints:* \n",
    "- Create a helper function `net_gains_split_200()` that makes one outcome for splitting on 200 bets.\n",
    "- Your code parts 4 and 5 may be helpful here. "
   ]
  },
  {
   "cell_type": "code",
   "execution_count": null,
   "id": "ff2705f5",
   "metadata": {
    "deletable": false,
    "execution": {
     "iopub.execute_input": "2025-10-27T13:11:08.808977Z",
     "iopub.status.busy": "2025-10-27T13:11:08.808907Z",
     "iopub.status.idle": "2025-10-27T13:11:10.648351Z",
     "shell.execute_reply": "2025-10-27T13:11:10.648026Z"
    },
    "tags": []
   },
   "outputs": [],
   "source": [
    "def net_gains_split_200():\n",
    "    \"\"\"Make one outcome for splitting 200 times\"\"\"    \n",
    "    ...\n",
    "\n",
    "all_gains_split = simulate(..., ...)\n"
   ]
  },
  {
   "cell_type": "code",
   "execution_count": null,
   "id": "81dc923d",
   "metadata": {
    "deletable": false,
    "editable": false
   },
   "outputs": [],
   "source": [
    "grader.check(\"p1.9\")"
   ]
  },
  {
   "cell_type": "markdown",
   "id": "561b36c6",
   "metadata": {
    "deletable": false,
    "editable": false
   },
   "source": [
    "<!-- BEGIN QUESTION -->\n",
    "\n",
    "#### Part 1.10 (5 pts)\n"
   ]
  },
  {
   "cell_type": "markdown",
   "id": "1ca2f998",
   "metadata": {
    "deletable": false,
    "editable": false
   },
   "source": [
    "Run this code to create a histogram of `all_gains_split`:"
   ]
  },
  {
   "cell_type": "code",
   "execution_count": null,
   "id": "95bd5ea1",
   "metadata": {
    "deletable": false,
    "editable": false,
    "execution": {
     "iopub.execute_input": "2025-10-27T13:11:10.655471Z",
     "iopub.status.busy": "2025-10-27T13:11:10.655406Z",
     "iopub.status.idle": "2025-10-27T13:11:10.746405Z",
     "shell.execute_reply": "2025-10-27T13:11:10.746166Z"
    },
    "tags": []
   },
   "outputs": [],
   "source": [
    "# Do not change the two lines below\n",
    "# We have plotted a yellow vertical line for at x=0 for visual convenience.\n",
    "gains = gains.with_columns('Net Gain on Split for 200 bets', all_gains_split)\n",
    "plot = gains.hist(bins = np.arange(-200, 150, 20))\n",
    "plot.line(0, color='yellow')"
   ]
  },
  {
   "cell_type": "markdown",
   "id": "c7e833cf",
   "metadata": {
    "deletable": false,
    "editable": false
   },
   "source": [
    "Look carefully at the histograms above and state whether each of the following statements is true or false.  No need to justify the answers.  Just assign `True` or `False` for each of the four statements.\n",
    "\n",
    "- **Statement 1**: If you bet one dollar 200 times on a split, your chance of losing money is more than 50%.\n",
    "- **Statement 2**: If you bet one dollar 200 times, your chance of making more than 50 dollars is greater if you bet on a split each time than if you bet on red each time.\n",
    "- **Statement 3**: If you bet one dollar 200 times, your chance of losing more than 50 dollars is greater if you bet on a split each time than if you bet on red each time.\n",
    "- **Statement 4**: The empirical distribution for `Net Gain on Red for 200 bets` has a greater variance than that for `Net Gain on Split for 200 bets`. "
   ]
  },
  {
   "cell_type": "code",
   "execution_count": null,
   "id": "b2fc31e5",
   "metadata": {
    "deletable": false,
    "execution": {
     "iopub.execute_input": "2025-10-27T13:11:10.747813Z",
     "iopub.status.busy": "2025-10-27T13:11:10.747730Z",
     "iopub.status.idle": "2025-10-27T13:11:10.749455Z",
     "shell.execute_reply": "2025-10-27T13:11:10.749252Z"
    },
    "tags": []
   },
   "outputs": [],
   "source": [
    "statement_1 = ...\n",
    "statement_2 = ...\n",
    "statement_3 = ...\n",
    "statement_4 = ..."
   ]
  },
  {
   "cell_type": "code",
   "execution_count": null,
   "id": "2bb1fbbe",
   "metadata": {
    "deletable": false,
    "editable": false
   },
   "outputs": [],
   "source": [
    "grader.check(\"p1.10\")"
   ]
  },
  {
   "cell_type": "markdown",
   "id": "a873c99f",
   "metadata": {
    "deletable": false,
    "editable": false
   },
   "source": [
    "<!-- END QUESTION -->\n",
    "\n",
    "If this exercise has put you off playing roulette, it has done its job. If you are still curious about other bets, [here](https://en.wikipedia.org/wiki/Roulette#Bet_odds_table) they all are, and [here](https://en.wikipedia.org/wiki/Roulette#House_edge) is the bad news. The house – that is, the casino – always has an edge over the gambler."
   ]
  },
  {
   "cell_type": "markdown",
   "id": "fbb5cdc6",
   "metadata": {
    "deletable": false,
    "editable": false
   },
   "source": [
    "### Simulation of Chance"
   ]
  },
  {
   "cell_type": "markdown",
   "id": "deb64662",
   "metadata": {
    "deletable": false,
    "editable": false
   },
   "source": [
    "#### Part 1.11 (5 pts)\n"
   ]
  },
  {
   "cell_type": "markdown",
   "id": "f8524495",
   "metadata": {
    "deletable": false,
    "editable": false
   },
   "source": [
    "Estimate the proability that the color green wins at least once on the first 10 spins via a simulation.  Specifically, repeatedly simulate 10 spins and determine what percent of those trials yield spins containing at least one green.  You should use our `simulate` library function and 10,000 trials.\n",
    "\n",
    "*Hints:*\n",
    "- Should you be sampling with or without replacement? "
   ]
  },
  {
   "cell_type": "code",
   "execution_count": null,
   "id": "fcba92e3",
   "metadata": {
    "deletable": false,
    "execution": {
     "iopub.execute_input": "2025-10-27T13:11:10.764407Z",
     "iopub.status.busy": "2025-10-27T13:11:10.764338Z",
     "iopub.status.idle": "2025-10-27T13:11:11.030102Z",
     "shell.execute_reply": "2025-10-27T13:11:11.029852Z"
    },
    "tags": []
   },
   "outputs": [],
   "source": [
    "def green_in_ten_spins():\n",
    "    \"\"\"\n",
    "    Make one outcome of spinning 10 times.\n",
    "    Return True if green occurs at least once, \n",
    "    and False if green does not occur in 10 spins.\n",
    "    \"\"\"\n",
    "    ...\n",
    "    \n",
    "\n",
    "green_wins = simulate(green_in_ten_spins, 10000)\n",
    "prob_green_wins = ...\n",
    "print(\"Estimated probability: \", prob_green_wins)"
   ]
  },
  {
   "cell_type": "code",
   "execution_count": null,
   "id": "bc6a0b74",
   "metadata": {
    "deletable": false,
    "editable": false
   },
   "outputs": [],
   "source": [
    "grader.check(\"p1.11\")"
   ]
  },
  {
   "cell_type": "markdown",
   "id": "0e7ca5d0",
   "metadata": {
    "deletable": false,
    "editable": false
   },
   "source": [
    "<hr style=\"margin-bottom: 0px; padding:0; border: 2px solid #500082;\"/>\n"
   ]
  },
  {
   "cell_type": "markdown",
   "id": "e9391e59",
   "metadata": {
    "deletable": false,
    "editable": false
   },
   "source": [
    "## 2. Earthquakes (25 pts)\n",
    "\n"
   ]
  },
  {
   "cell_type": "markdown",
   "id": "ab9fad9d",
   "metadata": {
    "deletable": false,
    "editable": false
   },
   "source": [
    "<font color=#B1008E>\n",
    "    \n",
    "##### Learning objectives\n",
    "- Evaluate the quality of different sampling strategies.\n",
    "- Use simulation and samples to estimate a population statistic.\n",
    "</font>"
   ]
  },
  {
   "cell_type": "markdown",
   "id": "f3ff598f",
   "metadata": {
    "deletable": false,
    "editable": false
   },
   "source": [
    "The next cell loads a table containing information about **every earthquake with a magnitude above 5** in 2021.\n",
    "\n",
    "Find out more about this data [here](https://earthquake.usgs.gov/earthquakes/search/)."
   ]
  },
  {
   "cell_type": "code",
   "execution_count": null,
   "id": "abb90450",
   "metadata": {
    "deletable": false,
    "editable": false,
    "execution": {
     "iopub.execute_input": "2025-10-27T13:11:11.037414Z",
     "iopub.status.busy": "2025-10-27T13:11:11.037316Z",
     "iopub.status.idle": "2025-10-27T13:11:11.054262Z",
     "shell.execute_reply": "2025-10-27T13:11:11.054025Z"
    }
   },
   "outputs": [],
   "source": [
    "earthquakes = Table().read_table('earthquakes_2021.csv').select(make_array('time', 'mag', 'place'))\n",
    "earthquakes"
   ]
  },
  {
   "cell_type": "markdown",
   "id": "a7b34b34",
   "metadata": {
    "deletable": false,
    "editable": false
   },
   "source": [
    "If we were studying all human-detectable 2021 earthquakes and had access to the above data, we’d be in good shape - however, if the USGS didn’t publish the full data, we could still learn something about earthquakes from just a smaller sample. If we gathered our sample correctly, we could use that sample to get an idea about the distribution of magnitudes (above 5, of course) throughout the year!=.\n",
    "\n",
    "In the following lines of code, we take two different samples from the earthquake table, and calculate the mean of the magnitudes of these earthquakes."
   ]
  },
  {
   "cell_type": "code",
   "execution_count": null,
   "id": "f9179866",
   "metadata": {
    "deletable": false,
    "editable": false,
    "execution": {
     "iopub.execute_input": "2025-10-27T13:11:11.055578Z",
     "iopub.status.busy": "2025-10-27T13:11:11.055504Z",
     "iopub.status.idle": "2025-10-27T13:11:11.057808Z",
     "shell.execute_reply": "2025-10-27T13:11:11.057593Z"
    }
   },
   "outputs": [],
   "source": [
    "sample1 = earthquakes.sort('mag', descending = True).take(np.arange(100))\n",
    "sample1_magnitude_mean = np.mean(sample1.column('mag'))\n",
    "sample2 = earthquakes.take(np.arange(100))\n",
    "sample2_magnitude_mean = np.mean(sample2.column('mag'))\n",
    "print('sample1 magnitude mean=', sample1_magnitude_mean)\n",
    "print('sample2 magnitude mean=', sample2_magnitude_mean)"
   ]
  },
  {
   "cell_type": "markdown",
   "id": "5a5aa644",
   "metadata": {
    "deletable": false,
    "editable": false
   },
   "source": [
    "<!-- BEGIN QUESTION -->\n",
    "\n",
    "#### Part 2.1 (5 pts)\n"
   ]
  },
  {
   "cell_type": "markdown",
   "id": "589c84b6",
   "metadata": {
    "deletable": false,
    "editable": false
   },
   "source": [
    "Are these samples representative of the population of earthquakes in the original table (that is, the should we expect the mean to be close to the population mean)? \n",
    "\n",
    "*Hint:* Consider the ordering of the `earthquakes` table and investigate the code that we're using to create Sample 1 and Sample 2.  "
   ]
  },
  {
   "cell_type": "markdown",
   "id": "3448de66",
   "metadata": {
    "deletable": false,
    "editable": false
   },
   "source": [
    "<hr style=\"margin:0; border: 1px solid #FFBE0A;\"/><font color='#FFBE0A'>Written Answer:</font>"
   ]
  },
  {
   "cell_type": "markdown",
   "id": "93be0355",
   "metadata": {
    "deletable": false
   },
   "source": [
    "_Type your answer here, replacing this text._\n"
   ]
  },
  {
   "cell_type": "markdown",
   "id": "276e7c72",
   "metadata": {
    "deletable": false,
    "editable": false
   },
   "source": [
    "<hr style=\"margin:0; border: 1px solid #FFBE0A;\"/>"
   ]
  },
  {
   "cell_type": "markdown",
   "id": "22415f77",
   "metadata": {
    "deletable": false,
    "editable": false
   },
   "source": [
    "<!-- END QUESTION -->\n",
    "\n",
    "#### Part 2.2 (5 pts)\n"
   ]
  },
  {
   "cell_type": "markdown",
   "id": "37acc570",
   "metadata": {
    "deletable": false,
    "editable": false
   },
   "source": [
    "Complete the function `sample_earthquake_mags` below to produce a sample of earthquake magnitudes that is representative of the population (this should be an array of just the magnitudes).  \n",
    "\n",
    "The sample size is dicated by the `sample_size` parameter.  Use your function to create a sample of size 200, and then take the mean of the magnitudes of the earthquakes in this sample. Assign these to `representative_sample` and `representative_mean` respectively. "
   ]
  },
  {
   "cell_type": "code",
   "execution_count": null,
   "id": "a4512262",
   "metadata": {
    "deletable": false,
    "execution": {
     "iopub.execute_input": "2025-10-27T13:11:11.059881Z",
     "iopub.status.busy": "2025-10-27T13:11:11.059798Z",
     "iopub.status.idle": "2025-10-27T13:11:11.062168Z",
     "shell.execute_reply": "2025-10-27T13:11:11.061969Z"
    },
    "tags": []
   },
   "outputs": [],
   "source": [
    "def sample_earthquake_mags(sample_size):\n",
    "    ...\n",
    "\n",
    "representative_sample = ...\n",
    "representative_mean = ...\n",
    "representative_mean"
   ]
  },
  {
   "cell_type": "code",
   "execution_count": null,
   "id": "ddfe0fde",
   "metadata": {
    "deletable": false,
    "editable": false
   },
   "outputs": [],
   "source": [
    "grader.check(\"p2.2\")"
   ]
  },
  {
   "cell_type": "markdown",
   "id": "2b59d437",
   "metadata": {
    "deletable": false,
    "editable": false
   },
   "source": [
    "#### Part 2.3 (5 pts)\n"
   ]
  },
  {
   "cell_type": "markdown",
   "id": "b7a1e006",
   "metadata": {
    "deletable": false,
    "editable": false
   },
   "source": [
    " Suppose we want to figure out what the greatest magnitude earthquake was in 2021, but we only have our representative sample of 200. Let’s see if trying to find the greatest magnitude in the population from a random sample of 200 is a good way to estimate the greatest magnitude.\n",
    "\n",
    "Create 5,000 random samples of 200 earthquake magnitudes from the `earthquakes` table and compute the maximum of each sample. This requires only one line if you utilize the `simulate_sample_statistic` function."
   ]
  },
  {
   "cell_type": "code",
   "execution_count": null,
   "id": "de6e5c95",
   "metadata": {
    "deletable": false,
    "execution": {
     "iopub.execute_input": "2025-10-27T13:11:11.074478Z",
     "iopub.status.busy": "2025-10-27T13:11:11.074386Z",
     "iopub.status.idle": "2025-10-27T13:11:12.120022Z",
     "shell.execute_reply": "2025-10-27T13:11:12.119609Z"
    },
    "tags": []
   },
   "outputs": [],
   "source": [
    "maximums = ..."
   ]
  },
  {
   "cell_type": "code",
   "execution_count": null,
   "id": "ab24c5c0",
   "metadata": {
    "deletable": false,
    "editable": false
   },
   "outputs": [],
   "source": [
    "grader.check(\"p2.3\")"
   ]
  },
  {
   "cell_type": "code",
   "execution_count": null,
   "id": "5097ff9f",
   "metadata": {
    "deletable": false,
    "editable": false,
    "execution": {
     "iopub.execute_input": "2025-10-27T13:11:12.127848Z",
     "iopub.status.busy": "2025-10-27T13:11:12.127773Z",
     "iopub.status.idle": "2025-10-27T13:11:12.205954Z",
     "shell.execute_reply": "2025-10-27T13:11:12.205702Z"
    },
    "tags": []
   },
   "outputs": [],
   "source": [
    "# Don't change this line \n",
    "# Plots the histogram of your maximums\n",
    "Table().with_column('Largest magnitude in sample', maximums).hist('Largest magnitude in sample', bins=np.arange(5.5,9,0.25)) "
   ]
  },
  {
   "cell_type": "markdown",
   "id": "91c87036",
   "metadata": {
    "deletable": false,
    "editable": false
   },
   "source": [
    "#### Part 2.4 (5 pts)\n"
   ]
  },
  {
   "cell_type": "markdown",
   "id": "cd5af649",
   "metadata": {
    "deletable": false,
    "editable": false
   },
   "source": [
    " Now find the magnitude of the actual strongest earthquake in 2021 (not the maximum of a sample). This will help us determine whether a random sample of size 200 is likely to help you determine the largest magnitude earthquake in the population."
   ]
  },
  {
   "cell_type": "code",
   "execution_count": null,
   "id": "a698f728",
   "metadata": {
    "deletable": false,
    "execution": {
     "iopub.execute_input": "2025-10-27T13:11:12.207409Z",
     "iopub.status.busy": "2025-10-27T13:11:12.207335Z",
     "iopub.status.idle": "2025-10-27T13:11:12.209446Z",
     "shell.execute_reply": "2025-10-27T13:11:12.209228Z"
    },
    "tags": []
   },
   "outputs": [],
   "source": [
    "strongest_earthquake_magnitude = ...\n",
    "strongest_earthquake_magnitude"
   ]
  },
  {
   "cell_type": "code",
   "execution_count": null,
   "id": "2d66c1ae",
   "metadata": {
    "deletable": false,
    "editable": false
   },
   "outputs": [],
   "source": [
    "grader.check(\"p2.4\")"
   ]
  },
  {
   "cell_type": "markdown",
   "id": "927f479d",
   "metadata": {
    "deletable": false,
    "editable": false
   },
   "source": [
    "<!-- BEGIN QUESTION -->\n",
    "\n",
    "#### Part 2.5 (5 pts)\n"
   ]
  },
  {
   "cell_type": "markdown",
   "id": "0d019960",
   "metadata": {
    "deletable": false,
    "editable": false
   },
   "source": [
    "Explain whether you believe you can accurately use a sample size of 200 to determine the maximum. What is one problem with using the maximum as your estimator? Use the histogram  to help answer.  We've repeated it below, along with a red point for the strongest earthquake in the whole data set."
   ]
  },
  {
   "cell_type": "code",
   "execution_count": null,
   "id": "53f57aa5",
   "metadata": {
    "deletable": false,
    "editable": false,
    "execution": {
     "iopub.execute_input": "2025-10-27T13:11:12.216541Z",
     "iopub.status.busy": "2025-10-27T13:11:12.216470Z",
     "iopub.status.idle": "2025-10-27T13:11:12.305600Z",
     "shell.execute_reply": "2025-10-27T13:11:12.305074Z"
    },
    "tags": []
   },
   "outputs": [],
   "source": [
    "largest_in_sample = Table().with_column('Largest magnitude in sample', maximums)\n",
    "plot = largest_in_sample.hist('Largest magnitude in sample', bins=np.arange(5.5,9,0.25)) \n",
    "plot.dot(strongest_earthquake_magnitude)"
   ]
  },
  {
   "cell_type": "markdown",
   "id": "de7ea7a4",
   "metadata": {
    "deletable": false,
    "editable": false
   },
   "source": [
    "<hr style=\"margin:0; border: 1px solid #FFBE0A;\"/><font color='#FFBE0A'>Written Answer:</font>"
   ]
  },
  {
   "cell_type": "markdown",
   "id": "aa929376",
   "metadata": {
    "deletable": false
   },
   "source": [
    "_Type your answer here, replacing this text._\n"
   ]
  },
  {
   "cell_type": "markdown",
   "id": "3a6d0246",
   "metadata": {
    "deletable": false,
    "editable": false
   },
   "source": [
    "<hr style=\"margin:0; border: 1px solid #FFBE0A;\"/>"
   ]
  },
  {
   "cell_type": "markdown",
   "id": "c184beb1",
   "metadata": {
    "deletable": false,
    "editable": false
   },
   "source": [
    "<!-- END QUESTION -->\n",
    "\n",
    "<hr style=\"margin-bottom: 0px; padding:0; border: 2px solid #500082;\"/>\n"
   ]
  },
  {
   "cell_type": "markdown",
   "id": "68f76f2a",
   "metadata": {
    "deletable": false,
    "editable": false,
    "tags": []
   },
   "source": [
    "## 3. Uploading and Cleaning Data (15 pts)\n",
    "\n"
   ]
  },
  {
   "cell_type": "markdown",
   "id": "764bea51",
   "metadata": {
    "deletable": false,
    "editable": false
   },
   "source": [
    "<font color=#B1008E>\n",
    "    \n",
    "##### Learning objectives\n",
    "- Learn how to load a .csv file from your local machine into Jupyter \n",
    "- Learn how to import a new library and use its data cleaning operations\n",
    "</font>"
   ]
  },
  {
   "cell_type": "markdown",
   "id": "f7645459",
   "metadata": {
    "deletable": false,
    "editable": false
   },
   "source": [
    "So far in this course, we have given you \"clean\" data---data that is already in a format that you can use immediately. We've also loaded into these notebooks for you.  However, when you apply what you've learned in this class to real datasets for projects of your own or in the real world, you will need to load data and be able to do basic checks and fixes to your datasets. While you can do this manually in Excel or another editor, it is far less error prone (and more repeatable!) to do this to your data in your Python code."
   ]
  },
  {
   "cell_type": "markdown",
   "id": "845d89ec",
   "metadata": {
    "deletable": false,
    "editable": false
   },
   "source": [
    "#### Part 3.1 (5 pts)\n"
   ]
  },
  {
   "cell_type": "markdown",
   "id": "634414d9",
   "metadata": {
    "deletable": false,
    "editable": false
   },
   "source": [
    "1. Open the finch_beaks_1975_dirty.csv data file and inspect its contents.  You will find a CSV file containing a slightly modified version of our finch data from 1975."
   ]
  },
  {
   "cell_type": "code",
   "execution_count": null,
   "id": "e6ef1ac6",
   "metadata": {
    "deletable": false,
    "editable": false
   },
   "outputs": [],
   "source": [
    "grader.check(\"p3.1\")"
   ]
  },
  {
   "cell_type": "markdown",
   "id": "976d6d66",
   "metadata": {
    "deletable": false,
    "editable": false
   },
   "source": [
    "#### Part 3.2 (5 pts)\n"
   ]
  },
  {
   "cell_type": "markdown",
   "id": "c0b8d960",
   "metadata": {
    "deletable": false,
    "editable": false
   },
   "source": [
    "Load the `finch_beaks_1975_dirty.csv` file into a `Table` using `read_table()` as usual.  You may notice some bad values in the table.  More on this below!"
   ]
  },
  {
   "cell_type": "code",
   "execution_count": null,
   "id": "ef31cf63",
   "metadata": {
    "deletable": false,
    "execution": {
     "iopub.execute_input": "2025-10-27T13:11:12.383365Z",
     "iopub.status.busy": "2025-10-27T13:11:12.382826Z",
     "iopub.status.idle": "2025-10-27T13:11:12.427715Z",
     "shell.execute_reply": "2025-10-27T13:11:12.426898Z"
    },
    "tags": []
   },
   "outputs": [],
   "source": [
    "finches = ...\n",
    "finches.show(10)"
   ]
  },
  {
   "cell_type": "code",
   "execution_count": null,
   "id": "24aa38e2",
   "metadata": {
    "deletable": false,
    "editable": false
   },
   "outputs": [],
   "source": [
    "grader.check(\"p3.2\")"
   ]
  },
  {
   "cell_type": "markdown",
   "id": "8b380343",
   "metadata": {
    "deletable": false,
    "editable": false
   },
   "source": [
    "#### Data cleaning"
   ]
  },
  {
   "cell_type": "markdown",
   "id": "c505b45d",
   "metadata": {
    "deletable": false,
    "editable": false
   },
   "source": [
    "If you inspect the first 10 rows of our `finches` table above, you'll notice some of the values are invalid: they may be `nan` to represent missing data or entries with types other than the expect type, such as 12.5 in the `band` column, which should contain only `int`s.\n",
    "\n",
    "To tidy up and clean this table, we will remove any rows with invalid data and ensure all remaining values are of the correct type.  \n",
    "\n",
    "(There are other strategies for dealing with missing data (e.g. [imputation](https://en.wikipedia.org/wiki/Imputation_(statistics))) but we'll stick to this simple strategy of filtering out missing/bad data here.)"
   ]
  },
  {
   "cell_type": "markdown",
   "id": "b91c3ee8",
   "metadata": {
    "deletable": false,
    "editable": false
   },
   "source": [
    "Let's look at the data in the `'Beak length, mm'` column to illustrate some of the steps we often must take to clean up a data set before we can use it.  That column should contain `float` numbers."
   ]
  },
  {
   "cell_type": "code",
   "execution_count": null,
   "id": "8b75764d",
   "metadata": {
    "deletable": false,
    "editable": false,
    "execution": {
     "iopub.execute_input": "2025-10-27T13:11:12.441282Z",
     "iopub.status.busy": "2025-10-27T13:11:12.441153Z",
     "iopub.status.idle": "2025-10-27T13:11:12.443926Z",
     "shell.execute_reply": "2025-10-27T13:11:12.443376Z"
    },
    "tags": []
   },
   "outputs": [],
   "source": [
    "beak_lengths = finches.column('Beak length, mm')\n",
    "beak_lengths"
   ]
  },
  {
   "cell_type": "markdown",
   "id": "b3137285",
   "metadata": {
    "deletable": false,
    "editable": false
   },
   "source": [
    "There are three problems with the data in this column:\n",
    "1. **`'nan'` values.**  When `Table()` loads in a .csv file, it records missing data as `'nan'` which has type `str`.  We should remove rows with `'nan'`.  \n",
    "2. **Non-numeric values.**  There are other values that do not represent numbers, such as the string `'missing'`.  Again, we'd like to remove rows containing anything that isn't a valid nubmer.\n",
    "3. **Wrong Types.**  Since such bad values for beak lengths were encountered while loading the CSV, all the entries in the column have been left as *strings*, with quotes around them, eg: `'9.4'`.  We won't be able to perform arithmetic on any beak length without first converting them to `float`.\n",
    "\n",
    "The first two problems could be addressed using `where`, as we have done in the past, but ensuring that we have the type of value we are expecting can be a bit tricky.  To that end, you will find two additional Table methods handy:\n",
    "\n",
    "* `table.take_clean(column, type)`: Takes a column label, and the type of data expected in that column (`int`, `float`, or `str`).  Returns a new table where any rows with missing or bad values in that column have been removed.\n",
    "* `table.take_messy(column, type)`: Takes a column label, and the type of data expected in that column (`int`, `float`, or `str`).  Returns a new table with rows from `table` with missing or bad values in that column.\n"
   ]
  },
  {
   "cell_type": "markdown",
   "id": "ad018e36",
   "metadata": {
    "deletable": false,
    "editable": false
   },
   "source": [
    "We revisit our beak lengths, this time cleaning that column to remove bad data:"
   ]
  },
  {
   "cell_type": "code",
   "execution_count": null,
   "id": "0fdf281f",
   "metadata": {
    "deletable": false,
    "editable": false,
    "execution": {
     "iopub.execute_input": "2025-10-27T13:11:12.446348Z",
     "iopub.status.busy": "2025-10-27T13:11:12.446004Z",
     "iopub.status.idle": "2025-10-27T13:11:12.451240Z",
     "shell.execute_reply": "2025-10-27T13:11:12.450735Z"
    },
    "tags": []
   },
   "outputs": [],
   "source": [
    "tidy_beaks = finches.take_clean('Beak length, mm', float)\n",
    "tidy_beaks"
   ]
  },
  {
   "cell_type": "markdown",
   "id": "80d4ba20",
   "metadata": {
    "deletable": false,
    "editable": false
   },
   "source": [
    "You can see from the output above that our cleaning algorithm found 5 bad rows, corresponding to the 'nan' and 'missing' values.  And if you inspect that beak lengths column as an array, you will find that it contains `float` values as we want:"
   ]
  },
  {
   "cell_type": "code",
   "execution_count": null,
   "id": "24497169",
   "metadata": {
    "deletable": false,
    "editable": false,
    "execution": {
     "iopub.execute_input": "2025-10-27T13:11:12.454103Z",
     "iopub.status.busy": "2025-10-27T13:11:12.453946Z",
     "iopub.status.idle": "2025-10-27T13:11:12.457437Z",
     "shell.execute_reply": "2025-10-27T13:11:12.456831Z"
    },
    "tags": []
   },
   "outputs": [],
   "source": [
    "tidy_beaks.column('Beak length, mm')"
   ]
  },
  {
   "cell_type": "markdown",
   "id": "f87e8fd0",
   "metadata": {
    "deletable": false,
    "editable": false
   },
   "source": [
    "We can also use our library to see what rows were removed because they had beak lengths that could not be converted to valid values of type `float`:"
   ]
  },
  {
   "cell_type": "code",
   "execution_count": null,
   "id": "5b647a93",
   "metadata": {
    "deletable": false,
    "editable": false,
    "execution": {
     "iopub.execute_input": "2025-10-27T13:11:12.459867Z",
     "iopub.status.busy": "2025-10-27T13:11:12.459765Z",
     "iopub.status.idle": "2025-10-27T13:11:12.463578Z",
     "shell.execute_reply": "2025-10-27T13:11:12.463223Z"
    },
    "tags": []
   },
   "outputs": [],
   "source": [
    "finches.take_messy('Beak length, mm', float)"
   ]
  },
  {
   "cell_type": "markdown",
   "id": "231e0062",
   "metadata": {
    "deletable": false,
    "editable": false
   },
   "source": [
    "Looking at the bad rows can give you confidence that you are indeed rejecting only bad entries, and that you are not throwing away too much of your data."
   ]
  },
  {
   "cell_type": "markdown",
   "id": "670f89eb",
   "metadata": {
    "deletable": false,
    "editable": false
   },
   "source": [
    "Another task you must also do while cleaning data is fixind any small inconsistencies in the names used for a categorical variable.  You may have noticed, for example, \n",
    "that bird with band 307 was listed as having the species \"for\" rather than \"fortis\".  "
   ]
  },
  {
   "cell_type": "code",
   "execution_count": null,
   "id": "af5a997a",
   "metadata": {
    "deletable": false,
    "editable": false,
    "execution": {
     "iopub.execute_input": "2025-10-27T13:11:12.466869Z",
     "iopub.status.busy": "2025-10-27T13:11:12.466387Z",
     "iopub.status.idle": "2025-10-27T13:11:12.470242Z",
     "shell.execute_reply": "2025-10-27T13:11:12.469927Z"
    },
    "tags": []
   },
   "outputs": [],
   "source": [
    "tidy_beaks.where(\"band\", are.equal_to(\"307\"))"
   ]
  },
  {
   "cell_type": "markdown",
   "id": "39f10d4d",
   "metadata": {
    "deletable": false,
    "editable": false
   },
   "source": [
    "If we know that those are indeed the same species, we can make them consistent with another `Table` method, [replace](https://cs104williams.github.io/assets/python-library-ref.html#replace).  Here's an example of how we use it.  Notice how the resulting table has the full \"fortis\" species name for bird 307 now."
   ]
  },
  {
   "cell_type": "code",
   "execution_count": null,
   "id": "7be0772c",
   "metadata": {
    "deletable": false,
    "editable": false,
    "execution": {
     "iopub.execute_input": "2025-10-27T13:11:12.472122Z",
     "iopub.status.busy": "2025-10-27T13:11:12.472025Z",
     "iopub.status.idle": "2025-10-27T13:11:12.474960Z",
     "shell.execute_reply": "2025-10-27T13:11:12.474666Z"
    },
    "tags": []
   },
   "outputs": [],
   "source": [
    "tidy_beaks.replace('species', 'for', 'fortis')"
   ]
  },
  {
   "cell_type": "markdown",
   "id": "6f02b993",
   "metadata": {
    "deletable": false,
    "editable": false
   },
   "source": [
    "#### Part 3.3 (5 pts)\n"
   ]
  },
  {
   "cell_type": "markdown",
   "id": "1debc5b5",
   "metadata": {
    "deletable": false,
    "editable": false
   },
   "source": [
    "Use our library functions to clean up our finch data by cleaning each column in turn.  You should use our library routines to ensure that the `tidy_finches` table contains rows for which: \n",
    "- The `band` column is always an `int`\n",
    "- The `species` is always a string\n",
    "- And the beak length and depth columns are always `float`\n",
    "\n",
    "Also, replace any species value \"for\" with \"fortis\".  You will likely want to add several additional lines of code."
   ]
  },
  {
   "cell_type": "code",
   "execution_count": null,
   "id": "f6406bc9",
   "metadata": {
    "deletable": false,
    "execution": {
     "iopub.execute_input": "2025-10-27T13:11:12.476634Z",
     "iopub.status.busy": "2025-10-27T13:11:12.476525Z",
     "iopub.status.idle": "2025-10-27T13:11:12.481510Z",
     "shell.execute_reply": "2025-10-27T13:11:12.481251Z"
    },
    "tags": []
   },
   "outputs": [],
   "source": [
    "tidy_finches = finches.take_clean('Beak length, mm', float, ...)\n",
    "...\n",
    "...\n",
    "\n",
    "# Do not modify. This is helpful to see how many rows were removed \n",
    "rows_removed = finches.num_rows - tidy_finches.num_rows\n",
    "print('\\nRemoved a total of', rows_removed, 'rows.\\n')\n",
    "tidy_finches.show(10)"
   ]
  },
  {
   "cell_type": "code",
   "execution_count": null,
   "id": "a8ea2528",
   "metadata": {
    "deletable": false,
    "editable": false
   },
   "outputs": [],
   "source": [
    "grader.check(\"p3.3\")"
   ]
  },
  {
   "cell_type": "markdown",
   "id": "965d1c4f",
   "metadata": {
    "deletable": false,
    "editable": false
   },
   "source": [
    "<hr style=\"margin-bottom: 0px; padding:0; border: 2px solid #500082;\"/>\n"
   ]
  },
  {
   "cell_type": "markdown",
   "id": "6d354c06",
   "metadata": {
    "deletable": false,
    "editable": false
   },
   "source": [
    "## 4. Find New Data to Explore (25 pts)\n",
    "\n"
   ]
  },
  {
   "cell_type": "markdown",
   "id": "bbba3334",
   "metadata": {
    "deletable": false,
    "editable": false
   },
   "source": [
    "<font color=#B1008E>\n",
    "    \n",
    "##### Learning objectives\n",
    "- Practice looking for a find new sources of data \n",
    "- Apply all steps of our \"data science pipeline\" -- finding, uploading, cleaning, manipulating, and visualizing -- to a dataset of your choice.\n",
    "</font>"
   ]
  },
  {
   "cell_type": "markdown",
   "id": "07797b40",
   "metadata": {
    "deletable": false,
    "editable": false,
    "tags": []
   },
   "source": [
    "For this question, we'd like you to find a data of your own from any public source that you'd like to explore.  The web is full of many excellent troves of data -- look around, but if you have trouble finding something appropriate you can try one of the sites below.  For best results, we suggest you find a csv file suitable for uploading and using without a lot of work.  (Google sheets and Excel documents can be exported to csv if you have something in one of those formats.)\n",
    "\n",
    "For that your data set, please write code to load it into a Table.  Then, write a few lines of code to examine some aspect of the data, generate a histogram of one variable or other plots to visualize relationship between two variables, and make one concrete statement about what the data shows.\n",
    "\n",
    "This question is intentionally open ended, and you may take it in any direction you like.  We divide your work into the following four steps to make it more managable:\n",
    "\n",
    "1. Upload your csv data file and read it into a table.\n",
    "2. Clean each column of your table using the table operations like `take_clean` and `replace` that we practiced in the previous question.  Even if your table is in perfect shape, please still practice this step, as you never know whether the next version of the data will still be clean.\n",
    "3. Explore the data by writing some code to transform your table (if necessary) and create a visualization (either a histogram for other plot).\n",
    "4. Tell us what you can conclude from your work, and how the data and visualization supports your conclusions.\n",
    "\n",
    "If you are having trouble getting started, here are a few csv's and places to look for data:\n",
    "* [Google's Dataset Search](https://datasetsearch.research.google.com/)\n",
    "* [Five-Thirty Eight](https://data.fivethirtyeight.com/)\n",
    "* [Data Is Plural](https://docs.google.com/spreadsheets/d/1wZhPLMCHKJvwOkP4juclhjFgqIY8fQFMemwKL2c64vk/edit#gid=0)\n",
    "* [Our World in Data](https://ourworldindata.org/)\n",
    "\n",
    "\n",
    "*Note:* We give you one code cell for your Python code below.  You may add as many additional cells as you like.  Just click the `+` sign in this tab's toolbar to insert a new cell.  Then select \"Markdown\" from the toolbar's popup menu if you want the new cell to be for text, or \"Code\" if you want it to be for Python code.  Markdown cells can include basic formatting.  Click on any of our formatted text cells to see how to create lists, bold text, etc., or have a look [here](https://www.markdownguide.org/basic-syntax)."
   ]
  },
  {
   "cell_type": "markdown",
   "id": "1b7070c1",
   "metadata": {
    "deletable": false,
    "editable": false,
    "tags": []
   },
   "source": [
    "<!-- BEGIN QUESTION -->\n",
    "\n",
    "#### Part 4.1 (5 pts)\n"
   ]
  },
  {
   "cell_type": "markdown",
   "id": "9855bb31",
   "metadata": {
    "deletable": false,
    "editable": false,
    "tags": []
   },
   "source": [
    "Tell us the source of your data, eg: a specific URL or any\n",
    "other information that would help us find it on our own."
   ]
  },
  {
   "cell_type": "markdown",
   "id": "c7da428a",
   "metadata": {
    "deletable": false,
    "editable": false
   },
   "source": [
    "<hr style=\"margin:0; border: 1px solid #FFBE0A;\"/><font color='#FFBE0A'>Written Answer:</font>"
   ]
  },
  {
   "cell_type": "markdown",
   "id": "d72473de",
   "metadata": {
    "deletable": false
   },
   "source": [
    "_Type your answer here, replacing this text._\n"
   ]
  },
  {
   "cell_type": "markdown",
   "id": "ba8d2407",
   "metadata": {
    "deletable": false,
    "editable": false
   },
   "source": [
    "<hr style=\"margin:0; border: 1px solid #FFBE0A;\"/>"
   ]
  },
  {
   "cell_type": "markdown",
   "id": "400cfc2e",
   "metadata": {
    "deletable": false,
    "editable": false,
    "tags": []
   },
   "source": [
    "<!-- END QUESTION -->\n",
    "\n",
    "<!-- BEGIN QUESTION -->\n",
    "\n",
    "#### Part 4.2 (15 pts)\n"
   ]
  },
  {
   "cell_type": "markdown",
   "id": "3c1825a7",
   "metadata": {
    "deletable": false,
    "editable": false,
    "tags": []
   },
   "source": [
    "In the cell below, write the code to to tackle steps 1-3 described above. "
   ]
  },
  {
   "cell_type": "code",
   "execution_count": null,
   "id": "09118d74",
   "metadata": {
    "deletable": false,
    "execution": {
     "iopub.execute_input": "2025-10-27T13:11:12.503563Z",
     "iopub.status.busy": "2025-10-27T13:11:12.503434Z",
     "iopub.status.idle": "2025-10-27T13:11:12.505440Z",
     "shell.execute_reply": "2025-10-27T13:11:12.505241Z"
    },
    "tags": []
   },
   "outputs": [],
   "source": [
    "# 1. Read data into table and show the first few lines.\n",
    "\n",
    "...\n",
    "\n",
    "# 2. Clean the data and show the first few lines again\n",
    "\n",
    "...\n",
    "\n",
    "# 3. Explore the data and present at least one visualization.\n",
    "\n",
    "..."
   ]
  },
  {
   "cell_type": "markdown",
   "id": "89e01c1a",
   "metadata": {
    "deletable": false,
    "editable": false,
    "tags": []
   },
   "source": [
    "<!-- END QUESTION -->\n",
    "\n",
    "<!-- BEGIN QUESTION -->\n",
    "\n",
    "#### Part 4.3 (5 pts)\n"
   ]
  },
  {
   "cell_type": "markdown",
   "id": "488f5c48",
   "metadata": {
    "deletable": false,
    "editable": false,
    "tags": []
   },
   "source": [
    "In this cell below, state a quantitative property you discovered for the data set you examined in the first part.  Write a couple sentences stating your conclusion and how your work in the first part supports that conclusion."
   ]
  },
  {
   "cell_type": "markdown",
   "id": "043c173d",
   "metadata": {
    "deletable": false,
    "editable": false
   },
   "source": [
    "<hr style=\"margin:0; border: 1px solid #FFBE0A;\"/><font color='#FFBE0A'>Written Answer:</font>"
   ]
  },
  {
   "cell_type": "markdown",
   "id": "0727f03d",
   "metadata": {
    "deletable": false
   },
   "source": [
    "_Type your answer here, replacing this text._\n"
   ]
  },
  {
   "cell_type": "markdown",
   "id": "3901a899",
   "metadata": {
    "deletable": false,
    "editable": false
   },
   "source": [
    "<hr style=\"margin:0; border: 1px solid #FFBE0A;\"/>"
   ]
  },
  {
   "cell_type": "markdown",
   "id": "4039f7ca",
   "metadata": {
    "deletable": false,
    "editable": false
   },
   "source": [
    "<!-- END QUESTION -->\n",
    "\n",
    "<hr class=\"m-0\" style=\"border: 3px solid #500082;\"/>\n",
    "\n",
    "# You're Done!\n",
    "Follow these steps to submit your work:\n",
    "* Run the tests and verify that they pass as you expect. \n",
    "* Choose **Save Notebook** from the **File** menu.\n",
    "* **Run the final cell** and click the link below to download the zip file. \n",
    "\n",
    "Once you have downloaded that file, go to [Gradescope](https://www.gradescope.com/) and submit the zip file to \n",
    "the corresponding assignment. For Lab N, the assignment will be called \"Lab N Autograder\".\n",
    "\n",
    "Once you have submitted, your Gradescope assignment should show you passing all the tests you passed in your assignment notebook.\n"
   ]
  },
  {
   "cell_type": "markdown",
   "id": "fd8b3599",
   "metadata": {
    "deletable": false,
    "editable": false
   },
   "source": [
    "## Submission\n",
    "\n",
    "Make sure you have run all cells in your notebook in order before running the cell below, so that all images/graphs appear in the output. The cell below will generate a zip file for you to submit. **Please save before exporting!**"
   ]
  },
  {
   "cell_type": "code",
   "execution_count": null,
   "id": "9e66102d",
   "metadata": {
    "deletable": false,
    "editable": false
   },
   "outputs": [],
   "source": [
    "# Save your notebook first, then run this cell to export your submission.\n",
    "grader.export(run_tests=True)"
   ]
  },
  {
   "cell_type": "markdown",
   "id": "21538fc8",
   "metadata": {},
   "source": [
    " "
   ]
  }
 ],
 "metadata": {
  "kernelspec": {
   "display_name": "Python 3 (ipykernel)",
   "language": "python",
   "name": "python3"
  },
  "language_info": {
   "codemirror_mode": {
    "name": "ipython",
    "version": 3
   },
   "file_extension": ".py",
   "mimetype": "text/x-python",
   "name": "python",
   "nbconvert_exporter": "python",
   "pygments_lexer": "ipython3",
   "version": "3.9.23"
  },
  "otter": {
   "OK_FORMAT": true,
   "tests": {
    "p1.1": {
     "has_hidden": false,
     "name": "p1.1",
     "points": 5,
     "suites": [
      {
       "cases": [
        {
         "code": ">>> check_str('dollar_bet_on_red(\"red\") == 1', locals())\n",
         "failure_message": "check(dollar_bet_on_red(\"red\") == 1)",
         "hidden": false,
         "locked": false,
         "submit_only": false,
         "success_message": "check(dollar_bet_on_red(\"red\") == 1)"
        },
        {
         "code": ">>> check_str('dollar_bet_on_red(\"black\") == -1', locals())\n",
         "failure_message": "check(dollar_bet_on_red(\"black\") == -1)",
         "hidden": false,
         "locked": false,
         "submit_only": false,
         "success_message": "check(dollar_bet_on_red(\"black\") == -1)"
        },
        {
         "code": ">>> check_str('dollar_bet_on_red(\"green\") == -1', locals())\n",
         "failure_message": "check(dollar_bet_on_red(\"green\") == -1)",
         "hidden": false,
         "locked": false,
         "submit_only": false,
         "success_message": "check(dollar_bet_on_red(\"green\") == -1)"
        }
       ],
       "scored": true,
       "setup": "",
       "teardown": "",
       "type": "doctest"
      }
     ]
    },
    "p1.10": {
     "has_hidden": true,
     "name": "p1.10",
     "points": 0,
     "suites": [
      {
       "cases": [
        {
         "code": ">>> check_str('type(statement_1) == bool', locals())\n",
         "failure_message": "check(type(statement_1) == bool)",
         "hidden": false,
         "locked": false,
         "submit_only": false,
         "success_message": "check(type(statement_1) == bool)"
        }
       ],
       "scored": true,
       "setup": "",
       "teardown": "",
       "type": "doctest"
      }
     ]
    },
    "p1.11": {
     "has_hidden": false,
     "name": "p1.11",
     "points": 5,
     "suites": [
      {
       "cases": [
        {
         "code": ">>> check_str('0 <= prob_green_wins <= 1', locals())\n",
         "failure_message": "check(0 <= prob_green_wins <= 1)",
         "hidden": false,
         "locked": false,
         "submit_only": false,
         "success_message": "check(0 <= prob_green_wins <= 1)"
        },
        {
         "code": ">>> check_str('0.39 <= prob_green_wins <= 0.44', locals())\n",
         "failure_message": "check(0.39 <= prob_green_wins <= 0.44)",
         "hidden": false,
         "locked": false,
         "submit_only": false,
         "success_message": "check(0.39 <= prob_green_wins <= 0.44)"
        }
       ],
       "scored": true,
       "setup": "",
       "teardown": "",
       "type": "doctest"
      }
     ]
    },
    "p1.2": {
     "has_hidden": false,
     "name": "p1.2",
     "points": 5,
     "suites": [
      {
       "cases": [
        {
         "code": ">>> check_str('\"Winnings for Red\" in wheel_w_red.labels', locals())\n",
         "failure_message": "check(\"Winnings for Red\" in wheel_w_red.labels)",
         "hidden": false,
         "locked": false,
         "submit_only": false,
         "success_message": "check(\"Winnings for Red\" in wheel_w_red.labels)"
        },
        {
         "code": ">>> check_str('wheel_w_red.row(0).item(\"Winnings for Red\") == -1', locals())\n",
         "failure_message": "check(wheel_w_red.row(0).item(\"Winnings for Red\") == -1)",
         "hidden": false,
         "locked": false,
         "submit_only": false,
         "success_message": "check(wheel_w_red.row(0).item(\"Winnings for Red\") == -1)"
        },
        {
         "code": ">>> check_str('wheel_w_red.row(2).item(\"Winnings for Red\") == 1', locals())\n",
         "failure_message": "check(wheel_w_red.row(2).item(\"Winnings for Red\") == 1)",
         "hidden": false,
         "locked": false,
         "submit_only": false,
         "success_message": "check(wheel_w_red.row(2).item(\"Winnings for Red\") == 1)"
        }
       ],
       "scored": true,
       "setup": "",
       "teardown": "",
       "type": "doctest"
      }
     ]
    },
    "p1.3": {
     "has_hidden": false,
     "name": "p1.3",
     "points": 5,
     "suites": [
      {
       "cases": [
        {
         "code": ">>> check_str('-10 <= sum_bets <= 10', locals())\n",
         "failure_message": "check(-10 <= sum_bets <= 10)",
         "hidden": false,
         "locked": false,
         "submit_only": false,
         "success_message": "check(-10 <= sum_bets <= 10)"
        }
       ],
       "scored": true,
       "setup": "",
       "teardown": "",
       "type": "doctest"
      }
     ]
    },
    "p1.4": {
     "has_hidden": false,
     "name": "p1.4",
     "points": 5,
     "suites": [
      {
       "cases": [
        {
         "code": ">>> check_str('-100 <= net_gain_red(100) <= 100', locals())\n",
         "failure_message": "check(-100 <= net_gain_red(100) <= 100)",
         "hidden": false,
         "locked": false,
         "submit_only": false,
         "success_message": "check(-100 <= net_gain_red(100) <= 100)"
        }
       ],
       "scored": true,
       "setup": "",
       "teardown": "",
       "type": "doctest"
      }
     ]
    },
    "p1.5": {
     "has_hidden": false,
     "name": "p1.5",
     "points": 5,
     "suites": [
      {
       "cases": [
        {
         "code": ">>> check_str('len(all_gains_red) == 10000', locals())\n",
         "failure_message": "check(len(all_gains_red) == 10000)",
         "hidden": false,
         "locked": false,
         "submit_only": false,
         "success_message": "check(len(all_gains_red) == 10000)"
        },
        {
         "code": ">>> check_str('-200 <= all_gains_red[0] <= 200', locals())\n",
         "failure_message": "check(-200 <= all_gains_red[0] <= 200)",
         "hidden": false,
         "locked": false,
         "submit_only": false,
         "success_message": "check(-200 <= all_gains_red[0] <= 200)"
        },
        {
         "code": ">>> check_str('-200 <= all_gains_red <= 200', locals())\n",
         "failure_message": "check(-200 <= all_gains_red <= 200)",
         "hidden": false,
         "locked": false,
         "submit_only": false,
         "success_message": "check(-200 <= all_gains_red <= 200)"
        }
       ],
       "scored": true,
       "setup": "",
       "teardown": "",
       "type": "doctest"
      }
     ]
    },
    "p1.7": {
     "has_hidden": true,
     "name": "p1.7",
     "points": 5,
     "suites": [
      {
       "cases": [
        {
         "code": ">>> check_str('dollar_bet_on_split(\\'2\\') == -1', locals())\n",
         "failure_message": "check(dollar_bet_on_split('2') == -1)",
         "hidden": false,
         "locked": false,
         "submit_only": false,
         "success_message": "check(dollar_bet_on_split('2') == -1)"
        },
        {
         "code": ">>> check_str('dollar_bet_on_split(\\'5\\') == 17', locals())\n",
         "failure_message": "check(dollar_bet_on_split('5') == 17)",
         "hidden": false,
         "locked": false,
         "submit_only": false,
         "success_message": "check(dollar_bet_on_split('5') == 17)"
        }
       ],
       "scored": true,
       "setup": "",
       "teardown": "",
       "type": "doctest"
      }
     ]
    },
    "p1.8": {
     "has_hidden": true,
     "name": "p1.8",
     "points": 5,
     "suites": [
      {
       "cases": [
        {
         "code": ">>> check_str('wheel_w_split.row(0).item(\"Winnings for Split\") == -1', locals())\n",
         "failure_message": "check(wheel_w_split.row(0).item(\"Winnings for Split\") == -1)",
         "hidden": false,
         "locked": false,
         "submit_only": false,
         "success_message": "check(wheel_w_split.row(0).item(\"Winnings for Split\") == -1)"
        }
       ],
       "scored": true,
       "setup": "",
       "teardown": "",
       "type": "doctest"
      }
     ]
    },
    "p1.9": {
     "has_hidden": false,
     "name": "p1.9",
     "points": 5,
     "suites": [
      {
       "cases": [
        {
         "code": ">>> check_str('len(all_gains_split) == 10000', locals())\n",
         "failure_message": "check(len(all_gains_split) == 10000)",
         "hidden": false,
         "locked": false,
         "submit_only": false,
         "success_message": "check(len(all_gains_split) == 10000)"
        },
        {
         "code": ">>> check_str('-12 <= np.mean(all_gains_split) <= -9', locals())\n",
         "failure_message": "check(-12 <= np.mean(all_gains_split) <= -9)",
         "hidden": false,
         "locked": false,
         "submit_only": false,
         "success_message": "check(-12 <= np.mean(all_gains_split) <= -9)"
        }
       ],
       "scored": true,
       "setup": "",
       "teardown": "",
       "type": "doctest"
      }
     ]
    },
    "p2.2": {
     "has_hidden": false,
     "name": "p2.2",
     "points": 5,
     "suites": [
      {
       "cases": [
        {
         "code": ">>> check_str('type(representative_sample) == np.ndarray', locals())\n",
         "failure_message": "check(type(representative_sample) == np.ndarray)",
         "hidden": false,
         "locked": false,
         "submit_only": false,
         "success_message": "check(type(representative_sample) == np.ndarray)"
        },
        {
         "code": ">>> check_str('len(representative_sample) == 200', locals())\n",
         "failure_message": "The sample should be of size 200.",
         "hidden": false,
         "locked": false,
         "submit_only": false,
         "success_message": "check(len(representative_sample) == 200)"
        },
        {
         "code": ">>> check_str('np.all(np.in1d(representative_sample, earthquakes.column(\\'mag\\')))', locals())\n",
         "failure_message": "Your sample should have the same columns as the original table and all data in the sample should be present in the original table.",
         "hidden": false,
         "locked": false,
         "submit_only": false,
         "success_message": "check(np.all(np.in1d(representative_sample, earthquakes.column('mag'))))"
        },
        {
         "code": ">>> check_str(' min(representative_sample) <= representative_mean <= max(representative_sample)', locals())\n",
         "failure_message": "The mean can't be bigger than the biggest magnitude, or smaller than the smallest!",
         "hidden": false,
         "locked": false,
         "submit_only": false,
         "success_message": "check( min(representative_sample) <= representative_mean <= max(representative_sample))"
        }
       ],
       "scored": true,
       "setup": "",
       "teardown": "",
       "type": "doctest"
      }
     ]
    },
    "p2.3": {
     "has_hidden": false,
     "name": "p2.3",
     "points": 5,
     "suites": [
      {
       "cases": [
        {
         "code": ">>> check_str('len(maximums) == 5000', locals())\n",
         "failure_message": "check(len(maximums) == 5000)",
         "hidden": false,
         "locked": false,
         "submit_only": false,
         "success_message": "check(len(maximums) == 5000)"
        },
        {
         "code": ">>> check_str('max(maximums) <= max(earthquakes.column(\\'mag\\'))', locals())\n",
         "failure_message": "The biggest simulated maximum can't be bigger than the actual maximum!",
         "hidden": false,
         "locked": false,
         "submit_only": false,
         "success_message": "check(max(maximums) <= max(earthquakes.column('mag')))"
        }
       ],
       "scored": true,
       "setup": "",
       "teardown": "",
       "type": "doctest"
      }
     ]
    },
    "p2.4": {
     "has_hidden": true,
     "name": "p2.4",
     "points": 5,
     "suites": [
      {
       "cases": [
        {
         "code": ">>> check_str('0 <= strongest_earthquake_magnitude <= 12', locals())\n",
         "failure_message": "check(0 <= strongest_earthquake_magnitude <= 12)",
         "hidden": false,
         "locked": false,
         "submit_only": false,
         "success_message": "check(0 <= strongest_earthquake_magnitude <= 12)"
        }
       ],
       "scored": true,
       "setup": "",
       "teardown": "",
       "type": "doctest"
      }
     ]
    },
    "p3.1": {
     "has_hidden": false,
     "name": "p3.1",
     "points": 5,
     "suites": [
      {
       "cases": [
        {
         "code": ">>> # The following test will fail until you have downloaded finch_beaks_1975_dirty.csv and uploaded it to your project.\n>>> from os.path import exists\n>>> check_str('exists(\\'finch_beaks_1975_dirty.csv\\')', locals())\n",
         "failure_message": "check(exists('finch_beaks_1975_dirty.csv'))",
         "hidden": false,
         "locked": false,
         "submit_only": false,
         "success_message": "check(exists('finch_beaks_1975_dirty.csv'))"
        }
       ],
       "scored": true,
       "setup": "",
       "teardown": "",
       "type": "doctest"
      }
     ]
    },
    "p3.2": {
     "has_hidden": false,
     "name": "p3.2",
     "points": 5,
     "suites": [
      {
       "cases": [
        {
         "code": ">>> check_str('finches.num_rows == 88', locals())\n",
         "failure_message": "check(finches.num_rows == 88)",
         "hidden": false,
         "locked": false,
         "submit_only": false,
         "success_message": "check(finches.num_rows == 88)"
        },
        {
         "code": ">>> check_str('finches.num_columns == 4', locals())\n",
         "failure_message": "check(finches.num_columns == 4)",
         "hidden": false,
         "locked": false,
         "submit_only": false,
         "success_message": "check(finches.num_columns == 4)"
        }
       ],
       "scored": true,
       "setup": "",
       "teardown": "",
       "type": "doctest"
      }
     ]
    },
    "p3.3": {
     "has_hidden": false,
     "name": "p3.3",
     "points": 5,
     "suites": [
      {
       "cases": [
        {
         "code": ">>> check_str('finches.num_rows - tidy_finches.num_rows == 14', locals())\n",
         "failure_message": "check(finches.num_rows - tidy_finches.num_rows == 14)",
         "hidden": false,
         "locked": false,
         "submit_only": false,
         "success_message": "check(finches.num_rows - tidy_finches.num_rows == 14)"
        },
        {
         "code": ">>> check_str('tidy_finches.labels == (\\'band\\', \\'species\\', \\'Beak length, mm\\', \\'Beak depth, mm\\')', locals())\n",
         "failure_message": "check(tidy_finches.labels == ('band', 'species', 'Beak length, mm', 'Beak depth, mm'))",
         "hidden": false,
         "locked": false,
         "submit_only": false,
         "success_message": "check(tidy_finches.labels == ('band', 'species', 'Beak length, mm', 'Beak depth, mm'))"
        },
        {
         "code": ">>> check_str('tidy_finches.where(\\'species\\', are.equal_to(\\'for\\')).num_rows == 0', locals())\n",
         "failure_message": "Did you remember to fix the species names and replace for with fortis?",
         "hidden": false,
         "locked": false,
         "submit_only": false,
         "success_message": "check(tidy_finches.where('species', are.equal_to('for')).num_rows == 0)"
        },
        {
         "code": ">>> check_str('sum(tidy_finches.column(\\'band\\')) == 248450', locals())\n",
         "failure_message": "check(sum(tidy_finches.column('band')) == 248450)",
         "hidden": false,
         "locked": false,
         "submit_only": false,
         "success_message": "check(sum(tidy_finches.column('band')) == 248450)"
        },
        {
         "code": ">>> check_str('sum(tidy_finches.column(\\'Beak depth, mm\\')) == 669.23', locals())\n",
         "failure_message": "check(sum(tidy_finches.column('Beak depth, mm')) == 669.23)",
         "hidden": false,
         "locked": false,
         "submit_only": false,
         "success_message": "check(sum(tidy_finches.column('Beak depth, mm')) == 669.23)"
        },
        {
         "code": ">>> check_str('tidy_finches.group(\\'species\\').column(\\'count\\').item(0) == 37', locals())\n",
         "failure_message": "check(tidy_finches.group('species').column('count').item(0) == 37)",
         "hidden": false,
         "locked": false,
         "submit_only": false,
         "success_message": "check(tidy_finches.group('species').column('count').item(0) == 37)"
        }
       ],
       "scored": true,
       "setup": "",
       "teardown": "",
       "type": "doctest"
      }
     ]
    }
   }
  },
  "vscode": {
   "interpreter": {
    "hash": "31f2aee4e71d21fbe5cf8b01ff0e069b9275f58929596ceb00d14d90e3e16cd6"
   }
  }
 },
 "nbformat": 4,
 "nbformat_minor": 5
}
