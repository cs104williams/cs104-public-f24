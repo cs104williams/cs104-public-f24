{
 "cells": [
  {
   "cell_type": "code",
   "execution_count": null,
   "id": "0d0ba046",
   "metadata": {
    "deletable": false,
    "editable": false
   },
   "outputs": [],
   "source": [
    "# Initialize Otter\n",
    "import otter\n",
    "grader = otter.Notebook(\"pre09.ipynb\")"
   ]
  },
  {
   "cell_type": "markdown",
   "id": "edd12a19",
   "metadata": {
    "deletable": false,
    "editable": false
   },
   "source": [
    "<table style=\"width: 100%;\">\n",
    "<tr style=\"background-color: transparent;\">\n",
    "<td width=\"100px\"><img src=\"https://cs104williams.github.io/assets/cs104-logo.png\" width=\"90px\" style=\"text-align: center\"/></td>\n",
    "<td>\n",
    "  <p style=\"margin-bottom: 0px; text-align: left; font-size: 18pt;\"><strong>CSCI 104: Data Science and Computing for All</strong><br>\n",
    "                Williams College<br>\n",
    "                Fall 2024</p>\n",
    "</td>\n",
    "</tr>\n"
   ]
  },
  {
   "cell_type": "markdown",
   "id": "0721db35",
   "metadata": {
    "deletable": false,
    "editable": false,
    "tags": []
   },
   "source": [
    "# Prelab 9: Correlation and Linear Regression"
   ]
  },
  {
   "cell_type": "markdown",
   "id": "7ad9d243",
   "metadata": {
    "deletable": false,
    "editable": false,
    "tags": []
   },
   "source": [
    "**Instructions**\n",
    "- Before you begin, execute the cell at the TOP of the notebook to load the provided tests, as well as the following cell to setup the notebook by importing some helpful libraries. Each time you start your server, you will need to execute these cells again.  \n",
    "- Be sure to consult your [Python Reference](https://cs104williams.github.io/assets/python-library-ref.html)!\n",
    "- Complete this notebook by filling in the cells provided. \n",
    "- Please be sure to not re-assign variables throughout the notebook.  For example, if you use `max_temperature` in your answer to one question, do not reassign it later on. Otherwise, you will fail tests that you thought you were passing previously.\n",
    "- There are no hidden tests in prelabs.\n",
    "\n",
    "<hr/>\n",
    "<h2>Setup</h2>\n"
   ]
  },
  {
   "cell_type": "code",
   "execution_count": null,
   "id": "39ad15a8",
   "metadata": {
    "deletable": false,
    "editable": false,
    "execution": {
     "iopub.execute_input": "2024-11-12T23:55:03.435255Z",
     "iopub.status.busy": "2024-11-12T23:55:03.435057Z",
     "iopub.status.idle": "2024-11-12T23:55:04.950319Z",
     "shell.execute_reply": "2024-11-12T23:55:04.949294Z"
    },
    "tags": []
   },
   "outputs": [],
   "source": [
    "# Run this cell to set up the notebook.\n",
    "# These lines import the numpy, datascience, and cs104 libraries.\n",
    "\n",
    "import numpy as np\n",
    "from datascience import *\n",
    "from cs104 import *\n",
    "%matplotlib inline"
   ]
  },
  {
   "cell_type": "markdown",
   "id": "47533205",
   "metadata": {
    "deletable": false,
    "editable": false
   },
   "source": [
    "<hr style=\"margin-bottom: 0px; padding:0; border: 2px solid #500082;\"/>\n"
   ]
  },
  {
   "cell_type": "markdown",
   "id": "370df0a7",
   "metadata": {
    "deletable": false,
    "editable": false
   },
   "source": [
    "## 1. Choose the right statistical inference technique (40 pts)\n",
    "\n"
   ]
  },
  {
   "cell_type": "markdown",
   "id": "bab386e7",
   "metadata": {
    "deletable": false,
    "editable": false
   },
   "source": [
    "We have now seen three broad statistical inference problems: \n",
    "* **Hypothesis testing**: simulating samples from a null hypothesis and calculating a p-value.\n",
    "* **Estimation**: estimating a population parameter from a sample via bootstrap resampling and the percentile method. \n",
    "* **Association**: quantifying a linear relationship between two variables.\n",
    "\n",
    "Here is a breakdown of specific techniques used to approach these problems: \n",
    "\n",
    "---\n",
    "\n",
    "* **(A)  Single category hypothesis test.** We simulate a sample from the value of the single category under the null hypothesis. The test statistic is the absolute difference between the observed and null proportions. \n",
    "* **(B) Multiple categories hypothesis test.** We simulate a sample from the null hypothesis by sampling from the null distribution. The test statistic is the total variation distance (TVD). \n",
    "* **(C) Numeric subgroup hypothesis test.** We have data for the full population, and we simulate from the null hypothesis by random sampling from the full population. The test statistic is the absolute difference between the mean in the observed sample and the mean in the full population. \n",
    "* **(D) Permutation hypothesis test.** We simulate from the null hypothesis by shuffling the label of two groups. The test statistic is the absolute difference in means between Group A and Group B (real or shuffled).  \n",
    "<span>&nbsp;</span>\n",
    "* **(E) Confidence interval from bootstrapping.** We estimate a confidence interval by bootstrap resampling and the percentile method.  \n",
    "<span>&nbsp;</span>\n",
    "* **(F) Correlation coefficients.** We measure of the strength of a linear relationship between two variables. \n",
    "* **(G) Linear Regression.** We compute the slope and intercept of the line that best fits a set of data points.\n",
    "\n",
    "---\n",
    "\n",
    "Assign the letter 'A' through 'G' to each of the following real-world scenarios. Each letter, 'A' through 'G', may be used more than once. "
   ]
  },
  {
   "cell_type": "markdown",
   "id": "739d36f9",
   "metadata": {
    "deletable": false,
    "editable": false
   },
   "source": [
    "#### Part 1.1 Zoos (5 pts)\n"
   ]
  },
  {
   "cell_type": "markdown",
   "id": "eab2fab2",
   "metadata": {
    "deletable": false,
    "editable": false
   },
   "source": [
    "A small zoo has five different types of animals. They are worried they are not allocating costs according to the popularity of the animals.  They have data on the proportion of costs spent on each of the five types of animals and the percentage of visitors for each of the five types of animals. They want to know: Is there a statistically significant difference between the distribution of costs and the distribution of visitors? "
   ]
  },
  {
   "cell_type": "code",
   "execution_count": null,
   "id": "81ce07bd",
   "metadata": {
    "deletable": false,
    "execution": {
     "iopub.execute_input": "2024-11-12T23:55:04.954352Z",
     "iopub.status.busy": "2024-11-12T23:55:04.953940Z",
     "iopub.status.idle": "2024-11-12T23:55:04.957050Z",
     "shell.execute_reply": "2024-11-12T23:55:04.956472Z"
    },
    "tags": []
   },
   "outputs": [],
   "source": [
    "zoos = ..."
   ]
  },
  {
   "cell_type": "code",
   "execution_count": null,
   "id": "6a72ffe5",
   "metadata": {
    "deletable": false,
    "editable": false
   },
   "outputs": [],
   "source": [
    "grader.check(\"p1.1\")"
   ]
  },
  {
   "cell_type": "markdown",
   "id": "dab14dfb",
   "metadata": {
    "deletable": false,
    "editable": false
   },
   "source": [
    "#### Part 1.2 Braking Distance (5 pts)\n"
   ]
  },
  {
   "cell_type": "markdown",
   "id": "a2698112",
   "metadata": {
    "deletable": false,
    "editable": false
   },
   "source": [
    "A car company is testing a new model.  They measure the distance it takes for that car to come to a stop after applying the brakes when traveling at different speeds.  They determine that braking distance and speed have a Pearson correlation coefficient of 0.9.  They want to know: what is the braking distance when traveling at 57.5 miles per hour?"
   ]
  },
  {
   "cell_type": "code",
   "execution_count": null,
   "id": "91201b01",
   "metadata": {
    "deletable": false,
    "execution": {
     "iopub.execute_input": "2024-11-12T23:55:04.971095Z",
     "iopub.status.busy": "2024-11-12T23:55:04.970885Z",
     "iopub.status.idle": "2024-11-12T23:55:04.973423Z",
     "shell.execute_reply": "2024-11-12T23:55:04.973027Z"
    },
    "tags": []
   },
   "outputs": [],
   "source": [
    "braking = ..."
   ]
  },
  {
   "cell_type": "code",
   "execution_count": null,
   "id": "12bd5bac",
   "metadata": {
    "deletable": false,
    "editable": false
   },
   "outputs": [],
   "source": [
    "grader.check(\"p1.2\")"
   ]
  },
  {
   "cell_type": "markdown",
   "id": "a8cf80e0",
   "metadata": {
    "deletable": false,
    "editable": false
   },
   "source": [
    "#### Part 1.3 Voter Turnout (5 pts)\n"
   ]
  },
  {
   "cell_type": "markdown",
   "id": "16d829cc",
   "metadata": {
    "deletable": false,
    "editable": false
   },
   "source": [
    "In a small town's local election, 60% of registered voters turned out to vote, while historically the voter turnout is around 50%. Local officials want to know: Is this year's voter turnout significantly different than what has been observed historically? "
   ]
  },
  {
   "cell_type": "code",
   "execution_count": null,
   "id": "b56ab353",
   "metadata": {
    "deletable": false,
    "execution": {
     "iopub.execute_input": "2024-11-12T23:55:04.986345Z",
     "iopub.status.busy": "2024-11-12T23:55:04.986171Z",
     "iopub.status.idle": "2024-11-12T23:55:04.988635Z",
     "shell.execute_reply": "2024-11-12T23:55:04.988234Z"
    },
    "tags": []
   },
   "outputs": [],
   "source": [
    "voters = ..."
   ]
  },
  {
   "cell_type": "code",
   "execution_count": null,
   "id": "64e15c65",
   "metadata": {
    "deletable": false,
    "editable": false
   },
   "outputs": [],
   "source": [
    "grader.check(\"p1.3\")"
   ]
  },
  {
   "cell_type": "markdown",
   "id": "815221fc",
   "metadata": {
    "deletable": false,
    "editable": false
   },
   "source": [
    "#### Part 1.4 Batteries (5 pts)\n"
   ]
  },
  {
   "cell_type": "markdown",
   "id": "5ad0e33e",
   "metadata": {
    "deletable": false,
    "editable": false
   },
   "source": [
    "A manufacturing company produces batteries and wants to estimate the average lifespan of its batteries. They sample 100 batteries and find the average lifespan is on average 20 days of use. They wish to know: what is an estimate of the average lifespan for all of their batteries?"
   ]
  },
  {
   "cell_type": "code",
   "execution_count": null,
   "id": "ebfa2b1d",
   "metadata": {
    "deletable": false,
    "execution": {
     "iopub.execute_input": "2024-11-12T23:55:05.001533Z",
     "iopub.status.busy": "2024-11-12T23:55:05.001280Z",
     "iopub.status.idle": "2024-11-12T23:55:05.003980Z",
     "shell.execute_reply": "2024-11-12T23:55:05.003387Z"
    },
    "tags": []
   },
   "outputs": [],
   "source": [
    "batteries = ..."
   ]
  },
  {
   "cell_type": "code",
   "execution_count": null,
   "id": "a6f6a2cd",
   "metadata": {
    "deletable": false,
    "editable": false
   },
   "outputs": [],
   "source": [
    "grader.check(\"p1.4\")"
   ]
  },
  {
   "cell_type": "markdown",
   "id": "02aa562d",
   "metadata": {
    "deletable": false,
    "editable": false
   },
   "source": [
    "#### Part 1.5 Teachers (5 pts)\n"
   ]
  },
  {
   "cell_type": "markdown",
   "id": "8ae44e92",
   "metadata": {
    "deletable": false,
    "editable": false
   },
   "source": [
    "A large public school system has several dozen different instructors teaching high school geometry. They want to know: Does one instructor's teaching method result in significantly different student exam scores compared to the others? "
   ]
  },
  {
   "cell_type": "code",
   "execution_count": null,
   "id": "28a14efa",
   "metadata": {
    "deletable": false,
    "execution": {
     "iopub.execute_input": "2024-11-12T23:55:05.016983Z",
     "iopub.status.busy": "2024-11-12T23:55:05.016807Z",
     "iopub.status.idle": "2024-11-12T23:55:05.019192Z",
     "shell.execute_reply": "2024-11-12T23:55:05.018754Z"
    },
    "tags": []
   },
   "outputs": [],
   "source": [
    "teachers = ..."
   ]
  },
  {
   "cell_type": "code",
   "execution_count": null,
   "id": "63dbdd0b",
   "metadata": {
    "deletable": false,
    "editable": false
   },
   "outputs": [],
   "source": [
    "grader.check(\"p1.5\")"
   ]
  },
  {
   "cell_type": "markdown",
   "id": "7bf3fffe",
   "metadata": {
    "deletable": false,
    "editable": false
   },
   "source": [
    "#### Part 1.6 Smartphones (5 pts)\n"
   ]
  },
  {
   "cell_type": "markdown",
   "id": "930a31f1",
   "metadata": {
    "deletable": false,
    "editable": false
   },
   "source": [
    "An electronics company has set an acceptable defect rate of 5% for its smartphones. After quality control testing, they find that only 2% of smartphones have defects. They want to know: Is their manufacturing process significantly different than their acceptable defect rate? "
   ]
  },
  {
   "cell_type": "code",
   "execution_count": null,
   "id": "1e60f8e4",
   "metadata": {
    "deletable": false,
    "execution": {
     "iopub.execute_input": "2024-11-12T23:55:05.031947Z",
     "iopub.status.busy": "2024-11-12T23:55:05.031776Z",
     "iopub.status.idle": "2024-11-12T23:55:05.034160Z",
     "shell.execute_reply": "2024-11-12T23:55:05.033766Z"
    },
    "tags": []
   },
   "outputs": [],
   "source": [
    "phones = ..."
   ]
  },
  {
   "cell_type": "code",
   "execution_count": null,
   "id": "ffb61324",
   "metadata": {
    "deletable": false,
    "editable": false
   },
   "outputs": [],
   "source": [
    "grader.check(\"p1.6\")"
   ]
  },
  {
   "cell_type": "markdown",
   "id": "9d905d2c",
   "metadata": {
    "deletable": false,
    "editable": false
   },
   "source": [
    "#### Part 1.7 Office Locations (5 pts)\n"
   ]
  },
  {
   "cell_type": "markdown",
   "id": "854b426c",
   "metadata": {
    "deletable": false,
    "editable": false
   },
   "source": [
    "A data science company has offices in two locations: downtown urban offices and suburban offices. They measure employees productivity based on the number of Jupyter Notebook cells coded. They want to determine if there is a statistically significant difference between the mean productivity of employees in their two office locations. "
   ]
  },
  {
   "cell_type": "code",
   "execution_count": null,
   "id": "c07eebbd",
   "metadata": {
    "deletable": false,
    "execution": {
     "iopub.execute_input": "2024-11-12T23:55:05.046575Z",
     "iopub.status.busy": "2024-11-12T23:55:05.046394Z",
     "iopub.status.idle": "2024-11-12T23:55:05.049204Z",
     "shell.execute_reply": "2024-11-12T23:55:05.048744Z"
    },
    "tags": []
   },
   "outputs": [],
   "source": [
    "locations = ..."
   ]
  },
  {
   "cell_type": "code",
   "execution_count": null,
   "id": "9940402e",
   "metadata": {
    "deletable": false,
    "editable": false
   },
   "outputs": [],
   "source": [
    "grader.check(\"p1.7\")"
   ]
  },
  {
   "cell_type": "markdown",
   "id": "e0aa6407",
   "metadata": {
    "deletable": false,
    "editable": false
   },
   "source": [
    "#### Part 1.8 Reaction Time (5 pts)\n"
   ]
  },
  {
   "cell_type": "markdown",
   "id": "b8fc8b3d",
   "metadata": {
    "deletable": false,
    "editable": false
   },
   "source": [
    "A medical study on aging measures the reaction time in people who are asked to push a button when they hear a beep.  They conducted this study on 500 individuals ranging in age from 20 to 80.  They wish to know: how strongly is reaction time correlated with age?"
   ]
  },
  {
   "cell_type": "code",
   "execution_count": null,
   "id": "91a19ca2",
   "metadata": {
    "deletable": false,
    "execution": {
     "iopub.execute_input": "2024-11-12T23:55:05.061147Z",
     "iopub.status.busy": "2024-11-12T23:55:05.060861Z",
     "iopub.status.idle": "2024-11-12T23:55:05.063487Z",
     "shell.execute_reply": "2024-11-12T23:55:05.063054Z"
    },
    "tags": []
   },
   "outputs": [],
   "source": [
    "reactions = ..."
   ]
  },
  {
   "cell_type": "code",
   "execution_count": null,
   "id": "a67b5c67",
   "metadata": {
    "deletable": false,
    "editable": false
   },
   "outputs": [],
   "source": [
    "grader.check(\"p1.8\")"
   ]
  },
  {
   "cell_type": "markdown",
   "id": "38b4e7b0",
   "metadata": {
    "deletable": false,
    "editable": false
   },
   "source": [
    "<hr style=\"margin-bottom: 0px; padding:0; border: 2px solid #500082;\"/>\n"
   ]
  },
  {
   "cell_type": "markdown",
   "id": "001e956e",
   "metadata": {
    "deletable": false,
    "editable": false
   },
   "source": [
    "## 2. How Faithful is Old Faithful? (50 pts)\n",
    "\n",
    "\n",
    "Old Faithful is a geyser in Yellowstone National Park that is famous for eruption on a fairly regular schedule. Run the cell below to see Old Faithful in action!"
   ]
  },
  {
   "cell_type": "code",
   "execution_count": null,
   "id": "75b7a428",
   "metadata": {
    "deletable": false,
    "editable": false,
    "execution": {
     "iopub.execute_input": "2024-11-12T23:55:05.075985Z",
     "iopub.status.busy": "2024-11-12T23:55:05.075798Z",
     "iopub.status.idle": "2024-11-12T23:55:05.279207Z",
     "shell.execute_reply": "2024-11-12T23:55:05.278607Z"
    },
    "tags": []
   },
   "outputs": [],
   "source": [
    "from IPython.display import YouTubeVideo\n",
    "YouTubeVideo(\"wE8NDuzt8eg\")"
   ]
  },
  {
   "cell_type": "code",
   "execution_count": null,
   "id": "5aa1ac89",
   "metadata": {
    "deletable": false,
    "editable": false,
    "execution": {
     "iopub.execute_input": "2024-11-12T23:55:05.282067Z",
     "iopub.status.busy": "2024-11-12T23:55:05.281877Z",
     "iopub.status.idle": "2024-11-12T23:55:05.284326Z",
     "shell.execute_reply": "2024-11-12T23:55:05.283907Z"
    },
    "tags": []
   },
   "outputs": [],
   "source": [
    "# For the curious: the cell above is how to display a YouTube video in a\n",
    "# Jupyter notebook.  The argument to YouTubeVideo is the part\n",
    "# of the URL (called a \"query parameter\") that identifies the\n",
    "# video.  For example, the full URL for this video is:\n",
    "#   https://www.youtube.com/watch?v=wE8NDuzt8eg"
   ]
  },
  {
   "cell_type": "markdown",
   "id": "dbafa164",
   "metadata": {
    "deletable": false,
    "editable": false
   },
   "source": [
    "Some of Old Faithful's eruptions last longer than others.  Whenever there is a long eruption, it is usually followed by an even longer wait before the next eruption. If you visit Yellowstone, you might want to predict when the next eruption will happen, so that you can see the rest of the park instead of waiting by the geyser.\n",
    " \n",
    "Today, we will use a dataset on eruption durations and waiting times to see if we can make such predictions accurately with linear regression.\n",
    "\n",
    "The dataset has one row for each observed eruption.  It includes the following columns:\n",
    "- `duration`: Eruption duration, in minutes\n",
    "- `wait`: Time between this eruption and the next, also in minutes\n",
    "\n",
    "Run the next cell to load the dataset."
   ]
  },
  {
   "cell_type": "code",
   "execution_count": null,
   "id": "609ba493",
   "metadata": {
    "deletable": false,
    "editable": false,
    "execution": {
     "iopub.execute_input": "2024-11-12T23:55:05.286904Z",
     "iopub.status.busy": "2024-11-12T23:55:05.286742Z",
     "iopub.status.idle": "2024-11-12T23:55:05.292829Z",
     "shell.execute_reply": "2024-11-12T23:55:05.292418Z"
    },
    "tags": []
   },
   "outputs": [],
   "source": [
    "faithful = Table.read_table(\"faithful.csv\")\n",
    "faithful"
   ]
  },
  {
   "cell_type": "markdown",
   "id": "d4149e20",
   "metadata": {
    "deletable": false,
    "editable": false
   },
   "source": [
    "We would like to use linear regression to make predictions, but that won't work well if the data aren't roughly linearly related.  To check that, we should look at the data."
   ]
  },
  {
   "cell_type": "markdown",
   "id": "1183d590",
   "metadata": {
    "deletable": false,
    "editable": false
   },
   "source": [
    "#### Part 2.1 Visualize the Data (5 pts)\n"
   ]
  },
  {
   "cell_type": "markdown",
   "id": "4f06adaa",
   "metadata": {
    "deletable": false,
    "editable": false
   },
   "source": [
    " Make a scatter plot of the data to examine whether we can predict wait times from erruption durations.  It's conventional to put the column we want to predict -- wait time -- on the vertical axis and the other column on the horizontal axis.\n"
   ]
  },
  {
   "cell_type": "code",
   "execution_count": null,
   "id": "fc766b7c",
   "metadata": {
    "deletable": false,
    "execution": {
     "iopub.execute_input": "2024-11-12T23:55:05.295754Z",
     "iopub.status.busy": "2024-11-12T23:55:05.295530Z",
     "iopub.status.idle": "2024-11-12T23:55:05.524228Z",
     "shell.execute_reply": "2024-11-12T23:55:05.523742Z"
    },
    "tags": []
   },
   "outputs": [],
   "source": [
    "plot = ..."
   ]
  },
  {
   "cell_type": "code",
   "execution_count": null,
   "id": "07bea0b0",
   "metadata": {
    "deletable": false,
    "editable": false
   },
   "outputs": [],
   "source": [
    "grader.check(\"p2.1\")"
   ]
  },
  {
   "cell_type": "markdown",
   "id": "0ba9c4ab",
   "metadata": {
    "deletable": false,
    "editable": false
   },
   "source": [
    "When you examine your scatter plot above, you should see that eruption duration and waiting time seem to have a roughly positive linear association.  Further, the eruption durations seem to cluster; there\n",
    "are a bunch of short eruptions and a bunch of longer ones. We'll first explore **correlation** to determine whether it is reasonable to apply linear regression to the whole dataset.  "
   ]
  },
  {
   "cell_type": "markdown",
   "id": "b5461a1f",
   "metadata": {
    "deletable": false,
    "editable": false
   },
   "source": [
    "#### Part 2.2 Correlation Warm up (5 pts)\n"
   ]
  },
  {
   "cell_type": "markdown",
   "id": "31583c49",
   "metadata": {
    "deletable": false,
    "editable": false
   },
   "source": [
    "As a quick sanity check, (without running any code) which of the following values do you think will be closest to the correlation coefficient between eruption duration and waiting time in this dataset?\n",
    "\n",
    "* -1\n",
    "* 0\n",
    "* 1\n",
    "\n",
    "Assign `correlation` to the number corresponding to your guess."
   ]
  },
  {
   "cell_type": "code",
   "execution_count": null,
   "id": "9ad84eec",
   "metadata": {
    "deletable": false,
    "execution": {
     "iopub.execute_input": "2024-11-12T23:55:05.532788Z",
     "iopub.status.busy": "2024-11-12T23:55:05.532603Z",
     "iopub.status.idle": "2024-11-12T23:55:05.535103Z",
     "shell.execute_reply": "2024-11-12T23:55:05.534631Z"
    },
    "tags": []
   },
   "outputs": [],
   "source": [
    "correlation = ..."
   ]
  },
  {
   "cell_type": "code",
   "execution_count": null,
   "id": "ceaa2cec",
   "metadata": {
    "deletable": false,
    "editable": false
   },
   "outputs": [],
   "source": [
    "grader.check(\"p2.2\")"
   ]
  },
  {
   "cell_type": "markdown",
   "id": "aa8f47c1",
   "metadata": {
    "deletable": false,
    "editable": false
   },
   "source": [
    "#### Part 2.3 Correlation Coefficient (5 pts)\n"
   ]
  },
  {
   "cell_type": "markdown",
   "id": "72f622fe",
   "metadata": {
    "deletable": false,
    "editable": false
   },
   "source": [
    "Now, use the [pearson_correlation()](https://www.cs.williams.edu/~cs104/auto/inference-library-ref.html) function from our library to calculate the correlation coefficient. "
   ]
  },
  {
   "cell_type": "code",
   "execution_count": null,
   "id": "0f67b5ef",
   "metadata": {
    "deletable": false,
    "execution": {
     "iopub.execute_input": "2024-11-12T23:55:05.547376Z",
     "iopub.status.busy": "2024-11-12T23:55:05.547204Z",
     "iopub.status.idle": "2024-11-12T23:55:05.550818Z",
     "shell.execute_reply": "2024-11-12T23:55:05.550423Z"
    },
    "tags": []
   },
   "outputs": [],
   "source": [
    "r = ...\n",
    "r"
   ]
  },
  {
   "cell_type": "code",
   "execution_count": null,
   "id": "adf915d5",
   "metadata": {
    "deletable": false,
    "editable": false
   },
   "outputs": [],
   "source": [
    "grader.check(\"p2.3\")"
   ]
  },
  {
   "cell_type": "markdown",
   "id": "ca1f9d62",
   "metadata": {
    "deletable": false,
    "editable": false
   },
   "source": [
    "Since `r` is high, we can continue with the assumption that they are linearly related and continue to perform linear regression. "
   ]
  },
  {
   "cell_type": "markdown",
   "id": "ea39c318",
   "metadata": {
    "deletable": false,
    "editable": false
   },
   "source": [
    "#### Part 2.4 Linear Regression (5 pts)\n"
   ]
  },
  {
   "cell_type": "markdown",
   "id": "1c814dfb",
   "metadata": {
    "deletable": false,
    "editable": false
   },
   "source": [
    "Let's first run the regression and then examine various aspects of our optimal choice of prediction line.  \n",
    "\n",
    "Using functions in our [inference library](https://www.cs.williams.edu/~cs104/auto/inference-library-ref.html), set `slope` and `intercept` to be the slope and intercept of the line that minimizes mean squared error (the line of \"best fit\").  For this regression, remember that we have `'duration'` on the x-axis and `'wait'` on the y-axis. "
   ]
  },
  {
   "cell_type": "code",
   "execution_count": null,
   "id": "886546b6",
   "metadata": {
    "deletable": false,
    "execution": {
     "iopub.execute_input": "2024-11-12T23:55:05.563247Z",
     "iopub.status.busy": "2024-11-12T23:55:05.562948Z",
     "iopub.status.idle": "2024-11-12T23:55:05.570823Z",
     "shell.execute_reply": "2024-11-12T23:55:05.570386Z"
    },
    "tags": []
   },
   "outputs": [],
   "source": [
    "...\n",
    "slope = ...\n",
    "intercept = ...\n",
    "\n",
    "# Examine your slope and intercept\n",
    "print(\"Slope =\", slope)\n",
    "print(\"Intercept=\", intercept)"
   ]
  },
  {
   "cell_type": "code",
   "execution_count": null,
   "id": "dabc448c",
   "metadata": {
    "deletable": false,
    "editable": false
   },
   "outputs": [],
   "source": [
    "grader.check(\"p2.4\")"
   ]
  },
  {
   "cell_type": "markdown",
   "id": "e1b9925c",
   "metadata": {
    "deletable": false,
    "editable": false
   },
   "source": [
    "Run the following cell to plot your line."
   ]
  },
  {
   "cell_type": "code",
   "execution_count": null,
   "id": "353d1c3f",
   "metadata": {
    "deletable": false,
    "editable": false,
    "execution": {
     "iopub.execute_input": "2024-11-12T23:55:05.584725Z",
     "iopub.status.busy": "2024-11-12T23:55:05.584551Z",
     "iopub.status.idle": "2024-11-12T23:55:05.835072Z",
     "shell.execute_reply": "2024-11-12T23:55:05.834607Z"
    },
    "tags": []
   },
   "outputs": [],
   "source": [
    "plot_scatter_with_line(faithful, 'duration', 'wait', slope, intercept)"
   ]
  },
  {
   "cell_type": "markdown",
   "id": "86f74bd3",
   "metadata": {
    "deletable": false,
    "editable": false
   },
   "source": [
    "#### Part 2.5 Predicted Times for 2- and 5-minute Eruptions (5 pts)\n"
   ]
  },
  {
   "cell_type": "markdown",
   "id": "e5e1a130",
   "metadata": {
    "deletable": false,
    "editable": false
   },
   "source": [
    "The slope and intercept characterize the regression line.  \n",
    "\n",
    "We often use linear regression for prediction. Recall, to predict the waiting time (y) for a given duration (x), multiply the eruption's duration by `slope` and then add `intercept`."
   ]
  },
  {
   "cell_type": "markdown",
   "id": "3e2f2406",
   "metadata": {
    "deletable": false,
    "editable": false
   },
   "source": [
    "Using this, compute the predicted waiting time for an eruption that lasts 2 minutes, and for an eruption that lasts 5 minutes."
   ]
  },
  {
   "cell_type": "code",
   "execution_count": null,
   "id": "c0d98659",
   "metadata": {
    "deletable": false,
    "execution": {
     "iopub.execute_input": "2024-11-12T23:55:05.838564Z",
     "iopub.status.busy": "2024-11-12T23:55:05.838319Z",
     "iopub.status.idle": "2024-11-12T23:55:05.842599Z",
     "shell.execute_reply": "2024-11-12T23:55:05.841702Z"
    },
    "tags": []
   },
   "outputs": [],
   "source": [
    "two_minute_predicted_waiting_time = ...\n",
    "five_minute_predicted_waiting_time = ...\n",
    "\n",
    "# Here is a helper function to print out your predictions.\n",
    "# Don't modify the code below.\n",
    "def print_prediction(duration, predicted_waiting_time):\n",
    "    print(\"After an eruption lasting\", np.round(duration, 2),\n",
    "          \"minutes, we predict you'll wait\", np.round(predicted_waiting_time, 2),\n",
    "          \"minutes until the next eruption.\\n\")\n",
    "\n",
    "print_prediction(2, two_minute_predicted_waiting_time)\n",
    "print_prediction(5, five_minute_predicted_waiting_time)"
   ]
  },
  {
   "cell_type": "code",
   "execution_count": null,
   "id": "aedca89c",
   "metadata": {
    "deletable": false,
    "editable": false
   },
   "outputs": [],
   "source": [
    "grader.check(\"p2.5\")"
   ]
  },
  {
   "cell_type": "markdown",
   "id": "8a2ca7af",
   "metadata": {
    "deletable": false,
    "editable": false
   },
   "source": [
    "#### Part 2.6 Predictions for Unobserved durations (5 pts)\n"
   ]
  },
  {
   "cell_type": "markdown",
   "id": "071f6b48",
   "metadata": {
    "deletable": false,
    "editable": false
   },
   "source": [
    "In the `faithful` dataset, we did not observe any eruption that lasted exactly 0, 2.5, or 60 minutes.  \n",
    "\n",
    "By only **looking** at the regression line we plotted above (**and no code**), give your estimates for the predicted waiting time for an eruption that lasts 0 minutes, 2.5 minutes, and an hour. "
   ]
  },
  {
   "cell_type": "code",
   "execution_count": null,
   "id": "109e0e56",
   "metadata": {
    "deletable": false,
    "execution": {
     "iopub.execute_input": "2024-11-12T23:55:05.858279Z",
     "iopub.status.busy": "2024-11-12T23:55:05.858032Z",
     "iopub.status.idle": "2024-11-12T23:55:05.861851Z",
     "shell.execute_reply": "2024-11-12T23:55:05.861374Z"
    },
    "tags": []
   },
   "outputs": [],
   "source": [
    "zero_minute_predicted_waiting_time = ...\n",
    "two_point_five_minute_predicted_waiting_time = ...\n",
    "hour_predicted_waiting_time = ...\n",
    "\n",
    "print_prediction(0, zero_minute_predicted_waiting_time)\n",
    "print_prediction(2.5, two_point_five_minute_predicted_waiting_time)\n",
    "print_prediction(60, hour_predicted_waiting_time)"
   ]
  },
  {
   "cell_type": "code",
   "execution_count": null,
   "id": "444d5b58",
   "metadata": {
    "deletable": false,
    "editable": false
   },
   "outputs": [],
   "source": [
    "grader.check(\"p2.6\")"
   ]
  },
  {
   "cell_type": "markdown",
   "id": "eabdb184",
   "metadata": {
    "deletable": false,
    "editable": false
   },
   "source": [
    "#### Part 2.7 Prediction Accuracy (5 pts)\n"
   ]
  },
  {
   "cell_type": "markdown",
   "id": "8a5968d3",
   "metadata": {
    "deletable": false,
    "editable": false
   },
   "source": [
    "While we can predict the waiting time for any length eruption, predictions may not be meaningful if they are for data far away from any observed values.  Which of the following statements best captures whether our three predictions are reliable?  \n",
    "\n",
    "In the cell below, assign the variable `predictions` to the integer matching the correct statement: \n",
    "\n",
    "1.  All three are reliable predictions.\n",
    "2.  The prediction for 0 minutes and 2.5 minutes are reliable, since they are both close to observed values, whereas the prediction for a 60 minute eruption is not reliable since we observed no actual eruptions anywhere close to that length and it may have a very different character that shorter ones.\n",
    "3.  The prediction for 2.5 minutes is reliable, since it is close to observed values, whereas the prediction for a 60 minute eruption is not reliable since we observed no actual eruptions anywhere close to that length and it may have a very different character that shorter ones.  Further, the prediction for a 0 minute eruption is meaningless since a 0 minute eruption is phyiscally impossible. \n"
   ]
  },
  {
   "cell_type": "code",
   "execution_count": null,
   "id": "34d628b1",
   "metadata": {
    "deletable": false,
    "execution": {
     "iopub.execute_input": "2024-11-12T23:55:05.886537Z",
     "iopub.status.busy": "2024-11-12T23:55:05.886257Z",
     "iopub.status.idle": "2024-11-12T23:55:05.889594Z",
     "shell.execute_reply": "2024-11-12T23:55:05.888954Z"
    },
    "tags": []
   },
   "outputs": [],
   "source": [
    "predictions = ..."
   ]
  },
  {
   "cell_type": "code",
   "execution_count": null,
   "id": "096af1df",
   "metadata": {
    "deletable": false,
    "editable": false
   },
   "outputs": [],
   "source": [
    "grader.check(\"p2.7\")"
   ]
  },
  {
   "cell_type": "markdown",
   "id": "dc62c77c",
   "metadata": {
    "deletable": false,
    "editable": false
   },
   "source": [
    "#### Part 2.8 Predictions (5 pts)\n"
   ]
  },
  {
   "cell_type": "markdown",
   "id": "817a26ac",
   "metadata": {
    "deletable": false,
    "editable": false
   },
   "source": [
    "To compute accuracy of our linear regression predictions, we will eventually compare our predicted wait times to the true wait times. \n",
    "\n",
    "As a first step, for each eruption in the `faithful` table, use the linear regression you just developed and the function`line_predictions` (from our inference library) to predict the waiting time.  Put these numbers into a column in a new table called `faithful_predictions`. The first row should look like this:\n",
    "\n",
    "|duration|wait|predicted wait|\n",
    "|-|-|-|\n",
    "|3.6|79|72.1011|"
   ]
  },
  {
   "cell_type": "code",
   "execution_count": null,
   "id": "65907791",
   "metadata": {
    "deletable": false,
    "execution": {
     "iopub.execute_input": "2024-11-12T23:55:05.899545Z",
     "iopub.status.busy": "2024-11-12T23:55:05.899280Z",
     "iopub.status.idle": "2024-11-12T23:55:05.904322Z",
     "shell.execute_reply": "2024-11-12T23:55:05.903714Z"
    },
    "tags": []
   },
   "outputs": [],
   "source": [
    "predictions = ...\n",
    "faithful_predictions = faithful.with_column(\"predicted wait\", predictions)\n",
    "faithful_predictions.show(5)"
   ]
  },
  {
   "cell_type": "code",
   "execution_count": null,
   "id": "3dc32481",
   "metadata": {
    "deletable": false,
    "editable": false
   },
   "outputs": [],
   "source": [
    "grader.check(\"p2.8\")"
   ]
  },
  {
   "cell_type": "markdown",
   "id": "d33fddf1",
   "metadata": {
    "deletable": false,
    "editable": false
   },
   "source": [
    "#### Part 2.9 Residuals (5 pts)\n"
   ]
  },
  {
   "cell_type": "markdown",
   "id": "d26ed6b0",
   "metadata": {
    "deletable": false,
    "editable": false
   },
   "source": [
    " How close were we?  Compute the **residual** for each eruption in the dataset.  The residual is the actual waiting time minus the predicted waiting time.  \n",
    " \n",
    "Add the residuals to `faithful_predictions` as a new column called `residual` and name the resulting table `faithful_residuals`."
   ]
  },
  {
   "cell_type": "code",
   "execution_count": null,
   "id": "4a048b31",
   "metadata": {
    "deletable": false,
    "execution": {
     "iopub.execute_input": "2024-11-12T23:55:05.919069Z",
     "iopub.status.busy": "2024-11-12T23:55:05.918866Z",
     "iopub.status.idle": "2024-11-12T23:55:05.923648Z",
     "shell.execute_reply": "2024-11-12T23:55:05.923060Z"
    },
    "tags": []
   },
   "outputs": [],
   "source": [
    "...\n",
    "faithful_residuals = ...\n",
    "faithful_residuals"
   ]
  },
  {
   "cell_type": "code",
   "execution_count": null,
   "id": "5f4fd065",
   "metadata": {
    "deletable": false,
    "editable": false
   },
   "outputs": [],
   "source": [
    "grader.check(\"p2.9\")"
   ]
  },
  {
   "cell_type": "markdown",
   "id": "7103700f",
   "metadata": {
    "deletable": false,
    "editable": false
   },
   "source": [
    "#### Part 2.10 Plotting the Residuals (5 pts)\n"
   ]
  },
  {
   "cell_type": "markdown",
   "id": "edb3526a",
   "metadata": {
    "deletable": false,
    "editable": false
   },
   "source": [
    "Here is a plot of the residuals you computed.  Each point corresponds to one eruption.  It shows how much our prediction over- or under-estimated the waiting time."
   ]
  },
  {
   "cell_type": "code",
   "execution_count": null,
   "id": "0be994f6",
   "metadata": {
    "deletable": false,
    "editable": false,
    "execution": {
     "iopub.execute_input": "2024-11-12T23:55:05.937506Z",
     "iopub.status.busy": "2024-11-12T23:55:05.937294Z",
     "iopub.status.idle": "2024-11-12T23:55:06.174017Z",
     "shell.execute_reply": "2024-11-12T23:55:06.173365Z"
    },
    "tags": []
   },
   "outputs": [],
   "source": [
    "plot = faithful_residuals.scatter(\"duration\", \"residual\", color=\"r\")\n",
    "\n",
    "plot.line(y=0, color='darkblue', lw=4)"
   ]
  },
  {
   "cell_type": "markdown",
   "id": "ad203966",
   "metadata": {
    "deletable": false,
    "editable": false
   },
   "source": [
    "The residual plot of a good regression shows no pattern. That is, the residuals look about the same, above and below the horizontal line at 0, across the range of the predictor variable.  Does this plot give you confidence in your regression's output?  Set `good_regression` to True or False to indicate your answer."
   ]
  },
  {
   "cell_type": "code",
   "execution_count": null,
   "id": "cdccaedf",
   "metadata": {
    "deletable": false,
    "execution": {
     "iopub.execute_input": "2024-11-12T23:55:06.176589Z",
     "iopub.status.busy": "2024-11-12T23:55:06.176353Z",
     "iopub.status.idle": "2024-11-12T23:55:06.179177Z",
     "shell.execute_reply": "2024-11-12T23:55:06.178628Z"
    },
    "tags": []
   },
   "outputs": [],
   "source": [
    "good_regression = ..."
   ]
  },
  {
   "cell_type": "code",
   "execution_count": null,
   "id": "b50739ea",
   "metadata": {
    "deletable": false,
    "editable": false
   },
   "outputs": [],
   "source": [
    "grader.check(\"p2.10\")"
   ]
  },
  {
   "cell_type": "markdown",
   "id": "fce46124",
   "metadata": {
    "deletable": false,
    "editable": false
   },
   "source": [
    "Earlier, you should have found that the correlation is fairly close to 1, so the line fits fairly well on the training data.  That means the residuals are small (close to 0) relative to the waiting times. We can see that visually by plotting the waiting times and residuals together:"
   ]
  },
  {
   "cell_type": "code",
   "execution_count": null,
   "id": "18bc70e8",
   "metadata": {
    "deletable": false,
    "editable": false,
    "execution": {
     "iopub.execute_input": "2024-11-12T23:55:06.187368Z",
     "iopub.status.busy": "2024-11-12T23:55:06.187181Z",
     "iopub.status.idle": "2024-11-12T23:55:06.978350Z",
     "shell.execute_reply": "2024-11-12T23:55:06.977658Z"
    },
    "tags": []
   },
   "outputs": [],
   "source": [
    "with Figure(1,2):\n",
    "    faithful_residuals.scatter(\"duration\", \"wait\", title=\"actual waiting time\", color=\"blue\", ylim=(-20,100))\n",
    "    faithful_residuals.scatter(\"duration\", \"residual\", title=\"residuals\", color=\"red\", ylim=(-20,100))"
   ]
  },
  {
   "cell_type": "markdown",
   "id": "d61ed5db",
   "metadata": {
    "deletable": false,
    "editable": false
   },
   "source": [
    "<hr class=\"m-0\" style=\"border: 3px solid #500082;\"/>\n",
    "\n",
    "# You're Done!\n",
    "Follow these steps to submit your work:\n",
    "* Run the tests and verify that they pass as you expect. \n",
    "* Choose **Save Notebook** from the **File** menu.\n",
    "* **Run the final cell** and click the link below to download the zip file. \n",
    "\n",
    "Once you have downloaded that file, go to [Gradescope](https://www.gradescope.com/) and submit the zip file to \n",
    "the corresponding assignment. For Prelab N, the assignment will be called \"Prelab N Autograder\".\n",
    "\n",
    "Once you have submitted, your Gradescope assignment should show you passing all the tests you passed in your assignment notebook.\n"
   ]
  },
  {
   "cell_type": "markdown",
   "id": "f6a7371e",
   "metadata": {
    "deletable": false,
    "editable": false
   },
   "source": [
    "## Submission\n",
    "\n",
    "Make sure you have run all cells in your notebook in order before running the cell below, so that all images/graphs appear in the output. The cell below will generate a zip file for you to submit. **Please save before exporting!**"
   ]
  },
  {
   "cell_type": "code",
   "execution_count": null,
   "id": "2ba52d49",
   "metadata": {
    "deletable": false,
    "editable": false
   },
   "outputs": [],
   "source": [
    "# Save your notebook first, then run this cell to export your submission.\n",
    "grader.export(pdf=False, run_tests=True)"
   ]
  },
  {
   "cell_type": "markdown",
   "id": "9a8d0a73",
   "metadata": {},
   "source": [
    " "
   ]
  }
 ],
 "metadata": {
  "anaconda-cloud": {},
  "celltoolbar": "Edit Metadata",
  "kernelspec": {
   "display_name": "Python 3 (ipykernel)",
   "language": "python",
   "name": "python3"
  },
  "language_info": {
   "codemirror_mode": {
    "name": "ipython",
    "version": 3
   },
   "file_extension": ".py",
   "mimetype": "text/x-python",
   "name": "python",
   "nbconvert_exporter": "python",
   "pygments_lexer": "ipython3",
   "version": "3.11.0"
  },
  "otter": {
   "OK_FORMAT": true,
   "tests": {
    "p1.1": {
     "has_hidden": false,
     "name": "p1.1",
     "points": 5,
     "suites": [
      {
       "cases": [
        {
         "code": ">>> check_str('zoos in [\\'A\\', \\'B\\', \\'C\\', \\'D\\', \\'E\\', \\'F\\', \\'G\\' ]', locals())\n",
         "failure_message": "answer must be a string 'A', 'B', ..., or 'G'.",
         "hidden": false,
         "locked": false,
         "submit_only": false,
         "success_message": "check(zoos in ['A', 'B', 'C', 'D', 'E', 'F', 'G' ])"
        },
        {
         "code": ">>> check_str('zoos == \\'B\\'', locals())\n",
         "failure_message": "wrong answer -- try again!",
         "hidden": false,
         "locked": false,
         "submit_only": false,
         "success_message": "check(zoos == 'B')"
        }
       ],
       "scored": true,
       "setup": "",
       "teardown": "",
       "type": "doctest"
      }
     ]
    },
    "p1.2": {
     "has_hidden": false,
     "name": "p1.2",
     "points": 5,
     "suites": [
      {
       "cases": [
        {
         "code": ">>> check_str('braking in [\\'A\\', \\'B\\', \\'C\\', \\'D\\', \\'E\\', \\'F\\', \\'G\\' ]', locals())\n",
         "failure_message": "answer must be a string 'A', 'B', ..., or 'G'.",
         "hidden": false,
         "locked": false,
         "submit_only": false,
         "success_message": "check(braking in ['A', 'B', 'C', 'D', 'E', 'F', 'G' ])"
        },
        {
         "code": ">>> check_str('braking == \\'G\\'', locals())\n",
         "failure_message": "wrong answer -- try again!",
         "hidden": false,
         "locked": false,
         "submit_only": false,
         "success_message": "check(braking == 'G')"
        }
       ],
       "scored": true,
       "setup": "",
       "teardown": "",
       "type": "doctest"
      }
     ]
    },
    "p1.3": {
     "has_hidden": false,
     "name": "p1.3",
     "points": 5,
     "suites": [
      {
       "cases": [
        {
         "code": ">>> check_str('voters in [\\'A\\', \\'B\\', \\'C\\', \\'D\\', \\'E\\', \\'F\\', \\'G\\' ]', locals())\n",
         "failure_message": "answer must be a string 'A', 'B', ..., or 'G'.",
         "hidden": false,
         "locked": false,
         "submit_only": false,
         "success_message": "check(voters in ['A', 'B', 'C', 'D', 'E', 'F', 'G' ])"
        },
        {
         "code": ">>> check_str('voters == \\'A\\'', locals())\n",
         "failure_message": "wrong answer -- try again!",
         "hidden": false,
         "locked": false,
         "submit_only": false,
         "success_message": "check(voters == 'A')"
        }
       ],
       "scored": true,
       "setup": "",
       "teardown": "",
       "type": "doctest"
      }
     ]
    },
    "p1.4": {
     "has_hidden": false,
     "name": "p1.4",
     "points": 5,
     "suites": [
      {
       "cases": [
        {
         "code": ">>> check_str('batteries in [\\'A\\', \\'B\\', \\'C\\', \\'D\\', \\'E\\', \\'F\\', \\'G\\' ]', locals())\n",
         "failure_message": "answer must be a string 'A', 'B', ..., or 'G'.",
         "hidden": false,
         "locked": false,
         "submit_only": false,
         "success_message": "check(batteries in ['A', 'B', 'C', 'D', 'E', 'F', 'G' ])"
        },
        {
         "code": ">>> check_str('batteries == \\'E\\'', locals())\n",
         "failure_message": "wrong answer -- try again!",
         "hidden": false,
         "locked": false,
         "submit_only": false,
         "success_message": "check(batteries == 'E')"
        }
       ],
       "scored": true,
       "setup": "",
       "teardown": "",
       "type": "doctest"
      }
     ]
    },
    "p1.5": {
     "has_hidden": false,
     "name": "p1.5",
     "points": 5,
     "suites": [
      {
       "cases": [
        {
         "code": ">>> check_str('teachers in [\\'A\\', \\'B\\', \\'C\\', \\'D\\', \\'E\\', \\'F\\', \\'G\\' ]', locals())\n",
         "failure_message": "answer must be a string 'A', 'B', ..., or 'G'.",
         "hidden": false,
         "locked": false,
         "submit_only": false,
         "success_message": "check(teachers in ['A', 'B', 'C', 'D', 'E', 'F', 'G' ])"
        },
        {
         "code": ">>> check_str('teachers == \\'C\\'', locals())\n",
         "failure_message": "wrong answer -- try again!",
         "hidden": false,
         "locked": false,
         "submit_only": false,
         "success_message": "check(teachers == 'C')"
        }
       ],
       "scored": true,
       "setup": "",
       "teardown": "",
       "type": "doctest"
      }
     ]
    },
    "p1.6": {
     "has_hidden": false,
     "name": "p1.6",
     "points": 5,
     "suites": [
      {
       "cases": [
        {
         "code": ">>> check_str('phones in [\\'A\\', \\'B\\', \\'C\\', \\'D\\', \\'E\\', \\'F\\', \\'G\\' ]', locals())\n",
         "failure_message": "answer must be a string 'A', 'B', ..., or 'G'.",
         "hidden": false,
         "locked": false,
         "submit_only": false,
         "success_message": "check(phones in ['A', 'B', 'C', 'D', 'E', 'F', 'G' ])"
        },
        {
         "code": ">>> check_str('phones == \\'A\\'', locals())\n",
         "failure_message": "wrong answer -- try again!",
         "hidden": false,
         "locked": false,
         "submit_only": false,
         "success_message": "check(phones == 'A')"
        }
       ],
       "scored": true,
       "setup": "",
       "teardown": "",
       "type": "doctest"
      }
     ]
    },
    "p1.7": {
     "has_hidden": false,
     "name": "p1.7",
     "points": 5,
     "suites": [
      {
       "cases": [
        {
         "code": ">>> check_str('locations in [\\'A\\', \\'B\\', \\'C\\', \\'D\\', \\'E\\', \\'F\\', \\'G\\' ]', locals())\n",
         "failure_message": "answer must be a string 'A', 'B', ..., or 'G'.",
         "hidden": false,
         "locked": false,
         "submit_only": false,
         "success_message": "check(locations in ['A', 'B', 'C', 'D', 'E', 'F', 'G' ])"
        },
        {
         "code": ">>> check_str('locations == \\'D\\'', locals())\n",
         "failure_message": "wrong answer -- try again!",
         "hidden": false,
         "locked": false,
         "submit_only": false,
         "success_message": "check(locations == 'D')"
        }
       ],
       "scored": true,
       "setup": "",
       "teardown": "",
       "type": "doctest"
      }
     ]
    },
    "p1.8": {
     "has_hidden": false,
     "name": "p1.8",
     "points": 5,
     "suites": [
      {
       "cases": [
        {
         "code": ">>> check_str('reactions in [\\'A\\', \\'B\\', \\'C\\', \\'D\\', \\'E\\', \\'F\\', \\'G\\' ]', locals())\n",
         "failure_message": "answer must be a string 'A', 'B', ..., or 'G'.",
         "hidden": false,
         "locked": false,
         "submit_only": false,
         "success_message": "check(reactions in ['A', 'B', 'C', 'D', 'E', 'F', 'G' ])"
        },
        {
         "code": ">>> check_str('reactions == \\'F\\'', locals())\n",
         "failure_message": "wrong answer -- try again!",
         "hidden": false,
         "locked": false,
         "submit_only": false,
         "success_message": "check(reactions == 'F')"
        }
       ],
       "scored": true,
       "setup": "",
       "teardown": "",
       "type": "doctest"
      }
     ]
    },
    "p2.1": {
     "has_hidden": false,
     "name": "p2.1",
     "points": 5,
     "suites": [
      {
       "cases": [
        {
         "code": ">>> check_str('plot != ...', locals())\n",
         "failure_message": "check(plot != ...)",
         "hidden": false,
         "locked": false,
         "submit_only": false,
         "success_message": "check(plot != ...)"
        }
       ],
       "scored": true,
       "setup": "",
       "teardown": "",
       "type": "doctest"
      }
     ]
    },
    "p2.10": {
     "has_hidden": false,
     "name": "p2.10",
     "points": 5,
     "suites": [
      {
       "cases": [
        {
         "code": ">>> check_str('good_regression', locals())\n",
         "failure_message": "check(good_regression)",
         "hidden": false,
         "locked": false,
         "submit_only": false,
         "success_message": "check(good_regression)"
        }
       ],
       "scored": true,
       "setup": "",
       "teardown": "",
       "type": "doctest"
      }
     ]
    },
    "p2.2": {
     "has_hidden": false,
     "name": "p2.2",
     "points": 5,
     "suites": [
      {
       "cases": [
        {
         "code": ">>> check_str('correlation in [1, 2, 3]', locals())\n",
         "failure_message": "check(correlation in [1, 2, 3])",
         "hidden": false,
         "locked": false,
         "submit_only": false,
         "success_message": "check(correlation in [1, 2, 3])"
        },
        {
         "code": ">>> check_str('correlation == 1', locals())\n",
         "failure_message": "check(correlation == 1)",
         "hidden": false,
         "locked": false,
         "submit_only": false,
         "success_message": "check(correlation == 1)"
        }
       ],
       "scored": true,
       "setup": "",
       "teardown": "",
       "type": "doctest"
      }
     ]
    },
    "p2.3": {
     "has_hidden": false,
     "name": "p2.3",
     "points": 5,
     "suites": [
      {
       "cases": [
        {
         "code": ">>> check_str('-1 <= r <= 1', locals())\n",
         "failure_message": "check(-1 <= r <= 1)",
         "hidden": false,
         "locked": false,
         "submit_only": false,
         "success_message": "check(-1 <= r <= 1)"
        },
        {
         "code": ">>> check_str('r == approx(0.90, plus_or_minus=0.01)', locals())\n",
         "failure_message": "check(r == approx(0.90, plus_or_minus=0.01))",
         "hidden": false,
         "locked": false,
         "submit_only": false,
         "success_message": "check(r == approx(0.90, plus_or_minus=0.01))"
        }
       ],
       "scored": true,
       "setup": "",
       "teardown": "",
       "type": "doctest"
      }
     ]
    },
    "p2.4": {
     "has_hidden": false,
     "name": "p2.4",
     "points": 5,
     "suites": [
      {
       "cases": [
        {
         "code": ">>> check_str('slope == approx(10.73, plus_or_minus=0.01)', locals())\n",
         "failure_message": "check(slope == approx(10.73, plus_or_minus=0.01))",
         "hidden": false,
         "locked": false,
         "submit_only": false,
         "success_message": "check(slope == approx(10.73, plus_or_minus=0.01))"
        },
        {
         "code": ">>> check_str('intercept == approx(33.47, plus_or_minus=0.01)', locals())\n",
         "failure_message": "check(intercept == approx(33.47, plus_or_minus=0.01))",
         "hidden": false,
         "locked": false,
         "submit_only": false,
         "success_message": "check(intercept == approx(33.47, plus_or_minus=0.01))"
        }
       ],
       "scored": true,
       "setup": "",
       "teardown": "",
       "type": "doctest"
      }
     ]
    },
    "p2.5": {
     "has_hidden": false,
     "name": "p2.5",
     "points": 5,
     "suites": [
      {
       "cases": [
        {
         "code": ">>> check_str('two_minute_predicted_waiting_time == approx(54.93, plus_or_minus=0.01)', locals())\n",
         "failure_message": "check(two_minute_predicted_waiting_time == approx(54.93, plus_or_minus=0.01))",
         "hidden": false,
         "locked": false,
         "submit_only": false,
         "success_message": "check(two_minute_predicted_waiting_time == approx(54.93, plus_or_minus=0.01))"
        },
        {
         "code": ">>> check_str('five_minute_predicted_waiting_time == approx(87.12, plus_or_minus=0.01)', locals())\n",
         "failure_message": "check(five_minute_predicted_waiting_time == approx(87.12, plus_or_minus=0.01))",
         "hidden": false,
         "locked": false,
         "submit_only": false,
         "success_message": "check(five_minute_predicted_waiting_time == approx(87.12, plus_or_minus=0.01))"
        }
       ],
       "scored": true,
       "setup": "",
       "teardown": "",
       "type": "doctest"
      }
     ]
    },
    "p2.6": {
     "has_hidden": false,
     "name": "p2.6",
     "points": 5,
     "suites": [
      {
       "cases": [
        {
         "code": ">>> check_str('30 <= zero_minute_predicted_waiting_time <= 40', locals())\n",
         "failure_message": "check(30 <= zero_minute_predicted_waiting_time <= 40)",
         "hidden": false,
         "locked": false,
         "submit_only": false,
         "success_message": "check(30 <= zero_minute_predicted_waiting_time <= 40)"
        },
        {
         "code": ">>> check_str('55 <= two_point_five_minute_predicted_waiting_time <= 65', locals())\n",
         "failure_message": "check(55 <= two_point_five_minute_predicted_waiting_time <= 65)",
         "hidden": false,
         "locked": false,
         "submit_only": false,
         "success_message": "check(55 <= two_point_five_minute_predicted_waiting_time <= 65)"
        },
        {
         "code": ">>> check_str('600 <= hour_predicted_waiting_time <= 700', locals())\n",
         "failure_message": "check(600 <= hour_predicted_waiting_time <= 700)",
         "hidden": false,
         "locked": false,
         "submit_only": false,
         "success_message": "check(600 <= hour_predicted_waiting_time <= 700)"
        }
       ],
       "scored": true,
       "setup": "",
       "teardown": "",
       "type": "doctest"
      }
     ]
    },
    "p2.7": {
     "has_hidden": false,
     "name": "p2.7",
     "points": 5,
     "suites": [
      {
       "cases": [
        {
         "code": ">>> check_str('predictions == 3', locals())\n",
         "failure_message": "Try again!",
         "hidden": false,
         "locked": false,
         "submit_only": false,
         "success_message": "check(predictions == 3)"
        }
       ],
       "scored": true,
       "setup": "",
       "teardown": "",
       "type": "doctest"
      }
     ]
    },
    "p2.8": {
     "has_hidden": false,
     "name": "p2.8",
     "points": 5,
     "suites": [
      {
       "cases": [
        {
         "code": ">>> check_str('faithful_predictions.labels == (\\'duration\\', \\'wait\\', \\'predicted wait\\')', locals())\n",
         "failure_message": "check(faithful_predictions.labels == ('duration', 'wait', 'predicted wait'))",
         "hidden": false,
         "locked": false,
         "submit_only": false,
         "success_message": "check(faithful_predictions.labels == ('duration', 'wait', 'predicted wait'))"
        },
        {
         "code": ">>> check_str('np.mean(faithful_predictions.column(2)) == approx(70.89706)', locals())\n",
         "failure_message": "check(np.mean(faithful_predictions.column(2)) == approx(70.89706))",
         "hidden": false,
         "locked": false,
         "submit_only": false,
         "success_message": "check(np.mean(faithful_predictions.column(2)) == approx(70.89706))"
        }
       ],
       "scored": true,
       "setup": "",
       "teardown": "",
       "type": "doctest"
      }
     ]
    },
    "p2.9": {
     "has_hidden": false,
     "name": "p2.9",
     "points": 5,
     "suites": [
      {
       "cases": [
        {
         "code": ">>> check_str('faithful_residuals.labels == (\\'duration\\', \\'wait\\', \\'predicted wait\\', \\'residual\\')', locals())\n",
         "failure_message": "check(faithful_residuals.labels == ('duration', 'wait', 'predicted wait', 'residual'))",
         "hidden": false,
         "locked": false,
         "submit_only": false,
         "success_message": "check(faithful_residuals.labels == ('duration', 'wait', 'predicted wait', 'residual'))"
        },
        {
         "code": ">>> check_str('sum(faithful_residuals.column(3)) == approx(1.818e-07)', locals())\n",
         "failure_message": "check(sum(faithful_residuals.column(3)) == approx(1.818e-07))",
         "hidden": false,
         "locked": false,
         "submit_only": false,
         "success_message": "check(sum(faithful_residuals.column(3)) == approx(1.818e-07))"
        }
       ],
       "scored": true,
       "setup": "",
       "teardown": "",
       "type": "doctest"
      }
     ]
    }
   }
  },
  "vscode": {
   "interpreter": {
    "hash": "31f2aee4e71d21fbe5cf8b01ff0e069b9275f58929596ceb00d14d90e3e16cd6"
   }
  }
 },
 "nbformat": 4,
 "nbformat_minor": 5
}
