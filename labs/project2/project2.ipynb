{
 "cells": [
  {
   "cell_type": "code",
   "execution_count": null,
   "id": "c7afd0ed",
   "metadata": {
    "deletable": false,
    "editable": false
   },
   "outputs": [],
   "source": [
    "# Initialize Otter\n",
    "import otter\n",
    "grader = otter.Notebook(\"project2.ipynb\")"
   ]
  },
  {
   "cell_type": "markdown",
   "id": "2aa4adec",
   "metadata": {
    "deletable": false,
    "editable": false
   },
   "source": [
    "<table style=\"width: 100%;\">\n",
    "<tr style=\"background-color: transparent;\">\n",
    "<td width=\"100px\"><img src=\"https://cs104williams.github.io/assets/cs104-logo.png\" width=\"90px\" style=\"text-align: center\"/></td>\n",
    "<td>\n",
    "  <p style=\"margin-bottom: 0px; text-align: left; font-size: 18pt;\"><strong>CSCI 104: Data Science and Computing for All</strong><br>\n",
    "                Williams College<br>\n",
    "                Fall 2024</p>\n",
    "</td>\n",
    "</tr>\n"
   ]
  },
  {
   "cell_type": "markdown",
   "id": "9c81a84b",
   "metadata": {
    "deletable": false,
    "editable": false,
    "tags": []
   },
   "source": [
    "# Final Project"
   ]
  },
  {
   "cell_type": "markdown",
   "id": "bf3ee514",
   "metadata": {
    "deletable": false,
    "editable": false
   },
   "source": [
    "Please see the [Final Project Description](https://www.cs.williams.edu/~cs104/docs/project2.html) for instructions and deadlines.\n",
    "\n",
    "All work should appear in this notebook.  You may add as many additional cells as you like to each part.  Just click the `+` sign in this tab's toolbar to insert a new cell.  Then select \"Markdown\" from the toolbar's popup menu if you want the new cell to be for text, or \"Code\" if you want it to be for Python code.  Markdown cells can include basic formatting and are easily identified because they do not have the brackets `[ ]` in the left margin.  Click on any of our formatted text cells to see how to create lists, bold text, etc., or have a look [here](https://www.markdownguide.org/basic-syntax).\n"
   ]
  },
  {
   "cell_type": "code",
   "execution_count": null,
   "id": "b5c9e4b1",
   "metadata": {
    "deletable": false,
    "editable": false,
    "execution": {
     "iopub.execute_input": "2024-11-01T09:57:25.075979Z",
     "iopub.status.busy": "2024-11-01T09:57:25.075761Z",
     "iopub.status.idle": "2024-11-01T09:57:26.616943Z",
     "shell.execute_reply": "2024-11-01T09:57:26.616246Z"
    },
    "tags": []
   },
   "outputs": [],
   "source": [
    "# Run this cell to set up the notebook.\n",
    "# These lines import the numpy, datascience, and cs104 libraries.\n",
    "\n",
    "import numpy as np\n",
    "from datascience import *\n",
    "from cs104 import *\n",
    "%matplotlib inline"
   ]
  },
  {
   "cell_type": "markdown",
   "id": "f0d4fac7",
   "metadata": {
    "deletable": false,
    "editable": false
   },
   "source": [
    "<hr style=\"margin-bottom: 0px; padding:0; border: 2px solid #500082;\"/>\n"
   ]
  },
  {
   "cell_type": "markdown",
   "id": "ffa0567a",
   "metadata": {
    "deletable": false,
    "editable": false,
    "tags": []
   },
   "source": [
    "## 0. Source of data\n"
   ]
  },
  {
   "cell_type": "markdown",
   "id": "cf0a6838",
   "metadata": {
    "deletable": false,
    "editable": false
   },
   "source": [
    "Please tell us where you found the dataset(s) and what they include in general terms.\n",
    "- Include URLs for where the data was downloaded. \n",
    "- What are the sources for the data? Are these reputable sources? \n",
    "- Can you find who (the names of humans) collected or cleaned the dataset before you downloaded it?\n",
    "\n",
    "If you are having trouble getting started, here are a few places to look for data:\n",
    "* [Google's Dataset Search](https://datasetsearch.research.google.com/)\n",
    "* [Five-Thirty Eight](https://data.fivethirtyeight.com/)\n",
    "* [Data Is Plural](https://docs.google.com/spreadsheets/d/1wZhPLMCHKJvwOkP4juclhjFgqIY8fQFMemwKL2c64vk/edit#gid=0)\n",
    "* [Our World in Data](https://ourworldindata.org/)\n",
    "* [How to Find and Work with Data: Data Sources](https://libguides.williams.edu/c.php?g=1331301&p=9804550) (curated by our Williams data literacy librarian, Regan Schwartz)"
   ]
  },
  {
   "cell_type": "markdown",
   "id": "770c8656",
   "metadata": {
    "deletable": false,
    "editable": true
   },
   "source": [
    "*Write me.*"
   ]
  },
  {
   "cell_type": "markdown",
   "id": "6ae63e0b",
   "metadata": {
    "deletable": false,
    "editable": false
   },
   "source": [
    "<hr style=\"margin-bottom: 0px; padding:0; border: 2px solid #500082;\"/>\n"
   ]
  },
  {
   "cell_type": "markdown",
   "id": "5aff06fa",
   "metadata": {
    "deletable": false,
    "editable": false,
    "tags": []
   },
   "source": [
    "## 1. Quantitative questions\n"
   ]
  },
  {
   "cell_type": "markdown",
   "id": "7001e7b6",
   "metadata": {
    "deletable": false,
    "editable": false
   },
   "source": [
    "Pose at least two quantitative questions about the dataset. "
   ]
  },
  {
   "cell_type": "markdown",
   "id": "b61978be",
   "metadata": {
    "deletable": false,
    "editable": false
   },
   "source": [
    "**Quantiative question 1:**"
   ]
  },
  {
   "cell_type": "markdown",
   "id": "060b84d7",
   "metadata": {
    "deletable": false,
    "editable": true
   },
   "source": [
    "*Write me.*"
   ]
  },
  {
   "cell_type": "markdown",
   "id": "213db9fd",
   "metadata": {
    "deletable": false,
    "editable": false
   },
   "source": [
    "**Quantitative question 2:**"
   ]
  },
  {
   "cell_type": "markdown",
   "id": "15a45eaa",
   "metadata": {
    "deletable": false,
    "editable": true
   },
   "source": [
    "*Write me.*"
   ]
  },
  {
   "cell_type": "markdown",
   "id": "196d72be",
   "metadata": {
    "deletable": false,
    "editable": false
   },
   "source": [
    "<hr style=\"margin-bottom: 0px; padding:0; border: 2px solid #500082;\"/>\n"
   ]
  },
  {
   "cell_type": "markdown",
   "id": "2d96eb40",
   "metadata": {
    "deletable": false,
    "editable": false,
    "tags": []
   },
   "source": [
    "## 2. Data: Loading and Cleaning\n",
    "\n",
    "Be sure to upload your csv files to the project on our server, and to clean your data if there are any missing values or other problems.  \n",
    "\n",
    "We highly encourage you return to Lab 6 and revist how you cleaned data with `tbl.take_clean()`, `tbl.take_messy()`, and `tbl.replace()`. "
   ]
  },
  {
   "cell_type": "code",
   "execution_count": null,
   "id": "c0925509",
   "metadata": {
    "deletable": false,
    "editable": true,
    "execution": {
     "iopub.execute_input": "2024-11-01T09:57:26.620693Z",
     "iopub.status.busy": "2024-11-01T09:57:26.620385Z",
     "iopub.status.idle": "2024-11-01T09:57:26.623167Z",
     "shell.execute_reply": "2024-11-01T09:57:26.622653Z"
    }
   },
   "outputs": [],
   "source": [
    "# code here"
   ]
  },
  {
   "cell_type": "markdown",
   "id": "b2b1c55a",
   "metadata": {
    "deletable": false,
    "editable": false
   },
   "source": [
    "<hr style=\"margin-bottom: 0px; padding:0; border: 2px solid #500082;\"/>\n"
   ]
  },
  {
   "cell_type": "markdown",
   "id": "e81245f3",
   "metadata": {
    "deletable": false,
    "editable": false
   },
   "source": [
    "## 3. Descriptive statistics\n"
   ]
  },
  {
   "cell_type": "markdown",
   "id": "c9e25c08",
   "metadata": {
    "deletable": false,
    "editable": false
   },
   "source": [
    "Use code and text to provide at least three descriptions of the dataset (e.g., number of rows, mean of one of the columns)."
   ]
  },
  {
   "cell_type": "code",
   "execution_count": null,
   "id": "163a606b",
   "metadata": {
    "deletable": false,
    "editable": true,
    "execution": {
     "iopub.execute_input": "2024-11-01T09:57:26.625549Z",
     "iopub.status.busy": "2024-11-01T09:57:26.625386Z",
     "iopub.status.idle": "2024-11-01T09:57:26.627466Z",
     "shell.execute_reply": "2024-11-01T09:57:26.627073Z"
    }
   },
   "outputs": [],
   "source": [
    "# code here"
   ]
  },
  {
   "cell_type": "markdown",
   "id": "ecb0dc0d",
   "metadata": {
    "deletable": false,
    "editable": false
   },
   "source": [
    "<hr style=\"margin-bottom: 0px; padding:0; border: 2px solid #500082;\"/>\n"
   ]
  },
  {
   "cell_type": "markdown",
   "id": "8a2b647a",
   "metadata": {
    "deletable": false,
    "editable": false
   },
   "source": [
    "## 4. Data wrangling\n"
   ]
  },
  {
   "cell_type": "markdown",
   "id": "d888672b",
   "metadata": {
    "deletable": false,
    "editable": false
   },
   "source": [
    "Use at least two Table methods (e.g., `sort`, `where`, `take`, `apply`, `pivot`, `join`, `group`) to do something meaningful with the data. Describes (in full English sentences) what those Table methods are doing."
   ]
  },
  {
   "cell_type": "code",
   "execution_count": null,
   "id": "d228f140",
   "metadata": {
    "deletable": false,
    "editable": true,
    "execution": {
     "iopub.execute_input": "2024-11-01T09:57:26.629772Z",
     "iopub.status.busy": "2024-11-01T09:57:26.629606Z",
     "iopub.status.idle": "2024-11-01T09:57:26.631891Z",
     "shell.execute_reply": "2024-11-01T09:57:26.631484Z"
    }
   },
   "outputs": [],
   "source": [
    "# code here"
   ]
  },
  {
   "cell_type": "markdown",
   "id": "078e50d4",
   "metadata": {
    "deletable": false,
    "editable": false
   },
   "source": [
    "<hr style=\"margin-bottom: 0px; padding:0; border: 2px solid #500082;\"/>\n"
   ]
  },
  {
   "cell_type": "markdown",
   "id": "41a2564f",
   "metadata": {
    "deletable": false,
    "editable": false
   },
   "source": [
    "## 5. Visualizations\n"
   ]
  },
  {
   "cell_type": "markdown",
   "id": "cec9c411",
   "metadata": {
    "deletable": false,
    "editable": false
   },
   "source": [
    "Create at least two visualizations of the dataset (e.g., a scatter and line plot, or two histograms). Describs (using full English sentences) any interesting findings from the visualizations."
   ]
  },
  {
   "cell_type": "code",
   "execution_count": null,
   "id": "25412992",
   "metadata": {
    "deletable": false,
    "editable": true,
    "execution": {
     "iopub.execute_input": "2024-11-01T09:57:26.634177Z",
     "iopub.status.busy": "2024-11-01T09:57:26.634008Z",
     "iopub.status.idle": "2024-11-01T09:57:26.636166Z",
     "shell.execute_reply": "2024-11-01T09:57:26.635747Z"
    }
   },
   "outputs": [],
   "source": [
    "# code here"
   ]
  },
  {
   "cell_type": "code",
   "execution_count": null,
   "id": "204a0fd3",
   "metadata": {
    "deletable": false,
    "editable": true,
    "execution": {
     "iopub.execute_input": "2024-11-01T09:57:26.638295Z",
     "iopub.status.busy": "2024-11-01T09:57:26.638124Z",
     "iopub.status.idle": "2024-11-01T09:57:26.640245Z",
     "shell.execute_reply": "2024-11-01T09:57:26.639821Z"
    }
   },
   "outputs": [],
   "source": [
    "# code here"
   ]
  },
  {
   "cell_type": "markdown",
   "id": "c2b325bd",
   "metadata": {
    "deletable": false,
    "editable": false
   },
   "source": [
    "<hr style=\"margin-bottom: 0px; padding:0; border: 2px solid #500082;\"/>\n"
   ]
  },
  {
   "cell_type": "markdown",
   "id": "541e2290",
   "metadata": {
    "deletable": false,
    "editable": false
   },
   "source": [
    "## 6. Statistical Inference\n",
    "\n",
    "Correctly complete at least two statistical inference procedures (e.g., a hypothesis test and a bootstrap confidence interval; or two association). Discuss (in full English sentences) the implications of the statistical inference procedures.\n",
    "\n",
    "Categories: \n",
    "- Hypothesis tests\n",
    "- Estimation (e.g., confidence intervals via bootstrapping) \n",
    "- Association (e.g., correlation or a linear regression line fit from a scatter plot) "
   ]
  },
  {
   "cell_type": "code",
   "execution_count": null,
   "id": "d5f2121b",
   "metadata": {
    "deletable": false,
    "editable": true,
    "execution": {
     "iopub.execute_input": "2024-11-01T09:57:26.642600Z",
     "iopub.status.busy": "2024-11-01T09:57:26.642434Z",
     "iopub.status.idle": "2024-11-01T09:57:26.644901Z",
     "shell.execute_reply": "2024-11-01T09:57:26.644453Z"
    }
   },
   "outputs": [],
   "source": [
    "# code here"
   ]
  },
  {
   "cell_type": "markdown",
   "id": "1388ea5f",
   "metadata": {
    "deletable": false,
    "editable": false
   },
   "source": [
    "<hr style=\"margin-bottom: 0px; padding:0; border: 2px solid #500082;\"/>\n"
   ]
  },
  {
   "cell_type": "markdown",
   "id": "c215ebfb",
   "metadata": {
    "deletable": false,
    "editable": false
   },
   "source": [
    "## 8. * Additional work\n"
   ]
  },
  {
   "cell_type": "markdown",
   "id": "78ebf189",
   "metadata": {
    "deletable": false,
    "editable": false
   },
   "source": [
    "Use the cells below to add any additional work that supports exploring your data or answering quantitative questions. \n",
    "\n",
    "**Mastery and creativity.** A truly masterful data science project will go above and beyond the minimum requirements and creatively incorporate the concepts we have learned and practiced in this class. Feel free to go beyond the scope of what we have learned in this class if you have completed all other requirements."
   ]
  },
  {
   "cell_type": "code",
   "execution_count": null,
   "id": "9f321df1",
   "metadata": {
    "deletable": false,
    "editable": true,
    "execution": {
     "iopub.execute_input": "2024-11-01T09:57:26.648049Z",
     "iopub.status.busy": "2024-11-01T09:57:26.647800Z",
     "iopub.status.idle": "2024-11-01T09:57:26.650391Z",
     "shell.execute_reply": "2024-11-01T09:57:26.649737Z"
    }
   },
   "outputs": [],
   "source": [
    "# code here"
   ]
  },
  {
   "cell_type": "markdown",
   "id": "36b2325a",
   "metadata": {
    "deletable": false,
    "editable": false
   },
   "source": [
    "<hr style=\"margin-bottom: 0px; padding:0; border: 2px solid #500082;\"/>\n"
   ]
  },
  {
   "cell_type": "markdown",
   "id": "fdc17d9b",
   "metadata": {
    "deletable": false,
    "editable": false
   },
   "source": [
    "## 7. Ethics\n"
   ]
  },
  {
   "cell_type": "markdown",
   "id": "9b555545",
   "metadata": {
    "deletable": false,
    "editable": false
   },
   "source": [
    "Discuss (in full English sentences) at least one possible ethical consideration of using the dataset or doing analysis of the dataset (e.g., the potential harms of using the data from a Consequentialist or Deontologist perspective)."
   ]
  },
  {
   "cell_type": "markdown",
   "id": "0ecde7ed",
   "metadata": {
    "deletable": false,
    "editable": true
   },
   "source": [
    "*Write me.*"
   ]
  },
  {
   "cell_type": "markdown",
   "id": "4a110e4c",
   "metadata": {
    "deletable": false,
    "editable": false
   },
   "source": [
    "<hr style=\"margin-bottom: 0px; padding:0; border: 2px solid #500082;\"/>\n"
   ]
  },
  {
   "cell_type": "markdown",
   "id": "b84a41d7",
   "metadata": {
    "deletable": false,
    "editable": false
   },
   "source": [
    "## 8. Conclusions\n"
   ]
  },
  {
   "cell_type": "markdown",
   "id": "5b2d4c93",
   "metadata": {
    "deletable": false,
    "editable": false
   },
   "source": [
    "Describe (in full English sentences) what has been learned and address the original quantitative questions."
   ]
  },
  {
   "cell_type": "markdown",
   "id": "1cb0839c",
   "metadata": {
    "deletable": false,
    "editable": true
   },
   "source": [
    "*Write me.*"
   ]
  },
  {
   "cell_type": "markdown",
   "id": "c6af0bd1",
   "metadata": {
    "deletable": false,
    "editable": false
   },
   "source": [
    "# You're Done!"
   ]
  },
  {
   "cell_type": "markdown",
   "id": "7765c64a",
   "metadata": {
    "deletable": false,
    "editable": false
   },
   "source": [
    "**Important submission information:** Follow these steps to submit your work:\n",
    "* Choose **Save Notebook** from the **File** menu.\n",
    "* **Run the final cell** and click the link below to download the zip file. \n",
    "\n",
    "Once you have downloaded that file, go to [Gradescope](https://www.gradescope.com/) and submit the zip file to the corresponding assignment. The name of this assignment is \"Final Project\". **Be sure your work is saved before running the last cell!**"
   ]
  },
  {
   "cell_type": "code",
   "execution_count": null,
   "id": "c0d43af4",
   "metadata": {
    "deletable": false,
    "editable": false,
    "execution": {
     "iopub.execute_input": "2024-11-01T09:57:26.653252Z",
     "iopub.status.busy": "2024-11-01T09:57:26.653068Z",
     "iopub.status.idle": "2024-11-01T09:57:26.903921Z",
     "shell.execute_reply": "2024-11-01T09:57:26.903454Z"
    }
   },
   "outputs": [],
   "source": [
    "# Save your notebook first, then run this cell to export your submission.\n",
    "import glob \n",
    "grader.export(pdf=False,files=glob.glob(\"*.csv\") + glob.glob(\"*.ipynb\") + glob.glob(\"*.py\"))"
   ]
  }
 ],
 "metadata": {
  "kernelspec": {
   "display_name": "Python 3 (ipykernel)",
   "language": "python",
   "name": "python3"
  },
  "language_info": {
   "codemirror_mode": {
    "name": "ipython",
    "version": 3
   },
   "file_extension": ".py",
   "mimetype": "text/x-python",
   "name": "python",
   "nbconvert_exporter": "python",
   "pygments_lexer": "ipython3",
   "version": "3.11.0"
  },
  "otter": {
   "OK_FORMAT": true,
   "tests": {}
  },
  "vscode": {
   "interpreter": {
    "hash": "e9a7af6fc709cc25e111b0d6e28f738a78907138b7e48b682edcf6dfb7dc8bee"
   }
  }
 },
 "nbformat": 4,
 "nbformat_minor": 5
}
