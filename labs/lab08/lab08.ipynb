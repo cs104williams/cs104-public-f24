{
 "cells": [
  {
   "cell_type": "code",
   "execution_count": null,
   "id": "4342cd06",
   "metadata": {
    "deletable": false,
    "editable": false
   },
   "outputs": [],
   "source": [
    "# Initialize Otter\n",
    "import otter\n",
    "grader = otter.Notebook(\"lab08.ipynb\")"
   ]
  },
  {
   "cell_type": "markdown",
   "id": "3fd6b29c",
   "metadata": {
    "deletable": false,
    "editable": false
   },
   "source": [
    "<table style=\"width: 100%;\">\n",
    "<tr style=\"background-color: transparent;\">\n",
    "<td width=\"100px\"><img src=\"https://cs104williams.github.io/assets/cs104-logo.png\" width=\"90px\" style=\"text-align: center\"/></td>\n",
    "<td>\n",
    "  <p style=\"margin-bottom: 0px; text-align: left; font-size: 18pt;\"><strong>CSCI 104: Data Science and Computing for All</strong><br>\n",
    "                Williams College<br>\n",
    "                Fall 2024</p>\n",
    "</td>\n",
    "</tr>\n"
   ]
  },
  {
   "cell_type": "markdown",
   "id": "e71e4fda",
   "metadata": {
    "deletable": false,
    "editable": false,
    "tags": []
   },
   "source": [
    "# Lab 8: Estimation and Confidence Intervals"
   ]
  },
  {
   "cell_type": "markdown",
   "id": "7f3d7ce3",
   "metadata": {
    "deletable": false,
    "editable": false
   },
   "source": [
    "<hr style=\"margin: 0px; border: 3px solid #500082;\"/>\n",
    "\n",
    "<h2>Instructions</h2>\n",
    "\n",
    "- Before you begin, execute the cell at the TOP of the notebook to load the provided tests, as well as the following cell to setup the notebook by importing some helpful libraries. Each time you start your server, you will need to execute these cells again.  \n",
    "- Be sure to consult your [Python Reference](https://cs104williams.github.io/assets/python-library-ref.html)!\n",
    "- Complete this notebook by filling in the cells provided. For problems asking you to write explanations, you **must** provide your answer in the designated space. \n",
    "- Please be sure to not re-assign variables throughout the notebook.  For example, if you use `max_temperature` in your answer to one question, do not reassign it later on. Otherwise, you will fail tests that you thought you were passing previously.\n",
    "- This lab has hidden tests on it. That means even though tests may say 100% passed, doesn't mean your final grade will be 100%. We will be running more tests for correctness once everyone turns in the lab.\n",
    "- To use one or more late days on this lab, please fill out our [late day form](https://forms.gle/4sD16h3hN1xRqQM27) **before** the due date.\n",
    "\n",
    "<hr/>\n",
    "<h2>Setup</h2>\n"
   ]
  },
  {
   "cell_type": "code",
   "execution_count": null,
   "id": "ac6e2176",
   "metadata": {
    "deletable": false,
    "editable": false,
    "execution": {
     "iopub.execute_input": "2024-11-10T20:54:20.948910Z",
     "iopub.status.busy": "2024-11-10T20:54:20.948532Z",
     "iopub.status.idle": "2024-11-10T20:54:22.209454Z",
     "shell.execute_reply": "2024-11-10T20:54:22.209151Z"
    },
    "tags": []
   },
   "outputs": [],
   "source": [
    "# Run this cell to set up the notebook.\n",
    "# These lines import the numpy, datascience, and cs104 libraries.\n",
    "\n",
    "import numpy as np\n",
    "from datascience import *\n",
    "from cs104 import *\n",
    "%matplotlib inline"
   ]
  },
  {
   "cell_type": "markdown",
   "id": "935b0b83",
   "metadata": {
    "deletable": false,
    "editable": false
   },
   "source": [
    "<hr style=\"margin-bottom: 0px; padding:0; border: 2px solid #500082;\"/>\n"
   ]
  },
  {
   "cell_type": "markdown",
   "id": "998ea7dc",
   "metadata": {
    "deletable": false,
    "editable": false
   },
   "source": [
    "## 1. Warm-Up and Bootstrapping (25 pts)\n",
    "\n"
   ]
  },
  {
   "cell_type": "markdown",
   "id": "55ca0ec6",
   "metadata": {
    "deletable": false,
    "editable": false
   },
   "source": [
    "<font color='#B1008E'>\n",
    "    \n",
    "##### Learning objectives\n",
    "- Practice gathering outcomes of a simulation in an array.\n",
    "- Implement a function for bootstrapping.\n",
    "\n",
    "</font>"
   ]
  },
  {
   "cell_type": "markdown",
   "id": "52f44984",
   "metadata": {
    "deletable": false,
    "editable": false
   },
   "source": [
    "#### Part 1.1 Review loops to gather outcomes in an array (5 pts)\n"
   ]
  },
  {
   "cell_type": "markdown",
   "id": "fa43372f",
   "metadata": {
    "deletable": false,
    "editable": false
   },
   "source": [
    "Let's revisit one of our central computation tools from the second half of the semester: *simulation loops to gather an array of outcomes*.  \n",
    "\n",
    "Here's the basic structure of these loops: \n",
    "- Initalize an empty array that collects results.\n",
    "- Then within a for-loop, \"do something\" many times and add the result to the array."
   ]
  },
  {
   "cell_type": "markdown",
   "id": "5326886e",
   "metadata": {
    "deletable": false,
    "editable": false
   },
   "source": [
    "For this problem, you will implement the \"do something\" step as randomly choosing one integer from an array of four integers: 1, 2, 3, 4. \n",
    "\n",
    "Below, write a line that implements this. *Hint*: You should use the `numpy (np)` library for this. "
   ]
  },
  {
   "cell_type": "code",
   "execution_count": null,
   "id": "a3db5ddc",
   "metadata": {
    "deletable": false,
    "execution": {
     "iopub.execute_input": "2024-11-10T20:54:22.211548Z",
     "iopub.status.busy": "2024-11-10T20:54:22.211385Z",
     "iopub.status.idle": "2024-11-10T20:54:22.216804Z",
     "shell.execute_reply": "2024-11-10T20:54:22.216516Z"
    },
    "tags": []
   },
   "outputs": [],
   "source": [
    "integer_array = make_array(1, 2, 3, 4)\n",
    "choice = ...\n",
    "choice"
   ]
  },
  {
   "cell_type": "markdown",
   "id": "5fbba8b0",
   "metadata": {
    "deletable": false,
    "editable": false
   },
   "source": [
    "Now let's write a simulation loop to repeat 1000 times: randomly choosing from integers 1, 2, 3, 4 and saving these results in an array. \n",
    "\n",
    "*Note:* Do *not* call `simulate` here -- write the loop from scratch."
   ]
  },
  {
   "cell_type": "code",
   "execution_count": null,
   "id": "c4a59829",
   "metadata": {
    "deletable": false,
    "execution": {
     "iopub.execute_input": "2024-11-10T20:54:22.221685Z",
     "iopub.status.busy": "2024-11-10T20:54:22.221584Z",
     "iopub.status.idle": "2024-11-10T20:54:22.232854Z",
     "shell.execute_reply": "2024-11-10T20:54:22.232600Z"
    },
    "tags": []
   },
   "outputs": [],
   "source": [
    "results = ...\n",
    "for i in np.arange(...):\n",
    "    choice = ...\n",
    "    results = ... \n",
    "\n",
    "\n",
    "print(\"Num trials=\", len(results))"
   ]
  },
  {
   "cell_type": "code",
   "execution_count": null,
   "id": "ad019c8f",
   "metadata": {
    "deletable": false,
    "editable": false
   },
   "outputs": [],
   "source": [
    "grader.check(\"p1.1\")"
   ]
  },
  {
   "cell_type": "markdown",
   "id": "89323c2c",
   "metadata": {
    "deletable": false,
    "editable": false
   },
   "source": [
    "#### Part 1.2 Bootstrapping (5 pts)\n"
   ]
  },
  {
   "cell_type": "markdown",
   "id": "da4f8627",
   "metadata": {
    "deletable": false,
    "editable": false
   },
   "source": [
    "Bootstrapping uses the same loop idiom as above. However, for boostrapping, the \"do something\" consists of two steps: \n",
    "\n",
    "- **Step 1**: Resample with replacement from the original data. The resample should have the same sample size as the original data. \n",
    "- **Step 2**: Calculate the statistic of interest on the resample. "
   ]
  },
  {
   "cell_type": "markdown",
   "id": "5887a77d",
   "metadata": {
    "deletable": false,
    "editable": false
   },
   "source": [
    "For **Step 1**, we will use the `np.random.choice` function again."
   ]
  },
  {
   "cell_type": "code",
   "execution_count": null,
   "id": "b67caed1",
   "metadata": {
    "deletable": false,
    "editable": false,
    "execution": {
     "iopub.execute_input": "2024-11-10T20:54:22.240981Z",
     "iopub.status.busy": "2024-11-10T20:54:22.240901Z",
     "iopub.status.idle": "2024-11-10T20:54:22.243057Z",
     "shell.execute_reply": "2024-11-10T20:54:22.242844Z"
    },
    "tags": []
   },
   "outputs": [],
   "source": [
    "# Run this cell \n",
    "# This is the \"original sample\"\n",
    "original_sample = make_array(1, 2, 3, 4, 5)\n",
    "original_sample"
   ]
  },
  {
   "cell_type": "code",
   "execution_count": null,
   "id": "c1f6db1f",
   "metadata": {
    "deletable": false,
    "editable": false,
    "execution": {
     "iopub.execute_input": "2024-11-10T20:54:22.244455Z",
     "iopub.status.busy": "2024-11-10T20:54:22.244355Z",
     "iopub.status.idle": "2024-11-10T20:54:22.246614Z",
     "shell.execute_reply": "2024-11-10T20:54:22.246348Z"
    },
    "tags": []
   },
   "outputs": [],
   "source": [
    "# This is the command to 'sample with replacement' \n",
    "# Run this cell many times to get different results\n",
    "resample = np.random.choice(original_sample, 5)\n",
    "resample"
   ]
  },
  {
   "cell_type": "markdown",
   "id": "0d310a05",
   "metadata": {
    "deletable": false,
    "editable": false
   },
   "source": [
    "Now, let's write code to test our code! \n",
    "\n",
    "Write a `check` to make sure that our requirement for bootstrapping is satisified: that the length of the `resample` array is the same as the `original_sample`. "
   ]
  },
  {
   "cell_type": "code",
   "execution_count": null,
   "id": "cd967a1d",
   "metadata": {
    "deletable": false,
    "execution": {
     "iopub.execute_input": "2024-11-10T20:54:22.248026Z",
     "iopub.status.busy": "2024-11-10T20:54:22.247953Z",
     "iopub.status.idle": "2024-11-10T20:54:22.249734Z",
     "shell.execute_reply": "2024-11-10T20:54:22.249533Z"
    },
    "tags": []
   },
   "outputs": [],
   "source": [
    "..."
   ]
  },
  {
   "cell_type": "markdown",
   "id": "279b6227",
   "metadata": {
    "deletable": false,
    "editable": false
   },
   "source": [
    "For **Step 2**, calculating the statistic of interest, we need a function that computes the statistic. In this case, we could also just use `np.mean` function directly.  However, since you'll need to write new need to write new statistics functions below, we'll make create a new function `sample_mean` that we'll use to compute our statistic of interest.)"
   ]
  },
  {
   "cell_type": "code",
   "execution_count": null,
   "id": "5d2ed7ec",
   "metadata": {
    "deletable": false,
    "editable": false,
    "execution": {
     "iopub.execute_input": "2024-11-10T20:54:22.251237Z",
     "iopub.status.busy": "2024-11-10T20:54:22.251164Z",
     "iopub.status.idle": "2024-11-10T20:54:22.252962Z",
     "shell.execute_reply": "2024-11-10T20:54:22.252732Z"
    },
    "tags": []
   },
   "outputs": [],
   "source": [
    "def sample_mean(sample_data):\n",
    "    return np.mean(sample_data)\n",
    "\n",
    "check(sample_mean(original_sample) == 3)"
   ]
  },
  {
   "cell_type": "markdown",
   "id": "39d4e669",
   "metadata": {
    "deletable": false,
    "editable": false
   },
   "source": [
    "Now, let's put it together! Complete the function below for bootstrapping. This should combine our loop idiom for gathering results into an array with the two steps we outlined above.  \n",
    "\n",
    "You will find it **very** useful to review our bootstrapping lecture's [notebook](https://www.cs.williams.edu/~cs104/lectures/24-bootstrapping.html)."
   ]
  },
  {
   "cell_type": "code",
   "execution_count": null,
   "id": "cee9f088",
   "metadata": {
    "deletable": false,
    "execution": {
     "iopub.execute_input": "2024-11-10T20:54:22.254404Z",
     "iopub.status.busy": "2024-11-10T20:54:22.254321Z",
     "iopub.status.idle": "2024-11-10T20:54:22.257713Z",
     "shell.execute_reply": "2024-11-10T20:54:22.257455Z"
    },
    "tags": []
   },
   "outputs": [],
   "source": [
    "def bootstrap_statistic(observed_sample, compute_statistic, num_trials): \n",
    "    \"\"\"\n",
    "    Creates num_trials resamples of the initial sample.\n",
    "    Returns an array of the provided statistic for those samples.\n",
    "\n",
    "    * observed_sample: the initial sample, as an array.\n",
    "    \n",
    "    * compute_statistic: a function that takes a sample as \n",
    "                         an array and returns the statistic for that\n",
    "                         sample. \n",
    "    \n",
    "    * num_trials: the number of bootstrap samples to create.\n",
    "\n",
    "    \"\"\"\n",
    "    bootstrap_statistics = ...\n",
    "    \n",
    "    for i in np.arange(...):\n",
    "        simulated_resample = ...\n",
    "        resample_statistic = ...\n",
    "        bootstrap_statistics = np.append(bootstrap_statistics, ...)\n",
    "\n",
    "    return bootstrap_statistics\n",
    "    \n",
    "\n",
    "# Run a small bootstrap and verify the results are reasonable.\n",
    "tiny_bootstrapped_statistics = bootstrap_statistic(original_sample, sample_mean, 5)\n",
    "tiny_bootstrapped_statistics"
   ]
  },
  {
   "cell_type": "code",
   "execution_count": null,
   "id": "539d6d47",
   "metadata": {
    "deletable": false,
    "editable": false
   },
   "outputs": [],
   "source": [
    "grader.check(\"p1.2\")"
   ]
  },
  {
   "cell_type": "markdown",
   "id": "7b0c5998",
   "metadata": {
    "deletable": false,
    "editable": false,
    "tags": []
   },
   "source": [
    "#### Part 1.3 A bigger bootstrap (5 pts)\n"
   ]
  },
  {
   "cell_type": "markdown",
   "id": "f220295e",
   "metadata": {
    "deletable": false,
    "editable": false
   },
   "source": [
    "We'll now run a much larger bootstrap on the same sample."
   ]
  },
  {
   "cell_type": "code",
   "execution_count": null,
   "id": "2f487f96",
   "metadata": {
    "deletable": false,
    "editable": false,
    "execution": {
     "iopub.execute_input": "2024-11-10T20:54:22.268493Z",
     "iopub.status.busy": "2024-11-10T20:54:22.268397Z",
     "iopub.status.idle": "2024-11-10T20:54:22.397123Z",
     "shell.execute_reply": "2024-11-10T20:54:22.396819Z"
    },
    "tags": []
   },
   "outputs": [],
   "source": [
    "bootstrapped_statistics = bootstrap_statistic(original_sample, sample_mean, 2000)\n",
    "results = Table().with_column('Bootstrap Samples Mean', bootstrapped_statistics)\n",
    "plot = results.hist()\n",
    "original_statistic = sample_mean(original_sample)\n",
    "plot.dot(original_statistic)"
   ]
  },
  {
   "cell_type": "markdown",
   "id": "28c14223",
   "metadata": {
    "deletable": false,
    "editable": false,
    "tags": []
   },
   "source": [
    "Here are a couple checks to ensure it is working properly."
   ]
  },
  {
   "cell_type": "code",
   "execution_count": null,
   "id": "e732a9bf",
   "metadata": {
    "deletable": false,
    "editable": false
   },
   "outputs": [],
   "source": [
    "grader.check(\"p1.3\")"
   ]
  },
  {
   "cell_type": "markdown",
   "id": "e09a5d38",
   "metadata": {
    "deletable": false,
    "editable": false
   },
   "source": [
    "<!-- BEGIN QUESTION -->\n",
    "\n",
    "#### Part 1.4 Interpreting the results (5 pts)\n"
   ]
  },
  {
   "cell_type": "markdown",
   "id": "3ad6a920",
   "metadata": {
    "deletable": false,
    "editable": false
   },
   "source": [
    "If you implemented bootstrapping correctly, you should see the sample mean (the red dot) at the center of your boostrap empirical distribution (the blue histogram). \n",
    "\n",
    "Why is the bootstrap distribution *centered* around the sample mean? "
   ]
  },
  {
   "cell_type": "markdown",
   "id": "35889a46",
   "metadata": {
    "deletable": false,
    "editable": false
   },
   "source": [
    "<hr style=\"margin:0; border: 1px solid #FFBE0A;\"/><font color='#FFBE0A'>Written Answer:</font>"
   ]
  },
  {
   "cell_type": "markdown",
   "id": "6fb15763",
   "metadata": {
    "deletable": false
   },
   "source": [
    "_Type your answer here, replacing this text._\n"
   ]
  },
  {
   "cell_type": "markdown",
   "id": "7b6592cd",
   "metadata": {
    "deletable": false,
    "editable": false
   },
   "source": [
    "<hr style=\"margin:0; border: 1px solid #FFBE0A;\"/>"
   ]
  },
  {
   "cell_type": "markdown",
   "id": "04bcbf49",
   "metadata": {
    "deletable": false,
    "editable": false,
    "tags": []
   },
   "source": [
    "<!-- END QUESTION -->\n",
    "\n",
    "#### Part 1.5 One More Bootstrap... (5 pts)\n"
   ]
  },
  {
   "cell_type": "markdown",
   "id": "a494794b",
   "metadata": {
    "deletable": false,
    "editable": false
   },
   "source": [
    "Just to ensure that your bootstrap function is defined properly and will work on other problems, we'll do one more quick bootstrap operation here. \n",
    "This time, we'll start with a sample of Williams students for whom we've recorded whether they are left-handed (1) or right-handed (0) in the following array:"
   ]
  },
  {
   "cell_type": "code",
   "execution_count": null,
   "id": "09e0a606",
   "metadata": {
    "deletable": false,
    "editable": false,
    "execution": {
     "iopub.execute_input": "2024-11-10T20:54:22.406143Z",
     "iopub.status.busy": "2024-11-10T20:54:22.406043Z",
     "iopub.status.idle": "2024-11-10T20:54:22.407992Z",
     "shell.execute_reply": "2024-11-10T20:54:22.407764Z"
    },
    "tags": []
   },
   "outputs": [],
   "source": [
    "left_handed = make_array(0, 0, 1, 0, 0, 0, 0, 0, 0, 1, 0, 0, 0, 0, 0, 1, 0, 0, 0, 0, 0, 0, 0, 1, 0, 0, 0, 0, 0, 0)"
   ]
  },
  {
   "cell_type": "markdown",
   "id": "98e9a6ca",
   "metadata": {
    "deletable": false,
    "editable": false
   },
   "source": [
    "Given our encoding of the data, the proportion of left-handed students in this sample is just the mean."
   ]
  },
  {
   "cell_type": "code",
   "execution_count": null,
   "id": "43d5ac40",
   "metadata": {
    "deletable": false,
    "editable": false,
    "execution": {
     "iopub.execute_input": "2024-11-10T20:54:22.409417Z",
     "iopub.status.busy": "2024-11-10T20:54:22.409317Z",
     "iopub.status.idle": "2024-11-10T20:54:22.411539Z",
     "shell.execute_reply": "2024-11-10T20:54:22.411301Z"
    },
    "tags": []
   },
   "outputs": [],
   "source": [
    "original_left_handed_prop = sample_mean(left_handed)\n",
    "original_left_handed_prop"
   ]
  },
  {
   "cell_type": "markdown",
   "id": "97052e13",
   "metadata": {
    "deletable": false,
    "editable": false
   },
   "source": [
    "We'll now use bootstrapping to construct a histogram showing the proportion of left-handed students in resamples of this sample.  The red dot again shows the statistic (proportion of left-handed students) for the original sample."
   ]
  },
  {
   "cell_type": "code",
   "execution_count": null,
   "id": "5c360857",
   "metadata": {
    "deletable": false,
    "editable": false,
    "execution": {
     "iopub.execute_input": "2024-11-10T20:54:22.413110Z",
     "iopub.status.busy": "2024-11-10T20:54:22.412999Z",
     "iopub.status.idle": "2024-11-10T20:54:22.582418Z",
     "shell.execute_reply": "2024-11-10T20:54:22.582151Z"
    },
    "tags": []
   },
   "outputs": [],
   "source": [
    "bootstrapped_left_handed_statistics = bootstrap_statistic(left_handed, sample_mean, 5000)\n",
    "results = Table().with_column('Bootstrap Samples Mean', bootstrapped_left_handed_statistics)\n",
    "plot = results.hist()\n",
    "plot.dot(original_left_handed_prop)"
   ]
  },
  {
   "cell_type": "markdown",
   "id": "f4f1a411",
   "metadata": {
    "deletable": false,
    "editable": false
   },
   "source": [
    "Here is the mean of our resample statistics.  As above, it should be very close to the mean of the original sample statistic."
   ]
  },
  {
   "cell_type": "code",
   "execution_count": null,
   "id": "3ab7e907",
   "metadata": {
    "deletable": false,
    "editable": false,
    "execution": {
     "iopub.execute_input": "2024-11-10T20:54:22.584059Z",
     "iopub.status.busy": "2024-11-10T20:54:22.583944Z",
     "iopub.status.idle": "2024-11-10T20:54:22.586304Z",
     "shell.execute_reply": "2024-11-10T20:54:22.586037Z"
    },
    "tags": []
   },
   "outputs": [],
   "source": [
    "np.mean(bootstrapped_left_handed_statistics)"
   ]
  },
  {
   "cell_type": "markdown",
   "id": "b2fd29f9",
   "metadata": {
    "deletable": false,
    "editable": false,
    "tags": []
   },
   "source": [
    "The following checks should verify this for you.  If the checks fail, there is likely an error in your `bootstrap_statistic` and you should double check the steps of that function."
   ]
  },
  {
   "cell_type": "code",
   "execution_count": null,
   "id": "f3f160df",
   "metadata": {
    "deletable": false,
    "editable": false
   },
   "outputs": [],
   "source": [
    "grader.check(\"p1.5\")"
   ]
  },
  {
   "cell_type": "markdown",
   "id": "037d69eb",
   "metadata": {
    "deletable": false,
    "editable": false
   },
   "source": [
    "<hr style=\"margin-bottom: 0px; padding:0; border: 2px solid #500082;\"/>\n"
   ]
  },
  {
   "cell_type": "markdown",
   "id": "07774fee",
   "metadata": {
    "deletable": false,
    "editable": false
   },
   "source": [
    "## 2. Spring Street Restaurants (45 pts)\n",
    "\n"
   ]
  },
  {
   "cell_type": "markdown",
   "id": "b48794c7",
   "metadata": {
    "deletable": false,
    "editable": false
   },
   "source": [
    "<font color='#B1008E'>\n",
    "    \n",
    "##### Learning objectives\n",
    "- Use bootstrapping to estimate confidence intervals for a data sample. \n",
    "    \n",
    "</font>"
   ]
  },
  {
   "cell_type": "markdown",
   "id": "04396cf9",
   "metadata": {
    "deletable": false,
    "editable": false
   },
   "source": [
    "Our goal is to estimate the \"most popular\" Williamstown restaurant on Spring Street. \n",
    "\n",
    "We surveyed 1,500 Williams students, faculty, and community members selected uniformly at random and asked each person which of the following four restaurants is the best. (*Note: This data is entirely fabricated for the purposes of this homework -- we actually love eating at all these restaurants!*) The choices of restaurants are Pera, Blue Mango, Spring St. Market, and Taste of India. After compiling the results, we release the following percentages from their sample:\n",
    "\n",
    "| Restaurant  | Percentage|\n",
    "|:------------ |:------------:|\n",
    "|Pera | 8.2% |\n",
    "|Blue Mango | 52.8% |\n",
    "|Spring St. Market | 25% |\n",
    "|Taste of India | 14% |\n",
    "\n",
    "Now, we will attempt to estimate the corresponding *parameters*, or the percentage of the votes that each restaurant would receive if we asked every member of the population (i.e. all Williams students, faculty, and community members). We will use confidence intervals to compute a range of values that reflects the uncertainty of our estimates.\n",
    "\n",
    "The array `observed_votes` contains the results of this survey. "
   ]
  },
  {
   "cell_type": "code",
   "execution_count": null,
   "id": "f52a8b3e",
   "metadata": {
    "deletable": false,
    "editable": false,
    "execution": {
     "iopub.execute_input": "2024-11-10T20:54:22.595233Z",
     "iopub.status.busy": "2024-11-10T20:54:22.594846Z",
     "iopub.status.idle": "2024-11-10T20:54:22.603091Z",
     "shell.execute_reply": "2024-11-10T20:54:22.602518Z"
    },
    "tags": []
   },
   "outputs": [],
   "source": [
    "# Just run this cell\n",
    "votes_table = Table().read_table('votes.csv')\n",
    "observed_votes = votes_table.column('Vote')\n",
    "\n",
    "np.random.choice(observed_votes, 10) #sampling to look at the variety"
   ]
  },
  {
   "cell_type": "markdown",
   "id": "43afde81",
   "metadata": {
    "deletable": false,
    "editable": false
   },
   "source": [
    "#### Part 2.1 (5 pts)\n"
   ]
  },
  {
   "cell_type": "markdown",
   "id": "06963f52",
   "metadata": {
    "deletable": false,
    "editable": false
   },
   "source": [
    "We have given you the function `percent_of_vote` below. It returns the **percentage** of votes in the given array of `votes`. "
   ]
  },
  {
   "cell_type": "code",
   "execution_count": null,
   "id": "bbd9bdfa",
   "metadata": {
    "deletable": false,
    "editable": false,
    "execution": {
     "iopub.execute_input": "2024-11-10T20:54:22.605622Z",
     "iopub.status.busy": "2024-11-10T20:54:22.605423Z",
     "iopub.status.idle": "2024-11-10T20:54:22.609250Z",
     "shell.execute_reply": "2024-11-10T20:54:22.608800Z"
    },
    "tags": []
   },
   "outputs": [],
   "source": [
    "def percent_of_vote(votes, restaurant):\n",
    "    single_percentage = (sum(votes == restaurant) / len(votes)) * 100\n",
    "    return single_percentage\n",
    "\n",
    "percent_of_vote(observed_votes, 'Pera')"
   ]
  },
  {
   "cell_type": "markdown",
   "id": "15a7e575",
   "metadata": {
    "deletable": false,
    "editable": false
   },
   "source": [
    "Complete the function `percent_blue_mango` that uses the `percent_of_vote` function to return the percent of votes for just Blue Mango. "
   ]
  },
  {
   "cell_type": "code",
   "execution_count": null,
   "id": "03772f4f",
   "metadata": {
    "deletable": false,
    "execution": {
     "iopub.execute_input": "2024-11-10T20:54:22.611781Z",
     "iopub.status.busy": "2024-11-10T20:54:22.611687Z",
     "iopub.status.idle": "2024-11-10T20:54:22.614803Z",
     "shell.execute_reply": "2024-11-10T20:54:22.613904Z"
    },
    "tags": []
   },
   "outputs": [],
   "source": [
    "def percent_blue_mango(votes): \n",
    "    ..."
   ]
  },
  {
   "cell_type": "code",
   "execution_count": null,
   "id": "48766475",
   "metadata": {
    "deletable": false,
    "editable": false
   },
   "outputs": [],
   "source": [
    "grader.check(\"p2.1\")"
   ]
  },
  {
   "cell_type": "markdown",
   "id": "89513869",
   "metadata": {
    "deletable": false,
    "editable": false
   },
   "source": [
    "#### Part 2.2 (5 pts)\n"
   ]
  },
  {
   "cell_type": "markdown",
   "id": "0666f35f",
   "metadata": {
    "deletable": false,
    "editable": false
   },
   "source": [
    "Now, let's use the `bootstrap` function you implemented previously. \n",
    "\n",
    "Below, complete the arguments of the function such that it simulates and returns an array of bootstrapped estimates of the percentage of voters who will vote for **Blue Mango**. "
   ]
  },
  {
   "cell_type": "code",
   "execution_count": null,
   "id": "9964486e",
   "metadata": {
    "deletable": false,
    "execution": {
     "iopub.execute_input": "2024-11-10T20:54:22.626985Z",
     "iopub.status.busy": "2024-11-10T20:54:22.626849Z",
     "iopub.status.idle": "2024-11-10T20:54:22.630559Z",
     "shell.execute_reply": "2024-11-10T20:54:22.630296Z"
    },
    "tags": []
   },
   "outputs": [],
   "source": [
    "num_trials = 5 #start with just a few resamples\n",
    "tiny_bootstrap_votes_blue_mango = bootstrap_statistic(...,\n",
    "                                                      ...,\n",
    "                                                      num_trials)\n",
    "    \n",
    "\n",
    "tiny_bootstrap_votes_blue_mango"
   ]
  },
  {
   "cell_type": "code",
   "execution_count": null,
   "id": "54f0e43b",
   "metadata": {
    "deletable": false,
    "editable": false
   },
   "outputs": [],
   "source": [
    "grader.check(\"p2.2\")"
   ]
  },
  {
   "cell_type": "markdown",
   "id": "36f55cdf",
   "metadata": {
    "deletable": false,
    "editable": false
   },
   "source": [
    "In the following cell, run the same `bootstrap_statistic()` function again. But this time with 5000 bootstrap resamples. \n",
    "\n",
    "*Note:* This might take a few seconds to run."
   ]
  },
  {
   "cell_type": "markdown",
   "id": "bec46f20",
   "metadata": {
    "deletable": false,
    "editable": false
   },
   "source": [
    "#### Part 2.3 (5 pts)\n"
   ]
  },
  {
   "cell_type": "markdown",
   "id": "229f9e61",
   "metadata": {
    "deletable": false,
    "editable": false
   },
   "source": [
    "Now run the bootstrap for 5,000 trials."
   ]
  },
  {
   "cell_type": "code",
   "execution_count": null,
   "id": "ad29c757",
   "metadata": {
    "deletable": false,
    "execution": {
     "iopub.execute_input": "2024-11-10T20:54:22.638718Z",
     "iopub.status.busy": "2024-11-10T20:54:22.638637Z",
     "iopub.status.idle": "2024-11-10T20:54:23.336539Z",
     "shell.execute_reply": "2024-11-10T20:54:23.336259Z"
    },
    "tags": []
   },
   "outputs": [],
   "source": [
    "bootstrap_votes_blue_mango = bootstrap_statistic(...,\n",
    "                                       ...,\n",
    "                                       5000)\n",
    "    \n",
    "\n",
    "# Plot the histogram (no need to change this line) \n",
    "Table().with_column('Estimated Percentage', bootstrap_votes_blue_mango).hist(\"Estimated Percentage\")"
   ]
  },
  {
   "cell_type": "markdown",
   "id": "4e4dd7bc",
   "metadata": {
    "deletable": false,
    "editable": false
   },
   "source": [
    "#### Part 2.4 (5 pts)\n"
   ]
  },
  {
   "cell_type": "markdown",
   "id": "f4733e6f",
   "metadata": {
    "deletable": false,
    "editable": false
   },
   "source": [
    "Using the array `bootstrap_votes_blue_mango`, find the values at the two edges of the middle 95% of the bootstrapped percentage estimates. That is, compute the lower and upper ends of the interval, named `blue_mango_lower_bound` and `blue_mango_upper_bound`, respectively.  You should use `percentile` function."
   ]
  },
  {
   "cell_type": "code",
   "execution_count": null,
   "id": "5af2601e",
   "metadata": {
    "deletable": false,
    "execution": {
     "iopub.execute_input": "2024-11-10T20:54:23.338521Z",
     "iopub.status.busy": "2024-11-10T20:54:23.338404Z",
     "iopub.status.idle": "2024-11-10T20:54:23.342277Z",
     "shell.execute_reply": "2024-11-10T20:54:23.341993Z"
    },
    "tags": []
   },
   "outputs": [],
   "source": [
    "blue_mango_lower_bound = ...\n",
    "blue_mango_upper_bound = ...\n",
    "print('Bootstrapped 95% confidence interval for the percentage of Blue Mango voters in the population:\\n',\n",
    "      np.round(make_array(blue_mango_lower_bound, blue_mango_upper_bound), 2))"
   ]
  },
  {
   "cell_type": "code",
   "execution_count": null,
   "id": "c4234a4b",
   "metadata": {
    "deletable": false,
    "editable": false
   },
   "outputs": [],
   "source": [
    "grader.check(\"p2.4\")"
   ]
  },
  {
   "cell_type": "markdown",
   "id": "2556d0ad",
   "metadata": {
    "deletable": false,
    "editable": false
   },
   "source": [
    "Here is the plot from above, this time with your 95% confidence interval shown."
   ]
  },
  {
   "cell_type": "code",
   "execution_count": null,
   "id": "bb32e334",
   "metadata": {
    "deletable": false,
    "editable": false,
    "execution": {
     "iopub.execute_input": "2024-11-10T20:54:23.355409Z",
     "iopub.status.busy": "2024-11-10T20:54:23.355334Z",
     "iopub.status.idle": "2024-11-10T20:54:23.456416Z",
     "shell.execute_reply": "2024-11-10T20:54:23.456140Z"
    },
    "tags": []
   },
   "outputs": [],
   "source": [
    "# Plot the histogram (no need to change this line) \n",
    "plot = Table().with_column('Estimated Percentage', bootstrap_votes_blue_mango).hist(\"Estimated Percentage\")\n",
    "plot.interval(blue_mango_lower_bound, blue_mango_upper_bound)"
   ]
  },
  {
   "cell_type": "markdown",
   "id": "6d1ca29d",
   "metadata": {
    "deletable": false,
    "editable": false
   },
   "source": [
    "<!-- BEGIN QUESTION -->\n",
    "\n",
    "#### Part 2.5 (5 pts)\n"
   ]
  },
  {
   "cell_type": "markdown",
   "id": "20d5c3cc",
   "metadata": {
    "deletable": false,
    "editable": false,
    "tags": []
   },
   "source": [
    "Below is a visualization to let you experiment with different sample sizes and number of samples.  Run the cell and adjust the parameters to get a sense of how important sample size and number of trials is to this bootstrap.  Try to predict what happens when the sample size becomes small -- is that what you see?"
   ]
  },
  {
   "cell_type": "code",
   "execution_count": null,
   "id": "720fcd95",
   "metadata": {
    "deletable": false,
    "editable": false,
    "execution": {
     "iopub.execute_input": "2024-11-10T20:54:23.458142Z",
     "iopub.status.busy": "2024-11-10T20:54:23.458034Z",
     "iopub.status.idle": "2024-11-10T20:54:23.586450Z",
     "shell.execute_reply": "2024-11-10T20:54:23.586045Z"
    },
    "tags": []
   },
   "outputs": [],
   "source": [
    "def visualize_bootstrap(sample_size, num_trials):\n",
    "    # start with a subset of the original votes, drawn at random\n",
    "    sample = np.random.choice(observed_votes, sample_size)\n",
    "    resampled_percentages = bootstrap_statistic(sample, percent_blue_mango, num_trials)\n",
    "    plot = Table().with_column('Estimated Percentage', resampled_percentages).hist(\"Estimated Percentage\")\n",
    "    plot.set_title('sample_size=' + str(sample_size) + '; num_trials=' + str(num_trials))\n",
    "    plot.interval(confidence_interval(95,resampled_percentages))\n",
    "\n",
    "interact(visualize_bootstrap, sample_size=Slider(1,500), num_trials=Slider(10,2010, 100))"
   ]
  },
  {
   "cell_type": "markdown",
   "id": "5073eefc",
   "metadata": {
    "deletable": false,
    "editable": false
   },
   "source": [
    "Describe what you observe.  What changes when you increase or decrease the sample size?  What changes when you increase the number of trials?"
   ]
  },
  {
   "cell_type": "markdown",
   "id": "43a8a598",
   "metadata": {
    "deletable": false,
    "editable": false
   },
   "source": [
    "<hr style=\"margin:0; border: 1px solid #FFBE0A;\"/><font color='#FFBE0A'>Written Answer:</font>"
   ]
  },
  {
   "cell_type": "markdown",
   "id": "ea6a8f80",
   "metadata": {
    "deletable": false
   },
   "source": [
    "_Type your answer here, replacing this text._\n"
   ]
  },
  {
   "cell_type": "markdown",
   "id": "31a5b1d1",
   "metadata": {
    "deletable": false,
    "editable": false
   },
   "source": [
    "<hr style=\"margin:0; border: 1px solid #FFBE0A;\"/>"
   ]
  },
  {
   "cell_type": "markdown",
   "id": "7ce4cf41",
   "metadata": {
    "deletable": false,
    "editable": false
   },
   "source": [
    "<!-- END QUESTION -->\n",
    "\n",
    "#### Part 2.6 (5 pts)\n"
   ]
  },
  {
   "cell_type": "markdown",
   "id": "d034bac3",
   "metadata": {
    "deletable": false,
    "editable": false
   },
   "source": [
    "The survey results seem to indicate that Blue Mango is beating all the other restaurants combined among voters. We would like to use confidence intervals to determine a range of likely values for Blue Mango's true lead over all the other restaurants combined. The calculation for Blue Mango's lead over Pera, Spring St. Market, and Taste of India combined is:\n",
    "\n",
    "$$ \\text{Blue Mango's % of the vote} - (\\text{100 %} - \\text{Blue Mango's % of Vote})$$\n",
    "\n",
    "Define the function `percent_blue_mango_lead` that returns **exactly one value**\" Blue Mango's percentage lead over Pera, Spring St. Market, and Taste of India combined in `votes_table`. \n",
    "\n",
    "*Hints:* \n",
    "- Blue Mango's lead can be negative.\n",
    "- Your solution should use `percent_of_vote` or `percent_blue_mango` from one of the previous questions. "
   ]
  },
  {
   "cell_type": "code",
   "execution_count": null,
   "id": "71c7d004",
   "metadata": {
    "deletable": false,
    "execution": {
     "iopub.execute_input": "2024-11-10T20:54:23.588854Z",
     "iopub.status.busy": "2024-11-10T20:54:23.588766Z",
     "iopub.status.idle": "2024-11-10T20:54:23.591729Z",
     "shell.execute_reply": "2024-11-10T20:54:23.591494Z"
    },
    "tags": []
   },
   "outputs": [],
   "source": [
    "def percent_blue_mango_lead(votes):\n",
    "    ...\n",
    "    \n",
    "percent_blue_mango_lead(observed_votes)"
   ]
  },
  {
   "cell_type": "code",
   "execution_count": null,
   "id": "ccd38f7d",
   "metadata": {
    "deletable": false,
    "editable": false
   },
   "outputs": [],
   "source": [
    "grader.check(\"p2.6\")"
   ]
  },
  {
   "cell_type": "markdown",
   "id": "e86f03b5",
   "metadata": {
    "deletable": false,
    "editable": false
   },
   "source": [
    "<!-- BEGIN QUESTION -->\n",
    "\n",
    "#### Part 2.7 (5 pts)\n"
   ]
  },
  {
   "cell_type": "markdown",
   "id": "65e239dc",
   "metadata": {
    "deletable": false,
    "editable": false
   },
   "source": [
    "Now use `bootstrap_statistic()` to compute bootstrapped estimates of Blue Mango's lead over Pera, Spring St. Market, and Taste of India combined. Plot a histogram of the resulting samples.  \n",
    "\n",
    "*Hint:* Your function should use `percent_blue_mango_lead`."
   ]
  },
  {
   "cell_type": "code",
   "execution_count": null,
   "id": "457215ff",
   "metadata": {
    "deletable": false,
    "execution": {
     "iopub.execute_input": "2024-11-10T20:54:23.597268Z",
     "iopub.status.busy": "2024-11-10T20:54:23.597167Z",
     "iopub.status.idle": "2024-11-10T20:54:23.919307Z",
     "shell.execute_reply": "2024-11-10T20:54:23.919025Z"
    },
    "tags": []
   },
   "outputs": [],
   "source": [
    "num_trials = 2000\n",
    "bootstrap_blue_mango_leads = bootstrap_statistic(...,\n",
    "                                                 ...,\n",
    "                                                 num_trials)\n",
    "    \n",
    "\n",
    "Table().with_column('Estimated Lead', bootstrap_blue_mango_leads).hist(\"Estimated Lead\")"
   ]
  },
  {
   "cell_type": "code",
   "execution_count": null,
   "id": "4516b7df",
   "metadata": {
    "deletable": false,
    "editable": false
   },
   "outputs": [],
   "source": [
    "grader.check(\"p2.7\")"
   ]
  },
  {
   "cell_type": "markdown",
   "id": "eb41da2f",
   "metadata": {
    "deletable": false,
    "editable": false
   },
   "source": [
    "<!-- END QUESTION -->\n",
    "\n",
    "#### Part 2.8 (5 pts)\n"
   ]
  },
  {
   "cell_type": "markdown",
   "id": "59db5e02",
   "metadata": {
    "deletable": false,
    "editable": false
   },
   "source": [
    "Use the simulated data in `bootstrap_blue_mango_leads` from the previous question and the function `confidence_interval` from [our library](https://www.cs.williams.edu/~cs104/auto/inference-library-ref.html) to compute an approximate 90% confidence interval for Blue Mango's true lead over Pera, Spring St. Market, and Taste of India combined. "
   ]
  },
  {
   "cell_type": "code",
   "execution_count": null,
   "id": "c0cfcbd4",
   "metadata": {
    "deletable": false,
    "execution": {
     "iopub.execute_input": "2024-11-10T20:54:23.927413Z",
     "iopub.status.busy": "2024-11-10T20:54:23.927314Z",
     "iopub.status.idle": "2024-11-10T20:54:23.930185Z",
     "shell.execute_reply": "2024-11-10T20:54:23.929926Z"
    },
    "tags": []
   },
   "outputs": [],
   "source": [
    "lead_ci = ...\n",
    "lead_lower_bound, lead_upper_bound = lead_ci\n",
    "print(\"Bootstrapped 90% confidence interval for Blue Mango's true lead over Pera, Spring St. Market, and Taste of India combined:\\n\", \n",
    "      np.round(make_array(lead_lower_bound, lead_upper_bound), 2))"
   ]
  },
  {
   "cell_type": "code",
   "execution_count": null,
   "id": "8c28efc0",
   "metadata": {
    "deletable": false,
    "editable": false
   },
   "outputs": [],
   "source": [
    "grader.check(\"p2.8\")"
   ]
  },
  {
   "cell_type": "markdown",
   "id": "28bee35c",
   "metadata": {
    "deletable": false,
    "editable": false
   },
   "source": [
    "<!-- BEGIN QUESTION -->\n",
    "\n",
    "#### Part 2.9 (5 pts)\n"
   ]
  },
  {
   "cell_type": "markdown",
   "id": "127f568b",
   "metadata": {
    "deletable": false,
    "editable": false
   },
   "source": [
    "Suppose you were consulting with Blue Mango and they wanted to know how popular they are as a business compared to their competition? \n",
    "\n",
    "How would you explain this to them?\n",
    "\n",
    "Use all the previous parts you calculated (including the confidence intervals). "
   ]
  },
  {
   "cell_type": "markdown",
   "id": "50e70ced",
   "metadata": {
    "deletable": false,
    "editable": false
   },
   "source": [
    "<hr style=\"margin:0; border: 1px solid #FFBE0A;\"/><font color='#FFBE0A'>Written Answer:</font>"
   ]
  },
  {
   "cell_type": "markdown",
   "id": "91089908",
   "metadata": {
    "deletable": false
   },
   "source": [
    "_Type your answer here, replacing this text._\n"
   ]
  },
  {
   "cell_type": "markdown",
   "id": "213da1fc",
   "metadata": {
    "deletable": false,
    "editable": false
   },
   "source": [
    "<hr style=\"margin:0; border: 1px solid #FFBE0A;\"/>"
   ]
  },
  {
   "cell_type": "markdown",
   "id": "7eb1a054",
   "metadata": {
    "deletable": false,
    "editable": false
   },
   "source": [
    "<!-- END QUESTION -->\n",
    "\n",
    "<hr style=\"margin-bottom: 0px; padding:0; border: 2px solid #500082;\"/>\n"
   ]
  },
  {
   "cell_type": "markdown",
   "id": "3ee317e0",
   "metadata": {
    "deletable": false,
    "editable": false
   },
   "source": [
    "## 3. Interpreting Confidence Intervals (25 pts)\n",
    "\n"
   ]
  },
  {
   "cell_type": "markdown",
   "id": "b9d3b7db",
   "metadata": {
    "deletable": false,
    "editable": false
   },
   "source": [
    "<font color='#B1008E'>\n",
    "    \n",
    "##### Learning objectives\n",
    "- Practice interpreting confidence intervals. \n",
    "- Reason about the factors that make a confidence interval narrower (more certainty) or wider (less certainty). \n",
    "</font>"
   ]
  },
  {
   "cell_type": "markdown",
   "id": "95db1a59",
   "metadata": {
    "deletable": false,
    "editable": false
   },
   "source": [
    "We computed the following 95% confidence interval for the percentage of Blue Mango voters: \n",
    "\n",
    "$$[50.40, 55.40]$$\n",
    "\n",
    "(Your answer may have been a bit different due to randomness; that doesn't mean it was wrong!)"
   ]
  },
  {
   "cell_type": "markdown",
   "id": "0c57ce27",
   "metadata": {
    "deletable": false,
    "editable": false
   },
   "source": [
    "<!-- BEGIN QUESTION -->\n",
    "\n",
    "#### Part 3.1 (5 pts)\n"
   ]
  },
  {
   "cell_type": "markdown",
   "id": "1419c5ba",
   "metadata": {
    "deletable": false,
    "editable": false
   },
   "source": [
    " The staff also created 70%, 90%, and 99% confidence intervals from the same sample, but we forgot to label which confidence interval represented which percentages! First, match each confidence level (70%, 90%, 99%) with its corresponding interval in the cell below (e.g. if we had a part D and 80% level we would assign `D=80`). **Then**, explain your thought process and how you came up with your answers. \n",
    "\n",
    "The intervals are below:\n",
    "\n",
    "* A: [51.47, 54.20]\n",
    "* B: [49.60, 56.13]\n",
    "* C: [50.80, 55.00]\n",
    "\n",
    "*Hint*: It may be helpful to draw these out with pen and paper. "
   ]
  },
  {
   "cell_type": "markdown",
   "id": "ac103718",
   "metadata": {
    "deletable": false,
    "editable": false
   },
   "source": [
    "<hr style=\"margin:0; border: 1px solid #FFBE0A;\"/><font color='#FFBE0A'>Written Answer:</font>"
   ]
  },
  {
   "cell_type": "markdown",
   "id": "f81150ad",
   "metadata": {
    "deletable": false
   },
   "source": [
    "Type your answer here:\n",
    "\n",
    "* A is ... [one of 70% CI, 90% CI, 99% CI]\n",
    "* B is ... [one of 70% CI, 90% CI, 99% CI]\n",
    "* C is ... [one of 70% CI, 90% CI, 99% CI]\n",
    "\n",
    "Justification: ..."
   ]
  },
  {
   "cell_type": "markdown",
   "id": "73cfff07",
   "metadata": {
    "deletable": false
   },
   "source": [
    "<hr style=\"margin:0; border: 1px solid #FFBE0A;\"/>"
   ]
  },
  {
   "cell_type": "markdown",
   "id": "25fa7647",
   "metadata": {
    "deletable": false,
    "editable": false
   },
   "source": [
    "<!-- END QUESTION -->\n",
    "\n",
    "#### Part 3.2 (5 pts)\n"
   ]
  },
  {
   "cell_type": "markdown",
   "id": "33801475",
   "metadata": {
    "deletable": false,
    "editable": false
   },
   "source": [
    " Suppose we produced 5,000 new samples (each one a uniform random sample of 1,500 voters) from the population and created a 95% confidence interval from each one. Roughly how many of those 5,000 intervals do you expect will actually contain the true percentage of the population? \n",
    "\n",
    "Assign your answer to `num_intervals_with_true`.\n",
    "\n"
   ]
  },
  {
   "cell_type": "code",
   "execution_count": null,
   "id": "ef400875",
   "metadata": {
    "deletable": false,
    "execution": {
     "iopub.execute_input": "2024-11-10T20:54:23.943414Z",
     "iopub.status.busy": "2024-11-10T20:54:23.943307Z",
     "iopub.status.idle": "2024-11-10T20:54:23.944864Z",
     "shell.execute_reply": "2024-11-10T20:54:23.944625Z"
    },
    "tags": []
   },
   "outputs": [],
   "source": [
    "num_intervals_with_true = ..."
   ]
  },
  {
   "cell_type": "code",
   "execution_count": null,
   "id": "87666166",
   "metadata": {
    "deletable": false,
    "editable": false
   },
   "outputs": [],
   "source": [
    "grader.check(\"p3.2\")"
   ]
  },
  {
   "cell_type": "markdown",
   "id": "f801bf26",
   "metadata": {
    "deletable": false,
    "editable": false
   },
   "source": [
    "#### Part 3.3 (5 pts)\n"
   ]
  },
  {
   "cell_type": "markdown",
   "id": "8615a2d6",
   "metadata": {
    "deletable": false,
    "editable": false
   },
   "source": [
    "Recall the second bootstrap confidence interval you created for estimating Blue Mango's lead over Pera, Spring St. Market, and Taste of India combined. Among\n",
    "voters in the sample, Blue Mango's lead was 6%. Our 95% confidence interval for the true lead (in the population of all voters) was:\n",
    "\n",
    "$$[0.933\\%, 10.933\\%]$$\n",
    "\n",
    "Suppose we are interested in testing a simple yes-or-no question:\n",
    "\n",
    "> \"Is the percentage of votes for Blue Mango equal to the percentage of votes for Pera, Spring St. Market, and Taste of India combined?\"\n",
    "\n",
    "Our null hypothesis is that the percentages are equal, or equivalently, that Blue Mango's lead is exactly 0. Our alternative hypothesis is that Blue Mango's lead is not equal to 0.  In the questions below, don't compute any confidence interval yourself - use only the staff's 95% confidence interval."
   ]
  },
  {
   "cell_type": "markdown",
   "id": "47a75679",
   "metadata": {
    "deletable": false,
    "editable": false
   },
   "source": [
    " Say we use a 5% p-value cutoff. Do we reject the null hypothesis, fail to reject the null hypothesis, or are we unable to tell using the staff's confidence interval? \n",
    "\n",
    "Assign `restaurants_equal` to the number corresponding to the correct answer.\n",
    "\n",
    "1. Reject the null hypothesis / Data is consistent with the alternative hypothesis\n",
    "2. Fail to reject the null hypothesis / Data is consistent with the null hypothesis\n",
    "3. Unable to tell using the confidence interval given. \n",
    "\n",
    "*Hint:* Consider the relationship between the p-value cutoff and confidence. If you're confused, take a look at [this chapter](https://inferentialthinking.com/chapters/13/4/Using_Confidence_Intervals.html) of the textbook.\n",
    "\n"
   ]
  },
  {
   "cell_type": "code",
   "execution_count": null,
   "id": "ed7f1dcd",
   "metadata": {
    "deletable": false,
    "execution": {
     "iopub.execute_input": "2024-11-10T20:54:23.952946Z",
     "iopub.status.busy": "2024-11-10T20:54:23.952851Z",
     "iopub.status.idle": "2024-11-10T20:54:23.954278Z",
     "shell.execute_reply": "2024-11-10T20:54:23.954042Z"
    },
    "tags": []
   },
   "outputs": [],
   "source": [
    "restaurants_equal = ..."
   ]
  },
  {
   "cell_type": "code",
   "execution_count": null,
   "id": "68034092",
   "metadata": {
    "deletable": false,
    "editable": false
   },
   "outputs": [],
   "source": [
    "grader.check(\"p3.3\")"
   ]
  },
  {
   "cell_type": "markdown",
   "id": "f96cf707",
   "metadata": {
    "deletable": false,
    "editable": false
   },
   "source": [
    "#### Part 3.4 (5 pts)\n"
   ]
  },
  {
   "cell_type": "markdown",
   "id": "63c01d80",
   "metadata": {
    "deletable": false,
    "editable": false
   },
   "source": [
    " What if, instead, we use a p-value cutoff of 1%? Do we reject the null, fail to reject the null, or are we unable to tell using our staff confidence interval? \n",
    "\n",
    "Assign `cutoff_one_percent` to the number corresponding to the correct answer.\n",
    "\n",
    "1. Reject the null / Data is consistent with the alternative hypothesis\n",
    "2. Fail to reject the null / Data is consistent with the null hypothesis\n",
    "3. Unable to tell using our staff confidence interval\n",
    "\n"
   ]
  },
  {
   "cell_type": "code",
   "execution_count": null,
   "id": "a5ac3d2e",
   "metadata": {
    "deletable": false,
    "execution": {
     "iopub.execute_input": "2024-11-10T20:54:23.962166Z",
     "iopub.status.busy": "2024-11-10T20:54:23.962081Z",
     "iopub.status.idle": "2024-11-10T20:54:23.963744Z",
     "shell.execute_reply": "2024-11-10T20:54:23.963509Z"
    },
    "tags": []
   },
   "outputs": [],
   "source": [
    "cutoff_one_percent = ..."
   ]
  },
  {
   "cell_type": "code",
   "execution_count": null,
   "id": "ef212d07",
   "metadata": {
    "deletable": false,
    "editable": false
   },
   "outputs": [],
   "source": [
    "grader.check(\"p3.4\")"
   ]
  },
  {
   "cell_type": "markdown",
   "id": "1cd0f2bc",
   "metadata": {
    "deletable": false,
    "editable": false
   },
   "source": [
    "#### Part 3.5 (5 pts)\n"
   ]
  },
  {
   "cell_type": "markdown",
   "id": "4de52f20",
   "metadata": {
    "deletable": false,
    "editable": false
   },
   "source": [
    " What if we use a p-value cutoff of 10%? Do we reject, fail to reject, or are we unable to tell using our confidence interval? \n",
    "\n",
    "Assign `cutoff_ten_percent` to the number corresponding to the correct answer.\n",
    "\n",
    "1. Reject the null / Data is consistent with the alternative hypothesis\n",
    "2. Fail to reject the null / Data is consistent with the null hypothesis\n",
    "3. Unable to tell using our staff confidence interval\n",
    "\n"
   ]
  },
  {
   "cell_type": "code",
   "execution_count": null,
   "id": "c7e71f08",
   "metadata": {
    "deletable": false,
    "execution": {
     "iopub.execute_input": "2024-11-10T20:54:23.971877Z",
     "iopub.status.busy": "2024-11-10T20:54:23.971793Z",
     "iopub.status.idle": "2024-11-10T20:54:23.973404Z",
     "shell.execute_reply": "2024-11-10T20:54:23.973169Z"
    },
    "tags": []
   },
   "outputs": [],
   "source": [
    "cutoff_ten_percent = ..."
   ]
  },
  {
   "cell_type": "code",
   "execution_count": null,
   "id": "ed17f2e1",
   "metadata": {
    "deletable": false,
    "editable": false
   },
   "outputs": [],
   "source": [
    "grader.check(\"p3.5\")"
   ]
  },
  {
   "cell_type": "markdown",
   "id": "9d61ca44",
   "metadata": {
    "deletable": false,
    "editable": false
   },
   "source": [
    "<hr class=\"m-0\" style=\"border: 3px solid #500082;\"/>\n",
    "\n",
    "# You're Done!\n",
    "Follow these steps to submit your work:\n",
    "* Run the tests and verify that they pass as you expect. \n",
    "* Choose **Save Notebook** from the **File** menu.\n",
    "* **Run the final cell** and click the link below to download the zip file. \n",
    "\n",
    "Once you have downloaded that file, go to [Gradescope](https://www.gradescope.com/) and submit the zip file to \n",
    "the corresponding assignment. For Lab N, the assignment will be called \"Lab N Autograder\".\n",
    "\n",
    "Once you have submitted, your Gradescope assignment should show you passing all the tests you passed in your assignment notebook.\n"
   ]
  },
  {
   "cell_type": "markdown",
   "id": "5d519de9",
   "metadata": {
    "deletable": false,
    "editable": false
   },
   "source": [
    "## Submission\n",
    "\n",
    "Make sure you have run all cells in your notebook in order before running the cell below, so that all images/graphs appear in the output. The cell below will generate a zip file for you to submit. **Please save before exporting!**"
   ]
  },
  {
   "cell_type": "code",
   "execution_count": null,
   "id": "38e2d419",
   "metadata": {
    "deletable": false,
    "editable": false
   },
   "outputs": [],
   "source": [
    "# Save your notebook first, then run this cell to export your submission.\n",
    "grader.export(run_tests=True)"
   ]
  },
  {
   "cell_type": "markdown",
   "id": "dd1cb0af",
   "metadata": {},
   "source": [
    " "
   ]
  }
 ],
 "metadata": {
  "kernelspec": {
   "display_name": "Python 3 (ipykernel)",
   "language": "python",
   "name": "python3"
  },
  "language_info": {
   "codemirror_mode": {
    "name": "ipython",
    "version": 3
   },
   "file_extension": ".py",
   "mimetype": "text/x-python",
   "name": "python",
   "nbconvert_exporter": "python",
   "pygments_lexer": "ipython3",
   "version": "3.9.19"
  },
  "otter": {
   "OK_FORMAT": true,
   "tests": {
    "p1.1": {
     "has_hidden": false,
     "name": "p1.1",
     "points": 5,
     "suites": [
      {
       "cases": [
        {
         "code": ">>> check_str('choice in make_array(1, 2, 3, 4)', locals())\n",
         "failure_message": "check(choice in make_array(1, 2, 3, 4))",
         "hidden": false,
         "locked": false,
         "submit_only": false,
         "success_message": "check(choice in make_array(1, 2, 3, 4))"
        },
        {
         "code": ">>> check_str('len(results) == 1000', locals())\n",
         "failure_message": "check(len(results) == 1000)",
         "hidden": false,
         "locked": false,
         "submit_only": false,
         "success_message": "check(len(results) == 1000)"
        },
        {
         "code": ">>> check_str('0.2 <= np.mean(results == 3) <= 0.3', locals())\n",
         "failure_message": "check(0.2 <= np.mean(results == 3) <= 0.3)",
         "hidden": false,
         "locked": false,
         "submit_only": false,
         "success_message": "check(0.2 <= np.mean(results == 3) <= 0.3)"
        }
       ],
       "scored": true,
       "setup": "",
       "teardown": "",
       "type": "doctest"
      }
     ]
    },
    "p1.2": {
     "has_hidden": false,
     "name": "p1.2",
     "points": 5,
     "suites": [
      {
       "cases": [
        {
         "code": ">>> check_str('type(tiny_bootstrapped_statistics) == np.ndarray', locals())\n",
         "failure_message": "check(type(tiny_bootstrapped_statistics) == np.ndarray)",
         "hidden": false,
         "locked": false,
         "submit_only": false,
         "success_message": "check(type(tiny_bootstrapped_statistics) == np.ndarray)"
        },
        {
         "code": ">>> check_str('len(tiny_bootstrapped_statistics) == 5', locals())\n",
         "failure_message": "check(len(tiny_bootstrapped_statistics) == 5)",
         "hidden": false,
         "locked": false,
         "submit_only": false,
         "success_message": "check(len(tiny_bootstrapped_statistics) == 5)"
        },
        {
         "code": ">>> check_str('0 <= tiny_bootstrapped_statistics <= 5', locals())\n",
         "failure_message": "check(0 <= tiny_bootstrapped_statistics <= 5)",
         "hidden": false,
         "locked": false,
         "submit_only": false,
         "success_message": "check(0 <= tiny_bootstrapped_statistics <= 5)"
        }
       ],
       "scored": true,
       "setup": "",
       "teardown": "",
       "type": "doctest"
      }
     ]
    },
    "p1.3": {
     "has_hidden": false,
     "name": "p1.3",
     "points": 5,
     "suites": [
      {
       "cases": [
        {
         "code": ">>> check_str('len(bootstrapped_statistics) == 2000', locals())\n",
         "failure_message": "check(len(bootstrapped_statistics) == 2000)",
         "hidden": false,
         "locked": false,
         "submit_only": false,
         "success_message": "check(len(bootstrapped_statistics) == 2000)"
        },
        {
         "code": ">>> check_str('2.8 <= np.mean(bootstrapped_statistics) <= 3.2', locals())\n",
         "failure_message": "check(2.8 <= np.mean(bootstrapped_statistics) <= 3.2)",
         "hidden": false,
         "locked": false,
         "submit_only": false,
         "success_message": "check(2.8 <= np.mean(bootstrapped_statistics) <= 3.2)"
        }
       ],
       "scored": true,
       "setup": "",
       "teardown": "",
       "type": "doctest"
      }
     ]
    },
    "p1.5": {
     "has_hidden": false,
     "name": "p1.5",
     "points": 5,
     "suites": [
      {
       "cases": [
        {
         "code": ">>> check_str('len(bootstrapped_left_handed_statistics) == 5000', locals())\n",
         "failure_message": "check(len(bootstrapped_left_handed_statistics) == 5000)",
         "hidden": false,
         "locked": false,
         "submit_only": false,
         "success_message": "check(len(bootstrapped_left_handed_statistics) == 5000)"
        },
        {
         "code": ">>> check_str('0.125 <= np.mean(bootstrapped_left_handed_statistics) <= 0.140', locals())\n",
         "failure_message": "check(0.125 <= np.mean(bootstrapped_left_handed_statistics) <= 0.140)",
         "hidden": false,
         "locked": false,
         "submit_only": false,
         "success_message": "check(0.125 <= np.mean(bootstrapped_left_handed_statistics) <= 0.140)"
        }
       ],
       "scored": true,
       "setup": "",
       "teardown": "",
       "type": "doctest"
      }
     ]
    },
    "p2.1": {
     "has_hidden": true,
     "name": "p2.1",
     "points": 5,
     "suites": [
      {
       "cases": [
        {
         "code": ">>> check_str('0 <= percent_blue_mango(observed_votes) <= 100', locals())\n",
         "failure_message": "check(0 <= percent_blue_mango(observed_votes) <= 100)",
         "hidden": false,
         "locked": false,
         "submit_only": false,
         "success_message": "check(0 <= percent_blue_mango(observed_votes) <= 100)"
        }
       ],
       "scored": true,
       "setup": "",
       "teardown": "",
       "type": "doctest"
      }
     ]
    },
    "p2.2": {
     "has_hidden": true,
     "name": "p2.2",
     "points": 5,
     "suites": [
      {
       "cases": [
        {
         "code": ">>> check_str('len(tiny_bootstrap_votes_blue_mango) == 5', locals())\n",
         "failure_message": "check(len(tiny_bootstrap_votes_blue_mango) == 5)",
         "hidden": false,
         "locked": false,
         "submit_only": false,
         "success_message": "check(len(tiny_bootstrap_votes_blue_mango) == 5)"
        }
       ],
       "scored": true,
       "setup": "",
       "teardown": "",
       "type": "doctest"
      }
     ]
    },
    "p2.4": {
     "has_hidden": true,
     "name": "p2.4",
     "points": 5,
     "suites": [
      {
       "cases": [
        {
         "code": ">>> check_str('40 <= blue_mango_lower_bound <= blue_mango_upper_bound <= 60', locals())\n",
         "failure_message": "check(40 <= blue_mango_lower_bound <= blue_mango_upper_bound <= 60)",
         "hidden": false,
         "locked": false,
         "submit_only": false,
         "success_message": "check(40 <= blue_mango_lower_bound <= blue_mango_upper_bound <= 60)"
        }
       ],
       "scored": true,
       "setup": "",
       "teardown": "",
       "type": "doctest"
      }
     ]
    },
    "p2.6": {
     "has_hidden": false,
     "name": "p2.6",
     "points": 5,
     "suites": [
      {
       "cases": [
        {
         "code": ">>> np.random.seed(123)\n>>> check_str('-6 <= float(percent_blue_mango_lead(observed_votes)) <= 15', locals())\n",
         "failure_message": "check(-6 <= float(percent_blue_mango_lead(observed_votes)) <= 15)",
         "hidden": false,
         "locked": false,
         "submit_only": false,
         "success_message": "check(-6 <= float(percent_blue_mango_lead(observed_votes)) <= 15)"
        }
       ],
       "scored": true,
       "setup": "",
       "teardown": "",
       "type": "doctest"
      }
     ]
    },
    "p2.7": {
     "has_hidden": true,
     "name": "p2.7",
     "points": 0,
     "suites": [
      {
       "cases": [
        {
         "code": ">>> check_str('len(bootstrap_blue_mango_leads) == 2000', locals())\n",
         "failure_message": "check(len(bootstrap_blue_mango_leads) == 2000)",
         "hidden": false,
         "locked": false,
         "submit_only": false,
         "success_message": "check(len(bootstrap_blue_mango_leads) == 2000)"
        }
       ],
       "scored": true,
       "setup": "",
       "teardown": "",
       "type": "doctest"
      }
     ]
    },
    "p2.8": {
     "has_hidden": true,
     "name": "p2.8",
     "points": 5,
     "suites": [
      {
       "cases": [
        {
         "code": ">>> check_str('-5 <= lead_lower_bound <= lead_upper_bound <= 12', locals())\n",
         "failure_message": "check(-5 <= lead_lower_bound <= lead_upper_bound <= 12)",
         "hidden": false,
         "locked": false,
         "submit_only": false,
         "success_message": "check(-5 <= lead_lower_bound <= lead_upper_bound <= 12)"
        }
       ],
       "scored": true,
       "setup": "",
       "teardown": "",
       "type": "doctest"
      }
     ]
    },
    "p3.2": {
     "has_hidden": true,
     "name": "p3.2",
     "points": 5,
     "suites": [
      {
       "cases": [
        {
         "code": ">>> check_str('1000 <= num_intervals_with_true <= 10000', locals())\n",
         "failure_message": "check(1000 <= num_intervals_with_true <= 10000)",
         "hidden": false,
         "locked": false,
         "submit_only": false,
         "success_message": "check(1000 <= num_intervals_with_true <= 10000)"
        }
       ],
       "scored": true,
       "setup": "",
       "teardown": "",
       "type": "doctest"
      }
     ]
    },
    "p3.3": {
     "has_hidden": true,
     "name": "p3.3",
     "points": 5,
     "suites": [
      {
       "cases": [
        {
         "code": ">>> check_str('restaurants_equal in [1,2,3]', locals())\n",
         "failure_message": "check(restaurants_equal in [1,2,3])",
         "hidden": false,
         "locked": false,
         "submit_only": false,
         "success_message": "check(restaurants_equal in [1,2,3])"
        }
       ],
       "scored": true,
       "setup": "",
       "teardown": "",
       "type": "doctest"
      }
     ]
    },
    "p3.4": {
     "has_hidden": true,
     "name": "p3.4",
     "points": 5,
     "suites": [
      {
       "cases": [
        {
         "code": ">>> check_str('cutoff_one_percent in [1,2,3]', locals())\n",
         "failure_message": "check(cutoff_one_percent in [1,2,3])",
         "hidden": false,
         "locked": false,
         "submit_only": false,
         "success_message": "check(cutoff_one_percent in [1,2,3])"
        }
       ],
       "scored": true,
       "setup": "",
       "teardown": "",
       "type": "doctest"
      }
     ]
    },
    "p3.5": {
     "has_hidden": true,
     "name": "p3.5",
     "points": 5,
     "suites": [
      {
       "cases": [
        {
         "code": ">>> check_str('cutoff_ten_percent in [1,2,3]', locals())\n",
         "failure_message": "check(cutoff_ten_percent in [1,2,3])",
         "hidden": false,
         "locked": false,
         "submit_only": false,
         "success_message": "check(cutoff_ten_percent in [1,2,3])"
        }
       ],
       "scored": true,
       "setup": "",
       "teardown": "",
       "type": "doctest"
      }
     ]
    }
   }
  },
  "vscode": {
   "interpreter": {
    "hash": "b181b7ac44b61709e1e9acd3475e041866d62bfe876365f68179fcb4e3bc0c2d"
   }
  },
  "widgets": {
   "application/vnd.jupyter.widget-state+json": {
    "state": {
     "0e75128d26774972bb805bd2bdb75dd3": {
      "model_module": "@jupyter-widgets/controls",
      "model_module_version": "1.5.0",
      "model_name": "VBoxModel",
      "state": {
       "_dom_classes": [
        "widget-interact"
       ],
       "_model_module": "@jupyter-widgets/controls",
       "_model_module_version": "1.5.0",
       "_model_name": "VBoxModel",
       "_view_count": null,
       "_view_module": "@jupyter-widgets/controls",
       "_view_module_version": "1.5.0",
       "_view_name": "VBoxView",
       "box_style": "",
       "children": [
        "IPY_MODEL_5627dfe7d4274889bc288a48b9e974e3",
        "IPY_MODEL_51196322a0dd40b4bc394aef87c07eb3",
        "IPY_MODEL_fb440f22ca6b4c93adc7c0ca302d591d"
       ],
       "layout": "IPY_MODEL_3a5d202cbdc74a9090b54fd1549db093"
      }
     },
     "1811b86103e94fba81e601107f63ee6c": {
      "model_module": "@jupyter-widgets/controls",
      "model_module_version": "1.5.0",
      "model_name": "SliderStyleModel",
      "state": {
       "_model_module": "@jupyter-widgets/controls",
       "_model_module_version": "1.5.0",
       "_model_name": "SliderStyleModel",
       "_view_count": null,
       "_view_module": "@jupyter-widgets/base",
       "_view_module_version": "1.2.0",
       "_view_name": "StyleView",
       "description_width": "",
       "handle_color": null
      }
     },
     "2db342e0544d48fb85114191335a83f2": {
      "model_module": "@jupyter-widgets/base",
      "model_module_version": "1.2.0",
      "model_name": "LayoutModel",
      "state": {
       "_model_module": "@jupyter-widgets/base",
       "_model_module_version": "1.2.0",
       "_model_name": "LayoutModel",
       "_view_count": null,
       "_view_module": "@jupyter-widgets/base",
       "_view_module_version": "1.2.0",
       "_view_name": "LayoutView",
       "align_content": null,
       "align_items": null,
       "align_self": null,
       "border": null,
       "bottom": null,
       "display": null,
       "flex": null,
       "flex_flow": null,
       "grid_area": null,
       "grid_auto_columns": null,
       "grid_auto_flow": null,
       "grid_auto_rows": null,
       "grid_column": null,
       "grid_gap": null,
       "grid_row": null,
       "grid_template_areas": null,
       "grid_template_columns": null,
       "grid_template_rows": null,
       "height": null,
       "justify_content": null,
       "justify_items": null,
       "left": null,
       "margin": null,
       "max_height": null,
       "max_width": null,
       "min_height": null,
       "min_width": null,
       "object_fit": null,
       "object_position": null,
       "order": null,
       "overflow": null,
       "overflow_x": null,
       "overflow_y": null,
       "padding": null,
       "right": null,
       "top": null,
       "visibility": null,
       "width": null
      }
     },
     "32b0e0bb1a534133ba4491e9ef767741": {
      "model_module": "@jupyter-widgets/base",
      "model_module_version": "1.2.0",
      "model_name": "LayoutModel",
      "state": {
       "_model_module": "@jupyter-widgets/base",
       "_model_module_version": "1.2.0",
       "_model_name": "LayoutModel",
       "_view_count": null,
       "_view_module": "@jupyter-widgets/base",
       "_view_module_version": "1.2.0",
       "_view_name": "LayoutView",
       "align_content": null,
       "align_items": null,
       "align_self": null,
       "border": null,
       "bottom": null,
       "display": null,
       "flex": null,
       "flex_flow": null,
       "grid_area": null,
       "grid_auto_columns": null,
       "grid_auto_flow": null,
       "grid_auto_rows": null,
       "grid_column": null,
       "grid_gap": null,
       "grid_row": null,
       "grid_template_areas": null,
       "grid_template_columns": null,
       "grid_template_rows": null,
       "height": null,
       "justify_content": null,
       "justify_items": null,
       "left": null,
       "margin": null,
       "max_height": null,
       "max_width": null,
       "min_height": null,
       "min_width": null,
       "object_fit": null,
       "object_position": null,
       "order": null,
       "overflow": null,
       "overflow_x": null,
       "overflow_y": null,
       "padding": null,
       "right": null,
       "top": null,
       "visibility": null,
       "width": null
      }
     },
     "3a5d202cbdc74a9090b54fd1549db093": {
      "model_module": "@jupyter-widgets/base",
      "model_module_version": "1.2.0",
      "model_name": "LayoutModel",
      "state": {
       "_model_module": "@jupyter-widgets/base",
       "_model_module_version": "1.2.0",
       "_model_name": "LayoutModel",
       "_view_count": null,
       "_view_module": "@jupyter-widgets/base",
       "_view_module_version": "1.2.0",
       "_view_name": "LayoutView",
       "align_content": null,
       "align_items": null,
       "align_self": null,
       "border": null,
       "bottom": null,
       "display": null,
       "flex": null,
       "flex_flow": null,
       "grid_area": null,
       "grid_auto_columns": null,
       "grid_auto_flow": null,
       "grid_auto_rows": null,
       "grid_column": null,
       "grid_gap": null,
       "grid_row": null,
       "grid_template_areas": null,
       "grid_template_columns": null,
       "grid_template_rows": null,
       "height": null,
       "justify_content": null,
       "justify_items": null,
       "left": null,
       "margin": null,
       "max_height": null,
       "max_width": null,
       "min_height": null,
       "min_width": null,
       "object_fit": null,
       "object_position": null,
       "order": null,
       "overflow": null,
       "overflow_x": null,
       "overflow_y": null,
       "padding": null,
       "right": null,
       "top": null,
       "visibility": null,
       "width": null
      }
     },
     "51196322a0dd40b4bc394aef87c07eb3": {
      "model_module": "@jupyter-widgets/controls",
      "model_module_version": "1.5.0",
      "model_name": "IntSliderModel",
      "state": {
       "_dom_classes": [],
       "_model_module": "@jupyter-widgets/controls",
       "_model_module_version": "1.5.0",
       "_model_name": "IntSliderModel",
       "_view_count": null,
       "_view_module": "@jupyter-widgets/controls",
       "_view_module_version": "1.5.0",
       "_view_name": "IntSliderView",
       "continuous_update": true,
       "description": "num_trials",
       "description_tooltip": null,
       "disabled": false,
       "layout": "IPY_MODEL_e693b66dd9514253a8d0be353ecf2167",
       "max": 2010,
       "min": 10,
       "orientation": "horizontal",
       "readout": true,
       "readout_format": "d",
       "step": 100,
       "style": "IPY_MODEL_1811b86103e94fba81e601107f63ee6c",
       "value": 1010
      }
     },
     "5627dfe7d4274889bc288a48b9e974e3": {
      "model_module": "@jupyter-widgets/controls",
      "model_module_version": "1.5.0",
      "model_name": "IntSliderModel",
      "state": {
       "_dom_classes": [],
       "_model_module": "@jupyter-widgets/controls",
       "_model_module_version": "1.5.0",
       "_model_name": "IntSliderModel",
       "_view_count": null,
       "_view_module": "@jupyter-widgets/controls",
       "_view_module_version": "1.5.0",
       "_view_name": "IntSliderView",
       "continuous_update": true,
       "description": "sample_size",
       "description_tooltip": null,
       "disabled": false,
       "layout": "IPY_MODEL_2db342e0544d48fb85114191335a83f2",
       "max": 500,
       "min": 1,
       "orientation": "horizontal",
       "readout": true,
       "readout_format": "d",
       "step": 1,
       "style": "IPY_MODEL_9a4fa099dab74388a0bedc32ee40931c",
       "value": 250
      }
     },
     "9a4fa099dab74388a0bedc32ee40931c": {
      "model_module": "@jupyter-widgets/controls",
      "model_module_version": "1.5.0",
      "model_name": "SliderStyleModel",
      "state": {
       "_model_module": "@jupyter-widgets/controls",
       "_model_module_version": "1.5.0",
       "_model_name": "SliderStyleModel",
       "_view_count": null,
       "_view_module": "@jupyter-widgets/base",
       "_view_module_version": "1.2.0",
       "_view_name": "StyleView",
       "description_width": "",
       "handle_color": null
      }
     },
     "e693b66dd9514253a8d0be353ecf2167": {
      "model_module": "@jupyter-widgets/base",
      "model_module_version": "1.2.0",
      "model_name": "LayoutModel",
      "state": {
       "_model_module": "@jupyter-widgets/base",
       "_model_module_version": "1.2.0",
       "_model_name": "LayoutModel",
       "_view_count": null,
       "_view_module": "@jupyter-widgets/base",
       "_view_module_version": "1.2.0",
       "_view_name": "LayoutView",
       "align_content": null,
       "align_items": null,
       "align_self": null,
       "border": null,
       "bottom": null,
       "display": null,
       "flex": null,
       "flex_flow": null,
       "grid_area": null,
       "grid_auto_columns": null,
       "grid_auto_flow": null,
       "grid_auto_rows": null,
       "grid_column": null,
       "grid_gap": null,
       "grid_row": null,
       "grid_template_areas": null,
       "grid_template_columns": null,
       "grid_template_rows": null,
       "height": null,
       "justify_content": null,
       "justify_items": null,
       "left": null,
       "margin": null,
       "max_height": null,
       "max_width": null,
       "min_height": null,
       "min_width": null,
       "object_fit": null,
       "object_position": null,
       "order": null,
       "overflow": null,
       "overflow_x": null,
       "overflow_y": null,
       "padding": null,
       "right": null,
       "top": null,
       "visibility": null,
       "width": null
      }
     },
     "fb440f22ca6b4c93adc7c0ca302d591d": {
      "model_module": "@jupyter-widgets/output",
      "model_module_version": "1.0.0",
      "model_name": "OutputModel",
      "state": {
       "_dom_classes": [],
       "_model_module": "@jupyter-widgets/output",
       "_model_module_version": "1.0.0",
       "_model_name": "OutputModel",
       "_view_count": null,
       "_view_module": "@jupyter-widgets/output",
       "_view_module_version": "1.0.0",
       "_view_name": "OutputView",
       "layout": "IPY_MODEL_32b0e0bb1a534133ba4491e9ef767741",
       "msg_id": "",
       "outputs": [
        {
         "data": {
          "image/png": "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",
          "text/plain": "<Figure size 600x400 with 1 Axes>"
         },
         "metadata": {},
         "output_type": "display_data"
        }
       ]
      }
     }
    },
    "version_major": 2,
    "version_minor": 0
   }
  }
 },
 "nbformat": 4,
 "nbformat_minor": 5
}
