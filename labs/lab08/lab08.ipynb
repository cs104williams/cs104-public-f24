{
 "cells": [
  {
   "cell_type": "code",
   "execution_count": null,
   "id": "8d87009b",
   "metadata": {
    "deletable": false,
    "editable": false
   },
   "outputs": [],
   "source": [
    "# Initialize Otter\n",
    "import otter\n",
    "grader = otter.Notebook(\"lab08.ipynb\")"
   ]
  },
  {
   "cell_type": "markdown",
   "id": "2b7f137e",
   "metadata": {
    "deletable": false,
    "editable": false
   },
   "source": [
    "<table style=\"width: 100%;\">\n",
    "<tr style=\"background-color: transparent;\">\n",
    "<td width=\"100px\"><img src=\"https://cs104williams.github.io/assets/cs104-logo.png\" width=\"90px\" style=\"text-align: center\"/></td>\n",
    "<td>\n",
    "  <p style=\"margin-bottom: 0px; text-align: left; font-size: 18pt;\"><strong>CSCI 104: Data Science and Computing for All</strong><br>\n",
    "                Williams College<br>\n",
    "                Fall 2024</p>\n",
    "</td>\n",
    "</tr>\n"
   ]
  },
  {
   "cell_type": "markdown",
   "id": "975daa92",
   "metadata": {
    "deletable": false,
    "editable": false,
    "tags": []
   },
   "source": [
    "# Lab 8: Estimation and Confidence Intervals"
   ]
  },
  {
   "cell_type": "markdown",
   "id": "fe331cdc",
   "metadata": {
    "deletable": false,
    "editable": false
   },
   "source": [
    "<hr style=\"margin: 0px; border: 3px solid #500082;\"/>\n",
    "\n",
    "<h2>Instructions</h2>\n",
    "\n",
    "- Before you begin, execute the cell at the TOP of the notebook to load the provided tests, as well as the following cell to setup the notebook by importing some helpful libraries. Each time you start your server, you will need to execute these cells again.  \n",
    "- Be sure to consult your [Python Reference](https://cs104williams.github.io/assets/python-library-ref.html)!\n",
    "- Complete this notebook by filling in the cells provided. For problems asking you to write explanations, you **must** provide your answer in the designated space. \n",
    "- Please be sure to not re-assign variables throughout the notebook.  For example, if you use `max_temperature` in your answer to one question, do not reassign it later on. Otherwise, you will fail tests that you thought you were passing previously.\n",
    "- This lab has hidden tests on it. That means even though tests may say 100% passed, doesn't mean your final grade will be 100%. We will be running more tests for correctness once everyone turns in the lab.\n",
    "- To use one or more late days on this lab, please fill out our [late day form](https://forms.gle/4sD16h3hN1xRqQM27) **before** the due date.\n",
    "\n",
    "<hr/>\n",
    "<h2>Setup</h2>\n"
   ]
  },
  {
   "cell_type": "code",
   "execution_count": null,
   "id": "933a6f66",
   "metadata": {
    "deletable": false,
    "editable": false,
    "execution": {
     "iopub.execute_input": "2024-11-08T01:29:46.947615Z",
     "iopub.status.busy": "2024-11-08T01:29:46.946995Z",
     "iopub.status.idle": "2024-11-08T01:29:48.019400Z",
     "shell.execute_reply": "2024-11-08T01:29:48.019079Z"
    },
    "tags": []
   },
   "outputs": [],
   "source": [
    "# Run this cell to set up the notebook.\n",
    "# These lines import the numpy, datascience, and cs104 libraries.\n",
    "\n",
    "import numpy as np\n",
    "from datascience import *\n",
    "from cs104 import *\n",
    "%matplotlib inline"
   ]
  },
  {
   "cell_type": "markdown",
   "id": "19e8f033",
   "metadata": {
    "deletable": false,
    "editable": false
   },
   "source": [
    "<hr style=\"margin-bottom: 0px; padding:0; border: 2px solid #500082;\"/>\n"
   ]
  },
  {
   "cell_type": "markdown",
   "id": "54e52e5e",
   "metadata": {
    "deletable": false,
    "editable": false
   },
   "source": [
    "## 1. Warm-Up and Bootstrapping (25 pts)\n",
    "\n"
   ]
  },
  {
   "cell_type": "markdown",
   "id": "837c39c0",
   "metadata": {
    "deletable": false,
    "editable": false
   },
   "source": [
    "<font color='#B1008E'>\n",
    "    \n",
    "##### Learning objectives\n",
    "- Practice gathering outcomes of a simulation in an array.\n",
    "- Implement a function for bootstrapping.\n",
    "\n",
    "</font>"
   ]
  },
  {
   "cell_type": "markdown",
   "id": "eb8cd4d6",
   "metadata": {
    "deletable": false,
    "editable": false
   },
   "source": [
    "#### Part 1.1 Review loops to gather outcomes in an array (5 pts)\n"
   ]
  },
  {
   "cell_type": "markdown",
   "id": "797d6ca4",
   "metadata": {
    "deletable": false,
    "editable": false
   },
   "source": [
    "Let's revisit one of our central computation tools from the second half of the semester: *simulation loops to gather an array of outcomes*.  \n",
    "\n",
    "Here's the basic structure of these loops: \n",
    "- Initalize an empty array that collects results.\n",
    "- Then within a for-loop, \"do something\" many times and add the result to the array."
   ]
  },
  {
   "cell_type": "markdown",
   "id": "d4152d83",
   "metadata": {
    "deletable": false,
    "editable": false
   },
   "source": [
    "For this problem, you will implement the \"do something\" step as randomly choosing one integer from an array of four integers: 1, 2, 3, 4. \n",
    "\n",
    "Below, write a line that implements this. *Hint*: You should use the `numpy (np)` library for this. "
   ]
  },
  {
   "cell_type": "code",
   "execution_count": null,
   "id": "54332c7f",
   "metadata": {
    "deletable": false,
    "execution": {
     "iopub.execute_input": "2024-11-08T01:29:48.021616Z",
     "iopub.status.busy": "2024-11-08T01:29:48.021456Z",
     "iopub.status.idle": "2024-11-08T01:29:48.026008Z",
     "shell.execute_reply": "2024-11-08T01:29:48.025755Z"
    },
    "tags": []
   },
   "outputs": [],
   "source": [
    "integer_array = make_array(1, 2, 3, 4)\n",
    "choice = ...\n",
    "choice"
   ]
  },
  {
   "cell_type": "markdown",
   "id": "6d619d0f",
   "metadata": {
    "deletable": false,
    "editable": false
   },
   "source": [
    "Now let's write a simulation loop to repeat 1000 times: randomly choosing from integers 1, 2, 3, 4 and saving these results in an array. \n",
    "\n",
    "*Note:* Do *not* call `simulate` here -- write the loop from scratch."
   ]
  },
  {
   "cell_type": "code",
   "execution_count": null,
   "id": "ec911c10",
   "metadata": {
    "deletable": false,
    "execution": {
     "iopub.execute_input": "2024-11-08T01:29:48.030848Z",
     "iopub.status.busy": "2024-11-08T01:29:48.030759Z",
     "iopub.status.idle": "2024-11-08T01:29:48.040984Z",
     "shell.execute_reply": "2024-11-08T01:29:48.040766Z"
    },
    "tags": []
   },
   "outputs": [],
   "source": [
    "results = ...\n",
    "for i in np.arange(...):\n",
    "    choice = ...\n",
    "    results = ... \n",
    "\n",
    "\n",
    "print(\"Num trials=\", len(results))"
   ]
  },
  {
   "cell_type": "code",
   "execution_count": null,
   "id": "6a0784ab",
   "metadata": {
    "deletable": false,
    "editable": false
   },
   "outputs": [],
   "source": [
    "grader.check(\"p1.1\")"
   ]
  },
  {
   "cell_type": "markdown",
   "id": "4948ecfc",
   "metadata": {
    "deletable": false,
    "editable": false
   },
   "source": [
    "#### Part 1.2 Bootstrapping (5 pts)\n"
   ]
  },
  {
   "cell_type": "markdown",
   "id": "c05a193c",
   "metadata": {
    "deletable": false,
    "editable": false
   },
   "source": [
    "Bootstrapping uses the same loop idiom as above. However, for boostrapping, the \"do something\" consists of two steps: \n",
    "\n",
    "- **Step 1**: Resample with replacement from the original data. The resample should have the same sample size as the original data. \n",
    "- **Step 2**: Calculate the statistic of interest on the resample. "
   ]
  },
  {
   "cell_type": "markdown",
   "id": "bffbbdb4",
   "metadata": {
    "deletable": false,
    "editable": false
   },
   "source": [
    "For **Step 1**, we will use the `np.random.choice` function again."
   ]
  },
  {
   "cell_type": "code",
   "execution_count": null,
   "id": "974d8fad",
   "metadata": {
    "deletable": false,
    "editable": false,
    "execution": {
     "iopub.execute_input": "2024-11-08T01:29:48.048802Z",
     "iopub.status.busy": "2024-11-08T01:29:48.048718Z",
     "iopub.status.idle": "2024-11-08T01:29:48.051024Z",
     "shell.execute_reply": "2024-11-08T01:29:48.050794Z"
    },
    "tags": []
   },
   "outputs": [],
   "source": [
    "# Run this cell \n",
    "# This is the \"original sample\"\n",
    "original_sample = make_array(1, 2, 3, 4, 5)\n",
    "original_sample"
   ]
  },
  {
   "cell_type": "code",
   "execution_count": null,
   "id": "d3314509",
   "metadata": {
    "deletable": false,
    "editable": false,
    "execution": {
     "iopub.execute_input": "2024-11-08T01:29:48.052349Z",
     "iopub.status.busy": "2024-11-08T01:29:48.052272Z",
     "iopub.status.idle": "2024-11-08T01:29:48.054424Z",
     "shell.execute_reply": "2024-11-08T01:29:48.054195Z"
    },
    "tags": []
   },
   "outputs": [],
   "source": [
    "# This is the command to 'sample with replacement' \n",
    "# Run this cell many times to get different results\n",
    "resample = np.random.choice(original_sample, 5)\n",
    "resample"
   ]
  },
  {
   "cell_type": "markdown",
   "id": "730d6457",
   "metadata": {
    "deletable": false,
    "editable": false
   },
   "source": [
    "Now, let's write code to test our code! \n",
    "\n",
    "Write a `check` to make sure that our requirement for bootstrapping is satisified: that the length of the `resample` array is the same as the `original_sample`. "
   ]
  },
  {
   "cell_type": "code",
   "execution_count": null,
   "id": "f8edf91b",
   "metadata": {
    "deletable": false,
    "execution": {
     "iopub.execute_input": "2024-11-08T01:29:48.055830Z",
     "iopub.status.busy": "2024-11-08T01:29:48.055756Z",
     "iopub.status.idle": "2024-11-08T01:29:48.057608Z",
     "shell.execute_reply": "2024-11-08T01:29:48.057382Z"
    },
    "tags": []
   },
   "outputs": [],
   "source": [
    "..."
   ]
  },
  {
   "cell_type": "markdown",
   "id": "9a21154f",
   "metadata": {
    "deletable": false,
    "editable": false
   },
   "source": [
    "For **Step 2**, calculating the statistic of interest, we need a function that computes the statistic. In this case, we could also just use `np.mean` function directly.  However, since you'll need to write new need to write new statistics functions in the problems below, we'll do that here too and create a new function `sample_mean` that we'll use to compute our statistic of interest.)"
   ]
  },
  {
   "cell_type": "code",
   "execution_count": null,
   "id": "7cedcf5c",
   "metadata": {
    "deletable": false,
    "editable": false,
    "execution": {
     "iopub.execute_input": "2024-11-08T01:29:48.059080Z",
     "iopub.status.busy": "2024-11-08T01:29:48.059003Z",
     "iopub.status.idle": "2024-11-08T01:29:48.060785Z",
     "shell.execute_reply": "2024-11-08T01:29:48.060571Z"
    },
    "tags": []
   },
   "outputs": [],
   "source": [
    "def sample_mean(sample_data):\n",
    "    return np.mean(sample_data)\n",
    "\n",
    "check(sample_mean(original_sample) == 3)"
   ]
  },
  {
   "cell_type": "markdown",
   "id": "7e8becae",
   "metadata": {
    "deletable": false,
    "editable": false
   },
   "source": [
    "Now, let's put it together! Complete the function below for bootstrapping. This should combine our loop idiom for gathering results into an array with the two steps we outlined above.  \n",
    "\n",
    "You will find it **very** useful to review our bootstrapping lecture's [notebook](https://www.cs.williams.edu/~cs104/lectures/24-bootstrapping.html)."
   ]
  },
  {
   "cell_type": "code",
   "execution_count": null,
   "id": "5f0753bf",
   "metadata": {
    "deletable": false,
    "execution": {
     "iopub.execute_input": "2024-11-08T01:29:48.062226Z",
     "iopub.status.busy": "2024-11-08T01:29:48.062148Z",
     "iopub.status.idle": "2024-11-08T01:29:48.065358Z",
     "shell.execute_reply": "2024-11-08T01:29:48.065110Z"
    },
    "tags": []
   },
   "outputs": [],
   "source": [
    "def bootstrap_statistic(observed_sample, compute_statistic, num_trials): \n",
    "    \"\"\"\n",
    "    Creates num_trials resamples of the initial sample.\n",
    "    Returns an array of the provided statistic for those samples.\n",
    "\n",
    "    * observed_sample: the initial sample, as an array.\n",
    "    \n",
    "    * compute_statistic: a function that takes a sample as \n",
    "                         an array and returns the statistic for that\n",
    "                         sample. \n",
    "    \n",
    "    * num_trials: the number of bootstrap samples to create.\n",
    "\n",
    "    \"\"\"\n",
    "    bootstrap_statistics = ...\n",
    "    \n",
    "    for i in np.arange(...):\n",
    "        simulated_resample = ...\n",
    "        resample_statistic = ...\n",
    "        bootstrap_statistics = np.append(bootstrap_statistics, ...)\n",
    "\n",
    "    return bootstrap_statistics\n",
    "    \n",
    "\n",
    "# Run a small bootstrap and verify the results are reasonable.\n",
    "tiny_bootstrapped_statistics = bootstrap_statistic(original_sample, sample_mean, 5)\n",
    "tiny_bootstrapped_statistics"
   ]
  },
  {
   "cell_type": "code",
   "execution_count": null,
   "id": "d0faaf64",
   "metadata": {
    "deletable": false,
    "editable": false
   },
   "outputs": [],
   "source": [
    "grader.check(\"p1.2\")"
   ]
  },
  {
   "cell_type": "markdown",
   "id": "11226e2d",
   "metadata": {
    "deletable": false,
    "editable": false,
    "tags": []
   },
   "source": [
    "#### Part 1.3 A bigger bootstrap (5 pts)\n"
   ]
  },
  {
   "cell_type": "markdown",
   "id": "5067e5f3",
   "metadata": {
    "deletable": false,
    "editable": false
   },
   "source": [
    "We'll now run a much larger bootstrap on the same sample."
   ]
  },
  {
   "cell_type": "code",
   "execution_count": null,
   "id": "ad57d245",
   "metadata": {
    "deletable": false,
    "editable": false,
    "execution": {
     "iopub.execute_input": "2024-11-08T01:29:48.076101Z",
     "iopub.status.busy": "2024-11-08T01:29:48.076023Z",
     "iopub.status.idle": "2024-11-08T01:29:48.198122Z",
     "shell.execute_reply": "2024-11-08T01:29:48.197832Z"
    },
    "tags": []
   },
   "outputs": [],
   "source": [
    "bootstrapped_statistics = bootstrap_statistic(original_sample, sample_mean, 2000)\n",
    "results = Table().with_column('Bootstrap Samples Mean', bootstrapped_statistics)\n",
    "plot = results.hist()\n",
    "original_statistic = sample_mean(original_sample)\n",
    "plot.dot(original_statistic)"
   ]
  },
  {
   "cell_type": "markdown",
   "id": "935e1f49",
   "metadata": {
    "deletable": false,
    "editable": false,
    "tags": []
   },
   "source": [
    "Here are a couple checks to ensure it is working properly."
   ]
  },
  {
   "cell_type": "code",
   "execution_count": null,
   "id": "240f0d7d",
   "metadata": {
    "deletable": false,
    "editable": false
   },
   "outputs": [],
   "source": [
    "grader.check(\"p1.3\")"
   ]
  },
  {
   "cell_type": "markdown",
   "id": "7a017b6e",
   "metadata": {
    "deletable": false,
    "editable": false
   },
   "source": [
    "<!-- BEGIN QUESTION -->\n",
    "\n",
    "#### Part 1.4 Interpreting the results (5 pts)\n"
   ]
  },
  {
   "cell_type": "markdown",
   "id": "5a99c8d6",
   "metadata": {
    "deletable": false,
    "editable": false
   },
   "source": [
    "If you implemented bootstrapping correctly, you should see the sample mean (the red dot) at the center of your boostrap empirical distribution (the blue histogram). \n",
    "\n",
    "Why is the bootstrap distribution *centered* around the sample mean? "
   ]
  },
  {
   "cell_type": "markdown",
   "id": "9287f38d",
   "metadata": {
    "deletable": false,
    "editable": false
   },
   "source": [
    "<hr style=\"margin:0; border: 1px solid #FFBE0A;\"/><font color='#FFBE0A'>Written Answer:</font>"
   ]
  },
  {
   "cell_type": "markdown",
   "id": "b5ce17a2",
   "metadata": {
    "deletable": false
   },
   "source": [
    "_Type your answer here, replacing this text._\n"
   ]
  },
  {
   "cell_type": "markdown",
   "id": "6a73665e",
   "metadata": {
    "deletable": false,
    "editable": false
   },
   "source": [
    "<hr style=\"margin:0; border: 1px solid #FFBE0A;\"/>"
   ]
  },
  {
   "cell_type": "markdown",
   "id": "ffb79e05",
   "metadata": {
    "deletable": false,
    "editable": false,
    "tags": []
   },
   "source": [
    "<!-- END QUESTION -->\n",
    "\n",
    "#### Part 1.5 One More Bootstrap... (5 pts)\n"
   ]
  },
  {
   "cell_type": "markdown",
   "id": "75fff7b5",
   "metadata": {
    "deletable": false,
    "editable": false
   },
   "source": [
    "Just to ensure that your bootstrap function is defined properly and will work on other problems, we'll do one more quick bootstrap operation here. \n",
    "This time, we'll start with a sample of Williams students for whom we've recorded whether they are left-handed (1) or right-handed (0) in the following array:"
   ]
  },
  {
   "cell_type": "code",
   "execution_count": null,
   "id": "3f5678dd",
   "metadata": {
    "deletable": false,
    "editable": false,
    "execution": {
     "iopub.execute_input": "2024-11-08T01:29:48.207072Z",
     "iopub.status.busy": "2024-11-08T01:29:48.206965Z",
     "iopub.status.idle": "2024-11-08T01:29:48.208862Z",
     "shell.execute_reply": "2024-11-08T01:29:48.208623Z"
    },
    "tags": []
   },
   "outputs": [],
   "source": [
    "left_handed = make_array(0, 0, 1, 0, 0, 0, 0, 0, 0, 1, 0, 0, 0, 0, 0, 1, 0, 0, 0, 0, 0, 0, 0, 1, 0, 0, 0, 0, 0, 0)"
   ]
  },
  {
   "cell_type": "markdown",
   "id": "0f5edd5f",
   "metadata": {
    "deletable": false,
    "editable": false
   },
   "source": [
    "Given our encoding of the data, the proportion of left-handed students in this sample is just the mean."
   ]
  },
  {
   "cell_type": "code",
   "execution_count": null,
   "id": "200e39fc",
   "metadata": {
    "deletable": false,
    "editable": false,
    "execution": {
     "iopub.execute_input": "2024-11-08T01:29:48.210335Z",
     "iopub.status.busy": "2024-11-08T01:29:48.210232Z",
     "iopub.status.idle": "2024-11-08T01:29:48.212349Z",
     "shell.execute_reply": "2024-11-08T01:29:48.212123Z"
    },
    "tags": []
   },
   "outputs": [],
   "source": [
    "original_left_handed_prop = sample_mean(left_handed)\n",
    "original_left_handed_prop"
   ]
  },
  {
   "cell_type": "markdown",
   "id": "c5ed3dde",
   "metadata": {
    "deletable": false,
    "editable": false
   },
   "source": [
    "We'll now use bootstrapping to construct a histogram showing the proportion of left-handed students in resamples of this sample.  The red dot again shows the statistic (proportion of left-handed students) for the original sample."
   ]
  },
  {
   "cell_type": "code",
   "execution_count": null,
   "id": "3ee360c7",
   "metadata": {
    "deletable": false,
    "editable": false,
    "execution": {
     "iopub.execute_input": "2024-11-08T01:29:48.213783Z",
     "iopub.status.busy": "2024-11-08T01:29:48.213678Z",
     "iopub.status.idle": "2024-11-08T01:29:48.378091Z",
     "shell.execute_reply": "2024-11-08T01:29:48.377797Z"
    },
    "tags": []
   },
   "outputs": [],
   "source": [
    "bootstrapped_left_handed_statistics = bootstrap_statistic(left_handed, sample_mean, 5000)\n",
    "results = Table().with_column('Bootstrap Samples Mean', bootstrapped_left_handed_statistics)\n",
    "plot = results.hist()\n",
    "plot.dot(original_left_handed_prop)"
   ]
  },
  {
   "cell_type": "markdown",
   "id": "adcbc1b3",
   "metadata": {
    "deletable": false,
    "editable": false
   },
   "source": [
    "Here is the mean of our resample statistics.  As above, it should be very close to the mean of the original sample statistic."
   ]
  },
  {
   "cell_type": "code",
   "execution_count": null,
   "id": "55bb725a",
   "metadata": {
    "deletable": false,
    "editable": false,
    "execution": {
     "iopub.execute_input": "2024-11-08T01:29:48.379692Z",
     "iopub.status.busy": "2024-11-08T01:29:48.379577Z",
     "iopub.status.idle": "2024-11-08T01:29:48.381741Z",
     "shell.execute_reply": "2024-11-08T01:29:48.381493Z"
    },
    "tags": []
   },
   "outputs": [],
   "source": [
    "np.mean(bootstrapped_left_handed_statistics)"
   ]
  },
  {
   "cell_type": "markdown",
   "id": "bec95b2d",
   "metadata": {
    "deletable": false,
    "editable": false,
    "tags": []
   },
   "source": [
    "The following checks should verify this for you.  If the checks fail, there is likely an error in your `bootstrap_statistic` and you should double check the steps of that function."
   ]
  },
  {
   "cell_type": "code",
   "execution_count": null,
   "id": "2ff5d0ad",
   "metadata": {
    "deletable": false,
    "editable": false
   },
   "outputs": [],
   "source": [
    "grader.check(\"p1.5\")"
   ]
  },
  {
   "cell_type": "markdown",
   "id": "e76fe970",
   "metadata": {
    "deletable": false,
    "editable": false
   },
   "source": [
    "<hr style=\"margin-bottom: 0px; padding:0; border: 2px solid #500082;\"/>\n"
   ]
  },
  {
   "cell_type": "markdown",
   "id": "fd0f06c2",
   "metadata": {
    "deletable": false,
    "editable": false
   },
   "source": [
    "## 2. Spring Street Restaurants (45 pts)\n",
    "\n"
   ]
  },
  {
   "cell_type": "markdown",
   "id": "647942df",
   "metadata": {
    "deletable": false,
    "editable": false
   },
   "source": [
    "<font color='#B1008E'>\n",
    "    \n",
    "##### Learning objectives\n",
    "- Use bootstrapping to estimate confidence intervals for a data sample. \n",
    "    \n",
    "</font>"
   ]
  },
  {
   "cell_type": "markdown",
   "id": "9b9a3146",
   "metadata": {
    "deletable": false,
    "editable": false
   },
   "source": [
    "Our goal is to estimate the \"most popular\" Williamstown restaurant on Spring Street. \n",
    "\n",
    "We surveyed 1,500 Williams students, faculty, and community members selected uniformly at random and asked each person which of the following four restaurants is the best. (*Note: This data is entirely fabricated for the purposes of this homework -- we actually love eating at all these restaurants!*) The choices of restaurants are Pera, Blue Mango, Spring St. Market, and Taste of India. After compiling the results, we release the following percentages from their sample:\n",
    "\n",
    "| Restaurant  | Percentage|\n",
    "|:------------ |:------------:|\n",
    "|Pera | 8.2% |\n",
    "|Blue Mango | 52.8% |\n",
    "|Spring St. Market | 25% |\n",
    "|Taste of India | 14% |\n",
    "\n",
    "Now, we will attempt to estimate the corresponding *parameters*, or the percentage of the votes that each restaurant would receive if we asked every member of the population (i.e. all Williams students, faculty, and community members). We will use confidence intervals to compute a range of values that reflects the uncertainty of our estimates.\n",
    "\n",
    "The array `observed_votes` contains the results of this survey. "
   ]
  },
  {
   "cell_type": "code",
   "execution_count": null,
   "id": "81a289cb",
   "metadata": {
    "deletable": false,
    "editable": false,
    "execution": {
     "iopub.execute_input": "2024-11-08T01:29:48.389961Z",
     "iopub.status.busy": "2024-11-08T01:29:48.389861Z",
     "iopub.status.idle": "2024-11-08T01:29:48.394014Z",
     "shell.execute_reply": "2024-11-08T01:29:48.393770Z"
    },
    "tags": []
   },
   "outputs": [],
   "source": [
    "# Just run this cell\n",
    "votes_table = Table().read_table('votes.csv')\n",
    "observed_votes = votes_table.column('Vote')\n",
    "\n",
    "np.random.choice(observed_votes, 10) #sampling to look at the variety"
   ]
  },
  {
   "cell_type": "markdown",
   "id": "043f2402",
   "metadata": {
    "deletable": false,
    "editable": false
   },
   "source": [
    "#### Part 2.1 (5 pts)\n"
   ]
  },
  {
   "cell_type": "markdown",
   "id": "bf7d631f",
   "metadata": {
    "deletable": false,
    "editable": false
   },
   "source": [
    "We have given you the function `percent_of_vote` below. It returns the **percentage** of votes in the given array of `votes`. "
   ]
  },
  {
   "cell_type": "code",
   "execution_count": null,
   "id": "2a2a9747",
   "metadata": {
    "deletable": false,
    "editable": false,
    "execution": {
     "iopub.execute_input": "2024-11-08T01:29:48.395562Z",
     "iopub.status.busy": "2024-11-08T01:29:48.395470Z",
     "iopub.status.idle": "2024-11-08T01:29:48.398015Z",
     "shell.execute_reply": "2024-11-08T01:29:48.397760Z"
    },
    "tags": []
   },
   "outputs": [],
   "source": [
    "def percent_of_vote(votes, restaurant):\n",
    "    single_percentage = (sum(votes == restaurant) / len(votes)) * 100\n",
    "    return single_percentage\n",
    "\n",
    "percent_of_vote(observed_votes, 'Pera')"
   ]
  },
  {
   "cell_type": "markdown",
   "id": "8b4e6e2b",
   "metadata": {
    "deletable": false,
    "editable": false
   },
   "source": [
    "Complete the function `percent_blue_mango` that uses the `percent_of_vote` function to return the percent of votes for just Blue Mango. "
   ]
  },
  {
   "cell_type": "code",
   "execution_count": null,
   "id": "9b5eeb15",
   "metadata": {
    "deletable": false,
    "execution": {
     "iopub.execute_input": "2024-11-08T01:29:48.399594Z",
     "iopub.status.busy": "2024-11-08T01:29:48.399491Z",
     "iopub.status.idle": "2024-11-08T01:29:48.401125Z",
     "shell.execute_reply": "2024-11-08T01:29:48.400877Z"
    },
    "tags": []
   },
   "outputs": [],
   "source": [
    "def percent_blue_mango(votes): \n",
    "    ..."
   ]
  },
  {
   "cell_type": "code",
   "execution_count": null,
   "id": "60c9374d",
   "metadata": {
    "deletable": false,
    "editable": false
   },
   "outputs": [],
   "source": [
    "grader.check(\"p2.1\")"
   ]
  },
  {
   "cell_type": "markdown",
   "id": "ec744895",
   "metadata": {
    "deletable": false,
    "editable": false
   },
   "source": [
    "#### Part 2.2 (5 pts)\n"
   ]
  },
  {
   "cell_type": "markdown",
   "id": "4574254e",
   "metadata": {
    "deletable": false,
    "editable": false
   },
   "source": [
    "Now, let's use the `bootstrap` function you implemented previously. \n",
    "\n",
    "Below, complete the arguments of the function such that it simulates and returns an array of bootstrapped estimates of the percentage of voters who will vote for **Blue Mango**. "
   ]
  },
  {
   "cell_type": "code",
   "execution_count": null,
   "id": "c7b66268",
   "metadata": {
    "deletable": false,
    "execution": {
     "iopub.execute_input": "2024-11-08T01:29:48.409344Z",
     "iopub.status.busy": "2024-11-08T01:29:48.409243Z",
     "iopub.status.idle": "2024-11-08T01:29:48.412607Z",
     "shell.execute_reply": "2024-11-08T01:29:48.412346Z"
    },
    "tags": []
   },
   "outputs": [],
   "source": [
    "num_trials = 5 #start with just a few resamples\n",
    "tiny_bootstrap_votes_blue_mango = bootstrap_statistic(...,\n",
    "                                                      ...,\n",
    "                                                      num_trials)\n",
    "    \n",
    "\n",
    "tiny_bootstrap_votes_blue_mango"
   ]
  },
  {
   "cell_type": "code",
   "execution_count": null,
   "id": "1aca572e",
   "metadata": {
    "deletable": false,
    "editable": false
   },
   "outputs": [],
   "source": [
    "grader.check(\"p2.2\")"
   ]
  },
  {
   "cell_type": "markdown",
   "id": "7d87a98a",
   "metadata": {
    "deletable": false,
    "editable": false
   },
   "source": [
    "In the following cell, run the same `bootstrap_statistic()` function again. But this time with 5000 bootstrap resamples. \n",
    "\n",
    "*Note:* This might take a few seconds to run."
   ]
  },
  {
   "cell_type": "markdown",
   "id": "50b1eda4",
   "metadata": {
    "deletable": false,
    "editable": false
   },
   "source": [
    "#### Part 2.3 (5 pts)\n"
   ]
  },
  {
   "cell_type": "markdown",
   "id": "28f98165",
   "metadata": {
    "deletable": false,
    "editable": false
   },
   "source": [
    "Now run the bootstrap for 5,000 trials."
   ]
  },
  {
   "cell_type": "code",
   "execution_count": null,
   "id": "87a21a31",
   "metadata": {
    "deletable": false,
    "execution": {
     "iopub.execute_input": "2024-11-08T01:29:48.420709Z",
     "iopub.status.busy": "2024-11-08T01:29:48.420629Z",
     "iopub.status.idle": "2024-11-08T01:29:49.146741Z",
     "shell.execute_reply": "2024-11-08T01:29:49.146438Z"
    },
    "tags": []
   },
   "outputs": [],
   "source": [
    "bootstrap_votes_blue_mango = bootstrap_statistic(...,\n",
    "                                       ...,\n",
    "                                       5000)\n",
    "    \n",
    "\n",
    "# Plot the histogram (no need to change this line) \n",
    "Table().with_column('Estimated Percentage', bootstrap_votes_blue_mango).hist(\"Estimated Percentage\")"
   ]
  },
  {
   "cell_type": "markdown",
   "id": "32fa2adc",
   "metadata": {
    "deletable": false,
    "editable": false
   },
   "source": [
    "#### Part 2.4 (5 pts)\n"
   ]
  },
  {
   "cell_type": "markdown",
   "id": "987babda",
   "metadata": {
    "deletable": false,
    "editable": false
   },
   "source": [
    "Using the array `bootstrap_votes_blue_mango`, find the values at the two edges of the middle 95% of the bootstrapped percentage estimates. That is, compute the lower and upper ends of the interval, named `blue_mango_lower_bound` and `blue_mango_upper_bound`, respectively.  You should use `percentile` function."
   ]
  },
  {
   "cell_type": "code",
   "execution_count": null,
   "id": "aff190a4",
   "metadata": {
    "deletable": false,
    "execution": {
     "iopub.execute_input": "2024-11-08T01:29:49.148685Z",
     "iopub.status.busy": "2024-11-08T01:29:49.148566Z",
     "iopub.status.idle": "2024-11-08T01:29:49.152458Z",
     "shell.execute_reply": "2024-11-08T01:29:49.152188Z"
    },
    "tags": []
   },
   "outputs": [],
   "source": [
    "blue_mango_lower_bound = ...\n",
    "blue_mango_upper_bound = ...\n",
    "print('Bootstrapped 95% confidence interval for the percentage of Blue Mango voters in the population:\\n',\n",
    "      np.round(make_array(blue_mango_lower_bound, blue_mango_upper_bound), 2))"
   ]
  },
  {
   "cell_type": "code",
   "execution_count": null,
   "id": "39491ef0",
   "metadata": {
    "deletable": false,
    "editable": false
   },
   "outputs": [],
   "source": [
    "grader.check(\"p2.4\")"
   ]
  },
  {
   "cell_type": "markdown",
   "id": "798dfca1",
   "metadata": {
    "deletable": false,
    "editable": false
   },
   "source": [
    "Here is the plot from above, this time with your 95% confidence interval shown."
   ]
  },
  {
   "cell_type": "code",
   "execution_count": null,
   "id": "68ac77cf",
   "metadata": {
    "deletable": false,
    "editable": false,
    "execution": {
     "iopub.execute_input": "2024-11-08T01:29:49.165946Z",
     "iopub.status.busy": "2024-11-08T01:29:49.165863Z",
     "iopub.status.idle": "2024-11-08T01:29:49.264202Z",
     "shell.execute_reply": "2024-11-08T01:29:49.263910Z"
    },
    "tags": []
   },
   "outputs": [],
   "source": [
    "# Plot the histogram (no need to change this line) \n",
    "plot = Table().with_column('Estimated Percentage', bootstrap_votes_blue_mango).hist(\"Estimated Percentage\")\n",
    "plot.interval(blue_mango_lower_bound, blue_mango_upper_bound)"
   ]
  },
  {
   "cell_type": "markdown",
   "id": "7b387bb6",
   "metadata": {
    "deletable": false,
    "editable": false
   },
   "source": [
    "<!-- BEGIN QUESTION -->\n",
    "\n",
    "#### Part 2.5 (5 pts)\n"
   ]
  },
  {
   "cell_type": "markdown",
   "id": "203e5f29",
   "metadata": {
    "deletable": false,
    "editable": false,
    "tags": []
   },
   "source": [
    "Below is a visualization to let you experiment with different sample sizes and number of samples.  Run the cell and adjust the parameters to get a sense of how important sample size and number of trials is to this bootstrap.  Try to predict what happens when the sample size becomes small -- is that what you see?"
   ]
  },
  {
   "cell_type": "code",
   "execution_count": null,
   "id": "9981ce0f",
   "metadata": {
    "deletable": false,
    "editable": false,
    "execution": {
     "iopub.execute_input": "2024-11-08T01:29:49.265849Z",
     "iopub.status.busy": "2024-11-08T01:29:49.265743Z",
     "iopub.status.idle": "2024-11-08T01:29:49.396297Z",
     "shell.execute_reply": "2024-11-08T01:29:49.395921Z"
    },
    "tags": []
   },
   "outputs": [],
   "source": [
    "def visualize_bootstrap(sample_size, num_trials):\n",
    "    # start with a subset of the original votes, drawn at random\n",
    "    sample = np.random.choice(observed_votes, sample_size)\n",
    "    resampled_percentages = bootstrap_statistic(sample, percent_blue_mango, num_trials)\n",
    "    plot = Table().with_column('Estimated Percentage', resampled_percentages).hist(\"Estimated Percentage\")\n",
    "    plot.set_title('sample_size=' + str(sample_size) + '; num_trials=' + str(num_trials))\n",
    "    plot.interval(confidence_interval(95,resampled_percentages))\n",
    "\n",
    "interact(visualize_bootstrap, sample_size=Slider(1,500), num_trials=Slider(10,2010, 100))"
   ]
  },
  {
   "cell_type": "markdown",
   "id": "433f8149",
   "metadata": {
    "deletable": false,
    "editable": false
   },
   "source": [
    "Describe what you observe.  What changes when you increase or decrease the sample size?  What changes when you increase the number of trials?"
   ]
  },
  {
   "cell_type": "markdown",
   "id": "3b0ddc6d",
   "metadata": {
    "deletable": false,
    "editable": false
   },
   "source": [
    "<hr style=\"margin:0; border: 1px solid #FFBE0A;\"/><font color='#FFBE0A'>Written Answer:</font>"
   ]
  },
  {
   "cell_type": "markdown",
   "id": "d09768ad",
   "metadata": {
    "deletable": false
   },
   "source": [
    "_Type your answer here, replacing this text._\n"
   ]
  },
  {
   "cell_type": "markdown",
   "id": "d9a5d42a",
   "metadata": {
    "deletable": false,
    "editable": false
   },
   "source": [
    "<hr style=\"margin:0; border: 1px solid #FFBE0A;\"/>"
   ]
  },
  {
   "cell_type": "markdown",
   "id": "ef7f7ba7",
   "metadata": {
    "deletable": false,
    "editable": false
   },
   "source": [
    "<!-- END QUESTION -->\n",
    "\n",
    "#### Part 2.6 (5 pts)\n"
   ]
  },
  {
   "cell_type": "markdown",
   "id": "efdca58e",
   "metadata": {
    "deletable": false,
    "editable": false
   },
   "source": [
    "The survey results seem to indicate that Blue Mango is beating all the other restaurants combined among voters. We would like to use confidence intervals to determine a range of likely values for Blue Mango's true lead over all the other restaurants combined. The calculation for Blue Mango's lead over Pera, Spring St. Market, and Taste of India combined is:\n",
    "\n",
    "$$ \\text{Blue Mango's % of the vote} - (\\text{100 %} - \\text{Blue Mango's % of Vote})$$\n",
    "\n",
    "Define the function `percent_blue_mango_lead` that returns **exactly one value**\" Blue Mango's percentage lead over Pera, Spring St. Market, and Taste of India combined in `votes_table`. \n",
    "\n",
    "*Hints:* \n",
    "- Blue Mango's lead can be negative.\n",
    "- Your solution should use `percent_of_vote` or `percent_blue_mango` from one of the previous questions. "
   ]
  },
  {
   "cell_type": "code",
   "execution_count": null,
   "id": "35c762f6",
   "metadata": {
    "deletable": false,
    "execution": {
     "iopub.execute_input": "2024-11-08T01:29:49.398668Z",
     "iopub.status.busy": "2024-11-08T01:29:49.398576Z",
     "iopub.status.idle": "2024-11-08T01:29:49.401234Z",
     "shell.execute_reply": "2024-11-08T01:29:49.400998Z"
    },
    "tags": []
   },
   "outputs": [],
   "source": [
    "def percent_blue_mango_lead(votes):\n",
    "    ...\n",
    "    \n",
    "percent_blue_mango_lead(observed_votes)"
   ]
  },
  {
   "cell_type": "code",
   "execution_count": null,
   "id": "e9cba0e0",
   "metadata": {
    "deletable": false,
    "editable": false
   },
   "outputs": [],
   "source": [
    "grader.check(\"p2.6\")"
   ]
  },
  {
   "cell_type": "markdown",
   "id": "da8c28c7",
   "metadata": {
    "deletable": false,
    "editable": false
   },
   "source": [
    "<!-- BEGIN QUESTION -->\n",
    "\n",
    "#### Part 2.7 (5 pts)\n"
   ]
  },
  {
   "cell_type": "markdown",
   "id": "76df6549",
   "metadata": {
    "deletable": false,
    "editable": false
   },
   "source": [
    "Now use `bootstrap_statistic()` to compute bootstrapped estimates of Blue Mango's lead over Pera, Spring St. Market, and Taste of India combined. Plot a histogram of the resulting samples.  \n",
    "\n",
    "*Hint:* Your function should use `percent_blue_mango_lead`."
   ]
  },
  {
   "cell_type": "code",
   "execution_count": null,
   "id": "0591be63",
   "metadata": {
    "deletable": false,
    "execution": {
     "iopub.execute_input": "2024-11-08T01:29:49.406479Z",
     "iopub.status.busy": "2024-11-08T01:29:49.406399Z",
     "iopub.status.idle": "2024-11-08T01:29:49.770332Z",
     "shell.execute_reply": "2024-11-08T01:29:49.770003Z"
    },
    "tags": []
   },
   "outputs": [],
   "source": [
    "num_trials = 2000\n",
    "bootstrap_blue_mango_leads = bootstrap_statistic(...,\n",
    "                                                 ...,\n",
    "                                                 num_trials)\n",
    "    \n",
    "\n",
    "Table().with_column('Estimated Lead', bootstrap_blue_mango_leads).hist(\"Estimated Lead\")"
   ]
  },
  {
   "cell_type": "code",
   "execution_count": null,
   "id": "4c9b7eb3",
   "metadata": {
    "deletable": false,
    "editable": false
   },
   "outputs": [],
   "source": [
    "grader.check(\"p2.7\")"
   ]
  },
  {
   "cell_type": "markdown",
   "id": "d37996c5",
   "metadata": {
    "deletable": false,
    "editable": false
   },
   "source": [
    "<!-- END QUESTION -->\n",
    "\n",
    "#### Part 2.8 (5 pts)\n"
   ]
  },
  {
   "cell_type": "markdown",
   "id": "6058489a",
   "metadata": {
    "deletable": false,
    "editable": false
   },
   "source": [
    "Use the simulated data in `bootstrap_blue_mango_leads` from the previous question and the function `confidence_interval` from [our library](https://www.cs.williams.edu/~cs104/auto/inference-library-ref.html) to compute an approximate 90% confidence interval for Blue Mango's true lead over Pera, Spring St. Market, and Taste of India combined. "
   ]
  },
  {
   "cell_type": "code",
   "execution_count": null,
   "id": "d4db4952",
   "metadata": {
    "deletable": false,
    "execution": {
     "iopub.execute_input": "2024-11-08T01:29:49.778781Z",
     "iopub.status.busy": "2024-11-08T01:29:49.778674Z",
     "iopub.status.idle": "2024-11-08T01:29:49.781410Z",
     "shell.execute_reply": "2024-11-08T01:29:49.781134Z"
    },
    "tags": []
   },
   "outputs": [],
   "source": [
    "lead_ci = ...\n",
    "lead_lower_bound, lead_upper_bound = lead_ci\n",
    "print(\"Bootstrapped 90% confidence interval for Blue Mango's true lead over Pera, Spring St. Market, and Taste of India combined:\\n\", \n",
    "      np.round(make_array(lead_lower_bound, lead_upper_bound), 2))"
   ]
  },
  {
   "cell_type": "code",
   "execution_count": null,
   "id": "1983aaa2",
   "metadata": {
    "deletable": false,
    "editable": false
   },
   "outputs": [],
   "source": [
    "grader.check(\"p2.8\")"
   ]
  },
  {
   "cell_type": "markdown",
   "id": "32998e4b",
   "metadata": {
    "deletable": false,
    "editable": false
   },
   "source": [
    "<!-- BEGIN QUESTION -->\n",
    "\n",
    "#### Part 2.9 (5 pts)\n"
   ]
  },
  {
   "cell_type": "markdown",
   "id": "86136905",
   "metadata": {
    "deletable": false,
    "editable": false
   },
   "source": [
    "Suppose you were consulting with Blue Mango and they wanted to know how popular they are as a business compared to their competition? \n",
    "\n",
    "How would you explain this to them?\n",
    "\n",
    "Use all the previous parts you calculated (including the confidence intervals). "
   ]
  },
  {
   "cell_type": "markdown",
   "id": "4a9b7b61",
   "metadata": {
    "deletable": false,
    "editable": false
   },
   "source": [
    "<hr style=\"margin:0; border: 1px solid #FFBE0A;\"/><font color='#FFBE0A'>Written Answer:</font>"
   ]
  },
  {
   "cell_type": "markdown",
   "id": "8c303ab4",
   "metadata": {
    "deletable": false
   },
   "source": [
    "_Type your answer here, replacing this text._\n"
   ]
  },
  {
   "cell_type": "markdown",
   "id": "8a861082",
   "metadata": {
    "deletable": false,
    "editable": false
   },
   "source": [
    "<hr style=\"margin:0; border: 1px solid #FFBE0A;\"/>"
   ]
  },
  {
   "cell_type": "markdown",
   "id": "db6a6ede",
   "metadata": {
    "deletable": false,
    "editable": false
   },
   "source": [
    "<!-- END QUESTION -->\n",
    "\n",
    "<hr style=\"margin-bottom: 0px; padding:0; border: 2px solid #500082;\"/>\n"
   ]
  },
  {
   "cell_type": "markdown",
   "id": "e4686370",
   "metadata": {
    "deletable": false,
    "editable": false
   },
   "source": [
    "## 3. Interpreting Confidence Intervals (25 pts)\n",
    "\n"
   ]
  },
  {
   "cell_type": "markdown",
   "id": "7928da68",
   "metadata": {
    "deletable": false,
    "editable": false
   },
   "source": [
    "<font color='#B1008E'>\n",
    "    \n",
    "##### Learning objectives\n",
    "- Practice interpreting confidence intervals. \n",
    "- Reason about the factors that make a confidence interval narrower (more certainty) or wider (less certainty). \n",
    "</font>"
   ]
  },
  {
   "cell_type": "markdown",
   "id": "401da9e8",
   "metadata": {
    "deletable": false,
    "editable": false
   },
   "source": [
    "We computed the following 95% confidence interval for the percentage of Blue Mango voters: \n",
    "\n",
    "$$[50.40, 55.40]$$\n",
    "\n",
    "(Your answer may have been a bit different due to randomness; that doesn't mean it was wrong!)"
   ]
  },
  {
   "cell_type": "markdown",
   "id": "8c85521c",
   "metadata": {
    "deletable": false,
    "editable": false
   },
   "source": [
    "<!-- BEGIN QUESTION -->\n",
    "\n",
    "#### Part 3.1 (5 pts)\n"
   ]
  },
  {
   "cell_type": "markdown",
   "id": "bf59a4c8",
   "metadata": {
    "deletable": false,
    "editable": false
   },
   "source": [
    " The staff also created 70%, 90%, and 99% confidence intervals from the same sample, but we forgot to label which confidence interval represented which percentages! First, match each confidence level (70%, 90%, 99%) with its corresponding interval in the cell below (e.g. if we had a part D and 80% level we would assign `D=80`). **Then**, explain your thought process and how you came up with your answers. \n",
    "\n",
    "The intervals are below:\n",
    "\n",
    "* A: [51.47, 54.20]\n",
    "* B: [49.60, 56.13]\n",
    "* C: [50.80, 55.00]\n",
    "\n",
    "*Hint*: It may be helpful to draw these out with pen and paper. "
   ]
  },
  {
   "cell_type": "markdown",
   "id": "ff294e54",
   "metadata": {
    "deletable": false,
    "editable": false
   },
   "source": [
    "<hr style=\"margin:0; border: 1px solid #FFBE0A;\"/><font color='#FFBE0A'>Written Answer:</font>"
   ]
  },
  {
   "cell_type": "markdown",
   "id": "95c1d084",
   "metadata": {
    "deletable": false
   },
   "source": [
    "Type your answer here:\n",
    "\n",
    "* A is ... [one of 70% CI, 90% CI, 99% CI]\n",
    "* B is ... [one of 70% CI, 90% CI, 99% CI]\n",
    "* C is ... [one of 70% CI, 90% CI, 99% CI]\n",
    "\n",
    "Justification: ..."
   ]
  },
  {
   "cell_type": "markdown",
   "id": "d6e2c8bc",
   "metadata": {
    "deletable": false
   },
   "source": [
    "<hr style=\"margin:0; border: 1px solid #FFBE0A;\"/>"
   ]
  },
  {
   "cell_type": "markdown",
   "id": "afcac3ff",
   "metadata": {
    "deletable": false,
    "editable": false
   },
   "source": [
    "<!-- END QUESTION -->\n",
    "\n",
    "#### Part 3.2 (5 pts)\n"
   ]
  },
  {
   "cell_type": "markdown",
   "id": "fc589415",
   "metadata": {
    "deletable": false,
    "editable": false
   },
   "source": [
    " Suppose we produced 5,000 new samples (each one a uniform random sample of 1,500 voters) from the population and created a 95% confidence interval from each one. Roughly how many of those 5,000 intervals do you expect will actually contain the true percentage of the population? \n",
    "\n",
    "Assign your answer to `num_intervals_with_true`.\n",
    "\n"
   ]
  },
  {
   "cell_type": "code",
   "execution_count": null,
   "id": "eb8a744f",
   "metadata": {
    "deletable": false,
    "execution": {
     "iopub.execute_input": "2024-11-08T01:29:49.794427Z",
     "iopub.status.busy": "2024-11-08T01:29:49.794323Z",
     "iopub.status.idle": "2024-11-08T01:29:49.795934Z",
     "shell.execute_reply": "2024-11-08T01:29:49.795693Z"
    },
    "tags": []
   },
   "outputs": [],
   "source": [
    "num_intervals_with_true = ..."
   ]
  },
  {
   "cell_type": "code",
   "execution_count": null,
   "id": "2dc44d91",
   "metadata": {
    "deletable": false,
    "editable": false
   },
   "outputs": [],
   "source": [
    "grader.check(\"p3.2\")"
   ]
  },
  {
   "cell_type": "markdown",
   "id": "c5a28c4a",
   "metadata": {
    "deletable": false,
    "editable": false
   },
   "source": [
    "#### Part 3.3 (5 pts)\n"
   ]
  },
  {
   "cell_type": "markdown",
   "id": "be048739",
   "metadata": {
    "deletable": false,
    "editable": false
   },
   "source": [
    "Recall the second bootstrap confidence interval you created for estimating Blue Mango's lead over Pera, Spring St. Market, and Taste of India combined. Among\n",
    "voters in the sample, Blue Mango's lead was 6%. Our 95% confidence interval for the true lead (in the population of all voters) was:\n",
    "\n",
    "$$[0.933\\%, 10.933\\%]$$\n",
    "\n",
    "Suppose we are interested in testing a simple yes-or-no question:\n",
    "\n",
    "> \"Is the percentage of votes for Blue Mango equal to the percentage of votes for Pera, Spring St. Market, and Taste of India combined?\"\n",
    "\n",
    "Our null hypothesis is that the percentages are equal, or equivalently, that Blue Mango's lead is exactly 0. Our alternative hypothesis is that Blue Mango's lead is not equal to 0.  In the questions below, don't compute any confidence interval yourself - use only the staff's 95% confidence interval."
   ]
  },
  {
   "cell_type": "markdown",
   "id": "cf75d2b1",
   "metadata": {
    "deletable": false,
    "editable": false
   },
   "source": [
    " Say we use a 5% p-value cutoff. Do we reject the null hypothesis, fail to reject the null hypothesis, or are we unable to tell using the staff's confidence interval? \n",
    "\n",
    "Assign `restaurants_equal` to the number corresponding to the correct answer.\n",
    "\n",
    "1. Reject the null hypothesis / Data is consistent with the alternative hypothesis\n",
    "2. Fail to reject the null hypothesis / Data is consistent with the null hypothesis\n",
    "3. Unable to tell using the confidence interval given. \n",
    "\n",
    "*Hint:* Consider the relationship between the p-value cutoff and confidence. If you're confused, take a look at [this chapter](https://inferentialthinking.com/chapters/13/4/Using_Confidence_Intervals.html) of the textbook.\n",
    "\n"
   ]
  },
  {
   "cell_type": "code",
   "execution_count": null,
   "id": "0a0a7f90",
   "metadata": {
    "deletable": false,
    "execution": {
     "iopub.execute_input": "2024-11-08T01:29:49.803857Z",
     "iopub.status.busy": "2024-11-08T01:29:49.803760Z",
     "iopub.status.idle": "2024-11-08T01:29:49.805277Z",
     "shell.execute_reply": "2024-11-08T01:29:49.805045Z"
    },
    "tags": []
   },
   "outputs": [],
   "source": [
    "restaurants_equal = ..."
   ]
  },
  {
   "cell_type": "code",
   "execution_count": null,
   "id": "47927770",
   "metadata": {
    "deletable": false,
    "editable": false
   },
   "outputs": [],
   "source": [
    "grader.check(\"p3.3\")"
   ]
  },
  {
   "cell_type": "markdown",
   "id": "89d367d3",
   "metadata": {
    "deletable": false,
    "editable": false
   },
   "source": [
    "#### Part 3.4 (5 pts)\n"
   ]
  },
  {
   "cell_type": "markdown",
   "id": "2358fc5e",
   "metadata": {
    "deletable": false,
    "editable": false
   },
   "source": [
    " What if, instead, we use a p-value cutoff of 1%? Do we reject the null, fail to reject the null, or are we unable to tell using our staff confidence interval? \n",
    "\n",
    "Assign `cutoff_one_percent` to the number corresponding to the correct answer.\n",
    "\n",
    "1. Reject the null / Data is consistent with the alternative hypothesis\n",
    "2. Fail to reject the null / Data is consistent with the null hypothesis\n",
    "3. Unable to tell using our staff confidence interval\n",
    "\n"
   ]
  },
  {
   "cell_type": "code",
   "execution_count": null,
   "id": "a8c68555",
   "metadata": {
    "deletable": false,
    "execution": {
     "iopub.execute_input": "2024-11-08T01:29:49.813297Z",
     "iopub.status.busy": "2024-11-08T01:29:49.813214Z",
     "iopub.status.idle": "2024-11-08T01:29:49.814858Z",
     "shell.execute_reply": "2024-11-08T01:29:49.814612Z"
    },
    "tags": []
   },
   "outputs": [],
   "source": [
    "cutoff_one_percent = ..."
   ]
  },
  {
   "cell_type": "code",
   "execution_count": null,
   "id": "025c78e5",
   "metadata": {
    "deletable": false,
    "editable": false
   },
   "outputs": [],
   "source": [
    "grader.check(\"p3.4\")"
   ]
  },
  {
   "cell_type": "markdown",
   "id": "db60949a",
   "metadata": {
    "deletable": false,
    "editable": false
   },
   "source": [
    "#### Part 3.5 (5 pts)\n"
   ]
  },
  {
   "cell_type": "markdown",
   "id": "76795ff2",
   "metadata": {
    "deletable": false,
    "editable": false
   },
   "source": [
    " What if we use a p-value cutoff of 10%? Do we reject, fail to reject, or are we unable to tell using our confidence interval? \n",
    "\n",
    "Assign `cutoff_ten_percent` to the number corresponding to the correct answer.\n",
    "\n",
    "1. Reject the null / Data is consistent with the alternative hypothesis\n",
    "2. Fail to reject the null / Data is consistent with the null hypothesis\n",
    "3. Unable to tell using our staff confidence interval\n",
    "\n"
   ]
  },
  {
   "cell_type": "code",
   "execution_count": null,
   "id": "e03d00f4",
   "metadata": {
    "deletable": false,
    "execution": {
     "iopub.execute_input": "2024-11-08T01:29:49.822715Z",
     "iopub.status.busy": "2024-11-08T01:29:49.822637Z",
     "iopub.status.idle": "2024-11-08T01:29:49.824119Z",
     "shell.execute_reply": "2024-11-08T01:29:49.823895Z"
    },
    "tags": []
   },
   "outputs": [],
   "source": [
    "cutoff_ten_percent = ..."
   ]
  },
  {
   "cell_type": "code",
   "execution_count": null,
   "id": "d474e119",
   "metadata": {
    "deletable": false,
    "editable": false
   },
   "outputs": [],
   "source": [
    "grader.check(\"p3.5\")"
   ]
  },
  {
   "cell_type": "markdown",
   "id": "72adce99",
   "metadata": {
    "deletable": false,
    "editable": false
   },
   "source": [
    "<hr class=\"m-0\" style=\"border: 3px solid #500082;\"/>\n",
    "\n",
    "# You're Done!\n",
    "Follow these steps to submit your work:\n",
    "* Run the tests and verify that they pass as you expect. \n",
    "* Choose **Save Notebook** from the **File** menu.\n",
    "* **Run the final cell** and click the link below to download the zip file. \n",
    "\n",
    "Once you have downloaded that file, go to [Gradescope](https://www.gradescope.com/) and submit the zip file to \n",
    "the corresponding assignment. For Lab N, the assignment will be called \"Lab N Autograder\".\n",
    "\n",
    "Once you have submitted, your Gradescope assignment should show you passing all the tests you passed in your assignment notebook.\n"
   ]
  },
  {
   "cell_type": "markdown",
   "id": "02e7014e",
   "metadata": {
    "deletable": false,
    "editable": false
   },
   "source": [
    "## Submission\n",
    "\n",
    "Make sure you have run all cells in your notebook in order before running the cell below, so that all images/graphs appear in the output. The cell below will generate a zip file for you to submit. **Please save before exporting!**"
   ]
  },
  {
   "cell_type": "code",
   "execution_count": null,
   "id": "5356db29",
   "metadata": {
    "deletable": false,
    "editable": false
   },
   "outputs": [],
   "source": [
    "# Save your notebook first, then run this cell to export your submission.\n",
    "grader.export(run_tests=True)"
   ]
  },
  {
   "cell_type": "markdown",
   "id": "ecc2e005",
   "metadata": {},
   "source": [
    " "
   ]
  }
 ],
 "metadata": {
  "kernelspec": {
   "display_name": "Python 3 (ipykernel)",
   "language": "python",
   "name": "python3"
  },
  "language_info": {
   "codemirror_mode": {
    "name": "ipython",
    "version": 3
   },
   "file_extension": ".py",
   "mimetype": "text/x-python",
   "name": "python",
   "nbconvert_exporter": "python",
   "pygments_lexer": "ipython3",
   "version": "3.9.19"
  },
  "otter": {
   "OK_FORMAT": true,
   "tests": {
    "p1.1": {
     "has_hidden": false,
     "name": "p1.1",
     "points": 5,
     "suites": [
      {
       "cases": [
        {
         "code": ">>> check_str('choice in make_array(1, 2, 3, 4)', locals())\n",
         "failure_message": "check(choice in make_array(1, 2, 3, 4))",
         "hidden": false,
         "locked": false,
         "submit_only": false,
         "success_message": "check(choice in make_array(1, 2, 3, 4))"
        },
        {
         "code": ">>> check_str('len(results) == 1000', locals())\n",
         "failure_message": "check(len(results) == 1000)",
         "hidden": false,
         "locked": false,
         "submit_only": false,
         "success_message": "check(len(results) == 1000)"
        },
        {
         "code": ">>> check_str('0.2 <= np.mean(results == 3) <= 0.3', locals())\n",
         "failure_message": "check(0.2 <= np.mean(results == 3) <= 0.3)",
         "hidden": false,
         "locked": false,
         "submit_only": false,
         "success_message": "check(0.2 <= np.mean(results == 3) <= 0.3)"
        }
       ],
       "scored": true,
       "setup": "",
       "teardown": "",
       "type": "doctest"
      }
     ]
    },
    "p1.2": {
     "has_hidden": false,
     "name": "p1.2",
     "points": 5,
     "suites": [
      {
       "cases": [
        {
         "code": ">>> check_str('type(tiny_bootstrapped_statistics) == np.ndarray', locals())\n",
         "failure_message": "check(type(tiny_bootstrapped_statistics) == np.ndarray)",
         "hidden": false,
         "locked": false,
         "submit_only": false,
         "success_message": "check(type(tiny_bootstrapped_statistics) == np.ndarray)"
        },
        {
         "code": ">>> check_str('len(tiny_bootstrapped_statistics) == 5', locals())\n",
         "failure_message": "check(len(tiny_bootstrapped_statistics) == 5)",
         "hidden": false,
         "locked": false,
         "submit_only": false,
         "success_message": "check(len(tiny_bootstrapped_statistics) == 5)"
        },
        {
         "code": ">>> check_str('0 <= tiny_bootstrapped_statistics <= 5', locals())\n",
         "failure_message": "check(0 <= tiny_bootstrapped_statistics <= 5)",
         "hidden": false,
         "locked": false,
         "submit_only": false,
         "success_message": "check(0 <= tiny_bootstrapped_statistics <= 5)"
        }
       ],
       "scored": true,
       "setup": "",
       "teardown": "",
       "type": "doctest"
      }
     ]
    },
    "p1.3": {
     "has_hidden": false,
     "name": "p1.3",
     "points": 5,
     "suites": [
      {
       "cases": [
        {
         "code": ">>> check_str('len(bootstrapped_statistics) == 2000', locals())\n",
         "failure_message": "check(len(bootstrapped_statistics) == 2000)",
         "hidden": false,
         "locked": false,
         "submit_only": false,
         "success_message": "check(len(bootstrapped_statistics) == 2000)"
        },
        {
         "code": ">>> check_str('2.8 <= np.mean(bootstrapped_statistics) <= 3.2', locals())\n",
         "failure_message": "check(2.8 <= np.mean(bootstrapped_statistics) <= 3.2)",
         "hidden": false,
         "locked": false,
         "submit_only": false,
         "success_message": "check(2.8 <= np.mean(bootstrapped_statistics) <= 3.2)"
        }
       ],
       "scored": true,
       "setup": "",
       "teardown": "",
       "type": "doctest"
      }
     ]
    },
    "p1.5": {
     "has_hidden": false,
     "name": "p1.5",
     "points": 5,
     "suites": [
      {
       "cases": [
        {
         "code": ">>> check_str('len(bootstrapped_left_handed_statistics) == 5000', locals())\n",
         "failure_message": "check(len(bootstrapped_left_handed_statistics) == 5000)",
         "hidden": false,
         "locked": false,
         "submit_only": false,
         "success_message": "check(len(bootstrapped_left_handed_statistics) == 5000)"
        },
        {
         "code": ">>> check_str('0.125 <= np.mean(bootstrapped_left_handed_statistics) <= 0.140', locals())\n",
         "failure_message": "check(0.125 <= np.mean(bootstrapped_left_handed_statistics) <= 0.140)",
         "hidden": false,
         "locked": false,
         "submit_only": false,
         "success_message": "check(0.125 <= np.mean(bootstrapped_left_handed_statistics) <= 0.140)"
        }
       ],
       "scored": true,
       "setup": "",
       "teardown": "",
       "type": "doctest"
      }
     ]
    },
    "p2.1": {
     "has_hidden": true,
     "name": "p2.1",
     "points": 5,
     "suites": [
      {
       "cases": [
        {
         "code": ">>> check_str('0 <= percent_blue_mango(observed_votes) <= 100', locals())\n",
         "failure_message": "check(0 <= percent_blue_mango(observed_votes) <= 100)",
         "hidden": false,
         "locked": false,
         "submit_only": false,
         "success_message": "check(0 <= percent_blue_mango(observed_votes) <= 100)"
        }
       ],
       "scored": true,
       "setup": "",
       "teardown": "",
       "type": "doctest"
      }
     ]
    },
    "p2.2": {
     "has_hidden": true,
     "name": "p2.2",
     "points": 5,
     "suites": [
      {
       "cases": [
        {
         "code": ">>> check_str('len(tiny_bootstrap_votes_blue_mango) == 5', locals())\n",
         "failure_message": "check(len(tiny_bootstrap_votes_blue_mango) == 5)",
         "hidden": false,
         "locked": false,
         "submit_only": false,
         "success_message": "check(len(tiny_bootstrap_votes_blue_mango) == 5)"
        }
       ],
       "scored": true,
       "setup": "",
       "teardown": "",
       "type": "doctest"
      }
     ]
    },
    "p2.4": {
     "has_hidden": true,
     "name": "p2.4",
     "points": 5,
     "suites": [
      {
       "cases": [
        {
         "code": ">>> check_str('40 <= blue_mango_lower_bound <= blue_mango_upper_bound <= 60', locals())\n",
         "failure_message": "check(40 <= blue_mango_lower_bound <= blue_mango_upper_bound <= 60)",
         "hidden": false,
         "locked": false,
         "submit_only": false,
         "success_message": "check(40 <= blue_mango_lower_bound <= blue_mango_upper_bound <= 60)"
        }
       ],
       "scored": true,
       "setup": "",
       "teardown": "",
       "type": "doctest"
      }
     ]
    },
    "p2.6": {
     "has_hidden": false,
     "name": "p2.6",
     "points": 5,
     "suites": [
      {
       "cases": [
        {
         "code": ">>> np.random.seed(123)\n>>> check_str('-6 <= float(percent_blue_mango_lead(observed_votes)) <= 15', locals())\n",
         "failure_message": "check(-6 <= float(percent_blue_mango_lead(observed_votes)) <= 15)",
         "hidden": false,
         "locked": false,
         "submit_only": false,
         "success_message": "check(-6 <= float(percent_blue_mango_lead(observed_votes)) <= 15)"
        }
       ],
       "scored": true,
       "setup": "",
       "teardown": "",
       "type": "doctest"
      }
     ]
    },
    "p2.7": {
     "has_hidden": true,
     "name": "p2.7",
     "points": 0,
     "suites": [
      {
       "cases": [
        {
         "code": ">>> check_str('len(bootstrap_blue_mango_leads) == 2000', locals())\n",
         "failure_message": "check(len(bootstrap_blue_mango_leads) == 2000)",
         "hidden": false,
         "locked": false,
         "submit_only": false,
         "success_message": "check(len(bootstrap_blue_mango_leads) == 2000)"
        }
       ],
       "scored": true,
       "setup": "",
       "teardown": "",
       "type": "doctest"
      }
     ]
    },
    "p2.8": {
     "has_hidden": true,
     "name": "p2.8",
     "points": 5,
     "suites": [
      {
       "cases": [
        {
         "code": ">>> check_str('-5 <= lead_lower_bound <= lead_upper_bound <= 12', locals())\n",
         "failure_message": "check(-5 <= lead_lower_bound <= lead_upper_bound <= 12)",
         "hidden": false,
         "locked": false,
         "submit_only": false,
         "success_message": "check(-5 <= lead_lower_bound <= lead_upper_bound <= 12)"
        }
       ],
       "scored": true,
       "setup": "",
       "teardown": "",
       "type": "doctest"
      }
     ]
    },
    "p3.2": {
     "has_hidden": true,
     "name": "p3.2",
     "points": 5,
     "suites": [
      {
       "cases": [
        {
         "code": ">>> check_str('1000 <= num_intervals_with_true <= 10000', locals())\n",
         "failure_message": "check(1000 <= num_intervals_with_true <= 10000)",
         "hidden": false,
         "locked": false,
         "submit_only": false,
         "success_message": "check(1000 <= num_intervals_with_true <= 10000)"
        }
       ],
       "scored": true,
       "setup": "",
       "teardown": "",
       "type": "doctest"
      }
     ]
    },
    "p3.3": {
     "has_hidden": true,
     "name": "p3.3",
     "points": 5,
     "suites": [
      {
       "cases": [
        {
         "code": ">>> check_str('restaurants_equal in [1,2,3]', locals())\n",
         "failure_message": "check(restaurants_equal in [1,2,3])",
         "hidden": false,
         "locked": false,
         "submit_only": false,
         "success_message": "check(restaurants_equal in [1,2,3])"
        }
       ],
       "scored": true,
       "setup": "",
       "teardown": "",
       "type": "doctest"
      }
     ]
    },
    "p3.4": {
     "has_hidden": true,
     "name": "p3.4",
     "points": 5,
     "suites": [
      {
       "cases": [
        {
         "code": ">>> check_str('cutoff_one_percent in [1,2,3]', locals())\n",
         "failure_message": "check(cutoff_one_percent in [1,2,3])",
         "hidden": false,
         "locked": false,
         "submit_only": false,
         "success_message": "check(cutoff_one_percent in [1,2,3])"
        }
       ],
       "scored": true,
       "setup": "",
       "teardown": "",
       "type": "doctest"
      }
     ]
    },
    "p3.5": {
     "has_hidden": true,
     "name": "p3.5",
     "points": 5,
     "suites": [
      {
       "cases": [
        {
         "code": ">>> check_str('cutoff_ten_percent in [1,2,3]', locals())\n",
         "failure_message": "check(cutoff_ten_percent in [1,2,3])",
         "hidden": false,
         "locked": false,
         "submit_only": false,
         "success_message": "check(cutoff_ten_percent in [1,2,3])"
        }
       ],
       "scored": true,
       "setup": "",
       "teardown": "",
       "type": "doctest"
      }
     ]
    }
   }
  },
  "vscode": {
   "interpreter": {
    "hash": "b181b7ac44b61709e1e9acd3475e041866d62bfe876365f68179fcb4e3bc0c2d"
   }
  },
  "widgets": {
   "application/vnd.jupyter.widget-state+json": {
    "state": {
     "0879355734834aeca13f49d308371d04": {
      "model_module": "@jupyter-widgets/controls",
      "model_module_version": "1.5.0",
      "model_name": "VBoxModel",
      "state": {
       "_dom_classes": [
        "widget-interact"
       ],
       "_model_module": "@jupyter-widgets/controls",
       "_model_module_version": "1.5.0",
       "_model_name": "VBoxModel",
       "_view_count": null,
       "_view_module": "@jupyter-widgets/controls",
       "_view_module_version": "1.5.0",
       "_view_name": "VBoxView",
       "box_style": "",
       "children": [
        "IPY_MODEL_6bb1e5821b6548bc946ea1e35b8381e8",
        "IPY_MODEL_8139a5af3a9b4956a312025ccf15aafd",
        "IPY_MODEL_0fe86ddf9f07403a91d198e2942fcc65"
       ],
       "layout": "IPY_MODEL_d795f19ab96a4193a22552e83125ad77"
      }
     },
     "0fe86ddf9f07403a91d198e2942fcc65": {
      "model_module": "@jupyter-widgets/output",
      "model_module_version": "1.0.0",
      "model_name": "OutputModel",
      "state": {
       "_dom_classes": [],
       "_model_module": "@jupyter-widgets/output",
       "_model_module_version": "1.0.0",
       "_model_name": "OutputModel",
       "_view_count": null,
       "_view_module": "@jupyter-widgets/output",
       "_view_module_version": "1.0.0",
       "_view_name": "OutputView",
       "layout": "IPY_MODEL_78af2ed18c71452687f8d9998aa81e7c",
       "msg_id": "",
       "outputs": [
        {
         "data": {
          "image/png": "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",
          "text/plain": "<Figure size 600x400 with 1 Axes>"
         },
         "metadata": {},
         "output_type": "display_data"
        }
       ]
      }
     },
     "1aba76a3dca944bbba58a30491072bf7": {
      "model_module": "@jupyter-widgets/controls",
      "model_module_version": "1.5.0",
      "model_name": "SliderStyleModel",
      "state": {
       "_model_module": "@jupyter-widgets/controls",
       "_model_module_version": "1.5.0",
       "_model_name": "SliderStyleModel",
       "_view_count": null,
       "_view_module": "@jupyter-widgets/base",
       "_view_module_version": "1.2.0",
       "_view_name": "StyleView",
       "description_width": "",
       "handle_color": null
      }
     },
     "2351570287f84e6396238f5c69a28102": {
      "model_module": "@jupyter-widgets/base",
      "model_module_version": "1.2.0",
      "model_name": "LayoutModel",
      "state": {
       "_model_module": "@jupyter-widgets/base",
       "_model_module_version": "1.2.0",
       "_model_name": "LayoutModel",
       "_view_count": null,
       "_view_module": "@jupyter-widgets/base",
       "_view_module_version": "1.2.0",
       "_view_name": "LayoutView",
       "align_content": null,
       "align_items": null,
       "align_self": null,
       "border": null,
       "bottom": null,
       "display": null,
       "flex": null,
       "flex_flow": null,
       "grid_area": null,
       "grid_auto_columns": null,
       "grid_auto_flow": null,
       "grid_auto_rows": null,
       "grid_column": null,
       "grid_gap": null,
       "grid_row": null,
       "grid_template_areas": null,
       "grid_template_columns": null,
       "grid_template_rows": null,
       "height": null,
       "justify_content": null,
       "justify_items": null,
       "left": null,
       "margin": null,
       "max_height": null,
       "max_width": null,
       "min_height": null,
       "min_width": null,
       "object_fit": null,
       "object_position": null,
       "order": null,
       "overflow": null,
       "overflow_x": null,
       "overflow_y": null,
       "padding": null,
       "right": null,
       "top": null,
       "visibility": null,
       "width": null
      }
     },
     "548a555e2eae4afc9ef12f5ebb04107b": {
      "model_module": "@jupyter-widgets/base",
      "model_module_version": "1.2.0",
      "model_name": "LayoutModel",
      "state": {
       "_model_module": "@jupyter-widgets/base",
       "_model_module_version": "1.2.0",
       "_model_name": "LayoutModel",
       "_view_count": null,
       "_view_module": "@jupyter-widgets/base",
       "_view_module_version": "1.2.0",
       "_view_name": "LayoutView",
       "align_content": null,
       "align_items": null,
       "align_self": null,
       "border": null,
       "bottom": null,
       "display": null,
       "flex": null,
       "flex_flow": null,
       "grid_area": null,
       "grid_auto_columns": null,
       "grid_auto_flow": null,
       "grid_auto_rows": null,
       "grid_column": null,
       "grid_gap": null,
       "grid_row": null,
       "grid_template_areas": null,
       "grid_template_columns": null,
       "grid_template_rows": null,
       "height": null,
       "justify_content": null,
       "justify_items": null,
       "left": null,
       "margin": null,
       "max_height": null,
       "max_width": null,
       "min_height": null,
       "min_width": null,
       "object_fit": null,
       "object_position": null,
       "order": null,
       "overflow": null,
       "overflow_x": null,
       "overflow_y": null,
       "padding": null,
       "right": null,
       "top": null,
       "visibility": null,
       "width": null
      }
     },
     "6bb1e5821b6548bc946ea1e35b8381e8": {
      "model_module": "@jupyter-widgets/controls",
      "model_module_version": "1.5.0",
      "model_name": "IntSliderModel",
      "state": {
       "_dom_classes": [],
       "_model_module": "@jupyter-widgets/controls",
       "_model_module_version": "1.5.0",
       "_model_name": "IntSliderModel",
       "_view_count": null,
       "_view_module": "@jupyter-widgets/controls",
       "_view_module_version": "1.5.0",
       "_view_name": "IntSliderView",
       "continuous_update": true,
       "description": "sample_size",
       "description_tooltip": null,
       "disabled": false,
       "layout": "IPY_MODEL_548a555e2eae4afc9ef12f5ebb04107b",
       "max": 500,
       "min": 1,
       "orientation": "horizontal",
       "readout": true,
       "readout_format": "d",
       "step": 1,
       "style": "IPY_MODEL_97d78bec036c420ba00a06195cf928ab",
       "value": 250
      }
     },
     "78af2ed18c71452687f8d9998aa81e7c": {
      "model_module": "@jupyter-widgets/base",
      "model_module_version": "1.2.0",
      "model_name": "LayoutModel",
      "state": {
       "_model_module": "@jupyter-widgets/base",
       "_model_module_version": "1.2.0",
       "_model_name": "LayoutModel",
       "_view_count": null,
       "_view_module": "@jupyter-widgets/base",
       "_view_module_version": "1.2.0",
       "_view_name": "LayoutView",
       "align_content": null,
       "align_items": null,
       "align_self": null,
       "border": null,
       "bottom": null,
       "display": null,
       "flex": null,
       "flex_flow": null,
       "grid_area": null,
       "grid_auto_columns": null,
       "grid_auto_flow": null,
       "grid_auto_rows": null,
       "grid_column": null,
       "grid_gap": null,
       "grid_row": null,
       "grid_template_areas": null,
       "grid_template_columns": null,
       "grid_template_rows": null,
       "height": null,
       "justify_content": null,
       "justify_items": null,
       "left": null,
       "margin": null,
       "max_height": null,
       "max_width": null,
       "min_height": null,
       "min_width": null,
       "object_fit": null,
       "object_position": null,
       "order": null,
       "overflow": null,
       "overflow_x": null,
       "overflow_y": null,
       "padding": null,
       "right": null,
       "top": null,
       "visibility": null,
       "width": null
      }
     },
     "8139a5af3a9b4956a312025ccf15aafd": {
      "model_module": "@jupyter-widgets/controls",
      "model_module_version": "1.5.0",
      "model_name": "IntSliderModel",
      "state": {
       "_dom_classes": [],
       "_model_module": "@jupyter-widgets/controls",
       "_model_module_version": "1.5.0",
       "_model_name": "IntSliderModel",
       "_view_count": null,
       "_view_module": "@jupyter-widgets/controls",
       "_view_module_version": "1.5.0",
       "_view_name": "IntSliderView",
       "continuous_update": true,
       "description": "num_trials",
       "description_tooltip": null,
       "disabled": false,
       "layout": "IPY_MODEL_2351570287f84e6396238f5c69a28102",
       "max": 2010,
       "min": 10,
       "orientation": "horizontal",
       "readout": true,
       "readout_format": "d",
       "step": 100,
       "style": "IPY_MODEL_1aba76a3dca944bbba58a30491072bf7",
       "value": 1010
      }
     },
     "97d78bec036c420ba00a06195cf928ab": {
      "model_module": "@jupyter-widgets/controls",
      "model_module_version": "1.5.0",
      "model_name": "SliderStyleModel",
      "state": {
       "_model_module": "@jupyter-widgets/controls",
       "_model_module_version": "1.5.0",
       "_model_name": "SliderStyleModel",
       "_view_count": null,
       "_view_module": "@jupyter-widgets/base",
       "_view_module_version": "1.2.0",
       "_view_name": "StyleView",
       "description_width": "",
       "handle_color": null
      }
     },
     "d795f19ab96a4193a22552e83125ad77": {
      "model_module": "@jupyter-widgets/base",
      "model_module_version": "1.2.0",
      "model_name": "LayoutModel",
      "state": {
       "_model_module": "@jupyter-widgets/base",
       "_model_module_version": "1.2.0",
       "_model_name": "LayoutModel",
       "_view_count": null,
       "_view_module": "@jupyter-widgets/base",
       "_view_module_version": "1.2.0",
       "_view_name": "LayoutView",
       "align_content": null,
       "align_items": null,
       "align_self": null,
       "border": null,
       "bottom": null,
       "display": null,
       "flex": null,
       "flex_flow": null,
       "grid_area": null,
       "grid_auto_columns": null,
       "grid_auto_flow": null,
       "grid_auto_rows": null,
       "grid_column": null,
       "grid_gap": null,
       "grid_row": null,
       "grid_template_areas": null,
       "grid_template_columns": null,
       "grid_template_rows": null,
       "height": null,
       "justify_content": null,
       "justify_items": null,
       "left": null,
       "margin": null,
       "max_height": null,
       "max_width": null,
       "min_height": null,
       "min_width": null,
       "object_fit": null,
       "object_position": null,
       "order": null,
       "overflow": null,
       "overflow_x": null,
       "overflow_y": null,
       "padding": null,
       "right": null,
       "top": null,
       "visibility": null,
       "width": null
      }
     }
    },
    "version_major": 2,
    "version_minor": 0
   }
  }
 },
 "nbformat": 4,
 "nbformat_minor": 5
}
