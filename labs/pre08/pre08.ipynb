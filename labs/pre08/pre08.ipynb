{
 "cells": [
  {
   "cell_type": "code",
   "execution_count": null,
   "id": "e5f5acd0",
   "metadata": {
    "deletable": false,
    "editable": false
   },
   "outputs": [],
   "source": [
    "# Initialize Otter\n",
    "import otter\n",
    "grader = otter.Notebook(\"pre08.ipynb\")"
   ]
  },
  {
   "cell_type": "markdown",
   "id": "2f3bb2bf",
   "metadata": {
    "deletable": false,
    "editable": false
   },
   "source": [
    "<table style=\"width: 100%;\">\n",
    "<tr style=\"background-color: transparent;\">\n",
    "<td width=\"100px\"><img src=\"https://cs104williams.github.io/assets/cs104-logo.png\" width=\"90px\" style=\"text-align: center\"/></td>\n",
    "<td>\n",
    "  <p style=\"margin-bottom: 0px; text-align: left; font-size: 18pt;\"><strong>CSCI 104: Data Science and Computing for All</strong><br>\n",
    "                Williams College<br>\n",
    "                Fall 2024</p>\n",
    "</td>\n",
    "</tr>\n"
   ]
  },
  {
   "cell_type": "markdown",
   "id": "5eab6726",
   "metadata": {
    "deletable": false,
    "editable": false,
    "tags": []
   },
   "source": [
    "# Prelab 8: Estimation"
   ]
  },
  {
   "cell_type": "markdown",
   "id": "d47ed2cc",
   "metadata": {
    "deletable": false,
    "editable": false,
    "tags": []
   },
   "source": [
    "**Instructions**\n",
    "- Before you begin, execute the cell at the TOP of the notebook to load the provided tests, as well as the following cell to setup the notebook by importing some helpful libraries. Each time you start your server, you will need to execute these cells again.  \n",
    "- Be sure to consult your [Python Reference](https://cs104williams.github.io/assets/python-library-ref.html)!\n",
    "- Complete this notebook by filling in the cells provided. \n",
    "- Please be sure to not re-assign variables throughout the notebook.  For example, if you use `max_temperature` in your answer to one question, do not reassign it later on. Otherwise, you will fail tests that you thought you were passing previously.\n",
    "- There are no hidden tests in prelabs.\n",
    "\n",
    "<hr/>\n",
    "<h2>Setup</h2>\n"
   ]
  },
  {
   "cell_type": "code",
   "execution_count": null,
   "id": "6cd1cdd5",
   "metadata": {
    "deletable": false,
    "editable": false,
    "execution": {
     "iopub.execute_input": "2024-11-05T19:24:24.616268Z",
     "iopub.status.busy": "2024-11-05T19:24:24.615875Z",
     "iopub.status.idle": "2024-11-05T19:24:25.931565Z",
     "shell.execute_reply": "2024-11-05T19:24:25.931163Z"
    },
    "tags": []
   },
   "outputs": [],
   "source": [
    "# Run this cell to set up the notebook.\n",
    "# These lines import the numpy, datascience, and cs104 libraries.\n",
    "\n",
    "import numpy as np\n",
    "from datascience import *\n",
    "from cs104 import *\n",
    "%matplotlib inline"
   ]
  },
  {
   "cell_type": "markdown",
   "id": "0c1bd49a",
   "metadata": {
    "deletable": false,
    "editable": false
   },
   "source": [
    "<hr style=\"margin-bottom: 0px; padding:0; border: 2px solid #500082;\"/>\n"
   ]
  },
  {
   "cell_type": "markdown",
   "id": "5ec1541b",
   "metadata": {
    "deletable": false,
    "editable": false
   },
   "source": [
    "## 1. Bootstrapping Snow's Study (30 pts)\n",
    "\n"
   ]
  },
  {
   "cell_type": "markdown",
   "id": "b4a29469",
   "metadata": {
    "deletable": false,
    "editable": false
   },
   "source": [
    "<font color='#B1008E'>\n",
    "    \n",
    "##### Learning objectives\n",
    "- Use the `bootstrap_statistic()` function to estimate uncertainty from a sampling process. \n",
    "\n",
    "</font>"
   ]
  },
  {
   "cell_type": "markdown",
   "id": "3570f7c6",
   "metadata": {
    "deletable": false,
    "editable": false
   },
   "source": [
    "\n",
    "In the last lab, we performed a hypothesis test to determine the cause of Cholera using a random subset of John Snow's original data from his natural experiment.  (Spoiler: it's the water!)  \n",
    "\n",
    "Here's the first few observations in the sample.  Recall that we're treating each row as one individual whose water supply is from the given 'Water Company', either S&V or Lambeth.  The 'Cholera death' column is 1 if that person died during the study and 0 if that person did not."
   ]
  },
  {
   "cell_type": "code",
   "execution_count": null,
   "id": "cebf2a11",
   "metadata": {
    "deletable": false,
    "editable": false,
    "execution": {
     "iopub.execute_input": "2024-11-05T19:24:25.934338Z",
     "iopub.status.busy": "2024-11-05T19:24:25.933965Z",
     "iopub.status.idle": "2024-11-05T19:24:25.947802Z",
     "shell.execute_reply": "2024-11-05T19:24:25.947434Z"
    },
    "tags": []
   },
   "outputs": [],
   "source": [
    "snow_sample = Table().read_table('snow_data_small.csv')\n",
    "snow_sample.show(5)"
   ]
  },
  {
   "cell_type": "markdown",
   "id": "91902780",
   "metadata": {
    "deletable": false,
    "editable": false
   },
   "source": [
    "#### Part 1.1 S&V sample (5 pts)\n"
   ]
  },
  {
   "cell_type": "markdown",
   "id": "9648e7b0",
   "metadata": {
    "deletable": false,
    "editable": false
   },
   "source": [
    "As a first step, extract just the S&V water consumers from our `snow_sample`.  Create a new table called `s_and_v` with **only one** column, \"Cholera death\", that contains those values for all people drink S&V-supplied water in `snow_sample`."
   ]
  },
  {
   "cell_type": "code",
   "execution_count": null,
   "id": "9b077850",
   "metadata": {
    "deletable": false,
    "execution": {
     "iopub.execute_input": "2024-11-05T19:24:25.950040Z",
     "iopub.status.busy": "2024-11-05T19:24:25.949879Z",
     "iopub.status.idle": "2024-11-05T19:24:25.956394Z",
     "shell.execute_reply": "2024-11-05T19:24:25.956041Z"
    },
    "tags": []
   },
   "outputs": [],
   "source": [
    "s_and_v = ...\n",
    "\n",
    "# Sanity checks\n",
    "s_and_v.show(5)"
   ]
  },
  {
   "cell_type": "code",
   "execution_count": null,
   "id": "93c9f96c",
   "metadata": {
    "deletable": false,
    "editable": false
   },
   "outputs": [],
   "source": [
    "grader.check(\"p1.1\")"
   ]
  },
  {
   "cell_type": "markdown",
   "id": "216d9ea6",
   "metadata": {
    "deletable": false,
    "editable": false
   },
   "source": [
    "#### Part 1.2 Chosen Statistic: Proportion of fatalities (5 pts)\n"
   ]
  },
  {
   "cell_type": "markdown",
   "id": "a99db913",
   "metadata": {
    "deletable": false,
    "editable": false
   },
   "source": [
    "Using this one sample, we will estimate the parameter for the entire population.  Specifically, we'll estimate the parameter of the proportion of individuals in the S&V water district that died of Cholera.  (We'll just stick to that one district -- it's straightforward to look at the other district once you understand the steps.) \n",
    "\n",
    "Later, we will use confidence intervals to compute a range of values that reflects the uncertainty of our estimates.\n",
    "\n",
    "\n",
    "Complete the function `proportion_fatalities()`. This function inputs an array where 0 encodes survival and 1 encodes a fatility, as in the column 'Colera death'. The function outputs the proportion of individuals that died of Cholera. "
   ]
  },
  {
   "cell_type": "code",
   "execution_count": null,
   "id": "dd46f0c2",
   "metadata": {
    "deletable": false,
    "execution": {
     "iopub.execute_input": "2024-11-05T19:24:25.967080Z",
     "iopub.status.busy": "2024-11-05T19:24:25.966928Z",
     "iopub.status.idle": "2024-11-05T19:24:25.969199Z",
     "shell.execute_reply": "2024-11-05T19:24:25.968840Z"
    },
    "tags": []
   },
   "outputs": [],
   "source": [
    "def proportion_fatalities(sample):\n",
    "    \"\"\"\n",
    "    This function inputs an array of 0's and 1's, as in the 'Colera death' column and \n",
    "    outputs the proportion of individuals that died of Cholera. \n",
    "    \"\"\"\n",
    "    prop_fatality = ...\n",
    "    return prop_fatality"
   ]
  },
  {
   "cell_type": "code",
   "execution_count": null,
   "id": "8c635661",
   "metadata": {
    "deletable": false,
    "execution": {
     "iopub.execute_input": "2024-11-05T19:24:25.971121Z",
     "iopub.status.busy": "2024-11-05T19:24:25.970970Z",
     "iopub.status.idle": "2024-11-05T19:24:25.973448Z",
     "shell.execute_reply": "2024-11-05T19:24:25.973097Z"
    },
    "tags": []
   },
   "outputs": [],
   "source": [
    "s_and_v_cholera_proportion = proportion_fatalities(s_and_v.column('Cholera death'))\n",
    "print(\"Proportion of deaths is \" + str(s_and_v_cholera_proportion))  # should be 0.036828"
   ]
  },
  {
   "cell_type": "code",
   "execution_count": null,
   "id": "9bcc7e29",
   "metadata": {
    "deletable": false,
    "editable": false
   },
   "outputs": [],
   "source": [
    "grader.check(\"p1.2\")"
   ]
  },
  {
   "cell_type": "markdown",
   "id": "c22f05ac",
   "metadata": {
    "deletable": false,
    "editable": false
   },
   "source": [
    "#### Part 1.3 Bootstrap the Sample (5 pts)\n"
   ]
  },
  {
   "cell_type": "markdown",
   "id": "ed3e2e69",
   "metadata": {
    "deletable": false,
    "editable": false
   },
   "source": [
    "Now, we'll use the `bootstrap_statistic()` function to obtain bootstrap resamples from `s_and_v` and estimate the uncertainty in our parameter. \n",
    "\n",
    "Read the documentation for `bootstrap_statistic()` [here](https://www.cs.williams.edu/~cs104/auto/inference-library-ref.html). In Lab 8, you'll implement this function yourself, but for now, our goal is to understand what the function outputs and why its important for data science. "
   ]
  },
  {
   "cell_type": "code",
   "execution_count": null,
   "id": "507e7dfa",
   "metadata": {
    "deletable": false,
    "execution": {
     "iopub.execute_input": "2024-11-05T19:24:25.988473Z",
     "iopub.status.busy": "2024-11-05T19:24:25.988319Z",
     "iopub.status.idle": "2024-11-05T19:24:25.992253Z",
     "shell.execute_reply": "2024-11-05T19:24:25.991917Z"
    },
    "tags": []
   },
   "outputs": [],
   "source": [
    "num_trials = 5 # we'll start with just a small number of resamples \n",
    "tiny_bootstrap = bootstrap_statistic(...,\n",
    "                                     ...,\n",
    "                                     num_trials)\n",
    "\n",
    "\n",
    "tiny_bootstrap"
   ]
  },
  {
   "cell_type": "code",
   "execution_count": null,
   "id": "dcf7e2d4",
   "metadata": {
    "deletable": false,
    "editable": false
   },
   "outputs": [],
   "source": [
    "grader.check(\"p1.3\")"
   ]
  },
  {
   "cell_type": "markdown",
   "id": "f04bea38",
   "metadata": {
    "deletable": false,
    "editable": false
   },
   "source": [
    "#### Part 1.4 Boostrapped Proportions Distribution (5 pts)\n"
   ]
  },
  {
   "cell_type": "markdown",
   "id": "84425367",
   "metadata": {
    "deletable": false,
    "editable": false
   },
   "source": [
    "Create 5000 bootstrap resamples using the same `bootstrap_statistic` function.  \n",
    "\n",
    "We have provided code to plot a histogram of those proportions. \n",
    "\n",
    "*Note:* This might take a minute or two to run. "
   ]
  },
  {
   "cell_type": "code",
   "execution_count": null,
   "id": "18974adb",
   "metadata": {
    "deletable": false,
    "execution": {
     "iopub.execute_input": "2024-11-05T19:24:26.003144Z",
     "iopub.status.busy": "2024-11-05T19:24:26.003004Z",
     "iopub.status.idle": "2024-11-05T19:24:26.470545Z",
     "shell.execute_reply": "2024-11-05T19:24:26.470143Z"
    },
    "tags": []
   },
   "outputs": [],
   "source": [
    "bootstrap_proportions = ...\n",
    "\n",
    "# No need to modify. Plots histogram of bootstrap resamples. \n",
    "Table().with_columns(\"Proportion fatalities\", bootstrap_proportions).hist()"
   ]
  },
  {
   "cell_type": "code",
   "execution_count": null,
   "id": "3d2b3bb5",
   "metadata": {
    "deletable": false,
    "editable": false
   },
   "outputs": [],
   "source": [
    "grader.check(\"p1.4\")"
   ]
  },
  {
   "cell_type": "markdown",
   "id": "1dafa5ef",
   "metadata": {
    "deletable": false,
    "editable": false
   },
   "source": [
    "#### Part 1.5 Confidence Interval (5 pts)\n"
   ]
  },
  {
   "cell_type": "markdown",
   "id": "29a2ea45",
   "metadata": {
    "deletable": false,
    "editable": false
   },
   "source": [
    "Using the array `bootstrap_proportions`, find the values at the two edges of the middle 95% of the bootstrapped proportion estimates. Store these in the `lower_bound` and `upper_bound` variables below."
   ]
  },
  {
   "cell_type": "code",
   "execution_count": null,
   "id": "5373a238",
   "metadata": {
    "deletable": false,
    "execution": {
     "iopub.execute_input": "2024-11-05T19:24:26.482203Z",
     "iopub.status.busy": "2024-11-05T19:24:26.482047Z",
     "iopub.status.idle": "2024-11-05T19:24:26.486143Z",
     "shell.execute_reply": "2024-11-05T19:24:26.485702Z"
    },
    "tags": []
   },
   "outputs": [],
   "source": [
    "lower_bound = ...\n",
    "lower_bound"
   ]
  },
  {
   "cell_type": "code",
   "execution_count": null,
   "id": "384219ec",
   "metadata": {
    "deletable": false,
    "execution": {
     "iopub.execute_input": "2024-11-05T19:24:26.488171Z",
     "iopub.status.busy": "2024-11-05T19:24:26.488049Z",
     "iopub.status.idle": "2024-11-05T19:24:26.492264Z",
     "shell.execute_reply": "2024-11-05T19:24:26.491908Z"
    },
    "tags": []
   },
   "outputs": [],
   "source": [
    "upper_bound = ...\n",
    "upper_bound"
   ]
  },
  {
   "cell_type": "code",
   "execution_count": null,
   "id": "7899f9db",
   "metadata": {
    "deletable": false,
    "editable": false
   },
   "outputs": [],
   "source": [
    "grader.check(\"p1.5\")"
   ]
  },
  {
   "cell_type": "markdown",
   "id": "60ffeb22",
   "metadata": {
    "deletable": false,
    "editable": false
   },
   "source": [
    "#### Part 1.6 True Parameter (5 pts)\n"
   ]
  },
  {
   "cell_type": "markdown",
   "id": "93c9025a",
   "metadata": {
    "deletable": false,
    "editable": false
   },
   "source": [
    "The following plots your bootstrapped proportions again, this time with a yellow line delineating your 95% confidence interval, a red point at the original sample's proportion of Cholera deaths, and a green square point at the proportion for the whole population of S&V water drinkers."
   ]
  },
  {
   "cell_type": "code",
   "execution_count": null,
   "id": "118b5ef7",
   "metadata": {
    "deletable": false,
    "editable": false,
    "execution": {
     "iopub.execute_input": "2024-11-05T19:24:26.517668Z",
     "iopub.status.busy": "2024-11-05T19:24:26.517516Z",
     "iopub.status.idle": "2024-11-05T19:24:26.681720Z",
     "shell.execute_reply": "2024-11-05T19:24:26.681328Z"
    },
    "tags": []
   },
   "outputs": [],
   "source": [
    "plot = Table().with_columns(\"Proportions\", bootstrap_proportions).hist()\n",
    "\n",
    "# 95% confidence interval\n",
    "plot.interval(lower_bound, upper_bound)\n",
    "\n",
    "# Red dot: proportion for the original sample of S&V customers\n",
    "plot.dot(s_and_v_cholera_proportion)\n",
    "\n",
    "# Green square: proportion for *all* of S&V customers\n",
    "plot.square(0.0315)"
   ]
  },
  {
   "cell_type": "markdown",
   "id": "48ae6b4f",
   "metadata": {
    "deletable": false,
    "editable": false
   },
   "source": [
    "Examine the plot above and indicate whether each of these statements is true of false by assigning `True` or `False` to the four variables in the next cell.\n",
    "\n",
    "- **Statement 1**: The original sample's proportion of Cholera deaths is within your confidence interval.\n",
    "- **Statement 2**: There is a 5% chance that the populations' proportion of Cholera deaths is lower than your confidence interval's lower bound. \n",
    "- **Statement 3**: Starting with a larger initial sample will make your confidence interval narrower.\n",
    "- **Statement 4**: Creating more boostrap resamples will make your confidence interval narrower."
   ]
  },
  {
   "cell_type": "markdown",
   "id": "d95ccca8",
   "metadata": {
    "deletable": false,
    "editable": false
   },
   "source": [
    "You can, of course, get the right answers by trial and error, but try to think about the statements carefully before answering!"
   ]
  },
  {
   "cell_type": "code",
   "execution_count": null,
   "id": "4045f882",
   "metadata": {
    "deletable": false,
    "execution": {
     "iopub.execute_input": "2024-11-05T19:24:26.684184Z",
     "iopub.status.busy": "2024-11-05T19:24:26.684009Z",
     "iopub.status.idle": "2024-11-05T19:24:26.686393Z",
     "shell.execute_reply": "2024-11-05T19:24:26.686003Z"
    },
    "tags": []
   },
   "outputs": [],
   "source": [
    "statement_1 = ...\n",
    "statement_2 = ...\n",
    "statement_3 = ...\n",
    "statement_4 = ..."
   ]
  },
  {
   "cell_type": "code",
   "execution_count": null,
   "id": "4e4b70f1",
   "metadata": {
    "deletable": false,
    "editable": false
   },
   "outputs": [],
   "source": [
    "grader.check(\"p1.6\")"
   ]
  },
  {
   "cell_type": "markdown",
   "id": "d607b041",
   "metadata": {
    "deletable": false,
    "editable": false
   },
   "source": [
    "<hr class=\"m-0\" style=\"border: 3px solid #500082;\"/>\n",
    "\n",
    "# You're Done!\n",
    "Follow these steps to submit your work:\n",
    "* Run the tests and verify that they pass as you expect. \n",
    "* Choose **Save Notebook** from the **File** menu.\n",
    "* **Run the final cell** and click the link below to download the zip file. \n",
    "\n",
    "Once you have downloaded that file, go to [Gradescope](https://www.gradescope.com/) and submit the zip file to \n",
    "the corresponding assignment. For Prelab N, the assignment will be called \"Prelab N Autograder\".\n",
    "\n",
    "Once you have submitted, your Gradescope assignment should show you passing all the tests you passed in your assignment notebook.\n"
   ]
  },
  {
   "cell_type": "markdown",
   "id": "98d39f52",
   "metadata": {
    "deletable": false,
    "editable": false
   },
   "source": [
    "## Submission\n",
    "\n",
    "Make sure you have run all cells in your notebook in order before running the cell below, so that all images/graphs appear in the output. The cell below will generate a zip file for you to submit. **Please save before exporting!**"
   ]
  },
  {
   "cell_type": "code",
   "execution_count": null,
   "id": "2b299bb2",
   "metadata": {
    "deletable": false,
    "editable": false
   },
   "outputs": [],
   "source": [
    "# Save your notebook first, then run this cell to export your submission.\n",
    "grader.export(pdf=False, run_tests=True)"
   ]
  },
  {
   "cell_type": "markdown",
   "id": "27b96ee4",
   "metadata": {},
   "source": [
    " "
   ]
  }
 ],
 "metadata": {
  "kernelspec": {
   "display_name": "Python 3 (ipykernel)",
   "language": "python",
   "name": "python3"
  },
  "language_info": {
   "codemirror_mode": {
    "name": "ipython",
    "version": 3
   },
   "file_extension": ".py",
   "mimetype": "text/x-python",
   "name": "python",
   "nbconvert_exporter": "python",
   "pygments_lexer": "ipython3",
   "version": "3.9.19"
  },
  "otter": {
   "OK_FORMAT": true,
   "tests": {
    "p1.1": {
     "has_hidden": false,
     "name": "p1.1",
     "points": 5,
     "suites": [
      {
       "cases": [
        {
         "code": ">>> check_str('s_and_v.labels == (\\'Cholera death\\',)', locals())\n",
         "failure_message": "Make sure you have one column and the correct label \"Cholera death\" for that column.",
         "hidden": false,
         "locked": false,
         "submit_only": false,
         "success_message": "check(s_and_v.labels == ('Cholera death',))"
        },
        {
         "code": ">>> check_str('s_and_v.num_rows == 3014', locals())\n",
         "failure_message": "check(s_and_v.num_rows == 3014)",
         "hidden": false,
         "locked": false,
         "submit_only": false,
         "success_message": "check(s_and_v.num_rows == 3014)"
        }
       ],
       "scored": true,
       "setup": "",
       "teardown": "",
       "type": "doctest"
      }
     ]
    },
    "p1.2": {
     "has_hidden": false,
     "name": "p1.2",
     "points": 5,
     "suites": [
      {
       "cases": [
        {
         "code": ">>> check_str('type(proportion_fatalities(make_array(1,1,0,0,0))) in [float, np.float64]', locals())\n",
         "failure_message": "proportion_fatalities() should return a number between 0 and 1",
         "hidden": false,
         "locked": false,
         "submit_only": false,
         "success_message": "proportion_fatalities() returns a number"
        },
        {
         "code": ">>> check_str('proportion_fatalities(make_array(1,1,0,0,0)) == approx(0.40)', locals())\n",
         "failure_message": "check(proportion_fatalities(make_array(1,1,0,0,0)) == approx(0.40))",
         "hidden": false,
         "locked": false,
         "submit_only": false,
         "success_message": "check(proportion_fatalities(make_array(1,1,0,0,0)) == approx(0.40))"
        },
        {
         "code": ">>> check_str('s_and_v_cholera_proportion == approx(0.036828)', locals())\n",
         "failure_message": "check(s_and_v_cholera_proportion == approx(0.036828))",
         "hidden": false,
         "locked": false,
         "submit_only": false,
         "success_message": "check(s_and_v_cholera_proportion == approx(0.036828))"
        }
       ],
       "scored": true,
       "setup": "",
       "teardown": "",
       "type": "doctest"
      }
     ]
    },
    "p1.3": {
     "has_hidden": false,
     "name": "p1.3",
     "points": 5,
     "suites": [
      {
       "cases": [
        {
         "code": ">>> check_str('len(tiny_bootstrap) == 5', locals())\n",
         "failure_message": "check(len(tiny_bootstrap) == 5)",
         "hidden": false,
         "locked": false,
         "submit_only": false,
         "success_message": "check(len(tiny_bootstrap) == 5)"
        },
        {
         "code": ">>> check_str('tiny_bootstrap == approx(0.0368, plus_or_minus=0.02)', locals())\n",
         "failure_message": "check(tiny_bootstrap == approx(0.0368, plus_or_minus=0.02))",
         "hidden": false,
         "locked": false,
         "submit_only": false,
         "success_message": "check(tiny_bootstrap == approx(0.0368, plus_or_minus=0.02))"
        }
       ],
       "scored": true,
       "setup": "",
       "teardown": "",
       "type": "doctest"
      }
     ]
    },
    "p1.4": {
     "has_hidden": false,
     "name": "p1.4",
     "points": 5,
     "suites": [
      {
       "cases": [
        {
         "code": ">>> check_str('len(bootstrap_proportions) == 5000', locals())\n",
         "failure_message": "check(len(bootstrap_proportions) == 5000)",
         "hidden": false,
         "locked": false,
         "submit_only": false,
         "success_message": "check(len(bootstrap_proportions) == 5000)"
        },
        {
         "code": ">>> check_str('np.mean(bootstrap_proportions) == approx(0.0368, plus_or_minus=0.015)', locals())\n",
         "failure_message": "check(np.mean(bootstrap_proportions) == approx(0.0368, plus_or_minus=0.015))",
         "hidden": false,
         "locked": false,
         "submit_only": false,
         "success_message": "check(np.mean(bootstrap_proportions) == approx(0.0368, plus_or_minus=0.015))"
        }
       ],
       "scored": true,
       "setup": "",
       "teardown": "",
       "type": "doctest"
      }
     ]
    },
    "p1.5": {
     "has_hidden": false,
     "name": "p1.5",
     "points": 5,
     "suites": [
      {
       "cases": [
        {
         "code": ">>> check_str('type(lower_bound) in [int, float, np.float64]', locals())\n",
         "failure_message": "lower_bound should be a number",
         "hidden": false,
         "locked": false,
         "submit_only": false,
         "success_message": "lower_bound is a number"
        },
        {
         "code": ">>> check_str('type(upper_bound) in [int, float, np.float64]', locals())\n",
         "failure_message": "upper_bound should be a number",
         "hidden": false,
         "locked": false,
         "submit_only": false,
         "success_message": "upper_bound is a number"
        },
        {
         "code": ">>> check_str('0.02 <= lower_bound <= upper_bound <= 0.06', locals())\n",
         "failure_message": "check(0.02 <= lower_bound <= upper_bound <= 0.06)",
         "hidden": false,
         "locked": false,
         "submit_only": false,
         "success_message": "check(0.02 <= lower_bound <= upper_bound <= 0.06)"
        },
        {
         "code": ">>> check_str('lower_bound == percentile(2.5, bootstrap_proportions)', locals())\n",
         "failure_message": "lower_bound isn't correct",
         "hidden": false,
         "locked": false,
         "submit_only": false,
         "success_message": "check(lower_bound == percentile(2.5, bootstrap_proportions))"
        },
        {
         "code": ">>> check_str('upper_bound == percentile(97.5, bootstrap_proportions)', locals())\n",
         "failure_message": "upper_bound isn't correct",
         "hidden": false,
         "locked": false,
         "submit_only": false,
         "success_message": "check(upper_bound == percentile(97.5, bootstrap_proportions))"
        }
       ],
       "scored": true,
       "setup": "",
       "teardown": "",
       "type": "doctest"
      }
     ]
    },
    "p1.6": {
     "has_hidden": false,
     "name": "p1.6",
     "points": 5,
     "suites": [
      {
       "cases": [
        {
         "code": ">>> check_str('statement_1', locals())\n",
         "failure_message": "statement_1 is incorrect.  Try again!",
         "hidden": false,
         "locked": false,
         "submit_only": false,
         "success_message": "check(statement_1)"
        },
        {
         "code": ">>> check_str('not statement_2', locals())\n",
         "failure_message": "statement_2 is incorrect.  Try again!",
         "hidden": false,
         "locked": false,
         "submit_only": false,
         "success_message": "check(not statement_2)"
        },
        {
         "code": ">>> check_str('statement_3', locals())\n",
         "failure_message": "statement_3 is incorrect.  Try again!",
         "hidden": false,
         "locked": false,
         "submit_only": false,
         "success_message": "check(statement_3)"
        },
        {
         "code": ">>> check_str('not statement_4', locals())\n",
         "failure_message": "statement_4 is incorrect.  Try again!",
         "hidden": false,
         "locked": false,
         "submit_only": false,
         "success_message": "check(not statement_4)"
        }
       ],
       "scored": true,
       "setup": "",
       "teardown": "",
       "type": "doctest"
      }
     ]
    }
   }
  },
  "vscode": {
   "interpreter": {
    "hash": "e9a7af6fc709cc25e111b0d6e28f738a78907138b7e48b682edcf6dfb7dc8bee"
   }
  }
 },
 "nbformat": 4,
 "nbformat_minor": 5
}
