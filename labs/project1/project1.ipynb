{
 "cells": [
  {
   "cell_type": "code",
   "execution_count": null,
   "id": "92cf8450",
   "metadata": {
    "deletable": false,
    "editable": false
   },
   "outputs": [],
   "source": [
    "# Initialize Otter\n",
    "import otter\n",
    "grader = otter.Notebook(\"project1.ipynb\")"
   ]
  },
  {
   "cell_type": "markdown",
   "id": "0157bbaa",
   "metadata": {
    "deletable": false,
    "editable": false
   },
   "source": [
    "<table style=\"width: 100%;\">\n",
    "<tr style=\"background-color: transparent;\">\n",
    "<td width=\"100px\"><img src=\"https://cs104williams.github.io/assets/cs104-logo.png\" width=\"90px\" style=\"text-align: center\"/></td>\n",
    "<td>\n",
    "  <p style=\"margin-bottom: 0px; text-align: left; font-size: 18pt;\"><strong>CSCI 104: Data Science and Computing for All</strong><br>\n",
    "                Williams College<br>\n",
    "                Fall 2024</p>\n",
    "</td>\n",
    "</tr>\n"
   ]
  },
  {
   "cell_type": "markdown",
   "id": "e0d939ea",
   "metadata": {
    "deletable": false,
    "editable": false
   },
   "source": [
    "<hr style=\"margin-bottom: 0px; padding:0; border: 2px solid #500082;\"/>"
   ]
  },
  {
   "cell_type": "markdown",
   "id": "14eb92fa",
   "metadata": {
    "deletable": false,
    "editable": false
   },
   "source": [
    "# Midterm Project: World Progress\n",
    "\n",
    "In this project, you'll explore data from [Gapminder.org](http://gapminder.org), a website dedicated to providing a fact-based view of the world and how it has changed. That site includes several data visualizations and presentations, and it also publishes the raw data that we will use in this project to recreate and extend some of their most famous visualizations.\n",
    "\n",
    "The Gapminder website collects data from many sources and compiles them into tables that describe many countries around the world. All of the data they aggregate are published in the [Systema Globalis](https://github.com/open-numbers/ddf--gapminder--systema_globalis/blob/master/README.md). Their goal is \"to compile all public statistics; Social, Economic and Environmental; into a comparable total dataset.\" All data sets in this project are copied directly from the Systema Globalis without any changes.\n",
    "\n",
    "\n",
    "## Honor Code\n",
    "\n",
    "This project aims to synthesize the material we have covered in this course so far and assess the python and data wrangling skills you have all learned.  As such, **this project is to be completed on your own**. Specifically, the Honor Code as interpreted for this assignment is as follows:\n",
    "\n",
    "* **You may consult the text, your notes, your lab work, our lecture examples, and the web pages associated with the course web page.  No other resources are permitted.**  You may not search the web, use ChatGPT or similar systems, or any materials other than your own or those provided by the instructors through the course web pages.\n",
    "\n",
    "* **You may discuss these questions and review general concepts from the class materials with the course instructors and TAs.**  While we expect you to develop your solutions independently, we're happy to answer clarification questions, help you interpret Python error messages, offer general debugging advice, review lecture and lab materials, etc.\n",
    "\n",
    "* **You may not discuss this project or your solutions with anyone else until after the final submission deadline.**\n",
    "\n",
    "*Do not hesitate to ask if you are in doubt as to what is appropriate. We're happy to discuss this anytime.*\n",
    "\n",
    "\n",
    "## Deadlines\n",
    "\n",
    "* **10pm on Friday, Oct 11: Checkpoint.**  You must complete the first 8 questions, and pass the public autograder tests for those parts.  Submitting this checkpoint is worth 5% of your entire project grade.  After you've submitted the checkpoint, you may still change your answers before the project deadline - only your final submission, to the Project 1 assignment, will be graded for correctness. \n",
    "\n",
    "* **10pm on Thursday, Oct 17: Final Due Date.**  The full project must be submitted to Gradescope.\n",
    "\n",
    "Late days may not be used on the project.\n",
    "\n",
    "## Instructions\n",
    "\n",
    "- Before you begin, execute the cell at the TOP of the notebook to load the provided tests, as well as the following cell to setup the notebook by importing some helpful libraries. Each time you start your server, you will need to execute these cells again.  \n",
    "\n",
    "- Be sure to consult your [Python Reference](https://cs104williams.github.io/assets/python-library-ref.html)!\n",
    "\n",
    "- Complete this notebook by filling in the cells provided. For problems asking you to write explanations, you **must** provide your answer in the designated space. \n",
    "\n",
    "- Please be sure to not re-assign variables throughout the notebook.  For example, if you use `max_temperature` in your answer to one question, do not reassign it later on. Otherwise, you will fail tests that you thought you were passing previously.\n",
    "\n",
    "- This project has hidden tests for some parts. That means even though tests may say 100% passed, doesn't mean your final grade will be 100%. We will be running more tests for correctness once everyone turns in the lab.\n",
    "\n",
    "## Hints for Success\n",
    "\n",
    "- You may find some parts of this project challenging.  Keep in mind that a perfect score is not necessary to be highly successful in this class.  Do your best, but please do not worry if you are unable to complete all parts.\n",
    "\n",
    "- Along those lines, give yourself ample time to think about the material and develop your solutions.  Don't wait until the last minute!\n",
    "\n",
    "- Develop your answers incrementally. To perform a complicated table manipulation, break it up into steps, perform each step on a different line, give a new name to each result, and check that each intermediate result is what you expect. \n",
    "\n",
    "- You may add any additional names or functions you want to the provided cells. Be sure to use distinct and meaningful variable names throughout the notebook, but do not reassign to names we have already used in the notebook. Recall, in the file menu you can select `Kernel > Restart Kernel and Run All Cells` to ensure variables you have deleted are not still in the computer's memory and to run everything from scratch.\n"
   ]
  },
  {
   "cell_type": "markdown",
   "id": "8f477cee",
   "metadata": {
    "deletable": false,
    "editable": false
   },
   "source": [
    "<hr/>"
   ]
  },
  {
   "cell_type": "code",
   "execution_count": null,
   "id": "4b153992",
   "metadata": {
    "deletable": false,
    "editable": false,
    "execution": {
     "iopub.execute_input": "2024-10-01T22:55:37.609248Z",
     "iopub.status.busy": "2024-10-01T22:55:37.609028Z",
     "iopub.status.idle": "2024-10-01T22:55:39.069415Z",
     "shell.execute_reply": "2024-10-01T22:55:39.068757Z"
    },
    "tags": []
   },
   "outputs": [],
   "source": [
    "# Run this cell to set up the notebook.\n",
    "# These lines import the numpy, datascience, and cs104 libraries.\n",
    "\n",
    "import numpy as np\n",
    "from datascience import *\n",
    "from cs104 import *\n",
    "%matplotlib inline"
   ]
  },
  {
   "cell_type": "markdown",
   "id": "35a6a493",
   "metadata": {
    "deletable": false,
    "editable": false
   },
   "source": [
    "The global population of humans reached 1 billion around 1800, 3 billion around 1960, and 7 billion around 2011. The potential impact of exponential population growth has concerned scientists, economists, and politicians alike.\n",
    "\n",
    "The UN Population Division estimates that the world population will likely continue to grow throughout the 21st century, but at a slower rate, perhaps reaching 11 billion by 2100. However, the UN does not rule out scenarios of more extreme growth.\n",
    "\n",
    "<a href=\"http://www.pewresearch.org/fact-tank/2015/06/08/scientists-more-worried-than-public-about-worlds-growing-population/ft_15-06-04_popcount/\"> \n",
    " <img src=\"pew_population_projection.png\"/> \n",
    "</a>\n",
    "\n",
    "We  begin the project by examining some of the factors that influence population growth and how they have been changing over the years and around the world. There are two main sub-parts of this analysis.\n",
    "\n",
    "- First, we  examine the data for one country, Bangladesh. We will see how factors such as life expectancy, fertility rate, and child mortality have changed over time in Bangladesh, and how they are related to the rate of population growth.\n",
    "- Next, we  examine whether the changes we have observed for Bangladesh are particular to that country or whether they reflect general patterns observable in other countries too. We will study aspects of world population growth and see how they have been changing.\n",
    "\n",
    "The first table we  consider contains the total population of each country over time. Run the cell below.    (The population csv file can also be found [here](https://github.com/open-numbers/ddf--gapminder--systema_globalis/blob/master/countries-etc-datapoints/ddf--datapoints--population_total--by--geo--time.csv).)"
   ]
  },
  {
   "cell_type": "code",
   "execution_count": null,
   "id": "26180dee",
   "metadata": {
    "deletable": false,
    "editable": false,
    "execution": {
     "iopub.execute_input": "2024-10-01T22:55:39.072630Z",
     "iopub.status.busy": "2024-10-01T22:55:39.072271Z",
     "iopub.status.idle": "2024-10-01T22:55:39.209982Z",
     "shell.execute_reply": "2024-10-01T22:55:39.208965Z"
    },
    "tags": []
   },
   "outputs": [],
   "source": [
    "population = Table.read_table('population.csv').where('Time', are.below(2021))\n",
    "population.show(3)"
   ]
  },
  {
   "cell_type": "markdown",
   "id": "cfd49b13",
   "metadata": {
    "deletable": false,
    "editable": false
   },
   "source": [
    "In this table, the `geo` column contains three-letter codes established by the [International Organization for Standardization](https://en.wikipedia.org/wiki/International_Organization_for_Standardization) (ISO) in the [Alpha-3](https://en.wikipedia.org/wiki/ISO_3166-1_alpha-3#Current_codes) standard."
   ]
  },
  {
   "cell_type": "markdown",
   "id": "71d7d577",
   "metadata": {
    "deletable": false,
    "editable": false
   },
   "source": [
    "<hr style=\"margin-bottom: 0px; padding:0; border: 2px solid #500082;\"/>\n"
   ]
  },
  {
   "cell_type": "markdown",
   "id": "9ca22193",
   "metadata": {
    "deletable": false,
    "editable": false
   },
   "source": [
    "## 1. Population Growth: Bangladesh (40 pts)\n",
    "\n"
   ]
  },
  {
   "cell_type": "markdown",
   "id": "5c4cfb29",
   "metadata": {
    "deletable": false,
    "editable": false
   },
   "source": [
    "The nation of [Bangladesh](https://en.wikipedia.org/wiki/Bangladesh#People's_Republic_of_Bangladesh) was established as a parliamentary democracy after the Bangladesh Liberation War ended in 1971. The war-ravaged fledgling nation was almost immediately faced with floods and famine. In this section of the project, we will examine aspects of the development of Bangladesh since that time. \n",
    "\n",
    "Before proceeding, consult the [Alpha-3](https://en.wikipedia.org/wiki/ISO_3166-1_alpha-3#Current_codes) link above to find the 3-letter code for Bangladesh."
   ]
  },
  {
   "cell_type": "markdown",
   "id": "ff7a5541",
   "metadata": {
    "deletable": false,
    "editable": false
   },
   "source": [
    "#### Part 1.1 (5 pts)\n"
   ]
  },
  {
   "cell_type": "markdown",
   "id": "7202d1ed",
   "metadata": {
    "deletable": false,
    "editable": false
   },
   "source": [
    "Create a table called `b_pop` that has two columns labeled `Time` and `Population` (in that exact order). The first column should contain the years from 1970 through 2020 (including both 1970 and 2020) and the second should contain the population of Bangladesh in each of those years.\n",
    "\n"
   ]
  },
  {
   "cell_type": "code",
   "execution_count": null,
   "id": "4aa60125",
   "metadata": {
    "deletable": false,
    "execution": {
     "iopub.execute_input": "2024-10-01T22:55:39.215779Z",
     "iopub.status.busy": "2024-10-01T22:55:39.215290Z",
     "iopub.status.idle": "2024-10-01T22:55:39.256109Z",
     "shell.execute_reply": "2024-10-01T22:55:39.255545Z"
    },
    "tags": []
   },
   "outputs": [],
   "source": [
    "...\n",
    "b_pop = ...\n",
    "b_pop"
   ]
  },
  {
   "cell_type": "code",
   "execution_count": null,
   "id": "b380a90f",
   "metadata": {
    "deletable": false,
    "editable": false
   },
   "outputs": [],
   "source": [
    "grader.check(\"p1.1\")"
   ]
  },
  {
   "cell_type": "markdown",
   "id": "804ea924",
   "metadata": {
    "deletable": false,
    "editable": false
   },
   "source": [
    "Run the following cell to create a table called `b_five` that has the population of Bangladesh every five years. At a glance, it appears that the population of Bangladesh has been growing quickly indeed!\n",
    "\n",
    "*Note:* You do not need to change or add anything to the cell below. "
   ]
  },
  {
   "cell_type": "code",
   "execution_count": null,
   "id": "d10b992e",
   "metadata": {
    "deletable": false,
    "editable": false,
    "execution": {
     "iopub.execute_input": "2024-10-01T22:55:39.286806Z",
     "iopub.status.busy": "2024-10-01T22:55:39.286532Z",
     "iopub.status.idle": "2024-10-01T22:55:39.292625Z",
     "shell.execute_reply": "2024-10-01T22:55:39.291511Z"
    },
    "tags": []
   },
   "outputs": [],
   "source": [
    "b_pop.set_format('Population', NumberFormatter)  # Prints populations with commas\n",
    "\n",
    "fives = np.arange(1970, 2021, 5) # 1970, 1975, 1980, ...\n",
    "b_five = b_pop.sort('Time').where('Time', are.contained_in(fives))\n",
    "b_five.show()"
   ]
  },
  {
   "cell_type": "markdown",
   "id": "b3a2c401",
   "metadata": {
    "deletable": false,
    "editable": false
   },
   "source": [
    "#### Part 1.2 (5 pts)\n"
   ]
  },
  {
   "cell_type": "markdown",
   "id": "45b0ab91",
   "metadata": {
    "deletable": false,
    "editable": false
   },
   "source": [
    "Let's write code to find the population growth rate. \n",
    "\n",
    "Assign `initial` to an array that contains the population for every five year interval from 1970 to 2015 (inclusive). Then, assign `changed` to an array that contains the population for every five year interval from 1975 to 2020 (inclusive). The first array should include both 1970 and 2015, and the second array should include both 1975 and 2020. \n",
    "\n",
    "You should use the `b_five` table to create both arrays, by first filtering the table to only contain the relevant years.\n",
    "\n",
    "We have provided the code below that uses  `initial` and `changed` in order to add a column to `b_five` called `annual_growth`. Don't worry about the calculation of the growth rates; run the test below to test your solution.\n",
    "\n",
    "If you are interested in how we came up with the formula for growth rates, consult the [growth rates](https://inferentialthinking.com/chapters/03/2/1/Growth.html) section of the textbook.\n",
    "\n"
   ]
  },
  {
   "cell_type": "code",
   "execution_count": null,
   "id": "dff581e3",
   "metadata": {
    "deletable": false,
    "execution": {
     "iopub.execute_input": "2024-10-01T22:55:39.295894Z",
     "iopub.status.busy": "2024-10-01T22:55:39.295663Z",
     "iopub.status.idle": "2024-10-01T22:55:39.302071Z",
     "shell.execute_reply": "2024-10-01T22:55:39.301457Z"
    },
    "tags": []
   },
   "outputs": [],
   "source": [
    "initial = ...\n",
    "changed = ...\n",
    "\n",
    "b_1970_through_2015 = b_five.where('Time', are.below_or_equal_to(2015)) \n",
    "b_five_growth = b_1970_through_2015.with_column('Annual Growth', (changed/initial)**(1/5)-1)\n",
    "b_five_growth.set_format('Annual Growth', PercentFormatter)"
   ]
  },
  {
   "cell_type": "code",
   "execution_count": null,
   "id": "a5358d3a",
   "metadata": {
    "deletable": false,
    "editable": false
   },
   "outputs": [],
   "source": [
    "grader.check(\"p1.2\")"
   ]
  },
  {
   "cell_type": "markdown",
   "id": "4b6b2f64",
   "metadata": {
    "deletable": false,
    "editable": false
   },
   "source": [
    "While the population has grown every five years since 1970, the annual growth rate decreased dramatically from 1985 to 2015. Let's look at some other information in order to develop a possible explanation. Run the next cell to load three additional tables of measurements about countries over time."
   ]
  },
  {
   "cell_type": "code",
   "execution_count": null,
   "id": "32091059",
   "metadata": {
    "deletable": false,
    "editable": false,
    "execution": {
     "iopub.execute_input": "2024-10-01T22:55:39.350521Z",
     "iopub.status.busy": "2024-10-01T22:55:39.350348Z",
     "iopub.status.idle": "2024-10-01T22:55:39.681685Z",
     "shell.execute_reply": "2024-10-01T22:55:39.680817Z"
    },
    "tags": []
   },
   "outputs": [],
   "source": [
    "life_expectancy = Table.read_table('life_expectancy.csv').where('Time', are.below(2021))\n",
    "child_mortality = Table.read_table('child_mortality.csv').where('Time', are.below(2021))\n",
    "fertility = Table.read_table('fertility.csv').where('Time', are.below(2021))"
   ]
  },
  {
   "cell_type": "markdown",
   "id": "fc4c98c1",
   "metadata": {
    "deletable": false,
    "editable": false
   },
   "source": [
    "The `life_expectancy` table contains a statistic that is often used to measure how long people live, called *life expectancy at birth*. This number, for a country in a given year, [does not measure how long babies born in that year are expected to live](http://blogs.worldbank.org/opendata/what-does-life-expectancy-birth-really-mean). Instead, it measures how long someone would live, on average, if the *mortality conditions* in that year persisted throughout their lifetime. These \"mortality conditions\" describe what fraction of people at each age survived the year. So, it is a way of measuring the proportion of people that are staying alive, aggregated over different age groups in the population."
   ]
  },
  {
   "cell_type": "markdown",
   "id": "6c63e5d3",
   "metadata": {
    "deletable": false,
    "editable": false
   },
   "source": [
    "Run the following cells below to see `life_expectancy`, `child_mortality`, and `fertility`. Refer back to these tables as they will be helpful for answering further questions!"
   ]
  },
  {
   "cell_type": "code",
   "execution_count": null,
   "id": "433ad307",
   "metadata": {
    "deletable": false,
    "editable": false,
    "execution": {
     "iopub.execute_input": "2024-10-01T22:55:39.685101Z",
     "iopub.status.busy": "2024-10-01T22:55:39.684895Z",
     "iopub.status.idle": "2024-10-01T22:55:39.688393Z",
     "shell.execute_reply": "2024-10-01T22:55:39.687899Z"
    },
    "tags": []
   },
   "outputs": [],
   "source": [
    "life_expectancy.show(3)"
   ]
  },
  {
   "cell_type": "code",
   "execution_count": null,
   "id": "4efe757b",
   "metadata": {
    "deletable": false,
    "editable": false,
    "execution": {
     "iopub.execute_input": "2024-10-01T22:55:39.690690Z",
     "iopub.status.busy": "2024-10-01T22:55:39.690527Z",
     "iopub.status.idle": "2024-10-01T22:55:39.693842Z",
     "shell.execute_reply": "2024-10-01T22:55:39.693383Z"
    },
    "tags": []
   },
   "outputs": [],
   "source": [
    "child_mortality.show(3)"
   ]
  },
  {
   "cell_type": "code",
   "execution_count": null,
   "id": "c3431351",
   "metadata": {
    "deletable": false,
    "editable": false,
    "execution": {
     "iopub.execute_input": "2024-10-01T22:55:39.696005Z",
     "iopub.status.busy": "2024-10-01T22:55:39.695840Z",
     "iopub.status.idle": "2024-10-01T22:55:39.699200Z",
     "shell.execute_reply": "2024-10-01T22:55:39.698674Z"
    },
    "tags": []
   },
   "outputs": [],
   "source": [
    "fertility.show(3)"
   ]
  },
  {
   "cell_type": "markdown",
   "id": "f6b5725c",
   "metadata": {
    "deletable": false,
    "editable": false
   },
   "source": [
    "<!-- BEGIN QUESTION -->\n",
    "\n",
    "#### Part 1.3 (5 pts)\n"
   ]
  },
  {
   "cell_type": "markdown",
   "id": "19eae5b3",
   "metadata": {
    "deletable": false,
    "editable": false
   },
   "source": [
    "Let's explore the hypothesis that the population is growing more slowly because people aren't living as long. \n",
    "\n",
    "Use the `life_expectancy` table to draw a line graph with the years 1970 and later on the horizontal axis that shows how the *life expectancy at birth* has changed in Bangladesh.\n",
    " \n",
    "*Note:* We are still focusing only on Bangladesh and no other countries at the moment. "
   ]
  },
  {
   "cell_type": "code",
   "execution_count": null,
   "id": "eb5a57af",
   "metadata": {
    "deletable": false,
    "execution": {
     "iopub.execute_input": "2024-10-01T22:55:39.702191Z",
     "iopub.status.busy": "2024-10-01T22:55:39.701994Z",
     "iopub.status.idle": "2024-10-01T22:55:39.980176Z",
     "shell.execute_reply": "2024-10-01T22:55:39.979739Z"
    },
    "tags": []
   },
   "outputs": [],
   "source": [
    "..."
   ]
  },
  {
   "cell_type": "markdown",
   "id": "106731f9",
   "metadata": {
    "deletable": false,
    "editable": false
   },
   "source": [
    "<!-- END QUESTION -->\n",
    "\n",
    "<!-- BEGIN QUESTION -->\n",
    "\n",
    "#### Part 1.4 (5 pts)\n"
   ]
  },
  {
   "cell_type": "markdown",
   "id": "3909a3d9",
   "metadata": {
    "deletable": false,
    "editable": false
   },
   "source": [
    " Assuming everything else stays the same, do the trends in life expectancy in the graph above directly explain why the population growth rate decreased from 1985 to 2015 in Bangladesh? Why or why not? \n",
    "\n",
    "*Hint:* What happened in Bangladesh in 1991, and does that event explain the overall change in population growth rate? This [webpage](https://en.wikipedia.org/wiki/1991_Bangladesh_cyclone) provides relevant context.\n",
    "\n"
   ]
  },
  {
   "cell_type": "markdown",
   "id": "f68ae6d0",
   "metadata": {
    "deletable": false,
    "editable": false
   },
   "source": [
    "<hr style=\"margin:0; border: 1px solid #FFBE0A;\"/><font color='#FFBE0A'>Written Answer:</font>"
   ]
  },
  {
   "cell_type": "markdown",
   "id": "e4eab12b",
   "metadata": {
    "deletable": false
   },
   "source": [
    "_Type your answer here, replacing this text._\n"
   ]
  },
  {
   "cell_type": "markdown",
   "id": "5c9c02c9",
   "metadata": {
    "deletable": false,
    "editable": false
   },
   "source": [
    "<hr style=\"margin:0; border: 1px solid #FFBE0A;\"/>"
   ]
  },
  {
   "cell_type": "markdown",
   "id": "c4631d65",
   "metadata": {
    "deletable": false,
    "editable": false
   },
   "source": [
    "<!-- END QUESTION -->\n",
    "\n",
    "#### Part 1.5 (5 pts)\n"
   ]
  },
  {
   "cell_type": "markdown",
   "id": "74716d3e",
   "metadata": {
    "deletable": false,
    "editable": false
   },
   "source": [
    "The `fertility` table contains a statistic that is often used to measure how many babies are being born, the *total fertility rate*. This number describes the [number of children a woman would have in her lifetime](https://www.measureevaluation.org/prh/rh_indicators/specific/fertility/total-fertility-rate), on average, if the current rates of birth by age of the mother persisted throughout her child bearing years, assuming she survived through age 49. "
   ]
  },
  {
   "cell_type": "markdown",
   "id": "1a9762a4",
   "metadata": {
    "deletable": false,
    "editable": false
   },
   "source": [
    "For this part, complete the function `fertility_over_time`. The function has two parameters: \n",
    " - `country_code`: an Alpha-3 code of a country\n",
    " - `start`: the start year of the returned table (inclusive) \n",
    " \n",
    "The function returns a two-column table with labels `Year` and `Children per woman` with the country's fertility rate each year, starting at the `start` year (it should include all later years that appear in the `fertility` table). \n",
    "\n",
    "After you've written the function, use the provided code  to plot how Bangladesh's fertility rate has changed since 1970. **The expression that draws the line plot is provided for you; please don't change it.**\n",
    "\n",
    "*Note:* The function `fertility_over_time` should return a table, not the plot itself. "
   ]
  },
  {
   "cell_type": "code",
   "execution_count": null,
   "id": "f933230b",
   "metadata": {
    "deletable": false,
    "execution": {
     "iopub.execute_input": "2024-10-01T22:55:39.984404Z",
     "iopub.status.busy": "2024-10-01T22:55:39.984219Z",
     "iopub.status.idle": "2024-10-01T22:55:40.239675Z",
     "shell.execute_reply": "2024-10-01T22:55:40.239210Z"
    },
    "tags": []
   },
   "outputs": [],
   "source": [
    "def fertility_over_time(country_code, start):\n",
    "    # Return a two-column table that describes a country's total fertility rate each year.\n",
    "    ...\n",
    "\n",
    "fertility_over_time('bgd', 1970).plot('Year', 'Children per woman') # You should *not* change this line."
   ]
  },
  {
   "cell_type": "code",
   "execution_count": null,
   "id": "b29703f1",
   "metadata": {
    "deletable": false,
    "editable": false
   },
   "outputs": [],
   "source": [
    "grader.check(\"p1.5\")"
   ]
  },
  {
   "cell_type": "markdown",
   "id": "429c7cc5",
   "metadata": {
    "deletable": false,
    "editable": false
   },
   "source": [
    "<!-- BEGIN QUESTION -->\n",
    "\n",
    "#### Part 1.6 (5 pts)\n"
   ]
  },
  {
   "cell_type": "markdown",
   "id": "715fb0d6",
   "metadata": {
    "deletable": false,
    "editable": false
   },
   "source": [
    " Assuming everything else is constant, do the trends in fertility in the graph above help explain why the population growth rate decreased from 1980 to 2020 in Bangladesh? Why or why not?\n",
    "\n"
   ]
  },
  {
   "cell_type": "markdown",
   "id": "dabfb289",
   "metadata": {
    "deletable": false,
    "editable": false
   },
   "source": [
    "<hr style=\"margin:0; border: 1px solid #FFBE0A;\"/><font color='#FFBE0A'>Written Answer:</font>"
   ]
  },
  {
   "cell_type": "markdown",
   "id": "f155d316",
   "metadata": {
    "deletable": false
   },
   "source": [
    "_Type your answer here, replacing this text._\n"
   ]
  },
  {
   "cell_type": "markdown",
   "id": "47567d8b",
   "metadata": {
    "deletable": false,
    "editable": false
   },
   "source": [
    "<hr style=\"margin:0; border: 1px solid #FFBE0A;\"/>"
   ]
  },
  {
   "cell_type": "markdown",
   "id": "4f1a7a0e",
   "metadata": {
    "deletable": false,
    "editable": false
   },
   "source": [
    "<!-- END QUESTION -->\n",
    "\n",
    "#### Part 1.7 (5 pts)\n"
   ]
  },
  {
   "cell_type": "markdown",
   "id": "c9cd8a7f",
   "metadata": {
    "deletable": false,
    "editable": false
   },
   "source": [
    "It has been [observed](https://www.ageing.ox.ac.uk/download/143) that lower fertility rates are often associated with lower child mortality rates. The link has been attributed to family planning: if parents can expect that their children will all survive into adulthood, then they will choose to have fewer children. In the reverse direction, having fewer children may allow families to devote more resources to each child, reducing child mortality. We can see if this association is evident in Bangladesh by plotting the relationship between total fertility rate and [child mortality rate per 1000 children](https://en.wikipedia.org/wiki/Child_mortality)."
   ]
  },
  {
   "cell_type": "markdown",
   "id": "a0ee261e",
   "metadata": {
    "deletable": false,
    "editable": false
   },
   "source": [
    "Using both the `fertility` and `child_mortality` tables, we will draw a scatter diagram that has Bangladesh's total fertility on the horizontal axis and its child mortality on the vertical axis with one point for each year, starting with 1970.\n",
    "\n",
    "**The code that draws the scatter diagram is provided for you; please don't change it.** \n",
    "\n",
    "For your part, create a table called `post_1969_fertility_and_child_mortality` with the appropriate column labels and data in order to generate the chart correctly. Use the label `Children per woman` to describe total fertility and the label `Child deaths per 1000 born` to describe child mortality.  Your table should also have a `Time` column.\n",
    "\n",
    "*Note*: Do not drop the `Time` column or you will get an error in the scatterplot in the next cell!"
   ]
  },
  {
   "cell_type": "code",
   "execution_count": null,
   "id": "b01a7a54",
   "metadata": {
    "deletable": false,
    "execution": {
     "iopub.execute_input": "2024-10-01T22:55:40.442022Z",
     "iopub.status.busy": "2024-10-01T22:55:40.441414Z",
     "iopub.status.idle": "2024-10-01T22:55:40.839841Z",
     "shell.execute_reply": "2024-10-01T22:55:40.839273Z"
    },
    "tags": []
   },
   "outputs": [],
   "source": [
    "...\n",
    "post_1969_fertility_and_child_mortality = ...\n",
    "\n",
    "# Don't change anything below this line!\n",
    "x_births = post_1969_fertility_and_child_mortality.column('Children per woman')\n",
    "y_deaths = post_1969_fertility_and_child_mortality.column('Child deaths per 1000 born')\n",
    "time_colors = post_1969_fertility_and_child_mortality.column('Time')\n",
    "\n",
    "import matplotlib.pyplot as plots\n",
    "plots.figure(figsize=(6,6))\n",
    "plots.scatter(x_births, y_deaths, c=time_colors, cmap=\"Blues_r\")\n",
    "plots.colorbar()\n",
    "plots.xlabel('Children per woman')\n",
    "plots.ylabel('Child deaths per 1000 born');"
   ]
  },
  {
   "cell_type": "code",
   "execution_count": null,
   "id": "8145d766",
   "metadata": {
    "deletable": false,
    "editable": false
   },
   "outputs": [],
   "source": [
    "grader.check(\"p1.7\")"
   ]
  },
  {
   "cell_type": "markdown",
   "id": "14e1c13d",
   "metadata": {
    "deletable": false,
    "editable": false
   },
   "source": [
    "The plot above uses **color** to encode data about the `time` column from the table `post_1969_fertility_and_child_mortality`. The colors, ranging from dark blue to white, represent the passing of time between the 1970s to the 2020s. For example, a point on the scatter plot representing data from the 1970s would appear as **dark blue** and a point from the 2010s would appear as **light blue**.\n"
   ]
  },
  {
   "cell_type": "markdown",
   "id": "f3274b2e",
   "metadata": {
    "deletable": false,
    "editable": false
   },
   "source": [
    "<!-- BEGIN QUESTION -->\n",
    "\n",
    "#### Part 1.8 (5 pts)\n"
   ]
  },
  {
   "cell_type": "markdown",
   "id": "7c2f077c",
   "metadata": {
    "deletable": false,
    "editable": false
   },
   "source": [
    " In one or two sentences, describe the association (if any) that is illustrated by this scatter diagram. Does the diagram show that reduced child mortality *causes* parents to choose to have fewer children?\n",
    "\n"
   ]
  },
  {
   "cell_type": "markdown",
   "id": "483139ae",
   "metadata": {
    "deletable": false,
    "editable": false
   },
   "source": [
    "<hr style=\"margin:0; border: 1px solid #FFBE0A;\"/><font color='#FFBE0A'>Written Answer:</font>"
   ]
  },
  {
   "cell_type": "markdown",
   "id": "67b62b7b",
   "metadata": {
    "deletable": false
   },
   "source": [
    "_Type your answer here, replacing this text._\n"
   ]
  },
  {
   "cell_type": "markdown",
   "id": "e6c71480",
   "metadata": {
    "deletable": false,
    "editable": false
   },
   "source": [
    "<hr style=\"margin:0; border: 1px solid #FFBE0A;\"/>"
   ]
  },
  {
   "cell_type": "markdown",
   "id": "9c5db3d1",
   "metadata": {
    "deletable": false,
    "editable": false,
    "tags": []
   },
   "source": [
    "<!-- END QUESTION -->\n",
    "\n",
    "### Checkpoint\n",
    "\n",
    "Congratulations, you have reached the checkpoint!  Follow these steps to submit your work:\n",
    "* Run the tests and verify that they pass as you expect, and that all images/graphs appear in the output.\n",
    "* Choose **Save Notebook** from the **File** menu.\n",
    "* **Run the following cell** and click the link below to download the zip file. \n",
    "\n",
    "Once you have downloaded that file, go to [Gradescope](https://www.gradescope.com/) and submit the zip file to the assignment is \"Project 1 Checkpoint\"."
   ]
  },
  {
   "cell_type": "code",
   "execution_count": null,
   "id": "6f829198",
   "metadata": {
    "deletable": false,
    "editable": false,
    "execution": {
     "iopub.execute_input": "2024-10-01T22:55:40.890609Z",
     "iopub.status.busy": "2024-10-01T22:55:40.890456Z",
     "iopub.status.idle": "2024-10-01T22:55:41.197259Z",
     "shell.execute_reply": "2024-10-01T22:55:41.196787Z"
    },
    "tags": [
     "raises-exception"
    ]
   },
   "outputs": [],
   "source": [
    "# Save your notebook first, then run this cell to export your submission.\n",
    "grader.export(pdf=True)"
   ]
  },
  {
   "cell_type": "markdown",
   "id": "9789c651",
   "metadata": {
    "deletable": false,
    "editable": false
   },
   "source": [
    "<hr style=\"margin-bottom: 0px; padding:0; border: 2px solid #500082;\"/>\n"
   ]
  },
  {
   "cell_type": "markdown",
   "id": "117df4cb",
   "metadata": {
    "deletable": false,
    "editable": false,
    "tags": []
   },
   "source": [
    "## 2. Population Growth: The World (45 pts)\n",
    "\n",
    "\n",
    "The change observed in Bangladesh since 1970 can also be observed in many other developing countries: health services improve, life expectancy increases, and child mortality decreases. At the same time, the fertility rate often plummets, and so the population growth rate decreases despite increasing longevity."
   ]
  },
  {
   "cell_type": "markdown",
   "id": "1e3db5eb",
   "metadata": {
    "deletable": false,
    "editable": false
   },
   "source": [
    "Run the cell below to generate two overlaid histograms, one for 1960 and one for 2010, that show the distributions of total fertility rates for these two years among all 201 countries in the `fertility` table."
   ]
  },
  {
   "cell_type": "code",
   "execution_count": null,
   "id": "c6bd7b85",
   "metadata": {
    "deletable": false,
    "editable": false,
    "execution": {
     "iopub.execute_input": "2024-10-01T22:55:41.200233Z",
     "iopub.status.busy": "2024-10-01T22:55:41.199763Z",
     "iopub.status.idle": "2024-10-01T22:55:41.919603Z",
     "shell.execute_reply": "2024-10-01T22:55:41.919079Z"
    },
    "tags": []
   },
   "outputs": [],
   "source": [
    "fertility_1960_2010 = Table().with_columns(\n",
    "    '1960', fertility.where('Time', 1960).column('Children per woman'),\n",
    "    '2010', fertility.where('Time', 2010).column('Children per woman')\n",
    ")\n",
    "plot = fertility_1960_2010.hist(bins=np.arange(0, 10, 0.5), unit='Children per woman')\n",
    "plot.set_xlabel('Children per woman (Fertility rate)')"
   ]
  },
  {
   "cell_type": "markdown",
   "id": "979d942c",
   "metadata": {
    "deletable": false,
    "editable": false
   },
   "source": [
    "#### Part 2.1 (4 pts)\n"
   ]
  },
  {
   "cell_type": "markdown",
   "id": "02462d09",
   "metadata": {
    "deletable": false,
    "editable": false
   },
   "source": [
    "Using the histogram above, please answer the following two questions:\n",
    "\n",
    "1. In 2010, roughly what percent of countries had a fertility rate between 1.5 and 2?\n",
    "2. In 1960, roughly what percent of countries had a fertility rate below 3?\n",
    "\n",
    "Assign your answers to the variables `percent_2010` and `percent_1960` below.  They need not be exact, but simply a reasonable estimate based on you reading the histogram properly."
   ]
  },
  {
   "cell_type": "code",
   "execution_count": null,
   "id": "67889d32",
   "metadata": {
    "deletable": false,
    "execution": {
     "iopub.execute_input": "2024-10-01T22:55:41.922532Z",
     "iopub.status.busy": "2024-10-01T22:55:41.922297Z",
     "iopub.status.idle": "2024-10-01T22:55:41.925128Z",
     "shell.execute_reply": "2024-10-01T22:55:41.924538Z"
    },
    "tags": []
   },
   "outputs": [],
   "source": [
    "percent_2010 = ...\n",
    "percent_1960 = ..."
   ]
  },
  {
   "cell_type": "code",
   "execution_count": null,
   "id": "53792919",
   "metadata": {
    "deletable": false,
    "editable": false
   },
   "outputs": [],
   "source": [
    "grader.check(\"p2.1\")"
   ]
  },
  {
   "cell_type": "markdown",
   "id": "863ebf46",
   "metadata": {
    "deletable": false,
    "editable": false
   },
   "source": [
    "<!-- BEGIN QUESTION -->\n",
    "\n",
    "#### Part 2.2 (4 pts)\n"
   ]
  },
  {
   "cell_type": "markdown",
   "id": "10bd514f",
   "metadata": {
    "deletable": false,
    "editable": false
   },
   "source": [
    "Describe the most striking distinction you see between fertility rates in 1960 and 2010?  In one or two sentences, quantify that distinction using the data presented in the histogram above."
   ]
  },
  {
   "cell_type": "markdown",
   "id": "c3202d96",
   "metadata": {
    "deletable": false,
    "editable": false
   },
   "source": [
    "<hr style=\"margin:0; border: 1px solid #FFBE0A;\"/><font color='#FFBE0A'>Written Answer:</font>"
   ]
  },
  {
   "cell_type": "markdown",
   "id": "9819e30e",
   "metadata": {
    "deletable": false
   },
   "source": [
    "_Type your answer here, replacing this text._\n"
   ]
  },
  {
   "cell_type": "markdown",
   "id": "195cb34e",
   "metadata": {
    "deletable": false,
    "editable": false
   },
   "source": [
    "<hr style=\"margin:0; border: 1px solid #FFBE0A;\"/>"
   ]
  },
  {
   "cell_type": "markdown",
   "id": "f02c5364",
   "metadata": {
    "deletable": false,
    "editable": false
   },
   "source": [
    "<!-- END QUESTION -->\n",
    "\n",
    "<!-- BEGIN QUESTION -->\n",
    "\n",
    "#### Part 2.3 (5 pts)\n"
   ]
  },
  {
   "cell_type": "markdown",
   "id": "a3e6a637",
   "metadata": {
    "deletable": false,
    "editable": false
   },
   "source": [
    "Create line graph of the world population from 1800 through 2020 (inclusive of both endpoints). The world population is the sum of all of the countries' populations. You should use the `population` table defined earlier in the project. \n",
    "\n"
   ]
  },
  {
   "cell_type": "code",
   "execution_count": null,
   "id": "09fde0d3",
   "metadata": {
    "deletable": false,
    "execution": {
     "iopub.execute_input": "2024-10-01T22:55:41.954469Z",
     "iopub.status.busy": "2024-10-01T22:55:41.954249Z",
     "iopub.status.idle": "2024-10-01T22:55:42.653489Z",
     "shell.execute_reply": "2024-10-01T22:55:42.652938Z"
    },
    "tags": []
   },
   "outputs": [],
   "source": [
    "#Fill in code here\n",
    "..."
   ]
  },
  {
   "cell_type": "markdown",
   "id": "071b305e",
   "metadata": {
    "deletable": false,
    "editable": false
   },
   "source": [
    "<!-- END QUESTION -->\n",
    "\n",
    "#### Part 2.4 (5 pts)\n"
   ]
  },
  {
   "cell_type": "markdown",
   "id": "8b5595be",
   "metadata": {
    "deletable": false,
    "editable": false
   },
   "source": [
    " Create a function `stats_for_year` that takes a `year` as a parameter and returns a table of statistics.\n",
    " \n",
    " The table it returns should have four columns: \n",
    " - `Geo`\n",
    " - `Population`\n",
    " - `Children per woman`\n",
    " - `Child deaths per 1000 born`\n",
    "in that order. \n",
    "\n",
    "Each row should contain one unique Alpha-3 country code and three statistics: population, fertility rate, and child mortality for that `year` from the `population`, `fertility` and `child_mortality` tables. Only include rows for which all three statistics are available for the country and year.\n",
    "\n",
    "In addition, restrict the result to country codes that appears in `big_50`, an array of the 50 most populous countries in 2020. This restriction will speed up computations later in the project.\n",
    "\n",
    "After you write `stats_for_year`, try calling `stats_for_year` on any year between 1960 and 2020. Look at the output of `stats_for_year` and see if you can make sense of it.\n",
    "\n",
    "*Hint*: The tests for this question are quite comprehensive, so if you pass the tests, your function is probably correct. However, without calling your function yourself and looking at the output, it will be very difficult to understand any problems you have, so try your best to write the function correctly and check that it works before you rely on the `grader` tests to confirm your work.\n",
    "\n",
    "*Hint*: What do all three tables have in common (pay attention to column names)?"
   ]
  },
  {
   "cell_type": "code",
   "execution_count": null,
   "id": "f558e362",
   "metadata": {
    "deletable": false,
    "execution": {
     "iopub.execute_input": "2024-10-01T22:55:42.656501Z",
     "iopub.status.busy": "2024-10-01T22:55:42.656311Z",
     "iopub.status.idle": "2024-10-01T22:55:43.320469Z",
     "shell.execute_reply": "2024-10-01T22:55:43.320008Z"
    },
    "tags": []
   },
   "outputs": [],
   "source": [
    "# We first create a population table that only includes the \n",
    "# 50 countries with the largest 2020 populations. We focus on \n",
    "# these 50 countries only so that plotting later will run faster.\n",
    "big_50 = population.where('Time', are.equal_to(2020)).sort('Population', descending=True).take(np.arange(50)).column('Geo')\n",
    "population_of_big_50 = population.where('Time', are.above_or_equal_to(1960)).where('Geo', are.contained_in(big_50))\n",
    "\n",
    "def stats_for_year(year):\n",
    "    \"\"\"Return a table of the stats for each country in big_50 for that year.\"\"\"\n",
    "    p = population_of_big_50.where('Time', are.equal_to(year)).drop('Time')\n",
    "    f = fertility.where('Time', are.equal_to(year)).drop('Time')\n",
    "    c = child_mortality.where('Time', are.equal_to(year)).drop('Time')\n",
    "    ...\n",
    "\n",
    "stats_for_year(2020)  "
   ]
  },
  {
   "cell_type": "code",
   "execution_count": null,
   "id": "7a5be0b4",
   "metadata": {
    "deletable": false,
    "editable": false
   },
   "outputs": [],
   "source": [
    "grader.check(\"p2.4\")"
   ]
  },
  {
   "cell_type": "markdown",
   "id": "7a1bac52",
   "metadata": {
    "deletable": false,
    "editable": false
   },
   "source": [
    "#### Part 2.5 (5 pts)\n"
   ]
  },
  {
   "cell_type": "markdown",
   "id": "8f57eda1",
   "metadata": {
    "deletable": false,
    "editable": false
   },
   "source": [
    "In the next two question parts, we will build up to creating a table with the world population for the first year of each decade. "
   ]
  },
  {
   "cell_type": "markdown",
   "id": "03cb2818",
   "metadata": {
    "deletable": false,
    "editable": false
   },
   "source": [
    "First, create a helper function `pop_for_year` that computes the total population per year for all countries in the `big_50` table defined above. \n",
    "\n",
    "*Hint:* Your answer should use the `stats_for_year` function from the previous question."
   ]
  },
  {
   "cell_type": "code",
   "execution_count": null,
   "id": "bc3bce48",
   "metadata": {
    "deletable": false,
    "execution": {
     "iopub.execute_input": "2024-10-01T22:55:44.767442Z",
     "iopub.status.busy": "2024-10-01T22:55:44.767215Z",
     "iopub.status.idle": "2024-10-01T22:55:44.770131Z",
     "shell.execute_reply": "2024-10-01T22:55:44.769668Z"
    },
    "tags": []
   },
   "outputs": [],
   "source": [
    "def pop_for_year(year):\n",
    "    \"\"\"Return the total population for the specified year.\"\"\"\n",
    "    ..."
   ]
  },
  {
   "cell_type": "code",
   "execution_count": null,
   "id": "c2747ddc",
   "metadata": {
    "deletable": false,
    "editable": false
   },
   "outputs": [],
   "source": [
    "grader.check(\"p2.5\")"
   ]
  },
  {
   "cell_type": "markdown",
   "id": "5571df93",
   "metadata": {
    "deletable": false,
    "editable": false
   },
   "source": [
    "#### Part 2.6 (5 pts)\n"
   ]
  },
  {
   "cell_type": "markdown",
   "id": "fd841c18",
   "metadata": {
    "deletable": false,
    "editable": false
   },
   "source": [
    "Now that you've defined your helper function, create a table called `pop_by_decade` with two columns called `Decade` and `Population`, in that order. \n",
    "\n",
    "The `pop_by_decade` table should have a row for each year that starts a decade, in increasing order starting with 1960 and ending with 2020. For example, 1960 is the start of the 1960's decade. \n",
    "\n",
    "Within the `pop_by_decade` table, the `Population` column should contain the total population of all countries included in the result of `stats_for_year(year)` for the first `year` of the decade. You should see that these countries contain most of the world's population.\n",
    "\n",
    "*Hint:* `.apply()` might be helpful here. "
   ]
  },
  {
   "cell_type": "code",
   "execution_count": null,
   "id": "9271ac31",
   "metadata": {
    "deletable": false,
    "execution": {
     "iopub.execute_input": "2024-10-01T22:55:46.200692Z",
     "iopub.status.busy": "2024-10-01T22:55:46.200478Z",
     "iopub.status.idle": "2024-10-01T22:55:48.574426Z",
     "shell.execute_reply": "2024-10-01T22:55:48.573966Z"
    },
    "tags": []
   },
   "outputs": [],
   "source": [
    "# Table with the years starting each decade\n",
    "decades = Table().with_column('Decade', np.arange(1960, 2021, 10))\n",
    "\n",
    "...\n",
    "pop_by_decade = ...\n",
    "\n",
    "pop_by_decade.set_format(1, NumberFormatter)  # Make the numbers have ,'s for readability."
   ]
  },
  {
   "cell_type": "code",
   "execution_count": null,
   "id": "acdecdec",
   "metadata": {
    "deletable": false,
    "editable": false
   },
   "outputs": [],
   "source": [
    "grader.check(\"p2.6\")"
   ]
  },
  {
   "cell_type": "markdown",
   "id": "306c1172",
   "metadata": {
    "deletable": false,
    "editable": false
   },
   "source": [
    "#### Part 2.7 (5 pts)\n"
   ]
  },
  {
   "cell_type": "markdown",
   "id": "8fe52163",
   "metadata": {
    "deletable": false,
    "editable": false
   },
   "source": [
    "The `countries` table below describes various characteristics of countries. The `Country` column contains the same codes as the `Geo` column in each of the other data tables (`population`, `fertility`, and `child_mortality`). The `World6 region` column classifies each country into a region of the world. Run the cell below to inspect the data."
   ]
  },
  {
   "cell_type": "code",
   "execution_count": null,
   "id": "e49c2f14",
   "metadata": {
    "deletable": false,
    "editable": false,
    "execution": {
     "iopub.execute_input": "2024-10-01T22:55:48.610225Z",
     "iopub.status.busy": "2024-10-01T22:55:48.610068Z",
     "iopub.status.idle": "2024-10-01T22:55:48.616539Z",
     "shell.execute_reply": "2024-10-01T22:55:48.616110Z"
    },
    "tags": []
   },
   "outputs": [],
   "source": [
    "countries = Table.read_table('countries.csv')\n",
    "countries = countries.select('Country', 'Name', 'World6 region')\n",
    "countries"
   ]
  },
  {
   "cell_type": "markdown",
   "id": "4570e3f3",
   "metadata": {
    "deletable": false,
    "editable": false
   },
   "source": [
    " Create a table called `region_counts`. It should contain two columns called `region` and `count`. The `region` column should contain regions of the world, and the `count` column should contain the number of countries in each region that appears in the result of `stats_for_year(2020)`. \n",
    "\n",
    "For example, one row would have `south_asia` as its `region` value and an integer as its `count` value: the number of large South Asian countries for which we have population, fertility, and child mortality numbers from 2020.\n",
    "\n",
    "*Hint*: You may have to relabel a column to name it `region`. \n",
    "\n"
   ]
  },
  {
   "cell_type": "code",
   "execution_count": null,
   "id": "7606be79",
   "metadata": {
    "deletable": false,
    "execution": {
     "iopub.execute_input": "2024-10-01T22:55:48.618951Z",
     "iopub.status.busy": "2024-10-01T22:55:48.618738Z",
     "iopub.status.idle": "2024-10-01T22:55:48.969892Z",
     "shell.execute_reply": "2024-10-01T22:55:48.969336Z"
    },
    "tags": []
   },
   "outputs": [],
   "source": [
    "stats_for_2020 = stats_for_year(2020)\n",
    "\n",
    "...\n",
    "region_counts = ...\n",
    "region_counts"
   ]
  },
  {
   "cell_type": "code",
   "execution_count": null,
   "id": "51798e74",
   "metadata": {
    "deletable": false,
    "editable": false
   },
   "outputs": [],
   "source": [
    "grader.check(\"p2.7\")"
   ]
  },
  {
   "cell_type": "markdown",
   "id": "bc10fa5b",
   "metadata": {
    "deletable": false,
    "editable": false
   },
   "source": [
    "<!-- BEGIN QUESTION -->\n",
    "\n",
    "#### Part 2.8 (3 pts)\n"
   ]
  },
  {
   "cell_type": "markdown",
   "id": "31942112",
   "metadata": {
    "deletable": false,
    "editable": false
   },
   "source": [
    "The following scatter diagram compares total fertility rate and child mortality rate for each country in 1960. The area of each dot represents the population of the country, and the color represents its region of the world. Run the cell. Do you think you can identify any of the dots?"
   ]
  },
  {
   "cell_type": "code",
   "execution_count": null,
   "id": "73510a68",
   "metadata": {
    "deletable": false,
    "editable": false,
    "execution": {
     "iopub.execute_input": "2024-10-01T22:55:48.993670Z",
     "iopub.status.busy": "2024-10-01T22:55:48.993487Z",
     "iopub.status.idle": "2024-10-01T22:55:49.689984Z",
     "shell.execute_reply": "2024-10-01T22:55:49.689435Z"
    },
    "tags": []
   },
   "outputs": [],
   "source": [
    "def fertility_vs_child_mortality(year):\n",
    "    \"\"\"Draw a color scatter diagram comparing child mortality and fertility.\"\"\"\n",
    "    with_region = stats_for_year(year).join('Geo', countries.select('Country', 'World6 region'), 'Country')\n",
    "    plot = with_region.scatter('Children per woman', \n",
    "                        'Child deaths per 1000 born', \n",
    "                        sizes='Population', \n",
    "                        group='World6 region', \n",
    "                        s=500)\n",
    "    plot.set_xlim(0,10)\n",
    "    plot.set_ylim(-50, 500)\n",
    "    plot.set_title(year)\n",
    "\n",
    "fertility_vs_child_mortality(1960)"
   ]
  },
  {
   "cell_type": "markdown",
   "id": "36713146",
   "metadata": {
    "deletable": false,
    "editable": false
   },
   "source": [
    "As a whole, which region had the lowest child mortality rate?  Justify your answer in one sentence using the scatter plot above."
   ]
  },
  {
   "cell_type": "markdown",
   "id": "1e2d5f00",
   "metadata": {
    "deletable": false,
    "editable": false
   },
   "source": [
    "<hr style=\"margin:0; border: 1px solid #FFBE0A;\"/><font color='#FFBE0A'>Written Answer:</font>"
   ]
  },
  {
   "cell_type": "markdown",
   "id": "ea0e7901",
   "metadata": {
    "deletable": false
   },
   "source": [
    "_Type your answer here, replacing this text._\n"
   ]
  },
  {
   "cell_type": "markdown",
   "id": "ba7d58f5",
   "metadata": {
    "deletable": false,
    "editable": false
   },
   "source": [
    "<hr style=\"margin:0; border: 1px solid #FFBE0A;\"/>"
   ]
  },
  {
   "cell_type": "markdown",
   "id": "f89a6b33",
   "metadata": {
    "deletable": false,
    "editable": false
   },
   "source": [
    "<!-- END QUESTION -->\n",
    "\n",
    "<!-- BEGIN QUESTION -->\n",
    "\n",
    "#### Part 2.9 (3 pts)\n"
   ]
  },
  {
   "cell_type": "markdown",
   "id": "d7e9392a",
   "metadata": {
    "deletable": false,
    "editable": false
   },
   "source": [
    "Complete this statement: \"Most regions have a fertility rate above ...\".  Justify your answer in one sentence using the scatter plot above."
   ]
  },
  {
   "cell_type": "markdown",
   "id": "7747d70b",
   "metadata": {
    "deletable": false,
    "editable": false
   },
   "source": [
    "<hr style=\"margin:0; border: 1px solid #FFBE0A;\"/><font color='#FFBE0A'>Written Answer:</font>"
   ]
  },
  {
   "cell_type": "markdown",
   "id": "d1119897",
   "metadata": {
    "deletable": false
   },
   "source": [
    "_Type your answer here, replacing this text._\n"
   ]
  },
  {
   "cell_type": "markdown",
   "id": "4171934f",
   "metadata": {
    "deletable": false,
    "editable": false
   },
   "source": [
    "<hr style=\"margin:0; border: 1px solid #FFBE0A;\"/>"
   ]
  },
  {
   "cell_type": "markdown",
   "id": "366673dc",
   "metadata": {
    "deletable": false,
    "editable": false
   },
   "source": [
    "<!-- END QUESTION -->\n",
    "\n",
    "<!-- BEGIN QUESTION -->\n",
    "\n",
    "#### Part 2.10 (3 pts)\n"
   ]
  },
  {
   "cell_type": "markdown",
   "id": "20432ec1",
   "metadata": {
    "deletable": false,
    "editable": false
   },
   "source": [
    "Is there any association between child mortality and fertility? Why? Is it causal?"
   ]
  },
  {
   "cell_type": "markdown",
   "id": "5346eeea",
   "metadata": {
    "deletable": false,
    "editable": false
   },
   "source": [
    "<hr style=\"margin:0; border: 1px solid #FFBE0A;\"/><font color='#FFBE0A'>Written Answer:</font>"
   ]
  },
  {
   "cell_type": "markdown",
   "id": "a6417bf6",
   "metadata": {
    "deletable": false
   },
   "source": [
    "_Type your answer here, replacing this text._\n"
   ]
  },
  {
   "cell_type": "markdown",
   "id": "dd98e46a",
   "metadata": {
    "deletable": false,
    "editable": false
   },
   "source": [
    "<hr style=\"margin:0; border: 1px solid #FFBE0A;\"/>"
   ]
  },
  {
   "cell_type": "markdown",
   "id": "3c6f9530",
   "metadata": {
    "deletable": false,
    "editable": false
   },
   "source": [
    "<!-- END QUESTION -->\n",
    "\n",
    "<!-- BEGIN QUESTION -->\n",
    "\n",
    "#### Part 2.11 (3 pts)\n"
   ]
  },
  {
   "cell_type": "markdown",
   "id": "21edeb86",
   "metadata": {
    "deletable": false,
    "editable": false
   },
   "source": [
    "Is there any relationship between the largest countries by population and the child mortality rates?  Justify your answer in one sentence using the scatter plot above."
   ]
  },
  {
   "cell_type": "markdown",
   "id": "88d4a974",
   "metadata": {
    "deletable": false,
    "editable": false
   },
   "source": [
    "<hr style=\"margin:0; border: 1px solid #FFBE0A;\"/><font color='#FFBE0A'>Written Answer:</font>"
   ]
  },
  {
   "cell_type": "markdown",
   "id": "04ef67fe",
   "metadata": {
    "deletable": false
   },
   "source": [
    "_Type your answer here, replacing this text._\n"
   ]
  },
  {
   "cell_type": "markdown",
   "id": "358db93a",
   "metadata": {
    "deletable": false,
    "editable": false
   },
   "source": [
    "<hr style=\"margin:0; border: 1px solid #FFBE0A;\"/>"
   ]
  },
  {
   "cell_type": "markdown",
   "id": "3e4e4704",
   "metadata": {
    "deletable": false,
    "editable": false
   },
   "source": [
    "<!-- END QUESTION -->\n",
    "\n",
    "### Visualizing Changes Over Time"
   ]
  },
  {
   "cell_type": "markdown",
   "id": "fd16fc1b",
   "metadata": {
    "deletable": false,
    "editable": false
   },
   "source": [
    "The result of the cell below is interactive. Drag the slider to the right to see how countries have changed over time. You'll find that the great divide between so-called \"Western\" and \"developing\" countries that existed in the 1960's has nearly disappeared. This shift in fertility rates is the reason that the global population is expected to grow more slowly in the 21st century than it did in the 19th and 20th centuries."
   ]
  },
  {
   "cell_type": "code",
   "execution_count": null,
   "id": "c8259fd2",
   "metadata": {
    "deletable": false,
    "editable": false,
    "execution": {
     "iopub.execute_input": "2024-10-01T22:55:49.695757Z",
     "iopub.status.busy": "2024-10-01T22:55:49.695572Z",
     "iopub.status.idle": "2024-10-01T22:55:50.371792Z",
     "shell.execute_reply": "2024-10-01T22:55:50.371360Z"
    },
    "tags": []
   },
   "outputs": [],
   "source": [
    "interact(fertility_vs_child_mortality, year=Slider(1960, 2020))"
   ]
  },
  {
   "cell_type": "markdown",
   "id": "faa059a9",
   "metadata": {
    "deletable": false,
    "editable": false
   },
   "source": [
    "Now is a great time to take a break and watch the same data presented by [Hans Rosling in a 2010 TEDx talk](https://www.gapminder.org/videos/reducing-child-mortality-a-moral-and-environmental-imperative) with smoother animation and witty commentary."
   ]
  },
  {
   "cell_type": "markdown",
   "id": "ab8296fb",
   "metadata": {
    "deletable": false,
    "editable": false
   },
   "source": [
    "<hr style=\"margin-bottom: 0px; padding:0; border: 2px solid #500082;\"/>\n"
   ]
  },
  {
   "cell_type": "markdown",
   "id": "78c2fe82",
   "metadata": {
    "deletable": false,
    "editable": false
   },
   "source": [
    "## 3. Global Poverty (35 pts)\n",
    "\n"
   ]
  },
  {
   "cell_type": "markdown",
   "id": "3b7ea147",
   "metadata": {
    "deletable": false,
    "editable": false
   },
   "source": [
    "In 1800, 85% of the world's 1 billion people lived in [extreme poverty](https://en.wikipedia.org/wiki/Extreme_poverty), defined by the United Nations as \"a condition characterized by severe deprivation of basic human needs, including food, safe drinking water, sanitation facilities, health, shelter, education and information.\" At the time when the data in this project were gathered, a common definition of extreme poverty was a person living on less than \\$1.25 a day.\n",
    "\n",
    "In 2018, the proportion of people living in extreme poverty was estimated to be [about 9\\%](https://unstats.un.org/sdgs/report/2019/goal-01/). Although the world rate of extreme poverty has declined consistently for hundreds of years, the number of people living in extreme poverty is still over 600 million. The United Nations adopted an [ambitious goal](http://www.un.org/sustainabledevelopment/poverty/): \"By 2030, eradicate extreme poverty for all people everywhere.\" In this part of the project we will examine aspects of global poverty that might affect whether the goal is achievable."
   ]
  },
  {
   "cell_type": "markdown",
   "id": "50a2afa6",
   "metadata": {
    "deletable": false,
    "editable": false
   },
   "source": [
    "First, load the population and poverty rate by country and year and the country descriptions. While the `population` table has values for every recent year for many countries, the `poverty` table only includes certain years for each country in which a measurement of the rate of extreme poverty was available."
   ]
  },
  {
   "cell_type": "code",
   "execution_count": null,
   "id": "94435d1c",
   "metadata": {
    "deletable": false,
    "editable": false,
    "execution": {
     "iopub.execute_input": "2024-10-01T22:57:19.698501Z",
     "iopub.status.busy": "2024-10-01T22:57:19.698252Z",
     "iopub.status.idle": "2024-10-01T22:57:19.808621Z",
     "shell.execute_reply": "2024-10-01T22:57:19.808057Z"
    },
    "tags": []
   },
   "outputs": [],
   "source": [
    "population = Table.read_table('population.csv')\n",
    "countries = Table.read_table('countries.csv')\n",
    "poverty = Table.read_table('poverty.csv')\n",
    "poverty.show(3)"
   ]
  },
  {
   "cell_type": "markdown",
   "id": "876f7452",
   "metadata": {
    "deletable": false,
    "editable": false
   },
   "source": [
    "#### Part 3.1 (5 pts)\n"
   ]
  },
  {
   "cell_type": "markdown",
   "id": "df077ceb",
   "metadata": {
    "deletable": false,
    "editable": false
   },
   "source": [
    " Assign `latest_poverty` to a three-column table with one row for each country that appears in the `poverty` table. \n",
    " - The first column should contain the 3-letter code for the country. \n",
    " - The second column should contain the most recent year for which an extreme poverty rate is available for the country. \n",
    " - The third column should contain the poverty percent in that year. \n",
    " \n",
    "**Do not change the last line, so that the labels of your table are set correctly.**\n",
    "\n",
    "*Hint*: It will be useful to keep in mind how ```group``` works: it searches the table from top to bottom, collecting values in the order in which they appear.  It then applies the aggregation function to an array containing those values in the order in which they were found.  Thus, the first item in the array passed to the aggregation function corresponds to the first row found that is part of the group being processed.  The `first` function may be helpful, provided you sort the table appropriately before grouping..."
   ]
  },
  {
   "cell_type": "code",
   "execution_count": null,
   "id": "2cbf07f6",
   "metadata": {
    "deletable": false,
    "execution": {
     "iopub.execute_input": "2024-10-01T22:57:19.811384Z",
     "iopub.status.busy": "2024-10-01T22:57:19.811171Z",
     "iopub.status.idle": "2024-10-01T22:57:19.828596Z",
     "shell.execute_reply": "2024-10-01T22:57:19.828061Z"
    },
    "tags": []
   },
   "outputs": [],
   "source": [
    "def first(values):\n",
    "    return values.item(0)\n",
    "\n",
    "latest_poverty = ...\n",
    "\n",
    "# You should *not* change this line.\n",
    "latest_poverty = latest_poverty.relabeled(1, 'Time').relabeled(2, 'Poverty percent') \n",
    "latest_poverty"
   ]
  },
  {
   "cell_type": "code",
   "execution_count": null,
   "id": "256ba6be",
   "metadata": {
    "deletable": false,
    "editable": false
   },
   "outputs": [],
   "source": [
    "grader.check(\"p3.1\")"
   ]
  },
  {
   "cell_type": "markdown",
   "id": "8cc3568e",
   "metadata": {
    "deletable": false,
    "editable": false
   },
   "source": [
    "#### Part 3.2 (5 pts)\n"
   ]
  },
  {
   "cell_type": "markdown",
   "id": "09894c97",
   "metadata": {
    "deletable": false,
    "editable": false
   },
   "source": [
    " Using both `latest_poverty` and `population`, create a four-column table called `recent_poverty_total` with one row for each country in `latest_poverty`. The four columns should have the following labels and contents:\n",
    "1. `Geo` contains the 3-letter country code,\n",
    "1. `Poverty percent` contains the poverty percentage for the most recent year we have available,\n",
    "1. `Population` contains the population of the country in 2010,\n",
    "1. `Poverty total` contains the number of people in poverty **rounded to the nearest integer**, based on the 2010 population and most recent poverty rate.\n"
   ]
  },
  {
   "cell_type": "code",
   "execution_count": null,
   "id": "bf571295",
   "metadata": {
    "deletable": false,
    "execution": {
     "iopub.execute_input": "2024-10-01T22:57:19.852557Z",
     "iopub.status.busy": "2024-10-01T22:57:19.852364Z",
     "iopub.status.idle": "2024-10-01T22:57:20.088482Z",
     "shell.execute_reply": "2024-10-01T22:57:20.087967Z"
    },
    "tags": []
   },
   "outputs": [],
   "source": [
    "...\n",
    "recent_poverty_total = ...\n",
    "recent_poverty_total"
   ]
  },
  {
   "cell_type": "code",
   "execution_count": null,
   "id": "79f2c38f",
   "metadata": {
    "deletable": false,
    "editable": false
   },
   "outputs": [],
   "source": [
    "grader.check(\"p3.2\")"
   ]
  },
  {
   "cell_type": "markdown",
   "id": "3603d3fb",
   "metadata": {
    "deletable": false,
    "editable": false
   },
   "source": [
    "#### Part 3.3 (5 pts)\n"
   ]
  },
  {
   "cell_type": "markdown",
   "id": "21dbcdd6",
   "metadata": {
    "deletable": false,
    "editable": false
   },
   "source": [
    " Assign the variable `poverty_percent` to the known percentage of the world’s 2010 population that were living in extreme poverty.\n",
    " \n",
    " \n",
    "Assume that the `poverty_total` numbers in the `recent_poverty_total` table describe **all** people in 2010 living in extreme poverty. You should get a number that is above the 2018 global estimate of 9%, since many country-specific poverty rates are older than 2018.\n",
    "\n",
    "*Hints*: \n",
    "* Break this up into multiple lines to make it easier to debug.\n",
    "* The sum of the `Population` column in the `recent_poverty_total` table is not the world population, because only a subset of the world's countries are included in this `recent_poverty_total` table (only some countries have known poverty rates). Use the `population` table to compute the world's 2010 total population.\n",
    "* We are computing a percentage (value between 0 and 100), not a proportion (value between 0 and 1).\n"
   ]
  },
  {
   "cell_type": "code",
   "execution_count": null,
   "id": "77392706",
   "metadata": {
    "deletable": false,
    "execution": {
     "iopub.execute_input": "2024-10-01T22:57:20.113058Z",
     "iopub.status.busy": "2024-10-01T22:57:20.112851Z",
     "iopub.status.idle": "2024-10-01T22:57:20.348527Z",
     "shell.execute_reply": "2024-10-01T22:57:20.348042Z"
    },
    "tags": []
   },
   "outputs": [],
   "source": [
    "...\n",
    "poverty_percent = ...\n",
    "poverty_percent"
   ]
  },
  {
   "cell_type": "code",
   "execution_count": null,
   "id": "7157df95",
   "metadata": {
    "deletable": false,
    "editable": false
   },
   "outputs": [],
   "source": [
    "grader.check(\"p3.3\")"
   ]
  },
  {
   "cell_type": "markdown",
   "id": "286b916b",
   "metadata": {
    "deletable": false,
    "editable": false
   },
   "source": [
    "#### Part 3.4 (5 pts)\n"
   ]
  },
  {
   "cell_type": "markdown",
   "id": "39292daf",
   "metadata": {
    "deletable": false,
    "editable": false
   },
   "source": [
    "The `countries` table includes not only the name and region of countries, but also their positions on the globe.  \n",
    "\n",
    "*Note*: We're using the World4 region desigation in the following parts.  This is a coarser designation that the World6 designation used above.  It places countries in one of four regions: `americas`, `africa`, `europe`, or `asia`."
   ]
  },
  {
   "cell_type": "code",
   "execution_count": null,
   "id": "b28a2302",
   "metadata": {
    "deletable": false,
    "editable": false,
    "execution": {
     "iopub.execute_input": "2024-10-01T22:57:20.361010Z",
     "iopub.status.busy": "2024-10-01T22:57:20.360839Z",
     "iopub.status.idle": "2024-10-01T22:57:20.364877Z",
     "shell.execute_reply": "2024-10-01T22:57:20.364452Z"
    },
    "tags": []
   },
   "outputs": [],
   "source": [
    "countries.select('Country', 'Name', 'World4 region', 'Latitude', 'Longitude')"
   ]
  },
  {
   "cell_type": "markdown",
   "id": "59004a52",
   "metadata": {
    "deletable": false,
    "editable": false
   },
   "source": [
    " Using both `countries` and `recent_poverty_total`, create a five-column table called `poverty_map` with one row for every country in `recent_poverty_total`.  The five columns should have the following labels and contents:\n",
    "1. `Latitude` contains the country's latitude,\n",
    "1. `Longitude` contains the country's longitude,\n",
    "1. `Name` contains the country's name,\n",
    "1. `Region` contains the country's region from the `World4 region` column of `countries`,\n",
    "1. `Poverty total` contains the country's poverty total.\n",
    "\n",
    "*Hint:*  Be sure to put the columns in the order specified.  You may find it useful to remember that that a call to `table.select(...)` puts columns in the order that they are specified as parameters in the call to select."
   ]
  },
  {
   "cell_type": "code",
   "execution_count": null,
   "id": "deae1768",
   "metadata": {
    "deletable": false,
    "execution": {
     "iopub.execute_input": "2024-10-01T22:57:20.367232Z",
     "iopub.status.busy": "2024-10-01T22:57:20.367062Z",
     "iopub.status.idle": "2024-10-01T22:57:20.376849Z",
     "shell.execute_reply": "2024-10-01T22:57:20.376378Z"
    },
    "tags": []
   },
   "outputs": [],
   "source": [
    "...\n",
    "poverty_map = ...\n",
    "poverty_map"
   ]
  },
  {
   "cell_type": "code",
   "execution_count": null,
   "id": "c73d874f",
   "metadata": {
    "deletable": false,
    "editable": false
   },
   "outputs": [],
   "source": [
    "grader.check(\"p3.4\")"
   ]
  },
  {
   "cell_type": "markdown",
   "id": "9bb9b4f5",
   "metadata": {
    "deletable": false,
    "editable": false
   },
   "source": [
    "Run the cell below to draw a map of the world in which the areas of circles represent the number of people living in extreme poverty. Double-click on the map to zoom in."
   ]
  },
  {
   "cell_type": "code",
   "execution_count": null,
   "id": "c62c923a",
   "metadata": {
    "deletable": false,
    "editable": false,
    "execution": {
     "iopub.execute_input": "2024-10-01T22:57:20.399819Z",
     "iopub.status.busy": "2024-10-01T22:57:20.399639Z",
     "iopub.status.idle": "2024-10-01T22:57:20.531404Z",
     "shell.execute_reply": "2024-10-01T22:57:20.530948Z"
    },
    "tags": []
   },
   "outputs": [],
   "source": [
    "# It may take a few seconds to generate this map.\n",
    "colors = {'africa': 'blue', 'europe': 'black', 'asia': 'red', 'americas': 'green'}\n",
    "scaled = poverty_map.with_columns(\n",
    "    'labels', poverty_map.column('Name'),\n",
    "    'colors', poverty_map.apply(colors.get, 'Region'),\n",
    "    'areas', 1e-4 * poverty_map.column('Poverty total')\n",
    ").drop('Name', 'region', 'Poverty total')\n",
    "\n",
    "Circle.map_table(scaled)"
   ]
  },
  {
   "cell_type": "markdown",
   "id": "24d2f3f2",
   "metadata": {
    "deletable": false,
    "editable": false
   },
   "source": [
    "Although people lived in extreme poverty throughout the world in 2010 (with more than 5 million in the United States), the largest numbers were in Asia and Africa."
   ]
  },
  {
   "cell_type": "markdown",
   "id": "a8299de1",
   "metadata": {
    "deletable": false,
    "editable": false
   },
   "source": [
    "#### Part 3.5 (5 pts)\n"
   ]
  },
  {
   "cell_type": "markdown",
   "id": "423b194d",
   "metadata": {
    "deletable": false,
    "editable": false
   },
   "source": [
    " Assign `largest` to a two-column table with columns `Name` (not the 3-letter code) and `Poverty total` of the 10 countries with the largest number of people living in extreme poverty.\n",
    "\n",
    "*Hint*: How can we use `take` and `np.arange` in conjunction with each other?"
   ]
  },
  {
   "cell_type": "code",
   "execution_count": null,
   "id": "1b145022",
   "metadata": {
    "deletable": false,
    "execution": {
     "iopub.execute_input": "2024-10-01T22:57:20.535349Z",
     "iopub.status.busy": "2024-10-01T22:57:20.535085Z",
     "iopub.status.idle": "2024-10-01T22:57:20.539706Z",
     "shell.execute_reply": "2024-10-01T22:57:20.539275Z"
    },
    "tags": []
   },
   "outputs": [],
   "source": [
    "...\n",
    "largest = ...\n",
    "\n",
    "# Do not change the following line. It makes the table view more readable. \n",
    "largest.set_format('Poverty total', NumberFormatter)"
   ]
  },
  {
   "cell_type": "code",
   "execution_count": null,
   "id": "2bcd7ad3",
   "metadata": {
    "deletable": false,
    "editable": false
   },
   "outputs": [],
   "source": [
    "grader.check(\"p3.5\")"
   ]
  },
  {
   "cell_type": "markdown",
   "id": "6755d64c",
   "metadata": {
    "deletable": false,
    "editable": false
   },
   "source": [
    "<!-- BEGIN QUESTION -->\n",
    "\n",
    "#### Part 3.6 (5 pts)\n"
   ]
  },
  {
   "cell_type": "markdown",
   "id": "a8b1a386",
   "metadata": {
    "deletable": false,
    "editable": false
   },
   "source": [
    "It is important to study the absolute number of people living in poverty, not just the percent. The absolute number is an important factor in determining the amount of resources needed to support people living in poverty. "
   ]
  },
  {
   "cell_type": "markdown",
   "id": "4e9393c8",
   "metadata": {
    "deletable": false,
    "editable": false
   },
   "source": [
    "To do that, we'll now write a function called `poverty_timeline` that takes **the name of a country** (not the geo code) as its argument. The function should draw a line graph of the number of people living in poverty in that country with time on the horizontal axis. The line graph should have a point for each row in the `poverty` table for that country. \n",
    "\n",
    "*Hints:*\n",
    "- To compute the population living in poverty from a poverty percentage, multiply by the population of the country **in that year**.\n",
    "- To make your plot, you will first need to make a table.\n",
    "- Feel free to use the `country_name_to_geo` function we provided for you. \n",
    "- This question is more involved than other parts. Feel free to create cells and experiment. You can create cells by going to the toolbar and hitting the `+` button.\n"
   ]
  },
  {
   "cell_type": "code",
   "execution_count": null,
   "id": "b9658814",
   "metadata": {
    "deletable": false,
    "execution": {
     "iopub.execute_input": "2024-10-01T22:57:20.561500Z",
     "iopub.status.busy": "2024-10-01T22:57:20.561333Z",
     "iopub.status.idle": "2024-10-01T22:57:20.565607Z",
     "shell.execute_reply": "2024-10-01T22:57:20.565220Z"
    },
    "tags": []
   },
   "outputs": [],
   "source": [
    "def country_name_to_geo(country_name):\n",
    "    \"\"\"Compute the geo code for the given country name.\"\"\"\n",
    "    country_col = countries.where('Name', are.equal_to(country_name)).column('Country')\n",
    "    assert len(country_col) > 0, 'Country ' + country_name + ' could not be found.'\n",
    "    return country_col.item(0)\n",
    "\n",
    "def poverty_timeline(country_name):\n",
    "    '''Draw a timeline of people living in extreme poverty in a country.'''\n",
    "    geo = country_name_to_geo(country_name)\n",
    "    # This solution will take multiple lines of code. Use as many as you need.\n",
    "    ...\n",
    "    plot = ...\n",
    "    # Don't change anything below this line. \n",
    "    plot.set_title(country_name)\n",
    "    plot.set_ylim(0)"
   ]
  },
  {
   "cell_type": "code",
   "execution_count": null,
   "id": "d88062b6",
   "metadata": {
    "deletable": false,
    "execution": {
     "iopub.execute_input": "2024-10-01T22:57:20.567600Z",
     "iopub.status.busy": "2024-10-01T22:57:20.567443Z",
     "iopub.status.idle": "2024-10-01T22:57:20.883687Z",
     "shell.execute_reply": "2024-10-01T22:57:20.883229Z"
    },
    "tags": []
   },
   "outputs": [],
   "source": [
    "poverty_timeline('India')  # sample call"
   ]
  },
  {
   "cell_type": "markdown",
   "id": "45a1afb6",
   "metadata": {
    "deletable": false,
    "editable": false
   },
   "source": [
    "<!-- END QUESTION -->\n",
    "\n",
    "Finally, draw the line plots below to see how the world is changing. Pay attention to the axes! You can check your work by comparing your graphs to the ones on [gapminder.org](https://www.gapminder.org/tools/#$state$entities$show$country$/$in@=ind;;;;&marker$axis_y$which=number_of_people_in_poverty&scaleType=linear&spaceRef:null;;;&chart-type=linechart).\n",
    "\n"
   ]
  },
  {
   "cell_type": "code",
   "execution_count": null,
   "id": "b6d1c1b3",
   "metadata": {
    "deletable": false,
    "editable": false,
    "execution": {
     "iopub.execute_input": "2024-10-01T22:57:20.886669Z",
     "iopub.status.busy": "2024-10-01T22:57:20.886447Z",
     "iopub.status.idle": "2024-10-01T22:57:23.230246Z",
     "shell.execute_reply": "2024-10-01T22:57:23.229755Z"
    },
    "tags": []
   },
   "outputs": [],
   "source": [
    "with Figure(2,3):\n",
    "    poverty_timeline('India')\n",
    "    poverty_timeline('Nigeria')\n",
    "    poverty_timeline('China')\n",
    "    poverty_timeline('Colombia')\n",
    "    poverty_timeline('United States')\n",
    "    poverty_timeline('Norway')"
   ]
  },
  {
   "cell_type": "markdown",
   "id": "5d306ba8",
   "metadata": {
    "deletable": false,
    "editable": false
   },
   "source": [
    "<!-- BEGIN QUESTION -->\n",
    "\n",
    "#### Part 3.7 (5 pts)\n"
   ]
  },
  {
   "cell_type": "markdown",
   "id": "724639c7",
   "metadata": {
    "deletable": false,
    "editable": false
   },
   "source": [
    "In one or two sentences, relate the increases and decreases in these six plots to the overall trend in the percent of people living extreme poverty worldwide that was cited at the top of [Question 3](#3.-Global-Poverty)."
   ]
  },
  {
   "cell_type": "markdown",
   "id": "e24b0414",
   "metadata": {
    "deletable": false,
    "editable": false
   },
   "source": [
    "<hr style=\"margin:0; border: 1px solid #FFBE0A;\"/><font color='#FFBE0A'>Written Answer:</font>"
   ]
  },
  {
   "cell_type": "markdown",
   "id": "2e2cd78f",
   "metadata": {
    "deletable": false
   },
   "source": [
    "_Type your answer here, replacing this text._\n"
   ]
  },
  {
   "cell_type": "markdown",
   "id": "a964f77f",
   "metadata": {
    "deletable": false,
    "editable": false
   },
   "source": [
    "<hr style=\"margin:0; border: 1px solid #FFBE0A;\"/>"
   ]
  },
  {
   "cell_type": "markdown",
   "id": "dac93fc2",
   "metadata": {
    "deletable": false,
    "editable": false
   },
   "source": [
    "<!-- END QUESTION -->\n",
    "\n",
    "To learn more, watch [Hans Rosling in a 2015 film](https://www.gapminder.org/videos/dont-panic-end-poverty/) about the UN goal of eradicating extreme poverty from the world. "
   ]
  },
  {
   "cell_type": "markdown",
   "id": "1a8d789f",
   "metadata": {
    "deletable": false,
    "editable": false
   },
   "source": [
    "### Visualizing the Poverty Timeline in All Countries"
   ]
  },
  {
   "cell_type": "markdown",
   "id": "b4929f9e",
   "metadata": {
    "deletable": false,
    "editable": false
   },
   "source": [
    "Below, we've also added one last interactive visualization for `poverty_timeline` graphs for other countries if you're curious to explore the data more."
   ]
  },
  {
   "cell_type": "code",
   "execution_count": null,
   "id": "7d474646",
   "metadata": {
    "deletable": false,
    "editable": false,
    "execution": {
     "iopub.execute_input": "2024-10-01T22:57:23.234744Z",
     "iopub.status.busy": "2024-10-01T22:57:23.234442Z",
     "iopub.status.idle": "2024-10-01T22:57:23.467905Z",
     "shell.execute_reply": "2024-10-01T22:57:23.467423Z"
    },
    "tags": []
   },
   "outputs": [],
   "source": [
    "# Just run this cell\n",
    "\n",
    "all_countries = poverty_map.sort('Name').column('Name')\n",
    "interact(poverty_timeline, country_name=Choice(all_countries))"
   ]
  },
  {
   "cell_type": "markdown",
   "id": "98bc8ad3",
   "metadata": {
    "deletable": false,
    "editable": false,
    "tags": [
     "Raises-Exception",
     "raises-exception"
    ]
   },
   "source": [
    "# You're Done!\n",
    "Follow these steps to submit your work:\n",
    "* Run the tests and verify that they pass as you expect. \n",
    "* Choose **Save Notebook** from the **File** menu.\n",
    "* **Run the final cell** and click the link below to download the zip file. \n",
    "\n",
    "Once you have downloaded that file, go to [Gradescope](https://www.gradescope.com/) and submit the zip file to \n",
    "the the \"Project 1 Autograder\" assignment.\n",
    "\n",
    "Once you have submitted, your Gradescope assignment should show you passing all the tests you passed in your assignment notebook.\n"
   ]
  },
  {
   "cell_type": "markdown",
   "id": "431ae425",
   "metadata": {
    "deletable": false,
    "editable": false
   },
   "source": [
    "## Submission\n",
    "\n",
    "Make sure you have run all cells in your notebook in order before running the cell below, so that all images/graphs appear in the output. The cell below will generate a zip file for you to submit. **Please save before exporting!**"
   ]
  },
  {
   "cell_type": "code",
   "execution_count": null,
   "id": "dd493828",
   "metadata": {
    "deletable": false,
    "editable": false
   },
   "outputs": [],
   "source": [
    "# Save your notebook first, then run this cell to export your submission.\n",
    "grader.export(run_tests=True)"
   ]
  },
  {
   "cell_type": "markdown",
   "id": "bf41e4fa",
   "metadata": {},
   "source": [
    " "
   ]
  }
 ],
 "metadata": {
  "kernelspec": {
   "display_name": "Python 3 (ipykernel)",
   "language": "python",
   "name": "python3"
  },
  "language_info": {
   "codemirror_mode": {
    "name": "ipython",
    "version": 3
   },
   "file_extension": ".py",
   "mimetype": "text/x-python",
   "name": "python",
   "nbconvert_exporter": "python",
   "pygments_lexer": "ipython3",
   "version": "3.11.0"
  },
  "otter": {
   "OK_FORMAT": true,
   "tests": {
    "p1.1": {
     "has_hidden": true,
     "name": "p1.1",
     "points": 5,
     "suites": [
      {
       "cases": [
        {
         "code": ">>> check_str('b_pop.labels == (\\'Time\\', \\'Population\\')', locals())\n",
         "failure_message": "Check your column labels and spelling",
         "hidden": false,
         "locked": false,
         "submit_only": false,
         "success_message": "check(b_pop.labels == ('Time', 'Population'))"
        },
        {
         "code": ">>> check_str('b_pop.sort(\\'Time\\').column(\\'Time\\') == np.arange(1970, 2021)', locals())\n",
         "failure_message": "Times should range from 1970 through 2020, and you should only have data for bgd",
         "hidden": false,
         "locked": false,
         "submit_only": false,
         "success_message": "check(b_pop.sort('Time').column('Time') == np.arange(1970, 2021))"
        }
       ],
       "scored": true,
       "setup": "",
       "teardown": "",
       "type": "doctest"
      }
     ]
    },
    "p1.2": {
     "has_hidden": true,
     "name": "p1.2",
     "points": 5,
     "suites": [
      {
       "cases": [
        {
         "code": ">>> check_str('0.005 <= b_five_growth.sort(\\'Time\\').column(\\'Annual Growth\\').item(0) <= 0.05', locals())\n",
         "failure_message": "check(0.005 <= b_five_growth.sort('Time').column('Annual Growth').item(0) <= 0.05)",
         "hidden": false,
         "locked": false,
         "submit_only": false,
         "success_message": "check(0.005 <= b_five_growth.sort('Time').column('Annual Growth').item(0) <= 0.05)"
        },
        {
         "code": ">>> check_str('0.01 < max(b_five_growth.column(\\'Annual Growth\\')) < 0.03', locals())\n",
         "failure_message": "check(0.01 < max(b_five_growth.column('Annual Growth')) < 0.03)",
         "hidden": false,
         "locked": false,
         "submit_only": false,
         "success_message": "check(0.01 < max(b_five_growth.column('Annual Growth')) < 0.03)"
        }
       ],
       "scored": true,
       "setup": "",
       "teardown": "",
       "type": "doctest"
      }
     ]
    },
    "p1.5": {
     "has_hidden": true,
     "name": "p1.5",
     "points": 5,
     "suites": [
      {
       "cases": [
        {
         "code": ">>> check_str('fertility_over_time(\\'usa\\', 2010).labels == (\\'Year\\', \\'Children per woman\\')', locals())\n",
         "failure_message": "Check your column labels and spelling",
         "hidden": false,
         "locked": false,
         "submit_only": false,
         "success_message": "check(fertility_over_time('usa', 2010).labels == ('Year', 'Children per woman'))"
        },
        {
         "code": ">>> check_str('fertility_over_time(\\'usa\\', 2010).column(\\'Year\\') == np.arange(2010, 2021)', locals())\n",
         "failure_message": "Check that you use the start year to determine the data range.",
         "hidden": false,
         "locked": false,
         "submit_only": false,
         "success_message": "check(fertility_over_time('usa', 2010).column('Year') == np.arange(2010, 2021))"
        },
        {
         "code": ">>> check_str('fertility_over_time(\\'usa\\', 2005).column(\\'Year\\') == np.arange(2005, 2021)', locals())\n",
         "failure_message": "Check that you use the start year to determine the data range.",
         "hidden": false,
         "locked": false,
         "submit_only": false,
         "success_message": "check(fertility_over_time('usa', 2005).column('Year') == np.arange(2005, 2021))"
        }
       ],
       "scored": true,
       "setup": "",
       "teardown": "",
       "type": "doctest"
      }
     ]
    },
    "p1.7": {
     "has_hidden": true,
     "name": "p1.7",
     "points": 5,
     "suites": [
      {
       "cases": [
        {
         "code": ">>> check_str('\\'Child deaths per 1000 born\\' in post_1969_fertility_and_child_mortality.labels', locals())\n",
         "failure_message": "Make sure your column labels are correct",
         "hidden": false,
         "locked": false,
         "submit_only": false,
         "success_message": "check('Child deaths per 1000 born' in post_1969_fertility_and_child_mortality.labels)"
        },
        {
         "code": ">>> check_str('\\'Children per woman\\' in post_1969_fertility_and_child_mortality.labels', locals())\n",
         "failure_message": "Make sure your column labels are correct",
         "hidden": false,
         "locked": false,
         "submit_only": false,
         "success_message": "check('Children per woman' in post_1969_fertility_and_child_mortality.labels)"
        },
        {
         "code": ">>> check_str('post_1969_fertility_and_child_mortality.num_rows == 51', locals())\n",
         "failure_message": "Make sure you are using the date range 1970-2020 and only looking at bgd",
         "hidden": false,
         "locked": false,
         "submit_only": false,
         "success_message": "check(post_1969_fertility_and_child_mortality.num_rows == 51)"
        }
       ],
       "scored": true,
       "setup": "",
       "teardown": "",
       "type": "doctest"
      }
     ]
    },
    "p2.1": {
     "has_hidden": true,
     "name": "p2.1",
     "points": 4,
     "suites": [
      {
       "cases": [
        {
         "code": ">>> check_str('0 <= percent_2010 <= 100', locals())\n",
         "failure_message": "Your answer should be a number between 0 and 100.",
         "hidden": false,
         "locked": false,
         "submit_only": false,
         "success_message": "check(0 <= percent_2010 <= 100)"
        },
        {
         "code": ">>> check_str('0 <= percent_1960 <= 100', locals())\n",
         "failure_message": "Your answer should be a number between 0 and 100.",
         "hidden": false,
         "locked": false,
         "submit_only": false,
         "success_message": "check(0 <= percent_1960 <= 100)"
        }
       ],
       "scored": true,
       "setup": "",
       "teardown": "",
       "type": "doctest"
      }
     ]
    },
    "p2.4": {
     "has_hidden": false,
     "name": "p2.4",
     "points": 5,
     "suites": [
      {
       "cases": [
        {
         "code": ">>> check_str('stats_for_year(1990).labels == (\\'Geo\\', \\'Population\\', \\'Children per woman\\', \\'Child deaths per 1000 born\\')', locals())\n",
         "failure_message": "check(stats_for_year(1990).labels == ('Geo', 'Population', 'Children per woman', 'Child deaths per 1000 born'))",
         "hidden": false,
         "locked": false,
         "submit_only": false,
         "success_message": "check(stats_for_year(1990).labels == ('Geo', 'Population', 'Children per woman', 'Child deaths per 1000 born'))"
        },
        {
         "code": ">>> check_str('stats_for_year(1990).num_rows == 50', locals())\n",
         "failure_message": "check(stats_for_year(1990).num_rows == 50)",
         "hidden": false,
         "locked": false,
         "submit_only": false,
         "success_message": "check(stats_for_year(1990).num_rows == 50)"
        },
        {
         "code": ">>> check_str('stats_for_year(1960).sort(\\'Geo\\').column(\\'Geo\\').item(49) == \\'zaf\\'', locals())\n",
         "failure_message": "check(stats_for_year(1960).sort('Geo').column('Geo').item(49) == 'zaf')",
         "hidden": false,
         "locked": false,
         "submit_only": false,
         "success_message": "check(stats_for_year(1960).sort('Geo').column('Geo').item(49) == 'zaf')"
        },
        {
         "code": ">>> check_str('stats_for_year(2010).sort(\\'Geo\\').take(np.arange(3, 50, 5)).column(\\'Geo\\') == [\\'bgd\\', \\'col\\', \\'eth\\', \\'ind\\', \\'ken\\', \\'moz\\', \\'per\\', \\'sdn\\', \\'ukr\\', \\'yem\\']', locals())\n",
         "failure_message": "check(stats_for_year(2010).sort('Geo').take(np.arange(3, 50, 5)).column('Geo') == ['bgd', 'col', 'eth', 'ind', 'ken', 'moz', 'per', 'sdn', 'ukr', 'yem'])",
         "hidden": false,
         "locked": false,
         "submit_only": false,
         "success_message": "check(stats_for_year(2010).sort('Geo').take(np.arange(3, 50, 5)).column('Geo') == ['bgd', 'col', 'eth', 'ind', 'ken', 'moz', 'per', 'sdn', 'ukr', 'yem'])"
        }
       ],
       "scored": true,
       "setup": "",
       "teardown": "",
       "type": "doctest"
      }
     ]
    },
    "p2.5": {
     "has_hidden": false,
     "name": "p2.5",
     "points": 5,
     "suites": [
      {
       "cases": [
        {
         "code": ">>> check_str('pop_for_year(1972) == 3355562066', locals())\n",
         "failure_message": "check(pop_for_year(1972) == 3355562066)",
         "hidden": false,
         "locked": false,
         "submit_only": false,
         "success_message": "check(pop_for_year(1972) == 3355562066)"
        },
        {
         "code": ">>> check_str('pop_for_year(2020) == 6765161289', locals())\n",
         "failure_message": "check(pop_for_year(2020) == 6765161289)",
         "hidden": false,
         "locked": false,
         "submit_only": false,
         "success_message": "check(pop_for_year(2020) == 6765161289)"
        },
        {
         "code": ">>> check_str('pop_for_year(1989) == 4576679948', locals())\n",
         "failure_message": "check(pop_for_year(1989) == 4576679948)",
         "hidden": false,
         "locked": false,
         "submit_only": false,
         "success_message": "check(pop_for_year(1989) == 4576679948)"
        },
        {
         "code": ">>> check_str('pop_for_year(2002) == 5514129422', locals())\n",
         "failure_message": "check(pop_for_year(2002) == 5514129422)",
         "hidden": false,
         "locked": false,
         "submit_only": false,
         "success_message": "check(pop_for_year(2002) == 5514129422)"
        }
       ],
       "scored": true,
       "setup": "",
       "teardown": "",
       "type": "doctest"
      }
     ]
    },
    "p2.6": {
     "has_hidden": true,
     "name": "p2.6",
     "points": 5,
     "suites": [
      {
       "cases": [
        {
         "code": ">>> check_str('pop_by_decade.labels == (\\'Decade\\', \\'Population\\')', locals())\n",
         "failure_message": "Check column labels",
         "hidden": false,
         "locked": false,
         "submit_only": false,
         "success_message": "check(pop_by_decade.labels == ('Decade', 'Population'))"
        },
        {
         "code": ">>> check_str('pop_by_decade.column(0).item(0) == 1960', locals())\n",
         "failure_message": "First row should be for 1960",
         "hidden": false,
         "locked": false,
         "submit_only": false,
         "success_message": "check(pop_by_decade.column(0).item(0) == 1960)"
        }
       ],
       "scored": true,
       "setup": "",
       "teardown": "",
       "type": "doctest"
      }
     ]
    },
    "p2.7": {
     "has_hidden": true,
     "name": "p2.7",
     "points": 5,
     "suites": [
      {
       "cases": [
        {
         "code": ">>> check_str('region_counts.labels == (\\'region\\', \\'count\\')', locals())\n",
         "failure_message": "Check your column labels and spelling",
         "hidden": false,
         "locked": false,
         "submit_only": false,
         "success_message": "check(region_counts.labels == ('region', 'count'))"
        },
        {
         "code": ">>> check_str('sum(region_counts.column(\\'count\\')) == 50', locals())\n",
         "failure_message": "Counts must sum to 50",
         "hidden": false,
         "locked": false,
         "submit_only": false,
         "success_message": "check(sum(region_counts.column('count')) == 50)"
        }
       ],
       "scored": true,
       "setup": "",
       "teardown": "",
       "type": "doctest"
      }
     ]
    },
    "p3.1": {
     "has_hidden": true,
     "name": "p3.1",
     "points": 5,
     "suites": [
      {
       "cases": [
        {
         "code": ">>> check_str('latest_poverty.labels == (\\'Geo\\', \\'Time\\',\\'Poverty percent\\')', locals())\n",
         "failure_message": "check(latest_poverty.labels == ('Geo', 'Time','Poverty percent'))",
         "hidden": false,
         "locked": false,
         "submit_only": false,
         "success_message": "check(latest_poverty.labels == ('Geo', 'Time','Poverty percent'))"
        },
        {
         "code": ">>> check_str('latest_poverty.num_rows == 145', locals())\n",
         "failure_message": "The result should have one row per country.",
         "hidden": false,
         "locked": false,
         "submit_only": false,
         "success_message": "check(latest_poverty.num_rows == 145)"
        }
       ],
       "scored": true,
       "setup": "",
       "teardown": "",
       "type": "doctest"
      }
     ]
    },
    "p3.2": {
     "has_hidden": true,
     "name": "p3.2",
     "points": 5,
     "suites": [
      {
       "cases": [
        {
         "code": ">>> check_str('recent_poverty_total.labels==(\\'Geo\\',\\'Poverty percent\\',\\'Population\\',\\'Poverty total\\')', locals())\n",
         "failure_message": "Check your column labels and spelling",
         "hidden": false,
         "locked": false,
         "submit_only": false,
         "success_message": "check(recent_poverty_total.labels==('Geo','Poverty percent','Population','Poverty total'))"
        },
        {
         "code": ">>> check_str('recent_poverty_total.where(\\'Geo\\',are.equal_to(\\'aus\\')).column(\\'Population\\').item(0) == 22154687', locals())\n",
         "failure_message": "Careful, the population of Australia in 2010 was 22,154,687",
         "hidden": false,
         "locked": false,
         "submit_only": false,
         "success_message": "check(recent_poverty_total.where('Geo',are.equal_to('aus')).column('Population').item(0) == 22154687)"
        },
        {
         "code": ">>> check_str('recent_poverty_total.where(\\'Geo\\', \\'aus\\').column(\\'Poverty total\\').item(0) == approx(301304)', locals())\n",
         "failure_message": "The number of people estimated to be living in extreme poverty in Australia should be 301,304. That's 22,154,687 * 0.0136 rounded to the nearest integer.",
         "hidden": false,
         "locked": false,
         "submit_only": false,
         "success_message": "check(recent_poverty_total.where('Geo', 'aus').column('Poverty total').item(0) == approx(301304))"
        }
       ],
       "scored": true,
       "setup": "",
       "teardown": "",
       "type": "doctest"
      }
     ]
    },
    "p3.3": {
     "has_hidden": true,
     "name": "p3.3",
     "points": 5,
     "suites": [
      {
       "cases": [
        {
         "code": ">>> check_str('10 <= poverty_percent <= 20', locals())\n",
         "failure_message": "check(10 <= poverty_percent <= 20)",
         "hidden": false,
         "locked": false,
         "submit_only": false,
         "success_message": "check(10 <= poverty_percent <= 20)"
        }
       ],
       "scored": true,
       "setup": "",
       "teardown": "",
       "type": "doctest"
      }
     ]
    },
    "p3.4": {
     "has_hidden": true,
     "name": "p3.4",
     "points": 5,
     "suites": [
      {
       "cases": [
        {
         "code": ">>> check_str('poverty_map.labels == (\\'Latitude\\',\\'Longitude\\',\\'Name\\',\\'Region\\',\\'Poverty total\\')', locals())\n",
         "failure_message": "Check your column labels and spelling",
         "hidden": false,
         "locked": false,
         "submit_only": false,
         "success_message": "check(poverty_map.labels == ('Latitude','Longitude','Name','Region','Poverty total'))"
        },
        {
         "code": ">>> check_str('np.sort(np.unique(poverty_map.column(\\'Region\\'))) == [\\'africa\\', \\'americas\\', \\'asia\\', \\'europe\\']', locals())\n",
         "failure_message": "Something is wrong with your region column.",
         "hidden": false,
         "locked": false,
         "submit_only": false,
         "success_message": "check(np.sort(np.unique(poverty_map.column('Region'))) == ['africa', 'americas', 'asia', 'europe'])"
        }
       ],
       "scored": true,
       "setup": "",
       "teardown": "",
       "type": "doctest"
      }
     ]
    },
    "p3.5": {
     "has_hidden": true,
     "name": "p3.5",
     "points": 5,
     "suites": [
      {
       "cases": [
        {
         "code": ">>> check_str('largest.labels == (\\'Name\\', \\'Poverty total\\')', locals())\n",
         "failure_message": "Check your column labels and spelling",
         "hidden": false,
         "locked": false,
         "submit_only": false,
         "success_message": "check(largest.labels == ('Name', 'Poverty total'))"
        },
        {
         "code": ">>> # FAILURE India is the country with the largest number of people living in extreme poverty.\n>>> check_str('largest.column(\\'Name\\').item(0) == \\'India\\'', locals())\n",
         "failure_message": "check(largest.column('Name').item(0) == 'India')",
         "hidden": false,
         "locked": false,
         "submit_only": false,
         "success_message": "check(largest.column('Name').item(0) == 'India')"
        },
        {
         "code": ">>> check_str('largest.num_rows == 10', locals())\n",
         "failure_message": "The table should contain exactly 10 rows.",
         "hidden": false,
         "locked": false,
         "submit_only": false,
         "success_message": "check(largest.num_rows == 10)"
        }
       ],
       "scored": true,
       "setup": "",
       "teardown": "",
       "type": "doctest"
      }
     ]
    }
   }
  },
  "widgets": {
   "application/vnd.jupyter.widget-state+json": {
    "state": {},
    "version_major": 2,
    "version_minor": 0
   }
  }
 },
 "nbformat": 4,
 "nbformat_minor": 5
}
