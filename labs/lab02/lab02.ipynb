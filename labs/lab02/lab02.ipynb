{
 "cells": [
  {
   "cell_type": "code",
   "execution_count": null,
   "id": "7e44ff6d",
   "metadata": {
    "deletable": false,
    "editable": false
   },
   "outputs": [],
   "source": [
    "# Initialize Otter\n",
    "import otter\n",
    "grader = otter.Notebook(\"lab02.ipynb\")"
   ]
  },
  {
   "cell_type": "markdown",
   "id": "85d1c295",
   "metadata": {
    "deletable": false,
    "editable": false
   },
   "source": [
    "<table style=\"width: 100%;\">\n",
    "<tr style=\"background-color: transparent;\">\n",
    "<td width=\"100px\"><img src=\"https://cs104williams.github.io/assets/cs104-logo.png\" width=\"90px\" style=\"text-align: center\"/></td>\n",
    "<td>\n",
    "  <p style=\"margin-bottom: 0px; text-align: left; font-size: 18pt;\"><strong>CSCI 104: Data Science and Computing for All</strong><br>\n",
    "                Williams College<br>\n",
    "                Fall 2024</p>\n",
    "</td>\n",
    "</tr>\n"
   ]
  },
  {
   "cell_type": "markdown",
   "id": "2268692c",
   "metadata": {
    "deletable": false,
    "editable": false,
    "tags": []
   },
   "source": [
    "# Lab 2: Arrays and Tables"
   ]
  },
  {
   "cell_type": "markdown",
   "id": "394e00b6",
   "metadata": {
    "deletable": false,
    "editable": false,
    "tags": []
   },
   "source": [
    "<hr style=\"margin: 0px; border: 3px solid #500082;\"/>\n",
    "\n",
    "<h2>Instructions</h2>\n",
    "\n",
    "- Before you begin, execute the cell at the TOP of the notebook to load the provided tests, as well as the following cell to setup the notebook by importing some helpful libraries. Each time you start your server, you will need to execute these cells again.  \n",
    "- Be sure to consult your [Python Reference](https://cs104williams.github.io/assets/python-library-ref.html)!\n",
    "- Complete this notebook by filling in the cells provided. For problems asking you to write explanations, you **must** provide your answer in the designated space. \n",
    "- Please be sure to not re-assign variables throughout the notebook.  For example, if you use `max_temperature` in your answer to one question, do not reassign it later on. Otherwise, you will fail tests that you thought you were passing previously.\n",
    "- This lab has hidden tests on it. That means even though tests may say 100% passed, doesn't mean your final grade will be 100%. We will be running more tests for correctness once everyone turns in the lab.\n",
    "- To use one or more late days on this lab, please fill out our [late day form](https://forms.gle/4sD16h3hN1xRqQM27) **before** the due date.\n",
    "\n",
    "<hr/>\n",
    "<h2>Setup</h2>\n"
   ]
  },
  {
   "cell_type": "code",
   "execution_count": null,
   "id": "44ce5b55",
   "metadata": {
    "deletable": false,
    "editable": false,
    "execution": {
     "iopub.execute_input": "2024-09-12T20:10:19.548492Z",
     "iopub.status.busy": "2024-09-12T20:10:19.547922Z",
     "iopub.status.idle": "2024-09-12T20:10:20.831633Z",
     "shell.execute_reply": "2024-09-12T20:10:20.831199Z"
    },
    "tags": []
   },
   "outputs": [],
   "source": [
    "# Run this cell to set up the notebook.\n",
    "# These lines import the numpy, datascience, and cs104 libraries.\n",
    "\n",
    "import numpy as np\n",
    "from datascience import *\n",
    "from cs104 import *\n",
    "%matplotlib inline"
   ]
  },
  {
   "cell_type": "markdown",
   "id": "91c8ee8b",
   "metadata": {
    "deletable": false,
    "editable": false
   },
   "source": [
    "<hr style=\"margin-bottom: 0px; padding:0; border: 2px solid #500082;\"/>\n"
   ]
  },
  {
   "cell_type": "markdown",
   "id": "e5ec5048",
   "metadata": {
    "deletable": false,
    "editable": false,
    "tags": []
   },
   "source": [
    "## 1. Table Review and Analyzing a Movie Dataset (10 pts)\n",
    "\n"
   ]
  },
  {
   "cell_type": "markdown",
   "id": "061cab36",
   "metadata": {
    "deletable": false,
    "editable": false
   },
   "source": [
    "<font color='#B1008E'>\n",
    "    \n",
    "##### Learning objectives\n",
    "- Use built-in table functions to answer quantitative questions about a dataset\n",
    "</font>"
   ]
  },
  {
   "cell_type": "markdown",
   "id": "66fe0bf9",
   "metadata": {
    "deletable": false,
    "editable": false
   },
   "source": [
    "Now that you're familiar with table operations, let’s answer an interesting question about a dataset!  Run the cell below to load the `imdb` table. It contains information about the 250 highest-rated movies on IMDb, as you saw on the prelab this week."
   ]
  },
  {
   "cell_type": "code",
   "execution_count": null,
   "id": "945c2157",
   "metadata": {
    "deletable": false,
    "editable": false,
    "execution": {
     "iopub.execute_input": "2024-09-12T20:10:20.834326Z",
     "iopub.status.busy": "2024-09-12T20:10:20.834077Z",
     "iopub.status.idle": "2024-09-12T20:10:20.843663Z",
     "shell.execute_reply": "2024-09-12T20:10:20.843286Z"
    },
    "tags": []
   },
   "outputs": [],
   "source": [
    "# Just run this cell\n",
    "\n",
    "imdb = Table.read_table('imdb.csv')\n",
    "imdb"
   ]
  },
  {
   "cell_type": "markdown",
   "id": "8308defb",
   "metadata": {
    "deletable": false,
    "editable": false
   },
   "source": [
    "*A quick note on writing table operations:* Often, we want to perform multiple operations - sorting, filtering, or others - in order to turn a table we have into something more useful. You can do these operations one by one, e.g."
   ]
  },
  {
   "cell_type": "code",
   "execution_count": null,
   "id": "6b4b78a9",
   "metadata": {
    "deletable": false,
    "editable": false,
    "execution": {
     "iopub.execute_input": "2024-09-12T20:10:20.845784Z",
     "iopub.status.busy": "2024-09-12T20:10:20.845624Z",
     "iopub.status.idle": "2024-09-12T20:10:20.850022Z",
     "shell.execute_reply": "2024-09-12T20:10:20.849682Z"
    },
    "tags": []
   },
   "outputs": [],
   "source": [
    "# Just run this cell\n",
    "\n",
    "movies_from_2013 = imdb.where(\"Year\", are.equal_to(2013))\n",
    "ordered_2013_movies = movies_from_2013.sort(\"Title\", descending=True)\n",
    "ordered_2013_movies"
   ]
  },
  {
   "cell_type": "markdown",
   "id": "35ae822e",
   "metadata": {
    "deletable": false,
    "editable": false
   },
   "source": [
    "However, since the value of the expression `original_tbl.where('col1', are.equal_to(12))` is itself a table, you can just call a table method on it:"
   ]
  },
  {
   "cell_type": "code",
   "execution_count": null,
   "id": "9a9b2696",
   "metadata": {
    "deletable": false,
    "editable": false,
    "execution": {
     "iopub.execute_input": "2024-09-12T20:10:20.852218Z",
     "iopub.status.busy": "2024-09-12T20:10:20.852046Z",
     "iopub.status.idle": "2024-09-12T20:10:20.856132Z",
     "shell.execute_reply": "2024-09-12T20:10:20.855761Z"
    },
    "tags": []
   },
   "outputs": [],
   "source": [
    "# Just run this cell\n",
    "\n",
    "ordered_2013_movies = imdb.where(\"Year\", are.equal_to(2013)).sort(\"Title\", descending=True)\n",
    "ordered_2013_movies"
   ]
  },
  {
   "cell_type": "markdown",
   "id": "9049e5ba",
   "metadata": {
    "deletable": false,
    "editable": false
   },
   "source": [
    "You should organize your work in the way that makes the most sense to you, using informative names for any intermediate tables you create. "
   ]
  },
  {
   "cell_type": "markdown",
   "id": "afdf84cd",
   "metadata": {
    "deletable": false,
    "editable": false
   },
   "source": [
    "#### Part 1.1 (5 pts)\n"
   ]
  },
  {
   "cell_type": "markdown",
   "id": "f4ec4a9f",
   "metadata": {
    "deletable": false,
    "editable": false
   },
   "source": [
    "Create a table of movies released between 2010 and 2016 (inclusive) with ratings above 8. The table should only contain the columns `Title` and `Rating`, **in that order**.\n",
    "\n",
    "Assign the table to the name `above_eight`.\n",
    "\n",
    "*Hint:* Think about the steps you need to take, and try to put them in an order that make sense. Feel free to create intermediate tables for each step, but please make sure you assign your final table the name `above_eight`!\n"
   ]
  },
  {
   "cell_type": "code",
   "execution_count": null,
   "id": "8fe69475",
   "metadata": {
    "deletable": false,
    "execution": {
     "iopub.execute_input": "2024-09-12T20:10:20.858374Z",
     "iopub.status.busy": "2024-09-12T20:10:20.858258Z",
     "iopub.status.idle": "2024-09-12T20:10:20.862589Z",
     "shell.execute_reply": "2024-09-12T20:10:20.862243Z"
    },
    "tags": []
   },
   "outputs": [],
   "source": [
    "above_eight = ...\n",
    "above_eight"
   ]
  },
  {
   "cell_type": "code",
   "execution_count": null,
   "id": "8ef93870",
   "metadata": {
    "deletable": false,
    "editable": false
   },
   "outputs": [],
   "source": [
    "grader.check(\"p1.1\")"
   ]
  },
  {
   "cell_type": "markdown",
   "id": "687e2b8a",
   "metadata": {
    "deletable": false,
    "editable": false
   },
   "source": [
    "#### Part 1.2 (5 pts)\n"
   ]
  },
  {
   "cell_type": "markdown",
   "id": "441e9d3b",
   "metadata": {
    "deletable": false,
    "editable": false
   },
   "source": [
    "What are the  *proportion* of movies in the dataset that were released 1900-1999, and the *proportion* of movies in the dataset that were released in the year 2000 or later?\n",
    "\n",
    "Use `num_rows` and arithmetic. Assign `proportion_in_20th_century` to the proportion of movies in the dataset that were released 1900-1999, and `proportion_in_21st_century` to the proportion of movies in the dataset that were released in the year 2000 or later.\n",
    "\n",
    "*Hint:* The *proportion* of movies released in the 1900's is the *number* of movies released in the 1900's, divided by the *total number* of movies.\n"
   ]
  },
  {
   "cell_type": "code",
   "execution_count": null,
   "id": "ec49e566",
   "metadata": {
    "deletable": false,
    "execution": {
     "iopub.execute_input": "2024-09-12T20:10:20.885486Z",
     "iopub.status.busy": "2024-09-12T20:10:20.885334Z",
     "iopub.status.idle": "2024-09-12T20:10:20.889148Z",
     "shell.execute_reply": "2024-09-12T20:10:20.888799Z"
    },
    "tags": []
   },
   "outputs": [],
   "source": [
    "num_movies_in_dataset = ...\n",
    "num_in_20th_century = ...\n",
    "num_in_21st_century = ...\n",
    "proportion_in_20th_century = ...\n",
    "proportion_in_21st_century = ...\n",
    "print(\"Proportion in 20th century:\", proportion_in_20th_century)\n",
    "print(\"Proportion in 21st century:\", proportion_in_21st_century)"
   ]
  },
  {
   "cell_type": "code",
   "execution_count": null,
   "id": "d62c9682",
   "metadata": {
    "deletable": false,
    "editable": false
   },
   "outputs": [],
   "source": [
    "grader.check(\"p1.2\")"
   ]
  },
  {
   "cell_type": "markdown",
   "id": "86a069b0",
   "metadata": {
    "deletable": false,
    "editable": false
   },
   "source": [
    "<hr style=\"margin-bottom: 0px; padding:0; border: 2px solid #500082;\"/>\n"
   ]
  },
  {
   "cell_type": "markdown",
   "id": "ec5f6a1c",
   "metadata": {
    "deletable": false,
    "editable": false,
    "tags": []
   },
   "source": [
    "## 2. Array practice (25 pts)\n",
    "\n"
   ]
  },
  {
   "cell_type": "markdown",
   "id": "7a1480c9",
   "metadata": {
    "deletable": false,
    "editable": false
   },
   "source": [
    "<font color='#B1008E'>\n",
    "    \n",
    "##### Learning objectives\n",
    "- Practice creating arrays \n",
    "- Analyze the data in arrays via math operations and built-in functions such as `len()`, and indexing arrays\n",
    "</font>"
   ]
  },
  {
   "cell_type": "markdown",
   "id": "8108091d",
   "metadata": {
    "deletable": false,
    "editable": false,
    "tags": []
   },
   "source": [
    "#### Part 2.1 (5 pts)\n"
   ]
  },
  {
   "cell_type": "markdown",
   "id": "0d632121",
   "metadata": {
    "deletable": false,
    "editable": false
   },
   "source": [
    "Make an array called `vowels` containing the following vowels, 'A', 'E', 'I', 'O', and 'U'."
   ]
  },
  {
   "cell_type": "code",
   "execution_count": null,
   "id": "751e3020",
   "metadata": {
    "deletable": false,
    "execution": {
     "iopub.execute_input": "2024-09-12T20:10:20.899946Z",
     "iopub.status.busy": "2024-09-12T20:10:20.899802Z",
     "iopub.status.idle": "2024-09-12T20:10:20.902541Z",
     "shell.execute_reply": "2024-09-12T20:10:20.902195Z"
    },
    "tags": []
   },
   "outputs": [],
   "source": [
    "vowels = ...\n",
    "vowels"
   ]
  },
  {
   "cell_type": "code",
   "execution_count": null,
   "id": "c6935598",
   "metadata": {
    "deletable": false,
    "editable": false
   },
   "outputs": [],
   "source": [
    "grader.check(\"p2.1\")"
   ]
  },
  {
   "cell_type": "markdown",
   "id": "c3454124",
   "metadata": {
    "deletable": false,
    "editable": false
   },
   "source": [
    "These next exercises give you practice accessing individual items of arrays with the [array.item(index)](https://cs104williams.github.io/assets/python-library-ref.html#item) method.  In Python, items are accessed by its *index*; for example, the first item is the item at index 0. Indices must be **integers**.\n",
    "\n",
    "***Note:* If you have previous coding experience, you may be familiar with bracket notation. DO NOT use bracket notation when indexing (i.e. `arr[0]`), as this can yield different data type outputs than what we will be expecting. This can cause you to fail an autograder test.**\n",
    "\n",
    "Be sure to refer to the [Python Library Reference](https://cs104williams.github.io/assets/python-library-ref.html#item) if you feel stuck!"
   ]
  },
  {
   "cell_type": "markdown",
   "id": "cca2ffc7",
   "metadata": {
    "deletable": false,
    "editable": false
   },
   "source": [
    "#### Part 2.2 (5 pts)\n"
   ]
  },
  {
   "cell_type": "markdown",
   "id": "7087a00e",
   "metadata": {
    "deletable": false,
    "editable": false
   },
   "source": [
    "Set `third_vowel` to the third item of `vowels`."
   ]
  },
  {
   "cell_type": "code",
   "execution_count": null,
   "id": "d0128d88",
   "metadata": {
    "deletable": false,
    "execution": {
     "iopub.execute_input": "2024-09-12T20:10:20.932131Z",
     "iopub.status.busy": "2024-09-12T20:10:20.931987Z",
     "iopub.status.idle": "2024-09-12T20:10:20.934511Z",
     "shell.execute_reply": "2024-09-12T20:10:20.934189Z"
    },
    "tags": []
   },
   "outputs": [],
   "source": [
    "third_vowel = ...\n",
    "third_vowel"
   ]
  },
  {
   "cell_type": "code",
   "execution_count": null,
   "id": "7b76c1a1",
   "metadata": {
    "deletable": false,
    "editable": false
   },
   "outputs": [],
   "source": [
    "grader.check(\"p2.2\")"
   ]
  },
  {
   "cell_type": "markdown",
   "id": "a59cd372",
   "metadata": {
    "deletable": false,
    "editable": false
   },
   "source": [
    "#### Part 2.3 (5 pts)\n"
   ]
  },
  {
   "cell_type": "markdown",
   "id": "7ddffd83",
   "metadata": {
    "deletable": false,
    "editable": false
   },
   "source": [
    "You'll sometimes want to find the **last** item of an array.  What is the index of the last item in the five-item `vowels` array?"
   ]
  },
  {
   "cell_type": "code",
   "execution_count": null,
   "id": "da425356",
   "metadata": {
    "deletable": false,
    "execution": {
     "iopub.execute_input": "2024-09-12T20:10:20.944673Z",
     "iopub.status.busy": "2024-09-12T20:10:20.944521Z",
     "iopub.status.idle": "2024-09-12T20:10:20.946598Z",
     "shell.execute_reply": "2024-09-12T20:10:20.946273Z"
    },
    "tags": []
   },
   "outputs": [],
   "source": [
    "index_of_last_vowel = ..."
   ]
  },
  {
   "cell_type": "code",
   "execution_count": null,
   "id": "9bdb11df",
   "metadata": {
    "deletable": false,
    "editable": false
   },
   "outputs": [],
   "source": [
    "grader.check(\"p2.3\")"
   ]
  },
  {
   "cell_type": "markdown",
   "id": "313c7602",
   "metadata": {
    "deletable": false,
    "editable": false
   },
   "source": [
    "#### Part 2.4 (5 pts)\n"
   ]
  },
  {
   "cell_type": "markdown",
   "id": "3fa425ff",
   "metadata": {
    "deletable": false,
    "editable": false
   },
   "source": [
    "More often, you don't know the number of items in an array.  We call the number of items in an array its *length*.  The function `len` takes a single argument, an array, and returns the length of that array (an integer).\n",
    "\n",
    "The cell below creates an array `fives` containing several thousand five-letter English words compiled by [Don Knuth](https://en.wikipedia.org/wiki/Donald_Knuth), one of the early and most influential pioneers in computer science, long before Wordle was a thing."
   ]
  },
  {
   "cell_type": "code",
   "execution_count": null,
   "id": "d00a0774",
   "metadata": {
    "deletable": false,
    "editable": false,
    "execution": {
     "iopub.execute_input": "2024-09-12T20:10:20.952783Z",
     "iopub.status.busy": "2024-09-12T20:10:20.952632Z",
     "iopub.status.idle": "2024-09-12T20:10:20.959713Z",
     "shell.execute_reply": "2024-09-12T20:10:20.959369Z"
    },
    "tags": []
   },
   "outputs": [],
   "source": [
    "# Just run this cell \n",
    "fives = Table().read_table('fives.csv').column('Five Letter Words')\n",
    "print(np.random.choice(fives, 10))  # show ten random words from the table"
   ]
  },
  {
   "cell_type": "markdown",
   "id": "0cf79d55",
   "metadata": {
    "deletable": false,
    "editable": false,
    "tags": []
   },
   "source": [
    "Set `first` and `last` to be the first and last words in the array, respectively. Use `len` to compute the index for the last word."
   ]
  },
  {
   "cell_type": "code",
   "execution_count": null,
   "id": "fda4d1ed",
   "metadata": {
    "deletable": false,
    "execution": {
     "iopub.execute_input": "2024-09-12T20:10:20.961756Z",
     "iopub.status.busy": "2024-09-12T20:10:20.961612Z",
     "iopub.status.idle": "2024-09-12T20:10:20.964055Z",
     "shell.execute_reply": "2024-09-12T20:10:20.963712Z"
    },
    "tags": []
   },
   "outputs": [],
   "source": [
    "first = ...\n",
    "last = ...\n",
    "\n",
    "# No need to modify the line below \n",
    "print('fives has', len(fives), 'words, starting with', first, 'and ending with', last)"
   ]
  },
  {
   "cell_type": "code",
   "execution_count": null,
   "id": "e27b81ab",
   "metadata": {
    "deletable": false,
    "editable": false
   },
   "outputs": [],
   "source": [
    "grader.check(\"p2.4\")"
   ]
  },
  {
   "cell_type": "markdown",
   "id": "5732ddee",
   "metadata": {
    "deletable": false,
    "editable": false
   },
   "source": [
    "#### Part 2.5 (5 pts)\n"
   ]
  },
  {
   "cell_type": "markdown",
   "id": "4b04ddb5",
   "metadata": {
    "deletable": false,
    "editable": false
   },
   "source": [
    "The following array represents the radii of various spheres"
   ]
  },
  {
   "cell_type": "code",
   "execution_count": null,
   "id": "63e8e89d",
   "metadata": {
    "deletable": false,
    "editable": false,
    "execution": {
     "iopub.execute_input": "2024-09-12T20:10:20.974330Z",
     "iopub.status.busy": "2024-09-12T20:10:20.974180Z",
     "iopub.status.idle": "2024-09-12T20:10:20.976287Z",
     "shell.execute_reply": "2024-09-12T20:10:20.975947Z"
    },
    "tags": []
   },
   "outputs": [],
   "source": [
    "radii = make_array(1,4,3,5,2)"
   ]
  },
  {
   "cell_type": "markdown",
   "id": "f9165431",
   "metadata": {
    "deletable": false,
    "editable": false,
    "tags": []
   },
   "source": [
    "Below, assign `volumes` to an array where each item is the volume of the sphere for each respective item of `radii`. \n",
    "\n",
    "*Hints:*\n",
    "- Use **array broadcasting**. \n",
    "- Use the numpy library's `np.pi` variable for the value of $\\pi$.\n",
    "\n",
    "Recall that the volume V of a sphere with radius r is:\n",
    "\n",
    "$$\n",
    "V = \\frac{4}{3} \\pi r^3\n",
    "$$\n",
    "\n",
    "Thus, the volume for a sphere with radius 1 is approximately `4.1888` \n",
    "\n",
    "Then, assign `total_volume` to the total volume of all spheres using the [sum](https://cs104williams.github.io/assets/python-library-ref.html#sum) function"
   ]
  },
  {
   "cell_type": "code",
   "execution_count": null,
   "id": "70c8c92b",
   "metadata": {
    "deletable": false,
    "execution": {
     "iopub.execute_input": "2024-09-12T20:10:20.978318Z",
     "iopub.status.busy": "2024-09-12T20:10:20.978165Z",
     "iopub.status.idle": "2024-09-12T20:10:20.980776Z",
     "shell.execute_reply": "2024-09-12T20:10:20.980443Z"
    },
    "tags": []
   },
   "outputs": [],
   "source": [
    "volumes = ...\n",
    "print('volumes are', volumes)\n",
    "\n",
    "total_volume = ...\n",
    "print('total is', total_volume)"
   ]
  },
  {
   "cell_type": "code",
   "execution_count": null,
   "id": "09e1453d",
   "metadata": {
    "deletable": false,
    "editable": false
   },
   "outputs": [],
   "source": [
    "grader.check(\"p2.5\")"
   ]
  },
  {
   "cell_type": "markdown",
   "id": "7b73b555",
   "metadata": {
    "deletable": false,
    "editable": false
   },
   "source": [
    "<hr style=\"margin-bottom: 0px; padding:0; border: 2px solid #500082;\"/>\n"
   ]
  },
  {
   "cell_type": "markdown",
   "id": "eedbf5ba",
   "metadata": {
    "deletable": false,
    "editable": false
   },
   "source": [
    "## 3. Analyze Tables via Old Faithful Geyser data (20 pts)\n",
    "\n"
   ]
  },
  {
   "cell_type": "markdown",
   "id": "98800409",
   "metadata": {
    "deletable": false,
    "editable": false
   },
   "source": [
    "<font color='#B1008E'>\n",
    "    \n",
    "##### Learning objectives\n",
    "- Use built-in Table functions, Python functions, and numpy (np) functions to answer quantitative questions about a dataset\n",
    "</font>"
   ]
  },
  {
   "cell_type": "markdown",
   "id": "a00433f4",
   "metadata": {
    "deletable": false,
    "editable": false
   },
   "source": [
    "[Old Faithful](https://en.wikipedia.org/wiki/Old_Faithful) is a geyser in Yellowstone that erupts every 44 to 125 minutes. People are [often told that the geyser erupts every hour](http://yellowstone.net/geysers/old-faithful/), but in fact the waiting time between eruptions is more variable. Let's take a look."
   ]
  },
  {
   "cell_type": "markdown",
   "id": "eb2d6a53",
   "metadata": {
    "deletable": false,
    "editable": false
   },
   "source": [
    "#### Part 3.1 (5 pts)\n"
   ]
  },
  {
   "cell_type": "markdown",
   "id": "cbc8b75e",
   "metadata": {
    "deletable": false,
    "editable": false
   },
   "source": [
    "The first line below assigns `waiting_times` to an array of 272 consecutive waiting times between eruptions, taken from a classic 1938 dataset. Assign the names `shortest`, `longest`, and `average` so that the `print` statement is correct."
   ]
  },
  {
   "cell_type": "code",
   "execution_count": null,
   "id": "f4ec3913",
   "metadata": {
    "deletable": false,
    "execution": {
     "iopub.execute_input": "2024-09-12T20:10:20.999033Z",
     "iopub.status.busy": "2024-09-12T20:10:20.998879Z",
     "iopub.status.idle": "2024-09-12T20:10:21.003289Z",
     "shell.execute_reply": "2024-09-12T20:10:21.002944Z"
    },
    "tags": []
   },
   "outputs": [],
   "source": [
    "old_faithful = Table.read_table('old_faithful.csv')\n",
    "waiting_times = old_faithful.column('waiting')\n",
    "\n",
    "shortest = ...\n",
    "longest = ...\n",
    "average = ...\n",
    "\n",
    "print(\"Old Faithful erupts every\", shortest, \"to\", longest, \"minutes and every\", average, \"minutes on average.\")"
   ]
  },
  {
   "cell_type": "code",
   "execution_count": null,
   "id": "b56276a0",
   "metadata": {
    "deletable": false,
    "editable": false
   },
   "outputs": [],
   "source": [
    "grader.check(\"p3.1\")"
   ]
  },
  {
   "cell_type": "markdown",
   "id": "275ea4cd",
   "metadata": {
    "deletable": false,
    "editable": false
   },
   "source": [
    "#### Part 3.2 (5 pts)\n"
   ]
  },
  {
   "cell_type": "markdown",
   "id": "9a493597",
   "metadata": {
    "deletable": false,
    "editable": false
   },
   "source": [
    "Assign `biggest_decrease` to the biggest decrease in waiting time between two consecutive eruptions. For example, the third eruption occurred after 74 minutes and the fourth after 62 minutes, so the decrease in waiting time was 74 - 62 = 12 minutes.\n",
    "\n",
    "*Hint*: We want to return the absolute value of the biggest **decrease** (careful, this is *not* the biggest increase *or* decrease) between two consecutive erruptions.  You will want to read the documentation for [np.diff()](https://cs104williams.github.io/assets/python-library-ref.html#diff) to understand how it computes differences between adjacent items."
   ]
  },
  {
   "cell_type": "code",
   "execution_count": null,
   "id": "cf9cdd9f",
   "metadata": {
    "deletable": false,
    "execution": {
     "iopub.execute_input": "2024-09-12T20:10:21.025562Z",
     "iopub.status.busy": "2024-09-12T20:10:21.025413Z",
     "iopub.status.idle": "2024-09-12T20:10:21.028382Z",
     "shell.execute_reply": "2024-09-12T20:10:21.028045Z"
    },
    "tags": []
   },
   "outputs": [],
   "source": [
    "# np.diff() calculates the difference between subsequent values  \n",
    "# in a NumPy array.\n",
    "differences = np.diff(waiting_times) \n",
    "biggest_decrease = ...\n",
    "biggest_decrease"
   ]
  },
  {
   "cell_type": "code",
   "execution_count": null,
   "id": "19e90c09",
   "metadata": {
    "deletable": false,
    "editable": false
   },
   "outputs": [],
   "source": [
    "grader.check(\"p3.2\")"
   ]
  },
  {
   "cell_type": "markdown",
   "id": "f319d181",
   "metadata": {
    "deletable": false,
    "editable": false
   },
   "source": [
    "#### Part 3.3 (5 pts)\n"
   ]
  },
  {
   "cell_type": "markdown",
   "id": "1e529bf3",
   "metadata": {
    "deletable": false,
    "editable": false
   },
   "source": [
    "Suppose the surveyors started watching Old Faithful at the start of the first eruption. Assume that they watch until the end of the tenth eruption.  How many cummulative minutes will they spend waiting for eruptions?\n",
    "\n",
    "*Hint:* One way to approach this problem is to use the `take` method on the table `faithful`. \n",
    "\n",
    "*Another Hint:* `first_nine_waiting_times` must be an array."
   ]
  },
  {
   "cell_type": "code",
   "execution_count": null,
   "id": "eb8e8497",
   "metadata": {
    "deletable": false,
    "execution": {
     "iopub.execute_input": "2024-09-12T20:10:21.038602Z",
     "iopub.status.busy": "2024-09-12T20:10:21.038456Z",
     "iopub.status.idle": "2024-09-12T20:10:21.043181Z",
     "shell.execute_reply": "2024-09-12T20:10:21.042839Z"
    },
    "tags": []
   },
   "outputs": [],
   "source": [
    "faithful = Table.read_table('old_faithful.csv')\n",
    "\n",
    "faithful_first_nine_rows = ...\n",
    "first_nine_waiting_times = ...\n",
    "total_waiting_time_until_tenth = ...\n",
    "total_waiting_time_until_tenth"
   ]
  },
  {
   "cell_type": "code",
   "execution_count": null,
   "id": "95670115",
   "metadata": {
    "deletable": false,
    "editable": false
   },
   "outputs": [],
   "source": [
    "grader.check(\"p3.3\")"
   ]
  },
  {
   "cell_type": "markdown",
   "id": "eeedecf9",
   "metadata": {
    "deletable": false,
    "editable": false
   },
   "source": [
    "#### Part 3.4 (5 pts)\n"
   ]
  },
  {
   "cell_type": "markdown",
   "id": "a868d112",
   "metadata": {
    "deletable": false,
    "editable": false
   },
   "source": [
    "Let’s imagine your guess for the next waiting time was always just the length of the previous waiting time. If you always guessed the previous waiting time, how big would your error in guessing the waiting times be, on average?\n",
    "\n",
    "For example, since the first four waiting times are 79, 54, 74, and 62, the average difference between your guess and the actual time for just the second, third, and fourth eruptions would be $\\frac{|54-79|+ |74-54|+ |62-74|}{3} = 19$.  \n",
    "\n",
    "*Note:* The notation $|54-79|$ indicates the absolute value of $54-79$."
   ]
  },
  {
   "cell_type": "code",
   "execution_count": null,
   "id": "754b29b9",
   "metadata": {
    "deletable": false,
    "execution": {
     "iopub.execute_input": "2024-09-12T20:10:21.053462Z",
     "iopub.status.busy": "2024-09-12T20:10:21.053302Z",
     "iopub.status.idle": "2024-09-12T20:10:21.056220Z",
     "shell.execute_reply": "2024-09-12T20:10:21.055891Z"
    },
    "tags": []
   },
   "outputs": [],
   "source": [
    "differences = np.diff(waiting_times)\n",
    "average_error = ...\n",
    "average_error"
   ]
  },
  {
   "cell_type": "code",
   "execution_count": null,
   "id": "a054a841",
   "metadata": {
    "deletable": false,
    "editable": false
   },
   "outputs": [],
   "source": [
    "grader.check(\"p3.4\")"
   ]
  },
  {
   "cell_type": "markdown",
   "id": "a57bac7b",
   "metadata": {
    "deletable": false,
    "editable": false
   },
   "source": [
    "<hr style=\"margin-bottom: 0px; padding:0; border: 2px solid #500082;\"/>\n"
   ]
  },
  {
   "cell_type": "markdown",
   "id": "6e580ada",
   "metadata": {
    "deletable": false,
    "editable": false
   },
   "source": [
    "## 4. Analyze Multiple Tables with Fruit Stand Data (30 pts)\n",
    "\n"
   ]
  },
  {
   "cell_type": "markdown",
   "id": "df5ce89b",
   "metadata": {
    "deletable": false,
    "editable": false
   },
   "source": [
    "<font color='#B1008E'>\n",
    "    \n",
    "##### Learning objectives\n",
    "- Use built-in table functions, Python functions, and numpy functions to answer quantitative questions about a dataset\n",
    "- Combine data from multiple Tables\n",
    "</font>"
   ]
  },
  {
   "cell_type": "markdown",
   "id": "4b6f8a12",
   "metadata": {
    "deletable": false,
    "editable": false,
    "tags": []
   },
   "source": [
    "#### Part 4.1 (5 pts)\n"
   ]
  },
  {
   "cell_type": "markdown",
   "id": "a8722cee",
   "metadata": {
    "deletable": false,
    "editable": false
   },
   "source": [
    "The file `inventory.csv` contains information about the inventory at a fruit stand.  Each row represents the contents of one box of fruit. Load it as a table named `inventory` using the `Table.read_table()` function."
   ]
  },
  {
   "cell_type": "code",
   "execution_count": null,
   "id": "65a50c64",
   "metadata": {
    "deletable": false,
    "execution": {
     "iopub.execute_input": "2024-09-12T20:10:21.066579Z",
     "iopub.status.busy": "2024-09-12T20:10:21.066419Z",
     "iopub.status.idle": "2024-09-12T20:10:21.070822Z",
     "shell.execute_reply": "2024-09-12T20:10:21.070474Z"
    },
    "tags": []
   },
   "outputs": [],
   "source": [
    "inventory = ...\n",
    "inventory"
   ]
  },
  {
   "cell_type": "code",
   "execution_count": null,
   "id": "5ffde32b",
   "metadata": {
    "deletable": false,
    "editable": false
   },
   "outputs": [],
   "source": [
    "grader.check(\"p4.1\")"
   ]
  },
  {
   "cell_type": "markdown",
   "id": "8cb7e7b4",
   "metadata": {
    "deletable": false,
    "editable": false
   },
   "source": [
    "#### Part 4.2 (5 pts)\n"
   ]
  },
  {
   "cell_type": "markdown",
   "id": "ff4b45d7",
   "metadata": {
    "deletable": false,
    "editable": false
   },
   "source": [
    "Does each box at the fruit stand contain a different fruit? Set `all_different` to `True` if each box contains a different fruit or to `False` if multiple boxes contain the same fruit.\n",
    "\n",
    "*Hint:* You don't have to write code to actually calculate the True/False value for `all_different`. Just visually inspect at the `inventory` table and assign `all_different` to either `True` or `False` according to what you can see from the table."
   ]
  },
  {
   "cell_type": "code",
   "execution_count": null,
   "id": "53d3c517",
   "metadata": {
    "deletable": false,
    "execution": {
     "iopub.execute_input": "2024-09-12T20:10:21.081157Z",
     "iopub.status.busy": "2024-09-12T20:10:21.081009Z",
     "iopub.status.idle": "2024-09-12T20:10:21.083653Z",
     "shell.execute_reply": "2024-09-12T20:10:21.083313Z"
    },
    "tags": []
   },
   "outputs": [],
   "source": [
    "all_different = ...\n",
    "all_different"
   ]
  },
  {
   "cell_type": "code",
   "execution_count": null,
   "id": "95ad79d6",
   "metadata": {
    "deletable": false,
    "editable": false
   },
   "outputs": [],
   "source": [
    "grader.check(\"p4.2\")"
   ]
  },
  {
   "cell_type": "markdown",
   "id": "38e6ac31",
   "metadata": {
    "deletable": false,
    "editable": false
   },
   "source": [
    "#### Part 4.3 (5 pts)\n"
   ]
  },
  {
   "cell_type": "markdown",
   "id": "041fff9d",
   "metadata": {
    "deletable": false,
    "editable": false
   },
   "source": [
    "The file `sales.csv` contains the number of fruit sold from each box in one day.  It has an extra column called \"price per fruit (\\$)\" that's the price *per item of fruit* for fruit in that box.  The rows are in the same order as the `inventory` table.  Load these data into a table called `sales`."
   ]
  },
  {
   "cell_type": "code",
   "execution_count": null,
   "id": "088ac1a1",
   "metadata": {
    "deletable": false,
    "execution": {
     "iopub.execute_input": "2024-09-12T20:10:21.093721Z",
     "iopub.status.busy": "2024-09-12T20:10:21.093573Z",
     "iopub.status.idle": "2024-09-12T20:10:21.098099Z",
     "shell.execute_reply": "2024-09-12T20:10:21.097751Z"
    },
    "tags": []
   },
   "outputs": [],
   "source": [
    "sales = ...\n",
    "sales"
   ]
  },
  {
   "cell_type": "code",
   "execution_count": null,
   "id": "87d3072b",
   "metadata": {
    "deletable": false,
    "editable": false
   },
   "outputs": [],
   "source": [
    "grader.check(\"p4.3\")"
   ]
  },
  {
   "cell_type": "markdown",
   "id": "c44c900b",
   "metadata": {
    "deletable": false,
    "editable": false
   },
   "source": [
    "#### Part 4.4 (5 pts)\n"
   ]
  },
  {
   "cell_type": "markdown",
   "id": "37e90329",
   "metadata": {
    "deletable": false,
    "editable": false
   },
   "source": [
    "What is the total count of fruit that the store sold on that day? "
   ]
  },
  {
   "cell_type": "code",
   "execution_count": null,
   "id": "ee221c0a",
   "metadata": {
    "deletable": false,
    "execution": {
     "iopub.execute_input": "2024-09-12T20:10:21.112659Z",
     "iopub.status.busy": "2024-09-12T20:10:21.112515Z",
     "iopub.status.idle": "2024-09-12T20:10:21.115180Z",
     "shell.execute_reply": "2024-09-12T20:10:21.114845Z"
    },
    "tags": []
   },
   "outputs": [],
   "source": [
    "total_fruits_sold = ...\n",
    "total_fruits_sold"
   ]
  },
  {
   "cell_type": "code",
   "execution_count": null,
   "id": "48146e12",
   "metadata": {
    "deletable": false,
    "editable": false
   },
   "outputs": [],
   "source": [
    "grader.check(\"p4.4\")"
   ]
  },
  {
   "cell_type": "markdown",
   "id": "aacf64d5",
   "metadata": {
    "deletable": false,
    "editable": false
   },
   "source": [
    "#### Part 4.5 (5 pts)\n"
   ]
  },
  {
   "cell_type": "markdown",
   "id": "11671e57",
   "metadata": {
    "deletable": false,
    "editable": false
   },
   "source": [
    "What was the store's total revenue (the total price of all fruits sold) on that day?\n",
    "\n",
    "*Hint:* If you're stuck, think first about how you would compute the total revenue from just the grape sales."
   ]
  },
  {
   "cell_type": "code",
   "execution_count": null,
   "id": "30f879d6",
   "metadata": {
    "deletable": false,
    "execution": {
     "iopub.execute_input": "2024-09-12T20:10:21.125376Z",
     "iopub.status.busy": "2024-09-12T20:10:21.125228Z",
     "iopub.status.idle": "2024-09-12T20:10:21.127987Z",
     "shell.execute_reply": "2024-09-12T20:10:21.127657Z"
    },
    "tags": []
   },
   "outputs": [],
   "source": [
    "total_revenue = ...\n",
    "total_revenue"
   ]
  },
  {
   "cell_type": "code",
   "execution_count": null,
   "id": "20ec2101",
   "metadata": {
    "deletable": false,
    "editable": false
   },
   "outputs": [],
   "source": [
    "grader.check(\"p4.5\")"
   ]
  },
  {
   "cell_type": "markdown",
   "id": "b7b45835",
   "metadata": {
    "deletable": false,
    "editable": false
   },
   "source": [
    "#### Part 4.6 (5 pts)\n"
   ]
  },
  {
   "cell_type": "markdown",
   "id": "b372b741",
   "metadata": {
    "deletable": false,
    "editable": false
   },
   "source": [
    "Make a new table called `remaining_inventory`.  It should have the same rows and columns as `inventory`, except that the amount of fruit sold from each box should be subtracted from that box's **original** count, so that the \"count\" column is **updated to be** the amount of fruit remaining after that day's sales."
   ]
  },
  {
   "cell_type": "code",
   "execution_count": null,
   "id": "21bfc4c9",
   "metadata": {
    "deletable": false,
    "execution": {
     "iopub.execute_input": "2024-09-12T20:10:21.138311Z",
     "iopub.status.busy": "2024-09-12T20:10:21.138165Z",
     "iopub.status.idle": "2024-09-12T20:10:21.141471Z",
     "shell.execute_reply": "2024-09-12T20:10:21.141128Z"
    },
    "tags": []
   },
   "outputs": [],
   "source": [
    "remaining_inventory = ...\n",
    "\n",
    "remaining_inventory"
   ]
  },
  {
   "cell_type": "code",
   "execution_count": null,
   "id": "e0a0e953",
   "metadata": {
    "deletable": false,
    "editable": false
   },
   "outputs": [],
   "source": [
    "grader.check(\"p4.6\")"
   ]
  },
  {
   "cell_type": "markdown",
   "id": "b4253174",
   "metadata": {
    "deletable": false,
    "editable": false
   },
   "source": [
    "<hr class=\"m-0\" style=\"border: 3px solid #500082;\"/>\n",
    "\n",
    "# You're Done!\n",
    "Follow these steps to submit your work:\n",
    "* Run the tests and verify that they pass as you expect. \n",
    "* Choose **Save Notebook** from the **File** menu.\n",
    "* **Run the final cell** and click the link below to download the zip file. \n",
    "\n",
    "Once you have downloaded that file, go to [Gradescope](https://www.gradescope.com/) and submit the zip file to \n",
    "the corresponding assignment. For Lab N, the assignment will be called \"Lab N Autograder\".\n",
    "\n",
    "Once you have submitted, your Gradescope assignment should show you passing all the tests you passed in your assignment notebook.\n"
   ]
  },
  {
   "cell_type": "markdown",
   "id": "7ef10533",
   "metadata": {
    "deletable": false,
    "editable": false
   },
   "source": [
    "## Submission\n",
    "\n",
    "Make sure you have run all cells in your notebook in order before running the cell below, so that all images/graphs appear in the output. The cell below will generate a zip file for you to submit. **Please save before exporting!**"
   ]
  },
  {
   "cell_type": "code",
   "execution_count": null,
   "id": "b874a343",
   "metadata": {
    "deletable": false,
    "editable": false
   },
   "outputs": [],
   "source": [
    "# Save your notebook first, then run this cell to export your submission.\n",
    "grader.export(pdf=False, run_tests=True)"
   ]
  },
  {
   "cell_type": "markdown",
   "id": "c18da829",
   "metadata": {},
   "source": [
    " "
   ]
  }
 ],
 "metadata": {
  "kernelspec": {
   "display_name": "Python 3 (ipykernel)",
   "language": "python",
   "name": "python3"
  },
  "language_info": {
   "codemirror_mode": {
    "name": "ipython",
    "version": 3
   },
   "file_extension": ".py",
   "mimetype": "text/x-python",
   "name": "python",
   "nbconvert_exporter": "python",
   "pygments_lexer": "ipython3",
   "version": "3.9.19"
  },
  "otter": {
   "OK_FORMAT": true,
   "tests": {
    "p1.1": {
     "has_hidden": false,
     "name": "p1.1",
     "points": 5,
     "suites": [
      {
       "cases": [
        {
         "code": ">>> check_str('type(above_eight) == Table', locals())\n",
         "failure_message": "check(type(above_eight) == Table)",
         "hidden": false,
         "locked": false,
         "submit_only": false,
         "success_message": "check(type(above_eight) == Table)"
        },
        {
         "code": ">>> check_str('above_eight.num_rows == 30', locals())\n",
         "failure_message": "check(above_eight.num_rows == 30)",
         "hidden": false,
         "locked": false,
         "submit_only": false,
         "success_message": "check(above_eight.num_rows == 30)"
        },
        {
         "code": ">>> check_str('above_eight.labels == (\\'Title\\', \\'Rating\\')', locals())\n",
         "failure_message": "Make sure your columns are in the right order!",
         "hidden": false,
         "locked": false,
         "submit_only": false,
         "success_message": "check(above_eight.labels == ('Title', 'Rating'))"
        },
        {
         "code": ">>> check_str('above_eight.sort(0).row(17).item(\\'Title\\') == \\'Spotlight\\'', locals())\n",
         "failure_message": "check(above_eight.sort(0).row(17).item('Title') == 'Spotlight')",
         "hidden": false,
         "locked": false,
         "submit_only": false,
         "success_message": "check(above_eight.sort(0).row(17).item('Title') == 'Spotlight')"
        },
        {
         "code": ">>> check_str('above_eight.sort(0).row(17).item(\\'Rating\\') == approx(8.03929)', locals())\n",
         "failure_message": "check(above_eight.sort(0).row(17).item('Rating') == approx(8.03929))",
         "hidden": false,
         "locked": false,
         "submit_only": false,
         "success_message": "check(above_eight.sort(0).row(17).item('Rating') == approx(8.03929))"
        }
       ],
       "scored": true,
       "setup": "",
       "teardown": "",
       "type": "doctest"
      }
     ]
    },
    "p1.2": {
     "has_hidden": false,
     "name": "p1.2",
     "points": 5,
     "suites": [
      {
       "cases": [
        {
         "code": ">>> check_str('proportion_in_20th_century == approx(0.616)', locals())\n",
         "failure_message": "check(proportion_in_20th_century == approx(0.616))",
         "hidden": false,
         "locked": false,
         "submit_only": false,
         "success_message": "check(proportion_in_20th_century == approx(0.616))"
        },
        {
         "code": ">>> check_str('proportion_in_21st_century == approx(0.384)', locals())\n",
         "failure_message": "check(proportion_in_21st_century == approx(0.384))",
         "hidden": false,
         "locked": false,
         "submit_only": false,
         "success_message": "check(proportion_in_21st_century == approx(0.384))"
        }
       ],
       "scored": true,
       "setup": "",
       "teardown": "",
       "type": "doctest"
      }
     ]
    },
    "p2.1": {
     "has_hidden": false,
     "name": "p2.1",
     "points": 5,
     "suites": [
      {
       "cases": [
        {
         "code": ">>> import numpy as np\n>>> check_str('type(vowels) == np.ndarray', locals())\n",
         "failure_message": "Be sure to use make_array to create an array.",
         "hidden": false,
         "locked": false,
         "submit_only": false,
         "success_message": "check(type(vowels) == np.ndarray)"
        },
        {
         "code": ">>> check_str('len(vowels) == 5', locals())\n",
         "failure_message": "check(len(vowels) == 5)",
         "hidden": false,
         "locked": false,
         "submit_only": false,
         "success_message": "check(len(vowels) == 5)"
        },
        {
         "code": ">>> check_str('vowels.item(0) == \\'A\\'', locals())\n",
         "failure_message": "check(vowels.item(0) == 'A')",
         "hidden": false,
         "locked": false,
         "submit_only": false,
         "success_message": "check(vowels.item(0) == 'A')"
        },
        {
         "code": ">>> check_str('vowels.item(1) == \\'E\\'', locals())\n",
         "failure_message": "check(vowels.item(1) == 'E')",
         "hidden": false,
         "locked": false,
         "submit_only": false,
         "success_message": "check(vowels.item(1) == 'E')"
        },
        {
         "code": ">>> check_str('vowels.item(2) == \\'I\\'', locals())\n",
         "failure_message": "check(vowels.item(2) == 'I')",
         "hidden": false,
         "locked": false,
         "submit_only": false,
         "success_message": "check(vowels.item(2) == 'I')"
        },
        {
         "code": ">>> check_str('vowels.item(3) == \\'O\\'', locals())\n",
         "failure_message": "check(vowels.item(3) == 'O')",
         "hidden": false,
         "locked": false,
         "submit_only": false,
         "success_message": "check(vowels.item(3) == 'O')"
        },
        {
         "code": ">>> check_str('vowels.item(4) == \\'U\\'', locals())\n",
         "failure_message": "check(vowels.item(4) == 'U')",
         "hidden": false,
         "locked": false,
         "submit_only": false,
         "success_message": "check(vowels.item(4) == 'U')"
        }
       ],
       "scored": true,
       "setup": "",
       "teardown": "",
       "type": "doctest"
      }
     ]
    },
    "p2.2": {
     "has_hidden": true,
     "name": "p2.2",
     "points": 5,
     "suites": [
      {
       "cases": [
        {
         "code": ">>> check_str('type(third_vowel) == str', locals())\n",
         "failure_message": "check(type(third_vowel) == str)",
         "hidden": false,
         "locked": false,
         "submit_only": false,
         "success_message": "check(type(third_vowel) == str)"
        }
       ],
       "scored": true,
       "setup": "",
       "teardown": "",
       "type": "doctest"
      }
     ]
    },
    "p2.3": {
     "has_hidden": false,
     "name": "p2.3",
     "points": 5,
     "suites": [
      {
       "cases": [
        {
         "code": ">>> check_str('index_of_last_vowel == 4', locals())\n",
         "failure_message": "check(index_of_last_vowel == 4)",
         "hidden": false,
         "locked": false,
         "submit_only": false,
         "success_message": "check(index_of_last_vowel == 4)"
        }
       ],
       "scored": true,
       "setup": "",
       "teardown": "",
       "type": "doctest"
      }
     ]
    },
    "p2.4": {
     "has_hidden": false,
     "name": "p2.4",
     "points": 5,
     "suites": [
      {
       "cases": [
        {
         "code": ">>> check_str('first == \\'aargh\\'', locals())\n",
         "failure_message": "check(first == 'aargh')",
         "hidden": false,
         "locked": false,
         "submit_only": false,
         "success_message": "check(first == 'aargh')"
        },
        {
         "code": ">>> check_str('last == \\'zowie\\'', locals())\n",
         "failure_message": "check(last == 'zowie')",
         "hidden": false,
         "locked": false,
         "submit_only": false,
         "success_message": "check(last == 'zowie')"
        }
       ],
       "scored": true,
       "setup": "",
       "teardown": "",
       "type": "doctest"
      }
     ]
    },
    "p2.5": {
     "has_hidden": false,
     "name": "p2.5",
     "points": 5,
     "suites": [
      {
       "cases": [
        {
         "code": ">>> check_str('len(volumes) == 5', locals())\n",
         "failure_message": "check(len(volumes) == 5)",
         "hidden": false,
         "locked": false,
         "submit_only": false,
         "success_message": "check(len(volumes) == 5)"
        },
        {
         "code": ">>> check_str('volumes > 0', locals())\n",
         "failure_message": "check(volumes > 0)",
         "hidden": false,
         "locked": false,
         "submit_only": false,
         "success_message": "check(volumes > 0)"
        },
        {
         "code": ">>> check_str('volumes.item(0) == approx(4.1888)', locals())\n",
         "failure_message": "check(volumes.item(0) == approx(4.1888))",
         "hidden": false,
         "locked": false,
         "submit_only": false,
         "success_message": "check(volumes.item(0) == approx(4.1888))"
        },
        {
         "code": ">>> check_str('total_volume == approx(942.4778)', locals())\n",
         "failure_message": "check(total_volume == approx(942.4778))",
         "hidden": false,
         "locked": false,
         "submit_only": false,
         "success_message": "check(total_volume == approx(942.4778))"
        }
       ],
       "scored": true,
       "setup": "",
       "teardown": "",
       "type": "doctest"
      }
     ]
    },
    "p3.1": {
     "has_hidden": true,
     "name": "p3.1",
     "points": 5,
     "suites": [
      {
       "cases": [
        {
         "code": ">>> check_str('shortest > 40', locals())\n",
         "failure_message": "check(shortest > 40)",
         "hidden": false,
         "locked": false,
         "submit_only": false,
         "success_message": "check(shortest > 40)"
        },
        {
         "code": ">>> check_str('longest > shortest', locals())\n",
         "failure_message": "check(longest > shortest)",
         "hidden": false,
         "locked": false,
         "submit_only": false,
         "success_message": "check(longest > shortest)"
        },
        {
         "code": ">>> check_str('shortest == 43', locals())\n",
         "failure_message": "check(shortest == 43)",
         "hidden": false,
         "locked": false,
         "submit_only": false,
         "success_message": "check(shortest == 43)"
        },
        {
         "code": ">>> check_str('longest == 96', locals())\n",
         "failure_message": "check(longest == 96)",
         "hidden": false,
         "locked": false,
         "submit_only": false,
         "success_message": "check(longest == 96)"
        }
       ],
       "scored": true,
       "setup": "",
       "teardown": "",
       "type": "doctest"
      }
     ]
    },
    "p3.2": {
     "has_hidden": true,
     "name": "p3.2",
     "points": 5,
     "suites": [
      {
       "cases": [
        {
         "code": ">>> check_str('biggest_decrease > 0', locals())\n",
         "failure_message": "check(biggest_decrease > 0)",
         "hidden": false,
         "locked": false,
         "submit_only": false,
         "success_message": "check(biggest_decrease > 0)"
        }
       ],
       "scored": true,
       "setup": "",
       "teardown": "",
       "type": "doctest"
      }
     ]
    },
    "p3.3": {
     "has_hidden": true,
     "name": "p3.3",
     "points": 5,
     "suites": [
      {
       "cases": [
        {
         "code": ">>> check_str('total_waiting_time_until_tenth > 0', locals())\n",
         "failure_message": "check(total_waiting_time_until_tenth > 0)",
         "hidden": false,
         "locked": false,
         "submit_only": false,
         "success_message": "check(total_waiting_time_until_tenth > 0)"
        }
       ],
       "scored": true,
       "setup": "",
       "teardown": "",
       "type": "doctest"
      }
     ]
    },
    "p3.4": {
     "has_hidden": true,
     "name": "p3.4",
     "points": 5,
     "suites": [
      {
       "cases": [
        {
         "code": ">>> check_str('average_error > 0', locals())\n",
         "failure_message": "check(average_error > 0)",
         "hidden": false,
         "locked": false,
         "submit_only": false,
         "success_message": "check(average_error > 0)"
        }
       ],
       "scored": true,
       "setup": "",
       "teardown": "",
       "type": "doctest"
      }
     ]
    },
    "p4.1": {
     "has_hidden": false,
     "name": "p4.1",
     "points": 5,
     "suites": [
      {
       "cases": [
        {
         "code": ">>> check_str('inventory.num_rows == 8', locals())\n",
         "failure_message": "check(inventory.num_rows == 8)",
         "hidden": false,
         "locked": false,
         "submit_only": false,
         "success_message": "check(inventory.num_rows == 8)"
        },
        {
         "code": ">>> check_str('inventory.labels == (\\'box ID\\', \\'fruit name\\', \\'count\\')', locals())\n",
         "failure_message": "check(inventory.labels == ('box ID', 'fruit name', 'count'))",
         "hidden": false,
         "locked": false,
         "submit_only": false,
         "success_message": "check(inventory.labels == ('box ID', 'fruit name', 'count'))"
        }
       ],
       "scored": true,
       "setup": "",
       "teardown": "",
       "type": "doctest"
      }
     ]
    },
    "p4.2": {
     "has_hidden": true,
     "name": "p4.2",
     "points": 5,
     "suites": [
      {
       "cases": [
        {
         "code": ">>> check_str('type(all_different) == bool', locals())\n",
         "failure_message": "check(type(all_different) == bool)",
         "hidden": false,
         "locked": false,
         "submit_only": false,
         "success_message": "check(type(all_different) == bool)"
        }
       ],
       "scored": true,
       "setup": "",
       "teardown": "",
       "type": "doctest"
      }
     ]
    },
    "p4.3": {
     "has_hidden": false,
     "name": "p4.3",
     "points": 5,
     "suites": [
      {
       "cases": [
        {
         "code": ">>> check_str('sales.num_rows == 8', locals())\n",
         "failure_message": "check(sales.num_rows == 8)",
         "hidden": false,
         "locked": false,
         "submit_only": false,
         "success_message": "check(sales.num_rows == 8)"
        },
        {
         "code": ">>> check_str('sales.row(0).item(\"count sold\") == 3', locals())\n",
         "failure_message": "check(sales.row(0).item(\"count sold\") == 3)",
         "hidden": false,
         "locked": false,
         "submit_only": false,
         "success_message": "check(sales.row(0).item(\"count sold\") == 3)"
        },
        {
         "code": ">>> check_str('sales.row(4).item(\"price per fruit ($)\") == 0.15', locals())\n",
         "failure_message": "check(sales.row(4).item(\"price per fruit ($)\") == 0.15)",
         "hidden": false,
         "locked": false,
         "submit_only": false,
         "success_message": "check(sales.row(4).item(\"price per fruit ($)\") == 0.15)"
        }
       ],
       "scored": true,
       "setup": "",
       "teardown": "",
       "type": "doctest"
      }
     ]
    },
    "p4.4": {
     "has_hidden": true,
     "name": "p4.4",
     "points": 5,
     "suites": [
      {
       "cases": [
        {
         "code": ">>> check_str('total_fruits_sold > 0', locals())\n",
         "failure_message": "check(total_fruits_sold > 0)",
         "hidden": false,
         "locked": false,
         "submit_only": false,
         "success_message": "check(total_fruits_sold > 0)"
        }
       ],
       "scored": true,
       "setup": "",
       "teardown": "",
       "type": "doctest"
      }
     ]
    },
    "p4.5": {
     "has_hidden": true,
     "name": "p4.5",
     "points": 5,
     "suites": [
      {
       "cases": [
        {
         "code": ">>> check_str('total_revenue >= 0', locals())\n",
         "failure_message": "check(total_revenue >= 0)",
         "hidden": false,
         "locked": false,
         "submit_only": false,
         "success_message": "check(total_revenue >= 0)"
        }
       ],
       "scored": true,
       "setup": "",
       "teardown": "",
       "type": "doctest"
      }
     ]
    },
    "p4.6": {
     "has_hidden": true,
     "name": "p4.6",
     "points": 5,
     "suites": [
      {
       "cases": [
        {
         "code": ">>> check_str('remaining_inventory.num_rows == 8', locals())\n",
         "failure_message": "check(remaining_inventory.num_rows == 8)",
         "hidden": false,
         "locked": false,
         "submit_only": false,
         "success_message": "check(remaining_inventory.num_rows == 8)"
        },
        {
         "code": ">>> check_str('remaining_inventory.labels == (\\'box ID\\', \\'fruit name\\', \\'count\\')', locals())\n",
         "failure_message": "check(remaining_inventory.labels == ('box ID', 'fruit name', 'count'))",
         "hidden": false,
         "locked": false,
         "submit_only": false,
         "success_message": "check(remaining_inventory.labels == ('box ID', 'fruit name', 'count'))"
        },
        {
         "code": ">>> check_str('remaining_inventory.column(\"count\").item(0) == 42', locals())\n",
         "failure_message": "check(remaining_inventory.column(\"count\").item(0) == 42)",
         "hidden": false,
         "locked": false,
         "submit_only": false,
         "success_message": "check(remaining_inventory.column(\"count\").item(0) == 42)"
        }
       ],
       "scored": true,
       "setup": "",
       "teardown": "",
       "type": "doctest"
      }
     ]
    }
   }
  },
  "vscode": {
   "interpreter": {
    "hash": "e9a7af6fc709cc25e111b0d6e28f738a78907138b7e48b682edcf6dfb7dc8bee"
   }
  }
 },
 "nbformat": 4,
 "nbformat_minor": 5
}
