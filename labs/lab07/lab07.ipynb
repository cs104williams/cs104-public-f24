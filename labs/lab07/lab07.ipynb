{
 "cells": [
  {
   "cell_type": "code",
   "execution_count": null,
   "id": "a0926ef5",
   "metadata": {
    "deletable": false,
    "editable": false
   },
   "outputs": [],
   "source": [
    "# Initialize Otter\n",
    "import otter\n",
    "grader = otter.Notebook(\"lab07.ipynb\")"
   ]
  },
  {
   "cell_type": "markdown",
   "id": "fd0ebc20",
   "metadata": {
    "deletable": false,
    "editable": false
   },
   "source": [
    "<table style=\"width: 100%;\">\n",
    "<tr style=\"background-color: transparent;\">\n",
    "<td width=\"100px\"><img src=\"https://cs104williams.github.io/assets/cs104-logo.png\" width=\"90px\" style=\"text-align: center\"/></td>\n",
    "<td>\n",
    "  <p style=\"margin-bottom: 0px; text-align: left; font-size: 18pt;\"><strong>CSCI 104: Data Science and Computing for All</strong><br>\n",
    "                Williams College<br>\n",
    "                Fall 2024</p>\n",
    "</td>\n",
    "</tr>\n"
   ]
  },
  {
   "cell_type": "markdown",
   "id": "4ac03628",
   "metadata": {
    "deletable": false,
    "editable": false
   },
   "source": [
    "# Lab 7: Hypothesis Testing"
   ]
  },
  {
   "cell_type": "markdown",
   "id": "6d5c63cd",
   "metadata": {
    "deletable": false,
    "editable": false
   },
   "source": [
    "<hr style=\"margin: 0px; border: 3px solid #500082;\"/>\n",
    "\n",
    "<h2>Instructions</h2>\n",
    "\n",
    "- Before you begin, execute the cell at the TOP of the notebook to load the provided tests, as well as the following cell to setup the notebook by importing some helpful libraries. Each time you start your server, you will need to execute these cells again.  \n",
    "- Be sure to consult your [Python Reference](https://cs104williams.github.io/assets/python-library-ref.html)!\n",
    "- Complete this notebook by filling in the cells provided. For problems asking you to write explanations, you **must** provide your answer in the designated space. \n",
    "- Please be sure to not re-assign variables throughout the notebook.  For example, if you use `max_temperature` in your answer to one question, do not reassign it later on. Otherwise, you will fail tests that you thought you were passing previously.\n",
    "- This lab has hidden tests on it. That means even though tests may say 100% passed, doesn't mean your final grade will be 100%. We will be running more tests for correctness once everyone turns in the lab.\n",
    "- To use one or more late days on this lab, please fill out our [late day form](https://forms.gle/4sD16h3hN1xRqQM27) **before** the due date.\n",
    "\n",
    "<hr/>\n",
    "<h2>Setup</h2>\n"
   ]
  },
  {
   "cell_type": "code",
   "execution_count": null,
   "id": "c21edafc",
   "metadata": {
    "deletable": false,
    "editable": false,
    "execution": {
     "iopub.execute_input": "2024-11-01T09:52:59.641151Z",
     "iopub.status.busy": "2024-11-01T09:52:59.640910Z",
     "iopub.status.idle": "2024-11-01T09:53:01.278804Z",
     "shell.execute_reply": "2024-11-01T09:53:01.278042Z"
    },
    "tags": []
   },
   "outputs": [],
   "source": [
    "# Run this cell to set up the notebook.\n",
    "# These lines import the numpy, datascience, and cs104 libraries.\n",
    "\n",
    "import numpy as np\n",
    "from datascience import *\n",
    "from cs104 import *\n",
    "%matplotlib inline"
   ]
  },
  {
   "cell_type": "markdown",
   "id": "a1662782",
   "metadata": {
    "deletable": false,
    "editable": false
   },
   "source": [
    "In this lab, we give you three real-world datasets and you will run hypothesis tests for each. We will structure our questions around these six steps (although sometimes we break these steps down even further into smaller parts)."
   ]
  },
  {
   "cell_type": "markdown",
   "id": "8fc3d20e",
   "metadata": {
    "deletable": false,
    "editable": false,
    "tags": []
   },
   "source": [
    "---\n",
    "\n",
    "**Steps for hypothesis testing.**\n",
    "\n",
    "A. Define a Null and Alternate Hypothesis.\n",
    "\n",
    "B. Choose a test statistic (typically an absolute difference in means or proportions).\n",
    "\n",
    "C. Compute the test statistic for the observed data.\n",
    "\n",
    "D. Simulate many samples according to the Null Hypothesis's model, and compute the test statistic for each of thoese samples.\n",
    "\n",
    "E. Calculate the p-value by comparing your observed statistic to the simulated test statistics.\n",
    "\n",
    "F. Use the p-value and p-value cutoff to draw a conclusion about the Null Hypothesis.\n",
    "\n",
    "---"
   ]
  },
  {
   "cell_type": "markdown",
   "id": "28a782e1",
   "metadata": {
    "deletable": false,
    "editable": false
   },
   "source": [
    "<hr style=\"margin-bottom: 0px; padding:0; border: 2px solid #500082;\"/>\n"
   ]
  },
  {
   "cell_type": "markdown",
   "id": "35e94098",
   "metadata": {
    "deletable": false,
    "editable": false,
    "tags": []
   },
   "source": [
    "## 1. Therapeutic Touch (50 pts)\n",
    "\n"
   ]
  },
  {
   "cell_type": "markdown",
   "id": "648857e8",
   "metadata": {
    "deletable": false,
    "editable": false
   },
   "source": [
    "<font color='#B1008E'>\n",
    "\n",
    "##### Learning objectives\n",
    "- Use simulation and test statistics to reject or fail to reject a null hypothesis.\n",
    "- Compute a p-value to assess the statistical significance.\n",
    "</font>\n",
    "</font>"
   ]
  },
  {
   "cell_type": "markdown",
   "id": "8d626816",
   "metadata": {
    "deletable": false,
    "editable": false,
    "tags": []
   },
   "source": [
    "#### What is the Therapeutic Touch?\n",
    "\n",
    "The Therapeutic Touch (TT) is the idea that everyone can field the Human Energy Field (HEF) around individuals. Certain practictioners claim they have the ability to feel the HEF and can massage it in order to promote health and relaxation in individuals. Those who practice TT have described different people's HEFs as \"warm as Jell-O\" and \"tactile as taffy\". \n",
    "\n",
    "TT was a popular technique used throughout the 20th century that was recommended as a great way to bring balance to a person's health. \n",
    "\n",
    "##### Emily Rosa\n",
    "\n",
    "Emily Rosa was a 4th grade student who had wide exposure to the world of TT due to her parents. Her parents were both medical practitioners and skeptics of the idea of TT. \n",
    "\n",
    "For her 4th grade science fair project, Emily decided to test whether or not TT practitioners could truly had any interaction with a person's HEF. "
   ]
  },
  {
   "cell_type": "markdown",
   "id": "24346787",
   "metadata": {
    "deletable": false,
    "editable": false
   },
   "source": [
    "##### Emily's Experiment\n",
    "\n",
    "Emily's experiement was clean, simple, elegant, and effective. Due to her parents occupations in the medical field, she had wide access to people who claimed to be TT practitioners. \n",
    "\n",
    "Emily took 21 TT practitioners and used them for her science experiment. She would take a TT practitioner, ask them to extend their hands through a screen (through which they can't see). On the other side would be Emily, who would flip a coin and put out either her left hand or her right hand, depending on the coin. The TT practitioner would then have to correctly answer which hand Emily put out. Overall, through 210 samples, the practitioner picked the correct hand 44% of the time. \n",
    "\n",
    "Emily's main goal here was to test whether or not the TT practitioners guesses were random, like a flip of the coin. "
   ]
  },
  {
   "cell_type": "markdown",
   "id": "fdfb1302",
   "metadata": {
    "deletable": false,
    "editable": false
   },
   "source": [
    "<!-- BEGIN QUESTION -->\n",
    "\n",
    "#### Part 1.1 Step A: Define a Null and Alt Hypothesis (5 pts)\n"
   ]
  },
  {
   "cell_type": "markdown",
   "id": "499d6046",
   "metadata": {
    "deletable": false,
    "editable": false
   },
   "source": [
    "State the Null and Alternative Hypothesis for Emily's experiment.  Keep in mind that you must be able to simulate the Null Hypothesis to generate random samples.  "
   ]
  },
  {
   "cell_type": "markdown",
   "id": "6000dd5e",
   "metadata": {
    "deletable": false,
    "editable": false
   },
   "source": [
    "<hr style=\"margin:0; border: 1px solid #FFBE0A;\"/><font color='#FFBE0A'>Written Answer:</font>"
   ]
  },
  {
   "cell_type": "markdown",
   "id": "443a1ca9",
   "metadata": {
    "deletable": false
   },
   "source": [
    "Type your answer here:\n",
    "\n",
    "* Null Hypothesis:  ...\n",
    "\n",
    "* Alternative Hypothesis:  ...\n"
   ]
  },
  {
   "cell_type": "markdown",
   "id": "66bcfd0f",
   "metadata": {
    "deletable": false
   },
   "source": [
    "<hr style=\"margin:0; border: 1px solid #FFBE0A;\"/>"
   ]
  },
  {
   "cell_type": "markdown",
   "id": "5b7ca1cd",
   "metadata": {
    "deletable": false,
    "editable": false
   },
   "source": [
    "<!-- END QUESTION -->\n",
    "\n",
    "#### Part 1.2 Expected Outcome Under Null Hypothesis (5 pts)\n"
   ]
  },
  {
   "cell_type": "markdown",
   "id": "fe4b43cb",
   "metadata": {
    "deletable": false,
    "editable": false
   },
   "source": [
    "Remember that the pracitioner got the correct answer 44% of the time. Under the Null Hypothesis, on average, what proportion of times do we expect the practitioner to guess the correct hand? Make sure your answer is between 0 and 1. "
   ]
  },
  {
   "cell_type": "code",
   "execution_count": null,
   "id": "4476f91e",
   "metadata": {
    "deletable": false,
    "execution": {
     "iopub.execute_input": "2024-11-01T09:53:01.284376Z",
     "iopub.status.busy": "2024-11-01T09:53:01.283990Z",
     "iopub.status.idle": "2024-11-01T09:53:01.289151Z",
     "shell.execute_reply": "2024-11-01T09:53:01.288628Z"
    },
    "tags": []
   },
   "outputs": [],
   "source": [
    "tt_expected_correct_proportion = ...\n",
    "tt_expected_correct_proportion"
   ]
  },
  {
   "cell_type": "code",
   "execution_count": null,
   "id": "3a1aa838",
   "metadata": {
    "deletable": false,
    "editable": false
   },
   "outputs": [],
   "source": [
    "grader.check(\"p1.2\")"
   ]
  },
  {
   "cell_type": "markdown",
   "id": "95078c80",
   "metadata": {
    "deletable": false,
    "editable": false
   },
   "source": [
    "The goal now is to see if our deviation from this expected proportion of correct answers is due to something other than chance. "
   ]
  },
  {
   "cell_type": "markdown",
   "id": "09ac1374",
   "metadata": {
    "deletable": false,
    "editable": false
   },
   "source": [
    "#### Part 1.3 Step B: Test statistic (5 pts)\n"
   ]
  },
  {
   "cell_type": "markdown",
   "id": "ff984517",
   "metadata": {
    "deletable": false,
    "editable": false
   },
   "source": [
    "We'll use the absolute difference between the expected proportion of correct answers under the null hypothesis (which you defined as a variable above) and the actual proportion of correct answers as our test statistic.\n",
    "\n",
    "\n",
    "Define the function `tt_test_statistic` that takes in an actual proportion, and returns the value of this test statistic.  Your code should use the variable `tt_expected_correct_proportion` that you defined above."
   ]
  },
  {
   "cell_type": "code",
   "execution_count": null,
   "id": "0e43459e",
   "metadata": {
    "deletable": false,
    "execution": {
     "iopub.execute_input": "2024-11-01T09:53:01.304536Z",
     "iopub.status.busy": "2024-11-01T09:53:01.304316Z",
     "iopub.status.idle": "2024-11-01T09:53:01.307432Z",
     "shell.execute_reply": "2024-11-01T09:53:01.306764Z"
    },
    "tags": []
   },
   "outputs": [],
   "source": [
    "def tt_test_statistic(actual_proportion):\n",
    "    ..."
   ]
  },
  {
   "cell_type": "code",
   "execution_count": null,
   "id": "9d41b81e",
   "metadata": {
    "deletable": false,
    "editable": false
   },
   "outputs": [],
   "source": [
    "grader.check(\"p1.3\")"
   ]
  },
  {
   "cell_type": "markdown",
   "id": "9ae17268",
   "metadata": {
    "deletable": false,
    "editable": false
   },
   "source": [
    "#### Part 1.4 Step C: Test Statistic for Observed Data (5 pts)\n"
   ]
  },
  {
   "cell_type": "markdown",
   "id": "d50b18d7",
   "metadata": {
    "deletable": false,
    "editable": false
   },
   "source": [
    "Use your newly defined function to calculate the observed test statistic from Emily's experiment where the practicioner was correct 44% of the time."
   ]
  },
  {
   "cell_type": "code",
   "execution_count": null,
   "id": "e7dfcc7c",
   "metadata": {
    "deletable": false,
    "execution": {
     "iopub.execute_input": "2024-11-01T09:53:01.328819Z",
     "iopub.status.busy": "2024-11-01T09:53:01.328592Z",
     "iopub.status.idle": "2024-11-01T09:53:01.332448Z",
     "shell.execute_reply": "2024-11-01T09:53:01.331918Z"
    },
    "tags": []
   },
   "outputs": [],
   "source": [
    "observed_tt_test_statistic = ...\n",
    "observed_tt_test_statistic"
   ]
  },
  {
   "cell_type": "code",
   "execution_count": null,
   "id": "9497c674",
   "metadata": {
    "deletable": false,
    "editable": false
   },
   "outputs": [],
   "source": [
    "grader.check(\"p1.4\")"
   ]
  },
  {
   "cell_type": "markdown",
   "id": "b784516b",
   "metadata": {
    "deletable": false,
    "editable": false
   },
   "source": [
    "#### Part 1.5 Proportions Corrent/Incorrect for Null Hypothesis model (5 pts)\n"
   ]
  },
  {
   "cell_type": "markdown",
   "id": "1ec09404",
   "metadata": {
    "deletable": false,
    "editable": false
   },
   "source": [
    "Was the observed test statistic you just calculated due to chance? To address this question, we'll assume the Null Hypothesis model assumption's are true, simulate samples according to the Null Hypothesis model, and calculate the test statistic for each simulation.\n",
    "\n",
    "As a first step define an array `tt_null_model_proportions` containing two elements that reflect the proportions of correct and incorrect answers expected by a TT practictioner under the Null Hypothesis."
   ]
  },
  {
   "cell_type": "code",
   "execution_count": null,
   "id": "5c0c31c2",
   "metadata": {
    "deletable": false,
    "execution": {
     "iopub.execute_input": "2024-11-01T09:53:01.346905Z",
     "iopub.status.busy": "2024-11-01T09:53:01.346702Z",
     "iopub.status.idle": "2024-11-01T09:53:01.349653Z",
     "shell.execute_reply": "2024-11-01T09:53:01.349088Z"
    },
    "tags": []
   },
   "outputs": [],
   "source": [
    "tt_null_model_proportions = ..."
   ]
  },
  {
   "cell_type": "code",
   "execution_count": null,
   "id": "0fcec7d6",
   "metadata": {
    "deletable": false,
    "editable": false
   },
   "outputs": [],
   "source": [
    "grader.check(\"p1.5\")"
   ]
  },
  {
   "cell_type": "markdown",
   "id": "599541e9",
   "metadata": {
    "deletable": false,
    "editable": false
   },
   "source": [
    "#### Part 1.6 Make Sample: Generate Sample According to Null Hypothesis (5 pts)\n"
   ]
  },
  {
   "cell_type": "markdown",
   "id": "875ee8d5",
   "metadata": {
    "deletable": false,
    "editable": false
   },
   "source": [
    "Now, define a function `one_tt_sample` that creates a sample for one simulation round.  That function should use your `tt_null_model_proportions` to simulate what proportion of the time TT practioners choose the correct hand.  In other words, your function should return the proportion of correct answers in the simulated sample.\n",
    "\n",
    "Emily asked TT practitioners to pick a hand 210 times.  That will be the size of our samples during simulation, but to make our code more general, we'll define `one_tt_sample` to take the sample size as a parameter.\n",
    "\n",
    "**Run your function a number of times to gain confidence it is working properly.**  You should see some variability in the samples that are produced."
   ]
  },
  {
   "cell_type": "code",
   "execution_count": null,
   "id": "d3f6b376",
   "metadata": {
    "deletable": false,
    "execution": {
     "iopub.execute_input": "2024-11-01T09:53:01.381036Z",
     "iopub.status.busy": "2024-11-01T09:53:01.380816Z",
     "iopub.status.idle": "2024-11-01T09:53:01.385296Z",
     "shell.execute_reply": "2024-11-01T09:53:01.384784Z"
    },
    "tags": []
   },
   "outputs": [],
   "source": [
    "def one_tt_sample(sample_size):\n",
    "    proportion_correct = ...\n",
    "    return proportion_correct\n",
    "\n",
    "# Show the result of one simulation of size 210.\n",
    "one_tt_sample(210)"
   ]
  },
  {
   "cell_type": "code",
   "execution_count": null,
   "id": "f51e70ac",
   "metadata": {
    "deletable": false,
    "editable": false
   },
   "outputs": [],
   "source": [
    "grader.check(\"p1.6\")"
   ]
  },
  {
   "cell_type": "markdown",
   "id": "075d9399",
   "metadata": {
    "deletable": false,
    "editable": false
   },
   "source": [
    "#### Part 1.7 Step D: Simulate A Few Samples (5 pts)\n"
   ]
  },
  {
   "cell_type": "markdown",
   "id": "0d476b78",
   "metadata": {
    "deletable": false,
    "editable": false
   },
   "source": [
    "Now let's create a simulated distribution of test statistics under the null hypothesis.\n",
    "\n",
    "We'll first call the function to create only 5 sample statistics to help you debug, and then we'll provide another cell below to conduct a large simulation.\n",
    "\n",
    "Hints: \n",
    "- Examine the documentation for the function `simulate_sample_statistic`. \n",
    "- What functions have you already implemented that you'll use as inputs to `simulate_sample_statistic`?\n",
    "- How many samples did Emily Rosa have? "
   ]
  },
  {
   "cell_type": "code",
   "execution_count": null,
   "id": "b4ae4e74",
   "metadata": {
    "deletable": false,
    "execution": {
     "iopub.execute_input": "2024-11-01T09:53:01.399918Z",
     "iopub.status.busy": "2024-11-01T09:53:01.399690Z",
     "iopub.status.idle": "2024-11-01T09:53:01.404524Z",
     "shell.execute_reply": "2024-11-01T09:53:01.403998Z"
    },
    "tags": []
   },
   "outputs": [],
   "source": [
    "small_tt_test = simulate_sample_statistic(...,\n",
    "                                          ...,\n",
    "                                          ...,\n",
    "                                          5)\n",
    "\n",
    "\n",
    "# Inspect the output!\n",
    "small_tt_test"
   ]
  },
  {
   "cell_type": "code",
   "execution_count": null,
   "id": "a9db9fc2",
   "metadata": {
    "deletable": false,
    "editable": false
   },
   "outputs": [],
   "source": [
    "grader.check(\"p1.7\")"
   ]
  },
  {
   "cell_type": "markdown",
   "id": "aef9124b",
   "metadata": {
    "deletable": false,
    "editable": false
   },
   "source": [
    "#### Part 1.8 Step D: Simulate Many Samples (5 pts)\n"
   ]
  },
  {
   "cell_type": "markdown",
   "id": "3adbfc27",
   "metadata": {
    "deletable": false,
    "editable": false
   },
   "source": [
    "Now assign `simulated_tt_statistics` to an array of 1000 test statistics that you simulated and visually compare how the observed test statistic and the distribution of the simulated test statistics under the Null Hypothesis compare. "
   ]
  },
  {
   "cell_type": "code",
   "execution_count": null,
   "id": "f5705e46",
   "metadata": {
    "deletable": false,
    "execution": {
     "iopub.execute_input": "2024-11-01T09:53:01.424848Z",
     "iopub.status.busy": "2024-11-01T09:53:01.424580Z",
     "iopub.status.idle": "2024-11-01T09:53:01.455143Z",
     "shell.execute_reply": "2024-11-01T09:53:01.454426Z"
    },
    "tags": []
   },
   "outputs": [],
   "source": [
    "num_tt_trials = ...\n",
    "simulated_tt_statistics = simulate_sample_statistic(...,\n",
    "                                                    ...,\n",
    "                                                    ...,\n",
    "                                                    num_tt_trials)\n"
   ]
  },
  {
   "cell_type": "code",
   "execution_count": null,
   "id": "df6dd83d",
   "metadata": {
    "deletable": false,
    "editable": false,
    "execution": {
     "iopub.execute_input": "2024-11-01T09:53:01.469724Z",
     "iopub.status.busy": "2024-11-01T09:53:01.469526Z",
     "iopub.status.idle": "2024-11-01T09:53:01.765565Z",
     "shell.execute_reply": "2024-11-01T09:53:01.765003Z"
    }
   },
   "outputs": [],
   "source": [
    "# Visualize the results\n",
    "plot = Table().with_column('abs(expected - actual proportion correct)', simulated_tt_statistics).hist(left_end=observed_tt_test_statistic)\n",
    "plot.dot(observed_tt_test_statistic)"
   ]
  },
  {
   "cell_type": "markdown",
   "id": "921475b2",
   "metadata": {
    "deletable": false,
    "editable": false
   },
   "source": [
    "We can make a visual argument as to whether or not we believe the observed test statistic is likely to occur under the null, or we can use the definition of p-values to help us make a more formal argument."
   ]
  },
  {
   "cell_type": "code",
   "execution_count": null,
   "id": "23032ed1",
   "metadata": {
    "deletable": false,
    "editable": false
   },
   "outputs": [],
   "source": [
    "grader.check(\"p1.8\")"
   ]
  },
  {
   "cell_type": "markdown",
   "id": "67cd3c71",
   "metadata": {
    "deletable": false,
    "editable": false
   },
   "source": [
    "#### Part 1.9 Step E: Calculate p-value (5 pts)\n"
   ]
  },
  {
   "cell_type": "markdown",
   "id": "71166d3a",
   "metadata": {
    "deletable": false,
    "editable": false
   },
   "source": [
    "Recall, the p-value is the chance a test statistic simulated under the Null Hypothesis is equal to the value of the observed (real-world) test statistic or is even further in the direction of the Alternative Hypothesis.\n",
    "\n",
    "Using `simulated_tt_statistics` and `observed_tt_test_statistic`, as well as the [empirical_pvalue](https://www.cs.williams.edu/~cs104/auto/inference-library-ref.html#empirical_pvalue) function from our library  to calculate the p-value.  This is our library's implementation of the function you wrote for Prelab 7."
   ]
  },
  {
   "cell_type": "code",
   "execution_count": null,
   "id": "13c70e26",
   "metadata": {
    "deletable": false,
    "execution": {
     "iopub.execute_input": "2024-11-01T09:53:01.768630Z",
     "iopub.status.busy": "2024-11-01T09:53:01.768442Z",
     "iopub.status.idle": "2024-11-01T09:53:01.772046Z",
     "shell.execute_reply": "2024-11-01T09:53:01.771619Z"
    },
    "tags": []
   },
   "outputs": [],
   "source": [
    "tt_p_val = ...\n",
    "tt_p_val"
   ]
  },
  {
   "cell_type": "code",
   "execution_count": null,
   "id": "b1979b6c",
   "metadata": {
    "deletable": false,
    "editable": false
   },
   "outputs": [],
   "source": [
    "grader.check(\"p1.9\")"
   ]
  },
  {
   "cell_type": "markdown",
   "id": "280a29ad",
   "metadata": {
    "deletable": false,
    "editable": false
   },
   "source": [
    "<!-- BEGIN QUESTION -->\n",
    "\n",
    "#### Part 1.10 Step F: Draw Conclusion (5 pts)\n"
   ]
  },
  {
   "cell_type": "markdown",
   "id": "6b25fc89",
   "metadata": {
    "deletable": false,
    "editable": false
   },
   "source": [
    "Given the conventional p-value cutoff of 0.05, do we reject or fail to reject the Null Hypothesis?  What conclusions can you draw from Emily Rosa's experiment?"
   ]
  },
  {
   "cell_type": "markdown",
   "id": "4c10bdb8",
   "metadata": {
    "deletable": false,
    "editable": false
   },
   "source": [
    "<hr style=\"margin:0; border: 1px solid #FFBE0A;\"/><font color='#FFBE0A'>Written Answer:</font>"
   ]
  },
  {
   "cell_type": "markdown",
   "id": "fe48785d",
   "metadata": {
    "deletable": false
   },
   "source": [
    "_Type your answer here, replacing this text._\n"
   ]
  },
  {
   "cell_type": "markdown",
   "id": "0db00f1e",
   "metadata": {
    "deletable": false,
    "editable": false
   },
   "source": [
    "<hr style=\"margin:0; border: 1px solid #FFBE0A;\"/>"
   ]
  },
  {
   "cell_type": "markdown",
   "id": "0d564eb0",
   "metadata": {
    "deletable": false,
    "editable": false
   },
   "source": [
    "<!-- END QUESTION -->\n",
    "\n",
    "Checkout [this Wikipedia page](https://en.wikipedia.org/wiki/Emily_Rosa) to learn more about Emily Rosa, the youngest person to have a research paper published in a peer reviewed medical journal."
   ]
  },
  {
   "cell_type": "markdown",
   "id": "19ceb02f",
   "metadata": {
    "deletable": false,
    "editable": false
   },
   "source": [
    "<hr style=\"margin-bottom: 0px; padding:0; border: 2px solid #500082;\"/>\n"
   ]
  },
  {
   "cell_type": "markdown",
   "id": "9d36e550",
   "metadata": {
    "deletable": false,
    "editable": false
   },
   "source": [
    "## 2. Using TVD as a Test Statistic (40 pts)\n",
    "\n"
   ]
  },
  {
   "cell_type": "markdown",
   "id": "5dbb9cf3",
   "metadata": {
    "deletable": false,
    "editable": false
   },
   "source": [
    "<font color='#B1008E'>\n",
    "    \n",
    "##### Learning objectives\n",
    "- Utilize the TVD Test statistic for comparing distributions\n",
    "- Use simulation and test statistics to reject or fail to reject a null hypothesis\n",
    "</font>"
   ]
  },
  {
   "cell_type": "markdown",
   "id": "3f47fa3e",
   "metadata": {
    "deletable": false,
    "editable": false
   },
   "source": [
    "Total variation distance (TVD) is the test statistic that we have used to compare two distributions of categorical data. Recall we define TVD as:\n",
    "\n",
    "$$\\frac{sum( \\mbox{absolute difference in proportion for each category})}{2}$$\n",
    "\n",
    "You may wish to refer to [Chatper 11.2](https://inferentialthinking.com/chapters/11/2/Multiple_Categories.html#a-new-statistic-the-distance-between-two-distributions) and our lecture on [Assessing Models](https://www.cs.williams.edu/~cs104/index.html) if you'd like a refresher on TVD."
   ]
  },
  {
   "cell_type": "markdown",
   "id": "5e58a835",
   "metadata": {
    "deletable": false,
    "editable": false
   },
   "source": [
    "**Run the cell below to load in the `covid` table.**  This table is based on data downloaded from the [CDC Data Catalog](https://data.cdc.gov/browse) in May, 2022, when COVID-related deaths in the U.S. reached one million.  The table shows, as proportions, the Race and Hispanic Origin of a random sample of 100 people who have passed away from COVID as proportions.  It also shows the distribution of the U.S. population across those categories."
   ]
  },
  {
   "cell_type": "code",
   "execution_count": null,
   "id": "449c74bf",
   "metadata": {
    "deletable": false,
    "editable": false,
    "execution": {
     "iopub.execute_input": "2024-11-01T09:53:01.786457Z",
     "iopub.status.busy": "2024-11-01T09:53:01.786264Z",
     "iopub.status.idle": "2024-11-01T09:53:01.791934Z",
     "shell.execute_reply": "2024-11-01T09:53:01.791502Z"
    },
    "tags": []
   },
   "outputs": [],
   "source": [
    "covid = Table.read_table(\"covid-deaths.csv\")\n",
    "covid.show()"
   ]
  },
  {
   "cell_type": "markdown",
   "id": "e572118f",
   "metadata": {
    "deletable": false,
    "editable": false
   },
   "source": [
    "<!-- BEGIN QUESTION -->\n",
    "\n",
    "#### Part 2.1 Explore the Data (5 pts)\n"
   ]
  },
  {
   "cell_type": "markdown",
   "id": "88406a61",
   "metadata": {
    "deletable": false,
    "editable": false
   },
   "source": [
    "Create an overlaid bar chart of the \"COVID-19 deaths\" and \"Population\" columns."
   ]
  },
  {
   "cell_type": "code",
   "execution_count": null,
   "id": "96b23dca",
   "metadata": {
    "deletable": false,
    "execution": {
     "iopub.execute_input": "2024-11-01T09:53:01.794451Z",
     "iopub.status.busy": "2024-11-01T09:53:01.794268Z",
     "iopub.status.idle": "2024-11-01T09:53:02.081617Z",
     "shell.execute_reply": "2024-11-01T09:53:02.081104Z"
    },
    "tags": []
   },
   "outputs": [],
   "source": [
    "..."
   ]
  },
  {
   "cell_type": "markdown",
   "id": "d754a3c0",
   "metadata": {
    "deletable": false,
    "editable": false
   },
   "source": [
    "<!-- END QUESTION -->\n",
    "\n",
    "<!-- BEGIN QUESTION -->\n",
    "\n",
    "#### Part 2.2 What do you see? (5 pts)\n"
   ]
  },
  {
   "cell_type": "markdown",
   "id": "5b7c1963",
   "metadata": {
    "deletable": false,
    "editable": false
   },
   "source": [
    "What differences can you identify between the two distributions in the bar chart?  In particular, compare the death rates for specific groups in the 100-person sample to the proportions of these groups in the population.  "
   ]
  },
  {
   "cell_type": "markdown",
   "id": "44cd629d",
   "metadata": {
    "deletable": false,
    "editable": false
   },
   "source": [
    "<hr style=\"margin:0; border: 1px solid #FFBE0A;\"/><font color='#FFBE0A'>Written Answer:</font>"
   ]
  },
  {
   "cell_type": "markdown",
   "id": "0498e0f6",
   "metadata": {
    "deletable": false
   },
   "source": [
    "_Type your answer here, replacing this text._\n"
   ]
  },
  {
   "cell_type": "markdown",
   "id": "5284ce58",
   "metadata": {
    "deletable": false,
    "editable": false
   },
   "source": [
    "<hr style=\"margin:0; border: 1px solid #FFBE0A;\"/>"
   ]
  },
  {
   "cell_type": "markdown",
   "id": "4d582461",
   "metadata": {
    "deletable": false,
    "editable": false
   },
   "source": [
    "<!-- END QUESTION -->\n",
    "\n",
    "<!-- BEGIN QUESTION -->\n",
    "\n",
    "#### Part 2.3 Step A: State Your Hypotheses (5 pts)\n"
   ]
  },
  {
   "cell_type": "markdown",
   "id": "3a9871bc",
   "metadata": {
    "deletable": false,
    "editable": false
   },
   "source": [
    "We wish to test whether the disproportionate death rates are due to just chance or to other factors.  Define the Null Hypothesis, Alternative Hypothesis, and test statistic in the cell below."
   ]
  },
  {
   "cell_type": "markdown",
   "id": "0cf13cb2",
   "metadata": {
    "deletable": false,
    "editable": false
   },
   "source": [
    "<hr style=\"margin:0; border: 1px solid #FFBE0A;\"/><font color='#FFBE0A'>Written Answer:</font>"
   ]
  },
  {
   "cell_type": "markdown",
   "id": "6192e557",
   "metadata": {
    "deletable": false
   },
   "source": [
    "Type your answer here:\n",
    "\n",
    "* Null Hypothesis:\n",
    "\n",
    "* Alternative Hypothesis:\n",
    "\n",
    "* Test Statistic:\n"
   ]
  },
  {
   "cell_type": "markdown",
   "id": "771085da",
   "metadata": {
    "deletable": false
   },
   "source": [
    "<hr style=\"margin:0; border: 1px solid #FFBE0A;\"/>"
   ]
  },
  {
   "cell_type": "markdown",
   "id": "a2f92dba",
   "metadata": {
    "deletable": false,
    "editable": false
   },
   "source": [
    "<!-- END QUESTION -->\n",
    "\n",
    "#### Part 2.4 Steps B & C: Test Statistics (5 pts)\n"
   ]
  },
  {
   "cell_type": "markdown",
   "id": "6e38fba8",
   "metadata": {
    "deletable": false,
    "editable": false
   },
   "source": [
    "Write a function `total_variation_distance` that takes as input two distributions and computes the TVD statistic on these two distributions.  \n",
    "\n",
    "**Hint:** We have written this function before in [lecture](https://www.cs.williams.edu/~cs104/lectures/19-hypothesis-testing.html#tvd-statistic-distance-between-two-distributions) -- do not start from scratch! \n",
    " \n",
    "Then use this function to set `observed_covid_test_statistic` to be equal to the observed test statistic for the data in `covid`. "
   ]
  },
  {
   "cell_type": "code",
   "execution_count": null,
   "id": "c2434216",
   "metadata": {
    "deletable": false,
    "execution": {
     "iopub.execute_input": "2024-11-01T09:53:02.086341Z",
     "iopub.status.busy": "2024-11-01T09:53:02.086144Z",
     "iopub.status.idle": "2024-11-01T09:53:02.091110Z",
     "shell.execute_reply": "2024-11-01T09:53:02.090664Z"
    },
    "tags": []
   },
   "outputs": [],
   "source": [
    "def total_variation_distance(distribution1, distribution2):\n",
    "    ...\n",
    "    \n",
    "observed_covid_test_statistic = ...\n",
    "observed_covid_test_statistic"
   ]
  },
  {
   "cell_type": "code",
   "execution_count": null,
   "id": "58718560",
   "metadata": {
    "deletable": false,
    "editable": false
   },
   "outputs": [],
   "source": [
    "grader.check(\"p2.4\")"
   ]
  },
  {
   "cell_type": "markdown",
   "id": "92b51cdf",
   "metadata": {
    "deletable": false,
    "editable": false
   },
   "source": [
    "#### Part 2.5 Make Sample (5 pts)\n"
   ]
  },
  {
   "cell_type": "markdown",
   "id": "b0397477",
   "metadata": {
    "deletable": false,
    "editable": false,
    "tags": []
   },
   "source": [
    "Under the null hypothesis, we'll simulate a sample many times. \n",
    "\n",
    "For our COVID scenario, we take the following steps to obtain **one sample**: We use the distribution from the COVID population and sample from each category in this distribution for a total of `sample_size` times. \n",
    "\n",
    "Use the `sample_proportions` function from our library to sample from the population in the `covid` table. "
   ]
  },
  {
   "cell_type": "code",
   "execution_count": null,
   "id": "d6589b79",
   "metadata": {
    "deletable": false,
    "execution": {
     "iopub.execute_input": "2024-11-01T09:53:02.103945Z",
     "iopub.status.busy": "2024-11-01T09:53:02.103755Z",
     "iopub.status.idle": "2024-11-01T09:53:02.106358Z",
     "shell.execute_reply": "2024-11-01T09:53:02.105925Z"
    },
    "tags": []
   },
   "outputs": [],
   "source": [
    "def sample_covid_proportions(sample_size): \n",
    "    population_array = ...\n",
    "    ..."
   ]
  },
  {
   "cell_type": "markdown",
   "id": "dd6dbc25",
   "metadata": {
    "deletable": false,
    "editable": false
   },
   "source": [
    "With a really large sample size, we should have the sampled proportions be approximately equal to the population. Run the following two cells to check that your function satisfies this. "
   ]
  },
  {
   "cell_type": "code",
   "execution_count": null,
   "id": "6b0eabc0",
   "metadata": {
    "deletable": false,
    "editable": false,
    "execution": {
     "iopub.execute_input": "2024-11-01T09:53:02.108570Z",
     "iopub.status.busy": "2024-11-01T09:53:02.108404Z",
     "iopub.status.idle": "2024-11-01T09:53:02.112158Z",
     "shell.execute_reply": "2024-11-01T09:53:02.111706Z"
    },
    "tags": []
   },
   "outputs": [],
   "source": [
    "# One sample with a large sample size. \n",
    "sampled = sample_covid_proportions(100000)\n",
    "sampled"
   ]
  },
  {
   "cell_type": "code",
   "execution_count": null,
   "id": "3bb5663e",
   "metadata": {
    "deletable": false,
    "editable": false
   },
   "outputs": [],
   "source": [
    "grader.check(\"p2.5\")"
   ]
  },
  {
   "cell_type": "markdown",
   "id": "9959abc8",
   "metadata": {
    "deletable": false,
    "editable": false
   },
   "source": [
    "#### Part 2.6 Step D: Create Sample and Compute Test Statistic Many Times (5 pts)\n"
   ]
  },
  {
   "cell_type": "markdown",
   "id": "0a68a9ef",
   "metadata": {
    "deletable": false,
    "editable": false
   },
   "source": [
    "Great! We've implemented TVD (the test statistic) and a way to sample from the population. \n",
    "\n",
    "However, we can simplify our test statistic function here. We know that for every sample (whether that sample is the observed sample or a sample simulated from the null hypothesis) that we will calculate the TVD between the sample and and the `\"Population\"` from the `covid` table. "
   ]
  },
  {
   "cell_type": "code",
   "execution_count": null,
   "id": "6f68bfb0",
   "metadata": {
    "deletable": false,
    "editable": false,
    "execution": {
     "iopub.execute_input": "2024-11-01T09:53:02.124803Z",
     "iopub.status.busy": "2024-11-01T09:53:02.124613Z",
     "iopub.status.idle": "2024-11-01T09:53:02.127365Z",
     "shell.execute_reply": "2024-11-01T09:53:02.126872Z"
    },
    "tags": []
   },
   "outputs": [],
   "source": [
    "# Run this function\n",
    "def covid_tvd_statistic(sample):\n",
    "    \"\"\"\n",
    "    Returns the total variation distance between the sample and population\n",
    "    \"\"\"\n",
    "    return total_variation_distance(sample, covid.column(\"Population\"))"
   ]
  },
  {
   "cell_type": "markdown",
   "id": "0675b983",
   "metadata": {
    "deletable": false,
    "editable": false
   },
   "source": [
    "To check this function, we'll combine the following two facts (1) when the sample size is large, the sample is close to the population and (2) when two distributions are very similar TVD=0. \n",
    "\n",
    "Run the following cell and confirm that the output of `covid_tvd_statistic` is close to 0. "
   ]
  },
  {
   "cell_type": "code",
   "execution_count": null,
   "id": "7132215b",
   "metadata": {
    "deletable": false,
    "editable": false,
    "execution": {
     "iopub.execute_input": "2024-11-01T09:53:02.129709Z",
     "iopub.status.busy": "2024-11-01T09:53:02.129517Z",
     "iopub.status.idle": "2024-11-01T09:53:02.132877Z",
     "shell.execute_reply": "2024-11-01T09:53:02.132397Z"
    },
    "tags": []
   },
   "outputs": [],
   "source": [
    "sample = sample_covid_proportions(100000)\n",
    "covid_tvd_statistic(sample)"
   ]
  },
  {
   "cell_type": "markdown",
   "id": "1035dfb9",
   "metadata": {
    "deletable": false,
    "editable": false
   },
   "source": [
    "We're now ready to run the simulation under the Null Hypothesis. \n",
    "\n",
    "We'll use the `simulate_sample_statistic()` function from our inference library and combine this with the functions we implemented above.  \n",
    "\n",
    "*Hint:* Go back to the beginning of the problem and read the description to get what the actual observed `sample_size` is. "
   ]
  },
  {
   "cell_type": "code",
   "execution_count": null,
   "id": "2988cb23",
   "metadata": {
    "deletable": false,
    "execution": {
     "iopub.execute_input": "2024-11-01T09:53:02.135261Z",
     "iopub.status.busy": "2024-11-01T09:53:02.135072Z",
     "iopub.status.idle": "2024-11-01T09:53:02.342560Z",
     "shell.execute_reply": "2024-11-01T09:53:02.342015Z"
    },
    "tags": []
   },
   "outputs": [],
   "source": [
    "num_trials = 10000\n",
    "#Read the description from the original problem to get the sample size \n",
    "sample_size = ...\n",
    "\n",
    "simulated_covid_test_statistcs = simulate_sample_statistic(...,\n",
    "                                                           sample_size,\n",
    "                                                           ...,\n",
    "                                                           num_trials)\n"
   ]
  },
  {
   "cell_type": "code",
   "execution_count": null,
   "id": "80e9572e",
   "metadata": {
    "deletable": false,
    "editable": false
   },
   "outputs": [],
   "source": [
    "grader.check(\"p2.6\")"
   ]
  },
  {
   "cell_type": "markdown",
   "id": "c9b618cb",
   "metadata": {
    "deletable": false,
    "editable": false
   },
   "source": [
    "Run the cell below to plot a histogram of your simulated test statistics, as well as the observed value of the test statistic."
   ]
  },
  {
   "cell_type": "code",
   "execution_count": null,
   "id": "1fb7f0df",
   "metadata": {
    "deletable": false,
    "editable": false,
    "execution": {
     "iopub.execute_input": "2024-11-01T09:53:02.355105Z",
     "iopub.status.busy": "2024-11-01T09:53:02.354938Z",
     "iopub.status.idle": "2024-11-01T09:53:02.581913Z",
     "shell.execute_reply": "2024-11-01T09:53:02.581427Z"
    },
    "tags": []
   },
   "outputs": [],
   "source": [
    "# Plot the results\n",
    "plot = Table().with_column(\"Simulated Covid TVDs\", simulated_covid_test_statistcs).hist()\n",
    "plot.dot(observed_covid_test_statistic)"
   ]
  },
  {
   "cell_type": "markdown",
   "id": "6757dedd",
   "metadata": {
    "deletable": false,
    "editable": false
   },
   "source": [
    "#### Part 2.7 Step E: Compute p-value (5 pts)\n"
   ]
  },
  {
   "cell_type": "markdown",
   "id": "70143a6e",
   "metadata": {
    "deletable": false,
    "editable": false
   },
   "source": [
    "Use the function `empirical_pvalue` and the array of simulated statistics to calculate the p-value of your hypothesis test. Make sure that this number is consistent with what you observed in the histogram above. \n",
    "\n"
   ]
  },
  {
   "cell_type": "code",
   "execution_count": null,
   "id": "f472fd84",
   "metadata": {
    "deletable": false,
    "execution": {
     "iopub.execute_input": "2024-11-01T09:53:02.585023Z",
     "iopub.status.busy": "2024-11-01T09:53:02.584838Z",
     "iopub.status.idle": "2024-11-01T09:53:02.588277Z",
     "shell.execute_reply": "2024-11-01T09:53:02.587879Z"
    },
    "tags": []
   },
   "outputs": [],
   "source": [
    "covid_p_value = ...\n",
    "covid_p_value"
   ]
  },
  {
   "cell_type": "code",
   "execution_count": null,
   "id": "233169c9",
   "metadata": {
    "deletable": false,
    "editable": false
   },
   "outputs": [],
   "source": [
    "grader.check(\"p2.7\")"
   ]
  },
  {
   "cell_type": "markdown",
   "id": "196e73f9",
   "metadata": {
    "deletable": false,
    "editable": false
   },
   "source": [
    "<!-- BEGIN QUESTION -->\n",
    "\n",
    "#### Part 2.8 Step F: Draw Conclusion (5 pts)\n"
   ]
  },
  {
   "cell_type": "markdown",
   "id": "0c00620a",
   "metadata": {
    "deletable": false,
    "editable": false
   },
   "source": [
    " What can you conclude about COVID deaths of various ethnic groups? Explain your answer using the results of your hypothesis test. Assume a p-value cutoff of 0.05. "
   ]
  },
  {
   "cell_type": "markdown",
   "id": "05ae1a3d",
   "metadata": {
    "deletable": false,
    "editable": false
   },
   "source": [
    "<hr style=\"margin:0; border: 1px solid #FFBE0A;\"/><font color='#FFBE0A'>Written Answer:</font>"
   ]
  },
  {
   "cell_type": "markdown",
   "id": "8705cf04",
   "metadata": {
    "deletable": false
   },
   "source": [
    "_Type your answer here, replacing this text._\n"
   ]
  },
  {
   "cell_type": "markdown",
   "id": "d274ac1f",
   "metadata": {
    "deletable": false,
    "editable": false
   },
   "source": [
    "<hr style=\"margin:0; border: 1px solid #FFBE0A;\"/>"
   ]
  },
  {
   "cell_type": "markdown",
   "id": "4e8e2cc1",
   "metadata": {
    "deletable": false,
    "editable": false
   },
   "source": [
    "<!-- END QUESTION -->\n",
    "\n",
    "<hr style=\"margin-bottom: 0px; padding:0; border: 2px solid #500082;\"/>\n"
   ]
  },
  {
   "cell_type": "markdown",
   "id": "6a62706d",
   "metadata": {
    "deletable": false,
    "editable": false,
    "tags": []
   },
   "source": [
    "## 3. John Snow's Natural Experiment (40 pts)\n",
    "\n"
   ]
  },
  {
   "cell_type": "markdown",
   "id": "e18f8c60",
   "metadata": {
    "deletable": false,
    "editable": false
   },
   "source": [
    "<font color='#B1008E'>\n",
    "\n",
    "##### Learning objectives\n",
    "- Practice permutation testing to answer a question about data.\n",
    "</font>"
   ]
  },
  {
   "cell_type": "markdown",
   "id": "7e139144",
   "metadata": {
    "deletable": false,
    "editable": false,
    "jp-MarkdownHeadingCollapsed": true,
    "tags": []
   },
   "source": [
    "We'll now revisit one of our first examples of causality: John Snow's natural experiment to identify the cause of cholera.\n",
    "\n",
    "Recall that in 19th century London, there were two theories for how cholera spreads:\n",
    "\n",
    "* **Miasma theory**: cholera caused by particles in the air, or \"miasmata\", which arise from decomposing matter\n",
    "\n",
    "* **Germ theory**: cholera caused germ cell that had not yet been identified, but was transmitted through food or drink\n",
    "\n",
    "John Snow believed in germ theory, contrary the prevailing wisdom of miasma hypothesis at the time. \n",
    "After his investigation of cholera outbreak due to the contaminated Broad Stree pump, John Snow realized that a natural experiment existed that would enable him to evaluate germ theory.  Below is a map of London indicating the water supplier servicing each part of the city:  \n",
    "\n",
    "<img src=\"https://inferentialthinking.com/_images/snow_map2.jpg\" width=50%></img>\n",
    "\n",
    "Snow observed\n",
    "that there was no systematic difference between the people who were supplied by S&V and those supplied by Lambeth:\n",
    "\n",
    "> Each company supplies both rich and poor, both large houses and small; there is no difference either in the condition or occupation of the persons receiving the water of the different Companies … there is no difference whatever in the houses or the people receiving the supply of the two Water Companies, or in any of the physical conditions with which they are surrounded …\n",
    "\n",
    "However, there was a key difference in the water supply: \n",
    "\n",
    "> one group being supplied with water containing the sewage of London, and amongst it, whatever might have come from the cholera patients, the other group having water quite free from impurity.\n",
    "\n",
    "Specifically:\n",
    "\n",
    "* the Southwark & Vauxhaul (S&V) company drew water from the Thames **below** the city's sewage discharge.\n",
    "* the Lambeth company drew water from the Thames **above** the city's sewage discharge.\n",
    "\n",
    "Your job is to use the data Snow collected to prove or disprove that tainted water causes cholera.   We'll use the same hypothesis testing steps we've used for each of the previous questions. "
   ]
  },
  {
   "cell_type": "markdown",
   "id": "9ede03b0",
   "metadata": {
    "deletable": false,
    "editable": false
   },
   "source": [
    "#### Part 3.1 Exploring the Data (0 pts)\n",
    "\n"
   ]
  },
  {
   "cell_type": "markdown",
   "id": "e3641523",
   "metadata": {
    "deletable": false,
    "editable": false
   },
   "source": [
    "In this first part, explore the following data. We will not grade this part, but examine the contents of the table, transform/visualize it, etc. to help you understand the problem we're solving.\n",
    "\n",
    "The following cell loads our data.  Each row in our table contains the water company for one individual, and whether or not that individual died of Cholera.  \n",
    "\n",
    "In the `Cholera death` column, `0` indicates the individual *did not* die of Cholera during the time of Snow's natural experiment whereas `1` indicates the individual died of Cholera.\n",
    "\n",
    "Our data is based on Snow's original data, with two simplifications: we assume only one person lives in each household in Snow's data, and we reduce the number of measurements from ~65,000 to 5,000 to ensure our simulations run in a reasonable amount of time."
   ]
  },
  {
   "cell_type": "code",
   "execution_count": null,
   "id": "3f98330f",
   "metadata": {
    "deletable": false,
    "editable": false,
    "execution": {
     "iopub.execute_input": "2024-11-01T09:53:02.601720Z",
     "iopub.status.busy": "2024-11-01T09:53:02.601547Z",
     "iopub.status.idle": "2024-11-01T09:53:02.610170Z",
     "shell.execute_reply": "2024-11-01T09:53:02.609641Z"
    },
    "tags": []
   },
   "outputs": [],
   "source": [
    "# Load the small data set of 5,000 people\n",
    "snow = Table.read_table(\"snow_data_small.csv\")"
   ]
  },
  {
   "cell_type": "code",
   "execution_count": null,
   "id": "a856dee3",
   "metadata": {
    "deletable": false,
    "execution": {
     "iopub.execute_input": "2024-11-01T09:53:02.612601Z",
     "iopub.status.busy": "2024-11-01T09:53:02.612426Z",
     "iopub.status.idle": "2024-11-01T09:53:02.616153Z",
     "shell.execute_reply": "2024-11-01T09:53:02.615585Z"
    },
    "tags": []
   },
   "outputs": [],
   "source": [
    "# Explore the data here \n",
    "..."
   ]
  },
  {
   "cell_type": "markdown",
   "id": "67f3e30f",
   "metadata": {
    "deletable": false,
    "editable": false
   },
   "source": [
    "<!-- BEGIN QUESTION -->\n",
    "\n",
    "#### Part 3.2 Step A: Null And Alt Hypothesis (5 pts)\n",
    "\n"
   ]
  },
  {
   "cell_type": "markdown",
   "id": "03442b45",
   "metadata": {
    "deletable": false,
    "editable": false
   },
   "source": [
    "State the Null and Alternative Hypothesis for Snow's experiment.  Keep in mind that you must be able to simulate the Null Hypothesis to generate random samples.  \n",
    "\n",
    "*Hint:*  If you have trouble getting started, you may wish to review [Chapter 12](https://inferentialthinking.com/chapters/12/2/Causality.html) and our lectures on Randomized Controlled Experiments and Causality.\n"
   ]
  },
  {
   "cell_type": "markdown",
   "id": "e592a003",
   "metadata": {
    "deletable": false,
    "editable": false
   },
   "source": [
    "<hr style=\"margin:0; border: 1px solid #FFBE0A;\"/><font color='#FFBE0A'>Written Answer:</font>"
   ]
  },
  {
   "cell_type": "markdown",
   "id": "eb547eeb",
   "metadata": {
    "deletable": false
   },
   "source": [
    "Type your answer here:\n",
    "\n",
    "* Null Hypothesis:  ...\n",
    "\n",
    "* Alternative Hypothesis:  ...\n"
   ]
  },
  {
   "cell_type": "markdown",
   "id": "3cbba4f5",
   "metadata": {
    "deletable": false
   },
   "source": [
    "<hr style=\"margin:0; border: 1px solid #FFBE0A;\"/>"
   ]
  },
  {
   "cell_type": "markdown",
   "id": "c48f82c4",
   "metadata": {
    "deletable": false,
    "editable": false,
    "tags": []
   },
   "source": [
    "<!-- END QUESTION -->\n",
    "\n",
    "#### Part 3.3 Data Type for Hypothesis Test (5 pts)\n",
    "\n",
    "We have looked at four types hypothesis tests in our general framework, each tailored to a specific type of problem.  These are summarized in the following slide from [lecture](https://docs.google.com/presentation/d/1hYuDX5GI-veOwxOqDRnAVLGwPsg7f8ANc3gzbNmh4eM)."
   ]
  },
  {
   "cell_type": "markdown",
   "id": "6e026b64",
   "metadata": {
    "deletable": false,
    "editable": false
   },
   "source": [
    "<img src=\"hypothesis-testing.png\" width=80%></img>"
   ]
  },
  {
   "cell_type": "markdown",
   "id": "fc2de636",
   "metadata": {
    "deletable": false,
    "editable": false
   },
   "source": [
    "In the cell below, set `data_type` to the number below that reflects the type of data we have in Snow's experiment:\n",
    "\n",
    "1. Single Category\n",
    "2. Multiple Categories\n",
    "3. Numeric\n",
    "4. Two groups"
   ]
  },
  {
   "cell_type": "code",
   "execution_count": null,
   "id": "4bf61593",
   "metadata": {
    "deletable": false,
    "execution": {
     "iopub.execute_input": "2024-11-01T09:53:02.619649Z",
     "iopub.status.busy": "2024-11-01T09:53:02.619472Z",
     "iopub.status.idle": "2024-11-01T09:53:02.621846Z",
     "shell.execute_reply": "2024-11-01T09:53:02.621431Z"
    },
    "tags": []
   },
   "outputs": [],
   "source": [
    "data_type = ..."
   ]
  },
  {
   "cell_type": "code",
   "execution_count": null,
   "id": "9cd3ddb7",
   "metadata": {
    "deletable": false,
    "editable": false
   },
   "outputs": [],
   "source": [
    "grader.check(\"p3.3\")"
   ]
  },
  {
   "cell_type": "markdown",
   "id": "03aa11b9",
   "metadata": {
    "deletable": false,
    "editable": false,
    "tags": []
   },
   "source": [
    "<!-- BEGIN QUESTION -->\n",
    "\n",
    "#### Part 3.4 Step B & C: Test Statistic for Observed Data (5 pts)\n",
    "\n"
   ]
  },
  {
   "cell_type": "markdown",
   "id": "c9ff846c",
   "metadata": {
    "deletable": false,
    "editable": false
   },
   "source": [
    "We are interested in the difference in the proportion of deaths for the two water companies.  Deaths are indicated by 1's in our \"Cholera death\" column, and survival by 0's.  With that encoding, the proportion of deaths recorded in the \"Cholera death\" column for a water company is also the mean of the values in the \"Cholera death\" column for that water company.  As we did in lecture, we can thus use the `abs_difference_of_means` function from our library as the test statistic. \n",
    "\n",
    "In the cell below, compute this test statistic for Snow's observed data."
   ]
  },
  {
   "cell_type": "code",
   "execution_count": null,
   "id": "26b29846",
   "metadata": {
    "deletable": false,
    "execution": {
     "iopub.execute_input": "2024-11-01T09:53:02.633453Z",
     "iopub.status.busy": "2024-11-01T09:53:02.633277Z",
     "iopub.status.idle": "2024-11-01T09:53:02.681802Z",
     "shell.execute_reply": "2024-11-01T09:53:02.681339Z"
    },
    "tags": []
   },
   "outputs": [],
   "source": [
    "snow_observed_statistic = ...\n",
    "snow_observed_statistic"
   ]
  },
  {
   "cell_type": "code",
   "execution_count": null,
   "id": "8482bcaf",
   "metadata": {
    "deletable": false,
    "editable": false
   },
   "outputs": [],
   "source": [
    "grader.check(\"p3.4\")"
   ]
  },
  {
   "cell_type": "markdown",
   "id": "334ff2d8",
   "metadata": {
    "deletable": false,
    "editable": false
   },
   "source": [
    "<!-- END QUESTION -->\n",
    "\n",
    "#### Part 3.5 Permutation samples (5 pts)\n"
   ]
  },
  {
   "cell_type": "markdown",
   "id": "9f136491",
   "metadata": {
    "deletable": false,
    "editable": false
   },
   "source": [
    "In order to generate samples, we'll use our `permutation_sample` function. Read the documentation for this function and choose the appropriate `group_column_label`. Inspect the table that is the output from `permutation_sample` and make sure it makes sense to you. "
   ]
  },
  {
   "cell_type": "code",
   "execution_count": null,
   "id": "74edcb7c",
   "metadata": {
    "deletable": false,
    "execution": {
     "iopub.execute_input": "2024-11-01T09:53:02.689908Z",
     "iopub.status.busy": "2024-11-01T09:53:02.689608Z",
     "iopub.status.idle": "2024-11-01T09:53:02.699994Z",
     "shell.execute_reply": "2024-11-01T09:53:02.699484Z"
    },
    "tags": []
   },
   "outputs": [],
   "source": [
    "group_column_label = ...\n",
    "sample = permutation_sample(snow, group_column_label)\n",
    "sample"
   ]
  },
  {
   "cell_type": "code",
   "execution_count": null,
   "id": "e585717f",
   "metadata": {
    "deletable": false,
    "editable": false
   },
   "outputs": [],
   "source": [
    "grader.check(\"p3.5\")"
   ]
  },
  {
   "cell_type": "markdown",
   "id": "298ae6f3",
   "metadata": {
    "deletable": false,
    "editable": false
   },
   "source": [
    "<!-- BEGIN QUESTION -->\n",
    "\n",
    "#### Part 3.6 Step D: Simulate samples (5 pts)\n"
   ]
  },
  {
   "cell_type": "markdown",
   "id": "26bf971a",
   "metadata": {
    "deletable": false,
    "editable": false
   },
   "source": [
    "Use `simulate_permutation_statistic` from our inference library to simulate many samples from the null hypothesis. "
   ]
  },
  {
   "cell_type": "markdown",
   "id": "856d6a33",
   "metadata": {
    "deletable": false,
    "editable": false
   },
   "source": [
    "Let's start with just a few trials so we can debug our function. Does the output look reasonable? "
   ]
  },
  {
   "cell_type": "code",
   "execution_count": null,
   "id": "e2978621",
   "metadata": {
    "deletable": false,
    "execution": {
     "iopub.execute_input": "2024-11-01T09:53:02.712428Z",
     "iopub.status.busy": "2024-11-01T09:53:02.712255Z",
     "iopub.status.idle": "2024-11-01T09:53:03.043495Z",
     "shell.execute_reply": "2024-11-01T09:53:03.043021Z"
    },
    "tags": []
   },
   "outputs": [],
   "source": [
    "small_snow_stats = simulate_permutation_statistic(..., ..., ..., 5)\n",
    "small_snow_stats\n"
   ]
  },
  {
   "cell_type": "markdown",
   "id": "00006687",
   "metadata": {
    "deletable": false,
    "editable": false
   },
   "source": [
    "<!-- END QUESTION -->\n",
    "\n",
    "#### Part 3.7 Step D: Simulate Many Samples (5 pts)\n"
   ]
  },
  {
   "cell_type": "markdown",
   "id": "082644c5",
   "metadata": {
    "deletable": false,
    "editable": false
   },
   "source": [
    "Now, run the simulation for 1000 trials (this may take a few minutes to run)."
   ]
  },
  {
   "cell_type": "code",
   "execution_count": null,
   "id": "9e29ac4f",
   "metadata": {
    "deletable": false,
    "execution": {
     "iopub.execute_input": "2024-11-01T09:53:03.046425Z",
     "iopub.status.busy": "2024-11-01T09:53:03.046244Z",
     "iopub.status.idle": "2024-11-01T09:53:59.957774Z",
     "shell.execute_reply": "2024-11-01T09:53:59.957221Z"
    },
    "tags": []
   },
   "outputs": [],
   "source": [
    "snow_simulated_statistics = ..."
   ]
  },
  {
   "cell_type": "code",
   "execution_count": null,
   "id": "bd249871",
   "metadata": {
    "deletable": false,
    "execution": {
     "iopub.execute_input": "2024-11-01T09:53:59.960509Z",
     "iopub.status.busy": "2024-11-01T09:53:59.960264Z",
     "iopub.status.idle": "2024-11-01T09:54:00.192854Z",
     "shell.execute_reply": "2024-11-01T09:54:00.192262Z"
    },
    "tags": []
   },
   "outputs": [],
   "source": [
    "# Run this cell to plot \n",
    "results = Table().with_columns('Test Statistic', snow_simulated_statistics)\n",
    "plot = results.hist()\n",
    "plot.dot(snow_observed_statistic)"
   ]
  },
  {
   "cell_type": "code",
   "execution_count": null,
   "id": "97edbce9",
   "metadata": {
    "deletable": false,
    "editable": false
   },
   "outputs": [],
   "source": [
    "grader.check(\"p3.7\")"
   ]
  },
  {
   "cell_type": "markdown",
   "id": "88e218b0",
   "metadata": {
    "deletable": false,
    "editable": false
   },
   "source": [
    "#### Part 3.8 Step E: Compute p-value (5 pts)\n"
   ]
  },
  {
   "cell_type": "markdown",
   "id": "95dd4c6d",
   "metadata": {
    "deletable": false,
    "editable": false
   },
   "source": [
    "Compute the p-value for your experiment using `empirical_pvalue`. "
   ]
  },
  {
   "cell_type": "code",
   "execution_count": null,
   "id": "5dbc92bd",
   "metadata": {
    "deletable": false,
    "execution": {
     "iopub.execute_input": "2024-11-01T09:54:00.207822Z",
     "iopub.status.busy": "2024-11-01T09:54:00.207574Z",
     "iopub.status.idle": "2024-11-01T09:54:00.211421Z",
     "shell.execute_reply": "2024-11-01T09:54:00.210906Z"
    },
    "tags": []
   },
   "outputs": [],
   "source": [
    "snow_pvalue = ...\n",
    "snow_pvalue"
   ]
  },
  {
   "cell_type": "markdown",
   "id": "f89efb94",
   "metadata": {
    "deletable": false,
    "editable": false
   },
   "source": [
    "<!-- BEGIN QUESTION -->\n",
    "\n",
    "#### Part 3.9 Step F: Draw Conclusion (5 pts)\n"
   ]
  },
  {
   "cell_type": "markdown",
   "id": "f89d1546",
   "metadata": {
    "deletable": false,
    "editable": false
   },
   "source": [
    "State the conclusions of your experiment."
   ]
  },
  {
   "cell_type": "markdown",
   "id": "4fcea549",
   "metadata": {
    "deletable": false,
    "editable": false
   },
   "source": [
    "<hr style=\"margin:0; border: 1px solid #FFBE0A;\"/><font color='#FFBE0A'>Written Answer:</font>"
   ]
  },
  {
   "cell_type": "markdown",
   "id": "efeae8c7",
   "metadata": {
    "deletable": false
   },
   "source": [
    "_Type your answer here, replacing this text._\n"
   ]
  },
  {
   "cell_type": "markdown",
   "id": "f7bae202",
   "metadata": {
    "deletable": false,
    "editable": false
   },
   "source": [
    "<hr style=\"margin:0; border: 1px solid #FFBE0A;\"/>"
   ]
  },
  {
   "cell_type": "markdown",
   "id": "9a5160ab",
   "metadata": {
    "deletable": false,
    "editable": false
   },
   "source": [
    "<!-- END QUESTION -->\n",
    "\n",
    "<hr class=\"m-0\" style=\"border: 3px solid #500082;\"/>\n",
    "\n",
    "# You're Done!\n",
    "Follow these steps to submit your work:\n",
    "* Run the tests and verify that they pass as you expect. \n",
    "* Choose **Save Notebook** from the **File** menu.\n",
    "* **Run the final cell** and click the link below to download the zip file. \n",
    "\n",
    "Once you have downloaded that file, go to [Gradescope](https://www.gradescope.com/) and submit the zip file to \n",
    "the corresponding assignment. For Lab N, the assignment will be called \"Lab N Autograder\".\n",
    "\n",
    "Once you have submitted, your Gradescope assignment should show you passing all the tests you passed in your assignment notebook.\n"
   ]
  },
  {
   "cell_type": "markdown",
   "id": "5b5bb768",
   "metadata": {
    "deletable": false,
    "editable": false
   },
   "source": [
    "## Submission\n",
    "\n",
    "Make sure you have run all cells in your notebook in order before running the cell below, so that all images/graphs appear in the output. The cell below will generate a zip file for you to submit. **Please save before exporting!**"
   ]
  },
  {
   "cell_type": "code",
   "execution_count": null,
   "id": "179ab255",
   "metadata": {
    "deletable": false,
    "editable": false
   },
   "outputs": [],
   "source": [
    "# Save your notebook first, then run this cell to export your submission.\n",
    "grader.export(pdf=False, run_tests=True)"
   ]
  },
  {
   "cell_type": "markdown",
   "id": "8681d7e3",
   "metadata": {},
   "source": [
    " "
   ]
  }
 ],
 "metadata": {
  "kernelspec": {
   "display_name": "Python 3 (ipykernel)",
   "language": "python",
   "name": "python3"
  },
  "language_info": {
   "codemirror_mode": {
    "name": "ipython",
    "version": 3
   },
   "file_extension": ".py",
   "mimetype": "text/x-python",
   "name": "python",
   "nbconvert_exporter": "python",
   "pygments_lexer": "ipython3",
   "version": "3.11.0"
  },
  "otter": {
   "OK_FORMAT": true,
   "tests": {
    "p1.2": {
     "has_hidden": true,
     "name": "p1.2",
     "points": 5,
     "suites": [
      {
       "cases": [
        {
         "code": ">>> check_str('0 <= tt_expected_correct_proportion <= 1', locals())\n",
         "failure_message": "check(0 <= tt_expected_correct_proportion <= 1)",
         "hidden": false,
         "locked": false,
         "submit_only": false,
         "success_message": "check(0 <= tt_expected_correct_proportion <= 1)"
        }
       ],
       "scored": true,
       "setup": "",
       "teardown": "",
       "type": "doctest"
      }
     ]
    },
    "p1.3": {
     "has_hidden": false,
     "name": "p1.3",
     "points": 5,
     "suites": [
      {
       "cases": [
        {
         "code": ">>> check_str('tt_test_statistic(0.5) == 0', locals())\n",
         "failure_message": "check(tt_test_statistic(0.5) == 0)",
         "hidden": false,
         "locked": false,
         "submit_only": false,
         "success_message": "check(tt_test_statistic(0.5) == 0)"
        },
        {
         "code": ">>> check_str('tt_test_statistic(0.4) == approx(0.10)', locals())\n",
         "failure_message": "check(tt_test_statistic(0.4) == approx(0.10))",
         "hidden": false,
         "locked": false,
         "submit_only": false,
         "success_message": "check(tt_test_statistic(0.4) == approx(0.10))"
        },
        {
         "code": ">>> check_str('tt_test_statistic(0.6) == approx(0.10)', locals())\n",
         "failure_message": "check(tt_test_statistic(0.6) == approx(0.10))",
         "hidden": false,
         "locked": false,
         "submit_only": false,
         "success_message": "check(tt_test_statistic(0.6) == approx(0.10))"
        }
       ],
       "scored": true,
       "setup": "",
       "teardown": "",
       "type": "doctest"
      }
     ]
    },
    "p1.4": {
     "has_hidden": true,
     "name": "p1.4",
     "points": 5,
     "suites": [
      {
       "cases": [
        {
         "code": ">>> # FAILED: observed_tt_test_statistic should be a difference of proportions and in the range 0-1.\n>>> check_str('0 <= observed_tt_test_statistic <= 1', locals())\n",
         "failure_message": "check(0 <= observed_tt_test_statistic <= 1)",
         "hidden": false,
         "locked": false,
         "submit_only": false,
         "success_message": "check(0 <= observed_tt_test_statistic <= 1)"
        }
       ],
       "scored": true,
       "setup": "",
       "teardown": "",
       "type": "doctest"
      }
     ]
    },
    "p1.5": {
     "has_hidden": true,
     "name": "p1.5",
     "points": 5,
     "suites": [
      {
       "cases": [
        {
         "code": ">>> check_str('type(tt_null_model_proportions) == np.ndarray', locals())\n",
         "failure_message": "Make sure tt_null_model_proportions is an array.",
         "hidden": false,
         "locked": false,
         "submit_only": false,
         "success_message": "check(type(tt_null_model_proportions) == np.ndarray)"
        },
        {
         "code": ">>> check_str('len(tt_null_model_proportions) == 2', locals())\n",
         "failure_message": "check(len(tt_null_model_proportions) == 2)",
         "hidden": false,
         "locked": false,
         "submit_only": false,
         "success_message": "check(len(tt_null_model_proportions) == 2)"
        },
        {
         "code": ">>> check_str('0 <= tt_null_model_proportions.item(0) <= 1', locals())\n",
         "failure_message": "check(0 <= tt_null_model_proportions.item(0) <= 1)",
         "hidden": false,
         "locked": false,
         "submit_only": false,
         "success_message": "check(0 <= tt_null_model_proportions.item(0) <= 1)"
        },
        {
         "code": ">>> check_str('sum(tt_null_model_proportions) == 1.0', locals())\n",
         "failure_message": "check(sum(tt_null_model_proportions) == 1.0)",
         "hidden": false,
         "locked": false,
         "submit_only": false,
         "success_message": "check(sum(tt_null_model_proportions) == 1.0)"
        }
       ],
       "scored": true,
       "setup": "",
       "teardown": "",
       "type": "doctest"
      }
     ]
    },
    "p1.6": {
     "has_hidden": true,
     "name": "p1.6",
     "points": 5,
     "suites": [
      {
       "cases": [
        {
         "code": ">>> check_str('0 <= one_tt_sample(210) <= 1', locals())\n",
         "failure_message": "Make sure you are returning a proportion between 0 and 1 from your function.",
         "hidden": false,
         "locked": false,
         "submit_only": false,
         "success_message": "check(0 <= one_tt_sample(210) <= 1)"
        }
       ],
       "scored": true,
       "setup": "",
       "teardown": "",
       "type": "doctest"
      }
     ]
    },
    "p1.7": {
     "has_hidden": true,
     "name": "p1.7",
     "points": 5,
     "suites": [
      {
       "cases": [
        {
         "code": ">>> check_str('len(small_tt_test) == 5', locals())\n",
         "failure_message": "check(len(small_tt_test) == 5)",
         "hidden": false,
         "locked": false,
         "submit_only": false,
         "success_message": "check(len(small_tt_test) == 5)"
        },
        {
         "code": ">>> check_str('0 <= small_tt_test <= 1', locals())\n",
         "failure_message": "check(0 <= small_tt_test <= 1)",
         "hidden": false,
         "locked": false,
         "submit_only": false,
         "success_message": "check(0 <= small_tt_test <= 1)"
        }
       ],
       "scored": true,
       "setup": "",
       "teardown": "",
       "type": "doctest"
      }
     ]
    },
    "p1.8": {
     "has_hidden": true,
     "name": "p1.8",
     "points": 5,
     "suites": [
      {
       "cases": [
        {
         "code": ">>> check_str('len(simulated_tt_statistics) == 1000', locals())\n",
         "failure_message": "check(len(simulated_tt_statistics) == 1000)",
         "hidden": false,
         "locked": false,
         "submit_only": false,
         "success_message": "check(len(simulated_tt_statistics) == 1000)"
        }
       ],
       "scored": true,
       "setup": "",
       "teardown": "",
       "type": "doctest"
      }
     ]
    },
    "p1.9": {
     "has_hidden": true,
     "name": "p1.9",
     "points": 5,
     "suites": [
      {
       "cases": [
        {
         "code": ">>> check_str('0 <= tt_p_val <= 1', locals())\n",
         "failure_message": "check(0 <= tt_p_val <= 1)",
         "hidden": false,
         "locked": false,
         "submit_only": false,
         "success_message": "check(0 <= tt_p_val <= 1)"
        }
       ],
       "scored": true,
       "setup": "",
       "teardown": "",
       "type": "doctest"
      }
     ]
    },
    "p2.4": {
     "has_hidden": true,
     "name": "p2.4",
     "points": 5,
     "suites": [
      {
       "cases": [
        {
         "code": ">>> check_str('0 <= observed_covid_test_statistic <= 1', locals())\n",
         "failure_message": "check(0 <= observed_covid_test_statistic <= 1)",
         "hidden": false,
         "locked": false,
         "submit_only": false,
         "success_message": "check(0 <= observed_covid_test_statistic <= 1)"
        }
       ],
       "scored": true,
       "setup": "",
       "teardown": "",
       "type": "doctest"
      }
     ]
    },
    "p2.5": {
     "has_hidden": true,
     "name": "p2.5",
     "points": 5,
     "suites": [
      {
       "cases": [
        {
         "code": ">>> check_str('sum(sampled) == approx(1.0)', locals())\n",
         "failure_message": "check(sum(sampled) == approx(1.0))",
         "hidden": false,
         "locked": false,
         "submit_only": false,
         "success_message": "check(sum(sampled) == approx(1.0))"
        }
       ],
       "scored": true,
       "setup": "",
       "teardown": "",
       "type": "doctest"
      }
     ]
    },
    "p2.6": {
     "has_hidden": true,
     "name": "p2.6",
     "points": 5,
     "suites": [
      {
       "cases": [
        {
         "code": ">>> check_str('len(simulated_covid_test_statistcs) == 10000', locals())\n",
         "failure_message": "check(len(simulated_covid_test_statistcs) == 10000)",
         "hidden": false,
         "locked": false,
         "submit_only": false,
         "success_message": "check(len(simulated_covid_test_statistcs) == 10000)"
        }
       ],
       "scored": true,
       "setup": "",
       "teardown": "",
       "type": "doctest"
      }
     ]
    },
    "p2.7": {
     "has_hidden": true,
     "name": "p2.7",
     "points": 5,
     "suites": [
      {
       "cases": [
        {
         "code": ">>> check_str('0 <= covid_p_value <= 1', locals())\n",
         "failure_message": "check(0 <= covid_p_value <= 1)",
         "hidden": false,
         "locked": false,
         "submit_only": false,
         "success_message": "check(0 <= covid_p_value <= 1)"
        }
       ],
       "scored": true,
       "setup": "",
       "teardown": "",
       "type": "doctest"
      }
     ]
    },
    "p3.3": {
     "has_hidden": false,
     "name": "p3.3",
     "points": 5,
     "suites": [
      {
       "cases": [
        {
         "code": ">>> check_str('data_type in [1,2,3,4]', locals())\n",
         "failure_message": "check(data_type in [1,2,3,4])",
         "hidden": false,
         "locked": false,
         "submit_only": false,
         "success_message": "check(data_type in [1,2,3,4])"
        },
        {
         "code": ">>> check_str('data_type == 4', locals())\n",
         "failure_message": "Try again!",
         "hidden": false,
         "locked": false,
         "submit_only": false,
         "success_message": "check(data_type == 4)"
        }
       ],
       "scored": true,
       "setup": "",
       "teardown": "",
       "type": "doctest"
      }
     ]
    },
    "p3.4": {
     "has_hidden": false,
     "name": "p3.4",
     "points": 0,
     "suites": [
      {
       "cases": [
        {
         "code": ">>> check_str('0.0 <= snow_observed_statistic <= 0.04', locals())\n",
         "failure_message": "check(0.0 <= snow_observed_statistic <= 0.04)",
         "hidden": false,
         "locked": false,
         "submit_only": false,
         "success_message": "check(0.0 <= snow_observed_statistic <= 0.04)"
        }
       ],
       "scored": true,
       "setup": "",
       "teardown": "",
       "type": "doctest"
      }
     ]
    },
    "p3.5": {
     "has_hidden": true,
     "name": "p3.5",
     "points": 5,
     "suites": [
      {
       "cases": [
        {
         "code": ">>> check_str('type(group_column_label) == str', locals())\n",
         "failure_message": "check(type(group_column_label) == str)",
         "hidden": false,
         "locked": false,
         "submit_only": false,
         "success_message": "check(type(group_column_label) == str)"
        }
       ],
       "scored": true,
       "setup": "",
       "teardown": "",
       "type": "doctest"
      }
     ]
    },
    "p3.7": {
     "has_hidden": false,
     "name": "p3.7",
     "points": 5,
     "suites": [
      {
       "cases": [
        {
         "code": ">>> check_str('len(snow_simulated_statistics) == 1000', locals())\n",
         "failure_message": "check(len(snow_simulated_statistics) == 1000)",
         "hidden": false,
         "locked": false,
         "submit_only": false,
         "success_message": "check(len(snow_simulated_statistics) == 1000)"
        },
        {
         "code": ">>> check_str('0 <= np.mean(snow_simulated_statistics) <= 0.01', locals())\n",
         "failure_message": "check(0 <= np.mean(snow_simulated_statistics) <= 0.01)",
         "hidden": false,
         "locked": false,
         "submit_only": false,
         "success_message": "check(0 <= np.mean(snow_simulated_statistics) <= 0.01)"
        }
       ],
       "scored": true,
       "setup": "",
       "teardown": "",
       "type": "doctest"
      }
     ]
    },
    "p3.8": {
     "has_hidden": true,
     "name": "p3.8",
     "points": 5,
     "suites": [
      {
       "cases": [],
       "scored": true,
       "setup": "",
       "teardown": "",
       "type": "doctest"
      }
     ]
    }
   }
  },
  "vscode": {
   "interpreter": {
    "hash": "b181b7ac44b61709e1e9acd3475e041866d62bfe876365f68179fcb4e3bc0c2d"
   }
  },
  "widgets": {
   "application/vnd.jupyter.widget-state+json": {
    "state": {},
    "version_major": 2,
    "version_minor": 0
   }
  }
 },
 "nbformat": 4,
 "nbformat_minor": 5
}
